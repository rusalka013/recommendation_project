{
 "cells": [
  {
   "cell_type": "markdown",
   "metadata": {},
   "source": [
    "# Recommendation System Project based on MovieLens Data.\n",
    "**Authors:** Elena Burlando\n"
   ]
  },
  {
   "cell_type": "markdown",
   "metadata": {},
   "source": [
    "## Overview\n",
    "\n",
    "For this project we will be analizing MovieLens data in order to develop a better performing recommendation system that will generate Top-N recommended movies to a client. \n",
    "\n",
    "The objective: \n",
    " * to develop a Top-N movie recommendations for existing clients with an improved Cumulative Hit Rate (to ~ 0.05) for ratings >= 4.0.  "
   ]
  },
  {
   "cell_type": "markdown",
   "metadata": {},
   "source": [
    "## Business Problem\n",
    "\n",
    "A movie streaming company is looking to fine-tune its recommendation system. After a recent survey and a followed up research it is finding that its current recommendation system is too overwhelming to clients and presents too many options (Top-N = 100) with some that are clearly irrelevant. Low engagement is also indicated by a low Hit Rate (0.01) of top recommenders. \n",
    "\n",
    "One of the main pain points for this project is a lack of active environment (a website) to perform A/B testing which would be the ultimate test for a new system. \n",
    "The second pain point is the lack of implicit data such as munites watched, clicks, browsing history, etc. \n"
   ]
  },
  {
   "cell_type": "markdown",
   "metadata": {
    "ExecuteTime": {
     "end_time": "2022-07-14T00:29:45.421136Z",
     "start_time": "2022-07-14T00:29:45.415725Z"
    }
   },
   "source": [
    "### Data Understanding \n",
    "\n",
    "* [MovieLens small dataset](https://grouplens.org/datasets/movielens/latest/)\n",
    "\n",
    "The dataset 100,000 ratings and 3,600 tag applications applied to 9,000 movies by 600 users. Last updated 9/2018. \n",
    "\n",
    "**Data is broken down into four datasets**: \n",
    " * links: 'movieId', 'imdbId', 'tmdbId'\n",
    " * movies: 'movieId', 'title', 'genres' \n",
    " * ratings: 'userId',  'movieId', 'rating', 'timestamp' \n",
    " * tags: 'userId', 'movieId', 'tag', 'timestamp' \n",
    " \n",
    "***\n",
    "* The target variable is rating.  \n",
    "* The main metric is Cumulative Hit Rate. Other metrics that wil be used are listed below.  \n",
    "* We intend to use Surprise library to test and develop a new Recommendation system.  \n",
    "* For hyper parameter tuning we will use GridSearchCV and RandomizedSearchCV. \n",
    "* We will be following CRISP-DM process for this project. \n",
    "***\n",
    "\n",
    "**Metrics**:\\\n",
    "\\\n",
    "**RMSE:**      Root Mean Squared Error. Lower values mean better accuracy.\\\n",
    "**MAE:**       Mean Absolute Error. Lower values mean better accuracy.\\\n",
    "**HR:**       Hit Rate; how often we are able to recommend a left-out rating. Higher is better.\\\n",
    "**cHR:**       Cumulative Hit Rate; hit rate, confined to ratings above a certain threshold. Higher is better.\\\n",
    "**ARHR:**      Average Reciprocal Hit Rank - Hit rate that takes the ranking into account. Higher is better.\\\n",
    "**Coverage:**  Ratio of users for whom recommendations above a certain threshold exist. Higher is better.\\\n",
    "**Diversity:** 1-S, where S is the average similarity score between every possible pair of recommendations for a given            user. Higher means more diverse.\\\n",
    "**Novelty:**   Average popularity rank of recommended items. Higher means more novel.\n",
    "\n",
    "Above metrics and coding associated with it came from Frank Kane's ['Building Recommender Systems with Machine Learning and AI' course](https://www.linkedin.com/learning/building-recommender-systems-with-machine-learning-and-ai/)\n",
    "\n",
    "***"
   ]
  },
  {
   "cell_type": "code",
   "execution_count": 1,
   "metadata": {
    "ExecuteTime": {
     "end_time": "2022-08-13T19:26:11.774086Z",
     "start_time": "2022-08-13T19:26:10.919927Z"
    }
   },
   "outputs": [],
   "source": [
    "# import libraries\n",
    "\n",
    "import pandas as pd\n",
    "import numpy as np\n",
    "import datetime as dt"
   ]
  },
  {
   "cell_type": "code",
   "execution_count": 2,
   "metadata": {
    "ExecuteTime": {
     "end_time": "2022-08-13T19:26:11.833652Z",
     "start_time": "2022-08-13T19:26:11.776570Z"
    }
   },
   "outputs": [
    {
     "name": "stdout",
     "output_type": "stream",
     "text": [
      "(9742, 3)\n",
      "<class 'pandas.core.frame.DataFrame'>\n",
      "RangeIndex: 9742 entries, 0 to 9741\n",
      "Data columns (total 3 columns):\n",
      " #   Column   Non-Null Count  Dtype  \n",
      "---  ------   --------------  -----  \n",
      " 0   movieId  9742 non-null   int64  \n",
      " 1   imdbId   9742 non-null   int64  \n",
      " 2   tmdbId   9734 non-null   float64\n",
      "dtypes: float64(1), int64(2)\n",
      "memory usage: 228.5 KB\n",
      "None\n"
     ]
    },
    {
     "data": {
      "text/html": [
       "<div>\n",
       "<style scoped>\n",
       "    .dataframe tbody tr th:only-of-type {\n",
       "        vertical-align: middle;\n",
       "    }\n",
       "\n",
       "    .dataframe tbody tr th {\n",
       "        vertical-align: top;\n",
       "    }\n",
       "\n",
       "    .dataframe thead th {\n",
       "        text-align: right;\n",
       "    }\n",
       "</style>\n",
       "<table border=\"1\" class=\"dataframe\">\n",
       "  <thead>\n",
       "    <tr style=\"text-align: right;\">\n",
       "      <th></th>\n",
       "      <th>movieId</th>\n",
       "      <th>imdbId</th>\n",
       "      <th>tmdbId</th>\n",
       "    </tr>\n",
       "  </thead>\n",
       "  <tbody>\n",
       "    <tr>\n",
       "      <th>0</th>\n",
       "      <td>1</td>\n",
       "      <td>114709</td>\n",
       "      <td>862.0</td>\n",
       "    </tr>\n",
       "    <tr>\n",
       "      <th>1</th>\n",
       "      <td>2</td>\n",
       "      <td>113497</td>\n",
       "      <td>8844.0</td>\n",
       "    </tr>\n",
       "    <tr>\n",
       "      <th>2</th>\n",
       "      <td>3</td>\n",
       "      <td>113228</td>\n",
       "      <td>15602.0</td>\n",
       "    </tr>\n",
       "    <tr>\n",
       "      <th>3</th>\n",
       "      <td>4</td>\n",
       "      <td>114885</td>\n",
       "      <td>31357.0</td>\n",
       "    </tr>\n",
       "    <tr>\n",
       "      <th>4</th>\n",
       "      <td>5</td>\n",
       "      <td>113041</td>\n",
       "      <td>11862.0</td>\n",
       "    </tr>\n",
       "  </tbody>\n",
       "</table>\n",
       "</div>"
      ],
      "text/plain": [
       "   movieId  imdbId   tmdbId\n",
       "0        1  114709    862.0\n",
       "1        2  113497   8844.0\n",
       "2        3  113228  15602.0\n",
       "3        4  114885  31357.0\n",
       "4        5  113041  11862.0"
      ]
     },
     "execution_count": 2,
     "metadata": {},
     "output_type": "execute_result"
    }
   ],
   "source": [
    "# links dataset\n",
    "\n",
    "links = pd.read_csv('ml-latest-small/links.csv')\n",
    "print(links.shape)\n",
    "print(links.info())\n",
    "links.head()\n"
   ]
  },
  {
   "cell_type": "code",
   "execution_count": 3,
   "metadata": {
    "ExecuteTime": {
     "end_time": "2022-08-13T19:26:11.876274Z",
     "start_time": "2022-08-13T19:26:11.837951Z"
    }
   },
   "outputs": [
    {
     "name": "stdout",
     "output_type": "stream",
     "text": [
      "(9742, 3)\n",
      "<class 'pandas.core.frame.DataFrame'>\n",
      "RangeIndex: 9742 entries, 0 to 9741\n",
      "Data columns (total 3 columns):\n",
      " #   Column   Non-Null Count  Dtype \n",
      "---  ------   --------------  ----- \n",
      " 0   movieId  9742 non-null   int64 \n",
      " 1   title    9742 non-null   object\n",
      " 2   genres   9742 non-null   object\n",
      "dtypes: int64(1), object(2)\n",
      "memory usage: 228.5+ KB\n",
      "None\n"
     ]
    },
    {
     "data": {
      "text/html": [
       "<div>\n",
       "<style scoped>\n",
       "    .dataframe tbody tr th:only-of-type {\n",
       "        vertical-align: middle;\n",
       "    }\n",
       "\n",
       "    .dataframe tbody tr th {\n",
       "        vertical-align: top;\n",
       "    }\n",
       "\n",
       "    .dataframe thead th {\n",
       "        text-align: right;\n",
       "    }\n",
       "</style>\n",
       "<table border=\"1\" class=\"dataframe\">\n",
       "  <thead>\n",
       "    <tr style=\"text-align: right;\">\n",
       "      <th></th>\n",
       "      <th>movieId</th>\n",
       "      <th>title</th>\n",
       "      <th>genres</th>\n",
       "    </tr>\n",
       "  </thead>\n",
       "  <tbody>\n",
       "    <tr>\n",
       "      <th>0</th>\n",
       "      <td>1</td>\n",
       "      <td>Toy Story (1995)</td>\n",
       "      <td>Adventure|Animation|Children|Comedy|Fantasy</td>\n",
       "    </tr>\n",
       "    <tr>\n",
       "      <th>1</th>\n",
       "      <td>2</td>\n",
       "      <td>Jumanji (1995)</td>\n",
       "      <td>Adventure|Children|Fantasy</td>\n",
       "    </tr>\n",
       "    <tr>\n",
       "      <th>2</th>\n",
       "      <td>3</td>\n",
       "      <td>Grumpier Old Men (1995)</td>\n",
       "      <td>Comedy|Romance</td>\n",
       "    </tr>\n",
       "    <tr>\n",
       "      <th>3</th>\n",
       "      <td>4</td>\n",
       "      <td>Waiting to Exhale (1995)</td>\n",
       "      <td>Comedy|Drama|Romance</td>\n",
       "    </tr>\n",
       "    <tr>\n",
       "      <th>4</th>\n",
       "      <td>5</td>\n",
       "      <td>Father of the Bride Part II (1995)</td>\n",
       "      <td>Comedy</td>\n",
       "    </tr>\n",
       "  </tbody>\n",
       "</table>\n",
       "</div>"
      ],
      "text/plain": [
       "   movieId                               title  \\\n",
       "0        1                    Toy Story (1995)   \n",
       "1        2                      Jumanji (1995)   \n",
       "2        3             Grumpier Old Men (1995)   \n",
       "3        4            Waiting to Exhale (1995)   \n",
       "4        5  Father of the Bride Part II (1995)   \n",
       "\n",
       "                                        genres  \n",
       "0  Adventure|Animation|Children|Comedy|Fantasy  \n",
       "1                   Adventure|Children|Fantasy  \n",
       "2                               Comedy|Romance  \n",
       "3                         Comedy|Drama|Romance  \n",
       "4                                       Comedy  "
      ]
     },
     "execution_count": 3,
     "metadata": {},
     "output_type": "execute_result"
    }
   ],
   "source": [
    "# movies dataset\n",
    "\n",
    "movies = pd.read_csv('ml-latest-small/movies.csv')\n",
    "print(movies.shape)\n",
    "print(movies.info())\n",
    "movies.head()"
   ]
  },
  {
   "cell_type": "code",
   "execution_count": 4,
   "metadata": {
    "ExecuteTime": {
     "end_time": "2022-08-13T19:26:11.954758Z",
     "start_time": "2022-08-13T19:26:11.879610Z"
    },
    "scrolled": true
   },
   "outputs": [
    {
     "name": "stdout",
     "output_type": "stream",
     "text": [
      "(100836, 4)\n",
      "<class 'pandas.core.frame.DataFrame'>\n",
      "RangeIndex: 100836 entries, 0 to 100835\n",
      "Data columns (total 4 columns):\n",
      " #   Column     Non-Null Count   Dtype  \n",
      "---  ------     --------------   -----  \n",
      " 0   userId     100836 non-null  int64  \n",
      " 1   movieId    100836 non-null  int64  \n",
      " 2   rating     100836 non-null  float64\n",
      " 3   timestamp  100836 non-null  int64  \n",
      "dtypes: float64(1), int64(3)\n",
      "memory usage: 3.1 MB\n",
      "None\n"
     ]
    },
    {
     "data": {
      "text/html": [
       "<div>\n",
       "<style scoped>\n",
       "    .dataframe tbody tr th:only-of-type {\n",
       "        vertical-align: middle;\n",
       "    }\n",
       "\n",
       "    .dataframe tbody tr th {\n",
       "        vertical-align: top;\n",
       "    }\n",
       "\n",
       "    .dataframe thead th {\n",
       "        text-align: right;\n",
       "    }\n",
       "</style>\n",
       "<table border=\"1\" class=\"dataframe\">\n",
       "  <thead>\n",
       "    <tr style=\"text-align: right;\">\n",
       "      <th></th>\n",
       "      <th>userId</th>\n",
       "      <th>movieId</th>\n",
       "      <th>rating</th>\n",
       "      <th>timestamp</th>\n",
       "    </tr>\n",
       "  </thead>\n",
       "  <tbody>\n",
       "    <tr>\n",
       "      <th>0</th>\n",
       "      <td>1</td>\n",
       "      <td>1</td>\n",
       "      <td>4.0</td>\n",
       "      <td>964982703</td>\n",
       "    </tr>\n",
       "    <tr>\n",
       "      <th>1</th>\n",
       "      <td>1</td>\n",
       "      <td>3</td>\n",
       "      <td>4.0</td>\n",
       "      <td>964981247</td>\n",
       "    </tr>\n",
       "    <tr>\n",
       "      <th>2</th>\n",
       "      <td>1</td>\n",
       "      <td>6</td>\n",
       "      <td>4.0</td>\n",
       "      <td>964982224</td>\n",
       "    </tr>\n",
       "    <tr>\n",
       "      <th>3</th>\n",
       "      <td>1</td>\n",
       "      <td>47</td>\n",
       "      <td>5.0</td>\n",
       "      <td>964983815</td>\n",
       "    </tr>\n",
       "    <tr>\n",
       "      <th>4</th>\n",
       "      <td>1</td>\n",
       "      <td>50</td>\n",
       "      <td>5.0</td>\n",
       "      <td>964982931</td>\n",
       "    </tr>\n",
       "  </tbody>\n",
       "</table>\n",
       "</div>"
      ],
      "text/plain": [
       "   userId  movieId  rating  timestamp\n",
       "0       1        1     4.0  964982703\n",
       "1       1        3     4.0  964981247\n",
       "2       1        6     4.0  964982224\n",
       "3       1       47     5.0  964983815\n",
       "4       1       50     5.0  964982931"
      ]
     },
     "execution_count": 4,
     "metadata": {},
     "output_type": "execute_result"
    }
   ],
   "source": [
    "# ratings dataset\n",
    "\n",
    "ratings_df = pd.read_csv('ml-latest-small/ratings.csv')\n",
    "print(ratings_df.shape)\n",
    "print(ratings_df.info())\n",
    "ratings_df.head()"
   ]
  },
  {
   "cell_type": "code",
   "execution_count": 5,
   "metadata": {
    "ExecuteTime": {
     "end_time": "2022-08-13T19:26:11.988086Z",
     "start_time": "2022-08-13T19:26:11.958496Z"
    },
    "scrolled": true
   },
   "outputs": [
    {
     "name": "stdout",
     "output_type": "stream",
     "text": [
      "(3683, 4)\n",
      "<class 'pandas.core.frame.DataFrame'>\n",
      "RangeIndex: 3683 entries, 0 to 3682\n",
      "Data columns (total 4 columns):\n",
      " #   Column     Non-Null Count  Dtype \n",
      "---  ------     --------------  ----- \n",
      " 0   userId     3683 non-null   int64 \n",
      " 1   movieId    3683 non-null   int64 \n",
      " 2   tag        3683 non-null   object\n",
      " 3   timestamp  3683 non-null   int64 \n",
      "dtypes: int64(3), object(1)\n",
      "memory usage: 115.2+ KB\n",
      "None\n"
     ]
    },
    {
     "data": {
      "text/html": [
       "<div>\n",
       "<style scoped>\n",
       "    .dataframe tbody tr th:only-of-type {\n",
       "        vertical-align: middle;\n",
       "    }\n",
       "\n",
       "    .dataframe tbody tr th {\n",
       "        vertical-align: top;\n",
       "    }\n",
       "\n",
       "    .dataframe thead th {\n",
       "        text-align: right;\n",
       "    }\n",
       "</style>\n",
       "<table border=\"1\" class=\"dataframe\">\n",
       "  <thead>\n",
       "    <tr style=\"text-align: right;\">\n",
       "      <th></th>\n",
       "      <th>userId</th>\n",
       "      <th>movieId</th>\n",
       "      <th>tag</th>\n",
       "      <th>timestamp</th>\n",
       "    </tr>\n",
       "  </thead>\n",
       "  <tbody>\n",
       "    <tr>\n",
       "      <th>0</th>\n",
       "      <td>2</td>\n",
       "      <td>60756</td>\n",
       "      <td>funny</td>\n",
       "      <td>1445714994</td>\n",
       "    </tr>\n",
       "    <tr>\n",
       "      <th>1</th>\n",
       "      <td>2</td>\n",
       "      <td>60756</td>\n",
       "      <td>Highly quotable</td>\n",
       "      <td>1445714996</td>\n",
       "    </tr>\n",
       "    <tr>\n",
       "      <th>2</th>\n",
       "      <td>2</td>\n",
       "      <td>60756</td>\n",
       "      <td>will ferrell</td>\n",
       "      <td>1445714992</td>\n",
       "    </tr>\n",
       "    <tr>\n",
       "      <th>3</th>\n",
       "      <td>2</td>\n",
       "      <td>89774</td>\n",
       "      <td>Boxing story</td>\n",
       "      <td>1445715207</td>\n",
       "    </tr>\n",
       "    <tr>\n",
       "      <th>4</th>\n",
       "      <td>2</td>\n",
       "      <td>89774</td>\n",
       "      <td>MMA</td>\n",
       "      <td>1445715200</td>\n",
       "    </tr>\n",
       "    <tr>\n",
       "      <th>5</th>\n",
       "      <td>2</td>\n",
       "      <td>89774</td>\n",
       "      <td>Tom Hardy</td>\n",
       "      <td>1445715205</td>\n",
       "    </tr>\n",
       "    <tr>\n",
       "      <th>6</th>\n",
       "      <td>2</td>\n",
       "      <td>106782</td>\n",
       "      <td>drugs</td>\n",
       "      <td>1445715054</td>\n",
       "    </tr>\n",
       "    <tr>\n",
       "      <th>7</th>\n",
       "      <td>2</td>\n",
       "      <td>106782</td>\n",
       "      <td>Leonardo DiCaprio</td>\n",
       "      <td>1445715051</td>\n",
       "    </tr>\n",
       "    <tr>\n",
       "      <th>8</th>\n",
       "      <td>2</td>\n",
       "      <td>106782</td>\n",
       "      <td>Martin Scorsese</td>\n",
       "      <td>1445715056</td>\n",
       "    </tr>\n",
       "    <tr>\n",
       "      <th>9</th>\n",
       "      <td>7</td>\n",
       "      <td>48516</td>\n",
       "      <td>way too long</td>\n",
       "      <td>1169687325</td>\n",
       "    </tr>\n",
       "    <tr>\n",
       "      <th>10</th>\n",
       "      <td>18</td>\n",
       "      <td>431</td>\n",
       "      <td>Al Pacino</td>\n",
       "      <td>1462138765</td>\n",
       "    </tr>\n",
       "    <tr>\n",
       "      <th>11</th>\n",
       "      <td>18</td>\n",
       "      <td>431</td>\n",
       "      <td>gangster</td>\n",
       "      <td>1462138749</td>\n",
       "    </tr>\n",
       "    <tr>\n",
       "      <th>12</th>\n",
       "      <td>18</td>\n",
       "      <td>431</td>\n",
       "      <td>mafia</td>\n",
       "      <td>1462138755</td>\n",
       "    </tr>\n",
       "    <tr>\n",
       "      <th>13</th>\n",
       "      <td>18</td>\n",
       "      <td>1221</td>\n",
       "      <td>Al Pacino</td>\n",
       "      <td>1461699306</td>\n",
       "    </tr>\n",
       "    <tr>\n",
       "      <th>14</th>\n",
       "      <td>18</td>\n",
       "      <td>1221</td>\n",
       "      <td>Mafia</td>\n",
       "      <td>1461699303</td>\n",
       "    </tr>\n",
       "    <tr>\n",
       "      <th>15</th>\n",
       "      <td>18</td>\n",
       "      <td>5995</td>\n",
       "      <td>holocaust</td>\n",
       "      <td>1455735472</td>\n",
       "    </tr>\n",
       "    <tr>\n",
       "      <th>16</th>\n",
       "      <td>18</td>\n",
       "      <td>5995</td>\n",
       "      <td>true story</td>\n",
       "      <td>1455735479</td>\n",
       "    </tr>\n",
       "    <tr>\n",
       "      <th>17</th>\n",
       "      <td>18</td>\n",
       "      <td>44665</td>\n",
       "      <td>twist ending</td>\n",
       "      <td>1456948283</td>\n",
       "    </tr>\n",
       "    <tr>\n",
       "      <th>18</th>\n",
       "      <td>18</td>\n",
       "      <td>52604</td>\n",
       "      <td>Anthony Hopkins</td>\n",
       "      <td>1457650696</td>\n",
       "    </tr>\n",
       "    <tr>\n",
       "      <th>19</th>\n",
       "      <td>18</td>\n",
       "      <td>52604</td>\n",
       "      <td>courtroom drama</td>\n",
       "      <td>1457650711</td>\n",
       "    </tr>\n",
       "    <tr>\n",
       "      <th>20</th>\n",
       "      <td>18</td>\n",
       "      <td>52604</td>\n",
       "      <td>twist ending</td>\n",
       "      <td>1457650682</td>\n",
       "    </tr>\n",
       "    <tr>\n",
       "      <th>21</th>\n",
       "      <td>18</td>\n",
       "      <td>88094</td>\n",
       "      <td>britpop</td>\n",
       "      <td>1457444500</td>\n",
       "    </tr>\n",
       "    <tr>\n",
       "      <th>22</th>\n",
       "      <td>18</td>\n",
       "      <td>88094</td>\n",
       "      <td>indie record label</td>\n",
       "      <td>1457444592</td>\n",
       "    </tr>\n",
       "    <tr>\n",
       "      <th>23</th>\n",
       "      <td>18</td>\n",
       "      <td>88094</td>\n",
       "      <td>music</td>\n",
       "      <td>1457444609</td>\n",
       "    </tr>\n",
       "    <tr>\n",
       "      <th>24</th>\n",
       "      <td>18</td>\n",
       "      <td>144210</td>\n",
       "      <td>dumpster diving</td>\n",
       "      <td>1455060381</td>\n",
       "    </tr>\n",
       "    <tr>\n",
       "      <th>25</th>\n",
       "      <td>18</td>\n",
       "      <td>144210</td>\n",
       "      <td>Sustainability</td>\n",
       "      <td>1455060452</td>\n",
       "    </tr>\n",
       "    <tr>\n",
       "      <th>26</th>\n",
       "      <td>21</td>\n",
       "      <td>1569</td>\n",
       "      <td>romantic comedy</td>\n",
       "      <td>1419805413</td>\n",
       "    </tr>\n",
       "    <tr>\n",
       "      <th>27</th>\n",
       "      <td>21</td>\n",
       "      <td>1569</td>\n",
       "      <td>wedding</td>\n",
       "      <td>1419805419</td>\n",
       "    </tr>\n",
       "    <tr>\n",
       "      <th>28</th>\n",
       "      <td>21</td>\n",
       "      <td>118985</td>\n",
       "      <td>painter</td>\n",
       "      <td>1419805477</td>\n",
       "    </tr>\n",
       "    <tr>\n",
       "      <th>29</th>\n",
       "      <td>21</td>\n",
       "      <td>119141</td>\n",
       "      <td>bloody</td>\n",
       "      <td>1419793962</td>\n",
       "    </tr>\n",
       "  </tbody>\n",
       "</table>\n",
       "</div>"
      ],
      "text/plain": [
       "    userId  movieId                 tag   timestamp\n",
       "0        2    60756               funny  1445714994\n",
       "1        2    60756     Highly quotable  1445714996\n",
       "2        2    60756        will ferrell  1445714992\n",
       "3        2    89774        Boxing story  1445715207\n",
       "4        2    89774                 MMA  1445715200\n",
       "5        2    89774           Tom Hardy  1445715205\n",
       "6        2   106782               drugs  1445715054\n",
       "7        2   106782   Leonardo DiCaprio  1445715051\n",
       "8        2   106782     Martin Scorsese  1445715056\n",
       "9        7    48516        way too long  1169687325\n",
       "10      18      431           Al Pacino  1462138765\n",
       "11      18      431            gangster  1462138749\n",
       "12      18      431               mafia  1462138755\n",
       "13      18     1221           Al Pacino  1461699306\n",
       "14      18     1221               Mafia  1461699303\n",
       "15      18     5995           holocaust  1455735472\n",
       "16      18     5995          true story  1455735479\n",
       "17      18    44665        twist ending  1456948283\n",
       "18      18    52604     Anthony Hopkins  1457650696\n",
       "19      18    52604     courtroom drama  1457650711\n",
       "20      18    52604        twist ending  1457650682\n",
       "21      18    88094             britpop  1457444500\n",
       "22      18    88094  indie record label  1457444592\n",
       "23      18    88094               music  1457444609\n",
       "24      18   144210     dumpster diving  1455060381\n",
       "25      18   144210      Sustainability  1455060452\n",
       "26      21     1569     romantic comedy  1419805413\n",
       "27      21     1569             wedding  1419805419\n",
       "28      21   118985             painter  1419805477\n",
       "29      21   119141              bloody  1419793962"
      ]
     },
     "execution_count": 5,
     "metadata": {},
     "output_type": "execute_result"
    }
   ],
   "source": [
    "# tags dataset\n",
    "\n",
    "tags = pd.read_csv('ml-latest-small/tags.csv')\n",
    "print(tags.shape)\n",
    "print(tags.info())\n",
    "tags.head(30)"
   ]
  },
  {
   "cell_type": "code",
   "execution_count": 6,
   "metadata": {
    "ExecuteTime": {
     "end_time": "2022-08-13T19:26:12.027277Z",
     "start_time": "2022-08-13T19:26:11.990753Z"
    }
   },
   "outputs": [
    {
     "data": {
      "text/html": [
       "<div>\n",
       "<style scoped>\n",
       "    .dataframe tbody tr th:only-of-type {\n",
       "        vertical-align: middle;\n",
       "    }\n",
       "\n",
       "    .dataframe tbody tr th {\n",
       "        vertical-align: top;\n",
       "    }\n",
       "\n",
       "    .dataframe thead th {\n",
       "        text-align: right;\n",
       "    }\n",
       "</style>\n",
       "<table border=\"1\" class=\"dataframe\">\n",
       "  <thead>\n",
       "    <tr style=\"text-align: right;\">\n",
       "      <th></th>\n",
       "      <th>rating</th>\n",
       "      <th>timestamp</th>\n",
       "    </tr>\n",
       "  </thead>\n",
       "  <tbody>\n",
       "    <tr>\n",
       "      <th>count</th>\n",
       "      <td>100836.000000</td>\n",
       "      <td>1.008360e+05</td>\n",
       "    </tr>\n",
       "    <tr>\n",
       "      <th>mean</th>\n",
       "      <td>3.501557</td>\n",
       "      <td>1.205946e+09</td>\n",
       "    </tr>\n",
       "    <tr>\n",
       "      <th>std</th>\n",
       "      <td>1.042529</td>\n",
       "      <td>2.162610e+08</td>\n",
       "    </tr>\n",
       "    <tr>\n",
       "      <th>min</th>\n",
       "      <td>0.500000</td>\n",
       "      <td>8.281246e+08</td>\n",
       "    </tr>\n",
       "    <tr>\n",
       "      <th>25%</th>\n",
       "      <td>3.000000</td>\n",
       "      <td>1.019124e+09</td>\n",
       "    </tr>\n",
       "    <tr>\n",
       "      <th>50%</th>\n",
       "      <td>3.500000</td>\n",
       "      <td>1.186087e+09</td>\n",
       "    </tr>\n",
       "    <tr>\n",
       "      <th>75%</th>\n",
       "      <td>4.000000</td>\n",
       "      <td>1.435994e+09</td>\n",
       "    </tr>\n",
       "    <tr>\n",
       "      <th>max</th>\n",
       "      <td>5.000000</td>\n",
       "      <td>1.537799e+09</td>\n",
       "    </tr>\n",
       "  </tbody>\n",
       "</table>\n",
       "</div>"
      ],
      "text/plain": [
       "              rating     timestamp\n",
       "count  100836.000000  1.008360e+05\n",
       "mean        3.501557  1.205946e+09\n",
       "std         1.042529  2.162610e+08\n",
       "min         0.500000  8.281246e+08\n",
       "25%         3.000000  1.019124e+09\n",
       "50%         3.500000  1.186087e+09\n",
       "75%         4.000000  1.435994e+09\n",
       "max         5.000000  1.537799e+09"
      ]
     },
     "execution_count": 6,
     "metadata": {},
     "output_type": "execute_result"
    }
   ],
   "source": [
    "stats = ratings_df[['rating', 'timestamp']].describe()\n",
    "stats"
   ]
  },
  {
   "cell_type": "code",
   "execution_count": 7,
   "metadata": {
    "ExecuteTime": {
     "end_time": "2022-08-13T19:26:12.034247Z",
     "start_time": "2022-08-13T19:26:12.029872Z"
    }
   },
   "outputs": [
    {
     "name": "stdout",
     "output_type": "stream",
     "text": [
      "1996-03-29 10:36:55\n",
      "2018-09-24 07:27:30\n"
     ]
    }
   ],
   "source": [
    "print(dt.datetime.fromtimestamp(stats.loc['min', 'timestamp']))\n",
    "print(dt.datetime.fromtimestamp(stats.loc['max', 'timestamp']))"
   ]
  },
  {
   "cell_type": "markdown",
   "metadata": {},
   "source": [
    "## EDA "
   ]
  },
  {
   "cell_type": "code",
   "execution_count": 143,
   "metadata": {
    "ExecuteTime": {
     "end_time": "2022-08-15T20:11:42.973753Z",
     "start_time": "2022-08-15T20:11:42.971332Z"
    }
   },
   "outputs": [],
   "source": [
    "import seaborn as sns\n",
    "import matplotlib.pyplot as plt"
   ]
  },
  {
   "cell_type": "code",
   "execution_count": 69,
   "metadata": {
    "ExecuteTime": {
     "end_time": "2022-08-15T06:19:40.499633Z",
     "start_time": "2022-08-15T06:19:40.462848Z"
    },
    "scrolled": true
   },
   "outputs": [
    {
     "data": {
      "text/html": [
       "<div>\n",
       "<style scoped>\n",
       "    .dataframe tbody tr th:only-of-type {\n",
       "        vertical-align: middle;\n",
       "    }\n",
       "\n",
       "    .dataframe tbody tr th {\n",
       "        vertical-align: top;\n",
       "    }\n",
       "\n",
       "    .dataframe thead th {\n",
       "        text-align: right;\n",
       "    }\n",
       "</style>\n",
       "<table border=\"1\" class=\"dataframe\">\n",
       "  <thead>\n",
       "    <tr style=\"text-align: right;\">\n",
       "      <th></th>\n",
       "      <th>userId</th>\n",
       "      <th>movieId</th>\n",
       "      <th>rating</th>\n",
       "      <th>timestamp</th>\n",
       "      <th>title</th>\n",
       "      <th>genres</th>\n",
       "    </tr>\n",
       "  </thead>\n",
       "  <tbody>\n",
       "    <tr>\n",
       "      <th>0</th>\n",
       "      <td>1</td>\n",
       "      <td>1</td>\n",
       "      <td>4.0</td>\n",
       "      <td>964982703</td>\n",
       "      <td>Toy Story (1995)</td>\n",
       "      <td>Adventure|Animation|Children|Comedy|Fantasy</td>\n",
       "    </tr>\n",
       "    <tr>\n",
       "      <th>1</th>\n",
       "      <td>5</td>\n",
       "      <td>1</td>\n",
       "      <td>4.0</td>\n",
       "      <td>847434962</td>\n",
       "      <td>Toy Story (1995)</td>\n",
       "      <td>Adventure|Animation|Children|Comedy|Fantasy</td>\n",
       "    </tr>\n",
       "    <tr>\n",
       "      <th>2</th>\n",
       "      <td>7</td>\n",
       "      <td>1</td>\n",
       "      <td>4.5</td>\n",
       "      <td>1106635946</td>\n",
       "      <td>Toy Story (1995)</td>\n",
       "      <td>Adventure|Animation|Children|Comedy|Fantasy</td>\n",
       "    </tr>\n",
       "    <tr>\n",
       "      <th>3</th>\n",
       "      <td>15</td>\n",
       "      <td>1</td>\n",
       "      <td>2.5</td>\n",
       "      <td>1510577970</td>\n",
       "      <td>Toy Story (1995)</td>\n",
       "      <td>Adventure|Animation|Children|Comedy|Fantasy</td>\n",
       "    </tr>\n",
       "    <tr>\n",
       "      <th>4</th>\n",
       "      <td>17</td>\n",
       "      <td>1</td>\n",
       "      <td>4.5</td>\n",
       "      <td>1305696483</td>\n",
       "      <td>Toy Story (1995)</td>\n",
       "      <td>Adventure|Animation|Children|Comedy|Fantasy</td>\n",
       "    </tr>\n",
       "    <tr>\n",
       "      <th>...</th>\n",
       "      <td>...</td>\n",
       "      <td>...</td>\n",
       "      <td>...</td>\n",
       "      <td>...</td>\n",
       "      <td>...</td>\n",
       "      <td>...</td>\n",
       "    </tr>\n",
       "    <tr>\n",
       "      <th>100831</th>\n",
       "      <td>610</td>\n",
       "      <td>160341</td>\n",
       "      <td>2.5</td>\n",
       "      <td>1479545749</td>\n",
       "      <td>Bloodmoon (1997)</td>\n",
       "      <td>Action|Thriller</td>\n",
       "    </tr>\n",
       "    <tr>\n",
       "      <th>100832</th>\n",
       "      <td>610</td>\n",
       "      <td>160527</td>\n",
       "      <td>4.5</td>\n",
       "      <td>1479544998</td>\n",
       "      <td>Sympathy for the Underdog (1971)</td>\n",
       "      <td>Action|Crime|Drama</td>\n",
       "    </tr>\n",
       "    <tr>\n",
       "      <th>100833</th>\n",
       "      <td>610</td>\n",
       "      <td>160836</td>\n",
       "      <td>3.0</td>\n",
       "      <td>1493844794</td>\n",
       "      <td>Hazard (2005)</td>\n",
       "      <td>Action|Drama|Thriller</td>\n",
       "    </tr>\n",
       "    <tr>\n",
       "      <th>100834</th>\n",
       "      <td>610</td>\n",
       "      <td>163937</td>\n",
       "      <td>3.5</td>\n",
       "      <td>1493848789</td>\n",
       "      <td>Blair Witch (2016)</td>\n",
       "      <td>Horror|Thriller</td>\n",
       "    </tr>\n",
       "    <tr>\n",
       "      <th>100835</th>\n",
       "      <td>610</td>\n",
       "      <td>163981</td>\n",
       "      <td>3.5</td>\n",
       "      <td>1493850155</td>\n",
       "      <td>31 (2016)</td>\n",
       "      <td>Horror</td>\n",
       "    </tr>\n",
       "  </tbody>\n",
       "</table>\n",
       "<p>100836 rows × 6 columns</p>\n",
       "</div>"
      ],
      "text/plain": [
       "        userId  movieId  rating   timestamp                             title  \\\n",
       "0            1        1     4.0   964982703                  Toy Story (1995)   \n",
       "1            5        1     4.0   847434962                  Toy Story (1995)   \n",
       "2            7        1     4.5  1106635946                  Toy Story (1995)   \n",
       "3           15        1     2.5  1510577970                  Toy Story (1995)   \n",
       "4           17        1     4.5  1305696483                  Toy Story (1995)   \n",
       "...        ...      ...     ...         ...                               ...   \n",
       "100831     610   160341     2.5  1479545749                  Bloodmoon (1997)   \n",
       "100832     610   160527     4.5  1479544998  Sympathy for the Underdog (1971)   \n",
       "100833     610   160836     3.0  1493844794                     Hazard (2005)   \n",
       "100834     610   163937     3.5  1493848789                Blair Witch (2016)   \n",
       "100835     610   163981     3.5  1493850155                         31 (2016)   \n",
       "\n",
       "                                             genres  \n",
       "0       Adventure|Animation|Children|Comedy|Fantasy  \n",
       "1       Adventure|Animation|Children|Comedy|Fantasy  \n",
       "2       Adventure|Animation|Children|Comedy|Fantasy  \n",
       "3       Adventure|Animation|Children|Comedy|Fantasy  \n",
       "4       Adventure|Animation|Children|Comedy|Fantasy  \n",
       "...                                             ...  \n",
       "100831                              Action|Thriller  \n",
       "100832                           Action|Crime|Drama  \n",
       "100833                        Action|Drama|Thriller  \n",
       "100834                              Horror|Thriller  \n",
       "100835                                       Horror  \n",
       "\n",
       "[100836 rows x 6 columns]"
      ]
     },
     "execution_count": 69,
     "metadata": {},
     "output_type": "execute_result"
    }
   ],
   "source": [
    "rating_movie_df = pd.merge(ratings_df, movies, on = 'movieId', how = 'inner')\n",
    "rating_movie_df"
   ]
  },
  {
   "cell_type": "code",
   "execution_count": 57,
   "metadata": {
    "ExecuteTime": {
     "end_time": "2022-08-15T05:46:57.018255Z",
     "start_time": "2022-08-15T05:46:57.006215Z"
    }
   },
   "outputs": [],
   "source": [
    "# Ratings distribution\n",
    "\n",
    "rating_dist = ratings_df['rating'].value_counts().sort_index(ascending=False)"
   ]
  },
  {
   "cell_type": "code",
   "execution_count": 153,
   "metadata": {
    "ExecuteTime": {
     "end_time": "2022-08-15T20:25:12.342235Z",
     "start_time": "2022-08-15T20:25:11.763329Z"
    }
   },
   "outputs": [
    {
     "data": {
      "image/png": "[encoded data removed]",
      "text/plain": [
       "<Figure size 360x360 with 1 Axes>"
      ]
     },
     "metadata": {
      "needs_background": "light"
     },
     "output_type": "display_data"
    }
   ],
   "source": [
    "# Creating a bar plot\n",
    "ax = sns.catplot(data = ratings_df,\n",
    "                kind = 'count',\n",
    "                x = 'rating', \n",
    "                color = 'coral'\n",
    "               )\n",
    "\n",
    "ax.despine(left=True)\n",
    "ax.set_axis_labels('Rating', 'Count')\n",
    "ax.fig.suptitle('Rating Distribution')\n",
    "ax.savefig('Visuals/Rating_Distribution.png', bbox_inches='tight', dpi=600);"
   ]
  },
  {
   "cell_type": "code",
   "execution_count": 71,
   "metadata": {
    "ExecuteTime": {
     "end_time": "2022-08-15T06:22:28.363795Z",
     "start_time": "2022-08-15T06:22:28.342158Z"
    }
   },
   "outputs": [],
   "source": [
    "# Ratings distribution by movie\n",
    "rating_dist_movie = rating_movie_df.groupby('title')['rating'].count()"
   ]
  },
  {
   "cell_type": "code",
   "execution_count": 72,
   "metadata": {
    "ExecuteTime": {
     "end_time": "2022-08-15T06:23:07.582274Z",
     "start_time": "2022-08-15T06:23:07.576548Z"
    }
   },
   "outputs": [
    {
     "data": {
      "text/plain": [
       "title\n",
       "'71 (2014)                                    1\n",
       "'Hellboy': The Seeds of Creation (2004)       1\n",
       "'Round Midnight (1986)                        2\n",
       "'Salem's Lot (2004)                           1\n",
       "'Til There Was You (1997)                     2\n",
       "                                             ..\n",
       "eXistenZ (1999)                              22\n",
       "xXx (2002)                                   24\n",
       "xXx: State of the Union (2005)                5\n",
       "¡Three Amigos! (1986)                        26\n",
       "À nous la liberté (Freedom for Us) (1931)     1\n",
       "Name: rating, Length: 9719, dtype: int64"
      ]
     },
     "execution_count": 72,
     "metadata": {},
     "output_type": "execute_result"
    }
   ],
   "source": [
    "rating_dist_movie"
   ]
  },
  {
   "cell_type": "code",
   "execution_count": 161,
   "metadata": {
    "ExecuteTime": {
     "end_time": "2022-08-15T21:57:56.762514Z",
     "start_time": "2022-08-15T21:57:56.751641Z"
    },
    "scrolled": true
   },
   "outputs": [
    {
     "data": {
      "text/html": [
       "<div>\n",
       "<style scoped>\n",
       "    .dataframe tbody tr th:only-of-type {\n",
       "        vertical-align: middle;\n",
       "    }\n",
       "\n",
       "    .dataframe tbody tr th {\n",
       "        vertical-align: top;\n",
       "    }\n",
       "\n",
       "    .dataframe thead th {\n",
       "        text-align: right;\n",
       "    }\n",
       "</style>\n",
       "<table border=\"1\" class=\"dataframe\">\n",
       "  <thead>\n",
       "    <tr style=\"text-align: right;\">\n",
       "      <th></th>\n",
       "      <th>title</th>\n",
       "      <th>rating</th>\n",
       "    </tr>\n",
       "  </thead>\n",
       "  <tbody>\n",
       "    <tr>\n",
       "      <th>3158</th>\n",
       "      <td>Forrest Gump (1994)</td>\n",
       "      <td>329</td>\n",
       "    </tr>\n",
       "    <tr>\n",
       "      <th>7593</th>\n",
       "      <td>Shawshank Redemption, The (1994)</td>\n",
       "      <td>317</td>\n",
       "    </tr>\n",
       "    <tr>\n",
       "      <th>6865</th>\n",
       "      <td>Pulp Fiction (1994)</td>\n",
       "      <td>307</td>\n",
       "    </tr>\n",
       "    <tr>\n",
       "      <th>7680</th>\n",
       "      <td>Silence of the Lambs, The (1991)</td>\n",
       "      <td>279</td>\n",
       "    </tr>\n",
       "    <tr>\n",
       "      <th>5512</th>\n",
       "      <td>Matrix, The (1999)</td>\n",
       "      <td>278</td>\n",
       "    </tr>\n",
       "    <tr>\n",
       "      <th>8001</th>\n",
       "      <td>Star Wars: Episode IV - A New Hope (1977)</td>\n",
       "      <td>251</td>\n",
       "    </tr>\n",
       "    <tr>\n",
       "      <th>4662</th>\n",
       "      <td>Jurassic Park (1993)</td>\n",
       "      <td>238</td>\n",
       "    </tr>\n",
       "    <tr>\n",
       "      <th>1337</th>\n",
       "      <td>Braveheart (1995)</td>\n",
       "      <td>237</td>\n",
       "    </tr>\n",
       "    <tr>\n",
       "      <th>8363</th>\n",
       "      <td>Terminator 2: Judgment Day (1991)</td>\n",
       "      <td>224</td>\n",
       "    </tr>\n",
       "    <tr>\n",
       "      <th>7421</th>\n",
       "      <td>Schindler's List (1993)</td>\n",
       "      <td>220</td>\n",
       "    </tr>\n",
       "    <tr>\n",
       "      <th>3011</th>\n",
       "      <td>Fight Club (1999)</td>\n",
       "      <td>218</td>\n",
       "    </tr>\n",
       "    <tr>\n",
       "      <th>8871</th>\n",
       "      <td>Toy Story (1995)</td>\n",
       "      <td>215</td>\n",
       "    </tr>\n",
       "    <tr>\n",
       "      <th>8002</th>\n",
       "      <td>Star Wars: Episode V - The Empire Strikes Back (1980)</td>\n",
       "      <td>211</td>\n",
       "    </tr>\n",
       "    <tr>\n",
       "      <th>9119</th>\n",
       "      <td>Usual Suspects, The (1995)</td>\n",
       "      <td>204</td>\n",
       "    </tr>\n",
       "    <tr>\n",
       "      <th>405</th>\n",
       "      <td>American Beauty (1999)</td>\n",
       "      <td>204</td>\n",
       "    </tr>\n",
       "    <tr>\n",
       "      <th>7523</th>\n",
       "      <td>Seven (a.k.a. Se7en) (1995)</td>\n",
       "      <td>203</td>\n",
       "    </tr>\n",
       "    <tr>\n",
       "      <th>4337</th>\n",
       "      <td>Independence Day (a.k.a. ID4) (1996)</td>\n",
       "      <td>202</td>\n",
       "    </tr>\n",
       "    <tr>\n",
       "      <th>565</th>\n",
       "      <td>Apollo 13 (1995)</td>\n",
       "      <td>201</td>\n",
       "    </tr>\n",
       "    <tr>\n",
       "      <th>6944</th>\n",
       "      <td>Raiders of the Lost Ark (Indiana Jones and the Raiders of the Lost Ark) (1981)</td>\n",
       "      <td>200</td>\n",
       "    </tr>\n",
       "    <tr>\n",
       "      <th>5204</th>\n",
       "      <td>Lord of the Rings: The Fellowship of the Ring, The (2001)</td>\n",
       "      <td>198</td>\n",
       "    </tr>\n",
       "  </tbody>\n",
       "</table>\n",
       "</div>"
      ],
      "text/plain": [
       "                                                                               title  \\\n",
       "3158                                                             Forrest Gump (1994)   \n",
       "7593                                                Shawshank Redemption, The (1994)   \n",
       "6865                                                             Pulp Fiction (1994)   \n",
       "7680                                                Silence of the Lambs, The (1991)   \n",
       "5512                                                              Matrix, The (1999)   \n",
       "8001                                       Star Wars: Episode IV - A New Hope (1977)   \n",
       "4662                                                            Jurassic Park (1993)   \n",
       "1337                                                               Braveheart (1995)   \n",
       "8363                                               Terminator 2: Judgment Day (1991)   \n",
       "7421                                                         Schindler's List (1993)   \n",
       "3011                                                               Fight Club (1999)   \n",
       "8871                                                                Toy Story (1995)   \n",
       "8002                           Star Wars: Episode V - The Empire Strikes Back (1980)   \n",
       "9119                                                      Usual Suspects, The (1995)   \n",
       "405                                                           American Beauty (1999)   \n",
       "7523                                                     Seven (a.k.a. Se7en) (1995)   \n",
       "4337                                            Independence Day (a.k.a. ID4) (1996)   \n",
       "565                                                                 Apollo 13 (1995)   \n",
       "6944  Raiders of the Lost Ark (Indiana Jones and the Raiders of the Lost Ark) (1981)   \n",
       "5204                       Lord of the Rings: The Fellowship of the Ring, The (2001)   \n",
       "\n",
       "      rating  \n",
       "3158     329  \n",
       "7593     317  \n",
       "6865     307  \n",
       "7680     279  \n",
       "5512     278  \n",
       "8001     251  \n",
       "4662     238  \n",
       "1337     237  \n",
       "8363     224  \n",
       "7421     220  \n",
       "3011     218  \n",
       "8871     215  \n",
       "8002     211  \n",
       "9119     204  \n",
       "405      204  \n",
       "7523     203  \n",
       "4337     202  \n",
       "565      201  \n",
       "6944     200  \n",
       "5204     198  "
      ]
     },
     "execution_count": 161,
     "metadata": {},
     "output_type": "execute_result"
    }
   ],
   "source": [
    "top_20_movies = rating_dist_movie.reset_index().sort_values('rating', ascending = False)[:20]\n",
    "top_20_movies"
   ]
  },
  {
   "cell_type": "code",
   "execution_count": 167,
   "metadata": {
    "ExecuteTime": {
     "end_time": "2022-08-15T22:08:13.915690Z",
     "start_time": "2022-08-15T22:08:12.653071Z"
    }
   },
   "outputs": [
    {
     "name": "stderr",
     "output_type": "stream",
     "text": [
      "/Users/elenaburlando/opt/anaconda3/envs/learn-env/lib/python3.8/site-packages/seaborn/axisgrid.py:64: UserWarning: Tight layout not applied. The left and right margins cannot be made large enough to accommodate all axes decorations. \n",
      "  self.fig.tight_layout(*args, **kwargs)\n"
     ]
    },
    {
     "data": {
      "image/png": "[encoded data removed]",
      "text/plain": [
       "<Figure size 360x360 with 1 Axes>"
      ]
     },
     "metadata": {
      "needs_background": "light"
     },
     "output_type": "display_data"
    }
   ],
   "source": [
    "# Creating a bar plot\n",
    "ax = sns.catplot(data = top_20_movies,\n",
    "                 kind = 'bar',\n",
    "                 x = 'rating',\n",
    "                 y = 'title', \n",
    "                 color = 'coral'\n",
    "                )\n",
    "\n",
    "ax.despine(left=True)\n",
    "ax.set_axis_labels('Number of Ratings', 'Movie Title')\n",
    "ax.fig.suptitle('Ratings Distribution by Movie', verticalalignment = 'center')\n",
    "ax.savefig('Visuals/Ratings_dist_by_movie.png', bbox_inches='tight', dpi=600);\n"
   ]
  },
  {
   "cell_type": "code",
   "execution_count": 189,
   "metadata": {
    "ExecuteTime": {
     "end_time": "2022-08-16T16:45:26.391171Z",
     "start_time": "2022-08-16T16:45:26.386807Z"
    }
   },
   "outputs": [],
   "source": [
    "# Ratings distribution by user\n",
    "rating_dist_user = ratings_df.groupby('userId')['rating'].count()"
   ]
  },
  {
   "cell_type": "code",
   "execution_count": 195,
   "metadata": {
    "ExecuteTime": {
     "end_time": "2022-08-16T21:41:56.601115Z",
     "start_time": "2022-08-16T21:41:56.590616Z"
    },
    "scrolled": false
   },
   "outputs": [
    {
     "data": {
      "text/html": [
       "<div>\n",
       "<style scoped>\n",
       "    .dataframe tbody tr th:only-of-type {\n",
       "        vertical-align: middle;\n",
       "    }\n",
       "\n",
       "    .dataframe tbody tr th {\n",
       "        vertical-align: top;\n",
       "    }\n",
       "\n",
       "    .dataframe thead th {\n",
       "        text-align: right;\n",
       "    }\n",
       "</style>\n",
       "<table border=\"1\" class=\"dataframe\">\n",
       "  <thead>\n",
       "    <tr style=\"text-align: right;\">\n",
       "      <th></th>\n",
       "      <th>userId</th>\n",
       "      <th>rating</th>\n",
       "    </tr>\n",
       "  </thead>\n",
       "  <tbody>\n",
       "    <tr>\n",
       "      <th>413</th>\n",
       "      <td>414</td>\n",
       "      <td>2698</td>\n",
       "    </tr>\n",
       "    <tr>\n",
       "      <th>598</th>\n",
       "      <td>599</td>\n",
       "      <td>2478</td>\n",
       "    </tr>\n",
       "    <tr>\n",
       "      <th>473</th>\n",
       "      <td>474</td>\n",
       "      <td>2108</td>\n",
       "    </tr>\n",
       "    <tr>\n",
       "      <th>447</th>\n",
       "      <td>448</td>\n",
       "      <td>1864</td>\n",
       "    </tr>\n",
       "    <tr>\n",
       "      <th>273</th>\n",
       "      <td>274</td>\n",
       "      <td>1346</td>\n",
       "    </tr>\n",
       "    <tr>\n",
       "      <th>609</th>\n",
       "      <td>610</td>\n",
       "      <td>1302</td>\n",
       "    </tr>\n",
       "    <tr>\n",
       "      <th>67</th>\n",
       "      <td>68</td>\n",
       "      <td>1260</td>\n",
       "    </tr>\n",
       "    <tr>\n",
       "      <th>379</th>\n",
       "      <td>380</td>\n",
       "      <td>1218</td>\n",
       "    </tr>\n",
       "    <tr>\n",
       "      <th>605</th>\n",
       "      <td>606</td>\n",
       "      <td>1115</td>\n",
       "    </tr>\n",
       "    <tr>\n",
       "      <th>287</th>\n",
       "      <td>288</td>\n",
       "      <td>1055</td>\n",
       "    </tr>\n",
       "  </tbody>\n",
       "</table>\n",
       "</div>"
      ],
      "text/plain": [
       "     userId  rating\n",
       "413     414    2698\n",
       "598     599    2478\n",
       "473     474    2108\n",
       "447     448    1864\n",
       "273     274    1346\n",
       "609     610    1302\n",
       "67       68    1260\n",
       "379     380    1218\n",
       "605     606    1115\n",
       "287     288    1055"
      ]
     },
     "execution_count": 195,
     "metadata": {},
     "output_type": "execute_result"
    }
   ],
   "source": [
    "top_rating_users = rating_dist_user.reset_index().sort_values('rating', ascending = False)\n",
    "top_rating_users[:10]"
   ]
  },
  {
   "cell_type": "code",
   "execution_count": 154,
   "metadata": {
    "ExecuteTime": {
     "end_time": "2022-08-15T20:26:32.961221Z",
     "start_time": "2022-08-15T20:26:32.952982Z"
    },
    "scrolled": true
   },
   "outputs": [
    {
     "data": {
      "text/html": [
       "<div>\n",
       "<style scoped>\n",
       "    .dataframe tbody tr th:only-of-type {\n",
       "        vertical-align: middle;\n",
       "    }\n",
       "\n",
       "    .dataframe tbody tr th {\n",
       "        vertical-align: top;\n",
       "    }\n",
       "\n",
       "    .dataframe thead th {\n",
       "        text-align: right;\n",
       "    }\n",
       "</style>\n",
       "<table border=\"1\" class=\"dataframe\">\n",
       "  <thead>\n",
       "    <tr style=\"text-align: right;\">\n",
       "      <th></th>\n",
       "      <th>userId</th>\n",
       "      <th>rating</th>\n",
       "    </tr>\n",
       "  </thead>\n",
       "  <tbody>\n",
       "    <tr>\n",
       "      <th>146</th>\n",
       "      <td>147</td>\n",
       "      <td>20</td>\n",
       "    </tr>\n",
       "    <tr>\n",
       "      <th>256</th>\n",
       "      <td>257</td>\n",
       "      <td>20</td>\n",
       "    </tr>\n",
       "    <tr>\n",
       "      <th>405</th>\n",
       "      <td>406</td>\n",
       "      <td>20</td>\n",
       "    </tr>\n",
       "    <tr>\n",
       "      <th>430</th>\n",
       "      <td>431</td>\n",
       "      <td>20</td>\n",
       "    </tr>\n",
       "    <tr>\n",
       "      <th>277</th>\n",
       "      <td>278</td>\n",
       "      <td>20</td>\n",
       "    </tr>\n",
       "    <tr>\n",
       "      <th>441</th>\n",
       "      <td>442</td>\n",
       "      <td>20</td>\n",
       "    </tr>\n",
       "    <tr>\n",
       "      <th>568</th>\n",
       "      <td>569</td>\n",
       "      <td>20</td>\n",
       "    </tr>\n",
       "    <tr>\n",
       "      <th>319</th>\n",
       "      <td>320</td>\n",
       "      <td>20</td>\n",
       "    </tr>\n",
       "    <tr>\n",
       "      <th>575</th>\n",
       "      <td>576</td>\n",
       "      <td>20</td>\n",
       "    </tr>\n",
       "  </tbody>\n",
       "</table>\n",
       "</div>"
      ],
      "text/plain": [
       "     userId  rating\n",
       "146     147      20\n",
       "256     257      20\n",
       "405     406      20\n",
       "430     431      20\n",
       "277     278      20\n",
       "441     442      20\n",
       "568     569      20\n",
       "319     320      20\n",
       "575     576      20"
      ]
     },
     "execution_count": 154,
     "metadata": {},
     "output_type": "execute_result"
    }
   ],
   "source": [
    "# Least # of ratings per user\n",
    "top_rating_users[-10:-1]"
   ]
  },
  {
   "cell_type": "code",
   "execution_count": 199,
   "metadata": {
    "ExecuteTime": {
     "end_time": "2022-08-16T22:03:13.440116Z",
     "start_time": "2022-08-16T22:03:12.744970Z"
    }
   },
   "outputs": [
    {
     "data": {
      "image/png": "[encoded data removed]",
      "text/plain": [
       "<Figure size 360x360 with 1 Axes>"
      ]
     },
     "metadata": {
      "needs_background": "light"
     },
     "output_type": "display_data"
    }
   ],
   "source": [
    "# Creating a bar plot\n",
    "ax = sns.displot(data = top_rating_users,\n",
    "                 x = 'rating', \n",
    "                 color = 'coral'\n",
    "                )\n",
    "\n",
    "ax.despine(left=True)\n",
    "ax.set_axis_labels('Number of Ratings', 'Count')\n",
    "ax.fig.suptitle('Ratings Distribution by User', verticalalignment = 'center')\n",
    "ax.savefig('Visuals/Ratings_dist_by_user.png', bbox_inches='tight', dpi=600);\n"
   ]
  },
  {
   "cell_type": "markdown",
   "metadata": {},
   "source": [
    "## Modeling"
   ]
  },
  {
   "cell_type": "markdown",
   "metadata": {},
   "source": [
    "### Popularity-based \n",
    "- normal \n",
    "- weighted\n",
    "\n",
    "For this project we will only do normal popularity-based filter. \n"
   ]
  },
  {
   "cell_type": "code",
   "execution_count": 8,
   "metadata": {
    "ExecuteTime": {
     "end_time": "2022-08-13T19:26:12.047604Z",
     "start_time": "2022-08-13T19:26:12.042763Z"
    }
   },
   "outputs": [],
   "source": [
    "import os\n",
    "import csv\n",
    "import sys\n",
    "import re\n",
    "\n",
    "from collections import defaultdict\n",
    "import numpy as np\n",
    "\n",
    "# datasets\n",
    "ratingsPath = 'ml-latest-small/ratings.csv'\n",
    "moviesPath = 'ml-latest-small/movies.csv'"
   ]
  },
  {
   "cell_type": "code",
   "execution_count": 9,
   "metadata": {
    "ExecuteTime": {
     "end_time": "2022-08-13T19:26:12.247117Z",
     "start_time": "2022-08-13T19:26:12.052526Z"
    }
   },
   "outputs": [
    {
     "name": "stdout",
     "output_type": "stream",
     "text": [
      "defaultdict(<class 'int'>, {356: 1, 318: 2, 296: 3, 593: 4, 2571: 5, 260: 6, 480: 7, 110: 8, 589: 9, 527: 10, 2959: 11, 1: 12, 1196: 13, 50: 14, 2858: 15, 47: 16, 780: 17, 150: 18, 1198: 19, 4993: 20, 1210: 21, 858: 22, 457: 23, 592: 24, 2028: 25, 5952: 26, 7153: 27, 588: 28, 608: 29, 2762: 30, 380: 31, 32: 32, 364: 33, 1270: 34, 377: 35, 3578: 36, 4306: 37, 1580: 38, 590: 39, 648: 40, 344: 41, 4226: 42, 367: 43, 58559: 44, 6539: 45, 1214: 46, 595: 47, 1036: 48, 500: 49, 165: 50, 1265: 51, 79132: 52, 1197: 53, 1704: 54, 6377: 55, 316: 56, 1291: 57, 2628: 58, 1721: 59, 153: 60, 1136: 61, 597: 62, 231: 63, 3793: 64, 293: 65, 1193: 66, 10: 67, 4886: 68, 1089: 69, 1240: 70, 6874: 71, 7361: 72, 2329: 73, 1221: 74, 34: 75, 1213: 76, 1200: 77, 1682: 78, 8961: 79, 541: 80, 736: 81, 4995: 82, 1097: 83, 5349: 84, 733: 85, 2683: 86, 1206: 87, 2716: 88, 5445: 89, 4973: 90, 1073: 91, 4963: 92, 33794: 93, 586: 94, 1527: 95, 208: 96, 587: 97, 5989: 98, 1968: 99, 185: 100, 5418: 101, 3147: 102, 349: 103, 3996: 104, 2: 105, 7438: 106, 1258: 107, 253: 108, 924: 109, 4878: 110, 2918: 111, 2115: 112, 329: 113, 1208: 114, 48516: 115, 4896: 116, 1732: 117, 539: 118, 1923: 119, 68954: 120, 223: 121, 39: 122, 60069: 123, 111: 124, 357: 125, 161: 126, 2706: 127, 6: 128, 1222: 129, 5816: 130, 778: 131, 292: 132, 434: 133, 454: 134, 1517: 135, 912: 136, 4022: 137, 44191: 138, 2997: 139, 104: 140, 339: 141, 1617: 142, 2987: 143, 750: 144, 3114: 145, 72998: 146, 3949: 147, 1784: 148, 6365: 149, 1961: 150, 2502: 151, 4027: 152, 59315: 153, 8368: 154, 4011: 155, 551: 156, 919: 157, 288: 158, 1917: 159, 5378: 160, 8360: 161, 2355: 162, 2396: 163, 2174: 164, 2797: 165, 1259: 166, 1356: 167, 3948: 168, 1387: 169, 1610: 170, 48780: 171, 1080: 172, 21: 173, 2012: 174, 2916: 175, 68157: 176, 2324: 177, 19: 178, 2617: 179, 2791: 180, 5618: 181, 2011: 182, 1391: 183, 141: 184, 1246: 185, 1653: 186, 5218: 187, 1307: 188, 1393: 189, 1220: 190, 904: 191, 410: 192, 95: 193, 32587: 194, 1219: 195, 3897: 196, 1101: 197, 16: 198, 1584: 199, 788: 200, 300: 201, 317: 202, 49272: 203, 54286: 204, 48394: 205, 442: 206, 1676: 207, 2291: 208, 62: 209, 51662: 210, 3052: 211, 6934: 212, 8636: 213, 1247: 214, 33493: 215, 3751: 216, 1573: 217, 1625: 218, 594: 219, 337: 220, 3623: 221, 46578: 222, 8874: 223, 2700: 224, 91529: 225, 1225: 226, 25: 227, 440: 228, 6333: 229, 69122: 230, 2000: 231, 2692: 232, 3175: 233, 3481: 234, 8665: 235, 6016: 236, 368: 237, 1485: 238, 6711: 239, 35836: 240, 109487: 241, 3994: 242, 3977: 243, 50872: 244, 1201: 245, 45722: 246, 99114: 247, 1079: 248, 1028: 249, 6373: 250, 40815: 251, 63082: 252, 235: 253, 2985: 254, 3408: 255, 4034: 256, 474: 257, 11: 258, 1407: 259, 923: 260, 1278: 261, 520: 262, 89745: 263, 7147: 264, 2054: 265, 266: 266, 1370: 267, 3753: 268, 48: 269, 1380: 270, 4979: 271, 2353: 272, 2542: 273, 74458: 274, 36: 275, 17: 276, 2081: 277, 1544: 278, 4262: 279, 163: 280, 1288: 281, 508: 282, 6863: 283, 553: 284, 4246: 285, 5481: 286, 56367: 287, 70286: 288, 2194: 289, 555: 290, 653: 291, 48385: 292, 1954: 293, 353: 294, 4447: 295, 48774: 296, 1234: 297, 2710: 298, 1035: 299, 4025: 300, 55820: 301, 786: 302, 1090: 303, 2657: 304, 435: 305, 5502: 306, 1127: 307, 3671: 308, 1304: 309, 158: 310, 7143: 311, 56174: 312, 1374: 313, 3081: 314, 173: 315, 3421: 316, 41566: 317, 552: 318, 2640: 319, 3253: 320, 3527: 321, 509: 322, 5459: 323, 3717: 324, 8644: 325, 30793: 326, 2321: 327, 51255: 328, 596: 329, 1377: 330, 466: 331, 903: 332, 3471: 333, 2006: 334, 5299: 335, 1500: 336, 1552: 337, 3033: 338, 1199: 339, 6942: 340, 33679: 341, 3535: 342, 112852: 343, 1252: 344, 68358: 345, 6378: 346, 420: 347, 2302: 348, 708: 349, 370: 350, 69844: 351, 73017: 352, 81845: 353, 1608: 354, 6502: 355, 1207: 356, 1230: 357, 5669: 358, 1394: 359, 2167: 360, 34162: 361, 953: 362, 54001: 363, 2005: 364, 2268: 365, 2470: 366, 908: 367, 1203: 368, 160: 369, 350: 370, 1276: 371, 80463: 372, 8641: 373, 1777: 374, 2395: 375, 2529: 376, 1302: 377, 1641: 378, 2599: 379, 2671: 380, 4370: 381, 1148: 382, 53125: 383, 70: 384, 2080: 385, 4308: 386, 432: 387, 5956: 388, 4720: 389, 78499: 390, 2804: 391, 54503: 392, 2406: 393, 106782: 394, 7: 395, 168: 396, 4018: 397, 2572: 398, 784: 399, 91500: 400, 122904: 401, 4816: 402, 59784: 403, 673: 404, 1282: 405, 2078: 406, 2947: 407, 3489: 408, 71535: 409, 2712: 410, 3911: 411, 485: 412, 2701: 413, 172: 414, 2699: 415, 76093: 416, 49530: 417, 1997: 418, 3: 419, 1466: 420, 3160: 421, 225: 422, 45499: 423, 109374: 424, 1639: 425, 6870: 426, 52973: 427, 30707: 428, 3552: 429, 4239: 430, 145: 431, 2100: 432, 1215: 433, 1645: 434, 4776: 435, 4848: 436, 333: 437, 2105: 438, 2424: 439, 910: 440, 34048: 441, 96079: 442, 3785: 443, 8361: 444, 34405: 445, 116797: 446, 88125: 447, 8464: 448, 5010: 449, 33166: 450, 216: 451, 661: 452, 2641: 453, 3176: 454, 5: 455, 4643: 456, 5464: 457, 5991: 458, 2144: 459, 45447: 460, 1275: 461, 2019: 462, 2763: 463, 186: 464, 7458: 465, 30749: 466, 2694: 467, 134130: 468, 745: 469, 3000: 470, 1729: 471, 8784: 472, 1748: 473, 1092: 474, 122882: 475, 899: 476, 4014: 477, 783: 478, 2717: 479, 7293: 480, 8529: 481, 1358: 482, 2001: 483, 5679: 484, 77561: 485, 1367: 486, 1921: 487, 1994: 488, 2539: 489, 81834: 490, 1320: 491, 1396: 492, 5060: 493, 2076: 494, 112: 495, 802: 496, 5902: 497, 47099: 498, 44: 499, 2002: 500, 7254: 501, 64614: 502, 5995: 503, 54272: 504, 3752: 505, 4085: 506, 1884: 507, 1371: 508, 2288: 509, 920: 510, 1183: 511, 1250: 512, 1266: 513, 1907: 514, 3255: 515, 196: 516, 236: 517, 616: 518, 2023: 519, 31685: 520, 3863: 521, 2490: 522, 4571: 523, 1690: 524, 1722: 525, 2294: 526, 4270: 527, 4369: 528, 4718: 529, 6537: 530, 1204: 531, 2890: 532, 151: 533, 8798: 534, 849: 535, 5377: 536, 2085: 537, 3499: 538, 111759: 539, 913: 540, 5903: 541, 33004: 542, 37729: 543, 79702: 544, 1333: 545, 3755: 546, 46976: 547, 4975: 548, 52722: 549, 2161: 550, 3448: 551, 1263: 552, 1597: 553, 252: 554, 497: 555, 852: 556, 4310: 557, 8984: 558, 1876: 559, 3624: 560, 2278: 561, 134853: 562, 3275: 563, 60684: 564, 76251: 565, 87232: 566, 1376: 567, 2407: 568, 2455: 569, 2605: 570, 47610: 571, 1262: 572, 3363: 573, 441: 574, 1042: 575, 1967: 576, 2273: 577, 91658: 578, 3210: 579, 1094: 580, 261: 581, 355: 582, 1088: 583, 1909: 584, 69757: 585, 1375: 586, 431: 587, 785: 588, 1372: 589, 1562: 590, 2915: 591, 3301: 592, 1022: 593, 2724: 594, 3868: 595, 59369: 596, 81591: 597, 543: 598, 3617: 599, 494: 600, 762: 601, 3916: 602, 45517: 603, 122886: 604, 7373: 605, 55247: 606, 57669: 607, 1285: 608, 2003: 609, 2968: 610, 3418: 611, 2087: 612, 4299: 613, 115617: 614, 1242: 615, 5810: 616, 1032: 617, 2193: 618, 3703: 619, 224: 620, 282: 621, 4223: 622, 1674: 623, 376: 624, 529: 625, 2541: 626, 1228: 627, 31658: 628, 6807: 629, 33615: 630, 44199: 631, 98809: 632, 1569: 633, 4367: 634, 1233: 635, 41569: 636, 471: 637, 6218: 638, 1408: 639, 2094: 640, 2580: 641, 2761: 642, 8528: 643, 8949: 644, 7451: 645, 40819: 646, 3300: 647, 4148: 648, 2723: 649, 3174: 650, 27773: 651, 3039: 652, 2951: 653, 53996: 654, 59615: 655, 1129: 656, 2248: 657, 2746: 658, 3082: 659, 3826: 660, 58998: 661, 1953: 662, 61323: 663, 1274: 664, 2908: 665, 1673: 666, 6188: 667, 6936: 668, 2018: 669, 3702: 670, 112552: 671, 31: 672, 2770: 673, 277: 674, 315: 675, 8972: 676, 8533: 677, 79091: 678, 2420: 679, 8950: 680, 44665: 681, 51540: 682, 91542: 683, 29: 684, 7090: 685, 3362: 686, 2124: 687, 2289: 688, 1093: 689, 58: 690, 3967: 691, 455: 692, 92259: 693, 5971: 694, 112556: 695, 1020: 696, 5266: 697, 55765: 698, 64957: 699, 832: 700, 4016: 701, 8622: 702, 2021: 703, 8376: 704, 30810: 705, 1060: 706, 2948: 707, 3034: 708, 3247: 709, 345: 710, 902: 711, 22: 712, 180: 713, 119145: 714, 2581: 715, 3510: 716, 3108: 717, 1059: 718, 34150: 719, 671: 720, 1345: 721, 3101: 722, 4638: 723, 2231: 724, 6947: 725, 44195: 726, 585: 727, 1029: 728, 2427: 729, 3809: 730, 914: 731, 1084: 732, 170: 733, 256: 734, 628: 735, 719: 736, 7445: 737, 30812: 738, 63113: 739, 3409: 740, 193: 741, 36529: 742, 38061: 743, 60040: 744, 3361: 745, 66097: 746, 1249: 747, 31696: 748, 805: 749, 362: 750, 1947: 751, 4641: 752, 60: 753, 327: 754, 524: 755, 3882: 756, 64969: 757, 85414: 758, 1261: 759, 64839: 760, 6287: 761, 44555: 762, 86332: 763, 1663: 764, 2140: 765, 3698: 766, 4344: 767, 4734: 768, 5254: 769, 39183: 770, 969: 771, 1287: 772, 6708: 773, 69481: 774, 54259: 775, 8807: 776, 45720: 777, 1172: 778, 2949: 779, 1272: 780, 265: 781, 342: 782, 2145: 783, 637: 784, 837: 785, 4874: 786, 6534: 787, 8957: 788, 2300: 789, 1882: 790, 1918: 791, 3555: 792, 3681: 793, 610: 794, 1047: 795, 2393: 796, 3396: 797, 3988: 798, 5388: 799, 30825: 800, 53322: 801, 5673: 802, 61132: 803, 1244: 804, 6754: 805, 4015: 806, 1644: 807, 2944: 808, 45: 809, 303: 810, 8970: 811, 72011: 812, 68237: 813, 96610: 814, 104841: 815, 152081: 816, 3257: 817, 8917: 818, 53972: 819, 88129: 820, 88140: 821, 102125: 822, 1911: 823, 6157: 824, 2160: 825, 5064: 826, 6281: 827, 3285: 828, 4361: 829, 1912: 830, 6541: 831, 1587: 832, 1805: 833, 3386: 834, 65: 835, 135: 836, 34319: 837, 88163: 838, 97938: 839, 1405: 840, 110102: 841, 2953: 842, 139385: 843, 724: 844, 1566: 845, 1717: 846, 1747: 847, 4446: 848, 5630: 849, 4701: 850, 72641: 851, 108932: 852, 3006: 853, 272: 854, 61024: 855, 3256: 856, 46723: 857, 4890: 858, 4321: 859, 2064: 860, 2058: 861, 348: 862, 204: 863, 838: 864, 95167: 865, 95510: 866, 84152: 867, 1267: 868, 38038: 869, 56757: 870, 111362: 871, 915: 872, 1373: 873, 1479: 874, 2423: 875, 2403: 876, 5219: 877, 1271: 878, 2501: 879, 97921: 880, 2871: 881, 7022: 882, 3168: 883, 3273: 884, 3450: 885, 647: 886, 898: 887, 1061: 888, 6155: 889, 106696: 890, 2421: 891, 2485: 892, 115149: 893, 2411: 894, 60074: 895, 743: 896, 1269: 897, 1339: 898, 1831: 899, 2722: 900, 3745: 901, 3825: 902, 246: 903, 1513: 904, 5444: 905, 94959: 906, 2384: 907, 3740: 908, 46970: 909, 60756: 910, 115713: 911, 52: 912, 1077: 913, 2150: 914, 24: 915, 273: 916, 5620: 917, 1223: 918, 1299: 919, 82459: 920, 74789: 921, 2243: 922, 2335: 923, 2788: 924, 4019: 925, 4232: 926, 45186: 927, 56782: 928, 1027: 929, 3186: 930, 97304: 931, 198: 932, 968: 933, 720: 934, 1179: 935, 2109: 936, 4002: 937, 880: 938, 4700: 939, 922: 940, 5872: 941, 40629: 942, 80549: 943, 1347: 944, 94864: 945, 166528: 946, 6787: 947, 37733: 948, 102445: 949, 122892: 950, 122900: 951, 122918: 952, 1021: 953, 1257: 954, 1499: 955, 2232: 956, 3072: 957, 3254: 958, 3269: 959, 3424: 960, 4901: 961, 5013: 962, 6503: 963, 88744: 964, 52281: 965, 741: 966, 57368: 967, 1120: 968, 3252: 969, 4343: 970, 3968: 971, 2431: 972, 909: 973, 1982: 974, 1293: 975, 8873: 976, 2478: 977, 2616: 978, 2826: 979, 2359: 980, 3869: 981, 8783: 982, 2409: 983, 5574: 984, 68319: 985, 106487: 986, 112183: 987, 148626: 988, 164179: 989, 107: 990, 1591: 991, 1614: 992, 2082: 993, 3264: 994, 3476: 995, 3638: 996, 93510: 997, 53519: 998, 1960: 999, 3556: 1000, 5945: 1001, 6957: 1002, 1476: 1003, 413: 1004, 2795: 1005, 3969: 1006, 1235: 1007, 3148: 1008, 916: 1009, 89492: 1010, 4128: 1011, 4388: 1012, 1025: 1013, 2366: 1014, 2872: 1015, 475: 1016, 1086: 1017, 2186: 1018, 374: 1019, 46530: 1020, 106489: 1021, 1590: 1022, 3798: 1023, 1680: 1024, 3462: 1025, 67255: 1026, 168252: 1027, 1378: 1028, 2394: 1029, 3005: 1030, 3534: 1031, 3608: 1032, 3438: 1033, 106920: 1034, 5617: 1035, 86882: 1036, 1253: 1037, 6953: 1038, 8983: 1039, 51935: 1040, 53953: 1041, 54997: 1042, 1801: 1043, 1343: 1044, 2352: 1045, 2598: 1046, 2020: 1047, 27706: 1048, 4823: 1049, 2986: 1050, 1031: 1051, 2046: 1052, 2528: 1053, 2993: 1054, 215: 1055, 1449: 1056, 1883: 1057, 515: 1058, 531: 1059, 230: 1060, 49286: 1061, 1037: 1062, 5507: 1063, 81847: 1064, 1385: 1065, 1438: 1066, 1357: 1067, 6350: 1068, 1212: 1069, 2410: 1070, 66934: 1071, 86880: 1072, 2108: 1073, 2369: 1074, 2371: 1075, 2687: 1076, 3087: 1077, 3704: 1078, 5103: 1079, 5110: 1080, 4489: 1081, 56775: 1082, 1711: 1083, 3037: 1084, 1945: 1085, 307: 1086, 7173: 1087, 87869: 1088, 3098: 1089, 1125: 1090, 2471: 1091, 7454: 1092, 926: 1093, 6593: 1094, 3979: 1095, 101: 1096, 1256: 1097, 1298: 1098, 2991: 1099, 2336: 1100, 105: 1101, 799: 1102, 37741: 1103, 3827: 1104, 1186: 1105, 7099: 1106, 81932: 1107, 7323: 1108, 44022: 1109, 116823: 1110, 866: 1111, 933: 1112, 1409: 1113, 1779: 1114, 2052: 1115, 2428: 1116, 2496: 1117, 2840: 1118, 4161: 1119, 45672: 1120, 46972: 1121, 117529: 1122, 4235: 1123, 3107: 1124, 1792: 1125, 562: 1126, 2805: 1127, 8371: 1128, 4023: 1129, 1962: 1130, 1321: 1131, 2096: 1132, 80489: 1133, 1188: 1134, 3317: 1135, 237: 1136, 276: 1137, 468: 1138, 63992: 1139, 1586: 1140, 122922: 1141, 2707: 1142, 3263: 1143, 102903: 1144, 122920: 1145, 2134: 1146, 2245: 1147, 2642: 1148, 3104: 1149, 5171: 1150, 5313: 1151, 2378: 1152, 91630: 1153, 97913: 1154, 1952: 1155, 6773: 1156, 3100: 1157, 3105: 1158, 3360: 1159, 1231: 1160, 203: 1161, 2391: 1162, 5449: 1163, 93840: 1164, 227: 1165, 5283: 1166, 1350: 1167, 6323: 1168, 54995: 1169, 748: 1170, 3504: 1171, 60072: 1172, 103042: 1173, 4105: 1174, 27904: 1175, 5954: 1176, 4069: 1177, 2600: 1178, 1958: 1179, 1049: 1180, 2137: 1181, 2139: 1182, 72378: 1183, 247: 1184, 207: 1185, 262: 1186, 371: 1187, 383: 1188, 546: 1189, 830: 1190, 3354: 1191, 88810: 1192, 84954: 1193, 105504: 1194, 37386: 1195, 62434: 1196, 79592: 1197, 95441: 1198, 106072: 1199, 372: 1200, 379: 1201, 2375: 1202, 2720: 1203, 3070: 1204, 3536: 1205, 2376: 1206, 2989: 1207, 3697: 1208, 3984: 1209, 53121: 1210, 104211: 1211, 34437: 1212, 41997: 1213, 1175: 1214, 2405: 1215, 87306: 1216, 7444: 1217, 3298: 1218, 519: 1219, 707: 1220, 2067: 1221, 107406: 1222, 1965: 1223, 53000: 1224, 5225: 1225, 6979: 1226, 7325: 1227, 2125: 1228, 8910: 1229, 86833: 1230, 2010: 1231, 1091: 1232, 55269: 1233, 4247: 1234, 2013: 1235, 2253: 1236, 319: 1237, 930: 1238, 419: 1239, 49278: 1240, 8969: 1241, 56949: 1242, 1616: 1243, 101864: 1244, 1245: 1245, 4007: 1246, 6888: 1247, 53464: 1248, 55290: 1249, 63131: 1250, 1297: 1251, 1588: 1252, 1688: 1253, 2053: 1254, 2133: 1255, 1015: 1256, 3986: 1257, 4865: 1258, 6297: 1259, 2990: 1260, 4545: 1261, 69526: 1262, 81229: 1263, 81564: 1264, 88405: 1265, 96588: 1266, 106918: 1267, 31410: 1268, 175: 1269, 4855: 1270, 102407: 1271, 122916: 1272, 48738: 1273, 4980: 1274, 96821: 1275, 1104: 1276, 1429: 1277, 308: 1278, 4623: 1279, 18: 1280, 737: 1281, 69: 1282, 1033: 1283, 4958: 1284, 6873: 1285, 27660: 1286, 7387: 1287, 4448: 1288, 1292: 1289, 2340: 1290, 7346: 1291, 39292: 1292, 3910: 1293, 6283: 1294, 7371: 1295, 36401: 1296, 5881: 1297, 1224: 1298, 3744: 1299, 800: 1300, 1283: 1301, 3083: 1302, 765: 1303, 8958: 1304, 31878: 1305, 32031: 1306, 3328: 1307, 5943: 1308, 5957: 1309, 103335: 1310, 1100: 1311, 1693: 1312, 3893: 1313, 48304: 1314, 103249: 1315, 3683: 1316, 5782: 1317, 27611: 1318, 5944: 1319, 27831: 1320, 55118: 1321, 97752: 1322, 142488: 1323, 12: 1324, 338: 1325, 761: 1326, 1441: 1327, 1556: 1328, 2083: 1329, 3157: 1330, 4366: 1331, 6156: 1332, 2402: 1333, 112138: 1334, 2686: 1335, 481: 1336, 3861: 1337, 4084: 1338, 5308: 1339, 5528: 1340, 2009: 1341, 3593: 1342, 82461: 1343, 89864: 1344, 1381: 1345, 2567: 1346, 2881: 1347, 6383: 1348, 2792: 1349, 4873: 1350, 2863: 1351, 954: 1352, 1920: 1353, 2141: 1354, 2338: 1355, 3479: 1356, 3639: 1357, 2467: 1358, 2973: 1359, 3508: 1360, 516: 1361, 540: 1362, 8865: 1363, 3173: 1364, 1687: 1365, 63859: 1366, 1209: 1367, 4728: 1368, 57640: 1369, 1359: 1370, 2088: 1371, 2110: 1372, 2413: 1373, 5015: 1374, 5463: 1375, 3635: 1376, 4621: 1377, 47997: 1378, 58025: 1379, 68791: 1380, 91535: 1381, 94777: 1382, 108190: 1383, 138036: 1384, 56171: 1385, 1237: 1386, 176371: 1387, 2530: 1388, 428: 1389, 2841: 1390, 5152: 1391, 6565: 1392, 6796: 1393, 58803: 1394, 194: 1395, 249: 1396, 514: 1397, 115569: 1398, 128360: 1399, 2505: 1400, 5151: 1401, 81562: 1402, 955: 1403, 928: 1404, 90866: 1405, 103341: 1406, 118696: 1407, 5291: 1408, 34072: 1409, 3452: 1410, 4639: 1411, 83134: 1412, 3468: 1413, 72226: 1414, 14: 1415, 533: 1416, 3267: 1417, 6620: 1418, 2527: 1419, 162: 1420, 351: 1421, 4881: 1422, 79: 1423, 181: 1424, 234: 1425, 239: 1426, 248: 1427, 267: 1428, 361: 1429, 477: 1430, 491: 1431, 33162: 1432, 3735: 1433, 7149: 1434, 41285: 1435, 87222: 1436, 136020: 1437, 2072: 1438, 71264: 1439, 3435: 1440, 2412: 1441, 6548: 1442, 55276: 1443, 78469: 1444, 79695: 1445, 117176: 1446, 2808: 1447, 3146: 1448, 5014: 1449, 5419: 1450, 5785: 1451, 3633: 1452, 94677: 1453, 111781: 1454, 1248: 1455, 1464: 1456, 8228: 1457, 2311: 1458, 1171: 1459, 1303: 1460, 3020: 1461, 3271: 1462, 4238: 1463, 8810: 1464, 8914: 1465, 33660: 1466, 40278: 1467, 50068: 1468, 58293: 1469, 6618: 1470, 61240: 1471, 112290: 1472, 1835: 1473, 3646: 1474, 836: 1475, 7160: 1476, 106100: 1477, 3730: 1478, 4992: 1479, 7004: 1480, 7163: 1481, 52245: 1482, 1388: 1483, 6564: 1484, 68554: 1485, 2313: 1486, 1019: 1487, 1635: 1488, 5400: 1489, 6879: 1490, 56152: 1491, 67087: 1492, 6059: 1493, 6764: 1494, 1296: 1495, 84944: 1496, 2398: 1497, 26662: 1498, 1348: 1499, 2387: 1500, 2450: 1501, 222: 1502, 1719: 1503, 1892: 1504, 88: 1505, 140: 1506, 314: 1507, 382: 1508, 415: 1509, 532: 1510, 575: 1511, 60950: 1512, 69406: 1513, 1227: 1514, 4327: 1515, 36519: 1516, 69951: 1517, 73321: 1518, 103253: 1519, 103772: 1520, 104879: 1521, 122926: 1522, 1665: 1523, 1702: 1524, 1894: 1525, 2416: 1526, 2643: 1527, 3763: 1528, 3972: 1529, 4039: 1530, 4054: 1531, 103141: 1532, 105844: 1533, 106916: 1534, 114180: 1535, 134368: 1536, 1243: 1537, 5791: 1538, 3791: 1539, 23: 1540, 3178: 1541, 40583: 1542, 2301: 1543, 2735: 1544, 306: 1545, 8981: 1546, 111659: 1547, 136864: 1548, 122: 1549, 1431: 1550, 2146: 1551, 4351: 1552, 1753: 1553, 2942: 1554, 6659: 1555, 1254: 1556, 60126: 1557, 106002: 1558, 5690: 1559, 7360: 1560, 4499: 1561, 42738: 1562, 3089: 1563, 2318: 1564, 6586: 1565, 1411: 1566, 1974: 1567, 2114: 1568, 3821: 1569, 1589: 1570, 2819: 1571, 9: 1572, 1030: 1573, 2116: 1574, 3243: 1575, 1057: 1576, 1103: 1577, 1895: 1578, 3060: 1579, 3591: 1580, 41: 1581, 46: 1582, 76: 1583, 86: 1584, 412: 1585, 502: 1586, 839: 1587, 2688: 1588, 1095: 1589, 104374: 1590, 3668: 1591, 3156: 1592, 1260: 1593, 1281: 1594, 7317: 1595, 76077: 1596, 79293: 1597, 135569: 1598, 158238: 1599, 1754: 1600, 1845: 1601, 2004: 1602, 2118: 1603, 2123: 1604, 2468: 1605, 2606: 1606, 3113: 1607, 3258: 1608, 3355: 1609, 3398: 1610, 3526: 1611, 3686: 1612, 2059: 1613, 3159: 1614, 59900: 1615, 112175: 1616, 135887: 1617, 1217: 1618, 3836: 1619, 147: 1620, 714: 1621, 3246: 1622, 2794: 1623, 1488: 1624, 2702: 1625, 2533: 1626, 3917: 1627, 3507: 1628, 67734: 1629, 86911: 1630, 114662: 1631, 168250: 1632, 535: 1633, 1515: 1634, 3978: 1635, 5541: 1636, 52975: 1637, 84772: 1638, 1959: 1639, 20: 1640, 7347: 1641, 8638: 1642, 2447: 1643, 5025: 1644, 6003: 1645, 97306: 1646, 112623: 1647, 5992: 1648, 2126: 1649, 1327: 1650, 3440: 1651, 3441: 1652, 232: 1653, 492: 1654, 4144: 1655, 290: 1656, 534: 1657, 100: 1658, 159: 1659, 218: 1660, 257: 1661, 281: 1662, 542: 1663, 609: 1664, 2901: 1665, 4558: 1666, 5066: 1667, 58047: 1668, 60397: 1669, 84374: 1670, 1619: 1671, 71057: 1672, 122924: 1673, 152077: 1674, 2422: 1675, 6440: 1676, 6709: 1677, 46965: 1678, 47200: 1679, 49651: 1680, 2060: 1681, 2463: 1682, 2857: 1683, 2995: 1684, 3016: 1685, 3248: 1686, 3615: 1687, 3999: 1688, 4378: 1689, 69644: 1690, 103228: 1691, 4017: 1692, 1284: 1693, 2912: 1694, 3198: 1695, 3543: 1696, 3980: 1697, 52328: 1698, 56145: 1699, 98961: 1700, 65230: 1701, 2297: 1702, 4041: 1703, 1769: 1704, 4974: 1705, 53894: 1706, 1251: 1707, 135143: 1708, 45666: 1709, 951: 1710, 48043: 1711, 51086: 1712, 102123: 1713, 111360: 1714, 5026: 1715, 5878: 1716, 6296: 1717, 6385: 1718, 2966: 1719, 2950: 1720, 6595: 1721, 6755: 1722, 8366: 1723, 8861: 1724, 8985: 1725, 45431: 1726, 1955: 1727, 2136: 1728, 47518: 1729, 164: 1730, 4887: 1731, 90405: 1732, 905: 1733, 81: 1734, 2117: 1735, 7367: 1736, 7439: 1737, 99007: 1738, 71530: 1739, 96737: 1740, 26776: 1741, 1344: 1742, 2367: 1743, 51412: 1744, 1023: 1745, 1620: 1746, 2090: 1747, 2143: 1748, 2459: 1749, 3439: 1750, 77455: 1751, 1124: 1752, 176: 1753, 417: 1754, 892: 1755, 1211: 1756, 3044: 1757, 4020: 1758, 4033: 1759, 4967: 1760, 15: 1761, 26: 1762, 986: 1763, 996: 1764, 1064: 1765, 8907: 1766, 33836: 1767, 140110: 1768, 1518: 1769, 7482: 1770, 7318: 1771, 58295: 1772, 76175: 1773, 911: 1774, 1603: 1775, 2065: 1776, 2719: 1777, 2802: 1778, 3213: 1779, 3219: 1780, 3316: 1781, 3477: 1782, 3483: 1783, 3551: 1784, 3699: 1785, 3701: 1786, 3852: 1787, 4040: 1788, 3030: 1789, 6857: 1790, 122912: 1791, 3654: 1792, 507: 1793, 6993: 1794, 36517: 1795, 43928: 1796, 47629: 1797, 56587: 1798, 62849: 1799, 7156: 1800, 1537: 1801, 1799: 1802, 1726: 1803, 4008: 1804, 4679: 1805, 53993: 1806, 45950: 1807, 45880: 1808, 174055: 1809, 1301: 1810, 2454: 1811, 2664: 1812, 280: 1813, 3461: 1814, 78105: 1815, 115210: 1816, 143355: 1817, 45728: 1818, 6331: 1819, 6944: 1820, 2334: 1821, 2728: 1822, 2803: 1823, 3981: 1824, 4677: 1825, 55052: 1826, 62999: 1827, 3307: 1828, 39446: 1829, 5065: 1830, 6550: 1831, 1135: 1832, 37384: 1833, 157296: 1834, 177765: 1835, 4214: 1836, 4254: 1837, 5072: 1838, 59022: 1839, 1833: 1840, 2325: 1841, 73: 1842, 7265: 1843, 4467: 1844, 8640: 1845, 1957: 1846, 2779: 1847, 2474: 1848, 111364: 1849, 2596: 1850, 80906: 1851, 125: 1852, 538: 1853, 1885: 1854, 1916: 1855, 2583: 1856, 4029: 1857, 4121: 1858, 332: 1859, 366: 1860, 405: 1861, 445: 1862, 490: 1863, 493: 1864, 537: 1865, 842: 1866, 999: 1867, 8373: 1868, 30816: 1869, 7151: 1870, 70183: 1871, 70293: 1872, 72737: 1873, 3429: 1874, 52604: 1875, 80219: 1876, 427: 1877, 798: 1878, 810: 1879, 1081: 1880, 1457: 1881, 1848: 1882, 1970: 1883, 1991: 1884, 2672: 1885, 2867: 1886, 3203: 1887, 1013: 1888, 2565: 1889, 4005: 1890, 7569: 1891, 111113: 1892, 111743: 1893, 119141: 1894, 135536: 1895, 8370: 1896, 187593: 1897, 421: 1898, 2532: 1899, 1459: 1900, 2952: 1901, 3260: 1902, 5267: 1903, 5577: 1904, 6552: 1905, 6867: 1906, 44761: 1907, 1772: 1908, 1672: 1909, 3997: 1910, 27801: 1911, 44974: 1912, 3270: 1913, 144: 1914, 2404: 1915, 2713: 1916, 4153: 1917, 663: 1918, 934: 1919, 2731: 1920, 3274: 1921, 90746: 1922, 2379: 1923, 4876: 1924, 5505: 1925, 51077: 1926, 54999: 1927, 1277: 1928, 1416: 1929, 2476: 1930, 2739: 1931, 49649: 1932, 59501: 1933, 179819: 1934, 3088: 1935, 7162: 1936, 1956: 1937, 2312: 1938, 2662: 1939, 6753: 1940, 8781: 1941, 41571: 1942, 54881: 1943, 89470: 1944, 2360: 1945, 154: 1946, 900: 1947, 71745: 1948, 3244: 1949, 233: 1950, 1178: 1951, 5135: 1952, 34520: 1953, 44972: 1954, 99112: 1955, 2798: 1956, 3812: 1957, 188: 1958, 3998: 1959, 98243: 1960, 3618: 1961, 2247: 1962, 3564: 1963, 45081: 1964, 952: 1965, 36708: 1966, 85510: 1967, 157: 1968, 2414: 1969, 2648: 1970, 3053: 1971, 3062: 1972, 89774: 1973, 599: 1974, 1834: 1975, 2921: 1976, 2926: 1977, 381: 1978, 489: 1979, 631: 1980, 640: 1981, 694: 1982, 709: 1983, 801: 1984, 991: 1985, 8965: 1986, 48783: 1987, 6535: 1988, 31433: 1989, 66203: 1990, 1173: 1991, 3741: 1992, 5608: 1993, 83349: 1994, 86190: 1995, 104241: 1996, 159093: 1997, 742: 1998, 965: 1999, 1342: 2000, 1379: 2001, 1474: 2002, 1963: 2003, 2153: 2004, 2249: 2005, 2622: 2006, 2822: 2007, 3035: 2008, 3397: 2009, 3784: 2010, 2135: 2011, 3189: 2012, 5693: 2013, 87520: 2014, 110553: 2015, 117590: 2016, 4036: 2017, 71464: 2018, 1218: 2019, 3451: 2020, 1480: 2021, 3783: 2022, 59387: 2023, 62374: 2024, 64716: 2025, 64983: 2026, 28: 2027, 994: 2028, 6242: 2029, 6662: 2030, 56941: 2031, 59725: 2032, 1810: 2033, 2433: 2034, 2796: 2035, 2827: 2036, 3259: 2037, 3261: 2038, 3824: 2039, 4487: 2040, 1615: 2041, 3004: 2042, 3268: 2043, 5108: 2044, 63876: 2045, 1273: 2046, 1289: 2047, 7247: 2048, 93326: 2049, 97225: 2050, 104913: 2051, 137857: 2052, 139644: 2053, 3388: 2054, 4291: 2055, 4340: 2056, 6793: 2057, 8623: 2058, 42723: 2059, 48877: 2060, 1944: 2061, 27808: 2062, 107348: 2063, 89904: 2064, 1216: 2065, 3262: 2066, 4149: 2067, 5265: 2068, 7046: 2069, 4326: 2070, 5049: 2071, 30822: 2072, 40732: 2073, 45501: 2074, 49274: 2075, 52287: 2076, 52435: 2077, 54004: 2078, 55282: 2079, 59258: 2080, 3359: 2081, 91077: 2082, 76293: 2083, 1041: 2084, 5812: 2085, 1189: 2086, 4386: 2087, 55442: 2088, 1131: 2089, 1194: 2090, 1295: 2091, 2122: 2092, 5294: 2093, 5650: 2094, 54190: 2095, 4954: 2096, 65088: 2097, 27815: 2098, 6482: 2099, 44840: 2100, 1735: 2101, 3831: 2102, 48082: 2103, 1483: 2104, 373: 2105, 1950: 2106, 4368: 2107, 7324: 2108, 37727: 2109, 1078: 2110, 3503: 2111, 42011: 2112, 65261: 2113, 4642: 2114, 6294: 2115, 122906: 2116, 2346: 2117, 46335: 2118, 3688: 2119, 93363: 2120, 5128: 2121, 423: 2122, 1927: 2123, 3358: 2124, 4902: 2125, 89: 2126, 174: 2127, 195: 2128, 258: 2129, 711: 2130, 818: 2131, 32029: 2132, 45668: 2133, 7154: 2134, 61250: 2135, 78772: 2136, 120466: 2137, 1147: 2138, 71899: 2139, 84392: 2140, 91485: 2141, 150548: 2142, 328: 2143, 2097: 2144, 2111: 2145, 2279: 2146, 2513: 2147, 2518: 2148, 2793: 2149, 3484: 2150, 3708: 2151, 2089: 2152, 51084: 2153, 68793: 2154, 79134: 2155, 102481: 2156, 134393: 2157, 135133: 2158, 4903: 2159, 2142: 2160, 1678: 2161, 4787: 2162, 5329: 2163, 7263: 2164, 8977: 2165, 55363: 2166, 55721: 2167, 605: 2168, 94: 2169, 322: 2170, 2690: 2171, 2875: 2172, 3019: 2173, 96829: 2174, 116897: 2175, 4322: 2176, 4333: 2177, 4396: 2178, 2718: 2179, 5220: 2180, 5500: 2181, 166643: 2182, 91094: 2183, 1873: 2184, 2380: 2185, 4255: 2186, 34338: 2187, 50794: 2188, 65514: 2189, 728: 2190, 2917: 2191, 3334: 2192, 6058: 2193, 87430: 2194, 114935: 2195, 27846: 2196, 92535: 2197, 1096: 2198, 8014: 2199, 1541: 2200, 1017: 2201, 3707: 2202, 6893: 2203, 7137: 2204, 8947: 2205, 52458: 2206, 55232: 2207, 55830: 2208, 56251: 2209, 62155: 2210, 69784: 2211, 79057: 2212, 55768: 2213, 68135: 2214, 1185: 2215, 2594: 2216, 4103: 2217, 6305: 2218, 5296: 2219, 6958: 2220, 971: 2221, 1290: 2222, 918: 2223, 5621: 2224, 81537: 2225, 88785: 2226, 129354: 2227, 464: 2228, 1241: 2229, 1760: 2230, 2138: 2231, 3018: 2232, 6367: 2233, 79139: 2234, 5380: 2235, 3742: 2236, 57504: 2237, 67923: 2238, 4994: 2239, 4228: 2240, 58156: 2241, 78209: 2242, 166461: 2243, 2772: 2244, 37830: 2245, 3067: 2246, 5970: 2247, 393: 2248, 2924: 2249, 4167: 2250, 4799: 2251, 47044: 2252, 86644: 2253, 2361: 2254, 2734: 2255, 1969: 2256, 3616: 2257, 2176: 2258, 40826: 2259, 169: 2260, 97: 2261, 1007: 2262, 3524: 2263, 2296: 2264, 31221: 2265, 37380: 2266, 7150: 2267, 2517: 2268, 3676: 2269, 1009: 2270, 2389: 2271, 2644: 2272, 86345: 2273, 688: 2274, 6238: 2275, 1734: 2276, 1914: 2277, 2843: 2278, 27: 2279, 66: 2280, 93: 2281, 205: 2282, 312: 2283, 358: 2284, 437: 2285, 8666: 2286, 42002: 2287, 45730: 2288, 72407: 2289, 2027: 2290, 305: 2291, 678: 2292, 3022: 2293, 5008: 2294, 26614: 2295, 57528: 2296, 69640: 2297, 71156: 2298, 160438: 2299, 674: 2300, 829: 2301, 921: 2302, 931: 2303, 1238: 2304, 1862: 2305, 2015: 2306, 2034: 2307, 2148: 2308, 2320: 2309, 2372: 2310, 2374: 2311, 2558: 2312, 2709: 2313, 2806: 2314, 2860: 2315, 3040: 2316, 3505: 2317, 3515: 2318, 3685: 2319, 3754: 2320, 1010: 2321, 1012: 2322, 2941: 2323, 4519: 2324, 5293: 2325, 133419: 2326, 135861: 2327, 164909: 2328, 2726: 2329, 3265: 2330, 7123: 2331, 3250: 2332, 4047: 2333, 5955: 2334, 6617: 2335, 8132: 2336, 37731: 2337, 38886: 2338, 39444: 2339, 43936: 2340, 53123: 2341, 61248: 2342, 64620: 2343, 446: 2344, 1280: 2345, 5146: 2346, 3347: 2347, 5093: 2348, 111921: 2349, 2236: 2350, 4280: 2351, 1390: 2352, 3196: 2353, 3249: 2354, 3844: 2355, 6765: 2356, 97923: 2357, 52885: 2358, 62336: 2359, 2183: 2360, 2408: 2361, 2524: 2362, 3814: 2363, 3918: 2364, 33646: 2365, 93838: 2366, 861: 2367, 1268: 2368, 63072: 2369, 171763: 2370, 175303: 2371, 6104: 2372, 7132: 2373, 6214: 2374, 3444: 2375, 4387: 2376, 8866: 2377, 33437: 2378, 46948: 2379, 55267: 2380, 62956: 2381, 74946: 2382, 96110: 2383, 4880: 2384, 1300: 2385, 47122: 2386, 50601: 2387, 87485: 2388, 4427: 2389, 7158: 2390, 7669: 2391, 6952: 2392, 4989: 2393, 3155: 2394, 74795: 2395, 3991: 2396, 2456: 2397, 4678: 2398, 8507: 2399, 3071: 2400, 4732: 2401, 5247: 2402, 2262: 2403, 8643: 2404, 5363: 2405, 7285: 2406, 49396: 2407, 87529: 2408, 95720: 2409, 101142: 2410, 95105: 2411, 112171: 2412, 5959: 2413, 4553: 2414, 3983: 2415, 6299: 2416, 36535: 2417, 2531: 2418, 2745: 2419, 3877: 2420, 4936: 2421, 35957: 2422, 89804: 2423, 6890: 2424, 5540: 2425, 7981: 2426, 5139: 2427, 43679: 2428, 517: 2429, 809: 2430, 2373: 2431, 5047: 2432, 3095: 2433, 2747: 2434, 6615: 2435, 67197: 2436, 83613: 2437, 120799: 2438, 5784: 2439, 5401: 2440, 37857: 2441, 804: 2442, 940: 2443, 2033: 2444, 2048: 2445, 1279: 2446, 1966: 2447, 3204: 2448, 8: 2449, 13: 2450, 43: 2451, 92: 2452, 177: 2453, 289: 2454, 360: 2455, 416: 2456, 667: 2457, 710: 2458, 7155: 2459, 32296: 2460, 48997: 2461, 6266: 2462, 7169: 2463, 59421: 2464, 107141: 2465, 448: 2466, 143385: 2467, 1924: 2468, 3896: 2469, 58299: 2470, 99813: 2471, 161582: 2472, 176101: 2473, 177593: 2474, 407: 2475, 558: 2476, 1346: 2477, 1461: 2478, 1658: 2479, 1806: 2480, 2014: 2481, 2171: 2482, 2458: 2483, 2668: 2484, 2870: 2485, 3466: 2486, 3693: 2487, 3705: 2488, 3706: 2489, 3512: 2490, 3549: 2491, 4090: 2492, 6166: 2493, 7570: 2494, 7573: 2495, 105213: 2496, 111617: 2497, 56788: 2498, 60766: 2499, 1232: 2500, 1425: 2501, 3272: 2502, 3950: 2503, 5009: 2504, 5055: 2505, 8937: 2506, 27788: 2507, 31420: 2508, 39381: 2509, 50442: 2510, 51080: 2511, 52952: 2512, 54736: 2513, 55908: 2514, 63062: 2515, 68205: 2516, 70336: 2517, 1939: 2518, 74: 2519, 613: 2520, 2112: 2521, 2443: 2522, 544: 2523, 2269: 2524, 82: 2525, 55280: 2526, 433: 2527, 782: 2528, 2155: 2529, 2568: 2530, 2861: 2531, 3208: 2532, 4062: 2533, 4132: 2534, 4155: 2535, 4349: 2536, 4359: 2537, 4477: 2538, 57: 2539, 1005: 2540, 3385: 2541, 5582: 2542, 8966: 2543, 140174: 2544, 146656: 2545, 163645: 2546, 5882: 2547, 4914: 2548, 7063: 2549, 79224: 2550, 143859: 2551, 149406: 2552, 482: 2553, 1011: 2554, 2322: 2555, 2613: 2556, 2752: 2557, 3614: 2558, 3959: 2559, 4437: 2560, 4508: 2561, 5040: 2562, 7007: 2563, 1858: 2564, 2759: 2565, 2935: 2566, 3498: 2567, 80693: 2568, 161131: 2569, 89753: 2570, 98491: 2571, 1889: 2572, 8645: 2573, 2401: 2574, 3201: 2575, 932: 2576, 2560: 2577, 3675: 2578, 5553: 2579, 6707: 2580, 7256: 2581, 32598: 2582, 41573: 2583, 46322: 2584, 56339: 2585, 67408: 2586, 68659: 2587, 71282: 2588, 92420: 2589, 95875: 2590, 3152: 2591, 131013: 2592, 6303: 2593, 5900: 2594, 6006: 2595, 1132: 2596, 1414: 2597, 3061: 2598, 4899: 2599, 86298: 2600, 99117: 2601, 102686: 2602, 130520: 2603, 3727: 2604, 4587: 2605, 6731: 2606, 7802: 2607, 5420: 2608, 50912: 2609, 2551: 2610, 4941: 2611, 7034: 2612, 6187: 2613, 27803: 2614, 5309: 2615, 5524: 2616, 55261: 2617, 71838: 2618, 93270: 2619, 160080: 2620, 6774: 2621, 8973: 2622, 27731: 2623, 44694: 2624, 4037: 2625, 2344: 2626, 2889: 2627, 4719: 2628, 4857: 2629, 4866: 2630, 7076: 2631, 7161: 2632, 7255: 2633, 36525: 2634, 2130: 2635, 3200: 2636, 2392: 2637, 2162: 2638, 3649: 2639, 7366: 2640, 78574: 2641, 90647: 2642, 2022: 2643, 4052: 2644, 4133: 2645, 5323: 2646, 6264: 2647, 2457: 2648, 2799: 2649, 79008: 2650, 180031: 2651, 57274: 2652, 2473: 2653, 3054: 2654, 5478: 2655, 30894: 2656, 32019: 2657, 43871: 2658, 55995: 2659, 62081: 2660, 1707: 2661, 2919: 2662, 3566: 2663, 101362: 2664, 2348: 2665, 2445: 2666, 37382: 2667, 2259: 2668, 4010: 2669, 3943: 2670, 1701: 2671, 943: 2672, 1445: 2673, 2492: 2674, 4006: 2675, 3024: 2676, 126: 2677, 450: 2678, 2203: 2679, 2351: 2680, 2390: 2681, 3365: 2682, 4741: 2683, 4: 2684, 87: 2685, 274: 2686, 378: 2687, 426: 2688, 505: 2689, 662: 2690, 700: 2691, 704: 2692, 848: 2693, 8808: 2694, 2877: 2695, 6001: 2696, 7375: 2697, 82167: 2698, 91104: 2699, 1840: 2700, 3513: 2701, 3952: 2702, 158872: 2703, 53129: 2704, 81788: 2705, 98124: 2706, 325: 2707, 906: 2708, 1542: 2709, 1681: 2710, 1689: 2711, 1855: 2712, 1971: 2713, 1972: 2714, 2040: 2715, 2169: 2716, 2328: 2717, 2354: 2718, 2550: 2719, 2936: 2720, 3308: 2721, 3387: 2722, 3394: 2723, 3565: 2724, 5364: 2725, 5504: 2726, 7701: 2727, 39715: 2728, 61160: 2729, 78637: 2730, 82202: 2731, 102716: 2732, 103384: 2733, 106491: 2734, 122896: 2735, 168248: 2736, 64575: 2737, 2730: 2738, 6721: 2739, 5292: 2740, 5446: 2741, 5747: 2742, 8633: 2743, 31225: 2744, 36527: 2745, 43396: 2746, 47644: 2747, 49822: 2748, 64497: 2749, 65216: 2750, 65682: 2751, 1056: 2752, 1446: 2753, 3066: 2754, 5312: 2755, 6763: 2756, 71033: 2757, 436: 2758, 1975: 2759, 1976: 2760, 2500: 2761, 2906: 2762, 4654: 2763, 1863: 2764, 1866: 2765, 2195: 2766, 5568: 2767, 33495: 2768, 2121: 2769, 108729: 2770, 140715: 2771, 159817: 2772, 5004: 2773, 7396: 2774, 62644: 2775, 134170: 2776, 170705: 2777, 522: 2778, 781: 2779, 2159: 2780, 4713: 2781, 6880: 2782, 39414: 2783, 110501: 2784, 473: 2785, 1184: 2786, 1646: 2787, 2202: 2788, 3426: 2789, 3811: 2790, 79357: 2791, 96861: 2792, 99149: 2793, 1202: 2794, 7980: 2795, 4380: 2796, 7139: 2797, 27266: 2798, 255: 2799, 2316: 2800, 6996: 2801, 7028: 2802, 4068: 2803, 4681: 2804, 33672: 2805, 47999: 2806, 51709: 2807, 58162: 2808, 64622: 2809, 86377: 2810, 4744: 2811, 53460: 2812, 69278: 2813, 149354: 2814, 7419: 2815, 8340: 2816, 58154: 2817, 3197: 2818, 80363: 2819, 80831: 2820, 103688: 2821, 2381: 2822, 5094: 2823, 5106: 2824, 5803: 2825, 6484: 2826, 1286: 2827, 1694: 2828, 901: 2829, 945: 2830, 950: 2831, 7381: 2832, 8814: 2833, 32596: 2834, 40339: 2835, 42725: 2836, 48982: 2837, 97836: 2838, 85: 2839, 735: 2840, 4109: 2841, 65802: 2842, 106766: 2843, 132046: 2844, 7036: 2845, 7380: 2846, 1354: 2847, 3629: 2848, 86320: 2849, 86347: 2850, 4159: 2851, 4889: 2852, 5303: 2853, 5316: 2854, 4649: 2855, 5501: 2856, 48322: 2857, 69436: 2858, 79428: 2859, 85367: 2860, 135436: 2861, 167746: 2862, 2132: 2863, 2764: 2864, 3099: 2865, 3296: 2866, 110730: 2867, 52319: 2868, 81782: 2869, 40148: 2870, 43836: 2871, 133771: 2872, 5159: 2873, 2729: 2874, 5508: 2875, 3102: 2876, 6987: 2877, 3684: 2878, 3873: 2879, 4056: 2880, 4225: 2881, 6213: 2882, 32017: 2883, 34534: 2884, 1432: 2885, 2879: 2886, 1948: 2887, 2349: 2888, 2750: 2889, 2946: 2890, 3134: 2891, 3341: 2892, 1627: 2893, 1713: 2894, 4450: 2895, 6250: 2896, 5530: 2897, 7934: 2898, 4951: 2899, 8860: 2900, 33669: 2901, 72733: 2902, 95558: 2903, 6380: 2904, 2025: 2905, 3521: 2906, 5325: 2907, 6645: 2908, 6881: 2909, 6932: 2910, 8042: 2911, 3068: 2912, 1951: 2913, 72: 2914, 229: 2915, 2815: 2916, 45210: 2917, 3036: 2918, 106642: 2919, 438: 2920, 8880: 2921, 41716: 2922, 56156: 2923, 60937: 2924, 2469: 2925, 6639: 2926, 7013: 2927, 6290: 2928, 63: 2929, 85342: 2930, 5572: 2931, 5573: 2932, 54256: 2933, 71254: 2934, 42: 2935, 82169: 2936, 90439: 2937, 2907: 2938, 2859: 2939, 2240: 2940, 2829: 2941, 2846: 2942, 6868: 2943, 34323: 2944, 53468: 2945, 3478: 2946, 8169: 2947, 74545: 2948, 74530: 2949, 1024: 2950, 1226: 2951, 2093: 2952, 2099: 2953, 5048: 2954, 171: 2955, 2282: 2956, 3079: 2957, 3788: 2958, 61: 2959, 191: 2960, 217: 2961, 250: 2962, 330: 2963, 347: 2964, 354: 2965, 472: 2966, 548: 2967, 569: 2968, 1004: 2969, 1082: 2970, 4844: 2971, 8207: 2972, 8908: 2973, 27741: 2974, 627: 2975, 8869: 2976, 33145: 2977, 51834: 2978, 71579: 2979, 81784: 2980, 95543: 2981, 103339: 2982, 160980: 2983, 166635: 2984, 2184: 2985, 73268: 2986, 162350: 2987, 162606: 2988, 414: 2989, 611: 2990, 1593: 2991, 2036: 2992, 2092: 2993, 2261: 2994, 2315: 2995, 2418: 2996, 2548: 2997, 3032: 2998, 3063: 2999, 3238: 3000, 3550: 3001, 3594: 3002, 3770: 3003, 3835: 3004, 1018: 3005, 2430: 3006, 79185: 3007, 80166: 3008, 90249: 3009, 103372: 3010, 108156: 3011, 108945: 3012, 119155: 3013, 126548: 3014, 139642: 3015, 1809: 3016, 2579: 3017, 3181: 3018, 7064: 3019, 1083: 3020, 2151: 3021, 3519: 3022, 851: 3023, 4211: 3024, 6974: 3025, 8493: 3026, 42004: 3027, 52241: 3028, 64030: 3029, 7379: 3030, 612: 3031, 1361: 3032, 1177: 3033, 1365: 3034, 2357: 3035, 3766: 3036, 85774: 3037, 459: 3038, 1191: 3039, 2306: 3040, 2497: 3041, 2574: 3042, 3177: 3043, 3841: 3044, 3987: 3045, 4102: 3046, 4564: 3047, 828: 3048, 833: 3049, 2042: 3050, 2504: 3051, 5585: 3052, 79242: 3053, 96811: 3054, 100383: 3055, 2553: 3056, 7327: 3057, 8879: 3058, 90522: 3059, 100498: 3060, 122898: 3061, 142448: 3062, 3799: 3063, 4215: 3064, 5339: 3065, 7757: 3066, 56801: 3067, 942: 3068, 3494: 3069, 1797: 3070, 166534: 3071, 179401: 3072, 3041: 3073, 7235: 3074, 2956: 3075, 3029: 3076, 4158: 3077, 4203: 3078, 4616: 3079, 7624: 3080, 8968: 3081, 33154: 3082, 44004: 3083, 44788: 3084, 45726: 3085, 50685: 3086, 68952: 3087, 69069: 3088, 80860: 3089, 85780: 3090, 86293: 3091, 89087: 3092, 44193: 3093, 45221: 3094, 75805: 3095, 127202: 3096, 949: 3097, 4546: 3098, 6591: 3099, 7234: 3100, 8154: 3101, 27721: 3102, 58103: 3103, 7001: 3104, 3266: 3105, 84601: 3106, 6338: 3107, 6536: 3108, 948: 3109, 1190: 3110, 1683: 3111, 936: 3112, 34332: 3113, 48520: 3114, 82854: 3115, 85881: 3116, 88812: 3117, 140711: 3118, 149352: 3119, 4774: 3120, 5479: 3121, 6461: 3122, 6820: 3123, 27317: 3124, 5792: 3125, 81156: 3126, 91976: 3127, 96728: 3128, 116799: 3129, 938: 3130, 4676: 3131, 213: 3132, 346: 3133, 5942: 3134, 8531: 3135, 40581: 3136, 47640: 3137, 55872: 3138, 82852: 3139, 94478: 3140, 110771: 3141, 135137: 3142, 136598: 3143, 157699: 3144, 127198: 3145, 136562: 3146, 77866: 3147, 95088: 3148, 69306: 3149, 501: 3150, 8254: 3151, 45440: 3152, 71520: 3153, 75985: 3154, 101112: 3155, 122890: 3156, 130490: 3157, 160563: 3158, 162578: 3159, 4812: 3160, 132: 3161, 1949: 3162, 2940: 3163, 3985: 3164, 5016: 3165, 6669: 3166, 27821: 3167, 6619: 3168, 1334: 3169, 56715: 3170, 64034: 3171, 130634: 3172, 2880: 3173, 2239: 3174, 4205: 3175, 8614: 3176, 2748: 3177, 6322: 3178, 45732: 3179, 1821: 3180, 3404: 3181, 5941: 3182, 1454: 3183, 1931: 3184, 6212: 3185, 7164: 3186, 27772: 3187, 43560: 3188, 46974: 3189, 51939: 3190, 60161: 3191, 66297: 3192, 2971: 3193, 2976: 3194, 3915: 3195, 3925: 3196, 3955: 3197, 3993: 3198, 4178: 3199, 4452: 3200, 4815: 3201, 4978: 3202, 5379: 3203, 5421: 3204, 6062: 3205, 117895: 3206, 2208: 3207, 3927: 3208, 5039: 3209, 49932: 3210, 2436: 3211, 3469: 3212, 155: 3213, 87192: 3214, 3422: 3215, 275: 3216, 429: 3217, 444: 3218, 1126: 3219, 1875: 3220, 3392: 3221, 7319: 3222, 64231: 3223, 3090: 3224, 2432: 3225, 4233: 3226, 37720: 3227, 45028: 3228, 7376: 3229, 31427: 3230, 32011: 3231, 33164: 3232, 44397: 3233, 78893: 3234, 4498: 3235, 33085: 3236, 94780: 3237, 95207: 3238, 108928: 3239, 5319: 3240, 1964: 3241, 886: 3242, 1255: 3243, 3511: 3244, 4248: 3245, 4748: 3246, 5452: 3247, 6664: 3248, 556: 3249, 1594: 3250, 1389: 3251, 1995: 3252, 2549: 3253, 3007: 3254, 3412: 3255, 7460: 3256, 62113: 3257, 91128: 3258, 2506: 3259, 2787: 3260, 26133: 3261, 48142: 3262, 4754: 3263, 3889: 3264, 4210: 3265, 2676: 3266, 1977: 3267, 7101: 3268, 2654: 3269, 190: 3270, 3538: 3271, 4021: 3272, 102: 3273, 270: 3274, 302: 3275, 340: 3276, 343: 3277, 458: 3278, 469: 3279, 697: 3280, 881: 3281, 891: 3282, 1006: 3283, 8870: 3284, 49824: 3285, 5451: 3286, 95449: 3287, 4383: 3288, 7018: 3289, 68073: 3290, 73323: 3291, 90600: 3292, 98585: 3293, 118900: 3294, 128620: 3295, 64: 3296, 422: 3297, 1016: 3298, 1783: 3299, 1919: 3300, 1973: 3301, 2206: 3302, 2263: 3303, 2266: 3304, 2287: 3305, 2491: 3306, 2883: 3307, 2888: 3308, 3401: 3309, 3501: 3310, 3548: 3311, 4821: 3312, 4846: 3313, 4990: 3314, 5796: 3315, 73319: 3316, 103810: 3317, 117851: 3318, 334: 3319, 1050: 3320, 1785: 3321, 2618: 3322, 3169: 3323, 5632: 3324, 7649: 3325, 37739: 3326, 40414: 3327, 41863: 3328, 43921: 3329, 56921: 3330, 61236: 3331, 71106: 3332, 71135: 3333, 26729: 3334, 1363: 3335, 580: 3336, 1399: 3337, 1487: 3338, 1633: 3339, 1643: 3340, 4220: 3341, 86781: 3342, 101525: 3343, 550: 3344, 1468: 3345, 1667: 3346, 3764: 3347, 3946: 3348, 4509: 3349, 259: 3350, 1442: 3351, 2106: 3352, 4104: 3353, 4474: 3354, 47423: 3355, 51931: 3356, 117881: 3357, 171011: 3358, 2732: 3359, 2925: 3360, 3221: 3361, 6663: 3362, 6666: 3363, 6975: 3364, 7700: 3365, 8157: 3366, 8253: 3367, 26258: 3368, 27156: 3369, 32898: 3370, 140928: 3371, 1014: 3372, 2356: 3373, 3115: 3374, 4241: 3375, 4267: 3376, 4464: 3377, 4591: 3378, 4971: 3379, 7983: 3380, 26680: 3381, 60487: 3382, 93721: 3383, 1498: 3384, 2429: 3385, 2922: 3386, 2961: 3387, 3045: 3388, 3632: 3389, 6460: 3390, 158966: 3391, 187595: 3392, 64285: 3393, 67997: 3394, 77800: 3395, 86504: 3396, 95858: 3397, 1762: 3398, 27020: 3399, 42632: 3400, 4231: 3401, 4465: 3402, 5548: 3403, 6025: 3404, 6832: 3405, 7027: 3406, 5628: 3407, 8604: 3408, 1703: 3409, 3553: 3410, 4356: 3411, 4372: 3412, 7320: 3413, 34542: 3414, 42718: 3415, 44709: 3416, 45928: 3417, 54281: 3418, 59126: 3419, 60514: 3420, 73023: 3421, 83803: 3422, 71518: 3423, 93272: 3424, 112788: 3425, 113378: 3426, 128520: 3427, 5434: 3428, 6301: 3429, 6791: 3430, 55814: 3431, 55577: 3432, 1192: 3433, 3425: 3434, 78349: 3435, 81417: 3436, 91974: 3437, 5874: 3438, 6014: 3439, 6686: 3440, 6702: 3441, 6887: 3442, 1187: 3443, 1395: 3444, 3599: 3445, 5092: 3446, 5480: 3447, 8372: 3448, 51575: 3449, 113453: 3450, 68: 3451, 116: 3452, 1034: 3453, 1366: 3454, 3153: 3455, 3182: 3456, 3840: 3457, 4304: 3458, 8266: 3459, 3690: 3460, 5027: 3461, 90890: 3462, 91653: 3463, 8796: 3464, 85401: 3465, 3310: 3466, 6777: 3467, 6985: 3468, 9010: 3469, 26903: 3470, 66371: 3471, 69134: 3472, 103235: 3473, 5450: 3474, 4900: 3475, 56805: 3476, 74532: 3477, 87483: 3478, 91323: 3479, 94953: 3480, 104218: 3481, 156609: 3482, 168418: 3483, 71: 3484, 1043: 3485, 3251: 3486, 656: 3487, 120635: 3488, 138210: 3489, 70599: 3490, 3342: 3491, 7008: 3492, 65130: 3493, 79553: 3494, 161634: 3495, 390: 3496, 1554: 3497, 3327: 3498, 26084: 3499, 2070: 3500, 2077: 3501, 3557: 3502, 4234: 3503, 4265: 3504, 4921: 3505, 5107: 3506, 34334: 3507, 8827: 3508, 75: 3509, 813: 3510, 3286: 3511, 1264: 3512, 2290: 3513, 3130: 3514, 3506: 3515, 8128: 3516, 242: 3517, 990: 3518, 2252: 3519, 2769: 3520, 3858: 3521, 3864: 3522, 4735: 3523, 6538: 3524, 5993: 3525, 4406: 3526, 26131: 3527, 2017: 3528, 2084: 3529, 4867: 3530, 43904: 3531, 6624: 3532, 39449: 3533, 63853: 3534, 5665: 3535, 33903: 3536, 725: 3537, 453: 3538, 1611: 3539, 3992: 3540, 4275: 3541, 5298: 3542, 5666: 3543, 7698: 3544, 1582: 3545, 3726: 3546, 180985: 3547, 5804: 3548, 2810: 3549, 5570: 3550, 5909: 3551, 7044: 3552, 8607: 3553, 27592: 3554, 27912: 3555, 31364: 3556, 1755: 3557, 1306: 3558, 2670: 3559, 3470: 3560, 3528: 3561, 3682: 3562, 3724: 3563, 183897: 3564, 2382: 3565, 3529: 3566, 6724: 3567, 62250: 3568, 1130: 3569, 4544: 3570, 6951: 3571, 27839: 3572, 33158: 3573, 39435: 3574, 42728: 3575, 45662: 3576, 58105: 3577, 66509: 3578, 3672: 3579, 39400: 3580, 72605: 3581, 78039: 3582, 85056: 3583, 96417: 3584, 100163: 3585, 101025: 3586, 102033: 3587, 104243: 3588, 169984: 3589, 175569: 3590, 6370: 3591, 6713: 3592, 2377: 3593, 619: 3594, 1993: 3595, 2170: 3596, 2498: 3597, 4030: 3598, 5080: 3599, 6794: 3600, 7117: 3601, 7845: 3602, 26242: 3603, 27822: 3604, 44828: 3605, 54648: 3606, 60037: 3607, 71379: 3608, 2073: 3609, 2937: 3610, 3038: 3611, 4334: 3612, 73266: 3613, 5876: 3614, 1128: 3615, 1983: 3616, 2163: 3617, 2866: 3618, 3525: 3619, 42418: 3620, 47950: 3621, 3871: 3622, 165549: 3623, 2736: 3624, 6811: 3625, 74868: 3626, 112818: 3627, 4915: 3628, 973: 3629, 2275: 3630, 110127: 3631, 4086: 3632, 92938: 3633, 2188: 3634, 7115: 3635, 3545: 3636, 4814: 3637, 8387: 3638, 65685: 3639, 122902: 3640, 2303: 3641, 2570: 3642, 5081: 3643, 6810: 3644, 4526: 3645, 26152: 3646, 32291: 3647, 66785: 3648, 118997: 3649, 3723: 3650, 2851: 3651, 4518: 3652, 1046: 3653, 1733: 3654, 1860: 3655, 2204: 3656, 4381: 3657, 210: 3658, 240: 3659, 271: 3660, 606: 3661, 187: 3662, 5843: 3663, 5891: 3664, 5988: 3665, 59333: 3666, 86548: 3667, 94070: 3668, 98203: 3669, 27878: 3670, 32460: 3671, 53318: 3672, 74510: 3673, 96432: 3674, 96488: 3675, 512: 3676, 513: 3677, 879: 3678, 1330: 3679, 1550: 3680, 1648: 3681, 2016: 3682, 2836: 3683, 3017: 3684, 3031: 3685, 3190: 3686, 3225: 3687, 3497: 3688, 3500: 3689, 3584: 3690, 3802: 3691, 3990: 3692, 38: 3693, 102993: 3694, 105653: 3695, 105954: 3696, 106540: 3697, 132157: 3698, 136016: 3699, 167036: 3700, 3822: 3701, 6989: 3702, 7069: 3703, 7587: 3704, 187541: 3705, 1592: 3706, 456: 3707, 7481: 3708, 7706: 3709, 7842: 3710, 8951: 3711, 44204: 3712, 47894: 3713, 49961: 3714, 60941: 3715, 61352: 3716, 63433: 3717, 1099: 3718, 1353: 3719, 2333: 3720, 27193: 3721, 199: 3722, 103980: 3723, 639: 3724, 2771: 3725, 3142: 3726, 4067: 3727, 4293: 3728, 4686: 3729, 4502: 3730, 4929: 3731, 7294: 3732, 137337: 3733, 140247: 3734, 4928: 3735, 7748: 3736, 32657: 3737, 85796: 3738, 142997: 3739, 168254: 3740, 168492: 3741, 387: 3742, 479: 3743, 1999: 3744, 2265: 3745, 2587: 3746, 2615: 3747, 2978: 3748, 3430: 3749, 5712: 3750, 6786: 3751, 7000: 3752, 518: 3753, 3774: 3754, 3937: 3755, 3230: 3756, 142222: 3757, 174053: 3758, 184471: 3759, 104069: 3760, 365: 3761, 2905: 3762, 4773: 3763, 7982: 3764, 523: 3765, 1326: 3766, 1382: 3767, 3074: 3768, 4585: 3769, 6636: 3770, 7048: 3771, 7766: 3772, 3786: 3773, 4124: 3774, 4141: 3775, 4969: 3776, 7541: 3777, 48696: 3778, 49772: 3779, 53435: 3780, 55253: 3781, 58347: 3782, 58839: 3783, 62293: 3784, 65188: 3785, 66665: 3786, 67267: 3787, 72167: 3788, 74154: 3789, 78467: 3790, 93287: 3791, 101612: 3792, 105037: 3793, 109483: 3794, 151739: 3795, 6852: 3796, 52967: 3797, 3576: 3798, 103075: 3799, 2383: 3800, 5414: 3801, 6249: 3802, 6687: 3803, 27397: 3804, 299: 3805, 1305: 3806, 1730: 3807, 72356: 3808, 947: 3809, 3606: 3810, 42013: 3811, 73015: 3812, 90717: 3813, 100390: 3814, 100507: 3815, 167018: 3816, 581: 3817, 766: 3818, 2522: 3819, 4850: 3820, 5438: 3821, 6375: 3822, 6744: 3823, 8501: 3824, 8581: 3825, 4126: 3826, 5246: 3827, 6288: 3828, 1942: 3829, 6785: 3830, 2337: 3831, 3163: 3832, 4912: 3833, 6012: 3834, 45175: 3835, 94015: 3836, 1111: 3837, 2131: 3838, 3306: 3839, 3677: 3840, 6643: 3841, 26471: 3842, 74324: 3843, 88235: 3844, 101962: 3845, 127098: 3846, 1684: 3847, 4976: 3848, 5466: 3849, 55245: 3850, 63479: 3851, 65585: 3852, 70565: 3853, 85022: 3854, 87867: 3855, 93443: 3856, 93831: 3857, 128975: 3858, 142422: 3859, 148956: 3860, 158813: 3861, 160271: 3862, 168326: 3863, 2166: 3864, 4063: 3865, 487: 3866, 4792: 3867, 85020: 3868, 109846: 3869, 114795: 3870, 117533: 3871, 117887: 3872, 121231: 3873, 1844: 3874, 4738: 3875, 58301: 3876, 65642: 3877, 67695: 3878, 127096: 3879, 135567: 3880, 152091: 3881, 152970: 3882, 168266: 3883, 1066: 3884, 6093: 3885, 4168: 3886, 1422: 3887, 4066: 3888, 7762: 3889, 1727: 3890, 2561: 3891, 2996: 3892, 3011: 3893, 3093: 3894, 3117: 3895, 4042: 3896, 4259: 3897, 4339: 3898, 4535: 3899, 4703: 3900, 4727: 3901, 5102: 3902, 5873: 3903, 5879: 3904, 5899: 3905, 6808: 3906, 26865: 3907, 42009: 3908, 43917: 3909, 49910: 3910, 6332: 3911, 7316: 3912, 32289: 3913, 2091: 3914, 634: 3915, 840: 3916, 173145: 3917, 2970: 3918, 3076: 3919, 3167: 3920, 3224: 3921, 3467: 3922, 6658: 3923, 27674: 3924, 718: 3925, 1979: 3926, 2789: 3927, 3572: 3928, 1837: 3929, 5415: 3930, 5527: 3931, 5222: 3932, 6252: 3933, 6339: 3934, 5410: 3935, 7259: 3936, 8362: 3937, 33880: 3938, 39427: 3939, 47382: 3940, 3801: 3941, 3909: 3942, 5264: 3943, 7121: 3944, 7215: 3945, 7369: 3946, 25771: 3947, 33499: 3948, 34336: 3949, 48412: 3950, 52694: 3951, 67788: 3952, 70159: 3953, 80126: 3954, 83132: 3955, 98154: 3956, 1447: 3957, 1598: 3958, 2181: 3959, 4160: 3960, 4305: 3961, 4389: 3962, 4439: 3963, 4628: 3964, 4640: 3965, 4888: 3966, 4898: 3967, 5522: 3968, 5646: 3969, 5668: 3970, 5809: 3971, 6341: 3972, 6978: 3973, 109578: 3974, 3516: 3975, 5214: 3976, 3091: 3977, 3627: 3978, 6368: 3979, 25825: 3980, 27879: 3981, 37240: 3982, 39869: 3983, 2967: 3984, 1392: 3985, 2575: 3986, 3436: 3987, 4808: 3988, 461: 3989, 574: 3990, 3194: 3991, 3445: 3992, 67295: 3993, 71462: 3994, 140956: 3995, 185029: 3996, 140359: 3997, 147378: 3998, 147380: 3999, 147384: 4000, 113573: 4001, 170697: 4002, 182823: 4003, 86142: 4004, 692: 4005, 1602: 4006, 1731: 4007, 2786: 4008, 1752: 4009, 63540: 4010, 4605: 4011, 5248: 4012, 8364: 4013, 27882: 4014, 32584: 4015, 2205: 4016, 26322: 4017, 95307: 4018, 97860: 4019, 3843: 4020, 4229: 4021, 6625: 4022, 6695: 4023, 7448: 4024, 38304: 4025, 6040: 4026, 7257: 4027, 7258: 4028, 27790: 4029, 27837: 4030, 34271: 4031, 34532: 4032, 38798: 4033, 39231: 4034, 40851: 4035, 45442: 4036, 49220: 4037, 50798: 4038, 53127: 4039, 62511: 4040, 71823: 4041, 134214: 4042, 577: 4043, 2050: 4044, 1998: 4045, 4803: 4046, 123: 4047, 47810: 4048, 51037: 4049, 58315: 4050, 78088: 4051, 85131: 4052, 90430: 4053, 90531: 4054, 92507: 4055, 93766: 4056, 94266: 4057, 95873: 4058, 109673: 4059, 160954: 4060, 4529: 4061, 6337: 4062, 8011: 4063, 7303: 4064, 2182: 4065, 2593: 4066, 1503: 4067, 1992: 4068, 4533: 4069, 6220: 4070, 6559: 4071, 6872: 4072, 7228: 4073, 7362: 4074, 7894: 4075, 8967: 4076, 27604: 4077, 33834: 4078, 40723: 4079, 51091: 4080, 54785: 4081, 69275: 4082, 74685: 4083, 3384: 4084, 3728: 4085, 5147: 4086, 4091: 4087, 2043: 4088, 2057: 4089, 2120: 4090, 2241: 4091, 2902: 4092, 3689: 4093, 3846: 4094, 3928: 4095, 3930: 4096, 5428: 4097, 5544: 4098, 46967: 4099, 60760: 4100, 2066: 4101, 2660: 4102, 7720: 4103, 130576: 4104, 2149: 4105, 90376: 4106, 112370: 4107, 112911: 4108, 127108: 4109, 89118: 4110, 105197: 4111, 132796: 4112, 2639: 4113, 4697: 4114, 5099: 4115, 5255: 4116, 7026: 4117, 39234: 4118, 53956: 4119, 4432: 4120, 680: 4121, 3732: 4122, 82667: 4123, 40955: 4124, 87304: 4125, 113348: 4126, 173291: 4127, 2882: 4128, 73344: 4129, 165101: 4130, 30850: 4131, 90345: 4132, 4419: 4133, 5951: 4134, 6286: 4135, 7084: 4136, 1996: 4137, 53024: 4138, 2399: 4139, 55167: 4140, 31804: 4141, 40614: 4142, 43376: 4143, 88356: 4144, 104076: 4145, 3865: 4146, 4191: 4147, 6184: 4148, 6710: 4149, 7102: 4150, 7116: 4151, 7386: 4152, 7450: 4153, 44864: 4154, 5477: 4155, 42734: 4156, 103596: 4157, 4175: 4158, 650: 4159, 1605: 4160, 2264: 4161, 3111: 4162, 3953: 4163, 4012: 4164, 4221: 4165, 4721: 4166, 4745: 4167, 6039: 4168, 6308: 4169, 7033: 4170, 7340: 4171, 2807: 4172, 3973: 4173, 4802: 4174, 2693: 4175, 101577: 4176, 2677: 4177, 3109: 4178, 56563: 4179, 4725: 4180, 1804: 4181, 2899: 4182, 3729: 4183, 114060: 4184, 7991: 4185, 70946: 4186, 2874: 4187, 4347: 4188, 4765: 4189, 54: 4190, 113: 4191, 146: 4192, 209: 4193, 212: 4194, 251: 4195, 291: 4196, 304: 4197, 313: 4198, 460: 4199, 536: 4200, 747: 4201, 835: 4202, 888: 4203, 4131: 4204, 5841: 4205, 5965: 4206, 72720: 4207, 74450: 4208, 82499: 4209, 112006: 4210, 1604: 4211, 5120: 4212, 6300: 4213, 47491: 4214, 68159: 4215, 85354: 4216, 96655: 4217, 99728: 4218, 112421: 4219, 158972: 4220, 180095: 4221, 486: 4222, 1322: 4223, 1324: 4224, 1355: 4225, 1551: 4226, 1812: 4227, 1816: 4228, 1888: 4229, 2026: 4230, 2041: 4231, 2227: 4232, 2453: 4233, 2465: 4234, 2555: 4235, 3048: 4236, 3064: 4237, 3324: 4238, 3393: 4239, 3395: 4240, 3712: 4241, 3743: 4242, 3797: 4243, 3837: 4244, 3839: 4245, 6170: 4246, 6345: 4247, 26340: 4248, 50189: 4249, 64032: 4250, 73106: 4251, 94503: 4252, 95067: 4253, 103801: 4254, 103883: 4255, 110130: 4256, 114818: 4257, 115877: 4258, 130450: 4259, 142536: 4260, 166492: 4261, 1859: 4262, 5333: 4263, 6387: 4264, 6790: 4265, 6920: 4266, 7932: 4267, 8012: 4268, 3350: 4269, 4688: 4270, 7009: 4271, 8982: 4272, 27408: 4273, 31116: 4274, 34536: 4275, 48326: 4276, 53550: 4277, 55094: 4278, 55116: 4279, 56607: 4280, 61350: 4281, 62376: 4282, 62394: 4283, 65982: 4284, 69849: 4285, 78: 4286, 452: 4287, 715: 4288, 2310: 4289, 2943: 4290, 6567: 4291, 27728: 4292, 31184: 4293, 228: 4294, 89759: 4295, 100714: 4296, 125916: 4297, 424: 4298, 1453: 4299, 3326: 4300, 3502: 4301, 4207: 4302, 4317: 4303, 4442: 4304, 4482: 4305, 4577: 4306, 1105: 4307, 1934: 4308, 5589: 4309, 72395: 4310, 112804: 4311, 145839: 4312, 3415: 4313, 5021: 4314, 7206: 4315, 8928: 4316, 26422: 4317, 46062: 4318, 81018: 4319, 96606: 4320, 104283: 4321, 136018: 4322, 143969: 4323, 156607: 4324, 170875: 4325, 175485: 4326, 175661: 4327, 188301: 4328, 2363: 4329, 2554: 4330, 2634: 4331, 57532: 4332, 86892: 4333, 1670: 4334, 2102: 4335, 2681: 4336, 3769: 4337, 3075: 4338, 49130: 4339, 50804: 4340, 68848: 4341, 104863: 4342, 115680: 4343, 182715: 4344, 86290: 4345, 5417: 4346, 4537: 4347, 4572: 4348, 5644: 4349, 6022: 4350, 7015: 4351, 2385: 4352, 3554: 4353, 3653: 4354, 6193: 4355, 7010: 4356, 7566: 4357, 26712: 4358, 26778: 4359, 34153: 4360, 40959: 4361, 47970: 4362, 50740: 4363, 51884: 4364, 52767: 4365, 57951: 4366, 69524: 4367, 70521: 4368, 72489: 4369, 74508: 4370, 114762: 4371, 92509: 4372, 99106: 4373, 114074: 4374, 6235: 4375, 6270: 4376, 8183: 4377, 8341: 4378, 8838: 4379, 26578: 4380, 55069: 4381, 55444: 4382, 63436: 4383, 72129: 4384, 78266: 4385, 6566: 4386, 6750: 4387, 7142: 4388, 58303: 4389, 326: 4390, 691: 4391, 1596: 4392, 26974: 4393, 83177: 4394, 946: 4395, 3097: 4396, 4300: 4397, 6650: 4398, 6783: 4399, 7209: 4400, 7297: 4401, 33830: 4402, 40962: 4403, 47725: 4404, 72701: 4405, 73042: 4406, 74698: 4407, 101283: 4408, 108949: 4409, 127052: 4410, 130518: 4411, 141544: 4412, 160567: 4413, 617: 4414, 1340: 4415, 1981: 4416, 2782: 4417, 2817: 4418, 3563: 4419, 3810: 4420, 4438: 4421, 4624: 4422, 6219: 4423, 6327: 4424, 6629: 4425, 6638: 4426, 7650: 4427, 27873: 4428, 1606: 4429, 2103: 4430, 1529: 4431, 6051: 4432, 3819: 4433, 6183: 4434, 3179: 4435, 70728: 4436, 80586: 4437, 91126: 4438, 134881: 4439, 3325: 4440, 4476: 4441, 4663: 4442, 5460: 4443, 25937: 4444, 32300: 4445, 53466: 4446, 54780: 4447, 94833: 4448, 665: 4449, 935: 4450, 2495: 4451, 2931: 4452, 6433: 4453, 8033: 4454, 26082: 4455, 27834: 4456, 30803: 4457, 58425: 4458, 64993: 4459, 85736: 4460, 95377: 4461, 95654: 4462, 96020: 4463, 99145: 4464, 111622: 4465, 120478: 4466, 163134: 4467, 156: 4468, 4024: 4469, 5034: 4470, 5391: 4471, 283: 4472, 528: 4473, 26171: 4474, 1856: 4475, 7225: 4476, 32298: 4477, 34530: 4478, 42007: 4479, 54732: 4480, 62439: 4481, 70641: 4482, 71668: 4483, 73929: 4484, 80139: 4485, 96616: 4486, 100083: 4487, 104925: 4488, 116977: 4489, 155509: 4490, 157312: 4491, 161580: 4492, 162478: 4493, 170813: 4494, 2331: 4495, 2475: 4496, 2844: 4497, 3217: 4498, 3537: 4499, 4003: 4500, 4130: 4501, 103984: 4502, 131714: 4503, 135532: 4504, 112515: 4505, 115122: 4506, 71304: 4507, 90403: 4508, 91690: 4509, 110882: 4510, 117466: 4511, 151455: 4512, 152083: 4513, 156371: 4514, 156387: 4515, 158783: 4516, 567: 4517, 6291: 4518, 893: 4519, 2582: 4520, 59103: 4521, 1401: 4522, 1465: 4523, 2682: 4524, 3055: 4525, 3185: 4526, 4035: 4527, 4187: 4528, 4736: 4529, 4795: 4530, 4822: 4531, 4991: 4532, 5187: 4533, 5506: 4534, 5563: 4535, 6185: 4536, 6950: 4537, 31700: 4538, 78316: 4539, 2038: 4540, 177615: 4541, 3287: 4542, 869: 4543, 1836: 4544, 2511: 4545, 5788: 4546, 2051: 4547, 2818: 4548, 6319: 4549, 5643: 4550, 5485: 4551, 4373: 4552, 6005: 4553, 7045: 4554, 7060: 4555, 7080: 4556, 8008: 4557, 1051: 4558, 2526: 4559, 1936: 4560, 1938: 4561, 3364: 4562, 3964: 4563, 4920: 4564, 5387: 4565, 6483: 4566, 7078: 4567, 7728: 4568, 8695: 4569, 8948: 4570, 42015: 4571, 48593: 4572, 51925: 4573, 56176: 4574, 72731: 4575, 166: 4576, 1649: 4577, 1827: 4578, 2563: 4579, 2691: 4580, 2696: 4581, 3158: 4582, 3598: 4583, 3947: 4584, 4146: 4585, 4644: 4586, 4723: 4587, 4849: 4588, 5046: 4589, 5423: 4590, 5427: 4591, 5680: 4592, 6002: 4593, 6041: 4594, 6215: 4595, 6334: 4596, 6335: 4597, 7299: 4598, 7354: 4599, 2534: 4600, 70533: 4601, 74754: 4602, 84187: 4603, 104303: 4604, 106873: 4605, 165639: 4606, 2035: 4607, 5497: 4608, 8491: 4609, 33421: 4610, 33896: 4611, 46572: 4612, 731: 4613, 3129: 4614, 8833: 4615, 57243: 4616, 5610: 4617, 34321: 4618, 50802: 4619, 1176: 4620, 2024: 4621, 2147: 4622, 8815: 4623, 27368: 4624, 54372: 4625, 58332: 4626, 179817: 4627, 4625: 4628, 7810: 4629, 7812: 4630, 117192: 4631, 147374: 4632, 147382: 4633, 87234: 4634, 927: 4635, 1581: 4636, 1599: 4637, 1626: 4638, 1686: 4639, 2152: 4640, 2477: 4641, 2525: 4642, 2535: 4643, 2537: 4644, 2816: 4645, 3406: 4646, 3431: 4647, 46850: 4648, 61348: 4649, 1430: 4650, 4219: 4651, 5382: 4652, 6306: 4653, 7072: 4654, 7216: 4655, 7311: 4656, 8044: 4657, 9018: 4658, 25841: 4659, 26375: 4660, 32022: 4661, 5523: 4662, 59014: 4663, 91628: 4664, 96448: 4665, 2327: 4666, 2633: 4667, 1236: 4668, 2514: 4669, 6298: 4670, 55241: 4671, 55553: 4672, 4789: 4673, 6374: 4674, 6959: 4675, 7261: 4676, 8369: 4677, 8799: 4678, 8835: 4679, 8836: 4680, 8864: 4681, 8916: 4682, 8939: 4683, 27434: 4684, 32009: 4685, 33639: 4686, 36509: 4687, 42732: 4688, 43919: 4689, 44731: 4690, 45208: 4691, 49276: 4692, 49284: 4693, 50005: 4694, 52283: 4695, 52712: 4696, 71252: 4697, 162600: 4698, 178061: 4699, 4329: 4700, 4852: 4701, 4916: 4702, 4956: 4703, 61026: 4704, 68486: 4705, 80969: 4706, 90888: 4707, 4531: 4708, 7016: 4709, 26686: 4710, 27478: 4711, 32213: 4712, 69606: 4713, 70361: 4714, 75813: 4715, 80862: 4716, 86295: 4717, 86835: 4718, 87298: 4719, 89840: 4720, 91978: 4721, 92008: 4722, 93563: 4723, 95309: 4724, 101076: 4725, 103655: 4726, 110297: 4727, 148888: 4728, 4480: 4729, 5137: 4730, 5820: 4731, 6027: 4732, 3733: 4733, 1791: 4734, 1497: 4735, 2448: 4736, 3235: 4737, 3696: 4738, 3908: 4739, 4771: 4740, 5076: 4741, 5127: 4742, 5556: 4743, 5833: 4744, 6196: 4745, 7024: 4746, 7236: 4747, 7846: 4748, 8906: 4749, 26492: 4750, 26629: 4751, 26870: 4752, 27311: 4753, 59727: 4754, 60979: 4755, 65126: 4756, 70994: 4757, 71211: 4758, 77364: 4759, 79274: 4760, 1904: 4761, 2212: 4762, 3480: 4763, 4285: 4764, 4345: 4765, 4809: 4766, 60293: 4767, 70984: 4768, 1984: 4769, 2095: 4770, 2347: 4771, 2460: 4772, 3015: 4773, 3767: 4774, 3771: 4775, 3957: 4776, 4000: 4777, 4043: 4778, 4492: 4779, 4506: 4780, 4709: 4781, 7619: 4782, 8959: 4783, 31923: 4784, 34528: 4785, 37736: 4786, 43460: 4787, 47261: 4788, 2439: 4789, 2932: 4790, 2988: 4791, 3559: 4792, 33677: 4793, 129937: 4794, 998: 4795, 3544: 4796, 3710: 4797, 1439: 4798, 1526: 4799, 4733: 4800, 4757: 4801, 4845: 4802, 34523: 4803, 36537: 4804, 74916: 4805, 109895: 4806, 8261: 4807, 944: 4808, 49347: 4809, 80590: 4810, 85788: 4811, 94018: 4812, 112897: 4813, 177763: 4814, 92391: 4815, 156726: 4816, 1323: 4817, 3051: 4818, 3145: 4819, 3423: 4820, 4127: 4821, 4520: 4822, 4602: 4823, 4662: 4824, 4673: 4825, 4835: 4826, 4862: 4827, 5696: 4828, 6558: 4829, 6827: 4830, 6850: 4831, 30848: 4832, 34143: 4833, 53974: 4834, 1946: 4835, 4483: 4836, 4117: 4837, 5433: 4838, 81158: 4839, 4256: 4840, 5475: 4841, 6197: 4842, 7124: 4843, 32554: 4844, 64167: 4845, 109187: 4846, 3884: 4847, 30: 4848, 4471: 4849, 5075: 4850, 102194: 4851, 26528: 4852, 3420: 4853, 6869: 4854, 4195: 4855, 5404: 4856, 521: 4857, 2442: 4858, 5074: 4859, 48744: 4860, 59141: 4861, 73854: 4862, 1647: 4863, 155288: 4864, 3299: 4865, 3127: 4866, 1351: 4867, 1601: 4868, 7104: 4869, 7834: 4870, 4444: 4871, 5476: 4872, 7310: 4873, 8526: 4874, 26585: 4875, 74750: 4876, 90603: 4877, 94985: 4878, 1003: 4879, 49647: 4880, 1161: 4881, 2074: 4882, 2488: 4883, 3813: 4884, 4278: 4885, 4289: 4886, 4392: 4887, 4409: 4888, 4441: 4889, 4552: 4890, 4563: 4891, 4833: 4892, 6063: 4893, 6100: 4894, 6885: 4895, 7301: 4896, 8542: 4897, 44759: 4898, 47465: 4899, 1150: 4900, 2708: 4901, 5470: 4902, 60333: 4903, 26810: 4904, 6776: 4905, 3760: 4906, 1332: 4907, 1484: 4908, 1609: 4909, 2119: 4910, 2472: 4911, 2891: 4912, 3206: 4913, 4081: 4914, 4488: 4915, 4636: 4916, 5073: 4917, 5337: 4918, 5437: 4919, 5471: 4920, 5483: 4921, 5625: 4922, 5678: 4923, 6162: 4924, 6315: 4925, 6349: 4926, 6549: 4927, 6582: 4928, 6898: 4929, 6954: 4930, 7348: 4931, 8119: 4932, 30820: 4933, 33725: 4934, 49132: 4935, 49280: 4936, 55250: 4937, 59037: 4938, 6348: 4939, 2540: 4940, 7017: 4941, 30898: 4942, 43708: 4943, 2520: 4944, 5250: 4945, 61289: 4946, 79879: 4947, 80241: 4948, 87876: 4949, 89305: 4950, 104906: 4951, 118702: 4952, 151315: 4953, 6466: 4954, 6966: 4955, 27563: 4956, 1629: 4957, 1913: 4958, 2177: 4959, 3135: 4960, 6584: 4961, 6614: 4962, 7579: 4963, 7840: 4964, 25850: 4965, 6148: 4966, 6436: 4967, 103: 4968, 5613: 4969, 51024: 4970, 85179: 4971, 2107: 4972, 3626: 4973, 38095: 4974, 141866: 4975, 6800: 4976, 99917: 4977, 4794: 4978, 4424: 4979, 27722: 4980, 1793: 4981, 5181: 4982, 5919: 4983, 26409: 4984, 759: 4985, 937: 4986, 4166: 4987, 4252: 4988, 4273: 4989, 179: 4990, 279: 4991, 352: 4992, 795: 4993, 867: 4994, 981: 4995, 38388: 4996, 1987: 4997, 5447: 4998, 5890: 4999, 5893: 5000, 51705: 5001, 105211: 5002, 109853: 5003, 129428: 5004, 511: 5005, 7753: 5006, 26444: 5007, 64197: 5008, 74948: 5009, 86628: 5010, 106839: 5011, 141688: 5012, 185135: 5013, 118: 5014, 984: 5015, 1489: 5016, 1583: 5017, 1718: 5018, 1798: 5019, 1881: 5020, 1906: 5021, 2044: 5022, 2244: 5023, 2255: 5024, 2267: 5025, 2446: 5026, 2614: 5027, 2733: 5028, 2900: 5029, 3370: 5030, 3454: 5031, 3662: 5032, 1547: 5033, 4154: 5034, 6143: 5035, 8574: 5036, 8946: 5037, 52730: 5038, 54276: 5039, 59429: 5040, 96004: 5041, 99532: 5042, 103819: 5043, 109576: 5044, 109864: 5045, 139717: 5046, 139915: 5047, 143245: 5048, 160565: 5049, 132660: 5050, 238: 5051, 808: 5052, 2886: 5053, 211: 5054, 635: 5055, 2272: 5056, 4626: 5057, 5682: 5058, 6428: 5059, 6884: 5060, 6997: 5061, 7025: 5062, 7841: 5063, 7884: 5064, 26649: 5065, 26750: 5066, 26812: 5067, 27793: 5068, 31101: 5069, 48879: 5070, 55080: 5071, 55274: 5072, 59129: 5073, 60753: 5074, 62792: 5075, 64997: 5076, 67534: 5077, 26554: 5078, 1545: 5079, 1621: 5080, 26606: 5081, 2342: 5082, 121: 5083, 685: 5084, 408: 5085, 418: 5086, 3120: 5087, 3694: 5088, 3695: 5089, 4466: 5090, 4516: 5091, 4541: 5092, 4565: 5093, 4629: 5094, 484: 5095, 1642: 5096, 68932: 5097, 132424: 5098, 4399: 5099, 5932: 5100, 6239: 5101, 8235: 5102, 8974: 5103, 26326: 5104, 33781: 5105, 37545: 5106, 92475: 5107, 105250: 5108, 107565: 5109, 135456: 5110, 136305: 5111, 138208: 5112, 165969: 5113, 167370: 5114, 5672: 5115, 59306: 5116, 897: 5117, 1564: 5118, 3446: 5119, 3628: 5120, 3643: 5121, 3773: 5122, 3901: 5123, 1151: 5124, 1428: 5125, 1696: 5126, 74228: 5127, 113741: 5128, 114678: 5129, 128512: 5130, 135518: 5131, 172591: 5132, 173925: 5133, 33779: 5134, 7743: 5135, 7930: 5136, 8832: 5137, 26504: 5138, 33683: 5139, 4079: 5140, 5023: 5141, 6124: 5142, 6313: 5143, 7493: 5144, 7647: 5145, 8024: 5146, 8605: 5147, 3077: 5148, 8677: 5149, 26871: 5150, 42018: 5151, 48342: 5152, 50658: 5153, 54116: 5154, 54734: 5155, 55620: 5156, 56336: 5157, 56379: 5158, 58107: 5159, 66198: 5160, 74668: 5161, 78703: 5162, 81910: 5163, 48414: 5164, 123947: 5165, 138204: 5166, 5304: 5167, 5341: 5168, 5867: 5169, 6244: 5170, 6858: 5171, 7087: 5172, 7889: 5173, 48698: 5174, 50274: 5175, 75395: 5176, 82041: 5177, 84189: 5178, 85397: 5179, 90469: 5180, 93297: 5181, 96691: 5182, 100810: 5183, 6946: 5184, 214: 5185, 321: 5186, 331: 5187, 369: 5188, 53: 5189, 1624: 5190, 74553: 5191, 6464: 5192, 5529: 5193, 7067: 5194, 8978: 5195, 26183: 5196, 26184: 5197, 27619: 5198, 33090: 5199, 49013: 5200, 60289: 5201, 64116: 5202, 66798: 5203, 66943: 5204, 80727: 5205, 83910: 5206, 86059: 5207, 88746: 5208, 92643: 5209, 93006: 5210, 98279: 5211, 102378: 5212, 104339: 5213, 104875: 5214, 113252: 5215, 117109: 5216, 118572: 5217, 121097: 5218, 125974: 5219, 128852: 5220, 128968: 5221, 131826: 5222, 132422: 5223, 132800: 5224, 133712: 5225, 141830: 5226, 164200: 5227, 169912: 5228, 179211: 5229, 181065: 5230, 184791: 5231, 896: 5232, 1417: 5233, 384: 5234, 2419: 5235, 2625: 5236, 2784: 5237, 2790: 5238, 2868: 5239, 3768: 5240, 4092: 5241, 4316: 5242, 4599: 5243, 4661: 5244, 4909: 5245, 4987: 5246, 5165: 5247, 5346: 5248, 5588: 5249, 6203: 5250, 6963: 5251, 7118: 5252, 8016: 5253, 2280: 5254, 5619: 5255, 58972: 5256, 81819: 5257, 87194: 5258, 91671: 5259, 99764: 5260, 3719: 5261, 3746: 5262, 6060: 5263, 6169: 5264, 6579: 5265, 7050: 5266, 93805: 5267, 94150: 5268, 8656: 5269, 32892: 5270, 36363: 5271, 42191: 5272, 57183: 5273, 58554: 5274, 69529: 5275, 73881: 5276, 74727: 5277, 100553: 5278, 101088: 5279, 105593: 5280, 108727: 5281, 118888: 5282, 118985: 5283, 126430: 5284, 2585: 5285, 5011: 5286, 5051: 5287, 40870: 5288, 5564: 5289, 59143: 5290, 61255: 5291, 71205: 5292, 74275: 5293, 78174: 5294, 92264: 5295, 97172: 5296, 98083: 5297, 102720: 5298, 110669: 5299, 112497: 5300, 127152: 5301, 129737: 5302, 130087: 5303, 148652: 5304, 155812: 5305, 159441: 5306, 159755: 5307, 165103: 5308, 165947: 5309, 171867: 5310, 172215: 5311, 172547: 5312, 184015: 5313, 779: 5314, 1600: 5315, 1829: 5316, 1897: 5317, 2749: 5318, 3103: 5319, 3546: 5320, 62383: 5321, 46337: 5322, 66511: 5323, 108689: 5324, 136666: 5325, 141004: 5326, 144976: 5327, 4082: 5328, 6902: 5329, 26681: 5330, 27482: 5331, 50842: 5332, 55278: 5333, 63276: 5334, 69516: 5335, 71429: 5336, 89190: 5337, 91470: 5338, 92694: 5339, 99437: 5340, 100882: 5341, 139855: 5342, 141408: 5343, 142420: 5344, 142456: 5345, 142509: 5346, 155064: 5347, 159415: 5348, 159717: 5349, 7773: 5350, 4634: 5351, 2330: 5352, 3679: 5353, 5177: 5354, 7171: 5355, 3372: 5356, 3597: 5357, 3906: 5358, 4031: 5359, 4337: 5360, 4534: 5361, 4836: 5362, 5256: 5363, 5282: 5364, 5357: 5365, 5611: 5366, 6448: 5367, 8121: 5368, 8199: 5369, 26172: 5370, 42730: 5371, 44399: 5372, 49524: 5373, 27416: 5374, 160718: 5375, 885: 5376, 81456: 5377, 85885: 5378, 105355: 5379, 425: 5380, 764: 5381, 3028: 5382, 3141: 5383, 3223: 5384, 3283: 5385, 3473: 5386, 4784: 5387, 5637: 5388, 6509: 5389, 6684: 5390, 7089: 5391, 7107: 5392, 1107: 5393, 2210: 5394, 2314: 5395, 2364: 5396, 2977: 5397, 4055: 5398, 4440: 5399, 7333: 5400, 33564: 5401, 4142: 5402, 4193: 5403, 5472: 5404, 6324: 5405, 6568: 5406, 7614: 5407, 44613: 5408, 1929: 5409, 2847: 5410, 6412: 5411, 6856: 5412, 7054: 5413, 7222: 5414, 8600: 5415, 8609: 5416, 8718: 5417, 25750: 5418, 25827: 5419, 25856: 5420, 49389: 5421, 61406: 5422, 89939: 5423, 760: 5424, 1437: 5425, 1695: 5426, 1941: 5427, 2295: 5428, 2607: 5429, 3003: 5430, 3078: 5431, 3150: 5432, 3747: 5433, 3862: 5434, 3879: 5435, 4152: 5436, 4313: 5437, 4350: 5438, 4699: 5439, 4770: 5440, 4811: 5441, 4826: 5442, 4911: 5443, 4919: 5444, 4959: 5445, 5062: 5446, 5083: 5447, 5131: 5448, 5347: 5449, 5425: 5450, 5486: 5451, 5609: 5452, 5772: 5453, 5999: 5454, 6217: 5455, 6330: 5456, 6572: 5457, 7352: 5458, 7449: 5459, 3573: 5460, 68959: 5461, 109848: 5462, 164917: 5463, 166291: 5464, 178827: 5465, 180297: 5466, 180497: 5467, 189333: 5468, 1767: 5469, 5499: 5470, 7844: 5471, 8582: 5472, 25788: 5473, 27850: 5474, 27865: 5475, 32387: 5476, 99: 5477, 269: 5478, 668: 5479, 26116: 5480, 1502: 5481, 3932: 5482, 1055: 5483, 2165: 5484, 2674: 5485, 4608: 5486, 5670: 5487, 27685: 5488, 1312: 5489, 3138: 5490, 3214: 5491, 3402: 5492, 3725: 5493, 3834: 5494, 5949: 5495, 59604: 5496, 81132: 5497, 40697: 5498, 100611: 5499, 147372: 5500, 147376: 5501, 150596: 5502, 92439: 5503, 107314: 5504, 161922: 5505, 168366: 5506, 89582: 5507, 55451: 5508, 3963: 5509, 504: 5510, 564: 5511, 870: 5512, 1085: 5513, 1937: 5514, 2350: 5515, 2741: 5516, 3165: 5517, 3432: 5518, 6425: 5519, 4749: 5520, 55292: 5521, 62344: 5522, 7056: 5523, 27768: 5524, 27820: 5525, 27899: 5526, 30846: 5527, 31437: 5528, 32770: 5529, 5710: 5530, 8363: 5531, 66744: 5532, 97168: 5533, 103137: 5534, 3042: 5535, 1887: 5536, 2515: 5537, 4782: 5538, 6523: 5539, 51088: 5540, 6013: 5541, 6862: 5542, 7440: 5543, 8530: 5544, 8830: 5545, 8912: 5546, 30883: 5547, 31114: 5548, 31431: 5549, 31445: 5550, 33815: 5551, 36533: 5552, 37853: 5553, 40946: 5554, 43556: 5555, 43932: 5556, 48161: 5557, 48596: 5558, 49793: 5559, 50158: 5560, 50445: 5561, 50923: 5562, 51698: 5563, 51937: 5564, 58876: 5565, 61705: 5566, 67186: 5567, 917: 5568, 1460: 5569, 1495: 5570, 2566: 5571, 4947: 5572, 4957: 5573, 118700: 5574, 547: 5575, 5279: 5576, 7486: 5577, 8327: 5578, 80615: 5579, 151763: 5580, 4470: 5581, 66171: 5582, 82053: 5583, 84942: 5584, 88699: 5585, 88954: 5586, 90057: 5587, 91622: 5588, 95583: 5589, 98239: 5590, 99910: 5591, 102684: 5592, 103539: 5593, 103624: 5594, 105351: 5595, 107953: 5596, 109042: 5597, 143367: 5598, 184253: 5599, 142115: 5600, 4217: 5601, 26524: 5602, 44929: 5603, 48883: 5604, 3929: 5605, 131656: 5606, 140725: 5607, 2766: 5608, 4711: 5609, 7564: 5610, 294: 5611, 988: 5612, 1415: 5613, 388: 5614, 2178: 5615, 2630: 5616, 3938: 5617, 4224: 5618, 4683: 5619, 5569: 5620, 5667: 5621, 5853: 5622, 6379: 5623, 6405: 5624, 7321: 5625, 7646: 5626, 8142: 5627, 8578: 5628, 27618: 5629, 30745: 5630, 45361: 5631, 50800: 5632, 51498: 5633, 56012: 5634, 57536: 5635, 58870: 5636, 60291: 5637, 60522: 5638, 66783: 5639, 74075: 5640, 74851: 5641, 78041: 5642, 80846: 5643, 1123: 5644, 1406: 5645, 1533: 5646, 1571: 5647, 2069: 5648, 2323: 5649, 2624: 5650, 3046: 5651, 3302: 5652, 3794: 5653, 4061: 5654, 5258: 5655, 5603: 5656, 5938: 5657, 6122: 5658, 6254: 5659, 1167: 5660, 107069: 5661, 86817: 5662, 91079: 5663, 2098: 5664, 2365: 5665, 2400: 5666, 2903: 5667, 3161: 5668, 3313: 5669, 3368: 5670, 3833: 5671, 3971: 5672, 4009: 5673, 4412: 5674, 4443: 5675, 5462: 5676, 5543: 5677, 43869: 5678, 26704: 5679, 341: 5680, 1699: 5681, 2494: 5682, 3738: 5683, 3849: 5684, 2828: 5685, 87522: 5686, 97470: 5687, 113345: 5688, 115231: 5689, 278: 5690, 499: 5691, 1440: 5692, 171765: 5693, 6554: 5694, 54745: 5695, 58655: 5696, 58806: 5697, 61729: 5698, 71248: 5699, 72405: 5700, 74452: 5701, 76060: 5702, 84615: 5703, 103048: 5704, 136449: 5705, 6818: 5706, 26249: 5707, 60516: 5708, 72294: 5709, 79251: 5710, 91842: 5711, 105585: 5712, 109850: 5713, 148671: 5714, 185585: 5715, 104908: 5716, 105731: 5717, 115664: 5718, 122884: 5719, 159858: 5720, 1325: 5721, 1328: 5722, 1490: 5723, 2154: 5724, 2332: 5725, 2962: 5726, 3830: 5727, 4403: 5728, 4619: 5729, 4893: 5730, 5170: 5731, 5361: 5732, 5443: 5733, 5454: 5734, 5538: 5735, 5539: 5736, 5735: 5737, 6153: 5738, 6265: 5739, 6999: 5740, 7030: 5741, 8506: 5742, 9005: 5743, 26792: 5744, 27555: 5745, 27838: 5746, 33171: 5747, 33681: 5748, 34326: 5749, 48518: 5750, 48678: 5751, 52375: 5752, 55272: 5753, 56003: 5754, 5398: 5755, 25886: 5756, 3330: 5757, 6410: 5758, 7305: 5759, 40: 5760, 5925: 5761, 703: 5762, 104272: 5763, 1419: 5764, 3569: 5765, 4708: 5766, 5202: 5767, 5238: 5768, 8724: 5769, 8748: 5770, 27186: 5771, 48638: 5772, 53574: 5773, 54185: 5774, 57772: 5775, 58376: 5776, 60408: 5777, 60885: 5778, 71131: 5779, 72171: 5780, 74791: 5781, 76173: 5782, 77191: 5783, 78836: 5784, 83827: 5785, 87444: 5786, 89030: 5787, 92422: 5788, 101741: 5789, 105254: 5790, 109968: 5791, 117545: 5792, 118880: 5793, 127204: 5794, 127298: 5795, 133802: 5796, 148424: 5797, 168612: 5798, 170355: 5799, 171495: 5800, 173197: 5801, 26555: 5802, 111443: 5803, 3912: 5804, 80: 5805, 183: 5806, 2425: 5807, 4263: 5808, 4294: 5809, 4523: 5810, 4714: 5811, 5033: 5812, 5980: 5813, 5226: 5814, 7925: 5815, 26564: 5816, 3580: 5817, 47404: 5818, 82378: 5819, 141749: 5820, 141890: 5821, 166946: 5822, 176751: 5823, 94405: 5824, 5707: 5825, 1572: 5826, 4297: 5827, 4422: 5828, 6023: 5829, 6530: 5830, 7820: 5831, 7937: 5832, 8405: 5833, 6223: 5834, 6263: 5835, 40412: 5836, 52579: 5837, 88272: 5838, 89028: 5839, 89761: 5840, 90471: 5841, 92048: 5842, 44889: 5843, 4622: 5844, 6612: 5845, 74282: 5846, 70687: 5847, 161127: 5848, 101415: 5849, 106062: 5850, 107997: 5851, 109569: 5852, 148172: 5853, 155820: 5854, 3453: 5855, 4053: 5856, 4517: 5857, 3758: 5858, 335: 5859, 1352: 5860, 5113: 5861, 5288: 5862, 7756: 5863, 8138: 5864, 8610: 5865, 152: 5866, 5134: 5867, 6889: 5868, 26999: 5869, 27584: 5870, 32456: 5871, 44020: 5872, 47124: 5873, 51927: 5874, 52950: 5875, 58404: 5876, 63222: 5877, 64249: 5878, 65133: 5879, 68194: 5880, 77798: 5881, 84414: 5882, 95147: 5883, 95182: 5884, 95475: 5885, 95497: 5886, 96815: 5887, 97643: 5888, 101739: 5889, 104419: 5890, 104457: 5891, 63808: 5892, 4580: 5893, 4632: 5894, 26764: 5895, 26765: 5896, 48598: 5897, 50003: 5898, 91660: 5899, 104074: 5900, 112460: 5901, 114713: 5902, 116887: 5903, 142372: 5904, 152079: 5905, 2546: 5906, 2669: 5907, 4276: 5908, 4355: 5909, 206: 5910, 363: 5911, 841: 5912, 1329: 5913, 1662: 5914, 1770: 5915, 2071: 5916, 3587: 5917, 3765: 5918, 4298: 5919, 4390: 5920, 4426: 5921, 4429: 5922, 4527: 5923, 4985: 5924, 5397: 5925, 5531: 5926, 5984: 5927, 6035: 5928, 6577: 5929, 6918: 5930, 6981: 5931, 7091: 5932, 7581: 5933, 7895: 5934, 8195: 5935, 8270: 5936, 8290: 5937, 8596: 5938, 25898: 5939, 26052: 5940, 26151: 5941, 41617: 5942, 52644: 5943, 104245: 5944, 7208: 5945, 695: 5946, 4965: 5947, 26631: 5948, 61465: 5949, 27664: 5950, 70305: 5951, 85412: 5952, 87785: 5953, 389: 5954, 549: 5955, 670: 5956, 3823: 5957, 3855: 5958, 4077: 5959, 4268: 5960, 119: 5961, 1922: 5962, 2007: 5963, 2260: 5964, 2271: 5965, 2482: 5966, 2552: 5967, 2928: 5968, 3391: 5969, 3539: 5970, 3581: 5971, 3790: 5972, 3898: 5973, 4125: 5974, 4138: 5975, 4147: 5976, 4312: 5977, 4462: 5978, 4478: 5979, 4600: 5980, 4617: 5981, 4672: 5982, 4780: 5983, 4847: 5984, 5297: 5985, 5324: 5986, 5521: 5987, 5633: 5988, 5636: 5989, 5685: 5990, 5688: 5991, 5880: 5992, 5994: 5993, 6078: 5994, 6116: 5995, 6159: 5996, 6195: 5997, 6216: 5998, 6268: 5999, 6269: 6000, 6280: 6001, 6314: 6002, 6442: 6003, 6517: 6004, 6547: 6005, 6616: 6006, 6631: 6007, 6670: 6008, 6720: 6009, 6780: 6010, 6812: 6011, 6851: 6012, 7175: 6013, 7193: 6014, 7315: 6015, 8919: 6016, 41527: 6017, 45062: 6018, 45635: 6019, 46347: 6020, 49957: 6021, 50792: 6022, 52668: 6023, 54771: 6024, 60128: 6025, 61401: 6026, 70862: 6027, 166024: 6028, 166568: 6029, 90374: 6030, 50851: 6031, 97866: 6032, 8337: 6033, 3447: 6034, 4190: 6035, 91325: 6036, 6055: 6037, 80880: 6038, 568: 6039, 4743: 6040, 5409: 6041, 6992: 6042, 7192: 6043, 8782: 6044, 36276: 6045, 941: 6046, 2521: 6047, 2523: 6048, 4397: 6049, 4756: 6050, 5334: 6051, 5915: 6052, 6760: 6053, 6798: 6054, 8743: 6055, 26700: 6056, 69453: 6057, 69604: 6058, 71732: 6059, 72224: 6060, 88672: 6061, 90343: 6062, 93980: 6063, 94323: 6064, 94896: 6065, 96281: 6066, 102880: 6067, 103543: 6068, 104129: 6069, 106330: 6070, 106438: 6071, 107702: 6072, 108188: 6073, 109372: 6074, 110655: 6075, 111663: 6076, 113532: 6077, 114028: 6078, 114601: 6079, 118924: 6080, 119655: 6081, 120637: 6082, 127136: 6083, 143257: 6084, 144620: 6085, 150401: 6086, 157200: 6087, 158956: 6088, 3240: 6089, 3241: 6090, 3787: 6091, 1341: 6092, 3859: 6093, 3989: 6094, 4863: 6095, 4977: 6096, 5205: 6097, 5224: 6098, 6945: 6099, 7767: 6100, 8620: 6101, 8848: 6102, 32582: 6103, 45382: 6104, 67665: 6105, 103107: 6106, 907: 6107, 1413: 6108, 1650: 6109, 2185: 6110, 2187: 6111, 2201: 6112, 2927: 6113, 2929: 6114, 3211: 6115, 3475: 6116, 3641: 6117, 3715: 6118, 3966: 6119, 4080: 6120, 4113: 6121, 4164: 6122, 4292: 6123, 4296: 6124, 4433: 6125, 4484: 6126, 4578: 6127, 4589: 6128, 4796: 6129, 4801: 6130, 5512: 6131, 5694: 6132, 5755: 6133, 5963: 6134, 6031: 6135, 6357: 6136, 6376: 6137, 6581: 6138, 6732: 6139, 6770: 6140, 6909: 6141, 6970: 6142, 7019: 6143, 7051: 6144, 7059: 6145, 7079: 6146, 7082: 6147, 7085: 6148, 7092: 6149, 7093: 6150, 7212: 6151, 7382: 6152, 7584: 6153, 7618: 6154, 7705: 6155, 7789: 6156, 7883: 6157, 7888: 6158, 8167: 6159, 8451: 6160, 8482: 6161, 8487: 6162, 8492: 6163, 8521: 6164, 8730: 6165, 8778: 6166, 8809: 6167, 8813: 6168, 8943: 6169, 26965: 6170, 31694: 6171, 50160: 6172, 5069: 6173, 31660: 6174, 68945: 6175, 72308: 6176, 82242: 6177, 5389: 6178, 2068: 6179, 6320: 6180, 8268: 6181, 93723: 6182, 101765: 6183, 80551: 6184, 87413: 6185, 91488: 6186, 94130: 6187, 50954: 6188, 1170: 6189, 73290: 6190, 56286: 6191, 1910: 6192, 79798: 6193, 68269: 6194, 50796: 6195, 84847: 6196, 34148: 6197, 1978: 6198, 2878: 6199, 26198: 6200, 160571: 6201, 187031: 6202, 152037: 6203, 98122: 6204, 3673: 6205, 27251: 6206, 53138: 6207, 53140: 6208, 69805: 6209, 91353: 6210, 116668: 6211, 55946: 6212, 1986: 6213, 1397: 6214, 2256: 6215, 2597: 6216, 3577: 6217, 3660: 6218, 148881: 6219, 105468: 6220, 73211: 6221, 44225: 6222, 8477: 6223, 104944: 6224, 114627: 6225, 136602: 6226, 176419: 6227, 1623: 6228, 430: 6229, 2629: 6230, 7395: 6231, 4200: 6232, 6140: 6233, 6723: 6234, 6994: 6235, 7782: 6236, 8035: 6237, 3094: 6238, 129397: 6239, 1112: 6240, 2586: 6241, 3571: 6242, 4574: 6243, 4593: 6244, 5096: 6245, 5136: 6246, 5597: 6247, 6734: 6248, 7108: 6249, 7307: 6250, 7657: 6251, 26159: 6252, 26413: 6253, 26510: 6254, 26542: 6255, 26547: 6256, 26612: 6257, 27032: 6258, 27441: 6259, 36850: 6260, 39801: 6261, 42946: 6262, 53022: 6263, 53161: 6264, 62970: 6265, 73569: 6266, 86898: 6267, 92309: 6268, 98499: 6269, 98623: 6270, 184: 6271, 506: 6272, 645: 6273, 1612: 6274, 2283: 6275, 3655: 6276, 4428: 6277, 4690: 6278, 1473: 6279, 131724: 6280, 5746: 6281, 5764: 6282, 6835: 6283, 7899: 6284, 106: 6285, 3851: 6286, 4074: 6287, 4260: 6288, 189: 6289, 201: 6290, 219: 6291, 243: 6292, 254: 6293, 310: 6294, 336: 6295, 359: 6296, 510: 6297, 775: 6298, 979: 6299, 5962: 6300, 6044: 6301, 72330: 6302, 77841: 6303, 97024: 6304, 113275: 6305, 113394: 6306, 137595: 6307, 7843: 6308, 8117: 6309, 27689: 6310, 27716: 6311, 51357: 6312, 65596: 6313, 71108: 6314, 73499: 6315, 88094: 6316, 92094: 6317, 107846: 6318, 112334: 6319, 114066: 6320, 140289: 6321, 144210: 6322, 145283: 6323, 155168: 6324, 157108: 6325, 157110: 6326, 166015: 6327, 171023: 6328, 180777: 6329, 295: 6330, 1427: 6331, 1456: 6332, 1679: 6333, 1891: 6334, 2037: 6335, 2754: 6336, 2898: 6337, 3056: 6338, 3400: 6339, 3622: 6340, 3692: 6341, 3410: 6342, 4449: 6343, 4783: 6344, 6358: 6345, 47566: 6346, 73858: 6347, 85259: 6348, 86068: 6349, 95170: 6350, 95738: 6351, 107013: 6352, 107449: 6353, 109723: 6354, 111844: 6355, 115502: 6356, 117368: 6357, 117572: 6358, 117922: 6359, 119964: 6360, 138186: 6361, 140301: 6362, 148675: 6363, 149380: 6364, 160872: 6365, 173307: 6366, 68536: 6367, 6234: 6368, 7924: 6369, 2032: 6370, 2876: 6371, 2358: 6372, 4251: 6373, 4772: 6374, 6817: 6375, 8010: 6376, 8378: 6377, 8495: 6378, 26695: 6379, 26901: 6380, 27450: 6381, 33558: 6382, 45658: 6383, 49265: 6384, 51471: 6385, 52042: 6386, 54962: 6387, 59018: 6388, 60046: 6389, 60389: 6390, 60647: 6391, 60674: 6392, 60735: 6393, 60943: 6394, 61011: 6395, 61167: 6396, 61210: 6397, 61628: 6398, 61986: 6399, 62799: 6400, 63033: 6401, 1458: 6402, 385: 6403, 1841: 6404, 889: 6405, 5307: 6406, 391: 6407, 69712: 6408, 82767: 6409, 96567: 6410, 2164: 6411, 4282: 6412, 4658: 6413, 8143: 6414, 8379: 6415, 27513: 6416, 32659: 6417, 32875: 6418, 44719: 6419, 46862: 6420, 63312: 6421, 64278: 6422, 66335: 6423, 82848: 6424, 88911: 6425, 92046: 6426, 92427: 6427, 93114: 6428, 101072: 6429, 103171: 6430, 107338: 6431, 111732: 6432, 113374: 6433, 114335: 6434, 115203: 6435, 127146: 6436, 128695: 6437, 134515: 6438, 136564: 6439, 142074: 6440, 142602: 6441, 142961: 6442, 151759: 6443, 160569: 6444, 164280: 6445, 171701: 6446, 171759: 6447, 172013: 6448, 172461: 6449, 174141: 6450, 174403: 6451, 174737: 6452, 175693: 6453, 175705: 6454, 175707: 6455, 175743: 6456, 175781: 6457, 179073: 6458, 190183: 6459, 2661: 6460, 4496: 6461, 6371: 6462, 7040: 6463, 1631: 6464, 2075: 6465, 83369: 6466, 170827: 6467, 176601: 6468, 183611: 6469, 185031: 6470, 92494: 6471, 102217: 6472, 4964: 6473, 7411: 6474, 8093: 6475, 8795: 6476, 27523: 6477, 27869: 6478, 2257: 6479, 4581: 6480, 4611: 6481, 7127: 6482, 8158: 6483, 875: 6484, 4877: 6485, 6939: 6486, 27473: 6487, 27539: 6488, 27705: 6489, 31049: 6490, 41724: 6491, 47978: 6492, 50806: 6493, 54121: 6494, 55112: 6495, 55190: 6496, 58078: 6497, 59220: 6498, 59440: 6499, 59731: 6500, 60363: 6501, 67618: 6502, 69394: 6503, 69904: 6504, 70492: 6505, 70990: 6506, 72591: 6507, 76751: 6508, 90576: 6509, 95218: 6510, 95624: 6511, 74647: 6512, 111320: 6513, 112450: 6514, 5300: 6515, 8804: 6516, 26350: 6517, 31522: 6518, 44937: 6519, 57147: 6520, 81535: 6521, 2659: 6522, 60030: 6523, 69654: 6524, 96917: 6525, 98361: 6526, 6752: 6527, 6886: 6528, 6949: 6529, 55: 6530, 287: 6531, 324: 6532, 406: 6533, 722: 6534, 726: 6535, 987: 6536, 1140: 6537, 1519: 6538, 7312: 6539, 3315: 6540, 3604: 6541, 6271: 6542, 6402: 6543, 6604: 6544, 8238: 6545, 25887: 6546, 26265: 6547, 26429: 6548, 26645: 6549, 27826: 6550, 31851: 6551, 31925: 6552, 32060: 6553, 32243: 6554, 34312: 6555, 35807: 6556, 37444: 6557, 41828: 6558, 42761: 6559, 44773: 6560, 44777: 6561, 44851: 6562, 46105: 6563, 47736: 6564, 48649: 6565, 49735: 6566, 50613: 6567, 50999: 6568, 51167: 6569, 53280: 6570, 53355: 6571, 53578: 6572, 58291: 6573, 60737: 6574, 62008: 6575, 65588: 6576, 67888: 6577, 69211: 6578, 69304: 6579, 69469: 6580, 69720: 6581, 70697: 6582, 72178: 6583, 72624: 6584, 72692: 6585, 73160: 6586, 73822: 6587, 74342: 6588, 74683: 6589, 76143: 6590, 76301: 6591, 77688: 6592, 78142: 6593, 78620: 6594, 79684: 6595, 79897: 6596, 81087: 6597, 83969: 6598, 84246: 6599, 84512: 6600, 85295: 6601, 87834: 6602, 88069: 6603, 89898: 6604, 91355: 6605, 91386: 6606, 91666: 6607, 93022: 6608, 94661: 6609, 95633: 6610, 95843: 6611, 96608: 6612, 96935: 6613, 99122: 6614, 99130: 6615, 99853: 6616, 102747: 6617, 102984: 6618, 103602: 6619, 105540: 6620, 105746: 6621, 106594: 6622, 106927: 6623, 107951: 6624, 108078: 6625, 109241: 6626, 109596: 6627, 111146: 6628, 115111: 6629, 116718: 6630, 116738: 6631, 116817: 6632, 118270: 6633, 118530: 6634, 118834: 6635, 118862: 6636, 118894: 6637, 119714: 6638, 120813: 6639, 121007: 6640, 121338: 6641, 121342: 6642, 121469: 6643, 121781: 6644, 122092: 6645, 124273: 6646, 124404: 6647, 125970: 6648, 126088: 6649, 126577: 6650, 126921: 6651, 127134: 6652, 128087: 6653, 128089: 6654, 128366: 6655, 128594: 6656, 128944: 6657, 129011: 6658, 130452: 6659, 131098: 6660, 131104: 6661, 131130: 6662, 131439: 6663, 131610: 6664, 132153: 6665, 132496: 6666, 132584: 6667, 133867: 6668, 133879: 6669, 134004: 6670, 134334: 6671, 134847: 6672, 135777: 6673, 135937: 6674, 136341: 6675, 136353: 6676, 136355: 6677, 136359: 6678, 136503: 6679, 136834: 6680, 139157: 6681, 139640: 6682, 139994: 6683, 140133: 6684, 140481: 6685, 140541: 6686, 140561: 6687, 141513: 6688, 141646: 6689, 141928: 6690, 142196: 6691, 142444: 6692, 142550: 6693, 142831: 6694, 143031: 6695, 143559: 6696, 144222: 6697, 145491: 6698, 146244: 6699, 146684: 6700, 146986: 6701, 147410: 6702, 147936: 6703, 148632: 6704, 148775: 6705, 149350: 6706, 149508: 6707, 149566: 6708, 150554: 6709, 153386: 6710, 153408: 6711, 155589: 6712, 156025: 6713, 156781: 6714, 157775: 6715, 158398: 6716, 158882: 6717, 159069: 6718, 163527: 6719, 164226: 6720, 164707: 6721, 167380: 6722, 167772: 6723, 167854: 6724, 170837: 6725, 170993: 6726, 171751: 6727, 171811: 6728, 172321: 6729, 173253: 6730, 174681: 6731, 176621: 6732, 176805: 6733, 177185: 6734, 182293: 6735, 182297: 6736, 182299: 6737, 182731: 6738, 184349: 6739, 791: 6740, 1116: 6741, 1137: 6742, 1144: 6743, 1337: 6744, 1771: 6745, 2298: 6746, 2651: 6747, 2992: 6748, 3013: 6749, 4645: 6750, 4800: 6751, 5640: 6752, 5749: 6753, 6395: 6754, 6678: 6755, 7308: 6756, 7492: 6757, 7561: 6758, 8147: 6759, 8426: 6760, 1659: 6761, 5109: 6762, 57522: 6763, 62553: 6764, 64114: 6765, 65577: 6766, 69140: 6767, 77206: 6768, 77427: 6769, 79572: 6770, 80572: 6771, 86014: 6772, 86815: 6773, 88108: 6774, 2837: 6775, 4740: 6776, 6030: 6777, 69988: 6778, 80584: 6779, 3592: 6780, 3687: 6781, 4325: 6782, 4788: 6783, 5373: 6784, 5888: 6785, 5889: 6786, 5912: 6787, 8025: 6788, 8197: 6789, 8511: 6790, 26150: 6791, 26236: 6792, 26237: 6793, 26347: 6794, 26587: 6795, 26849: 6796, 27134: 6797, 33124: 6798, 38159: 6799, 48872: 6800, 56060: 6801, 60904: 6802, 63515: 6803, 69685: 6804, 72104: 6805, 75341: 6806, 79333: 6807, 80124: 6808, 84156: 6809, 84844: 6810, 85316: 6811, 86066: 6812, 88345: 6813, 91261: 6814, 93790: 6815, 95175: 6816, 95311: 6817, 95313: 6818, 96373: 6819, 98604: 6820, 100302: 6821, 102602: 6822, 102666: 6823, 104780: 6824, 107159: 6825, 107408: 6826, 107410: 6827, 107412: 6828, 108540: 6829, 108981: 6830, 109633: 6831, 110586: 6832, 116411: 6833, 117444: 6834, 118166: 6835, 118896: 6836, 120138: 6837, 120625: 6838, 126090: 6839, 126426: 6840, 129514: 6841, 130970: 6842, 130976: 6843, 130978: 6844, 131237: 6845, 133716: 6846, 134041: 6847, 134095: 6848, 134109: 6849, 134184: 6850, 134252: 6851, 134326: 6852, 134849: 6853, 136445: 6854, 136447: 6855, 138835: 6856, 140038: 6857, 140265: 6858, 141810: 6859, 141816: 6860, 141818: 6861, 141820: 6862, 141836: 6863, 141844: 6864, 142020: 6865, 143511: 6866, 145994: 6867, 146028: 6868, 147196: 6869, 147250: 6870, 147282: 6871, 147286: 6872, 147300: 6873, 147326: 6874, 147328: 6875, 147330: 6876, 151769: 6877, 152591: 6878, 158402: 6879, 159811: 6880, 163072: 6881, 163112: 6882, 163386: 6883, 163925: 6884, 165959: 6885, 166183: 6886, 170411: 6887, 170597: 6888, 170777: 6889, 171749: 6890, 172577: 6891, 172583: 6892, 172585: 6893, 172587: 6894, 172589: 6895, 172637: 6896, 172793: 6897, 172825: 6898, 172909: 6899, 173351: 6900, 173355: 6901, 173535: 6902, 173619: 6903, 173963: 6904, 174551: 6905, 175293: 6906, 175387: 6907, 175397: 6908, 175401: 6909, 175431: 6910, 175435: 6911, 178613: 6912, 179133: 6913, 99636: 6914, 3795: 6915, 6049: 6916, 7096: 6917, 100194: 6918, 104644: 6919, 109282: 6920, 110773: 6921, 111375: 6922, 118930: 6923, 119153: 6924, 121372: 6925, 121374: 6926, 121715: 6927, 123200: 6928, 127116: 6929, 127390: 6930, 128097: 6931, 128099: 6932, 128914: 6933, 134861: 6934, 136443: 6935, 136471: 6936, 136511: 6937, 144606: 6938, 159161: 6939, 160289: 6940, 161024: 6941, 162344: 6942, 162602: 6943, 165483: 6944, 165645: 6945, 165671: 6946, 165843: 6947, 167634: 6948, 168144: 6949, 168632: 6950, 168846: 6951, 170357: 6952, 170399: 6953, 170401: 6954, 170817: 6955, 170897: 6956, 170937: 6957, 170957: 6958, 171251: 6959, 171631: 6960, 171891: 6961, 173255: 6962, 174045: 6963, 174815: 6964, 175577: 6965, 176329: 6966, 178323: 6967, 179427: 6968, 179953: 6969, 180265: 6970, 181139: 6971, 181659: 6972, 182749: 6973, 183197: 6974, 183227: 6975, 183959: 6976, 184257: 6977, 2969: 6978, 4083: 6979, 141718: 6980, 167732: 6981, 110718: 6982, 112868: 6983, 114184: 6984, 127184: 6985, 128488: 6986, 130578: 6987, 131023: 6988, 165551: 6989, 143458: 6990, 4864: 6991, 5088: 6992, 27022: 6993, 33201: 6994, 73488: 6995, 78218: 6996, 84952: 6997, 86721: 6998, 91947: 6999, 93855: 7000, 94931: 7001, 95690: 7002, 95761: 7003, 98607: 7004, 107630: 7005, 110330: 7006, 131749: 7007, 131920: 7008, 133217: 7009, 147142: 7010, 149144: 7011, 149146: 7012, 149830: 7013, 149902: 7014, 151695: 7015, 152284: 7016, 161966: 7017, 162082: 7018, 164881: 7019, 167790: 7020, 1318: 7021, 5284: 7022, 5969: 7023, 6251: 7024, 4613: 7025, 5385: 7026, 6986: 7027, 1661: 7028, 2590: 7029, 2775: 7030, 3737: 7031, 4243: 7032, 5338: 7033, 5358: 7034, 5435: 7035, 5699: 7036, 5947: 7037, 6246: 7038, 6279: 7039, 6386: 7040, 39307: 7041, 103606: 7042, 100843: 7043, 101973: 7044, 112454: 7045, 133780: 7046, 138396: 7047, 152270: 7048, 179709: 7049, 1516: 7050, 1162: 7051, 3096: 7052, 3492: 7053, 5847: 7054, 8571: 7055, 26313: 7056, 31038: 7057, 55391: 7058, 66320: 7059, 1163: 7060, 3357: 7061, 6480: 7062, 26078: 7063, 8911: 7064, 6429: 7065, 7065: 7066, 7243: 7067, 7302: 7068, 9008: 7069, 25746: 7070, 25797: 7071, 25906: 7072, 31297: 7073, 71970: 7074, 77846: 7075, 86487: 7076, 93008: 7077, 123545: 7078, 600: 7079, 1546: 7080, 2765: 7081, 3323: 7082, 3474: 7083, 3761: 7084, 3888: 7085, 3895: 7086, 4032: 7087, 4157: 7088, 4307: 7089, 4407: 7090, 4879: 7091, 5095: 7092, 5155: 7093, 5498: 7094, 5612: 7095, 5615: 7096, 5684: 7097, 5818: 7098, 6067: 7099, 6192: 7100, 6285: 7101, 6551: 7102, 6571: 7103, 6588: 7104, 6679: 7105, 6688: 7106, 6969: 7107, 6971: 7108, 7038: 7109, 7264: 7110, 103210: 7111, 127212: 7112, 148978: 7113, 157369: 7114, 158035: 7115, 161594: 7116, 162968: 7117, 162982: 7118, 165635: 7119, 168090: 7120, 168218: 7121, 170907: 7122, 172705: 7123, 173235: 7124, 174479: 7125, 175475: 7126, 175585: 7127, 177285: 7128, 177939: 7129, 178111: 7130, 180987: 7131, 181413: 7132, 183911: 7133, 184641: 7134, 191005: 7135, 193565: 7136, 193567: 7137, 193571: 7138, 193573: 7139, 193579: 7140, 193581: 7141, 193583: 7142, 193585: 7143, 193587: 7144, 1685: 7145, 3711: 7146, 4813: 7147, 5493: 7148, 2557: 7149, 4785: 7150, 5244: 7151, 7976: 7152, 26122: 7153, 26840: 7154, 33138: 7155, 49263: 7156, 148: 7157, 178: 7158, 496: 7159, 2744: 7160, 3894: 7161, 4174: 7162, 4932: 7163, 5607: 7164, 698: 7165, 8532: 7166, 56274: 7167, 4722: 7168, 45106: 7169, 62299: 7170, 49: 7171, 679: 7172, 2983: 7173, 3329: 7174, 27075: 7175, 83601: 7176, 7811: 7177, 34397: 7178, 51562: 7179, 56915: 7180, 62834: 7181, 62836: 7182, 65651: 7183, 77795: 7184, 117646: 7185, 119167: 7186, 123553: 7187, 128842: 7188, 130444: 7189, 146662: 7190, 159779: 7191, 166203: 7192, 179511: 7193, 184053: 7194, 189547: 7195, 106144: 7196, 174909: 7197, 175197: 7198, 188751: 7199, 83: 7200, 1671: 7201, 1677: 7202, 1867: 7203, 2056: 7204, 3014: 7205, 3132: 7206, 3389: 7207, 3417: 7208, 3433: 7209, 3434: 7210, 54768: 7211, 55020: 7212, 61246: 7213, 62437: 7214, 4338: 7215, 25773: 7216, 27776: 7217, 30818: 7218, 31610: 7219, 31692: 7220, 31702: 7221, 32632: 7222, 26732: 7223, 81831: 7224, 91483: 7225, 95949: 7226, 101531: 7227, 55854: 7228, 3496: 7229, 1655: 7230, 2984: 7231, 5456: 7232, 5584: 7233, 6938: 7234, 7103: 7235, 32666: 7236, 8626: 7237, 34330: 7238, 52715: 7239, 5458: 7240, 6057: 7241, 6186: 7242, 7262: 7243, 8918: 7244, 27816: 7245, 31223: 7246, 31867: 7247, 32589: 7248, 33148: 7249, 34129: 7250, 37477: 7251, 41769: 7252, 51082: 7253, 51933: 7254, 57326: 7255, 57526: 7256, 58627: 7257, 59985: 7258, 70301: 7259, 70334: 7260, 73515: 7261, 81512: 7262, 78103: 7263, 118198: 7264, 136912: 7265, 183011: 7266, 1826: 7267, 4917: 7268, 4945: 7269, 4946: 7270, 81786: 7271, 3106: 7272, 757: 7273, 27320: 7274, 38294: 7275, 47254: 7276, 65810: 7277, 73431: 7278, 77667: 7279, 84637: 7280, 86960: 7281, 89047: 7282, 93512: 7283, 96411: 7284, 99750: 7285, 110350: 7286, 112070: 7287, 143365: 7288, 146210: 7289, 173941: 7290, 185435: 7291, 6983: 7292, 26366: 7293, 44633: 7294, 58309: 7295, 1739: 7296, 121171: 7297, 146024: 7298, 128: 7299, 7815: 7300, 8015: 7301, 7879: 7302, 8535: 7303, 1807: 7304, 3807: 7305, 476: 7306, 2812: 7307, 2974: 7308, 3652: 7309, 3857: 7310, 4143: 7311, 6715: 7312, 7368: 7313, 8225: 7314, 8241: 7315, 8831: 7316, 26523: 7317, 26736: 7318, 31193: 7319, 31909: 7320, 33132: 7321, 37475: 7322, 38992: 7323, 42285: 7324, 43549: 7325, 50147: 7326, 50440: 7327, 57910: 7328, 60538: 7329, 66427: 7330, 69251: 7331, 71500: 7332, 298: 7333, 1574: 7334, 2824: 7335, 2964: 7336, 3192: 7337, 3914: 7338, 4116: 7339, 4384: 7340, 5241: 7341, 5272: 7342, 5723: 7343, 5745: 7344, 5884: 7345, 71619: 7346, 113207: 7347, 6086: 7348, 963: 7349, 1008: 7350, 1660: 7351, 2055: 7352, 2286: 7353, 2462: 7354, 2852: 7355, 3331: 7356, 3345: 7357, 3806: 7358, 3926: 7359, 3974: 7360, 4110: 7361, 4459: 7362, 4473: 7363, 4522: 7364, 4953: 7365, 4966: 7366, 5638: 7367, 48416: 7368, 6125: 7369, 6453: 7370, 129: 7371, 3634: 7372, 3713: 7373, 102007: 7374, 3086: 7375, 4830: 7376, 8383: 7377, 68597: 7378, 80839: 7379, 92192: 7380, 96121: 7381, 127323: 7382, 470: 7383, 3043: 7384, 3667: 7385, 160848: 7386, 169034: 7387, 1746: 7388, 7926: 7389, 26887: 7390, 50610: 7391, 54934: 7392, 67799: 7393, 68600: 7394, 70663: 7395, 116138: 7396, 134528: 7397, 134783: 7398, 134808: 7399, 138798: 7400, 64499: 7401, 64501: 7402, 74624: 7403, 106441: 7404, 106785: 7405, 114246: 7406, 118706: 7407, 131796: 7408, 140627: 7409, 145418: 7410, 158027: 7411, 160400: 7412, 163985: 7413, 140016: 7414, 149334: 7415, 158528: 7416, 175199: 7417, 183295: 7418, 409: 7419, 2190: 7420, 2516: 7421, 2559: 7422, 3280: 7423, 4181: 7424, 4371: 7425, 4584: 7426, 4750: 7427, 4885: 7428, 5590: 7429, 5664: 7430, 5736: 7431, 5883: 7432, 5927: 7433, 6316: 7434, 6705: 7435, 7282: 7436, 7636: 7437, 7708: 7438, 7781: 7439, 8402: 7440, 31422: 7441, 31424: 7442, 49314: 7443, 52867: 7444, 55729: 7445, 58287: 7446, 65601: 7447, 65738: 7448, 65740: 7449, 65882: 7450, 3171: 7451, 3872: 7452, 6452: 7453, 6706: 7454, 7218: 7455, 7943: 7456, 7184: 7457, 6561: 7458, 4180: 7459, 618: 7460, 2896: 7461, 110387: 7462, 121253: 7463, 133115: 7464, 773: 7465, 823: 7466, 3736: 7467, 3845: 7468, 4612: 7469, 4825: 7470, 5838: 7471, 6241: 7472, 6329: 7473, 7071: 7474, 7238: 7475, 7459: 7476, 7979: 7477, 8190: 7478, 8484: 7479, 26003: 7480, 26048: 7481, 26059: 7482, 26073: 7483, 26158: 7484, 26225: 7485, 26317: 7486, 26713: 7487, 26928: 7488, 27003: 7489, 27176: 7490, 27328: 7491, 31545: 7492, 31952: 7493, 32511: 7494, 32906: 7495, 32917: 7496, 42176: 7497, 44931: 7498, 47446: 7499, 48001: 7500, 49917: 7501, 51174: 7502, 53883: 7503, 54354: 7504, 61394: 7505, 62208: 7506, 65037: 7507, 65225: 7508, 65631: 7509, 67508: 7510, 68444: 7511, 69746: 7512, 69953: 7513, 71147: 7514, 71453: 7515, 71468: 7516, 71494: 7517, 71867: 7518, 72714: 7519, 72921: 7520, 74089: 7521, 74226: 7522, 76054: 7523, 76738: 7524, 77233: 7525, 79073: 7526, 80478: 7527, 80553: 7528, 81191: 7529, 83976: 7530, 84273: 7531, 84716: 7532, 85213: 7533, 86237: 7534, 86279: 7535, 86922: 7536, 87660: 7537, 89945: 7538, 90245: 7539, 90357: 7540, 90528: 7541, 90630: 7542, 90769: 7543, 91784: 7544, 91860: 7545, 92637: 7546, 94735: 7547, 96084: 7548, 97904: 7549, 100044: 7550, 100106: 7551, 100277: 7552, 102742: 7553, 102823: 7554, 106648: 7555, 109383: 7556, 111817: 7557, 114847: 7558, 116505: 7559, 117364: 7560, 117531: 7561, 117849: 7562, 118784: 7563, 120761: 7564, 121169: 7565, 124853: 7566, 127114: 7567, 127172: 7568, 127180: 7569, 128900: 7570, 128902: 7571, 128991: 7572, 134019: 7573, 134796: 7574, 136024: 7575, 138966: 7576, 140162: 7577, 140737: 7578, 140816: 7579, 143525: 7580, 143896: 7581, 144478: 7582, 145080: 7583, 147002: 7584, 150696: 7585, 152065: 7586, 155774: 7587, 158842: 7588, 159976: 7589, 160684: 7590, 173317: 7591, 179135: 7592, 184245: 7593, 188675: 7594, 188833: 7595, 189381: 7596, 3899: 7597, 2848: 7598, 2894: 7599, 4500: 7600, 4717: 7601, 4927: 7602, 27866: 7603, 70451: 7604, 81257: 7605, 84240: 7606, 130482: 7607, 136850: 7608, 193609: 7609, 80917: 7610, 93610: 7611, 97757: 7612, 3567: 7613, 59118: 7614, 189043: 7615, 189111: 7616, 190207: 7617, 190209: 7618, 190213: 7619, 190215: 7620, 190219: 7621, 190221: 7622, 56869: 7623, 58842: 7624, 77177: 7625, 92243: 7626, 109687: 7627, 115969: 7628, 156783: 7629, 2370: 7630, 2975: 7631, 27751: 7632, 38164: 7633, 4404: 7634, 7178: 7635, 7179: 7636, 7940: 7637, 32179: 7638, 54787: 7639, 55555: 7640, 57843: 7641, 60857: 7642, 60894: 7643, 88179: 7644, 88932: 7645, 90353: 7646, 7122: 7647, 34164: 7648, 58492: 7649, 4354: 7650, 8580: 7651, 8998: 7652, 27329: 7653, 59810: 7654, 93040: 7655, 96563: 7656, 2226: 7657, 26095: 7658, 65350: 7659, 85334: 7660, 87028: 7661, 89386: 7662, 26472: 7663, 176389: 7664, 176579: 7665, 96964: 7666, 113604: 7667, 114494: 7668, 132888: 7669, 145935: 7670, 1565: 7671, 2695: 7672, 4078: 7673, 4505: 7674, 2307: 7675, 3162: 7676, 3716: 7677, 3731: 7678, 3922: 7679, 33312: 7680, 112512: 7681, 882: 7682, 3648: 7683, 4434: 7684, 4942: 7685, 5468: 7686, 5706: 7687, 5979: 7688, 6021: 7689, 6654: 7690, 6656: 7691, 6836: 7692, 6899: 7693, 7304: 7694, 25959: 7695, 27692: 7696, 32139: 7697, 42556: 7698, 56837: 7699, 71302: 7700, 71999: 7701, 80748: 7702, 84799: 7703, 87287: 7704, 92760: 7705, 94262: 7706, 2656: 7707, 27683: 7708, 27802: 7709, 31698: 7710, 32743: 7711, 33644: 7712, 40617: 7713, 60818: 7714, 71129: 7715, 72601: 7716, 82744: 7717, 88515: 7718, 94160: 7719, 95004: 7720, 95149: 7721, 95473: 7722, 96007: 7723, 97785: 7724, 102058: 7725, 102084: 7726, 103233: 7727, 103449: 7728, 104141: 7729, 107723: 7730, 108795: 7731, 113278: 7732, 134524: 7733, 137863: 7734, 152173: 7735, 161354: 7736, 162598: 7737, 163056: 7738, 166558: 7739, 169982: 7740, 172497: 7741, 172875: 7742, 172881: 7743, 172887: 7744, 176935: 7745, 179119: 7746, 182639: 7747, 31435: 7748, 45074: 7749, 53326: 7750, 55259: 7751, 46865: 7752, 47952: 7753, 52279: 7754, 72696: 7755, 93139: 7756, 95796: 7757, 100737: 7758, 126482: 7759, 130686: 7760, 131934: 7761, 158254: 7762, 170289: 7763, 2856: 7764, 4323: 7765, 2632: 7766, 3455: 7767, 3680: 7768, 3838: 7769, 3919: 7770, 4064: 7771, 4065: 7772, 4393: 7773, 4408: 7774, 4614: 7775, 4687: 7776, 4988: 7777, 5121: 7778, 5156: 7779, 5465: 7780, 5489: 7781, 5515: 7782, 5780: 7783, 5974: 7784, 6123: 7785, 6465: 7786, 6533: 7787, 6748: 7788, 7088: 7789, 7205: 7790, 7328: 7791, 7336: 7792, 7394: 7793, 7616: 7794, 7745: 7795, 7749: 7796, 7936: 7797, 7938: 7798, 7939: 7799, 7951: 7800, 7987: 7801, 7993: 7802, 8188: 7803, 8196: 7804, 8239: 7805, 8512: 7806, 8670: 7807, 25963: 7808, 26002: 7809, 26124: 7810, 26231: 7811, 26303: 7812, 26694: 7813, 31590: 7814, 31737: 7815, 32314: 7816, 32392: 7817, 33188: 7818, 40966: 7819, 44657: 7820, 46772: 7821, 52462: 7822, 6158: 7823, 63239: 7824, 6344: 7825, 27695: 7826, 44943: 7827, 59995: 7828, 1900: 7829, 4237: 7830, 4562: 7831, 5537: 7832, 5575: 7833, 130842: 7834, 6408: 7835, 8738: 7836, 26147: 7837, 170939: 7838, 61697: 7839, 7134: 7840, 59814: 7841, 70708: 7842, 77266: 7843, 136540: 7844, 3590: 7845, 824: 7846, 386: 7847, 1040: 7848, 1121: 7849, 1656: 7850, 1870: 7851, 2172: 7852, 2751: 7853, 2835: 7854, 2884: 7855, 2893: 7856, 2979: 7857, 3008: 7858, 3378: 7859, 3625: 7860, 3847: 7861, 3900: 7862, 3951: 7863, 4089: 7864, 4115: 7865, 4123: 7866, 4139: 7867, 4242: 7868, 4290: 7869, 4353: 7870, 4451: 7871, 4458: 7872, 4463: 7873, 4475: 7874, 4524: 7875, 4573: 7876, 4583: 7877, 4595: 7878, 4610: 7879, 4666: 7880, 4675: 7881, 4777: 7882, 4818: 7883, 4926: 7884, 4961: 7885, 4962: 7886, 5068: 7887, 5071: 7888, 5112: 7889, 5178: 7890, 5209: 7891, 5237: 7892, 5240: 7893, 5278: 7894, 5285: 7895, 5321: 7896, 5322: 7897, 5328: 7898, 5345: 7899, 5390: 7900, 5416: 7901, 5422: 7902, 5424: 7903, 5461: 7904, 5562: 7905, 5635: 7906, 5663: 7907, 5817: 7908, 5829: 7909, 5896: 7910, 5968: 7911, 6033: 7912, 6036: 7913, 6141: 7914, 6222: 7915, 6295: 7916, 6493: 7917, 6510: 7918, 6542: 7919, 6560: 7920, 6563: 7921, 6574: 7922, 6598: 7923, 6628: 7924, 6689: 7925, 6696: 7926, 6699: 7927, 6718: 7928, 6797: 7929, 6809: 7930, 6816: 7931, 6883: 7932, 7165: 7933, 7176: 7934, 7248: 7935, 7251: 7936, 7364: 7937, 7390: 7938, 8587: 7939, 8915: 7940, 8952: 7941, 8954: 7942, 25834: 7943, 31162: 7944, 32116: 7945, 33826: 7946, 33838: 7947, 34540: 7948, 42602: 7949, 43912: 7950, 46559: 7951, 48319: 7952, 48560: 7953, 51694: 7954, 52299: 7955, 52724: 7956, 52784: 7957, 53447: 7958, 55110: 7959, 56908: 7960, 58879: 7961, 60141: 7962, 76763: 7963, 95135: 7964, 112940: 7965, 115828: 7966, 127130: 7967, 154358: 7968, 167570: 7969, 169992: 7970, 173205: 7971, 173209: 7972, 176423: 7973, 180045: 7974, 1412: 7975, 4093: 7976, 27704: 7977, 69860: 7978, 79677: 7979, 85394: 7980, 86668: 7981, 89580: 7982, 90943: 7983, 6210: 7984, 8577: 7985, 26693: 7986, 59295: 7987, 2665: 7988, 4925: 7989, 4939: 7990, 5063: 7991, 136469: 7992, 6347: 7993, 6597: 7994, 5532: 7995, 7306: 7996, 8588: 7997, 27708: 7998, 33893: 7999, 45503: 8000, 66090: 8001, 68347: 8002, 71902: 8003, 89208: 8004, 92348: 8005, 1675: 8006, 4453: 8007, 5580: 8008, 5675: 8009, 5787: 8010, 8690: 8011, 4402: 8012, 96430: 8013, 1839: 8014, 2368: 8015, 2887: 8016, 3057: 8017, 3276: 8018, 3284: 8019, 3390: 8020, 3596: 8021, 3933: 8022, 4051: 8023, 4156: 8024, 4198: 8025, 4212: 8026, 4630: 8027, 4660: 8028, 4775: 8029, 4952: 8030, 4981: 8031, 5356: 8032, 5490: 8033, 5700: 8034, 5752: 8035, 5779: 8036, 6302: 8037, 6424: 8038, 6427: 8039, 6476: 8040, 6514: 8041, 6814: 8042, 7245: 8043, 7372: 8044, 8136: 8045, 8137: 8046, 8447: 8047, 26386: 8048, 26464: 8049, 31000: 8050, 34018: 8051, 37211: 8052, 43558: 8053, 48262: 8054, 49688: 8055, 50064: 8056, 53453: 8057, 53808: 8058, 55294: 8059, 58351: 8060, 61123: 8061, 63393: 8062, 65135: 8063, 67361: 8064, 69118: 8065, 70545: 8066, 71466: 8067, 72694: 8068, 73386: 8069, 75803: 8070, 75816: 8071, 77421: 8072, 78034: 8073, 78116: 8074, 79259: 8075, 79590: 8076, 79946: 8077, 80864: 8078, 81949: 8079, 82093: 8080, 82095: 8081, 82527: 8082, 83374: 8083, 84696: 8084, 84950: 8085, 85025: 8086, 85399: 8087, 86028: 8088, 86593: 8089, 89343: 8090, 89388: 8091, 89427: 8092, 90719: 8093, 90738: 8094, 91273: 8095, 91688: 8096, 91873: 8097, 91935: 8098, 92198: 8099, 92665: 8100, 93242: 8101, 93982: 8102, 94011: 8103, 94494: 8104, 94919: 8105, 95201: 8106, 95508: 8107, 95744: 8108, 96114: 8109, 96530: 8110, 96726: 8111, 97328: 8112, 97742: 8113, 97858: 8114, 97870: 8115, 97936: 8116, 98160: 8117, 98175: 8118, 98230: 8119, 98296: 8120, 98836: 8121, 98908: 8122, 99005: 8123, 99415: 8124, 99574: 8125, 99846: 8126, 99992: 8127, 100226: 8128, 100304: 8129, 100326: 8130, 100487: 8131, 101360: 8132, 101529: 8133, 101884: 8134, 101895: 8135, 102025: 8136, 102165: 8137, 102278: 8138, 102819: 8139, 103221: 8140, 103502: 8141, 103755: 8142, 103865: 8143, 104078: 8144, 104760: 8145, 105121: 8146, 105755: 8147, 106542: 8148, 106883: 8149, 107945: 8150, 107962: 8151, 108601: 8152, 108715: 8153, 109183: 8154, 109191: 8155, 109295: 8156, 109317: 8157, 109416: 8158, 110611: 8159, 110826: 8160, 111680: 8161, 111795: 8162, 112303: 8163, 112749: 8164, 113186: 8165, 113225: 8166, 113350: 8167, 113416: 8168, 114925: 8169, 115151: 8170, 115170: 8171, 115216: 8172, 116207: 8173, 116413: 8174, 116419: 8175, 116849: 8176, 116985: 8177, 117107: 8178, 117511: 8179, 118248: 8180, 118326: 8181, 118354: 8182, 118512: 8183, 118814: 8184, 119068: 8185, 120783: 8186, 122490: 8187, 122932: 8188, 124859: 8189, 125221: 8190, 126420: 8191, 127132: 8192, 127194: 8193, 127319: 8194, 128592: 8195, 129250: 8196, 129333: 8197, 129657: 8198, 129659: 8199, 130083: 8200, 131480: 8201, 132333: 8202, 132462: 8203, 132488: 8204, 132618: 8205, 133195: 8206, 133281: 8207, 133365: 8208, 133377: 8209, 133545: 8210, 133782: 8211, 133798: 8212, 134021: 8213, 134158: 8214, 134859: 8215, 136654: 8216, 136664: 8217, 136778: 8218, 136786: 8219, 136800: 8220, 136816: 8221, 136859: 8222, 137517: 8223, 138546: 8224, 139052: 8225, 139415: 8226, 139857: 8227, 140237: 8228, 140525: 8229, 140850: 8230, 141422: 8231, 142424: 8232, 143001: 8233, 143255: 8234, 143410: 8235, 143472: 8236, 144262: 8237, 144714: 8238, 144716: 8239, 145150: 8240, 146688: 8241, 146730: 8242, 148482: 8243, 148592: 8244, 148709: 8245, 149590: 8246, 149612: 8247, 150604: 8248, 151317: 8249, 151501: 8250, 151559: 8251, 151653: 8252, 151745: 8253, 151777: 8254, 152085: 8255, 152105: 8256, 152658: 8257, 154065: 8258, 155358: 8259, 155659: 8260, 155743: 8261, 155892: 8262, 156553: 8263, 156706: 8264, 157122: 8265, 157130: 8266, 157172: 8267, 157270: 8268, 157340: 8269, 157407: 8270, 157432: 8271, 158022: 8272, 159077: 8273, 159193: 8274, 159690: 8275, 160440: 8276, 160573: 8277, 160646: 8278, 160730: 8279, 161290: 8280, 161830: 8281, 161918: 8282, 162828: 8283, 164375: 8284, 164647: 8285, 164753: 8286, 165075: 8287, 165139: 8288, 165343: 8289, 165347: 8290, 168350: 8291, 168456: 8292, 169180: 8293, 173751: 8294, 3568: 8295, 2839: 8296, 3756: 8297, 706: 8298, 89039: 8299, 1757: 8300, 4236: 8301, 5212: 8302, 5239: 8303, 5986: 8304, 6064: 8305, 6528: 8306, 6611: 8307, 6775: 8308, 6935: 8309, 7181: 8310, 7620: 8311, 7786: 8312, 7920: 8313, 26359: 8314, 26838: 8315, 38198: 8316, 46855: 8317, 55156: 8318, 58191: 8319, 71640: 8320, 82857: 8321, 89090: 8322, 100556: 8323, 105835: 8324, 109161: 8325, 148982: 8326, 151311: 8327, 152711: 8328, 160644: 8329, 162414: 8330, 164655: 8331, 167064: 8332, 179813: 8333, 183199: 8334, 183317: 8335, 184721: 8336, 187717: 8337, 188189: 8338, 189713: 8339, 56169: 8340, 59738: 8341, 60832: 8342, 74580: 8343, 90384: 8344, 2493: 8345, 451: 8346, 1180: 8347, 3405: 8348, 3619: 8349, 3658: 8350, 3832: 8351, 96: 8352, 488: 8353, 638: 8354, 929: 8355, 956: 8356, 959: 8357, 970: 8358, 976: 8359, 982: 8360, 993: 8361, 1068: 8362, 1398: 8363, 1423: 8364, 1496: 8365, 1507: 8366, 1893: 8367, 1902: 8368, 1926: 8369, 1928: 8370, 1932: 8371, 1933: 8372, 1940: 8373, 2179: 8374, 2180: 8375, 2211: 8376, 2611: 8377, 2612: 8378, 2652: 8379, 2697: 8380, 2743: 8381, 2757: 8382, 2801: 8383, 2930: 8384, 3112: 8385, 3125: 8386, 3281: 8387, 3609: 8388, 3714: 8389, 3739: 8390, 3789: 8391, 3816: 8392, 3870: 8393, 3965: 8394, 4046: 8395, 4129: 8396, 4171: 8397, 4184: 8398, 4189: 8399, 4204: 8400, 4218: 8401, 4495: 8402, 4521: 8403, 4635: 8404, 4704: 8405, 4769: 8406, 4798: 8407, 4804: 8408, 4860: 8409, 4871: 8410, 4970: 8411, 4998: 8412, 5007: 8413, 5012: 8414, 5077: 8415, 5114: 8416, 5116: 8417, 5168: 8418, 5213: 8419, 5231: 8420, 5311: 8421, 5353: 8422, 5375: 8423, 5384: 8424, 5440: 8425, 5455: 8426, 5525: 8427, 5581: 8428, 5601: 8429, 5602: 8430, 5604: 8431, 5629: 8432, 5649: 8433, 5771: 8434, 5799: 8435, 5801: 8436, 5802: 8437, 5826: 8438, 5836: 8439, 5863: 8440, 5875: 8441, 6020: 8442, 6042: 8443, 6090: 8444, 6101: 8445, 6163: 8446, 6178: 8447, 6181: 8448, 6201: 8449, 6225: 8450, 6228: 8451, 6232: 8452, 6245: 8453, 6273: 8454, 6289: 8455, 6336: 8456, 6382: 8457, 6390: 8458, 6400: 8459, 6407: 8460, 6422: 8461, 6434: 8462, 6454: 8463, 6477: 8464, 6515: 8465, 6527: 8466, 6545: 8467, 6592: 8468, 6603: 8469, 6609: 8470, 6660: 8471, 6667: 8472, 6768: 8473, 6772: 8474, 6788: 8475, 6837: 8476, 6911: 8477, 6912: 8478, 6948: 8479, 6962: 8480, 6965: 8481, 6982: 8482, 6984: 8483, 6990: 8484, 7012: 8485, 7049: 8486, 7052: 8487, 7053: 8488, 7055: 8489, 7057: 8490, 7058: 8491, 7061: 8492, 7062: 8493, 7070: 8494, 7073: 8495, 7074: 8496, 7075: 8497, 7083: 8498, 7086: 8499, 7141: 8500, 7167: 8501, 7177: 8502, 7190: 8503, 7211: 8504, 7217: 8505, 7219: 8506, 7223: 8507, 7326: 8508, 7357: 8509, 7414: 8510, 7479: 8511, 7560: 8512, 7572: 8513, 7702: 8514, 7713: 8515, 7714: 8516, 7716: 8517, 7727: 8518, 7772: 8519, 7822: 8520, 7826: 8521, 7831: 8522, 7832: 8523, 7833: 8524, 7835: 8525, 7839: 8526, 7882: 8527, 7896: 8528, 7900: 8529, 7944: 8530, 8019: 8531, 8057: 8532, 8094: 8533, 8125: 8534, 8153: 8535, 8191: 8536, 8232: 8537, 8275: 8538, 8293: 8539, 8302: 8540, 8331: 8541, 8336: 8542, 8338: 8543, 8375: 8544, 8382: 8545, 8385: 8546, 8410: 8547, 8424: 8548, 8446: 8549, 8450: 8550, 8458: 8551, 8459: 8552, 8461: 8553, 8462: 8554, 8463: 8555, 8465: 8556, 8481: 8557, 8502: 8558, 8518: 8559, 8534: 8560, 8575: 8561, 8591: 8562, 8611: 8563, 8617: 8564, 8650: 8565, 8684: 8566, 8711: 8567, 8712: 8568, 8714: 8569, 8753: 8570, 8754: 8571, 8771: 8572, 8773: 8573, 8774: 8574, 8875: 8575, 8920: 8576, 8921: 8577, 8938: 8578, 8955: 8579, 8979: 8580, 8987: 8581, 8989: 8582, 25752: 8583, 25753: 8584, 25757: 8585, 25769: 8586, 25795: 8587, 25826: 8588, 25865: 8589, 25870: 8590, 25927: 8591, 25940: 8592, 25952: 8593, 25962: 8594, 25996: 8595, 25999: 8596, 26791: 8597, 31030: 8598, 31083: 8599, 31260: 8600, 31903: 8601, 34359: 8602, 35015: 8603, 42740: 8604, 43333: 8605, 44511: 8606, 48741: 8607, 49666: 8608, 50514: 8609, 53921: 8610, 55071: 8611, 55687: 8612, 3720: 8613, 4454: 8614, 4557: 8615, 5348: 8616, 7335: 8617, 8126: 8618, 27537: 8619, 42422: 8620, 78746: 8621, 2362: 8622, 3428: 8623, 4111: 8624, 4410: 8625, 4831: 8626, 5197: 8627, 5365: 8628, 5448: 8629, 5651: 8630, 5773: 8631, 6853: 8632, 8131: 8633, 27830: 8634, 32294: 8635, 36477: 8636, 37844: 8637, 43914: 8638, 44197: 8639, 47646: 8640, 2483: 8641, 8632: 8642, 27370: 8643, 31617: 8644, 36397: 8645, 68522: 8646, 72554: 8647, 88448: 8648, 89586: 8649, 90863: 8650, 91890: 8651, 94810: 8652, 95939: 8653, 96283: 8654, 97665: 8655, 99087: 8656, 100068: 8657, 105325: 8658, 109941: 8659, 109971: 8660, 112316: 8661, 115065: 8662, 4759: 8663, 5786: 8664, 8593: 8665, 71268: 8666, 93320: 8667, 26900: 8668, 40597: 8669, 54796: 8670, 72874: 8671, 73501: 8672, 77881: 8673, 79299: 8674, 79536: 8675, 80454: 8676, 84553: 8677, 86000: 8678, 92730: 8679, 78160: 8680, 78544: 8681, 180231: 8682, 467: 8683, 876: 8684, 140523: 8685, 131739: 8686, 449: 8687, 1824: 8688, 7455: 8689, 32914: 8690, 46231: 8691, 6596: 8692, 6927: 8693, 26958: 8694, 65193: 8695, 74677: 8696, 80834: 8697, 82088: 8698, 89678: 8699, 90809: 8700, 91266: 8701, 91337: 8702, 93134: 8703, 93988: 8704, 94799: 8705, 95193: 8706, 110781: 8707, 117133: 8708, 126142: 8709, 129229: 8710, 130073: 8711, 136838: 8712, 136840: 8713, 6145: 8714, 1335: 8715, 3294: 8716, 4202: 8717, 5041: 8718, 5189: 8719, 5704: 8720, 5797: 8721, 6746: 8722, 6821: 8723, 7477: 8724, 7730: 8725, 7891: 8726, 8894: 8727, 31150: 8728, 38583: 8729, 40478: 8730, 62586: 8731, 124484: 8732, 135216: 8733, 136958: 8734, 141994: 8735, 149330: 8736, 158830: 8737, 159510: 8738, 167538: 8739, 168358: 8740, 180263: 8741, 182727: 8742, 184931: 8743, 184987: 8744, 185033: 8745, 185473: 8746, 186587: 8747, 188797: 8748, 4646: 8749, 8772: 8750, 26761: 8751, 83270: 8752, 88267: 8753, 91414: 8754, 93740: 8755, 96471: 8756, 96518: 8757, 96520: 8758, 97194: 8759, 107780: 8760, 121099: 8761, 144352: 8762, 160422: 8763, 162590: 8764, 165489: 8765, 7266: 8766, 32469: 8767, 27006: 8768, 27369: 8769, 66544: 8770, 79006: 8771, 120130: 8772, 8264: 8773, 91869: 8774, 96150: 8775, 106889: 8776, 120807: 8777, 127164: 8778, 134248: 8779, 146682: 8780, 148667: 8781, 159849: 8782, 163653: 8783, 164540: 8784, 39516: 8785, 135198: 8786, 176413: 8787, 176415: 8788, 2742: 8789, 3674: 8790, 4445: 8791, 5560: 8792, 4284: 8793, 125914: 8794, 36289: 8795, 58297: 8796, 64695: 8797, 73804: 8798, 76743: 8799, 83480: 8800, 85261: 8801, 112580: 8802, 116529: 8803, 116724: 8804, 128542: 8805, 134775: 8806, 135885: 8807, 144734: 8808, 150993: 8809, 164367: 8810, 2573: 8811, 121129: 8812, 626: 8813, 1990: 8814, 3939: 8815, 3940: 8816, 3941: 8817, 3942: 8818, 3958: 8819, 1477: 8820, 168712: 8821, 142056: 8822, 167296: 8823, 1825: 8824, 5059: 8825, 5513: 8826, 7457: 8827, 43684: 8828, 61257: 8829, 2820: 8830, 633: 8831, 790: 8832, 1336: 8833, 1985: 8834, 2451: 8835, 2862: 8836, 3442: 8837, 3574: 8838, 3661: 8839, 3663: 8840, 3664: 8841, 3678: 8842, 3691: 8843, 5839: 8844, 5840: 8845, 6119: 8846, 26308: 8847, 31123: 8848, 37495: 8849, 48045: 8850, 54617: 8851, 59026: 8852, 68886: 8853, 73681: 8854, 81383: 8855, 96945: 8856, 105246: 8857, 109313: 8858, 111384: 8859, 130498: 8860, 142558: 8861, 148238: 8862, 154975: 8863, 168174: 8864, 4135: 8865, 26357: 8866, 27140: 8867, 27667: 8868, 99191: 8869, 100306: 8870, 43930: 8871, 47516: 8872, 61071: 8873, 62718: 8874, 70932: 8875, 72919: 8876, 74688: 8877, 77414: 8878, 78264: 8879, 80858: 8880, 82152: 8881, 90524: 8882, 94325: 8883, 95199: 8884, 96975: 8885, 100527: 8886, 115667: 8887, 128832: 8888, 139747: 8889, 50942: 8890, 5028: 8891, 8189: 8892, 8335: 8893, 25782: 8894, 26717: 8895, 26743: 8896, 40491: 8897, 51573: 8898, 57502: 8899, 70015: 8900, 71438: 8901, 81681: 8902, 82684: 8903, 92234: 8904, 92681: 8905, 101070: 8906, 102088: 8907, 102800: 8908, 104337: 8909, 109897: 8910, 110603: 8911, 113705: 8912, 114396: 8913, 114554: 8914, 117877: 8915, 122246: 8916, 122888: 8917, 132335: 8918, 134246: 8919, 135288: 8920, 141668: 8921, 142507: 8922, 150254: 8923, 151687: 8924, 152063: 8925, 152071: 8926, 153070: 8927, 156605: 8928, 166526: 8929, 166705: 8930, 170945: 8931, 179491: 8932, 179749: 8933, 179815: 8934, 1331: 8935, 1980: 8936, 2655: 8937, 2740: 8938, 2982: 8939, 3021: 8940, 3073: 8941, 2538: 8942, 2623: 8943, 2415: 8944, 3143: 8945, 6751: 8946, 56389: 8947, 75446: 8948, 2965: 8949, 5767: 8950, 5828: 8951, 6342: 8952, 6583: 8953, 6692: 8954, 7349: 8955, 8092: 8956, 8236: 8957, 8427: 8958, 8494: 8959, 8800: 8960, 8844: 8961, 26819: 8962, 27373: 8963, 136556: 8964, 2738: 8965, 3403: 8966, 3414: 8967, 3449: 8968, 4710: 8969, 284: 8970, 1652: 8971, 2175: 8972, 2196: 8973, 2589: 8974, 3353: 8975, 4374: 8976, 4715: 8977, 4827: 8978, 5105: 8979, 5657: 8980, 6417: 8981, 6665: 8982, 6967: 8983, 7023: 8984, 7031: 8985, 7032: 8986, 7114: 8987, 7345: 8988, 7742: 8989, 8118: 8990, 8727: 8991, 2774: 8992, 4342: 8993, 6769: 8994, 7260: 8995, 7615: 8996, 27246: 8997, 32799: 8998, 33649: 8999, 43744: 9000, 55844: 9001, 59549: 9002, 59667: 9003, 68835: 9004, 69495: 9005, 70637: 9006, 92954: 9007, 111800: 9008, 111913: 9009, 113280: 9010, 120919: 9011, 128908: 9012, 132454: 9013, 133645: 9014, 141131: 9015, 151557: 9016, 163639: 9017, 168026: 9018, 171917: 9019, 176051: 9020, 178615: 9021, 181719: 9022, 182793: 9023, 183635: 9024, 184997: 9025, 615: 9026, 113829: 9027, 114265: 9028, 124851: 9029, 478: 9030, 806: 9031, 1114: 9032, 1426: 9033, 1794: 9034, 2281: 9035, 2292: 9036, 2339: 9037, 2698: 9038, 3379: 9039, 3669: 9040, 3700: 9041, 3709: 9042, 3962: 9043, 4197: 9044, 4240: 9045, 4394: 9046, 4490: 9047, 4504: 9048, 4511: 9049, 4568: 9050, 4594: 9051, 4597: 9052, 4603: 9053, 4670: 9054, 5053: 9055, 5054: 9056, 5111: 9057, 5198: 9058, 5221: 9059, 5268: 9060, 5442: 9061, 5591: 9062, 5596: 9063, 5689: 9064, 5768: 9065, 5961: 9066, 6204: 9067, 6267: 9068, 6310: 9069, 6506: 9070, 6557: 9071, 6587: 9072, 6691: 9073, 6722: 9074, 6804: 9075, 6860: 9076, 6882: 9077, 6998: 9078, 7005: 9079, 7041: 9080, 7047: 9081, 7125: 9082, 7191: 9083, 7443: 9084, 7704: 9085, 7707: 9086, 7986: 9087, 7988: 9088, 8043: 9089, 8045: 9090, 8380: 9091, 8425: 9092, 8500: 9093, 8720: 9094, 8755: 9095, 8905: 9096, 8934: 9097, 9004: 9098, 26142: 9099, 26176: 9100, 26195: 9101, 26283: 9102, 26285: 9103, 26344: 9104, 26365: 9105, 26453: 9106, 26467: 9107, 26539: 9108, 26562: 9109, 26567: 9110, 26590: 9111, 26593: 9112, 26622: 9113, 26630: 9114, 26676: 9115, 26696: 9116, 26701: 9117, 26726: 9118, 26741: 9119, 26745: 9120, 26782: 9121, 26797: 9122, 26828: 9123, 26854: 9124, 26861: 9125, 26913: 9126, 26940: 9127, 26947: 9128, 27002: 9129, 27008: 9130, 27074: 9131, 27105: 9132, 27124: 9133, 27155: 9134, 27306: 9135, 27420: 9136, 27549: 9137, 27595: 9138, 27762: 9139, 27769: 9140, 27784: 9141, 27829: 9142, 31367: 9143, 31553: 9144, 31664: 9145, 31921: 9146, 32058: 9147, 32440: 9148, 32442: 9149, 32515: 9150, 33126: 9151, 33294: 9152, 33435: 9153, 33629: 9154, 33801: 9155, 33966: 9156, 34292: 9157, 34800: 9158, 34811: 9159, 40578: 9160, 41627: 9161, 42559: 9162, 42638: 9163, 42943: 9164, 43419: 9165, 43677: 9166, 43908: 9167, 44238: 9168, 44241: 9169, 44243: 9170, 44849: 9171, 45183: 9172, 45648: 9173, 45969: 9174, 46367: 9175, 46574: 9176, 47721: 9177, 47793: 9178, 49110: 9179, 51545: 9180, 53143: 9181, 53450: 9182, 54274: 9183, 54908: 9184, 55036: 9185, 55061: 9186, 55205: 9187, 55207: 9188, 56022: 9189, 57499: 9190, 58306: 9191, 59016: 9192, 59336: 9193, 59947: 9194, 60365: 9195, 60803: 9196, 61073: 9197, 62662: 9198, 66915: 9199, 67193: 9200, 68552: 9201, 68650: 9202, 69131: 9203, 69227: 9204, 70703: 9205, 71327: 9206, 71484: 9207, 71550: 9208, 71810: 9209, 72479: 9210, 73808: 9211, 74095: 9212, 74696: 9213, 75416: 9214, 75947: 9215, 76030: 9216, 77201: 9217, 77709: 9218, 78959: 9219, 79895: 9220, 80083: 9221, 81791: 9222, 82534: 9223, 83086: 9224, 83796: 9225, 84523: 9226, 85438: 9227, 86286: 9228, 86355: 9229, 86864: 9230, 87197: 9231, 87960: 9232, 88593: 9233, 88697: 9234, 89085: 9235, 89862: 9236, 90243: 9237, 90428: 9238, 90945: 9239, 91571: 9240, 91981: 9241, 92674: 9242, 93208: 9243, 93502: 9244, 94122: 9245, 95145: 9246, 95163: 9247, 95165: 9248, 95499: 9249, 95519: 9250, 95717: 9251, 95771: 9252, 95780: 9253, 95839: 9254, 95965: 9255, 97230: 9256, 97950: 9257, 98503: 9258, 98697: 9259, 98799: 9260, 99638: 9261, 101074: 9262, 101423: 9263, 102590: 9264, 102735: 9265, 102749: 9266, 102852: 9267, 103027: 9268, 103245: 9269, 103366: 9270, 103609: 9271, 104017: 9272, 104837: 9273, 105020: 9274, 105720: 9275, 107999: 9276, 108090: 9277, 108192: 9278, 110541: 9279, 111785: 9280, 112326: 9281, 113849: 9282, 114126: 9283, 115819: 9284, 116044: 9285, 116169: 9286, 116941: 9287, 116963: 9288, 117630: 9289, 118290: 9290, 119218: 9291, 119828: 9292, 120827: 9293, 121035: 9294, 122260: 9295, 122433: 9296, 122627: 9297, 123310: 9298, 128197: 9299, 128736: 9300, 129779: 9301, 131578: 9302, 132084: 9303, 132362: 9304, 135787: 9305, 136012: 9306, 136297: 9307, 137218: 9308, 137345: 9309, 137859: 9310, 138702: 9311, 139130: 9312, 139859: 9313, 140852: 9314, 144522: 9315, 145724: 9316, 145745: 9317, 151479: 9318, 151781: 9319, 153236: 9320, 156675: 9321, 157865: 9322, 158388: 9323, 158874: 9324, 159061: 9325, 159403: 9326, 160978: 9327, 161008: 9328, 161032: 9329, 161044: 9330, 163809: 9331, 165529: 9332, 167706: 9333, 168608: 9334, 169670: 9335, 169904: 9336, 169958: 9337, 170297: 9338, 170551: 9339, 171695: 9340, 172229: 9341, 172233: 9342, 172253: 9343, 173873: 9344, 174727: 9345, 178129: 9346, 179053: 9347, 181315: 9348, 183301: 9349, 2800: 9350, 25905: 9351, 25923: 9352, 25947: 9353, 46664: 9354, 59131: 9355, 141846: 9356, 77: 9357, 108: 9358, 149: 9359, 301: 9360, 320: 9361, 495: 9362, 526: 9363, 602: 9364, 649: 9365, 803: 9366, 1053: 9367, 1119: 9368, 1310: 9369, 1349: 9370, 1475: 9371, 1514: 9372, 1549: 9373, 1585: 9374, 1613: 9375, 1759: 9376, 2008: 9377, 2104: 9378, 2304: 9379, 2417: 9380, 2435: 9381, 2512: 9382, 2544: 9383, 2577: 9384, 2609: 9385, 2620: 9386, 2725: 9387, 2727: 9388, 2813: 9389, 2865: 9390, 2885: 9391, 2892: 9392, 2972: 9393, 3002: 9394, 3183: 9395, 3303: 9396, 3344: 9397, 3374: 9398, 3459: 9399, 3514: 9400, 3531: 9401, 3586: 9402, 3637: 9403, 3792: 9404, 4420: 9405, 4436: 9406, 4695: 9407, 4705: 9408, 4766: 9409, 4786: 9410, 4810: 9411, 117: 9412, 220: 9413, 285: 9414, 311: 9415, 636: 9416, 1654: 9417, 27036: 9418, 35347: 9419, 47384: 9420, 54686: 9421, 65359: 9422, 66240: 9423, 71160: 9424, 72165: 9425, 72982: 9426, 202: 9427, 263: 9428, 563: 9429, 573: 9430, 579: 9431, 583: 9432, 632: 9433, 961: 9434, 1117: 9435, 1156: 9436, 1493: 9437, 1857: 9438, 2156: 9439, 2207: 9440, 2388: 9441, 2481: 9442, 2503: 9443, 2897: 9444, 3010: 9445, 3289: 9446, 3295: 9447, 3640: 9448, 3808: 9449, 3920: 9450, 4357: 9451, 4395: 9452, 4615: 9453, 4653: 9454, 4671: 9455, 4689: 9456, 4828: 9457, 4840: 9458, 4883: 9459, 5269: 9460, 5372: 9461, 5503: 9462, 5550: 9463, 5614: 9464, 5720: 9465, 5733: 9466, 5741: 9467, 5742: 9468, 5849: 9469, 5856: 9470, 5922: 9471, 5929: 9472, 5975: 9473, 5990: 9474, 6070: 9475, 6107: 9476, 6111: 9477, 6182: 9478, 6202: 9479, 6237: 9480, 6415: 9481, 6449: 9482, 6516: 9483, 6553: 9484, 6573: 9485, 6578: 9486, 6644: 9487, 6671: 9488, 6782: 9489, 6789: 9490, 6803: 9491, 6961: 9492, 6973: 9493, 7037: 9494, 7109: 9495, 7131: 9496, 7292: 9497, 7344: 9498, 7487: 9499, 7916: 9500, 8391: 9501, 8454: 9502, 8456: 9503, 8601: 9504, 8685: 9505, 8713: 9506, 8933: 9507, 8964: 9508, 25805: 9509, 25833: 9510, 25946: 9511, 26038: 9512, 26394: 9513, 26527: 9514, 26599: 9515, 26777: 9516, 26796: 9517, 26875: 9518, 26985: 9519, 27178: 9520, 27255: 9521, 27627: 9522, 27644: 9523, 27744: 9524, 30890: 9525, 30994: 9526, 31309: 9527, 31973: 9528, 32234: 9529, 32600: 9530, 32620: 9531, 32649: 9532, 32728: 9533, 32862: 9534, 33237: 9535, 33310: 9536, 41014: 9537, 44189: 9538, 44301: 9539, 47202: 9540, 47538: 9541, 47774: 9542, 48032: 9543, 48214: 9544, 50354: 9545, 50356: 9546, 51314: 9547, 55805: 9548, 56333: 9549, 58783: 9550, 68480: 9551, 68872: 9552, 69224: 9553, 72603: 9554, 241: 9555, 2737: 9556, 5901: 9557, 7377: 9558, 8667: 9559, 32302: 9560, 51903: 9561, 137: 9562, 1054: 9563, 3945: 9564, 4497: 9565, 5275: 9566, 5953: 9567, 6009: 9568, 6095: 9569, 7202: 9570, 7562: 9571, 7984: 9572, 8840: 9573, 26169: 9574, 26391: 9575, 26399: 9576, 26401: 9577, 26498: 9578, 26603: 9579, 27426: 9580, 27480: 9581, 27491: 9582, 27746: 9583, 27778: 9584, 27905: 9585, 31086: 9586, 34450: 9587, 36931: 9588, 41712: 9589, 43289: 9590, 44597: 9591, 47937: 9592, 48150: 9593, 51666: 9594, 52831: 9595, 54910: 9596, 55067: 9597, 55492: 9598, 56620: 9599, 57421: 9600, 57637: 9601, 58826: 9602, 58964: 9603, 58975: 9604, 59915: 9605, 60303: 9606, 60471: 9607, 61262: 9608, 61319: 9609, 61692: 9610, 61818: 9611, 63179: 9612, 63768: 9613, 63826: 9614, 64010: 9615, 66310: 9616, 67168: 9617, 70206: 9618, 70208: 9619, 71341: 9620, 71910: 9621, 72142: 9622, 72424: 9623, 73676: 9624, 73741: 9625, 73876: 9626, 74370: 9627, 75389: 9628, 76091: 9629, 77893: 9630, 77931: 9631, 78626: 9632, 79501: 9633, 79868: 9634, 80094: 9635, 80162: 9636, 81520: 9637, 82366: 9638, 82641: 9639, 82765: 9640, 88327: 9641, 89072: 9642, 89281: 9643, 89837: 9644, 91233: 9645, 93193: 9646, 93598: 9647, 93819: 9648, 94867: 9649, 96832: 9650, 97188: 9651, 97285: 9652, 97701: 9653, 97988: 9654, 98061: 9655, 98633: 9656, 99030: 9657, 99721: 9658, 100159: 9659, 100397: 9660, 100579: 9661, 100906: 9662, 102066: 9663, 102070: 9664, 102338: 9665, 102760: 9666, 102802: 9667, 103085: 9668, 103219: 9669, 103483: 9670, 103685: 9671, 105801: 9672, 107436: 9673, 107447: 9674, 107462: 9675, 107771: 9676, 110281: 9677, 110286: 9678, 110591: 9679, 110746: 9680, 111551: 9681, 112727: 9682, 113159: 9683, 113313: 9684, 113565: 9685, 113780: 9686, 113862: 9687, 114044: 9688, 114670: 9689, 114707: 9690, 115727: 9691, 117867: 9692, 118082: 9693, 128838: 9694, 129313: 9695, 130050: 9696, 130052: 9697, 130840: 9698, 133832: 9699, 135534: 9700, 135803: 9701, 135815: 9702, 138610: 9703, 138632: 9704, 139511: 9705, 139655: 9706, 140267: 9707, 141400: 9708, 141799: 9709, 142366: 9710, 142598: 9711, 145951: 9712, 146309: 9713, 147657: 9714, 147662: 9715, 148166: 9716, 149011: 9717, 152372: 9718, 158721: 9719, 160341: 9720, 160527: 9721, 160836: 9722, 163937: 9723, 163981: 9724})\n"
     ]
    }
   ],
   "source": [
    "# creating Popularity-based filtering\n",
    "\n",
    "ratings = defaultdict(int)\n",
    "rankings = defaultdict(int)\n",
    "with open(ratingsPath, newline='') as file:\n",
    "    reader = csv.reader(file)\n",
    "    next(reader)\n",
    "    for row in reader:\n",
    "        movieID = int(row[1])\n",
    "        ratings[movieID] += 1\n",
    "    rank = 1\n",
    "    for movieID, ratingCount in sorted(ratings.items(), key=lambda x: x[1], reverse=True):\n",
    "            rankings[movieID] = rank\n",
    "            rank += 1\n",
    "    print(rankings)"
   ]
  },
  {
   "cell_type": "code",
   "execution_count": 10,
   "metadata": {
    "ExecuteTime": {
     "end_time": "2022-08-13T19:26:12.291018Z",
     "start_time": "2022-08-13T19:26:12.249738Z"
    }
   },
   "outputs": [
    {
     "name": "stdout",
     "output_type": "stream",
     "text": [
      "{1: 'Toy Story (1995)', 2: 'Jumanji (1995)', 3: 'Grumpier Old Men (1995)', 4: 'Waiting to Exhale (1995)', 5: 'Father of the Bride Part II (1995)', 6: 'Heat (1995)', 7: 'Sabrina (1995)', 8: 'Tom and Huck (1995)', 9: 'Sudden Death (1995)', 10: 'GoldenEye (1995)', 11: 'American President, The (1995)', 12: 'Dracula: Dead and Loving It (1995)', 13: 'Balto (1995)', 14: 'Nixon (1995)', 15: 'Cutthroat Island (1995)', 16: 'Casino (1995)', 17: 'Sense and Sensibility (1995)', 18: 'Four Rooms (1995)', 19: 'Ace Ventura: When Nature Calls (1995)', 20: 'Money Train (1995)', 21: 'Get Shorty (1995)', 22: 'Copycat (1995)', 23: 'Assassins (1995)', 24: 'Powder (1995)', 25: 'Leaving Las Vegas (1995)', 26: 'Othello (1995)', 27: 'Now and Then (1995)', 28: 'Persuasion (1995)', 29: 'City of Lost Children, The (CitÃ© des enfants perdus, La) (1995)', 30: 'Shanghai Triad (Yao a yao yao dao waipo qiao) (1995)', 31: 'Dangerous Minds (1995)', 32: 'Twelve Monkeys (a.k.a. 12 Monkeys) (1995)', 34: 'Babe (1995)', 36: 'Dead Man Walking (1995)', 38: 'It Takes Two (1995)', 39: 'Clueless (1995)', 40: 'Cry, the Beloved Country (1995)', 41: 'Richard III (1995)', 42: 'Dead Presidents (1995)', 43: 'Restoration (1995)', 44: 'Mortal Kombat (1995)', 45: 'To Die For (1995)', 46: 'How to Make an American Quilt (1995)', 47: 'Seven (a.k.a. Se7en) (1995)', 48: 'Pocahontas (1995)', 49: 'When Night Is Falling (1995)', 50: 'Usual Suspects, The (1995)', 52: 'Mighty Aphrodite (1995)', 53: 'Lamerica (1994)', 54: 'Big Green, The (1995)', 55: 'Georgia (1995)', 57: 'Home for the Holidays (1995)', 58: 'Postman, The (Postino, Il) (1994)', 60: 'Indian in the Cupboard, The (1995)', 61: 'Eye for an Eye (1996)', 62: \"Mr. Holland's Opus (1995)\", 63: \"Don't Be a Menace to South Central While Drinking Your Juice in the Hood (1996)\", 64: 'Two if by Sea (1996)', 65: 'Bio-Dome (1996)', 66: 'Lawnmower Man 2: Beyond Cyberspace (1996)', 68: 'French Twist (Gazon maudit) (1995)', 69: 'Friday (1995)', 70: 'From Dusk Till Dawn (1996)', 71: 'Fair Game (1995)', 72: 'Kicking and Screaming (1995)', 73: 'MisÃ©rables, Les (1995)', 74: 'Bed of Roses (1996)', 75: 'Big Bully (1996)', 76: 'Screamers (1995)', 77: 'Nico Icon (1995)', 78: 'Crossing Guard, The (1995)', 79: 'Juror, The (1996)', 80: 'White Balloon, The (Badkonake sefid) (1995)', 81: \"Things to Do in Denver When You're Dead (1995)\", 82: \"Antonia's Line (Antonia) (1995)\", 83: 'Once Upon a Time... When We Were Colored (1995)', 85: 'Angels and Insects (1995)', 86: 'White Squall (1996)', 87: 'Dunston Checks In (1996)', 88: 'Black Sheep (1996)', 89: 'Nick of Time (1995)', 92: 'Mary Reilly (1996)', 93: 'Vampire in Brooklyn (1995)', 94: 'Beautiful Girls (1996)', 95: 'Broken Arrow (1996)', 96: 'In the Bleak Midwinter (1995)', 97: 'Hate (Haine, La) (1995)', 99: 'Heidi Fleiss: Hollywood Madam (1995)', 100: 'City Hall (1996)', 101: 'Bottle Rocket (1996)', 102: 'Mr. Wrong (1996)', 103: 'Unforgettable (1996)', 104: 'Happy Gilmore (1996)', 105: 'Bridges of Madison County, The (1995)', 106: 'Nobody Loves Me (Keiner liebt mich) (1994)', 107: 'Muppet Treasure Island (1996)', 108: 'Catwalk (1996)', 110: 'Braveheart (1995)', 111: 'Taxi Driver (1976)', 112: 'Rumble in the Bronx (Hont faan kui) (1995)', 113: 'Before and After (1996)', 116: 'Anne Frank Remembered (1995)', 117: \"Young Poisoner's Handbook, The (1995)\", 118: 'If Lucy Fell (1996)', 119: 'Steal Big, Steal Little (1995)', 121: 'Boys of St. Vincent, The (1992)', 122: 'Boomerang (1992)', 123: 'Chungking Express (Chung Hing sam lam) (1994)', 125: 'Flirting With Disaster (1996)', 126: 'NeverEnding Story III, The (1994)', 128: \"Jupiter's Wife (1994)\", 129: 'Pie in the Sky (1996)', 132: 'Jade (1995)', 135: 'Down Periscope (1996)', 137: 'Man of the Year (1995)', 140: 'Up Close and Personal (1996)', 141: 'Birdcage, The (1996)', 144: 'Brothers McMullen, The (1995)', 145: 'Bad Boys (1995)', 146: 'Amazing Panda Adventure, The (1995)', 147: 'Basketball Diaries, The (1995)', 148: 'Awfully Big Adventure, An (1995)', 149: 'Amateur (1994)', 150: 'Apollo 13 (1995)', 151: 'Rob Roy (1995)', 152: 'Addiction, The (1995)', 153: 'Batman Forever (1995)', 154: 'Beauty of the Day (Belle de jour) (1967)', 155: 'Beyond Rangoon (1995)', 156: 'Blue in the Face (1995)', 157: 'Canadian Bacon (1995)', 158: 'Casper (1995)', 159: 'Clockers (1995)', 160: 'Congo (1995)', 161: 'Crimson Tide (1995)', 162: 'Crumb (1994)', 163: 'Desperado (1995)', 164: 'Devil in a Blue Dress (1995)', 165: 'Die Hard: With a Vengeance (1995)', 166: 'Doom Generation, The (1995)', 168: 'First Knight (1995)', 169: 'Free Willy 2: The Adventure Home (1995)', 170: 'Hackers (1995)', 171: 'Jeffrey (1995)', 172: 'Johnny Mnemonic (1995)', 173: 'Judge Dredd (1995)', 174: 'Jury Duty (1995)', 175: 'Kids (1995)', 176: 'Living in Oblivion (1995)', 177: 'Lord of Illusions (1995)', 178: 'Love & Human Remains (1993)', 179: 'Mad Love (1995)', 180: 'Mallrats (1995)', 181: 'Mighty Morphin Power Rangers: The Movie (1995)', 183: 'Mute Witness (1994)', 184: 'Nadja (1994)', 185: 'Net, The (1995)', 186: 'Nine Months (1995)', 187: 'Party Girl (1995)', 188: 'Prophecy, The (1995)', 189: 'Reckless (1995)', 190: 'Safe (1995)', 191: 'Scarlet Letter, The (1995)', 193: 'Showgirls (1995)', 194: 'Smoke (1995)', 195: 'Something to Talk About (1995)', 196: 'Species (1995)', 198: 'Strange Days (1995)', 199: 'Umbrellas of Cherbourg, The (Parapluies de Cherbourg, Les) (1964)', 201: 'Three Wishes (1995)', 202: 'Total Eclipse (1995)', 203: 'To Wong Foo, Thanks for Everything! Julie Newmar (1995)', 204: 'Under Siege 2: Dark Territory (1995)', 205: 'Unstrung Heroes (1995)', 206: 'Unzipped (1995)', 207: 'Walk in the Clouds, A (1995)', 208: 'Waterworld (1995)', 209: \"White Man's Burden (1995)\", 210: 'Wild Bill (1995)', 211: 'Browning Version, The (1994)', 212: 'Bushwhacked (1995)', 213: 'Burnt by the Sun (Utomlyonnye solntsem) (1994)', 214: 'Before the Rain (Pred dozhdot) (1994)', 215: 'Before Sunrise (1995)', 216: 'Billy Madison (1995)', 217: 'Babysitter, The (1995)', 218: 'Boys on the Side (1995)', 219: 'Cure, The (1995)', 220: 'Castle Freak (1995)', 222: 'Circle of Friends (1995)', 223: 'Clerks (1994)', 224: 'Don Juan DeMarco (1995)', 225: 'Disclosure (1994)', 227: 'Drop Zone (1994)', 228: 'Destiny Turns on the Radio (1995)', 229: 'Death and the Maiden (1994)', 230: 'Dolores Claiborne (1995)', 231: 'Dumb & Dumber (Dumb and Dumber) (1994)', 232: 'Eat Drink Man Woman (Yin shi nan nu) (1994)', 233: 'Exotica (1994)', 234: 'Exit to Eden (1994)', 235: 'Ed Wood (1994)', 236: 'French Kiss (1995)', 237: 'Forget Paris (1995)', 238: 'Far From Home: The Adventures of Yellow Dog (1995)', 239: 'Goofy Movie, A (1995)', 240: 'Hideaway (1995)', 241: 'Fluke (1995)', 242: 'Farinelli: il castrato (1994)', 243: 'Gordy (1995)', 246: 'Hoop Dreams (1994)', 247: 'Heavenly Creatures (1994)', 248: 'Houseguest (1994)', 249: 'Immortal Beloved (1994)', 250: 'Heavyweights (Heavy Weights) (1995)', 251: 'Hunted, The (1995)', 252: 'I.Q. (1994)', 253: 'Interview with the Vampire: The Vampire Chronicles (1994)', 254: 'Jefferson in Paris (1995)', 255: 'Jerky Boys, The (1995)', 256: 'Junior (1994)', 257: 'Just Cause (1995)', 258: \"Kid in King Arthur's Court, A (1995)\", 259: 'Kiss of Death (1995)', 260: 'Star Wars: Episode IV - A New Hope (1977)', 261: 'Little Women (1994)', 262: 'Little Princess, A (1995)', 263: 'Ladybird Ladybird (1994)', 265: 'Like Water for Chocolate (Como agua para chocolate) (1992)', 266: 'Legends of the Fall (1994)', 267: 'Major Payne (1995)', 269: 'My Crazy Life (Mi vida loca) (1993)', 270: 'Love Affair (1994)', 271: 'Losing Isaiah (1995)', 272: 'Madness of King George, The (1994)', 273: \"Mary Shelley's Frankenstein (Frankenstein) (1994)\", 274: 'Man of the House (1995)', 275: 'Mixed Nuts (1994)', 276: 'Milk Money (1994)', 277: 'Miracle on 34th Street (1994)', 278: 'Miami Rhapsody (1995)', 279: 'My Family (1995)', 280: 'Murder in the First (1995)', 281: \"Nobody's Fool (1994)\", 282: 'Nell (1994)', 283: 'New Jersey Drive (1995)', 284: 'New York Cop (NyÃ» YÃ´ku no koppu) (1993)', 285: 'Beyond Bedlam (1993)', 287: 'Nina Takes a Lover (1994)', 288: 'Natural Born Killers (1994)', 289: 'Only You (1994)', 290: 'Once Were Warriors (1994)', 291: 'Poison Ivy II (1996)', 292: 'Outbreak (1995)', 293: 'LÃ©on: The Professional (a.k.a. The Professional) (LÃ©on) (1994)', 294: 'Perez Family, The (1995)', 295: \"Pyromaniac's Love Story, A (1995)\", 296: 'Pulp Fiction (1994)', 298: 'Pushing Hands (Tui shou) (1992)', 299: 'Priest (1994)', 300: 'Quiz Show (1994)', 301: 'Picture Bride (Bijo photo) (1994)', 302: 'Queen Margot (Reine Margot, La) (1994)', 303: 'Quick and the Dead, The (1995)', 304: 'Roommates (1995)', 305: 'Ready to Wear (Pret-A-Porter) (1994)', 306: 'Three Colors: Red (Trois couleurs: Rouge) (1994)', 307: 'Three Colors: Blue (Trois couleurs: Bleu) (1993)', 308: 'Three Colors: White (Trzy kolory: Bialy) (1994)', 310: 'Rent-a-Kid (1995)', 311: 'Relative Fear (1994)', 312: 'Stuart Saves His Family (1995)', 313: 'Swan Princess, The (1994)', 314: 'Secret of Roan Inish, The (1994)', 315: 'Specialist, The (1994)', 316: 'Stargate (1994)', 317: 'Santa Clause, The (1994)', 318: 'Shawshank Redemption, The (1994)', 319: 'Shallow Grave (1994)', 320: 'Suture (1993)', 321: 'Strawberry and Chocolate (Fresa y chocolate) (1993)', 322: 'Swimming with Sharks (1995)', 324: 'Sum of Us, The (1994)', 325: \"National Lampoon's Senior Trip (1995)\", 326: 'To Live (Huozhe) (1994)', 327: 'Tank Girl (1995)', 328: 'Tales from the Crypt Presents: Demon Knight (1995)', 329: 'Star Trek: Generations (1994)', 330: 'Tales from the Hood (1995)', 331: 'Tom & Viv (1994)', 332: 'Village of the Damned (1995)', 333: 'Tommy Boy (1995)', 334: 'Vanya on 42nd Street (1994)', 335: 'Underneath (1995)', 336: 'Walking Dead, The (1995)', 337: \"What's Eating Gilbert Grape (1993)\", 338: 'Virtuosity (1995)', 339: 'While You Were Sleeping (1995)', 340: 'War, The (1994)', 341: 'Double Happiness (1994)', 342: \"Muriel's Wedding (1994)\", 343: 'Baby-Sitters Club, The (1995)', 344: 'Ace Ventura: Pet Detective (1994)', 345: 'Adventures of Priscilla, Queen of the Desert, The (1994)', 346: 'Backbeat (1993)', 347: 'Bitter Moon (1992)', 348: 'Bullets Over Broadway (1994)', 349: 'Clear and Present Danger (1994)', 350: 'Client, The (1994)', 351: 'Corrina, Corrina (1994)', 352: 'Crooklyn (1994)', 353: 'Crow, The (1994)', 354: 'Cobb (1994)', 355: 'Flintstones, The (1994)', 356: 'Forrest Gump (1994)', 357: 'Four Weddings and a Funeral (1994)', 358: 'Higher Learning (1995)', 359: 'I Like It Like That (1994)', 360: 'I Love Trouble (1994)', 361: 'It Could Happen to You (1994)', 362: 'Jungle Book, The (1994)', 363: 'Wonderful, Horrible Life of Leni Riefenstahl, The (Macht der Bilder: Leni Riefenstahl, Die) (1993)', 364: 'Lion King, The (1994)', 365: 'Little Buddha (1993)', 366: \"Wes Craven's New Nightmare (Nightmare on Elm Street Part 7: Freddy's Finale, A) (1994)\", 367: 'Mask, The (1994)', 368: 'Maverick (1994)', 369: 'Mrs. Parker and the Vicious Circle (1994)', 370: 'Naked Gun 33 1/3: The Final Insult (1994)', 371: 'Paper, The (1994)', 372: 'Reality Bites (1994)', 373: 'Red Rock West (1992)', 374: 'Richie Rich (1994)', 376: 'River Wild, The (1994)', 377: 'Speed (1994)', 378: 'Speechless (1994)', 379: 'Timecop (1994)', 380: 'True Lies (1994)', 381: 'When a Man Loves a Woman (1994)', 382: 'Wolf (1994)', 383: 'Wyatt Earp (1994)', 384: 'Bad Company (1995)', 385: 'Man of No Importance, A (1994)', 386: 'S.F.W. (1994)', 387: 'Low Down Dirty Shame, A (1994)', 388: 'Boys Life (1995)', 389: 'Colonel Chabert, Le (1994)', 390: 'Faster Pussycat! Kill! Kill! (1965)', 391: \"Jason's Lyric (1994)\", 393: 'Street Fighter (1994)', 405: 'Highlander III: The Sorcerer (a.k.a. Highlander: The Final Dimension) (1994)', 406: 'Federal Hill (1994)', 407: 'In the Mouth of Madness (1995)', 408: '8 Seconds (1994)', 409: 'Above the Rim (1994)', 410: 'Addams Family Values (1993)', 412: 'Age of Innocence, The (1993)', 413: 'Airheads (1994)', 414: 'Air Up There, The (1994)', 415: 'Another Stakeout (1993)', 416: 'Bad Girls (1994)', 417: 'Barcelona (1994)', 418: 'Being Human (1993)', 419: 'Beverly Hillbillies, The (1993)', 420: 'Beverly Hills Cop III (1994)', 421: 'Black Beauty (1994)', 422: 'Blink (1994)', 423: 'Blown Away (1994)', 424: 'Blue Chips (1994)', 425: 'Blue Sky (1994)', 426: 'Body Snatchers (1993)', 427: 'Boxing Helena (1993)', 428: 'Bronx Tale, A (1993)', 429: 'Cabin Boy (1994)', 430: 'Calendar Girl (1993)', 431: \"Carlito's Way (1993)\", 432: \"City Slickers II: The Legend of Curly's Gold (1994)\", 433: 'Clean Slate (1994)', 434: 'Cliffhanger (1993)', 435: 'Coneheads (1993)', 436: 'Color of Night (1994)', 437: 'Cops and Robbersons (1994)', 438: 'Cowboy Way, The (1994)', 440: 'Dave (1993)', 441: 'Dazed and Confused (1993)', 442: 'Demolition Man (1993)', 444: 'Even Cowgirls Get the Blues (1993)', 445: 'Fatal Instinct (1993)', 446: 'Farewell My Concubine (Ba wang bie ji) (1993)', 448: 'Fearless (1993)', 449: 'Fear of a Black Hat (1994)', 450: 'With Honors (1994)', 451: 'Flesh and Bone (1993)', 452: \"Widows' Peak (1994)\", 453: 'For Love or Money (1993)', 454: 'Firm, The (1993)', 455: 'Free Willy (1993)', 456: 'Fresh (1994)', 457: 'Fugitive, The (1993)', 458: 'Geronimo: An American Legend (1993)', 459: 'Getaway, The (1994)', 460: 'Getting Even with Dad (1994)', 461: 'Go Fish (1994)', 464: 'Hard Target (1993)', 466: 'Hot Shots! Part Deux (1993)', 467: 'Live Nude Girls (1995)', 468: 'Englishman Who Went Up a Hill But Came Down a Mountain, The (1995)', 469: 'House of the Spirits, The (1993)', 470: 'House Party 3 (1994)', 471: 'Hudsucker Proxy, The (1994)', 472: \"I'll Do Anything (1994)\", 473: 'In the Army Now (1994)', 474: 'In the Line of Fire (1993)', 475: 'In the Name of the Father (1993)', 476: 'Inkwell, The (1994)', 477: \"What's Love Got to Do with It? (1993)\", 478: 'Jimmy Hollywood (1994)', 479: 'Judgment Night (1993)', 480: 'Jurassic Park (1993)', 481: 'Kalifornia (1993)', 482: 'Killing Zoe (1994)', 484: 'Lassie (1994)', 485: 'Last Action Hero (1993)', 486: 'Life with Mikey (1993)', 487: 'Lightning Jack (1994)', 488: 'M. Butterfly (1993)', 489: 'Made in America (1993)', 490: 'Malice (1993)', 491: 'Man Without a Face, The (1993)', 492: 'Manhattan Murder Mystery (1993)', 493: 'Menace II Society (1993)', 494: 'Executive Decision (1996)', 495: 'In the Realm of the Senses (Ai no corrida) (1976)', 496: 'What Happened Was... (1994)', 497: 'Much Ado About Nothing (1993)', 499: 'Mr. Wonderful (1993)', 500: 'Mrs. Doubtfire (1993)', 501: 'Naked (1993)', 502: 'Next Karate Kid, The (1994)', 504: 'No Escape (1994)', 505: 'North (1994)', 506: 'Orlando (1992)', 507: 'Perfect World, A (1993)', 508: 'Philadelphia (1993)', 509: 'Piano, The (1993)', 510: 'Poetic Justice (1993)', 511: 'Program, The (1993)', 512: 'Puppet Masters, The (1994)', 513: 'Radioland Murders (1994)', 514: 'Ref, The (1994)', 515: 'Remains of the Day, The (1993)', 516: 'Renaissance Man (1994)', 517: 'Rising Sun (1993)', 518: 'Road to Wellville, The (1994)', 519: 'RoboCop 3 (1993)', 520: 'Robin Hood: Men in Tights (1993)', 521: 'Romeo Is Bleeding (1993)', 522: 'Romper Stomper (1992)', 523: 'Ruby in Paradise (1993)', 524: 'Rudy (1993)', 526: 'Savage Nights (Nuits fauves, Les) (1992)', 527: \"Schindler's List (1993)\", 528: 'Scout, The (1994)', 529: 'Searching for Bobby Fischer (1993)', 531: 'Secret Garden, The (1993)', 532: 'Serial Mom (1994)', 533: 'Shadow, The (1994)', 534: 'Shadowlands (1993)', 535: 'Short Cuts (1993)', 536: 'Simple Twist of Fate, A (1994)', 537: 'Sirens (1994)', 538: 'Six Degrees of Separation (1993)', 539: 'Sleepless in Seattle (1993)', 540: 'Sliver (1993)', 541: 'Blade Runner (1982)', 542: 'Son in Law (1993)', 543: 'So I Married an Axe Murderer (1993)', 544: 'Striking Distance (1993)', 546: 'Super Mario Bros. (1993)', 547: 'Surviving the Game (1994)', 548: 'Terminal Velocity (1994)', 549: 'Thirty-Two Short Films About Glenn Gould (1993)', 550: 'Threesome (1994)', 551: 'Nightmare Before Christmas, The (1993)', 552: 'Three Musketeers, The (1993)', 553: 'Tombstone (1993)', 555: 'True Romance (1993)', 556: 'War Room, The (1993)', 558: 'Pagemaster, The (1994)', 562: 'Welcome to the Dollhouse (1995)', 563: 'Germinal (1993)', 564: 'Chasers (1994)', 567: 'Kika (1993)', 568: 'Bhaji on the Beach (1993)', 569: 'Little Big League (1994)', 573: 'Ciao, Professore! (Io speriamo che me la cavo) (1992)', 574: 'Spanking the Monkey (1994)', 575: 'Little Rascals, The (1994)', 577: 'Andre (1994)', 579: 'Escort, The (Scorta, La) (1993)', 580: 'Princess Caraboo (1994)', 581: 'Celluloid Closet, The (1995)', 583: 'Dear Diary (Caro Diario) (1994)', 585: 'Brady Bunch Movie, The (1995)', 586: 'Home Alone (1990)', 587: 'Ghost (1990)', 588: 'Aladdin (1992)', 589: 'Terminator 2: Judgment Day (1991)', 590: 'Dances with Wolves (1990)', 592: 'Batman (1989)', 593: 'Silence of the Lambs, The (1991)', 594: 'Snow White and the Seven Dwarfs (1937)', 595: 'Beauty and the Beast (1991)', 596: 'Pinocchio (1940)', 597: 'Pretty Woman (1990)', 599: 'Wild Bunch, The (1969)', 600: 'Love and a .45 (1994)', 602: 'Great Day in Harlem, A (1994)', 605: 'One Fine Day (1996)', 606: 'Candyman: Farewell to the Flesh (1995)', 608: 'Fargo (1996)', 609: 'Homeward Bound II: Lost in San Francisco (1996)', 610: 'Heavy Metal (1981)', 611: 'Hellraiser: Bloodline (1996)', 612: 'Pallbearer, The (1996)', 613: 'Jane Eyre (1996)', 615: 'Bread and Chocolate (Pane e cioccolata) (1973)', 616: 'Aristocats, The (1970)', 617: 'Flower of My Secret, The (La flor de mi secreto) (1995)', 618: 'Two Much (1995)', 619: 'Ed (1996)', 626: 'Thin Line Between Love and Hate, A (1996)', 627: 'Last Supper, The (1995)', 628: 'Primal Fear (1996)', 631: 'All Dogs Go to Heaven 2 (1996)', 632: 'Land and Freedom (Tierra y libertad) (1995)', 633: 'Denise Calls Up (1995)', 634: 'Theodore Rex (1995)', 635: 'Family Thing, A (1996)', 636: 'Frisk (1995)', 637: 'Sgt. Bilko (1996)', 638: 'Jack and Sarah (1995)', 639: 'Girl 6 (1996)', 640: 'Diabolique (1996)', 645: 'Nelly & Monsieur Arnaud (1995)', 647: 'Courage Under Fire (1996)', 648: 'Mission: Impossible (1996)', 649: 'Cold Fever (Ã\\x81 kÃ¶ldum klaka) (1995)', 650: 'Moll Flanders (1996)', 653: 'Dragonheart (1996)', 656: 'Eddie (1996)', 661: 'James and the Giant Peach (1996)', 662: 'Fear (1996)', 663: 'Kids in the Hall: Brain Candy (1996)', 665: 'Underground (1995)', 667: 'Bloodsport 2 (a.k.a. Bloodsport II: The Next Kumite) (1996)', 668: 'Song of the Little Road (Pather Panchali) (1955)', 670: 'World of Apu, The (Apur Sansar) (1959)', 671: 'Mystery Science Theater 3000: The Movie (1996)', 673: 'Space Jam (1996)', 674: 'Barbarella (1968)', 678: 'Some Folks Call It a Sling Blade (1993)', 679: 'Run of the Country, The (1995)', 680: 'Alphaville (Alphaville, une Ã©trange aventure de Lemmy Caution) (1965)', 685: \"It's My Party (1996)\", 688: 'Operation Dumbo Drop (1995)', 691: 'Mrs. Winterbourne (1996)', 692: 'Solo (1996)', 694: 'Substitute, The (1996)', 695: 'True Crime (1996)', 697: 'Feeling Minnesota (1996)', 698: 'Delta of Venus (1995)', 700: 'Angus (1995)', 703: 'Boys (1996)', 704: 'Quest, The (1996)', 706: 'Sunset Park (1996)', 707: 'Mulholland Falls (1996)', 708: 'Truth About Cats & Dogs, The (1996)', 709: 'Oliver & Company (1988)', 710: 'Celtic Pride (1996)', 711: 'Flipper (1996)', 714: 'Dead Man (1995)', 715: 'Horseman on the Roof, The (Hussard sur le toit, Le) (1995)', 718: 'Visitors, The (Visiteurs, Les) (1993)', 719: 'Multiplicity (1996)', 720: 'Wallace & Gromit: The Best of Aardman Animation (1996)', 722: 'Haunted World of Edward D. Wood Jr., The (1996)', 724: 'Craft, The (1996)', 725: 'Great White Hype, The (1996)', 726: 'Last Dance (1996)', 728: 'Cold Comfort Farm (1995)', 731: \"Heaven's Prisoners (1996)\", 733: 'Rock, The (1996)', 735: 'Cemetery Man (Dellamorte Dellamore) (1994)', 736: 'Twister (1996)', 737: 'Barb Wire (1996)', 741: 'Ghost in the Shell (KÃ´kaku kidÃ´tai) (1995)', 742: 'Thinner (1996)', 743: 'Spy Hard (1996)', 745: 'Wallace & Gromit: A Close Shave (1995)', 747: 'Stupids, The (1996)', 748: 'Arrival, The (1996)', 750: 'Dr. Strangelove or: How I Learned to Stop Worrying and Love the Bomb (1964)', 757: 'Ashes of Time (Dung che sai duk) (1994)', 759: 'Maya Lin: A Strong Clear Vision (1994)', 760: 'Stalingrad (1993)', 761: 'Phantom, The (1996)', 762: 'Striptease (1996)', 764: 'Heavy (1995)', 765: 'Jack (1996)', 766: 'I Shot Andy Warhol (1996)', 773: 'Touki Bouki (1973)', 775: 'Spirits of the Dead (1968)', 778: 'Trainspotting (1996)', 779: \"'Til There Was You (1997)\", 780: 'Independence Day (a.k.a. ID4) (1996)', 781: 'Stealing Beauty (1996)', 782: 'Fan, The (1996)', 783: 'Hunchback of Notre Dame, The (1996)', 784: 'Cable Guy, The (1996)', 785: 'Kingpin (1996)', 786: 'Eraser (1996)', 788: 'Nutty Professor, The (1996)', 790: 'Unforgettable Summer, An (Un Ã©tÃ© inoubliable) (1994)', 791: 'Last Klezmer: Leopold Kozlowski, His Life and Music, The (1994)', 795: 'Somebody to Love (1994)', 798: 'Daylight (1996)', 799: 'Frighteners, The (1996)', 800: 'Lone Star (1996)', 801: 'Harriet the Spy (1996)', 802: 'Phenomenon (1996)', 803: 'Walking and Talking (1996)', 804: \"She's the One (1996)\", 805: 'Time to Kill, A (1996)', 806: 'American Buffalo (1996)', 808: 'Alaska (1996)', 809: 'Fled (1996)', 810: 'Kazaam (1996)', 813: 'Larger Than Life (1996)', 818: 'Very Brady Sequel, A (1996)', 823: 'Collector, The (La collectionneuse) (1967)', 824: 'Kaspar Hauser (1993)', 828: 'Adventures of Pinocchio, The (1996)', 829: \"Joe's Apartment (1996)\", 830: 'First Wives Club, The (1996)', 832: 'Ransom (1996)', 833: 'High School High (1996)', 835: 'Foxfire (1996)', 836: 'Chain Reaction (1996)', 837: 'Matilda (1996)', 838: 'Emma (1996)', 839: 'Crow: City of Angels, The (1996)', 840: 'House Arrest (1996)', 841: 'Eyes Without a Face (Yeux sans visage, Les) (1959)', 842: 'Tales from the Crypt Presents: Bordello of Blood (1996)', 848: 'Spitfire Grill, The (1996)', 849: 'Escape from L.A. (1996)', 851: 'Basquiat (1996)', 852: 'Tin Cup (1996)', 858: 'Godfather, The (1972)', 861: 'Supercop (Police Story 3: Supercop) (Jing cha gu shi III: Chao ji jing cha) (1992)', 866: 'Bound (1996)', 867: 'Carpool (1996)', 869: 'Kansas City (1996)', 870: \"Gone Fishin' (1997)\", 875: 'Nothing to Lose (1994)', 876: 'Supercop 2 (Project S) (Chao ji ji hua) (1993)', 879: 'Relic, The (1997)', 880: 'Island of Dr. Moreau, The (1996)', 881: 'First Kid (1996)', 882: 'Trigger Effect, The (1996)', 885: 'Bogus (1996)', 886: 'Bulletproof (1996)', 888: 'Land Before Time III: The Time of the Great Giving (1995)', 889: '1-900 (06) (1994)', 891: 'Halloween: The Curse of Michael Myers (Halloween 6: The Curse of Michael Myers) (1995)', 892: 'Twelfth Night (1996)', 893: 'Mother Night (1996)', 896: 'Wild Reeds (Les roseaux sauvages) (1994)', 897: 'For Whom the Bell Tolls (1943)', 898: 'Philadelphia Story, The (1940)', 899: \"Singin' in the Rain (1952)\", 900: 'American in Paris, An (1951)', 901: 'Funny Face (1957)', 902: \"Breakfast at Tiffany's (1961)\", 903: 'Vertigo (1958)', 904: 'Rear Window (1954)', 905: 'It Happened One Night (1934)', 906: 'Gaslight (1944)', 907: 'Gay Divorcee, The (1934)', 908: 'North by Northwest (1959)', 909: 'Apartment, The (1960)', 910: 'Some Like It Hot (1959)', 911: 'Charade (1963)', 912: 'Casablanca (1942)', 913: 'Maltese Falcon, The (1941)', 914: 'My Fair Lady (1964)', 915: 'Sabrina (1954)', 916: 'Roman Holiday (1953)', 917: 'Little Princess, The (1939)', 918: 'Meet Me in St. Louis (1944)', 919: 'Wizard of Oz, The (1939)', 920: 'Gone with the Wind (1939)', 921: 'My Favorite Year (1982)', 922: 'Sunset Blvd. (a.k.a. Sunset Boulevard) (1950)', 923: 'Citizen Kane (1941)', 924: '2001: A Space Odyssey (1968)', 926: 'All About Eve (1950)', 927: 'Women, The (1939)', 928: 'Rebecca (1940)', 929: 'Foreign Correspondent (1940)', 930: 'Notorious (1946)', 931: 'Spellbound (1945)', 932: 'Affair to Remember, An (1957)', 933: 'To Catch a Thief (1955)', 934: 'Father of the Bride (1950)', 935: 'Band Wagon, The (1953)', 936: 'Ninotchka (1939)', 937: 'Love in the Afternoon (1957)', 938: 'Gigi (1958)', 940: 'Adventures of Robin Hood, The (1938)', 941: 'Mark of Zorro, The (1940)', 942: 'Laura (1944)', 943: 'Ghost and Mrs. Muir, The (1947)', 944: 'Lost Horizon (1937)', 945: 'Top Hat (1935)', 946: 'To Be or Not to Be (1942)', 947: 'My Man Godfrey (1936)', 948: 'Giant (1956)', 949: 'East of Eden (1955)', 950: 'Thin Man, The (1934)', 951: 'His Girl Friday (1940)', 952: 'Around the World in 80 Days (1956)', 953: \"It's a Wonderful Life (1946)\", 954: 'Mr. Smith Goes to Washington (1939)', 955: 'Bringing Up Baby (1938)', 956: 'Penny Serenade (1941)', 959: 'Of Human Bondage (1934)', 961: 'Little Lord Fauntleroy (1936)', 963: 'Inspector General, The (1949)', 965: '39 Steps, The (1935)', 968: 'Night of the Living Dead (1968)', 969: 'African Queen, The (1951)', 970: 'Beat the Devil (1953)', 971: 'Cat on a Hot Tin Roof (1958)', 973: 'Meet John Doe (1941)', 976: 'Farewell to Arms, A (1932)', 979: 'Nothing Personal (1995)', 981: 'Dangerous Ground (1997)', 982: 'Picnic (1955)', 984: 'Pompatus of Love, The (1996)', 986: 'Fly Away Home (1996)', 987: 'Bliss (1997)', 988: 'Grace of My Heart (1996)', 990: 'Maximum Risk (1996)', 991: 'Michael Collins (1996)', 993: 'Infinity (1996)', 994: 'Big Night (1996)', 996: 'Last Man Standing (1996)', 998: 'Set It Off (1996)', 999: '2 Days in the Valley (1996)', 1003: 'Extreme Measures (1996)', 1004: 'Glimmer Man, The (1996)', 1005: 'D3: The Mighty Ducks (1996)', 1006: 'Chamber, The (1996)', 1007: 'Apple Dumpling Gang, The (1975)', 1008: 'Davy Crockett, King of the Wild Frontier (1955)', 1009: 'Escape to Witch Mountain (1975)', 1010: 'Love Bug, The (1969)', 1011: 'Herbie Rides Again (1974)', 1012: 'Old Yeller (1957)', 1013: 'Parent Trap, The (1961)', 1014: 'Pollyanna (1960)', 1015: 'Homeward Bound: The Incredible Journey (1993)', 1016: 'Shaggy Dog, The (1959)', 1017: 'Swiss Family Robinson (1960)', 1018: 'That Darn Cat! (1965)', 1019: '20,000 Leagues Under the Sea (1954)', 1020: 'Cool Runnings (1993)', 1021: 'Angels in the Outfield (1994)', 1022: 'Cinderella (1950)', 1023: 'Winnie the Pooh and the Blustery Day (1968)', 1024: 'Three Caballeros, The (1945)', 1025: 'Sword in the Stone, The (1963)', 1027: 'Robin Hood: Prince of Thieves (1991)', 1028: 'Mary Poppins (1964)', 1029: 'Dumbo (1941)', 1030: \"Pete's Dragon (1977)\", 1031: 'Bedknobs and Broomsticks (1971)', 1032: 'Alice in Wonderland (1951)', 1033: 'Fox and the Hound, The (1981)', 1034: 'Freeway (1996)', 1035: 'Sound of Music, The (1965)', 1036: 'Die Hard (1988)', 1037: 'Lawnmower Man, The (1992)', 1040: 'Secret Agent, The (1996)', 1041: 'Secrets & Lies (1996)', 1042: 'That Thing You Do! (1996)', 1043: 'To Gillian on Her 37th Birthday (1996)', 1046: 'Beautiful Thing (1996)', 1047: 'Long Kiss Goodnight, The (1996)', 1049: 'Ghost and the Darkness, The (1996)', 1050: 'Looking for Richard (1996)', 1051: 'Trees Lounge (1996)', 1053: 'Normal Life (1996)', 1054: 'Get on the Bus (1996)', 1055: 'Shadow Conspiracy (1997)', 1056: 'Jude (1996)', 1057: 'Everyone Says I Love You (1996)', 1059: \"William Shakespeare's Romeo + Juliet (1996)\", 1060: 'Swingers (1996)', 1061: 'Sleepers (1996)', 1064: 'Aladdin and the King of Thieves (1996)', 1066: 'Shall We Dance (1937)', 1068: 'Crossfire (1947)', 1073: 'Willy Wonka & the Chocolate Factory (1971)', 1076: 'Innocents, The (1961)', 1077: 'Sleeper (1973)', 1078: 'Bananas (1971)', 1079: 'Fish Called Wanda, A (1988)', 1080: \"Monty Python's Life of Brian (1979)\", 1081: 'Victor/Victoria (1982)', 1082: 'Candidate, The (1972)', 1083: 'Great Race, The (1965)', 1084: 'Bonnie and Clyde (1967)', 1085: 'Old Man and the Sea, The (1958)', 1086: 'Dial M for Murder (1954)', 1088: 'Dirty Dancing (1987)', 1089: 'Reservoir Dogs (1992)', 1090: 'Platoon (1986)', 1091: \"Weekend at Bernie's (1989)\", 1092: 'Basic Instinct (1992)', 1093: 'Doors, The (1991)', 1094: 'Crying Game, The (1992)', 1095: 'Glengarry Glen Ross (1992)', 1096: \"Sophie's Choice (1982)\", 1097: 'E.T. the Extra-Terrestrial (1982)', 1099: 'Christmas Carol, A (1938)', 1100: 'Days of Thunder (1990)', 1101: 'Top Gun (1986)', 1103: 'Rebel Without a Cause (1955)', 1104: 'Streetcar Named Desire, A (1951)', 1105: 'Children of the Corn IV: The Gathering (1996)', 1107: 'Loser (1991)', 1111: \"Microcosmos (Microcosmos: Le peuple de l'herbe) (1996)\", 1112: 'Palookaville (1996)', 1114: 'Funeral, The (1996)', 1116: 'Single Girl, A (Fille seule, La) (1995)', 1117: 'Eighth Day, The (HuitiÃ¨me jour, Le) (1996)', 1119: 'Drunks (1995)', 1120: 'People vs. Larry Flynt, The (1996)', 1121: 'Glory Daze (1995)', 1123: 'Perfect Candidate, A (1996)', 1124: 'On Golden Pond (1981)', 1125: 'Return of the Pink Panther, The (1975)', 1126: 'Drop Dead Fred (1991)', 1127: 'Abyss, The (1989)', 1128: 'Fog, The (1980)', 1129: 'Escape from New York (1981)', 1130: 'Howling, The (1980)', 1131: 'Jean de Florette (1986)', 1132: 'Manon of the Spring (Manon des sources) (1986)', 1135: 'Private Benjamin (1980)', 1136: 'Monty Python and the Holy Grail (1975)', 1137: 'Hustler White (1996)', 1140: 'Entertaining Angels: The Dorothy Day Story (1996)', 1144: 'Line King: The Al Hirschfeld Story, The (1996)', 1147: 'When We Were Kings (1996)', 1148: 'Wallace & Gromit: The Wrong Trousers (1993)', 1150: 'Return of Martin Guerre, The (Retour de Martin Guerre, Le) (1982)', 1151: 'Lesson Faust (1994)', 1156: 'Children Are Watching Us, The (Bambini ci guardano, I) (1944)', 1161: 'Tin Drum, The (Blechtrommel, Die) (1979)', 1162: 'Ruling Class, The (1972)', 1163: 'Mina Tannenbaum (1994)', 1167: 'Dear God (1996)', 1170: 'Best of the Best 3: No Turning Back (1995)', 1171: 'Bob Roberts (1992)', 1172: 'Cinema Paradiso (Nuovo cinema Paradiso) (1989)', 1173: 'Cook the Thief His Wife & Her Lover, The (1989)', 1175: 'Delicatessen (1991)', 1176: 'Double Life of Veronique, The (Double Vie de VÃ©ronique, La) (1991)', 1177: 'Enchanted April (1992)', 1178: 'Paths of Glory (1957)', 1179: 'Grifters, The (1990)', 1180: 'Hear My Song (1991)', 1183: 'English Patient, The (1996)', 1184: 'Mediterraneo (1991)', 1185: 'My Left Foot (1989)', 1186: 'Sex, Lies, and Videotape (1989)', 1187: 'Passion Fish (1992)', 1188: 'Strictly Ballroom (1992)', 1189: 'Thin Blue Line, The (1988)', 1190: 'Tie Me Up! Tie Me Down! (Â¡Ã\\x81tame!) (1990)', 1191: 'Madonna: Truth or Dare (1991)', 1192: 'Paris Is Burning (1990)', 1193: \"One Flew Over the Cuckoo's Nest (1975)\", 1194: \"Cheech and Chong's Up in Smoke (1978)\", 1196: 'Star Wars: Episode V - The Empire Strikes Back (1980)', 1197: 'Princess Bride, The (1987)', 1198: 'Raiders of the Lost Ark (Indiana Jones and the Raiders of the Lost Ark) (1981)', 1199: 'Brazil (1985)', 1200: 'Aliens (1986)', 1201: 'Good, the Bad and the Ugly, The (Buono, il brutto, il cattivo, Il) (1966)', 1202: 'Withnail & I (1987)', 1203: '12 Angry Men (1957)', 1204: 'Lawrence of Arabia (1962)', 1206: 'Clockwork Orange, A (1971)', 1207: 'To Kill a Mockingbird (1962)', 1208: 'Apocalypse Now (1979)', 1209: \"Once Upon a Time in the West (C'era una volta il West) (1968)\", 1210: 'Star Wars: Episode VI - Return of the Jedi (1983)', 1211: 'Wings of Desire (Himmel Ã¼ber Berlin, Der) (1987)', 1212: 'Third Man, The (1949)', 1213: 'Goodfellas (1990)', 1214: 'Alien (1979)', 1215: 'Army of Darkness (1993)', 1216: 'Big Blue, The (Grand bleu, Le) (1988)', 1217: 'Ran (1985)', 1218: 'Killer, The (Die xue shuang xiong) (1989)', 1219: 'Psycho (1960)', 1220: 'Blues Brothers, The (1980)', 1221: 'Godfather: Part II, The (1974)', 1222: 'Full Metal Jacket (1987)', 1223: 'Grand Day Out with Wallace and Gromit, A (1989)', 1224: 'Henry V (1989)', 1225: 'Amadeus (1984)', 1226: 'Quiet Man, The (1952)', 1227: 'Once Upon a Time in America (1984)', 1228: 'Raging Bull (1980)', 1230: 'Annie Hall (1977)', 1231: 'Right Stuff, The (1983)', 1232: 'Stalker (1979)', 1233: 'Boot, Das (Boat, The) (1981)', 1234: 'Sting, The (1973)', 1235: 'Harold and Maude (1971)', 1236: 'Trust (1990)', 1237: 'Seventh Seal, The (Sjunde inseglet, Det) (1957)', 1238: 'Local Hero (1983)', 1240: 'Terminator, The (1984)', 1241: 'Dead Alive (Braindead) (1992)', 1242: 'Glory (1989)', 1243: 'Rosencrantz and Guildenstern Are Dead (1990)', 1244: 'Manhattan (1979)', 1245: \"Miller's Crossing (1990)\", 1246: 'Dead Poets Society (1989)', 1247: 'Graduate, The (1967)', 1248: 'Touch of Evil (1958)', 1249: 'Femme Nikita, La (Nikita) (1990)', 1250: 'Bridge on the River Kwai, The (1957)', 1251: '8 1/2 (8Â½) (1963)', 1252: 'Chinatown (1974)', 1253: 'Day the Earth Stood Still, The (1951)', 1254: 'Treasure of the Sierra Madre, The (1948)', 1255: 'Bad Taste (1987)', 1256: 'Duck Soup (1933)', 1257: 'Better Off Dead... (1985)', 1258: 'Shining, The (1980)', 1259: 'Stand by Me (1986)', 1260: 'M (1931)', 1261: 'Evil Dead II (Dead by Dawn) (1987)', 1262: 'Great Escape, The (1963)', 1263: 'Deer Hunter, The (1978)', 1264: 'Diva (1981)', 1265: 'Groundhog Day (1993)', 1266: 'Unforgiven (1992)', 1267: 'Manchurian Candidate, The (1962)', 1268: 'Pump Up the Volume (1990)', 1269: 'Arsenic and Old Lace (1944)', 1270: 'Back to the Future (1985)', 1271: 'Fried Green Tomatoes (1991)', 1272: 'Patton (1970)', 1273: 'Down by Law (1986)', 1274: 'Akira (1988)', 1275: 'Highlander (1986)', 1276: 'Cool Hand Luke (1967)', 1277: 'Cyrano de Bergerac (1990)', 1278: 'Young Frankenstein (1974)', 1279: 'Night on Earth (1991)', 1280: 'Raise the Red Lantern (Da hong deng long gao gao gua) (1991)', 1281: 'Great Dictator, The (1940)', 1282: 'Fantasia (1940)', 1283: 'High Noon (1952)', 1284: 'Big Sleep, The (1946)', 1285: 'Heathers (1989)', 1286: 'Somewhere in Time (1980)', 1287: 'Ben-Hur (1959)', 1288: 'This Is Spinal Tap (1984)', 1289: 'Koyaanisqatsi (a.k.a. Koyaanisqatsi: Life Out of Balance) (1983)', 1290: 'Some Kind of Wonderful (1987)', 1291: 'Indiana Jones and the Last Crusade (1989)', 1292: 'Being There (1979)', 1293: 'Gandhi (1982)', 1295: 'Unbearable Lightness of Being, The (1988)', 1296: 'Room with a View, A (1986)', 1297: 'Real Genius (1985)', 1298: 'Pink Floyd: The Wall (1982)', 1299: 'Killing Fields, The (1984)', 1300: 'My Life as a Dog (Mitt liv som hund) (1985)', 1301: 'Forbidden Planet (1956)', 1302: 'Field of Dreams (1989)', 1303: 'Man Who Would Be King, The (1975)', 1304: 'Butch Cassidy and the Sundance Kid (1969)', 1305: 'Paris, Texas (1984)', 1306: 'Until the End of the World (Bis ans Ende der Welt) (1991)', 1307: 'When Harry Met Sally... (1989)', 1310: 'Hype! (1996)', 1312: 'Female Perversions (1996)', 1318: 'Blue Juice (1995)', 1320: 'AlienÂ³ (a.k.a. Alien 3) (1992)', 1321: 'American Werewolf in London, An (1981)', 1322: \"Amityville 1992: It's About Time (1992)\", 1323: 'Amityville 3-D (1983)', 1324: 'Amityville: Dollhouse (1996)', 1325: 'Amityville: A New Generation (1993)', 1326: 'Amityville II: The Possession (1982)', 1327: 'Amityville Horror, The (1979)', 1328: 'Amityville Curse, The (1990)', 1329: \"Blood for Dracula (Andy Warhol's Dracula) (1974)\", 1330: \"April Fool's Day (1986)\", 1331: 'Audrey Rose (1977)', 1332: 'Believers, The (1987)', 1333: 'Birds, The (1963)', 1334: 'Blob, The (1958)', 1335: 'Blood Beach (1981)', 1336: 'Body Parts (1991)', 1337: 'Body Snatcher, The (1945)', 1339: \"Dracula (Bram Stoker's Dracula) (1992)\", 1340: 'Bride of Frankenstein, The (Bride of Frankenstein) (1935)', 1341: 'Burnt Offerings (1976)', 1342: 'Candyman (1992)', 1343: 'Cape Fear (1991)', 1344: 'Cape Fear (1962)', 1345: 'Carrie (1976)', 1346: 'Cat People (1982)', 1347: 'Nightmare on Elm Street, A (1984)', 1348: 'Nosferatu (Nosferatu, eine Symphonie des Grauens) (1922)', 1349: 'Vampire in Venice (Nosferatu a Venezia) (Nosferatu in Venice) (1986)', 1350: 'Omen, The (1976)', 1351: 'Blood and Wine (Blood & Wine) (1996)', 1352: 'Albino Alligator (1996)', 1353: 'Mirror Has Two Faces, The (1996)', 1354: 'Breaking the Waves (1996)', 1355: 'Nightwatch (1997)', 1356: 'Star Trek: First Contact (1996)', 1357: 'Shine (1996)', 1358: 'Sling Blade (1996)', 1359: 'Jingle All the Way (1996)', 1361: 'Paradise Lost: The Child Murders at Robin Hood Hills (1996)', 1363: \"Preacher's Wife, The (1996)\", 1365: 'Ridicule (1996)', 1366: 'Crucible, The (1996)', 1367: '101 Dalmatians (1996)', 1370: 'Die Hard 2 (1990)', 1371: 'Star Trek: The Motion Picture (1979)', 1372: 'Star Trek VI: The Undiscovered Country (1991)', 1373: 'Star Trek V: The Final Frontier (1989)', 1374: 'Star Trek II: The Wrath of Khan (1982)', 1375: 'Star Trek III: The Search for Spock (1984)', 1376: 'Star Trek IV: The Voyage Home (1986)', 1377: 'Batman Returns (1992)', 1378: 'Young Guns (1988)', 1379: 'Young Guns II (1990)', 1380: 'Grease (1978)', 1381: 'Grease 2 (1982)', 1382: 'Marked for Death (1990)', 1385: 'Under Siege (1992)', 1387: 'Jaws (1975)', 1388: 'Jaws 2 (1978)', 1389: 'Jaws 3-D (1983)', 1390: 'My Fellow Americans (1996)', 1391: 'Mars Attacks! (1996)', 1392: 'Citizen Ruth (1996)', 1393: 'Jerry Maguire (1996)', 1394: 'Raising Arizona (1987)', 1395: 'Tin Men (1987)', 1396: 'Sneakers (1992)', 1397: 'Bastard Out of Carolina (1996)', 1398: 'In Love and War (1996)', 1399: \"Marvin's Room (1996)\", 1401: 'Ghosts of Mississippi (1996)', 1405: 'Beavis and Butt-Head Do America (1996)', 1406: 'La CÃ©rÃ©monie (1995)', 1407: 'Scream (1996)', 1408: 'Last of the Mohicans, The (1992)', 1409: 'Michael (1996)', 1411: 'Hamlet (1996)', 1412: \"Some Mother's Son (1996)\", 1413: 'Whole Wide World, The (1996)', 1414: 'Mother (1996)', 1415: 'Thieves (Voleurs, Les) (1996)', 1416: 'Evita (1996)', 1417: 'Portrait of a Lady, The (1996)', 1419: 'Walkabout (1971)', 1422: 'Murder at 1600 (1997)', 1423: 'Hearts and Minds (1996)', 1425: 'Fierce Creatures (1997)', 1426: 'Zeus and Roxanne (1997)', 1427: 'Turbulence (1997)', 1428: 'Angel Baby (1995)', 1429: 'First Strike (Police Story 4: First Strike) (Ging chaat goo si 4: Ji gaan daan yam mo) (1996)', 1430: 'Underworld (1996)', 1431: 'Beverly Hills Ninja (1997)', 1432: 'Metro (1997)', 1437: 'Cement Garden, The (1993)', 1438: \"Dante's Peak (1997)\", 1439: 'Meet Wally Sparks (1997)', 1440: 'Amos & Andrew (1993)', 1441: 'Benny & Joon (1993)', 1442: 'Prefontaine (1997)', 1445: \"McHale's Navy (1997)\", 1446: 'Kolya (Kolja) (1996)', 1447: \"Gridlock'd (1997)\", 1449: 'Waiting for Guffman (1996)', 1453: 'Beautician and the Beast, The (1997)', 1454: 'SubUrbia (1997)', 1456: 'Pest, The (1997)', 1457: 'Fools Rush In (1997)', 1458: 'Touch (1997)', 1459: 'Absolute Power (1997)', 1460: 'That Darn Cat (1997)', 1461: \"Vegas Vacation (National Lampoon's Las Vegas Vacation) (1997)\", 1464: 'Lost Highway (1997)', 1465: 'Rosewood (1997)', 1466: 'Donnie Brasco (1997)', 1468: 'Booty Call (1997)', 1473: 'Best Men (1997)', 1474: 'Jungle2Jungle (a.k.a. Jungle 2 Jungle) (1997)', 1475: 'Kama Sutra: A Tale of Love (1996)', 1476: 'Private Parts (1997)', 1477: 'Love Jones (1997)', 1479: 'Saint, The (1997)', 1480: \"Smilla's Sense of Snow (1997)\", 1483: 'Crash (1996)', 1484: 'Daytrippers, The (1996)', 1485: 'Liar Liar (1997)', 1487: 'Selena (1997)', 1488: \"Devil's Own, The (1997)\", 1489: \"Cats Don't Dance (1997)\", 1490: 'B*A*P*S (1997)', 1493: 'Love and Other Catastrophes (1996)', 1495: 'Turbo: A Power Rangers Movie (1997)', 1496: 'Anna Karenina (1997)', 1497: 'Double Team (1997)', 1498: 'Inventing the Abbotts (1997)', 1499: 'Anaconda (1997)', 1500: 'Grosse Pointe Blank (1997)', 1502: 'Kissed (1996)', 1503: '8 Heads in a Duffel Bag (1997)', 1507: 'Paradise Road (1997)', 1513: \"Romy and Michele's High School Reunion (1997)\", 1514: 'Temptress Moon (Feng Yue) (1996)', 1515: 'Volcano (1997)', 1516: 'Children of the Revolution (1996)', 1517: 'Austin Powers: International Man of Mystery (1997)', 1518: 'Breakdown (1997)', 1519: 'Broken English (1996)', 1526: \"Fathers' Day (1997)\", 1527: 'Fifth Element, The (1997)', 1529: 'Nowhere (1997)', 1533: 'Promise, The (La promesse) (1996)', 1537: 'Shall We Dance? (Shall We Dansu?) (1996)', 1541: 'Addicted to Love (1997)', 1542: 'Brassed Off (1996)', 1544: 'Lost World: Jurassic Park, The (1997)', 1545: 'Ponette (1996)', 1546: 'Schizopolis (1996)', 1547: 'Shiloh (1997)', 1549: 'Rough Magic (1995)', 1550: 'Trial and Error (1997)', 1551: 'Buddy (1997)', 1552: 'Con Air (1997)', 1554: 'Pillow Book, The (1996)', 1556: 'Speed 2: Cruise Control (1997)', 1562: 'Batman & Robin (1997)', 1564: \"For Roseanna (Roseanna's Grave) (1997)\", 1565: 'Head Above Water (1996)', 1566: 'Hercules (1997)', 1569: \"My Best Friend's Wedding (1997)\", 1571: \"When the Cat's Away (Chacun cherche son chat) (1996)\", 1572: 'Contempt (MÃ©pris, Le) (1963)', 1573: 'Face/Off (1997)', 1574: 'Fall (1997)', 1580: 'Men in Black (a.k.a. MIB) (1997)', 1581: 'Out to Sea (1997)', 1582: 'Wild America (1997)', 1583: 'Simple Wish, A (1997)', 1584: 'Contact (1997)', 1585: 'Love Serenade (1996)', 1586: 'G.I. Jane (1997)', 1587: 'Conan the Barbarian (1982)', 1588: 'George of the Jungle (1997)', 1589: 'Cop Land (1997)', 1590: 'Event Horizon (1997)', 1591: 'Spawn (1997)', 1592: 'Air Bud (1997)', 1593: 'Picture Perfect (1997)', 1594: 'In the Company of Men (1997)', 1596: 'Career Girls (1997)', 1597: 'Conspiracy Theory (1997)', 1598: 'Desperate Measures (1998)', 1599: 'Steel (1997)', 1600: \"She's So Lovely (1997)\", 1601: 'Hoodlum (1997)', 1602: 'Leave It to Beaver (1997)', 1603: 'Mimic (1997)', 1604: 'Money Talks (1997)', 1605: 'Excess Baggage (1997)', 1606: 'Kull the Conqueror (1997)', 1608: 'Air Force One (1997)', 1609: '187 (One Eight Seven) (1997)', 1610: 'Hunt for Red October, The (1990)', 1611: 'My Own Private Idaho (1991)', 1612: 'Kiss Me, Guido (1997)', 1613: 'Star Maps (1997)', 1614: 'In & Out (1997)', 1615: 'Edge, The (1997)', 1616: 'Peacemaker, The (1997)', 1617: 'L.A. Confidential (1997)', 1619: 'Seven Years in Tibet (1997)', 1620: 'Kiss the Girls (1997)', 1621: 'Soul Food (1997)', 1623: 'Wishmaster (1997)', 1624: 'Thousand Acres, A (1997)', 1625: 'Game, The (1997)', 1626: 'Fire Down Below (1997)', 1627: 'U Turn (1997)', 1629: 'MatchMaker, The (1997)', 1631: 'Assignment, The (1997)', 1633: \"Ulee's Gold (1997)\", 1635: 'Ice Storm, The (1997)', 1639: 'Chasing Amy (1997)', 1641: 'Full Monty, The (1997)', 1642: 'Indian Summer (a.k.a. Alive & Kicking) (1996)', 1643: 'Mrs. Brown (a.k.a. Her Majesty, Mrs. Brown) (1997)', 1644: 'I Know What You Did Last Summer (1997)', 1645: \"The Devil's Advocate (1997)\", 1646: 'RocketMan (a.k.a. Rocket Man) (1997)', 1647: 'Playing God (1997)', 1648: 'House of Yes, The (1997)', 1649: 'Fast, Cheap & Out of Control (1997)', 1650: 'Washington Square (1997)', 1652: 'Year of the Horse (1997)', 1653: 'Gattaca (1997)', 1654: 'FairyTale: A True Story (1997)', 1655: 'Phantoms (1998)', 1656: 'Swept from the Sea (1997)', 1658: 'Life Less Ordinary, A (1997)', 1659: 'Hurricane Streets (1997)', 1660: \"Eve's Bayou (1997)\", 1661: 'Switchback (1997)', 1662: 'Gang Related (1997)', 1663: 'Stripes (1981)', 1665: 'Bean (1997)', 1667: 'Mad City (1997)', 1670: 'Welcome to Sarajevo (1997)', 1671: 'Deceiver (1997)', 1672: 'Rainmaker, The (1997)', 1673: 'Boogie Nights (1997)', 1674: 'Witness (1985)', 1675: 'Incognito (1997)', 1676: 'Starship Troopers (1997)', 1677: 'Critical Care (1997)', 1678: 'Joy Luck Club, The (1993)', 1679: 'Chairman of the Board (1998)', 1680: 'Sliding Doors (1998)', 1681: 'Mortal Kombat: Annihilation (1997)', 1682: 'Truman Show, The (1998)', 1683: 'Wings of the Dove, The (1997)', 1684: 'Mrs. Dalloway (1997)', 1685: 'I Love You, I Love You Not (1996)', 1686: 'Red Corner (1997)', 1687: 'Jackal, The (1997)', 1688: 'Anastasia (1997)', 1689: 'Man Who Knew Too Little, The (1997)', 1690: 'Alien: Resurrection (1997)', 1693: 'Amistad (1997)', 1694: 'Apostle, The (1997)', 1695: 'Artemisia (1997)', 1696: 'Bent (1997)', 1699: 'Butcher Boy, The (1997)', 1701: 'Deconstructing Harry (1997)', 1702: 'Flubber (1997)', 1703: 'For Richer or Poorer (1997)', 1704: 'Good Will Hunting (1997)', 1707: 'Home Alone 3 (1997)', 1711: 'Midnight in the Garden of Good and Evil (1997)', 1713: 'Mouse Hunt (1997)', 1717: 'Scream 2 (1997)', 1718: 'Stranger in the House (1997)', 1719: 'Sweet Hereafter, The (1997)', 1721: 'Titanic (1997)', 1722: 'Tomorrow Never Dies (1997)', 1726: 'Postman, The (1997)', 1727: 'Horse Whisperer, The (1998)', 1729: 'Jackie Brown (1997)', 1730: 'Kundun (1997)', 1731: 'Mr. Magoo (1997)', 1732: 'Big Lebowski, The (1998)', 1733: 'Afterglow (1997)', 1734: 'My Life in Pink (Ma vie en rose) (1997)', 1735: 'Great Expectations (1998)', 1739: '3 Ninjas: High Noon On Mega Mountain (1998)', 1746: 'Senseless (1998)', 1747: 'Wag the Dog (1997)', 1748: 'Dark City (1998)', 1752: 'Hard Rain (1998)', 1753: 'Half Baked (1998)', 1754: 'Fallen (1998)', 1755: 'Shooting Fish (1997)', 1757: 'Fallen Angels (Duo luo tian shi) (1995)', 1759: 'Four Days in September (O Que Ã\\x89 Isso, Companheiro?) (1997)', 1760: 'Spice World (1997)', 1762: 'Deep Rising (1998)', 1767: 'Music From Another Room (1998)', 1769: 'Replacement Killers, The (1998)', 1770: 'B. Monkey (1998)', 1771: 'Night Flier (1997)', 1772: 'Blues Brothers 2000 (1998)', 1777: 'Wedding Singer, The (1998)', 1779: 'Sphere (1998)', 1783: 'Palmetto (1998)', 1784: 'As Good as It Gets (1997)', 1785: 'King of New York (1990)', 1791: 'Twilight (1998)', 1792: 'U.S. Marshals (1998)', 1793: 'Welcome to Woop-Woop (1997)', 1794: 'Love and Death on Long Island (1997)', 1797: 'Everest (1998)', 1798: 'Hush (1998)', 1799: 'Suicide Kings (1997)', 1801: 'Man in the Iron Mask, The (1998)', 1804: 'Newton Boys, The (1998)', 1805: 'Wild Things (1998)', 1806: 'Paulie (1998)', 1807: 'Cool, Dry Place, A (1998)', 1809: 'Fireworks (Hana-bi) (1997)', 1810: 'Primary Colors (1998)', 1812: 'Wide Awake (1998)', 1816: 'Two Girls and a Guy (1997)', 1821: 'Object of My Affection, The (1998)', 1824: 'Homegrown (1998)', 1825: 'The Players Club (1998)', 1826: \"Barney's Great Adventure (1998)\", 1827: 'Big One, The (1997)', 1829: 'Chinese Box (1997)', 1831: 'Lost in Space (1998)', 1833: 'Mercury Rising (1998)', 1834: 'Spanish Prisoner, The (1997)', 1835: 'City of Angels (1998)', 1836: 'Last Days of Disco, The (1998)', 1837: 'Odd Couple II, The (1998)', 1839: 'My Giant (1998)', 1840: 'He Got Game (1998)', 1841: 'Gingerbread Man, The (1998)', 1844: 'Live Flesh (Carne trÃ©mula) (1997)', 1845: 'Zero Effect (1998)', 1848: 'Borrowers, The (1997)', 1855: \"Krippendorf's Tribe (1998)\", 1856: 'Kurt & Courtney (1998)', 1857: 'Real Blonde, The (1997)', 1858: 'Mr. Nice Guy (Yat goh ho yan) (1997)', 1859: \"Taste of Cherry (Ta'm e guilass) (1997)\", 1860: 'Character (Karakter) (1997)', 1862: 'Species II (1998)', 1863: 'Major League: Back to the Minors (1998)', 1866: 'Big Hit, The (1998)', 1867: 'Tarzan and the Lost City (1998)', 1870: 'Dancer, Texas Pop. 81 (1998)', 1873: 'MisÃ©rables, Les (1998)', 1875: 'Clockwatchers (1997)', 1876: 'Deep Impact (1998)', 1881: 'Quest for Camelot (1998)', 1882: 'Godzilla (1998)', 1883: 'Bulworth (1998)', 1884: 'Fear and Loathing in Las Vegas (1998)', 1885: 'Opposite of Sex, The (1998)', 1887: 'Almost Heroes (1998)', 1888: 'Hope Floats (1998)', 1889: 'Insomnia (1997)', 1891: 'Ugly, The (1997)', 1892: 'Perfect Murder, A (1998)', 1893: 'Beyond Silence (Jenseits der Stille) (1996)', 1894: 'Six Days Seven Nights (1998)', 1895: \"Can't Hardly Wait (1998)\", 1897: 'High Art (1998)', 1900: 'Children of Heaven, The (Bacheha-Ye Aseman) (1997)', 1902: 'Dream for an Insomniac (1996)', 1904: 'Henry Fool (1997)', 1906: 'Mr. Jealousy (1997)', 1907: 'Mulan (1998)', 1909: 'X-Files: Fight the Future, The (1998)', 1910: 'I Went Down (1997)', 1911: 'Dr. Dolittle (1998)', 1912: 'Out of Sight (1998)', 1913: 'Picnic at Hanging Rock (1975)', 1914: 'Smoke Signals (1998)', 1916: \"Buffalo '66 (a.k.a. Buffalo 66) (1998)\", 1917: 'Armageddon (1998)', 1918: 'Lethal Weapon 4 (1998)', 1919: 'Madeline (1998)', 1920: 'Small Soldiers (1998)', 1921: 'Pi (1998)', 1922: 'Whatever (1998)', 1923: \"There's Something About Mary (1998)\", 1924: 'Plan 9 from Outer Space (1959)', 1926: 'Broadway Melody, The (1929)', 1927: 'All Quiet on the Western Front (1930)', 1928: 'Cimarron (1931)', 1929: 'Grand Hotel (1932)', 1931: 'Mutiny on the Bounty (1935)', 1932: 'Great Ziegfeld, The (1936)', 1933: 'Life of Emile Zola, The (1937)', 1934: \"You Can't Take It with You (1938)\", 1936: 'Mrs. Miniver (1942)', 1937: 'Going My Way (1944)', 1938: 'Lost Weekend, The (1945)', 1939: 'Best Years of Our Lives, The (1946)', 1940: \"Gentleman's Agreement (1947)\", 1941: 'Hamlet (1948)', 1942: \"All the King's Men (1949)\", 1944: 'From Here to Eternity (1953)', 1945: 'On the Waterfront (1954)', 1946: 'Marty (1955)', 1947: 'West Side Story (1961)', 1948: 'Tom Jones (1963)', 1949: 'Man for All Seasons, A (1966)', 1950: 'In the Heat of the Night (1967)', 1951: 'Oliver! (1968)', 1952: 'Midnight Cowboy (1969)', 1953: 'French Connection, The (1971)', 1954: 'Rocky (1976)', 1955: 'Kramer vs. Kramer (1979)', 1956: 'Ordinary People (1980)', 1957: 'Chariots of Fire (1981)', 1958: 'Terms of Endearment (1983)', 1959: 'Out of Africa (1985)', 1960: 'Last Emperor, The (1987)', 1961: 'Rain Man (1988)', 1962: 'Driving Miss Daisy (1989)', 1963: 'Take the Money and Run (1969)', 1964: 'Klute (1971)', 1965: 'Repo Man (1984)', 1966: 'Metropolitan (1990)', 1967: 'Labyrinth (1986)', 1968: 'Breakfast Club, The (1985)', 1969: \"Nightmare on Elm Street 2: Freddy's Revenge, A (1985)\", 1970: 'Nightmare on Elm Street 3: Dream Warriors, A (1987)', 1971: 'Nightmare on Elm Street 4: The Dream Master, A (1988)', 1972: 'Nightmare on Elm Street 5: The Dream Child, A (1989)', 1973: \"Freddy's Dead: The Final Nightmare (Nightmare on Elm Street Part 6: Freddy's Dead, A) (1991)\", 1974: 'Friday the 13th (1980)', 1975: 'Friday the 13th Part 2 (1981)', 1976: 'Friday the 13th Part 3: 3D (1982)', 1977: 'Friday the 13th Part IV: The Final Chapter (1984)', 1978: 'Friday the 13th Part V: A New Beginning (1985)', 1979: 'Friday the 13th Part VI: Jason Lives (1986)', 1980: 'Friday the 13th Part VII: The New Blood (1988)', 1981: 'Friday the 13th Part VIII: Jason Takes Manhattan (1989)', 1982: 'Halloween (1978)', 1983: 'Halloween II (1981)', 1984: 'Halloween III: Season of the Witch (1982)', 1985: 'Halloween 4: The Return of Michael Myers (1988)', 1986: 'Halloween 5: The Revenge of Michael Myers (1989)', 1987: 'Prom Night (1980)', 1990: 'Prom Night IV: Deliver Us From Evil (1992)', 1991: \"Child's Play (1988)\", 1992: \"Child's Play 2 (1990)\", 1993: \"Child's Play 3 (1991)\", 1994: 'Poltergeist (1982)', 1995: 'Poltergeist II: The Other Side (1986)', 1996: 'Poltergeist III (1988)', 1997: 'Exorcist, The (1973)', 1998: 'Exorcist II: The Heretic (1977)', 1999: 'Exorcist III, The (1990)', 2000: 'Lethal Weapon (1987)', 2001: 'Lethal Weapon 2 (1989)', 2002: 'Lethal Weapon 3 (1992)', 2003: 'Gremlins (1984)', 2004: 'Gremlins 2: The New Batch (1990)', 2005: 'Goonies, The (1985)', 2006: 'Mask of Zorro, The (1998)', 2007: 'Polish Wedding (1998)', 2008: 'This World, Then the Fireworks (1997)', 2009: 'Soylent Green (1973)', 2010: 'Metropolis (1927)', 2011: 'Back to the Future Part II (1989)', 2012: 'Back to the Future Part III (1990)', 2013: 'Poseidon Adventure, The (1972)', 2014: 'Freaky Friday (1977)', 2015: 'Absent-Minded Professor, The (1961)', 2016: 'Apple Dumpling Gang Rides Again, The (1979)', 2017: 'Babes in Toyland (1961)', 2018: 'Bambi (1942)', 2019: 'Seven Samurai (Shichinin no samurai) (1954)', 2020: 'Dangerous Liaisons (1988)', 2021: 'Dune (1984)', 2022: 'Last Temptation of Christ, The (1988)', 2023: 'Godfather: Part III, The (1990)', 2024: 'Rapture, The (1991)', 2025: 'Lolita (1997)', 2026: 'Disturbing Behavior (1998)', 2027: \"Jane Austen's Mafia! (1998)\", 2028: 'Saving Private Ryan (1998)', 2032: 'Barefoot Executive, The (1971)', 2033: 'Black Cauldron, The (1985)', 2034: 'Black Hole, The (1979)', 2035: \"Blackbeard's Ghost (1968)\", 2036: 'Blank Check (1994)', 2037: 'Candleshoe (1977)', 2038: 'Cat from Outer Space, The (1978)', 2040: 'Computer Wore Tennis Shoes, The (1969)', 2041: 'Condorman (1981)', 2042: 'D2: The Mighty Ducks (1994)', 2043: \"Darby O'Gill and the Little People (1959)\", 2044: 'Devil and Max Devlin, The (1981)', 2046: 'Flight of the Navigator (1986)', 2048: 'Great Mouse Detective, The (1986)', 2050: 'Herbie Goes Bananas (1980)', 2051: 'Herbie Goes to Monte Carlo (1977)', 2052: 'Hocus Pocus (1993)', 2053: 'Honey, I Blew Up the Kid (1992)', 2054: 'Honey, I Shrunk the Kids (1989)', 2055: 'Hot Lead and Cold Feet (1978)', 2056: 'In Search of the Castaways (1962)', 2057: 'Incredible Journey, The (1963)', 2058: 'Negotiator, The (1998)', 2059: 'Parent Trap, The (1998)', 2060: 'BASEketball (1998)', 2064: 'Roger & Me (1989)', 2065: 'Purple Rose of Cairo, The (1985)', 2066: 'Out of the Past (1947)', 2067: 'Doctor Zhivago (1965)', 2068: 'Fanny and Alexander (Fanny och Alexander) (1982)', 2069: 'Trip to Bountiful, The (1985)', 2070: 'Tender Mercies (1983)', 2071: 'And the Band Played On (1993)', 2072: \"'burbs, The (1989)\", 2073: 'Fandango (1985)', 2074: 'Night Porter, The (Portiere di notte, Il) (1974)', 2075: 'Mephisto (1981)', 2076: 'Blue Velvet (1986)', 2077: 'Journey of Natty Gann, The (1985)', 2078: 'Jungle Book, The (1967)', 2080: 'Lady and the Tramp (1955)', 2081: 'Little Mermaid, The (1989)', 2082: 'Mighty Ducks, The (1992)', 2083: 'Muppet Christmas Carol, The (1992)', 2084: 'Newsies (1992)', 2085: '101 Dalmatians (One Hundred and One Dalmatians) (1961)', 2087: 'Peter Pan (1953)', 2088: 'Popeye (1980)', 2089: 'Rescuers Down Under, The (1990)', 2090: 'Rescuers, The (1977)', 2091: 'Return from Witch Mountain (1978)', 2092: 'Return of Jafar, The (1994)', 2093: 'Return to Oz (1985)', 2094: 'Rocketeer, The (1991)', 2095: 'Shaggy D.A., The (1976)', 2096: 'Sleeping Beauty (1959)', 2097: 'Something Wicked This Way Comes (1983)', 2098: 'Son of Flubber (1963)', 2099: 'Song of the South (1946)', 2100: 'Splash (1984)', 2102: 'Steamboat Willie (1928)', 2103: 'Tall Tale (1995)', 2104: 'Tex (1982)', 2105: 'Tron (1982)', 2106: 'Swing Kids (1993)', 2107: 'Halloween H20: 20 Years Later (Halloween 7: The Revenge of Laurie Strode) (1998)', 2108: 'L.A. Story (1991)', 2109: 'Jerk, The (1979)', 2110: \"Dead Men Don't Wear Plaid (1982)\", 2111: 'Man with Two Brains, The (1983)', 2112: 'Grand Canyon (1991)', 2114: 'Outsiders, The (1983)', 2115: 'Indiana Jones and the Temple of Doom (1984)', 2116: 'Lord of the Rings, The (1978)', 2117: '1984 (Nineteen Eighty-Four) (1984)', 2118: 'Dead Zone, The (1983)', 2119: 'Maximum Overdrive (1986)', 2120: 'Needful Things (1993)', 2121: 'Cujo (1983)', 2122: 'Children of the Corn (1984)', 2123: 'All Dogs Go to Heaven (1989)', 2124: 'Addams Family, The (1991)', 2125: 'Ever After: A Cinderella Story (1998)', 2126: 'Snake Eyes (1998)', 2130: 'Atlantic City (1980)', 2131: 'Autumn Sonata (HÃ¶stsonaten) (1978)', 2132: \"Who's Afraid of Virginia Woolf? (1966)\", 2133: 'Adventures in Babysitting (1987)', 2134: 'Weird Science (1985)', 2135: 'Doctor Dolittle (1967)', 2136: 'Nutty Professor, The (1963)', 2137: \"Charlotte's Web (1973)\", 2138: 'Watership Down (1978)', 2139: 'Secret of NIMH, The (1982)', 2140: 'Dark Crystal, The (1982)', 2141: 'American Tail, An (1986)', 2142: 'American Tail: Fievel Goes West, An (1991)', 2143: 'Legend (1985)', 2144: 'Sixteen Candles (1984)', 2145: 'Pretty in Pink (1986)', 2146: \"St. Elmo's Fire (1985)\", 2147: 'Clan of the Cave Bear, The (1986)', 2148: 'House (1986)', 2149: 'House II: The Second Story (1987)', 2150: 'Gods Must Be Crazy, The (1980)', 2151: 'Gods Must Be Crazy II, The (1989)', 2152: 'Air Bud: Golden Receiver (1998)', 2153: 'Avengers, The (1998)', 2154: 'How Stella Got Her Groove Back (1998)', 2155: 'Slums of Beverly Hills, The (1998)', 2156: 'Best Man, The (Testimone dello sposo, Il) (1998)', 2159: 'Henry: Portrait of a Serial Killer (1986)', 2160: \"Rosemary's Baby (1968)\", 2161: 'NeverEnding Story, The (1984)', 2162: 'NeverEnding Story II: The Next Chapter, The (1990)', 2163: 'Attack of the Killer Tomatoes! (1978)', 2164: 'Surf Nazis Must Die (1987)', 2165: 'Your Friends and Neighbors (1998)', 2166: 'Return to Paradise (1998)', 2167: 'Blade (1998)', 2169: 'Dead Man on Campus (1998)', 2170: 'Wrongfully Accused (1998)', 2171: 'Next Stop Wonderland (1998)', 2172: 'Strike! (a.k.a. All I Wanna Do, The Hairy Bird) (1998)', 2174: 'Beetlejuice (1988)', 2175: 'DÃ©jÃ\\xa0 Vu (1997)', 2176: 'Rope (1948)', 2177: 'Family Plot (1976)', 2178: 'Frenzy (1972)', 2179: 'Topaz (1969)', 2180: 'Torn Curtain (1966)', 2181: 'Marnie (1964)', 2182: 'Wrong Man, The (1956)', 2183: 'Man Who Knew Too Much, The (1956)', 2184: 'Trouble with Harry, The (1955)', 2185: 'I Confess (1953)', 2186: 'Strangers on a Train (1951)', 2187: 'Stage Fright (1950)', 2188: '54 (1998)', 2190: 'Why Do Fools Fall In Love? (1998)', 2193: 'Willow (1988)', 2194: 'Untouchables, The (1987)', 2195: 'Dirty Work (1998)', 2196: 'Knock Off (1998)', 2201: 'Paradine Case, The (1947)', 2202: 'Lifeboat (1944)', 2203: 'Shadow of a Doubt (1943)', 2204: 'Saboteur (1942)', 2205: 'Mr. & Mrs. Smith (1941)', 2206: 'Suspicion (1941)', 2207: 'Jamaica Inn (1939)', 2208: 'Lady Vanishes, The (1938)', 2210: 'Sabotage (1936)', 2211: 'Secret Agent (1936)', 2212: 'Man Who Knew Too Much, The (1934)', 2226: 'Ring, The (1927)', 2227: 'Lodger: A Story of the London Fog, The (1927)', 2231: 'Rounders (1998)', 2232: 'Cube (1997)', 2236: 'Simon Birch (1998)', 2239: \"Swept Away (Travolti da un insolito destino nell'azzurro mare d'Agosto) (1975)\", 2240: 'My Bodyguard (1980)', 2241: 'Class (1983)', 2243: 'Broadcast News (1987)', 2244: 'Allnighter, The (1987)', 2245: 'Working Girl (1988)', 2247: 'Married to the Mob (1988)', 2248: 'Say Anything... (1989)', 2249: 'My Blue Heaven (1990)', 2252: 'Hero (1992)', 2253: 'Toys (1992)', 2255: 'Young Doctors in Love (1982)', 2256: 'Parasite (1982)', 2257: 'No Small Affair (1984)', 2259: 'Blame It on Rio (1984)', 2260: 'Wisdom (1986)', 2261: 'One Crazy Summer (1986)', 2262: 'About Last Night... (1986)', 2263: 'Seventh Sign, The (1988)', 2264: \"We're No Angels (1989)\", 2265: 'Nothing But Trouble (1991)', 2266: \"Butcher's Wife, The (1991)\", 2267: 'Mortal Thoughts (1991)', 2268: 'Few Good Men, A (1992)', 2269: 'Indecent Proposal (1993)', 2271: 'Permanent Midnight (1998)', 2272: 'One True Thing (1998)', 2273: 'Rush Hour (1998)', 2275: 'Six-String Samurai (1998)', 2278: 'Ronin (1998)', 2279: 'Urban Legend (1998)', 2280: 'Clay Pigeons (1998)', 2281: 'Monument Ave. (1998)', 2282: 'Pecker (1998)', 2283: 'Sheltering Sky, The (1990)', 2286: 'Fiendish Plot of Dr. Fu Manchu, The (1980)', 2287: 'Them! (1954)', 2288: 'Thing, The (1982)', 2289: 'Player, The (1992)', 2290: 'Stardust Memories (1980)', 2291: 'Edward Scissorhands (1990)', 2292: 'Overnight Delivery (1998)', 2294: 'Antz (1998)', 2295: 'Impostors, The (1998)', 2296: 'Night at the Roxbury, A (1998)', 2297: 'What Dreams May Come (1998)', 2298: 'Strangeland (1998)', 2300: 'Producers, The (1968)', 2301: 'History of the World: Part I (1981)', 2302: 'My Cousin Vinny (1992)', 2303: 'Nashville (1975)', 2304: 'Love Is the Devil (1998)', 2306: 'Holy Man (1998)', 2307: 'One Tough Cop (1998)', 2310: 'Mighty, The (1998)', 2311: '2010: The Year We Make Contact (1984)', 2312: 'Children of a Lesser God (1986)', 2313: 'Elephant Man, The (1980)', 2314: 'Beloved (1998)', 2315: \"Bride of Chucky (Child's Play 4) (1998)\", 2316: 'Practical Magic (1998)', 2318: 'Happiness (1998)', 2320: 'Apt Pupil (1998)', 2321: 'Pleasantville (1998)', 2322: 'Soldier (1998)', 2323: 'Cruise, The (1998)', 2324: 'Life Is Beautiful (La Vita Ã¨ bella) (1997)', 2325: 'Orgazmo (1997)', 2327: 'Tales from the Darkside: The Movie (1990)', 2328: 'Vampires (1998)', 2329: 'American History X (1998)', 2330: 'Hands on a Hard Body (1996)', 2331: 'Living Out Loud (1998)', 2332: 'Belly (1998)', 2333: 'Gods and Monsters (1998)', 2334: 'Siege, The (1998)', 2335: 'Waterboy, The (1998)', 2336: 'Elizabeth (1998)', 2337: 'Velvet Goldmine (1998)', 2338: 'I Still Know What You Did Last Summer (1998)', 2339: \"I'll Be Home For Christmas (1998)\", 2340: 'Meet Joe Black (1998)', 2342: 'Hard Core Logo (1996)', 2344: 'Runaway Train (1985)', 2346: 'Stepford Wives, The (1975)', 2347: 'Pope of Greenwich Village, The (1984)', 2348: 'Sid and Nancy (1986)', 2349: 'Mona Lisa (1986)', 2350: 'Heart Condition (1990)', 2351: 'Nights of Cabiria (Notti di Cabiria, Le) (1957)', 2352: 'Big Chill, The (1983)', 2353: 'Enemy of the State (1998)', 2354: 'Rugrats Movie, The (1998)', 2355: \"Bug's Life, A (1998)\", 2356: 'Celebrity (1998)', 2357: 'Central Station (Central do Brasil) (1998)', 2358: 'Savior (1998)', 2359: 'Waking Ned Devine (a.k.a. Waking Ned) (1998)', 2360: 'Celebration, The (Festen) (1998)', 2361: 'Pink Flamingos (1972)', 2362: 'Glen or Glenda (1953)', 2363: 'Godzilla (Gojira) (1954)', 2364: 'Godzilla 1985: The Legend Is Reborn (Gojira) (Godzilla) (Return of Godzilla, The) (1984)', 2365: 'King Kong vs. Godzilla (Kingukongu tai Gojira) (1962)', 2366: 'King Kong (1933)', 2367: 'King Kong (1976)', 2368: 'King Kong Lives (1986)', 2369: 'Desperately Seeking Susan (1985)', 2370: 'Emerald Forest, The (1985)', 2371: 'Fletch (1985)', 2372: 'Fletch Lives (1989)', 2373: 'Red Sonja (1985)', 2374: 'Gung Ho (1986)', 2375: 'Money Pit, The (1986)', 2376: 'View to a Kill, A (1985)', 2377: 'Lifeforce (1985)', 2378: 'Police Academy (1984)', 2379: 'Police Academy 2: Their First Assignment (1985)', 2380: 'Police Academy 3: Back in Training (1986)', 2381: 'Police Academy 4: Citizens on Patrol (1987)', 2382: 'Police Academy 5: Assignment: Miami Beach (1988)', 2383: 'Police Academy 6: City Under Siege (1989)', 2384: 'Babe: Pig in the City (1998)', 2385: 'Home Fries (1998)', 2387: 'Very Bad Things (1998)', 2388: 'Steam: The Turkish Bath (Hamam) (1997)', 2389: 'Psycho (1998)', 2390: 'Little Voice (1998)', 2391: 'Simple Plan, A (1998)', 2392: 'Jack Frost (1998)', 2393: 'Star Trek: Insurrection (1998)', 2394: 'Prince of Egypt, The (1998)', 2395: 'Rushmore (1998)', 2396: 'Shakespeare in Love (1998)', 2398: 'Miracle on 34th Street (1947)', 2399: 'Santa Claus: The Movie (1985)', 2400: 'Prancer (1989)', 2401: 'Pale Rider (1985)', 2402: 'Rambo: First Blood Part II (1985)', 2403: 'First Blood (Rambo: First Blood) (1982)', 2404: 'Rambo III (1988)', 2405: 'Jewel of the Nile, The (1985)', 2406: 'Romancing the Stone (1984)', 2407: 'Cocoon (1985)', 2408: 'Cocoon: The Return (1988)', 2409: 'Rocky II (1979)', 2410: 'Rocky III (1982)', 2411: 'Rocky IV (1985)', 2412: 'Rocky V (1990)', 2413: 'Clue (1985)', 2414: 'Young Sherlock Holmes (1985)', 2415: 'Violets Are Blue... (1986)', 2416: 'Back to School (1986)', 2417: 'Heartburn (1986)', 2418: 'Nothing in Common (1986)', 2419: 'Extremities (1986)', 2420: 'Karate Kid, The (1984)', 2421: 'Karate Kid, Part II, The (1986)', 2422: 'Karate Kid, Part III, The (1989)', 2423: \"Christmas Vacation (National Lampoon's Christmas Vacation) (1989)\", 2424: \"You've Got Mail (1998)\", 2425: 'General, The (1998)', 2427: 'Thin Red Line, The (1998)', 2428: 'Faculty, The (1998)', 2429: 'Mighty Joe Young (1998)', 2430: 'Mighty Joe Young (1949)', 2431: 'Patch Adams (1998)', 2432: 'Stepmom (1998)', 2433: 'Civil Action, A (1998)', 2435: 'Hurlyburly (1998)', 2436: 'Tea with Mussolini (1999)', 2439: 'Affliction (1997)', 2442: 'Hilary and Jackie (1998)', 2443: 'Playing by Heart (1998)', 2445: 'At First Sight (1999)', 2446: 'In Dreams (1999)', 2447: 'Varsity Blues (1999)', 2448: 'Virus (1999)', 2450: 'Howard the Duck (1986)', 2451: 'Gate, The (1987)', 2453: 'Boy Who Could Fly, The (1986)', 2454: 'Fly, The (1958)', 2455: 'Fly, The (1986)', 2456: 'Fly II, The (1989)', 2457: 'Running Scared (1986)', 2458: 'Armed and Dangerous (1986)', 2459: 'Texas Chainsaw Massacre, The (1974)', 2460: 'Texas Chainsaw Massacre 2, The (1986)', 2462: 'Texas Chainsaw Massacre: The Next Generation (a.k.a. The Return of the Texas Chainsaw Massacre) (1994)', 2463: 'Ruthless People (1986)', 2465: 'Deadly Friend (1986)', 2467: 'Name of the Rose, The (Name der Rose, Der) (1986)', 2468: \"Jumpin' Jack Flash (1986)\", 2469: 'Peggy Sue Got Married (1986)', 2470: 'Crocodile Dundee (1986)', 2471: 'Crocodile Dundee II (1988)', 2472: 'Tough Guys (1986)', 2473: 'Soul Man (1986)', 2474: 'Color of Money, The (1986)', 2475: '52 Pick-Up (1986)', 2476: 'Heartbreak Ridge (1986)', 2477: 'Firewalker (1986)', 2478: 'Â¡Three Amigos! (1986)', 2481: 'My Name Is Joe (1998)', 2482: 'Still Crazy (1998)', 2483: 'Day of the Beast, The (DÃ\\xada de la Bestia, El) (1995)', 2485: \"She's All That (1999)\", 2488: 'Peeping Tom (1960)', 2490: 'Payback (1999)', 2491: 'Simply Irresistible (1999)', 2492: '20 Dates (1998)', 2493: 'Harmonists, The (1997)', 2494: 'Last Days, The (1998)', 2495: 'Fantastic Planet, The (PlanÃ¨te sauvage, La) (1973)', 2496: 'Blast from the Past (1999)', 2497: 'Message in a Bottle (1999)', 2498: 'My Favorite Martian (1999)', 2500: 'Jawbreaker (1999)', 2501: 'October Sky (1999)', 2502: 'Office Space (1999)', 2503: 'Apple, The (Sib) (1998)', 2504: '200 Cigarettes (1999)', 2505: '8MM (1999)', 2506: 'Other Sister, The (1999)', 2511: 'Long Goodbye, The (1973)', 2512: 'Ballad of Narayama, The (Narayama bushiko) (1983)', 2513: 'Pet Sematary (1989)', 2514: 'Pet Sematary II (1992)', 2515: 'Children of the Corn II: The Final Sacrifice (1993)', 2516: 'Children of the Corn III (1994)', 2517: 'Christine (1983)', 2518: 'Night Shift (1982)', 2520: 'Airport (1970)', 2521: 'Airport 1975 (1974)', 2522: \"Airport '77 (1977)\", 2523: 'Rollercoaster (1977)', 2524: 'Towering Inferno, The (1974)', 2525: 'Alligator (1980)', 2526: 'Meteor (1979)', 2527: 'Westworld (1973)', 2528: \"Logan's Run (1976)\", 2529: 'Planet of the Apes (1968)', 2530: 'Beneath the Planet of the Apes (1970)', 2531: 'Battle for the Planet of the Apes (1973)', 2532: 'Conquest of the Planet of the Apes (1972)', 2533: 'Escape from the Planet of the Apes (1971)', 2534: 'Avalanche (1978)', 2535: 'Earthquake (1974)', 2537: 'Beyond the Poseidon Adventure (1979)', 2538: 'Dancemaker (1998)', 2539: 'Analyze This (1999)', 2540: 'Corruptor, The (1999)', 2541: 'Cruel Intentions (1999)', 2542: 'Lock, Stock & Two Smoking Barrels (1998)', 2544: \"School of Flesh, The (Ã\\x89cole de la chair, L') (1998)\", 2546: 'Deep End of the Ocean, The (1999)', 2548: 'Rage: Carrie 2, The (1999)', 2549: 'Wing Commander (1999)', 2550: 'Haunting, The (1963)', 2551: 'Dead Ringers (1988)', 2552: \"My Boyfriend's Back (1993)\", 2553: 'Village of the Damned (1960)', 2554: 'Children of the Damned (1963)', 2555: 'Baby Geniuses (1999)', 2557: 'I Stand Alone (Seul contre tous) (1998)', 2558: 'Forces of Nature (1999)', 2559: 'King and I, The (1999)', 2560: 'Ravenous (1999)', 2561: 'True Crime (1999)', 2563: 'Dangerous Beauty (1998)', 2565: 'King and I, The (1956)', 2566: \"Doug's 1st Movie (1999)\", 2567: 'EDtv (1999)', 2568: 'Mod Squad, The (1999)', 2570: 'Walk on the Moon, A (1999)', 2571: 'Matrix, The (1999)', 2572: '10 Things I Hate About You (1999)', 2573: 'Tango (1998)', 2574: 'Out-of-Towners, The (1999)', 2575: 'Dreamlife of Angels, The (Vie rÃªvÃ©e des anges, La) (1998)', 2577: 'Metroland (1997)', 2579: 'Following (1998)', 2580: 'Go (1999)', 2581: 'Never Been Kissed (1999)', 2582: 'Twin Dragons (Shuang long hui) (1992)', 2583: \"Cookie's Fortune (1999)\", 2585: 'Lovers of the Arctic Circle, The (Los Amantes del CÃ\\xadrculo Polar) (1998)', 2586: 'Goodbye Lover (1999)', 2587: 'Life (1999)', 2589: 'Friends & Lovers (1999)', 2590: 'Hideous Kinky (1998)', 2593: 'Monster, The (Mostro, Il) (1994)', 2594: 'Open Your Eyes (Abre los ojos) (1997)', 2596: 'SLC Punk! (1998)', 2597: 'Lost & Found (1999)', 2598: 'Pushing Tin (1999)', 2599: 'Election (1999)', 2600: 'eXistenZ (1999)', 2605: 'Entrapment (1999)', 2606: 'Idle Hands (1999)', 2607: 'Get Real (1998)', 2609: 'King of Masks, The (Bian Lian) (1996)', 2611: 'Winslow Boy, The (1999)', 2612: 'Mildred Pierce (1945)', 2613: 'Night of the Comet (1984)', 2614: 'Chopping Mall (a.k.a. Killbots) (1986)', 2615: 'My Science Project (1985)', 2616: 'Dick Tracy (1990)', 2617: 'Mummy, The (1999)', 2618: 'Castle, The (1997)', 2620: 'This Is My Father (1998)', 2622: \"William Shakespeare's A Midsummer Night's Dream (1999)\", 2623: \"Trippin' (1999)\", 2624: 'After Life (Wandafuru raifu) (1998)', 2625: 'Black Mask (Hak hap) (1996)', 2628: 'Star Wars: Episode I - The Phantom Menace (1999)', 2629: 'Love Letter, The (1999)', 2630: \"Besieged (a.k.a. L' Assedio) (1998)\", 2632: 'Saragossa Manuscript, The (Rekopis znaleziony w Saragossie) (1965)', 2633: 'Mummy, The (1932)', 2634: 'Mummy, The (1959)', 2639: 'Mommie Dearest (1981)', 2640: 'Superman (1978)', 2641: 'Superman II (1980)', 2642: 'Superman III (1983)', 2643: 'Superman IV: The Quest for Peace (1987)', 2644: 'Dracula (1931)', 2648: 'Frankenstein (1931)', 2651: 'Frankenstein Meets the Wolf Man (1943)', 2652: 'Curse of Frankenstein, The (1957)', 2654: 'Wolf Man, The (1941)', 2655: 'Howling II: Your Sister Is a Werewolf (1985)', 2656: 'Tarantula (1955)', 2657: 'Rocky Horror Picture Show, The (1975)', 2659: 'It Came from Hollywood (1982)', 2660: 'Thing from Another World, The (1951)', 2661: 'It Came from Outer Space (1953)', 2662: 'War of the Worlds, The (1953)', 2664: 'Invasion of the Body Snatchers (1956)', 2665: 'Earth vs. the Flying Saucers (1956)', 2668: 'Swamp Thing (1982)', 2669: 'Pork Chop Hill (1959)', 2670: 'Run Silent Run Deep (1958)', 2671: 'Notting Hill (1999)', 2672: 'Thirteenth Floor, The (1999)', 2674: 'Loss of Sexual Innocence, The (1999)', 2676: 'Instinct (1999)', 2677: 'Buena Vista Social Club (1999)', 2681: 'Free Enterprise (1998)', 2682: 'Limbo (1999)', 2683: 'Austin Powers: The Spy Who Shagged Me (1999)', 2686: 'Red Violin, The (Violon rouge, Le) (1998)', 2687: 'Tarzan (1999)', 2688: \"General's Daughter, The (1999)\", 2690: 'Ideal Husband, An (1999)', 2691: \"Legend of 1900, The (a.k.a. The Legend of the Pianist on the Ocean) (Leggenda del pianista sull'oceano) (1998)\", 2692: 'Run Lola Run (Lola rennt) (1998)', 2693: 'Trekkies (1997)', 2694: 'Big Daddy (1999)', 2695: 'Boys, The (1998)', 2696: 'Dinner Game, The (DÃ®ner de cons, Le) (1998)', 2697: 'My Son the Fanatic (1997)', 2698: 'Zone 39 (1997)', 2699: 'Arachnophobia (1990)', 2700: 'South Park: Bigger, Longer and Uncut (1999)', 2701: 'Wild Wild West (1999)', 2702: 'Summer of Sam (1999)', 2706: 'American Pie (1999)', 2707: 'Arlington Road (1999)', 2708: \"Autumn Tale, An (Conte d'automne) (1998)\", 2709: 'Muppets From Space (1999)', 2710: 'Blair Witch Project, The (1999)', 2712: 'Eyes Wide Shut (1999)', 2713: 'Lake Placid (1999)', 2716: 'Ghostbusters (a.k.a. Ghost Busters) (1984)', 2717: 'Ghostbusters II (1989)', 2718: 'Drop Dead Gorgeous (1999)', 2719: 'Haunting, The (1999)', 2720: 'Inspector Gadget (1999)', 2722: 'Deep Blue Sea (1999)', 2723: 'Mystery Men (1999)', 2724: 'Runaway Bride (1999)', 2725: 'Twin Falls Idaho (1999)', 2726: 'Killing, The (1956)', 2727: \"Killer's Kiss (1955)\", 2728: 'Spartacus (1960)', 2729: 'Lolita (1962)', 2730: 'Barry Lyndon (1975)', 2731: '400 Blows, The (Les quatre cents coups) (1959)', 2732: 'Jules and Jim (Jules et Jim) (1961)', 2733: 'Vibes (1988)', 2734: 'Mosquito Coast, The (1986)', 2735: 'Golden Child, The (1986)', 2736: 'Brighton Beach Memoirs (1986)', 2737: 'Assassination (1987)', 2738: 'Crimes of the Heart (1986)', 2739: 'Color Purple, The (1985)', 2740: 'Kindred, The (1986)', 2741: 'No Mercy (1986)', 2742: 'MÃ©nage (Tenue de soirÃ©e) (1986)', 2743: 'Native Son (1986)', 2744: 'Otello (1986)', 2745: 'Mission, The (1986)', 2746: 'Little Shop of Horrors (1986)', 2747: 'Little Shop of Horrors, The (1960)', 2748: 'Allan Quatermain and the Lost City of Gold (1987)', 2749: 'Morning After, The (1986)', 2750: 'Radio Days (1987)', 2751: 'From the Hip (1987)', 2752: 'Outrageous Fortune (1987)', 2754: 'Deadtime Stories (1987)', 2757: 'Frances (1982)', 2759: 'Dick (1999)', 2761: 'Iron Giant, The (1999)', 2762: 'Sixth Sense, The (1999)', 2763: 'Thomas Crown Affair, The (1999)', 2764: 'Thomas Crown Affair, The (1968)', 2765: 'Acid House, The (1998)', 2766: 'Adventures of Sebastian Cole, The (1998)', 2769: 'Yards, The (2000)', 2770: 'Bowfinger (1999)', 2771: 'Brokedown Palace (1999)', 2772: 'Detroit Rock City (1999)', 2774: 'Better Than Chocolate (1999)', 2775: 'Head On (1998)', 2779: 'Heaven Can Wait (1978)', 2782: 'Pit and the Pendulum (1961)', 2784: 'Masque of the Red Death, The (1964)', 2786: 'Haunted Honeymoon (1986)', 2787: \"Cat's Eye (1985)\", 2788: \"Monty Python's And Now for Something Completely Different (1971)\", 2789: 'Damien: Omen II (1978)', 2790: 'Final Conflict, The (a.k.a. Omen III: The Final Conflict) (1981)', 2791: 'Airplane! (1980)', 2792: 'Airplane II: The Sequel (1982)', 2793: 'American Werewolf in Paris, An (1997)', 2794: \"European Vacation (aka National Lampoon's European Vacation) (1985)\", 2795: \"National Lampoon's Vacation (1983)\", 2796: 'Funny Farm (1988)', 2797: 'Big (1988)', 2798: 'Problem Child (1990)', 2799: 'Problem Child 2 (1991)', 2800: 'Little Nemo: Adventures in Slumberland (1992)', 2801: 'Oscar and Lucinda (a.k.a. Oscar & Lucinda) (1997)', 2802: 'Tequila Sunrise (1988)', 2803: 'Pelican Brief, The (1993)', 2804: 'Christmas Story, A (1983)', 2805: 'Mickey Blue Eyes (1999)', 2806: 'Teaching Mrs. Tingle (1999)', 2807: 'Universal Soldier: The Return (1999)', 2808: 'Universal Soldier (1992)', 2810: 'Perfect Blue (1997)', 2812: 'In Too Deep (1999)', 2813: 'Source, The (1999)', 2815: 'Iron Eagle (1986)', 2816: 'Iron Eagle II (1988)', 2817: 'Aces: Iron Eagle III (1992)', 2818: 'Iron Eagle IV (1995)', 2819: 'Three Days of the Condor (3 Days of the Condor) (1975)', 2820: 'Hamlet (1964)', 2822: 'Medicine Man (1992)', 2824: 'On the Ropes (1999)', 2826: '13th Warrior, The (1999)', 2827: \"Astronaut's Wife, The (1999)\", 2828: 'Dudley Do-Right (1999)', 2829: 'Muse, The (1999)', 2835: 'Chill Factor (1999)', 2836: 'Outside Providence (1999)', 2837: 'Bedrooms & Hallways (1998)', 2839: 'West Beirut (West Beyrouth) (1998)', 2840: 'Stigmata (1999)', 2841: 'Stir of Echoes (1999)', 2843: 'Black Cat, White Cat (Crna macka, beli macor) (1998)', 2844: 'Minus Man, The (1999)', 2846: 'Adventures of Milo and Otis, The (Koneko monogatari) (1986)', 2847: 'Only Angels Have Wings (1939)', 2848: 'Othello (Tragedy of Othello: The Moor of Venice, The) (1952)', 2851: 'Saturn 3 (1980)', 2852: \"Soldier's Story, A (1984)\", 2856: 'I Saw What You Did (1965)', 2857: 'Yellow Submarine (1968)', 2858: 'American Beauty (1999)', 2859: 'Stop Making Sense (1984)', 2860: 'Blue Streak (1999)', 2861: 'For Love of the Game (1999)', 2862: 'Caligula (1979)', 2863: \"Hard Day's Night, A (1964)\", 2865: 'Sugar Town (1999)', 2866: 'Buddy Holly Story, The (1978)', 2867: 'Fright Night (1985)', 2868: 'Fright Night Part II (1988)', 2870: 'Barefoot in the Park (1967)', 2871: 'Deliverance (1972)', 2872: 'Excalibur (1981)', 2874: 'Pajama Game, The (1957)', 2875: 'Sommersby (1993)', 2876: 'Thumbelina (1994)', 2877: 'Tommy (1975)', 2878: 'Hell Night (1981)', 2879: 'Armour of God II: Operation Condor (Operation Condor) (Fei ying gai wak) (1991)', 2880: 'Armour of God (Long xiong hu di) (1987)', 2881: 'Double Jeopardy (1999)', 2882: 'Jakob the Liar (1999)', 2883: 'Mumford (1999)', 2884: 'Dog Park (1998)', 2885: 'Guinevere (1999)', 2886: 'Adventures of Elmo in Grouchland, The (1999)', 2887: 'Simon Sez (1999)', 2888: 'Drive Me Crazy (1999)', 2889: 'Mystery, Alaska (1999)', 2890: 'Three Kings (1999)', 2891: 'Happy, Texas (1999)', 2892: 'New Rose Hotel (1998)', 2893: 'Plunkett & MaCleane (1999)', 2894: 'Romance (1999)', 2896: 'Alvarez Kelly (1966)', 2897: 'And the Ship Sails On (E la nave va) (1983)', 2898: 'Dark Half, The (1993)', 2899: \"Gulliver's Travels (1939)\", 2900: 'Monkey Shines (1988)', 2901: 'Phantasm (1979)', 2902: 'Psycho II (1983)', 2903: 'Psycho III (1986)', 2905: 'Sanjuro (Tsubaki SanjÃ»rÃ´) (1962)', 2906: 'Random Hearts (1999)', 2907: 'Superstar (1999)', 2908: \"Boys Don't Cry (1999)\", 2912: 'Limey, The (1999)', 2915: 'Risky Business (1983)', 2916: 'Total Recall (1990)', 2917: 'Body Heat (1981)', 2918: \"Ferris Bueller's Day Off (1986)\", 2919: 'Year of Living Dangerously, The (1982)', 2921: 'High Plains Drifter (1973)', 2922: \"Hang 'Em High (1968)\", 2924: 'Drunken Master (Jui kuen) (1978)', 2925: 'Conformist, The (Conformista, Il) (1970)', 2926: 'Hairspray (1988)', 2927: 'Brief Encounter (1946)', 2928: \"Razor's Edge, The (1984)\", 2929: 'Reds (1981)', 2930: 'Return with Honor (1998)', 2931: 'Time of the Gypsies (Dom za vesanje) (1989)', 2932: 'Days of Heaven (1978)', 2935: 'Lady Eve, The (1941)', 2936: \"Sullivan's Travels (1941)\", 2937: 'Palm Beach Story, The (1942)', 2939: 'Niagara (1953)', 2940: 'Gilda (1946)', 2941: 'South Pacific (1958)', 2942: 'Flashdance (1983)', 2943: 'Indochine (1992)', 2944: 'Dirty Dozen, The (1967)', 2946: 'Help! (1965)', 2947: 'Goldfinger (1964)', 2948: 'From Russia with Love (1963)', 2949: 'Dr. No (1962)', 2950: 'Blue Lagoon, The (1980)', 2951: 'Fistful of Dollars, A (Per un pugno di dollari) (1964)', 2952: 'Sydney (Hard Eight) (1996)', 2953: 'Home Alone 2: Lost in New York (1992)', 2956: 'Someone to Watch Over Me (1987)', 2959: 'Fight Club (1999)', 2961: 'Story of Us, The (1999)', 2962: 'Fever Pitch (1997)', 2964: 'Julien Donkey-Boy (1999)', 2965: 'Omega Code, The (1999)', 2966: 'Straight Story, The (1999)', 2967: 'Bad Seed, The (1956)', 2968: 'Time Bandits (1981)', 2969: 'Man and a Woman, A (Un homme et une femme) (1966)', 2970: 'Fitzcarraldo (1982)', 2971: 'All That Jazz (1979)', 2972: 'Red Sorghum (Hong gao liang) (1987)', 2973: 'Crimes and Misdemeanors (1989)', 2974: 'Bats (1999)', 2975: 'Best Man, The (1999)', 2976: 'Bringing Out the Dead (1999)', 2977: 'Crazy in Alabama (1999)', 2978: 'Three to Tango (1999)', 2979: 'Body Shots (1999)', 2982: 'Guardian, The (1990)', 2983: 'Ipcress File, The (1965)', 2984: 'On Any Sunday (1971)', 2985: 'RoboCop (1987)', 2986: 'RoboCop 2 (1990)', 2987: 'Who Framed Roger Rabbit? (1988)', 2988: 'Melvin and Howard (1980)', 2989: 'For Your Eyes Only (1981)', 2990: 'Licence to Kill (1989)', 2991: 'Live and Let Die (1973)', 2992: 'Rawhead Rex (1986)', 2993: 'Thunderball (1965)', 2995: 'House on Haunted Hill (1999)', 2996: 'Music of the Heart (1999)', 2997: 'Being John Malkovich (1999)', 3000: 'Princess Mononoke (Mononoke-hime) (1997)', 3002: 'My Best Fiend (Mein liebster Feind) (1999)', 3003: 'Train of Life (Train de vie) (1998)', 3004: 'Bachelor, The (1999)', 3005: 'Bone Collector, The (1999)', 3006: 'Insider, The (1999)', 3007: 'American Movie (1999)', 3008: 'Last Night (1998)', 3010: 'Rosetta (1999)', 3011: \"They Shoot Horses, Don't They? (1969)\", 3013: 'Bride of Re-Animator (1990)', 3014: \"Bustin' Loose (1981)\", 3015: 'Coma (1978)', 3016: 'Creepshow (1982)', 3017: 'Creepshow 2 (1987)', 3018: 'Re-Animator (1985)', 3019: 'Drugstore Cowboy (1989)', 3020: 'Falling Down (1993)', 3021: 'Funhouse, The (1981)', 3022: 'General, The (1926)', 3024: 'Piranha (1978)', 3028: 'Taming of the Shrew, The (1967)', 3029: 'Nighthawks (1981)', 3030: 'Yojimbo (1961)', 3031: 'Repossessed (1990)', 3032: 'Omega Man, The (1971)', 3033: 'Spaceballs (1987)', 3034: 'Robin Hood (1973)', 3035: 'Mister Roberts (1955)', 3036: 'Quest for Fire (Guerre du feu, La) (1981)', 3037: 'Little Big Man (1970)', 3038: 'Face in the Crowd, A (1957)', 3039: 'Trading Places (1983)', 3040: 'Meatballs (1979)', 3041: 'Meatballs Part II (1984)', 3042: 'Meatballs III (1987)', 3043: 'Meatballs 4 (1992)', 3044: 'Dead Again (1991)', 3045: \"Peter's Friends (1992)\", 3046: 'Incredibly True Adventure of Two Girls in Love, The (1995)', 3048: 'Under the Rainbow (1981)', 3051: 'Anywhere But Here (1999)', 3052: 'Dogma (1999)', 3053: 'Messenger: The Story of Joan of Arc, The (1999)', 3054: 'PokÃ©mon: The First Movie (1998)', 3055: \"Felicia's Journey (1999)\", 3056: 'Oxygen (1999)', 3057: \"Where's Marlowe? (1998)\", 3060: 'Commitments, The (1991)', 3061: 'Holiday Inn (1942)', 3062: 'Longest Day, The (1962)', 3063: 'Poison Ivy (1992)', 3064: 'Poison Ivy: New Seduction (1997)', 3066: 'Tora! Tora! Tora! (1970)', 3067: 'Women on the Verge of a Nervous Breakdown (Mujeres al borde de un ataque de nervios) (1988)', 3068: 'Verdict, The (1982)', 3070: 'Adventures of Buckaroo Banzai Across the 8th Dimension, The (1984)', 3071: 'Stand and Deliver (1988)', 3072: 'Moonstruck (1987)', 3073: 'Sandpiper, The (1965)', 3074: 'Jeremiah Johnson (1972)', 3075: 'Repulsion (1965)', 3076: 'Irma la Douce (1963)', 3077: '42 Up (1998)', 3078: 'Liberty Heights (1999)', 3079: 'Mansfield Park (1999)', 3081: 'Sleepy Hollow (1999)', 3082: 'World Is Not Enough, The (1999)', 3083: 'All About My Mother (Todo sobre mi madre) (1999)', 3086: 'Babes in Toyland (1934)', 3087: 'Scrooged (1988)', 3088: 'Harvey (1950)', 3089: 'Bicycle Thieves (a.k.a. The Bicycle Thief) (a.k.a. The Bicycle Thieves) (Ladri di biciclette) (1948)', 3090: 'Matewan (1987)', 3091: 'Kagemusha (1980)', 3093: 'McCabe & Mrs. Miller (1971)', 3094: 'Maurice (1987)', 3095: 'Grapes of Wrath, The (1940)', 3096: 'My Man Godfrey (1957)', 3097: 'Shop Around the Corner, The (1940)', 3098: 'Natural, The (1984)', 3099: 'Shampoo (1975)', 3100: 'River Runs Through It, A (1992)', 3101: 'Fatal Attraction (1987)', 3102: 'Jagged Edge (1985)', 3103: 'Stanley & Iris (1990)', 3104: 'Midnight Run (1988)', 3105: 'Awakenings (1990)', 3106: 'Come See the Paradise (1990)', 3107: 'Backdraft (1991)', 3108: 'Fisher King, The (1991)', 3109: 'River, The (1984)', 3111: 'Places in the Heart (1984)', 3112: \"'night Mother (1986)\", 3113: 'End of Days (1999)', 3114: 'Toy Story 2 (1999)', 3115: 'Flawless (1999)', 3117: 'Ride with the Devil (1999)', 3120: 'Distinguished Gentleman, The (1992)', 3125: 'End of the Affair, The (1999)', 3127: 'Holy Smoke (1999)', 3129: 'Sweet and Lowdown (1999)', 3130: 'Bonfire of the Vanities (1990)', 3132: 'Daddy Long Legs (1919)', 3134: 'Grand Illusion (La grande illusion) (1937)', 3135: 'Great Santini, The (1979)', 3138: 'Stealing Home (1988)', 3141: 'Two Jakes, The (1990)', 3142: 'U2: Rattle and Hum (1988)', 3143: 'Hell in the Pacific (1968)', 3145: 'Cradle Will Rock (1999)', 3146: 'Deuce Bigalow: Male Gigolo (1999)', 3147: 'Green Mile, The (1999)', 3148: 'Cider House Rules, The (1999)', 3150: 'War Zone, The (1999)', 3152: 'Last Picture Show, The (1971)', 3153: '7th Voyage of Sinbad, The (1958)', 3155: 'Anna and the King (1999)', 3156: 'Bicentennial Man (1999)', 3157: 'Stuart Little (1999)', 3158: 'Emperor and the Assassin, The (Jing ke ci qin wang) (1999)', 3159: 'Fantasia 2000 (1999)', 3160: 'Magnolia (1999)', 3161: 'Onegin (1999)', 3162: 'Simpatico (1999)', 3163: 'Topsy-Turvy (1999)', 3165: 'Boiling Point (1993)', 3167: 'Carnal Knowledge (1971)', 3168: 'Easy Rider (1969)', 3169: 'The Falcon and the Snowman (1985)', 3171: 'Room at the Top (1959)', 3173: 'Any Given Sunday (1999)', 3174: 'Man on the Moon (1999)', 3175: 'Galaxy Quest (1999)', 3176: 'Talented Mr. Ripley, The (1999)', 3177: 'Next Friday (2000)', 3178: 'Hurricane, The (1999)', 3179: \"Angela's Ashes (1999)\", 3181: 'Titus (1999)', 3182: 'Mr. Death: The Rise and Fall of Fred A. Leuchter, Jr. (1999)', 3183: 'Third Miracle, The (1999)', 3185: 'Snow Falling on Cedars (1999)', 3186: 'Girl, Interrupted (1999)', 3189: 'My Dog Skip (1999)', 3190: 'Supernova (2000)', 3192: 'Terrorist, The (a.k.a. Malli) (Theeviravaathi) (1998)', 3194: 'Way We Were, The (1973)', 3196: 'Stalag 17 (1953)', 3197: 'Presidio, The (1988)', 3198: 'Papillon (1973)', 3200: 'Last Detail, The (1973)', 3201: 'Five Easy Pieces (1970)', 3203: 'Dead Calm (1989)', 3204: 'Boys from Brazil, The (1978)', 3206: 'Against All Odds (1984)', 3208: \"Loaded Weapon 1 (National Lampoon's Loaded Weapon 1) (1993)\", 3210: 'Fast Times at Ridgemont High (1982)', 3211: 'Cry in the Dark, A (1988)', 3213: 'Batman: Mask of the Phantasm (1993)', 3214: 'American Flyers (1985)', 3217: 'Star Is Born, A (1937)', 3219: 'Pacific Heights (1990)', 3221: \"Draughtsman's Contract, The (1982)\", 3223: 'Zed & Two Noughts, A (1985)', 3224: 'Woman in the Dunes (Suna no onna) (1964)', 3225: 'Down to You (2000)', 3230: 'Odessa File, The (1974)', 3235: 'Where the Buffalo Roam (1980)', 3238: 'Eye of the Beholder (1999)', 3240: 'Big Tease, The (1999)', 3241: 'Cup, The (PhÃ¶rpa) (1999)', 3243: 'Encino Man (1992)', 3244: 'Goodbye Girl, The (1977)', 3246: 'Malcolm X (1992)', 3247: 'Sister Act (1992)', 3248: 'Sister Act 2: Back in the Habit (1993)', 3249: 'Hand That Rocks the Cradle, The (1992)', 3250: 'Alive (1993)', 3251: 'Agnes of God (1985)', 3252: 'Scent of a Woman (1992)', 3253: \"Wayne's World (1992)\", 3254: \"Wayne's World 2 (1993)\", 3255: 'League of Their Own, A (1992)', 3256: 'Patriot Games (1992)', 3257: 'Bodyguard, The (1992)', 3258: 'Death Becomes Her (1992)', 3259: 'Far and Away (1992)', 3260: 'Howards End (1992)', 3261: 'Singles (1992)', 3262: 'Twin Peaks: Fire Walk with Me (1992)', 3263: \"White Men Can't Jump (1992)\", 3264: 'Buffy the Vampire Slayer (1992)', 3265: 'Hard-Boiled (Lat sau san taam) (1992)', 3266: \"Man Bites Dog (C'est arrivÃ© prÃ¨s de chez vous) (1992)\", 3267: 'Mariachi, El (1992)', 3268: 'Stop! Or My Mom Will Shoot (1992)', 3269: 'Forever Young (1992)', 3270: 'Cutting Edge, The (1992)', 3271: 'Of Mice and Men (1992)', 3272: 'Bad Lieutenant (1992)', 3273: 'Scream 3 (2000)', 3274: 'Single White Female (1992)', 3275: 'Boondock Saints, The (2000)', 3276: 'Gun Shy (2000)', 3280: 'Baby, The (1973)', 3281: 'Brandon Teena Story, The (1998)', 3283: 'Minnie and Moskowitz (1971)', 3284: 'They Might Be Giants (1971)', 3285: 'Beach, The (2000)', 3286: 'Snow Day (2000)', 3287: 'Tigger Movie, The (2000)', 3289: 'Not One Less (Yi ge dou bu neng shao) (1999)', 3294: 'Eaten Alive (1977)', 3295: 'Raining Stones (1993)', 3296: 'To Sir with Love (1967)', 3298: 'Boiler Room (2000)', 3299: 'Hanging Up (2000)', 3300: 'Pitch Black (2000)', 3301: 'Whole Nine Yards, The (2000)', 3302: 'Beautiful People (1999)', 3303: 'Black Tar Heroin: The Dark End of the Street (2000)', 3306: 'Circus, The (1928)', 3307: 'City Lights (1931)', 3308: 'Flamingo Kid, The (1984)', 3310: 'Kid, The (1921)', 3313: 'Class Reunion (1982)', 3315: 'Happy Go Lovely (1951)', 3316: 'Reindeer Games (2000)', 3317: 'Wonder Boys (2000)', 3323: 'Chain of Fools (2000)', 3324: 'Drowning Mona (2000)', 3325: 'Next Best Thing, The (2000)', 3326: 'What Planet Are You From? (2000)', 3327: 'Beyond the Mat (1999)', 3328: 'Ghost Dog: The Way of the Samurai (1999)', 3329: 'The Year My Voice Broke (1987)', 3330: 'Splendor in the Grass (1961)', 3331: 'My Tutor (1983)', 3334: 'Key Largo (1948)', 3338: 'For All Mankind (1989)', 3341: 'Born Yesterday (1950)', 3342: 'Birdy (1984)', 3344: 'Blood Feast (1963)', 3345: 'Charlie, the Lonesome Cougar (1967)', 3347: 'Never Cry Wolf (1983)', 3350: 'Raisin in the Sun, A (1961)', 3353: 'Closer You Get, The (2000)', 3354: 'Mission to Mars (2000)', 3355: 'Ninth Gate, The (1999)', 3357: 'East-West (Est-ouest) (1999)', 3358: 'Defending Your Life (1991)', 3359: 'Breaking Away (1979)', 3360: 'Hoosiers (a.k.a. Best Shot) (1986)', 3361: 'Bull Durham (1988)', 3362: 'Dog Day Afternoon (1975)', 3363: 'American Graffiti (1973)', 3364: 'Asphalt Jungle, The (1950)', 3365: 'Searchers, The (1956)', 3368: 'Big Country, The (1958)', 3370: 'Betrayed (1988)', 3372: 'Bridge at Remagen, The (1969)', 3374: 'Daughters of the Dust (1991)', 3378: 'Ogre, The (Unhold, Der) (1996)', 3379: 'On the Beach (1959)', 3384: 'Taking of Pelham One Two Three, The (1974)', 3385: 'Volunteers (1985)', 3386: 'JFK (1991)', 3387: \"Who's Harry Crumb? (1989)\", 3388: 'Harry and the Hendersons (1987)', 3389: \"Let's Get Harry (1986)\", 3390: 'Shanghai Surprise (1986)', 3391: \"Who's That Girl? (1987)\", 3392: 'She-Devil (1989)', 3393: 'Date with an Angel (1987)', 3394: 'Blind Date (1987)', 3395: 'Nadine (1987)', 3396: 'Muppet Movie, The (1979)', 3397: 'Great Muppet Caper, The (1981)', 3398: 'Muppets Take Manhattan, The (1984)', 3400: \"We're Back! A Dinosaur's Story (1993)\", 3401: 'Baby... Secret of the Lost Legend (1985)', 3402: 'Turtle Diary (1985)', 3403: 'Raise the Titanic (1980)', 3404: 'Titanic (1953)', 3405: 'Night to Remember, A (1958)', 3406: 'Captain Horatio Hornblower R.N. (1951)', 3408: 'Erin Brockovich (2000)', 3409: 'Final Destination (2000)', 3410: 'Soft Fruit (1999)', 3412: \"Bear, The (Ours, L') (1988)\", 3414: 'Love Is a Many-Splendored Thing (1955)', 3415: 'Mirror, The (Zerkalo) (1975)', 3417: 'Crimson Pirate, The (1952)', 3418: 'Thelma & Louise (1991)', 3420: '...And Justice for All (1979)', 3421: 'Animal House (1978)', 3422: \"She's Gotta Have It (1986)\", 3423: 'School Daze (1988)', 3424: 'Do the Right Thing (1989)', 3425: \"Mo' Better Blues (1990)\", 3426: 'Jungle Fever (1991)', 3428: 'Champ, The (1979)', 3429: 'Creature Comforts (1989)', 3430: 'Death Wish (1974)', 3431: 'Death Wish 2 (1982)', 3432: 'Death Wish 3 (1985)', 3433: 'Death Wish 4: The Crackdown (1987)', 3434: 'Death Wish 5: The Face of Death (1994)', 3435: 'Double Indemnity (1944)', 3436: 'Dying Young (1991)', 3438: 'Teenage Mutant Ninja Turtles (1990)', 3439: 'Teenage Mutant Ninja Turtles II: The Secret of the Ooze (1991)', 3440: 'Teenage Mutant Ninja Turtles III (1993)', 3441: 'Red Dawn (1984)', 3442: 'Band of the Hand (1986)', 3444: 'Bloodsport (1988)', 3445: 'Eyes of Laura Mars (1978)', 3446: 'Funny Bones (1995)', 3447: 'Good Earth, The (1937)', 3448: 'Good Morning, Vietnam (1987)', 3449: 'Good Mother, The (1988)', 3450: 'Grumpy Old Men (1993)', 3451: \"Guess Who's Coming to Dinner (1967)\", 3452: 'Romeo Must Die (2000)', 3453: 'Here on Earth (2000)', 3454: 'Whatever It Takes (2000)', 3455: 'Buddy Boy (1999)', 3456: 'Color of Paradise, The (Rang-e khoda) (1999)', 3459: 'Gothic (1986)', 3461: 'Lord of the Flies (1963)', 3462: 'Modern Times (1936)', 3466: 'Heart and Souls (1993)', 3467: 'Hud (1963)', 3468: 'Hustler, The (1961)', 3469: 'Inherit the Wind (1960)', 3470: 'Dersu Uzala (1975)', 3471: 'Close Encounters of the Third Kind (1977)', 3473: \"Jonah Who Will Be 25 in the Year 2000 (Jonas qui aura 25 ans en l'an 2000) (1976)\", 3474: 'Retroactive (1997)', 3475: 'Place in the Sun, A (1951)', 3476: \"Jacob's Ladder (1990)\", 3477: 'Empire Records (1995)', 3478: 'Bamba, La (1987)', 3479: 'Ladyhawke (1985)', 3480: 'Lucas (1986)', 3481: 'High Fidelity (2000)', 3483: 'Road to El Dorado, The (2000)', 3484: 'Skulls, The (2000)', 3489: 'Hook (1991)', 3492: 'Son of the Sheik, The (1926)', 3494: 'True Grit (1969)', 3496: 'Madame Sousatzka (1988)', 3497: 'Max Dugan Returns (1983)', 3498: 'Midnight Express (1978)', 3499: 'Misery (1990)', 3500: 'Mr. Saturday Night (1992)', 3501: \"Murphy's Romance (1985)\", 3502: 'My Life (1993)', 3503: 'Solaris (Solyaris) (1972)', 3504: 'Network (1976)', 3505: 'No Way Out (1987)', 3506: 'North Dallas Forty (1979)', 3507: 'Odd Couple, The (1968)', 3508: 'Outlaw Josey Wales, The (1976)', 3510: 'Frequency (2000)', 3511: 'Ready to Rumble (2000)', 3512: 'Return to Me (2000)', 3513: 'Rules of Engagement (2000)', 3514: \"Joe Gould's Secret (2000)\", 3515: 'Me Myself I (2000)', 3516: 'Bell, Book and Candle (1958)', 3519: 'Force 10 from Navarone (1978)', 3521: 'Mystery Train (1989)', 3524: 'Arthur (1981)', 3525: 'Bachelor Party (1984)', 3526: 'Parenthood (1989)', 3527: 'Predator (1987)', 3528: 'Prince of Tides, The (1991)', 3529: 'Postman Always Rings Twice, The (1981)', 3531: 'All the Vermeers in New York (1990)', 3534: '28 Days (2000)', 3535: 'American Psycho (2000)', 3536: 'Keeping the Faith (2000)', 3537: 'Where the Money Is (2000)', 3538: 'East is East (1999)', 3539: 'Filth and the Fury, The (2000)', 3543: 'Diner (1982)', 3544: 'Shakes the Clown (1992)', 3545: 'Cabaret (1972)', 3546: 'What Ever Happened to Baby Jane? (1962)', 3548: 'Auntie Mame (1958)', 3549: 'Guys and Dolls (1955)', 3550: 'The Hunger (1983)', 3551: 'Marathon Man (1976)', 3552: 'Caddyshack (1980)', 3553: 'Gossip (2000)', 3554: 'Love and Basketball (2000)', 3555: 'U-571 (2000)', 3556: 'Virgin Suicides, The (1999)', 3557: 'Jennifer 8 (1992)', 3559: 'Limelight (1952)', 3563: 'Crow: Salvation, The (2000)', 3564: 'Flintstones in Viva Rock Vegas, The (2000)', 3565: 'Where the Heart Is (2000)', 3566: 'Big Kahuna, The (2000)', 3567: 'Bossa Nova (2000)', 3568: 'Smiling Fish and Goat on Fire (1999)', 3569: 'Idiots, The (Idioterne) (1998)', 3571: 'Time Code (2000)', 3572: 'Carnosaur (1993)', 3573: 'Carnosaur 2 (1995)', 3574: 'Carnosaur 3: Primal Species (1996)', 3576: 'Hidden, The (1987)', 3577: 'Two Moon Junction (1988)', 3578: 'Gladiator (2000)', 3580: 'Up at the Villa (2000)', 3581: 'Human Traffic (1999)', 3584: 'Breathless (1983)', 3586: 'The Idolmaker (1980)', 3587: 'Inferno (1980)', 3590: 'Lords of Flatbush, The (1974)', 3591: 'Mr. Mom (1983)', 3592: 'Time Masters (MaÃ®tres du temps, Les) (1982)', 3593: 'Battlefield Earth (2000)', 3594: 'Center Stage (2000)', 3596: 'Screwed (2000)', 3597: 'Whipped (2000)', 3598: 'Hamlet (2000)', 3599: 'Anchors Aweigh (1945)', 3604: 'Gypsy (1962)', 3606: 'On the Town (1949)', 3608: \"Pee-wee's Big Adventure (1985)\", 3609: 'Regret to Inform (1998)', 3614: 'Honeymoon in Vegas (1992)', 3615: 'Dinosaur (2000)', 3616: 'Loser (2000)', 3617: 'Road Trip (2000)', 3618: 'Small Time Crooks (2000)', 3619: 'Hollywood Knights, The (1980)', 3622: 'Twelve Chairs, The (1970)', 3623: 'Mission: Impossible II (2000)', 3624: 'Shanghai Noon (2000)', 3625: 'Better Living Through Circuitry (1999)', 3626: '8 Â½ Women (a.k.a. 8 1/2 Women) (a.k.a. Eight and a Half Women) (1999)', 3627: 'Carnival of Souls (1962)', 3628: 'Flying Tigers (1942)', 3629: 'Gold Rush, The (1925)', 3632: 'Monsieur Verdoux (1947)', 3633: \"On Her Majesty's Secret Service (1969)\", 3634: 'Seven Days in May (1964)', 3635: 'Spy Who Loved Me, The (1977)', 3637: 'Vagabond (Sans toit ni loi) (1985)', 3638: 'Moonraker (1979)', 3639: 'Man with the Golden Gun, The (1974)', 3640: 'King in New York, A (1957)', 3641: 'Woman of Paris, A (1923)', 3643: 'Fighting Seabees, The (1944)', 3646: \"Big Momma's House (2000)\", 3648: 'Abominable Snowman, The (Abominable Snowman of the Himalayas, The) (1957)', 3649: 'American Gigolo (1980)', 3652: 'City of the Living Dead (a.k.a. Gates of Hell, The) (Paura nella cittÃ\\xa0 dei morti viventi) (1980)', 3653: 'Endless Summer, The (1966)', 3654: 'Guns of Navarone, The (1961)', 3655: 'Blow-Out (La grande bouffe) (1973)', 3658: 'Quatermass and the Pit (1967)', 3660: 'Puppet Master (1989)', 3661: 'Puppet Master II (1991)', 3662: \"Puppet Master III: Toulon's Revenge (1991)\", 3663: 'Puppet Master 4 (1993)', 3664: 'Puppet Master 5: The Final Chapter (1994)', 3667: 'Rent-A-Cop (1988)', 3668: 'Romeo and Juliet (1968)', 3669: 'Stay Tuned (1992)', 3671: 'Blazing Saddles (1974)', 3672: 'Benji (1974)', 3673: 'Benji the Hunted (1987)', 3674: 'For the Love of Benji (1977)', 3675: 'White Christmas (1954)', 3676: 'Eraserhead (1977)', 3677: 'Baraka (1992)', 3678: 'Man with the Golden Arm, The (1955)', 3679: 'Decline of Western Civilization, The (1981)', 3680: 'Decline of Western Civilization Part II: The Metal Years, The (1988)', 3681: 'For a Few Dollars More (Per qualche dollaro in piÃ¹) (1965)', 3682: 'Magnum Force (1973)', 3683: 'Blood Simple (1984)', 3684: 'Fabulous Baker Boys, The (1989)', 3685: \"Prizzi's Honor (1985)\", 3686: 'Flatliners (1990)', 3687: 'Light Years (Gandahar) (1988)', 3688: \"Porky's (1982)\", 3689: \"Porky's II: The Next Day (1983)\", 3690: \"Porky's Revenge (1985)\", 3691: 'Private School (1983)', 3692: \"Class of Nuke 'Em High (1986)\", 3693: 'Toxic Avenger, The (1985)', 3694: 'Toxic Avenger, Part II, The (1989)', 3695: 'Toxic Avenger Part III: The Last Temptation of Toxie, The (1989)', 3696: 'Night of the Creeps (1986)', 3697: 'Predator 2 (1990)', 3698: 'Running Man, The (1987)', 3699: 'Starman (1984)', 3700: 'Brother from Another Planet, The (1984)', 3701: 'Alien Nation (1988)', 3702: 'Mad Max (1979)', 3703: 'Road Warrior, The (Mad Max 2) (1981)', 3704: 'Mad Max Beyond Thunderdome (1985)', 3705: 'Bird on a Wire (1990)', 3706: 'Angel Heart (1987)', 3707: '9 1/2 Weeks (Nine 1/2 Weeks) (1986)', 3708: 'Firestarter (1984)', 3709: 'Sleepwalkers (1992)', 3710: 'Action Jackson (1988)', 3711: 'Sarafina! (1992)', 3712: 'Soapdish (1991)', 3713: 'Long Walk Home, The (1990)', 3714: \"Clara's Heart (1988)\", 3715: 'Burglar (1987)', 3716: 'Fatal Beauty (1987)', 3717: 'Gone in 60 Seconds (2000)', 3719: \"Love's Labour's Lost (2000)\", 3720: 'Sunshine (1999)', 3723: 'Hamlet (1990)', 3724: 'Coming Home (1978)', 3725: 'American Pop (1981)', 3726: 'Assault on Precinct 13 (1976)', 3727: 'Near Dark (1987)', 3728: 'One False Move (1992)', 3729: 'Shaft (1971)', 3730: 'Conversation, The (1974)', 3731: \"Cutter's Way (1981)\", 3732: 'Fury, The (1978)', 3733: 'Paper Chase, The (1973)', 3735: 'Serpico (1973)', 3736: 'Ace in the Hole (Big Carnival, The) (1951)', 3737: 'Lonely Are the Brave (1962)', 3738: 'Sugarland Express, The (1974)', 3739: 'Trouble in Paradise (1932)', 3740: 'Big Trouble in Little China (1986)', 3741: 'Badlands (1973)', 3742: 'Battleship Potemkin (1925)', 3743: 'Boys and Girls (2000)', 3744: 'Shaft (2000)', 3745: 'Titan A.E. (2000)', 3746: 'Butterfly (La lengua de las mariposas) (1999)', 3747: \"Jesus' Son (1999)\", 3751: 'Chicken Run (2000)', 3752: 'Me, Myself & Irene (2000)', 3753: 'Patriot, The (2000)', 3754: 'Adventures of Rocky and Bullwinkle, The (2000)', 3755: 'Perfect Storm, The (2000)', 3756: 'Golden Bowl, The (2000)', 3758: 'Communion (1989)', 3760: 'Kentucky Fried Movie, The (1977)', 3761: 'Blood In, Blood Out (1993)', 3763: 'F/X (1986)', 3764: 'F/X2 (a.k.a. F/X 2 - The Deadly Art of Illusion) (1991)', 3765: 'Hot Spot, The (1990)', 3766: 'Missing in Action (1984)', 3767: 'Missing in Action 2: The Beginning (1985)', 3768: 'Braddock: Missing in Action III (1988)', 3769: 'Thunderbolt and Lightfoot (1974)', 3770: 'Dreamscape (1984)', 3771: 'The Golden Voyage of Sinbad (1973)', 3773: 'House Party (1990)', 3774: 'House Party 2 (1991)', 3783: 'Croupier (1998)', 3784: 'Kid, The (2000)', 3785: 'Scary Movie (2000)', 3786: \"But I'm a Cheerleader (1999)\", 3787: 'Shower (Xizao) (1999)', 3788: 'Blow-Up (Blowup) (1966)', 3789: 'Pawnbroker, The (1964)', 3790: 'Groove (2000)', 3791: 'Footloose (1984)', 3792: 'Duel in the Sun (1946)', 3793: 'X-Men (2000)', 3794: 'Chuck & Buck (2000)', 3795: 'Five Senses, The (1999)', 3797: 'In Crowd, The (2000)', 3798: 'What Lies Beneath (2000)', 3799: 'PokÃ©mon the Movie 2000 (2000)', 3801: 'Anatomy of a Murder (1959)', 3802: 'Freejack (1992)', 3806: \"Mackenna's Gold (1969)\", 3807: 'Sinbad and the Eye of the Tiger (1977)', 3808: 'Two Women (Ciociara, La) (1960)', 3809: 'What About Bob? (1991)', 3810: 'White Sands (1992)', 3811: 'Breaker Morant (1980)', 3812: 'Everything You Always Wanted to Know About Sex * But Were Afraid to Ask (1972)', 3813: 'Interiors (1978)', 3814: 'Love and Death (1975)', 3816: 'Official Story, The (La historia oficial) (1985)', 3819: 'Tampopo (1985)', 3821: 'Nutty Professor II: The Klumps (2000)', 3822: 'Girl on the Bridge, The (Fille sur le pont, La) (1999)', 3823: 'Wonderland (1999)', 3824: 'Autumn in New York (2000)', 3825: 'Coyote Ugly (2000)', 3826: 'Hollow Man (2000)', 3827: 'Space Cowboys (2000)', 3830: 'Psycho Beach Party (2000)', 3831: 'Saving Grace (2000)', 3832: 'Black Sabbath (Tre volti della paura, I) (1963)', 3833: \"Brain That Wouldn't Die, The (1962)\", 3834: 'Bronco Billy (1980)', 3835: 'Crush, The (1993)', 3836: \"Kelly's Heroes (1970)\", 3837: 'Phantasm II (1988)', 3838: 'Phantasm III: Lord of the Dead (1994)', 3839: 'Phantasm IV: Oblivion (1998)', 3840: 'Pumpkinhead (1988)', 3841: 'Air America (1990)', 3843: 'Sleepaway Camp (1983)', 3844: 'Steel Magnolias (1989)', 3845: 'And God Created Woman (Et Dieu... crÃ©a la femme) (1956)', 3846: 'Easy Money (1983)', 3847: 'Ilsa, She Wolf of the SS (1974)', 3849: 'The Spiral Staircase (1945)', 3851: \"I'm the One That I Want (2000)\", 3852: 'Tao of Steve, The (2000)', 3855: 'Affair of Love, An (Liaison pornographique, Une) (1999)', 3857: 'Bless the Child (2000)', 3858: 'Cecil B. DeMented (2000)', 3859: 'Eyes of Tammy Faye, The (2000)', 3861: 'Replacements, The (2000)', 3862: 'About Adam (2000)', 3863: 'Cell, The (2000)', 3864: 'Godzilla 2000 (Gojira ni-sen mireniamu) (1999)', 3865: 'Original Kings of Comedy, The (2000)', 3868: 'Naked Gun: From the Files of Police Squad!, The (1988)', 3869: 'Naked Gun 2 1/2: The Smell of Fear, The (1991)', 3870: 'Our Town (1940)', 3871: 'Shane (1953)', 3872: 'Suddenly, Last Summer (1959)', 3873: 'Cat Ballou (1965)', 3877: 'Supergirl (1984)', 3879: 'Art of War, The (2000)', 3882: 'Bring It On (2000)', 3884: 'Crew, The (2000)', 3888: 'Skipped Parts (2000)', 3889: 'Highlander: Endgame (Highlander IV) (2000)', 3893: 'Nurse Betty (2000)', 3894: 'Solas (1999)', 3895: 'Watcher, The (2000)', 3896: 'Way of the Gun, The (2000)', 3897: 'Almost Famous (2000)', 3898: 'Bait (2000)', 3899: 'Circus (2000)', 3900: 'Crime and Punishment in Suburbia (2000)', 3901: 'Duets (2000)', 3906: 'Under Suspicion (2000)', 3908: 'Urban Legends: Final Cut (2000)', 3909: 'Woman on Top (2000)', 3910: 'Dancer in the Dark (2000)', 3911: 'Best in Show (2000)', 3912: 'Beautiful (2000)', 3914: 'Broken Hearts Club, The (2000)', 3915: 'Girlfight (2000)', 3916: 'Remember the Titans (2000)', 3917: 'Hellraiser (1987)', 3918: 'Hellbound: Hellraiser II (1988)', 3919: 'Hellraiser III: Hell on Earth (1992)', 3920: 'Faraway, So Close (In weiter Ferne, so nah!) (1993)', 3922: 'Bikini Beach (1964)', 3925: 'Stranger Than Paradise (1984)', 3926: 'Voyage to the Bottom of the Sea (1961)', 3927: 'Fantastic Voyage (1966)', 3928: 'Abbott and Costello Meet Frankenstein (1948)', 3929: 'Bank Dick, The (1940)', 3930: 'Creature from the Black Lagoon, The (1954)', 3932: 'Invisible Man, The (1933)', 3933: 'Killer Shrews, The (1959)', 3937: 'Runaway (1984)', 3938: 'Slumber Party Massacre, The (1982)', 3939: 'Slumber Party Massacre II (1987)', 3940: 'Slumber Party Massacre III (1990)', 3941: 'Sorority House Massacre (1986)', 3942: 'Sorority House Massacre II (1990)', 3943: 'Bamboozled (2000)', 3945: 'Digimon: The Movie (2000)', 3946: 'Get Carter (2000)', 3947: 'Get Carter (1971)', 3948: 'Meet the Parents (2000)', 3949: 'Requiem for a Dream (2000)', 3950: 'Tigerland (2000)', 3951: 'Two Family House (2000)', 3952: 'Contender, The (2000)', 3953: 'Dr. T and the Women (2000)', 3955: 'Ladies Man, The (2000)', 3957: 'Billy Jack (1971)', 3958: 'Billy Jack Goes to Washington (1977)', 3959: 'Time Machine, The (1960)', 3962: 'Ghoulies II (1987)', 3963: 'Unsinkable Molly Brown, The (1964)', 3964: 'Adventures of Ichabod and Mr. Toad, The (1949)', 3965: 'Strange Love of Martha Ivers, The (1946)', 3966: 'Detour (1945)', 3967: 'Billy Elliot (2000)', 3968: 'Bedazzled (2000)', 3969: 'Pay It Forward (2000)', 3971: 'Private Eyes, The (1981)', 3972: 'Legend of Drunken Master, The (Jui kuen II) (1994)', 3973: 'Book of Shadows: Blair Witch 2 (2000)', 3974: 'Little Vampire, The (2000)', 3977: \"Charlie's Angels (2000)\", 3978: 'Legend of Bagger Vance, The (2000)', 3979: 'Little Nicky (2000)', 3980: 'Men of Honor (2000)', 3981: 'Red Planet (2000)', 3983: 'You Can Count on Me (2000)', 3984: 'Diamonds Are Forever (1971)', 3985: 'Eagle Has Landed, The (1976)', 3986: '6th Day, The (2000)', 3987: 'Bounce (2000)', 3988: 'How the Grinch Stole Christmas (a.k.a. The Grinch) (2000)', 3989: 'One Day in September (1999)', 3990: 'Rugrats in Paris: The Movie (2000)', 3991: '102 Dalmatians (2000)', 3992: 'MalÃ¨na (2000)', 3993: 'Quills (2000)', 3994: 'Unbreakable (2000)', 3996: 'Crouching Tiger, Hidden Dragon (Wo hu cang long) (2000)', 3997: 'Dungeons & Dragons (2000)', 3998: 'Proof of Life (2000)', 3999: 'Vertical Limit (2000)', 4000: 'Bounty, The (1984)', 4002: 'Planes, Trains & Automobiles (1987)', 4003: \"She's Having a Baby (1988)\", 4005: 'Living Daylights, The (1987)', 4006: 'Transformers: The Movie (1986)', 4007: 'Wall Street (1987)', 4008: 'Born on the Fourth of July (1989)', 4009: 'Talk Radio (1988)', 4010: \"Brewster's Millions (1985)\", 4011: 'Snatch (2000)', 4012: 'Punchline (1988)', 4014: 'Chocolat (2000)', 4015: \"Dude, Where's My Car? (2000)\", 4016: \"Emperor's New Groove, The (2000)\", 4017: 'Pollock (2000)', 4018: 'What Women Want (2000)', 4019: 'Finding Forrester (2000)', 4020: 'Gift, The (2000)', 4021: 'Before Night Falls (2000)', 4022: 'Cast Away (2000)', 4023: 'Family Man, The (2000)', 4024: 'House of Mirth, The (2000)', 4025: 'Miss Congeniality (2000)', 4027: 'O Brother, Where Art Thou? (2000)', 4029: 'State and Main (2000)', 4030: 'Dracula 2000 (2000)', 4031: 'All the Pretty Horses (2000)', 4032: 'Everlasting Piece, An (2000)', 4033: 'Thirteen Days (2000)', 4034: 'Traffic (2000)', 4035: 'Claim, The (2000)', 4036: 'Shadow of the Vampire (2000)', 4037: 'House of Games (1987)', 4039: 'Annie (1982)', 4040: \"Don't Tell Mom the Babysitter's Dead (1991)\", 4041: 'Officer and a Gentleman, An (1982)', 4042: 'Alamo, The (1960)', 4043: 'At Close Range (1986)', 4046: 'Friendly Persuasion (1956)', 4047: 'Gettysburg (1993)', 4051: 'Horrors of Spider Island (Ein Toter Hing im Netz) (1960)', 4052: 'Antitrust (2001)', 4053: 'Double Take (2001)', 4054: 'Save the Last Dance (2001)', 4055: 'Panic (2000)', 4056: 'Pledge, The (2001)', 4061: 'The Man in the Moon (1991)', 4062: 'Mystic Pizza (1988)', 4063: 'Prelude to a Kiss (1992)', 4064: 'Coffy (1973)', 4065: 'Foxy Brown (1974)', 4066: \"I'm Gonna Git You Sucka (1988)\", 4067: 'Untamed Heart (1993)', 4068: 'Sugar & Spice (2001)', 4069: 'Wedding Planner, The (2001)', 4074: 'Legend of Rita, The (Stille nach dem SchuÃ\\x9f, Die) (1999)', 4077: 'With a Friend Like Harry... (Harry, un ami qui vous veut du bien) (2000)', 4078: 'Amazing Grace and Chuck (1987)', 4079: 'Amazon Women on the Moon (1987)', 4080: 'Baby Boom (1987)', 4081: 'Back to the Beach (1987)', 4082: 'Barfly (1987)', 4083: 'Best Seller (1987)', 4084: 'Beverly Hills Cop II (1987)', 4085: 'Beverly Hills Cop (1984)', 4086: 'Big Easy, The (1987)', 4089: 'Born in East L.A. (1987)', 4090: 'Brave Little Toaster, The (1987)', 4091: \"Can't Buy Me Love (1987)\", 4092: 'Cherry 2000 (1987)', 4093: 'Cop (1988)', 4102: 'Eddie Murphy Raw (1987)', 4103: 'Empire of the Sun (1987)', 4104: 'Ernest Goes to Camp (1987)', 4105: 'Evil Dead, The (1981)', 4109: 'Flowers in the Attic (1987)', 4110: 'Fourth Protocol, The (1987)', 4111: 'Gardens of Stone (1987)', 4113: 'Glass Menagerie, The (1987)', 4115: 'Hiding Out (1987)', 4116: 'Hollywood Shuffle (1987)', 4117: 'Hope and Glory (1987)', 4121: 'Innerspace (1987)', 4123: 'Ishtar (1987)', 4124: 'Jaws: The Revenge (1987)', 4125: 'Leonard Part 6 (1987)', 4126: 'Less Than Zero (1987)', 4127: 'Like Father, Like Son (1987)', 4128: 'Lost Boys, The (1987)', 4129: 'Made in Heaven (1987)', 4130: 'Maid to Order (1987)', 4131: 'Making Mr. Right (1987)', 4132: 'Mannequin (1987)', 4133: 'Masters of the Universe (1987)', 4135: 'Monster Squad, The (1987)', 4138: 'My Demon Lover (1987)', 4139: \"No Man's Land (1987)\", 4141: 'Head Over Heels (2001)', 4142: 'Left Behind: The Movie (2000)', 4143: 'Valentine (2001)', 4144: 'In the Mood For Love (Fa yeung nin wa) (2000)', 4146: 'Million Dollar Hotel, The (2001)', 4147: 'Nico and Dani (KrÃ¡mpack) (2000)', 4148: 'Hannibal (2001)', 4149: 'Saving Silverman (Evil Woman) (2001)', 4152: 'Vatel (2000)', 4153: 'Down to Earth (2001)', 4154: \"Recess: School's Out (2001)\", 4155: 'Sweet November (2001)', 4156: 'Company Man (2000)', 4157: 'Price of Milk, The (2000)', 4158: 'Monkeybone (2001)', 4159: '3000 Miles to Graceland (2001)', 4160: 'Widow of St. Pierre, The (Veuve de Saint-Pierre, La) (2000)', 4161: 'Mexican, The (2001)', 4164: \"Caveman's Valentine, The (2001)\", 4166: 'Series 7: The Contenders (2001)', 4167: '15 Minutes (2001)', 4168: 'Get Over It (2001)', 4171: \"Long Night's Journey Into Day (2000)\", 4174: 'Avalon (1990)', 4175: \"Gray's Anatomy (1996)\", 4178: 'Of Mice and Men (1939)', 4180: 'Reform School Girls (1986)', 4181: 'Tapeheads (1988)', 4184: \"Bishop's Wife, The (1947)\", 4187: 'Lilies of the Field (1963)', 4189: 'Greatest Story Ever Told, The (1965)', 4190: 'Elmer Gantry (1960)', 4191: 'Alfie (1966)', 4193: 'Fantasticks, The (1995)', 4194: \"I Know Where I'm Going! (1945)\", 4195: 'Abominable Dr. Phibes, The (1971)', 4197: 'Real Life (1979)', 4198: 'Battle Beyond the Stars (1980)', 4200: 'Double Impact (1991)', 4202: 'Fuzz (1972)', 4203: 'Harley Davidson and the Marlboro Man (1991)', 4204: \"Losin' It (1983)\", 4205: 'Mermaids (1990)', 4207: 'Navy Seals (1990)', 4210: 'Manhunter (1986)', 4211: 'Reversal of Fortune (1990)', 4212: 'Death on the Nile (1978)', 4214: 'Revenge of the Nerds (1984)', 4215: 'Revenge of the Nerds II: Nerds in Paradise (1987)', 4217: '4 Little Girls (1997)', 4218: \"River's Edge (1986)\", 4219: 'Girls Just Want to Have Fun (1985)', 4220: 'Longest Yard, The (1974)', 4221: 'Necessary Roughness (1991)', 4223: 'Enemy at the Gates (2001)', 4224: 'Exit Wounds (2001)', 4225: 'Dish, The (2001)', 4226: 'Memento (2000)', 4228: 'Heartbreakers (2001)', 4229: \"Say It Isn't So (2001)\", 4231: 'Someone Like You (2001)', 4232: 'Spy Kids (2001)', 4233: 'Tomcats (2001)', 4234: 'Tailor of Panama, The (2001)', 4235: \"Amores Perros (Love's a Bitch) (2000)\", 4236: 'Keep the River on Your Right: A Modern Cannibal Tale (2000)', 4237: 'Gleaners & I, The (Les glaneurs et la glaneuse) (2000)', 4238: 'Along Came a Spider (2001)', 4239: 'Blow (2001)', 4240: 'Just Visiting (2001)', 4241: 'PokÃ©mon 3: The Movie (2001)', 4242: 'Beautiful Creatures (2000)', 4243: 'Brigham City (2001)', 4246: \"Bridget Jones's Diary (2001)\", 4247: 'Joe Dirt (2001)', 4248: 'Josie and the Pussycats (2001)', 4251: 'Chopper (2000)', 4252: 'Circle, The (Dayereh) (2000)', 4254: 'Crocodile Dundee in Los Angeles (2001)', 4255: 'Freddy Got Fingered (2001)', 4256: 'Center of the World, The (2001)', 4259: 'Luzhin Defence, The (2000)', 4260: 'Visit, The (2000)', 4262: 'Scarface (1983)', 4263: 'Days of Wine and Roses (1962)', 4265: 'Driven (2001)', 4267: \"One Night at McCool's (2001)\", 4268: 'Town & Country (2001)', 4270: 'Mummy Returns, The (2001)', 4273: 'Under the Sand (2000)', 4275: 'Krull (1983)', 4276: 'Lost in America (1985)', 4278: 'Triumph of the Will (Triumph des Willens) (1934)', 4280: 'World According to Garp, The (1982)', 4282: 'Fellini Satyricon (1969)', 4284: 'Frankie and Johnny (1966)', 4285: 'Frankie and Johnny (1991)', 4289: 'City of Women, The (CittÃ\\xa0 delle donne, La) (1980)', 4290: 'For the Boys (1991)', 4291: 'Nine to Five (a.k.a. 9 to 5) (1980)', 4292: 'Norma Rae (1979)', 4293: 'Summer Rental (1985)', 4294: '5,000 Fingers of Dr. T, The (1953)', 4296: 'Love Story (1970)', 4297: 'Pelle the Conqueror (Pelle erobreren) (1987)', 4298: 'Rififi (Du rififi chez les hommes) (1955)', 4299: \"Knight's Tale, A (2001)\", 4300: 'Bread and Roses (2000)', 4304: 'Startup.com (2001)', 4305: 'Angel Eyes (2001)', 4306: 'Shrek (2001)', 4307: 'Fast Food, Fast Women (2000)', 4308: 'Moulin Rouge (2001)', 4310: 'Pearl Harbor (2001)', 4312: \"Himalaya (Himalaya - l'enfance d'un chef) (1999)\", 4313: 'Man Who Cried, The (2000)', 4316: 'Ice Castles (1978)', 4317: 'Love Potion #9 (1992)', 4321: 'City Slickers (1991)', 4322: 'Eight Men Out (1988)', 4323: 'Horse Soldiers, The (1959)', 4325: 'Night, The (Notte, La) (1960)', 4326: 'Mississippi Burning (1988)', 4327: 'Magnificent Seven, The (1960)', 4329: 'Rio Bravo (1959)', 4333: 'Throw Momma from the Train (1987)', 4334: 'Yi Yi (2000)', 4337: 'Sand Pebbles, The (1966)', 4338: \"Twelve O'Clock High (1949)\", 4339: \"Von Ryan's Express (1965)\", 4340: 'Animal, The (2001)', 4342: 'Big Eden (2000)', 4343: 'Evolution (2001)', 4344: 'Swordfish (2001)', 4345: 'Anniversary Party, The (2001)', 4347: 'Divided We Fall (MusÃ\\xadme si pomÃ¡hat) (2000)', 4349: 'Catch-22 (1970)', 4350: 'Forgotten Silver (1996)', 4351: 'Point Break (1991)', 4353: 'Uncommon Valor (1983)', 4354: 'Unlawful Entry (1992)', 4355: 'Youngblood (1986)', 4356: 'Gentlemen Prefer Blondes (1953)', 4357: 'How to Marry a Millionaire (1953)', 4359: 'Seven Year Itch, The (1955)', 4361: 'Tootsie (1982)', 4366: 'Atlantis: The Lost Empire (2001)', 4367: 'Lara Croft: Tomb Raider (2001)', 4368: 'Dr. Dolittle 2 (2001)', 4369: 'Fast and the Furious, The (2001)', 4370: 'A.I. Artificial Intelligence (2001)', 4371: 'Baby Boy (2001)', 4372: 'Crazy/Beautiful (2001)', 4373: 'Pootie Tang (2001)', 4374: 'Let It Snow (1999)', 4378: 'Sexy Beast (2000)', 4380: 'Princess and the Warrior, The (Krieger und die Kaiserin, Der) (2000)', 4381: 'Closet, The (Placard, Le) (2001)', 4383: 'Crimson Rivers, The (RiviÃ¨res pourpres, Les) (2000)', 4384: 'Lumumba (2000)', 4386: 'Cats & Dogs (2001)', 4387: 'Kiss of the Dragon (2001)', 4388: 'Scary Movie 2 (2001)', 4389: 'Lost and Delirious (2001)', 4390: 'Rape Me (Baise-moi) (2000)', 4392: 'Alice (1990)', 4393: 'Another Woman (1988)', 4394: 'Beach Blanket Bingo (1965)', 4395: 'Big Deal on Madonna Street (I Soliti Ignoti) (1958)', 4396: 'Cannonball Run, The (1981)', 4397: 'Cannonball Run II (1984)', 4399: \"Diary of a Chambermaid (Journal d'une femme de chambre, Le) (1964)\", 4402: 'Dr. Goldfoot and the Bikini Machine (1965)', 4403: 'Fall of the House of Usher, The (House of Usher) (1960)', 4404: 'Faust (1926)', 4406: 'Man Who Shot Liberty Valance, The (1962)', 4407: 'Salvador (1986)', 4408: 'September (1987)', 4409: 'Shadows and Fog (1991)', 4410: 'Something Wild (1986)', 4412: 'Thing with Two Heads, The (1972)', 4419: 'All That Heaven Allows (1955)', 4420: 'Barefoot Contessa, The (1954)', 4422: 'Cries and Whispers (Viskningar och rop) (1972)', 4424: 'Garden of the Finzi-Continis, The (Giardino dei Finzi-Contini, Il) (1970)', 4426: 'Kiss Me Deadly (1955)', 4427: 'Lion in Winter, The (1968)', 4428: 'Misfits, The (1961)', 4429: 'Moby Dick (1956)', 4432: 'Sweet Smell of Success (1957)', 4433: 'Written on the Wind (1956)', 4434: '10th Victim, The (La decima vittima) (1965)', 4436: 'Obsession (1976)', 4437: 'Suspiria (1977)', 4438: 'Fist of Fury (Chinese Connection, The) (Jing wu men) (1972)', 4439: 'Christiane F. (a.k.a. We Children from Bahnhof Zoo) (Christiane F. - Wir Kinder vom Bahnhof Zoo) (1981)', 4440: 'Big Boss, The (Fists of Fury) (Tang shan da xiong) (1971)', 4441: 'Game of Death (1978)', 4442: 'Last Dragon, The (1985)', 4443: 'Outland (1981)', 4444: 'Way of the Dragon, The (a.k.a. Return of the Dragon) (Meng long guo jiang) (1972)', 4445: 'T-Rex: Back to the Cretaceous (1998)', 4446: 'Final Fantasy: The Spirits Within (2001)', 4447: 'Legally Blonde (2001)', 4448: 'Score, The (2001)', 4449: 'Adanggaman (2000)', 4450: 'Bully (2001)', 4451: 'Jump Tomorrow (2001)', 4452: 'Made (2001)', 4453: 'Michael Jordan to the Max (2000)', 4454: 'More (1998)', 4458: 'Africa: The Serengeti (1994)', 4459: 'Alaska: Spirit of the Wild (1997)', 4462: '18 Again! (1988)', 4463: '1969 (1988)', 4464: 'Accidental Tourist, The (1988)', 4465: 'Accused, The (1988)', 4466: 'Above the Law (1988)', 4467: 'Adventures of Baron Munchausen, The (1988)', 4470: 'Ariel (1988)', 4471: 'Arthur 2: On the Rocks (1988)', 4473: 'Bat*21 (1988)', 4474: 'Beaches (1988)', 4475: 'Beast of War, The (Beast, The) (1988)', 4476: 'Big Business (1988)', 4477: 'Big Top Pee-Wee (1988)', 4478: 'Biloxi Blues (1988)', 4480: 'Blob, The (1988)', 4482: 'Bright Lights, Big City (1988)', 4483: 'Caddyshack II (1988)', 4484: 'Camille Claudel (1988)', 4487: 'Cocktail (1988)', 4488: 'Colors (1988)', 4489: 'Coming to America (1988)', 4490: 'Couch Trip, The (1988)', 4492: 'Critters (1986)', 4495: 'Crossing Delancey (1988)', 4496: 'D.O.A. (1988)', 4497: 'Dead Heat (1988)', 4498: 'Dead Pool, The (1988)', 4499: 'Dirty Rotten Scoundrels (1988)', 4500: 'Drowning by Numbers (1988)', 4502: 'Ernest Saves Christmas (1988)', 4504: 'Feds (1988)', 4505: 'For Keeps (1988)', 4506: 'Frantic (1988)', 4508: 'Gorillas in the Mist (1988)', 4509: 'Great Outdoors, The (1988)', 4511: 'High Spirits (1988)', 4516: 'Johnny Be Good (1988)', 4517: 'Lady in White (a.k.a. The Mystery of the Lady in White) (1988)', 4518: 'The Lair of the White Worm (1988)', 4519: 'Land Before Time, The (1988)', 4520: 'License to Drive (1988)', 4521: 'Little Nikita (1988)', 4522: 'Masquerade (1988)', 4523: 'Milagro Beanfield War (1988)', 4524: 'Moon Over Parador (1988)', 4526: 'My Stepmother Is an Alien (1988)', 4527: 'Night in the Life of Jimmy Reardon, A (1988)', 4529: 'Bagdad Cafe (Out of Rosenheim) (1987)', 4531: 'Red Heat (1988)', 4533: 'Return of the Living Dead, The (1985)', 4534: 'Return to Snowy River (a.k.a. The Man From Snowy River II) (1988)', 4535: 'Man from Snowy River, The (1982)', 4537: 'Running on Empty (1988)', 4541: 'Serpent and the Rainbow, The (1988)', 4544: 'Short Circuit 2 (1988)', 4545: 'Short Circuit (1986)', 4546: 'Vanishing, The (Spoorloos) (1988)', 4552: 'Tetsuo, the Ironman (Tetsuo) (1988)', 4553: 'They Live (1988)', 4557: 'Tucker: The Man and His Dream (1988)', 4558: 'Twins (1988)', 4562: 'Without a Clue (1988)', 4563: 'Young Einstein (1988)', 4564: 'Always (1989)', 4565: 'American Ninja (1985)', 4568: 'Best of the Best (1989)', 4571: \"Bill & Ted's Excellent Adventure (1989)\", 4572: 'Black Rain (1989)', 4573: 'Blaze (1989)', 4574: 'Blind Fury (1989)', 4577: 'Casualties of War (1989)', 4578: 'Chances Are (1989)', 4580: 'Cyborg (1989)', 4581: 'Dad (1989)', 4583: 'Disorganized Crime (1989)', 4584: 'Dream a Little Dream (1989)', 4585: 'Dream Team, The (1989)', 4587: 'Earth Girls Are Easy (1988)', 4589: 'Eddie and the Cruisers (1983)', 4591: 'Erik the Viking (1989)', 4593: 'Family Business (1989)', 4594: 'Farewell to the King (1989)', 4595: 'Fat Man and Little Boy (1989)', 4597: 'Gleaming the Cube (1989)', 4599: 'Great Balls of Fire! (1989)', 4600: 'Gross Anatomy (a.k.a. A Cut Above) (1989)', 4602: 'Harlem Nights (1989)', 4603: 'Her Alibi (1989)', 4605: 'How to Get Ahead in Advertising (1989)', 4608: 'Innocent Man, An (1989)', 4610: 'January Man, The (1989)', 4611: 'Johnny Handsome (1989)', 4612: 'Jesus of Montreal (JÃ©sus de MontrÃ©al) (1989)', 4613: 'K-9 (1989)', 4614: 'Kickboxer (1989)', 4615: 'Last Exit to Brooklyn (1989)', 4616: 'Lean on Me (1989)', 4617: 'Let It Ride (1989)', 4619: 'Little Monsters (1989)', 4621: \"Look Who's Talking (1989)\", 4622: 'Loverboy (1989)', 4623: 'Major League (1989)', 4624: 'Meet the Feebles (1989)', 4625: 'Millennium (1989)', 4626: 'Miracle Mile (1989)', 4628: 'New York Stories (1989)', 4629: 'Next of Kin (1989)', 4630: 'No Holds Barred (1989)', 4632: 'Package, The (1989)', 4634: 'Penn & Teller Get Killed (1989)', 4635: 'Pink Cadillac (1989)', 4636: 'Punisher, The (1989)', 4638: 'Jurassic Park III (2001)', 4639: \"America's Sweethearts (2001)\", 4640: 'Brother (2000)', 4641: 'Ghost World (2001)', 4642: 'Hedwig and the Angry Inch (2000)', 4643: 'Planet of the Apes (2001)', 4644: 'Bread and Tulips (Pane e tulipani) (2000)', 4645: 'Cure (1997)', 4646: 'Greenfingers (2000)', 4649: 'Wet Hot American Summer (2001)', 4653: 'Return of the Musketeers, The (1989)', 4654: 'Road House (1989)', 4658: 'Santa Sangre (1989)', 4660: 'Scenes from the Class Struggle in Beverly Hills (1989)', 4661: 'Sea of Love (1989)', 4662: 'See No Evil, Hear No Evil (1989)', 4663: \"She's Out of Control (1989)\", 4666: 'Skin Deep (1989)', 4670: 'Stepfather, The (1987)', 4671: 'Sweetie (1989)', 4672: 'Tall Guy, The (1989)', 4673: 'Tango & Cash (1989)', 4675: 'Three Fugitives (1989)', 4676: 'Troop Beverly Hills (1989)', 4677: 'Turner & Hooch (1989)', 4678: 'UHF (1989)', 4679: 'Uncle Buck (1989)', 4681: 'War of the Roses, The (1989)', 4683: 'Wizard, The (1989)', 4686: \"Weekend at Bernie's II (1993)\", 4687: 'Billy Liar (1963)', 4688: 'Black Robe (1991)', 4689: \"Cat o' Nine Tails, The (Gatto a nove code, Il) (1971)\", 4690: 'Cotton Club, The (1984)', 4695: \"Who'll Stop the Rain (1978)\", 4697: 'Basket Case (1982)', 4699: 'Original Sin (2001)', 4700: 'Princess Diaries, The (2001)', 4701: 'Rush Hour 2 (2001)', 4703: 'Chocolat (1988)', 4704: 'Hatari! (1962)', 4705: 'Cage aux Folles, La (1978)', 4708: 'Marat/Sade (1966)', 4709: 'Paint Your Wagon (1969)', 4710: 'Shootist, The (1976)', 4711: 'Theremin: An Electronic Odyssey (1993)', 4713: 'Altered States (1980)', 4714: 'Any Which Way You Can (1980)', 4715: 'Awakening, The (1980)', 4717: 'Battle Creek Brawl (Big Brawl, The) (1980)', 4718: 'American Pie 2 (2001)', 4719: 'Osmosis Jones (2001)', 4720: 'Others, The (2001)', 4721: 'American Outlaws (2001)', 4722: 'All Over the Guy (2001)', 4723: 'Deep End, The (2001)', 4725: 'Session 9 (2001)', 4727: \"Captain Corelli's Mandolin (2001)\", 4728: 'Rat Race (2001)', 4732: 'Bubble Boy (2001)', 4733: 'Curse of the Jade Scorpion, The (2001)', 4734: 'Jay and Silent Bob Strike Back (2001)', 4735: 'Ghosts of Mars (2001)', 4736: 'Summer Catch (2001)', 4738: 'Happy Accidents (2000)', 4740: 'Maybe Baby (2000)', 4741: 'Together (Tillsammans) (2000)', 4743: 'Tortilla Soup (2001)', 4744: 'Jeepers Creepers (2001)', 4745: 'O (2001)', 4748: '3 Ninjas (1992)', 4749: '3 Ninjas Kick Back (1994)', 4750: '3 Ninjas Knuckle Up (1995)', 4754: 'Wicker Man, The (1973)', 4756: 'Musketeer, The (2001)', 4757: 'Rock Star (2001)', 4759: 'Two Can Play That Game (2001)', 4765: 'L.I.E. (2001)', 4766: 'Our Lady of the Assassins (Virgen de los sicarios, La) (2000)', 4769: 'Into the Arms of Strangers: Stories of the Kindertransport (2000)', 4770: 'Glass House, The (2001)', 4771: 'Hardball (2001)', 4772: 'Dinner Rush (2000)', 4773: 'Haiku Tunnel (2001)', 4774: 'Big Trouble (2002)', 4775: 'Glitter (2001)', 4776: 'Training Day (2001)', 4777: 'American Astronaut, The (2001)', 4780: 'Liam (2000)', 4782: 'Sidewalks of New York (2001)', 4783: \"Endurance: Shackleton's Legendary Antarctic Expedition, The (2000)\", 4784: \"French Lieutenant's Woman, The (1981)\", 4785: 'Great Silence, The (Grande silenzio, Il) (1969)', 4786: 'Legend of Hell House, The (1973)', 4787: 'Little Man Tate (1991)', 4788: 'Moscow Does Not Believe in Tears (Moskva slezam ne verit) (1979)', 4789: 'Phantom of the Paradise (1974)', 4792: '13 Ghosts (1960)', 4794: 'Opera (1987)', 4795: 'Father Goose (1964)', 4796: 'Grass Is Greener, The (1960)', 4798: 'Indiscreet (1958)', 4799: \"It's a Mad, Mad, Mad, Mad World (1963)\", 4800: \"King Solomon's Mines (1937)\", 4801: 'Little Foxes, The (1941)', 4802: 'Operation Petticoat (1959)', 4803: 'Play Misty for Me (1971)', 4804: 'Pocketful of Miracles (1961)', 4808: 'Vanishing, The (1993)', 4809: 'Silkwood (1983)', 4810: 'I Never Promised You a Rose Garden (1977)', 4811: 'Quadrophenia (1979)', 4812: 'SpaceCamp (1986)', 4813: 'When Worlds Collide (1951)', 4814: \"Don't Say a Word (2001)\", 4815: 'Hearts in Atlantis (2001)', 4816: 'Zoolander (2001)', 4818: 'Extreme Days (2001)', 4821: 'Joy Ride (2001)', 4822: \"Max Keeble's Big Move (2001)\", 4823: 'Serendipity (2001)', 4825: 'Swamp, The (CiÃ©naga, La) (2001)', 4826: 'Big Red One, The (1980)', 4827: 'Boogeyman, The (1980)', 4828: 'Party, The (Boum, La) (1980)', 4830: 'Brubaker (1980)', 4831: \"Can't Stop the Music (1980)\", 4833: 'Changeling, The (1980)', 4835: \"Coal Miner's Daughter (1980)\", 4836: 'Competition, The (1980)', 4840: 'Last Metro, The (Dernier mÃ©tro, Le) (1980)', 4844: 'Bandits (2001)', 4845: 'Corky Romano (2001)', 4846: 'Iron Monkey (Siu nin Wong Fei-hung ji: Tit Ma Lau) (1993)', 4847: 'Fat Girl (Ã\\x80 ma soeur!) (2001)', 4848: 'Mulholland Drive (2001)', 4849: 'My First Mister (2001)', 4850: 'Spriggan (Supurigan) (1998)', 4852: 'Bones (2001)', 4855: 'Dirty Harry (1971)', 4857: 'Fiddler on the Roof (1971)', 4860: 'Making the Grade (1984)', 4862: 'Not Without My Daughter (1991)', 4863: 'Female Trouble (1975)', 4864: 'Titanica (1992)', 4865: 'From Hell (2001)', 4866: 'Last Castle, The (2001)', 4867: 'Riding in Cars with Boys (2001)', 4871: 'Focus (2001)', 4873: 'Waking Life (2001)', 4874: 'K-PAX (2001)', 4876: 'Thirteen Ghosts (a.k.a. Thir13en Ghosts) (2001)', 4877: 'Better Than Sex (2000)', 4878: 'Donnie Darko (2001)', 4879: 'High Heels and Low Lifes (2001)', 4880: 'Life as a House (2001)', 4881: \"Man Who Wasn't There, The (2001)\", 4883: 'Town is Quiet, The (Ville est tranquille, La) (2000)', 4885: 'Domestic Disturbance (2001)', 4886: 'Monsters, Inc. (2001)', 4887: 'One, The (2001)', 4888: 'Tape (2001)', 4889: 'Heist (2001)', 4890: 'Shallow Hal (2001)', 4893: 'When a Stranger Calls (1979)', 4896: \"Harry Potter and the Sorcerer's Stone (a.k.a. Harry Potter and the Philosopher's Stone) (2001)\", 4898: 'Novocaine (2001)', 4899: 'Black Knight (2001)', 4900: 'Out Cold (2001)', 4901: 'Spy Game (2001)', 4902: \"Devil's Backbone, The (Espinazo del diablo, El) (2001)\", 4903: 'In the Bedroom (2001)', 4909: 'Incredible Shrinking Woman, The (1981)', 4911: 'Jabberwocky (1977)', 4912: 'Funny Girl (1968)', 4914: 'Breathless (Ã\\x80 bout de souffle) (1960)', 4915: 'Beastmaster, The (1982)', 4916: 'Midway (1976)', 4917: 'MacArthur (1977)', 4919: 'Subway (1985)', 4920: 'Now, Voyager (1942)', 4921: 'Little Women (1933)', 4925: 'Cheap Detective, The (1978)', 4926: \"Everybody's Famous! (Iedereen beroemd!) (2000)\", 4927: 'Last Wave, The (1977)', 4928: 'That Obscure Object of Desire (Cet obscur objet du dÃ©sir) (1977)', 4929: 'Toy, The (1982)', 4932: 'Dressed to Kill (1980)', 4936: 'Fame (1980)', 4939: 'Final Countdown, The (1980)', 4941: 'Flash Gordon (1980)', 4942: 'Angry Red Planet, The (1959)', 4945: 'Enforcer, The (1976)', 4946: 'Eye for an Eye, An (1981)', 4947: 'Gauntlet, The (1977)', 4951: 'Lord of the Flies (1990)', 4952: 'Morons From Outer Space (1985)', 4953: 'People That Time Forgot, The (1977)', 4954: \"Ocean's Eleven (a.k.a. Ocean's 11) (1960)\", 4956: 'Stunt Man, The (1980)', 4957: 'Sudden Impact (1983)', 4958: 'Behind Enemy Lines (2001)', 4959: 'Affair of the Necklace, The (2001)', 4961: 'Pornstar: The Legend of Ron Jeremy (2001)', 4962: 'Texas Rangers (2001)', 4963: \"Ocean's Eleven (2001)\", 4964: 'Baran (2001)', 4965: 'Business of Strangers, The (2001)', 4966: 'Incredible Shrinking Man, The (1957)', 4967: \"No Man's Land (2001)\", 4969: 'And Then There Were None (1945)', 4970: 'Blue Angel, The (Blaue Engel, Der) (1930)', 4971: 'Moscow on the Hudson (1984)', 4973: \"Amelie (Fabuleux destin d'AmÃ©lie Poulain, Le) (2001)\", 4974: 'Not Another Teen Movie (2001)', 4975: 'Vanilla Sky (2001)', 4976: 'Iris (2001)', 4977: 'Kandahar (Safar e Ghandehar) (2001)', 4978: 'Lantana (2001)', 4979: 'Royal Tenenbaums, The (2001)', 4980: \"Bill & Ted's Bogus Journey (1991)\", 4981: 'Clockwise (1986)', 4985: 'Sheena (1984)', 4987: 'Spacehunter: Adventures in the Forbidden Zone (1983)', 4988: 'White Water Summer (1987)', 4989: 'How High (2001)', 4990: 'Jimmy Neutron: Boy Genius (2001)', 4991: 'Joe Somebody (2001)', 4992: 'Kate & Leopold (2001)', 4993: 'Lord of the Rings: The Fellowship of the Ring, The (2001)', 4994: 'Majestic, The (2001)', 4995: 'Beautiful Mind, A (2001)', 4998: 'Defiant Ones, The (1958)', 5004: 'Party, The (1968)', 5007: 'Topkapi (1964)', 5008: 'Witness for the Prosecution (1957)', 5009: 'Ali (2001)', 5010: 'Black Hawk Down (2001)', 5011: 'Charlotte Gray (2001)', 5012: 'Yentl (1983)', 5013: 'Gosford Park (2001)', 5014: 'I Am Sam (2001)', 5015: \"Monster's Ball (2001)\", 5016: 'Shipping News, The (2001)', 5021: 'Murder by Death (1976)', 5023: 'Waterdance, The (1992)', 5025: 'Orange County (2002)', 5026: 'Brotherhood of the Wolf (Pacte des loups, Le) (2001)', 5027: 'Another 48 Hrs. (1990)', 5028: 'What Time Is It There? (Ni neibian jidian) (2001)', 5033: 'Russia House, The (1990)', 5034: 'Truly, Madly, Deeply (1991)', 5039: 'Dragonslayer (1981)', 5040: 'Conan the Destroyer (1984)', 5041: 'Fire and Ice (1983)', 5046: 'Impostor (2002)', 5047: 'Kung Pow: Enter the Fist (2002)', 5048: 'Snow Dogs (2002)', 5049: '48 Hrs. (1982)', 5051: 'Italian for Beginners (Italiensk for begyndere) (2000)', 5053: 'Blankman (1994)', 5054: 'Brainstorm (1983)', 5055: 'Dragon: The Bruce Lee Story (1993)', 5059: 'Little Dieter Needs to Fly (1997)', 5060: 'M*A*S*H (a.k.a. MASH) (1970)', 5062: 'Seconds (1966)', 5063: 'One-Eyed Jacks (1961)', 5064: 'The Count of Monte Cristo (2002)', 5065: 'Mothman Prophecies, The (2002)', 5066: 'Walk to Remember, A (2002)', 5068: 'Beijing Bicycle (Shiqi sui de dan che) (2001)', 5069: 'Escaflowne: The Movie (Escaflowne) (2000)', 5071: 'MaelstrÃ¶m (2000)', 5072: 'Metropolis (2001)', 5073: \"Son's Room, The (Stanza del figlio, La) (2001)\", 5074: 'Storytelling (2001)', 5075: 'Waydowntown (2000)', 5076: 'Adventures of Huck Finn, The (1993)', 5077: 'Cousins (1989)', 5080: 'Slackers (2002)', 5081: 'Birthday Girl (2001)', 5083: 'Rare Birds (2001)', 5088: 'Going Places (Valseuses, Les) (1974)', 5092: 'Big Fat Liar (2002)', 5093: 'Collateral Damage (2002)', 5094: 'Rollerball (2002)', 5095: 'Scotland, Pa. (2001)', 5096: \"Baby's Day Out (1994)\", 5099: 'Heidi (1937)', 5102: 'Rookie of the Year (1993)', 5103: 'Sandlot, The (1993)', 5105: \"Don't Look Now (1973)\", 5106: 'Crossroads (2002)', 5107: \"Hart's War (2002)\", 5108: 'John Q (2002)', 5109: 'Return to Never Land (2002)', 5110: 'Super Troopers (2001)', 5111: 'Good Son, The (1993)', 5112: 'Last Orders (2001)', 5113: 'After the Fox (Caccia alla volpe) (1966)', 5114: 'Bad and the Beautiful, The (1952)', 5116: 'Designing Woman (1957)', 5120: 'Sleuth (1972)', 5121: 'Stroszek (1977)', 5127: 'Dragonfly (2002)', 5128: 'Queen of the Damned (2002)', 5131: \"How to Kill Your Neighbor's Dog (2000)\", 5134: 'Mean Machine (2001)', 5135: 'Monsoon Wedding (2001)', 5136: 'Wendigo (2001)', 5137: 'Scratch (2001)', 5139: 'Bad News Bears, The (1976)', 5146: 'Vampire Hunter D: Bloodlust (Banpaia hantÃ¢ D) (2000)', 5147: 'Wild Strawberries (SmultronstÃ¤llet) (1957)', 5151: '40 Days and 40 Nights (2002)', 5152: 'We Were Soldiers (2002)', 5155: 'Big Bird Cage, The (1972)', 5156: 'Big Doll House, The (1971)', 5159: 'Ferngully: The Last Rainforest (1992)', 5165: 'Zombie (a.k.a. Zombie 2: The Dead Are Among Us) (Zombi 2) (1979)', 5168: 'Royal Wedding (1951)', 5170: 'All About the Benjamins (2002)', 5171: 'Time Machine, The (2002)', 5177: 'Magnificent Ambersons, The (1942)', 5178: 'Fun (1994)', 5181: 'Hangar 18 (1980)', 5187: 'Hopscotch (1980)', 5189: 'Humanoids from the Deep (1980)', 5197: 'Little Darlings (1980)', 5198: 'Long Good Friday, The (1980)', 5202: \"Mon oncle d'AmÃ©rique (1980)\", 5205: 'Motel Hell (1980)', 5209: 'Ffolkes (1979)', 5212: 'Octagon, The (1980)', 5213: 'Oh, God! Book II (1980)', 5214: 'Oh, God! (1977)', 5218: 'Ice Age (2002)', 5219: 'Resident Evil (2002)', 5220: 'Showtime (2002)', 5221: \"Harrison's Flowers (2000)\", 5222: 'Kissing Jessica Stein (2001)', 5224: 'Promises (2001)', 5225: 'And Your Mother Too (Y tu mamÃ¡ tambiÃ©n) (2001)', 5226: 'All the Right Moves (1983)', 5231: 'Road to Morocco (1942)', 5237: 'Taps (1981)', 5238: 'Return of the Secaucus 7 (1980)', 5239: 'Rude Boy (1980)', 5240: 'Running Scared (1980)', 5241: 'Seems Like Old Times (1980)', 5244: 'Shogun Assassin (1980)', 5246: 'Smokey and the Bandit II (1980)', 5247: 'Smokey and the Bandit (1977)', 5248: 'Smokey and the Bandit III (1983)', 5250: 'Stir Crazy (1980)', 5254: 'Blade II (2002)', 5255: 'Sorority Boys (2002)', 5256: 'Stolen Summer (2002)', 5258: 'George Washington (2000)', 5264: 'Clockstoppers (2002)', 5265: 'Death to Smoochy (2002)', 5266: 'Panic Room (2002)', 5267: 'Rookie, The (2002)', 5268: 'No Such Thing (2001)', 5269: 'Piano Teacher, The (La pianiste) (2001)', 5272: \"Time Out (L'emploi du temps) (2001)\", 5275: 'Boxcar Bertha (1972)', 5278: 'Fraternity Vacation (1985)', 5279: 'Impromptu (1991)', 5282: 'High Crimes (2002)', 5283: \"National Lampoon's Van Wilder (2002)\", 5284: 'Crush (2001)', 5285: 'Lucky Break (2001)', 5288: 'Atomic Cafe, The (1982)', 5291: 'Rashomon (RashÃ´mon) (1950)', 5292: 'Slap Shot (1977)', 5293: 'Changing Lanes (2002)', 5294: 'Frailty (2001)', 5296: 'Sweetest Thing, The (2002)', 5297: \"Cat's Meow, The (2002)\", 5298: 'Human Nature (2001)', 5299: 'My Big Fat Greek Wedding (2002)', 5300: '3:10 to Yuma (1957)', 5303: 'Joe Versus the Volcano (1990)', 5304: 'Rome, Open City (a.k.a. Open City) (Roma, cittÃ\\xa0 aperta) (1945)', 5307: 'Taking Care of Business (1990)', 5308: 'Three Men and a Baby (1987)', 5309: 'Three Men and a Little Lady (1990)', 5311: 'Watcher in the Woods, The (1980)', 5312: 'Murder by Numbers (2002)', 5313: 'The Scorpion King (2002)', 5316: 'Enigma (2001)', 5319: 'Nine Queens (Nueve reinas) (2000)', 5321: 'Triumph of Love, The (2001)', 5322: 'World Traveler (2001)', 5323: 'Jason X (2002)', 5324: 'Life or Something Like It (2002)', 5325: 'Dogtown and Z-Boyz (2001)', 5328: 'Rain (2001)', 5329: 'Salton Sea, The (2002)', 5333: 'Bob le Flambeur (1955)', 5334: 'Cadillac Man (1990)', 5337: 'Delirious (1991)', 5338: 'Full Moon in Blue Water (1988)', 5339: 'Husbands and Wives (1992)', 5341: 'Lenny (1974)', 5345: 'Triumph of the Spirit (1989)', 5346: 'Wild Orchid (1990)', 5347: 'Deuces Wild (2002)', 5348: 'Hollywood Ending (2002)', 5349: 'Spider-Man (2002)', 5353: 'Butterflies Are Free (1972)', 5356: 'Giant Spider Invasion, The (1975)', 5357: 'Iron Will (1994)', 5358: 'Mountains of the Moon (1990)', 5361: 'White Fang (1991)', 5363: 'New Guy, The (2002)', 5364: 'Unfaithful (2002)', 5365: \"Lady and the Duke, The (Anglaise et le duc, L') (2001)\", 5372: 'Calamity Jane (1953)', 5373: 'Cranes Are Flying, The (Letyat zhuravli) (1957)', 5375: 'Harvey Girls, The (1946)', 5377: 'About a Boy (2002)', 5378: 'Star Wars: Episode II - Attack of the Clones (2002)', 5379: 'Believer, The (2001)', 5380: 'Importance of Being Earnest, The (2002)', 5382: 'Every Which Way But Loose (1978)', 5384: 'I Want to Live! (1958)', 5385: 'Last Waltz, The (1978)', 5387: 'Enough (2002)', 5388: 'Insomnia (2002)', 5389: 'Spirit: Stallion of the Cimarron (2002)', 5390: 'CQ (2001)', 5391: 'Thirteen Conversations About One Thing (a.k.a. 13 Conversations) (2001)', 5397: 'Monkey Business (1952)', 5398: 'Requiem for a Heavyweight (1962)', 5400: 'Sum of All Fears, The (2002)', 5401: 'Undercover Brother (2002)', 5404: '84 Charing Cross Road (1987)', 5409: 'Rapid Fire (1992)', 5410: 'Silent Running (1972)', 5414: 'Bad Company (2002)', 5415: 'Divine Secrets of the Ya-Ya Sisterhood (2002)', 5416: 'Cherish (2002)', 5417: 'Fast Runner, The (Atanarjuat) (2001)', 5418: 'Bourne Identity, The (2002)', 5419: 'Scooby-Doo (2002)', 5420: 'Windtalkers (2002)', 5421: 'Dangerous Lives of Altar Boys, The (2002)', 5422: \"Emperor's New Clothes, The (2001)\", 5423: 'Gangster No. 1 (2000)', 5424: 'Harvard Man (2001)', 5425: 'Dark Blue World (TmavomodrÃ½ svet) (2001)', 5427: 'Caveman (1981)', 5428: \"Cheech & Chong's The Corsican Brothers (1984)\", 5433: \"Silver Bullet (Stephen King's Silver Bullet) (1985)\", 5434: 'Sorry, Wrong Number (1948)', 5435: 'Hombre (1967)', 5437: 'Manhattan Project, The (1986)', 5438: 'Men at Work (1990)', 5440: 'She Wore a Yellow Ribbon (1949)', 5442: 'V. I. Warshawski (1991)', 5443: 'Juwanna Mann (2002)', 5444: 'Lilo & Stitch (2002)', 5445: 'Minority Report (2002)', 5446: 'Rabbit-Proof Fence (2002)', 5447: 'Sunshine State (2002)', 5448: 'Hey Arnold! The Movie (2002)', 5449: 'Mr. Deeds (2002)', 5450: 'Lovely & Amazing (2001)', 5451: 'Pumpkin (2002)', 5452: \"Look Who's Talking Now (1993)\", 5454: \"Mo' Money (1992)\", 5455: 'Object of Beauty, The (1991)', 5456: 'Wagons East (1994)', 5458: 'Like Mike (2002)', 5459: 'Men in Black II (a.k.a. MIIB) (a.k.a. MIB 2) (2002)', 5460: 'Powerpuff Girls, The (2002)', 5461: 'Me Without You (2001)', 5462: 'Crocodile Hunter: Collision Course, The (2002)', 5463: 'Reign of Fire (2002)', 5464: 'Road to Perdition (2002)', 5465: 'All About Lily Chou-Chou (Riri Shushu no subete) (2001)', 5466: 'My Wife is an Actress (Ma Femme est une Actrice) (2001)', 5468: '20 Million Miles to Earth (1957)', 5470: 'The Importance of Being Earnest (1952)', 5471: 'Perfect (1985)', 5472: '1776 (1972)', 5475: 'Z (1969)', 5476: 'Halloween: Resurrection (Halloween 8) (2002)', 5477: 'Sex and Lucia (LucÃ\\xada y el sexo) (2001)', 5478: 'Eight Legged Freaks (2002)', 5479: 'K-19: The Widowmaker (2002)', 5480: 'Stuart Little 2 (2002)', 5481: 'Austin Powers in Goldmember (2002)', 5483: 'Kid Stays in the Picture, The (2002)', 5485: 'Tadpole (2002)', 5486: 'Who Is Cletis Tout? (2001)', 5489: 'Nosferatu the Vampyre (Nosferatu: Phantom der Nacht) (1979)', 5490: 'The Big Bus (1976)', 5493: 'In Like Flint (1967)', 5497: 'Our Man Flint (1965)', 5498: 'Red Beard (Akahige) (1965)', 5499: 'Robin and Marian (1976)', 5500: 'Top Secret! (1984)', 5501: 'Master of Disguise, The (2002)', 5502: 'Signs (2002)', 5503: \"Last Kiss, The (Ultimo bacio, L') (2001)\", 5504: 'Spy Kids 2: The Island of Lost Dreams (2002)', 5505: 'Good Girl, The (2002)', 5506: 'Blood Work (2002)', 5507: 'xXx (2002)', 5508: '24 Hour Party People (2002)', 5512: 'Secret Ballot (Raye makhfi) (2001)', 5513: 'Martin Lawrence Live: Runteldat (2002)', 5515: 'Songs From the Second Floor (SÃ¥nger frÃ¥n andra vÃ¥ningen) (2000)', 5521: 'Principal, The (1987)', 5522: 'Rollerball (1975)', 5523: 'Adventures of Pluto Nash, The (2002)', 5524: 'Blue Crush (2002)', 5525: 'Mostly Martha (Bella Martha) (2001)', 5527: 'Possession (2002)', 5528: 'One Hour Photo (2002)', 5529: 'Serving Sara (2002)', 5530: 'Simone (S1m0ne) (2002)', 5531: 'Undisputed (2002)', 5532: \"Amy's O (a.k.a. Amy's Orgasm) (2001)\", 5537: 'Satin Rouge (2002)', 5538: 'Care Bears Movie, The (1985)', 5539: 'Care Bears Movie II: A New Generation (1986)', 5540: 'Clash of the Titans (1981)', 5541: 'Hot Shots! (1991)', 5543: 'Swarm, The (1978)', 5544: 'Time After Time (1979)', 5548: 'Down and Out in Beverly Hills (1986)', 5550: 'Love Me Tender (1956)', 5553: 'Stakeout (1987)', 5556: 'FearDotCom (a.k.a. Fear.com) (a.k.a. Fear Dot Com) (2002)', 5560: 'Ã\\x80 nous la libertÃ© (Freedom for Us) (1931)', 5562: 'Snipes (2001)', 5563: 'City by the Sea (2002)', 5564: 'Swimfan (2002)', 5568: 'Johnny Dangerously (1984)', 5569: 'Last House on the Left, The (1972)', 5570: 'Thesis (Tesis) (1996)', 5572: 'Barbershop (2002)', 5573: 'Stealing Harvard (2002)', 5574: 'Transporter, The (2002)', 5575: 'Alias Betty (Betty Fisher et autres histoires) (2001)', 5577: 'Igby Goes Down (2002)', 5580: 'Aspen Extreme (1993)', 5581: \"Betsy's Wedding (1990)\", 5582: 'Captain Ron (1992)', 5584: 'Ernest Goes to Jail (1990)', 5585: 'Ernest Scared Stupid (1991)', 5588: 'Hills Have Eyes, The (1977)', 5589: 'Indian Summer (1993)', 5590: 'Mack, The (1973)', 5591: 'Monkey Trouble (1994)', 5596: 'Spaced Invaders (1990)', 5597: 'Suburban Commando (1991)', 5601: 'Yearling, The (1946)', 5602: 'Ladykillers, The (1955)', 5603: 'Lavender Hill Mob, The (1951)', 5604: 'Man in the White Suit, The (1951)', 5607: 'Son of the Bride (Hijo de la novia, El) (2001)', 5608: 'Das Experiment (Experiment, The) (2001)', 5609: 'Ballistic: Ecks vs. Sever (2002)', 5610: 'Banger Sisters, The (2002)', 5611: 'Four Feathers, The (2002)', 5612: 'Trapped (2002)', 5613: '8 Women (2002)', 5614: 'His Secret Life (a.k.a. Ignorant Fairies, The) (Fate ignoranti, Le) (2001)', 5615: 'Invincible (2001)', 5617: 'Secretary (2002)', 5618: 'Spirited Away (Sen to Chihiro no kamikakushi) (2001)', 5619: 'Trials of Henry Kissinger, The (2002)', 5620: 'Sweet Home Alabama (2002)', 5621: 'Tuxedo, The (2002)', 5625: 'Moonlight Mile (2002)', 5628: 'Wasabi (2001)', 5629: 'Jonah: A VeggieTales Movie (2002)', 5630: 'Red Dragon (2002)', 5632: 'Bloody Sunday (2002)', 5633: 'Heaven (2002)', 5635: 'Man from Elysian Fields, The (2001)', 5636: 'Welcome to Collinwood (2002)', 5637: 'Flirting (1991)', 5638: 'Godzilla vs. Mothra (Mosura tai Gojira) (1964)', 5640: 'Godzilla, King of the Monsters! (KaijÃ»-Ã´ Gojira) (1956)', 5643: 'Powaqqatsi (1988)', 5644: 'Pride of the Yankees, The (1942)', 5646: 'Valmont (1989)', 5649: 'Horror of Dracula (Dracula) (1958)', 5650: 'Strange Brew (1983)', 5651: 'Incredible Mr. Limpet, The (1964)', 5657: 'Flashback (1990)', 5663: 'Below (2002)', 5664: 'Brown Sugar (2002)', 5665: 'Knockaround Guys (2002)', 5666: 'Rules of Attraction, The (2002)', 5667: 'Tuck Everlasting (2002)', 5668: 'White Oleander (2002)', 5669: 'Bowling for Columbine (2002)', 5670: 'Comedian (2002)', 5672: 'Pokemon 4 Ever (a.k.a. PokÃ©mon 4: The Movie) (2002)', 5673: 'Punch-Drunk Love (2002)', 5675: 'Swept Away (2002)', 5678: 'Formula 51 (2001)', 5679: 'Ring, The (2002)', 5680: 'Auto Focus (2002)', 5682: 'Grey Zone, The (2001)', 5684: 'Naqoyqatsi (2002)', 5685: 'Real Women Have Curves (2002)', 5688: 'Tully (2000)', 5689: 'Billy Bathgate (1991)', 5690: 'Grave of the Fireflies (Hotaru no haka) (1988)', 5693: 'Saturday Night Fever (1977)', 5694: 'Staying Alive (1983)', 5696: 'Urban Cowboy (1980)', 5699: 'Tom Horn (1980)', 5700: 'The Pumaman (1980)', 5704: 'Without Warning (a.k.a. Alien Warning) (a.k.a. It Came Without Warning) (1980)', 5706: '...All the Marbles (1981)', 5707: 'Absence of Malice (1981)', 5710: 'Banana Joe (1981)', 5712: 'Blow Out (1981)', 5720: 'Friend Is a Treasure, A (Chi Trova Un Amico, Trova un Tesoro) (Who Finds a Friend Finds a Treasure) (1981)', 5721: 'Chosen, The (1981)', 5723: 'Continental Divide (1981)', 5733: 'Eyewitness (Janitor, The) (1981)', 5735: 'Faces of Death (1978)', 5736: 'Faces of Death 3 (1985)', 5741: \"Woman Next Door, The (Femme d'Ã\\xa0 cÃ´tÃ©, La) (1981)\", 5742: 'First Monday in October (1981)', 5745: 'Four Seasons, The (1981)', 5746: 'Galaxy of Terror (Quest) (1981)', 5747: 'Gallipoli (1981)', 5749: 'Ghost Story (1981)', 5752: \"Gregory's Girl (1981)\", 5755: 'Happy Birthday to Me (1981)', 5764: 'Looker (1981)', 5767: 'Teddy Bear (Mis) (1981)', 5768: 'Modern Problems (1981)', 5771: 'My Bloody Valentine (1981)', 5772: 'My Dinner with AndrÃ© (1981)', 5773: 'Neighbors (1981)', 5779: 'Piranha II: The Spawning (1981)', 5780: 'Polyester (1981)', 5782: 'Professional, The (Le professionnel) (1981)', 5784: 'Ghost Ship (2002)', 5785: 'Jackass: The Movie (2002)', 5786: 'Paid in Full (2002)', 5787: 'Truth About Charlie, The (2002)', 5788: 'All or Nothing (2002)', 5791: 'Frida (2002)', 5792: 'Roger Dodger (2002)', 5796: 'Casino Royale (1967)', 5797: 'Company of Wolves, The (1984)', 5799: 'Exodus (1960)', 5801: 'Russians Are Coming, the Russians Are Coming, The (1966)', 5802: 'World of Henry Orient, The (1964)', 5803: 'I Spy (2002)', 5804: 'Santa Clause 2, The (2002)', 5809: 'Femme Fatale (2002)', 5810: '8 Mile (2002)', 5812: 'Far from Heaven (2002)', 5816: 'Harry Potter and the Chamber of Secrets (2002)', 5817: 'Ararat (2002)', 5818: 'Crime of Father Amaro, The (Crimen del padre Amaro, El) (2002)', 5820: 'Standing in the Shadows of Motown (2002)', 5826: 'Rio Grande (1950)', 5828: 'Blackrock (1997)', 5829: 'Men with Brooms (2002)', 5833: 'Dog Soldiers (2002)', 5836: 'Houseboat (1958)', 5838: 'Madame Bovary (1991)', 5839: \"My Father's Glory (La gloire de mon pÃ¨re) (1990)\", 5840: \"My Mother's Castle (ChÃ¢teau de ma mÃ¨re, Le) (1990)\", 5841: 'Return to the Blue Lagoon (1991)', 5843: 'Toy Soldiers (1991)', 5847: 'Ragtime (1981)', 5849: \"I'm Starting From Three (Ricomincio da Tre) (1981)\", 5853: 'Scanners (1981)', 5856: 'Do You Remember Dolly Bell? (Sjecas li se, Dolly Bell) (1981)', 5863: 'Take This Job and Shove It (1981)', 5867: 'Thief (1981)', 5872: 'Die Another Day (2002)', 5873: \"The Emperor's Club (2002)\", 5874: 'Friday After Next (2002)', 5875: 'Personal Velocity (2002)', 5876: 'Quiet American, The (2002)', 5878: 'Talk to Her (Hable con Ella) (2002)', 5879: \"Eight Crazy Nights (Adam Sandler's Eight Crazy Nights) (2002)\", 5880: 'Extreme Ops (2002)', 5881: 'Solaris (2002)', 5882: 'Treasure Planet (2002)', 5883: 'They (2002)', 5884: 'Chopper Chicks in Zombietown (1989)', 5888: 'Brother (Brat) (1997)', 5889: 'Cruel Romance, A (Zhestokij Romans) (1984)', 5890: 'Elling (2001)', 5891: 'I Spit on Your Grave (Day of the Woman) (1978)', 5893: 'Last Seduction, The (1994)', 5896: 'New Waterford Girl (1999)', 5899: 'Zulu (1964)', 5900: 'Analyze That (2002)', 5901: 'Empire (2002)', 5902: 'Adaptation (2002)', 5903: 'Equilibrium (2002)', 5909: 'Visitor Q (Bizita Q) (2001)', 5912: 'Hit the Bank (Vabank) (1981)', 5915: 'Victory (a.k.a. Escape to Victory) (1981)', 5919: 'Android (1982)', 5922: 'Attila (Attila Flagello di Dio) (1982)', 5925: 'Beast Within, The (1982)', 5927: 'Best Little Whorehouse in Texas, The (1982)', 5929: 'Party 2, The (Boum 2, La) (1982)', 5932: 'Burden of Dreams (1982)', 5938: 'Deathtrap (1982)', 5941: 'Drumline (2002)', 5942: 'Hot Chick, The (2002)', 5943: 'Maid in Manhattan (2002)', 5944: 'Star Trek: Nemesis (2002)', 5945: 'About Schmidt (2002)', 5947: 'Evelyn (2002)', 5949: 'Intact (Intacto) (2001)', 5951: 'Morvern Callar (2002)', 5952: 'Lord of the Rings: The Two Towers, The (2002)', 5953: 'Devils on the Doorstep (Guizi lai le) (2000)', 5954: '25th Hour (2002)', 5955: 'Antwone Fisher (2002)', 5956: 'Gangs of New York (2002)', 5957: 'Two Weeks Notice (2002)', 5959: 'Narc (2002)', 5961: 'Blue Steel (1990)', 5962: 'Body of Evidence (1993)', 5963: \"Children's Hour, The (1961)\", 5965: 'Duellists, The (1977)', 5968: 'Miami Blues (1990)', 5969: 'My Girl 2 (1994)', 5970: 'My Girl (1991)', 5971: 'My Neighbor Totoro (Tonari no Totoro) (1988)', 5974: 'Thief of Bagdad, The (1940)', 5975: 'War and Peace (1956)', 5979: 'Attack of the Crab Monsters (1957)', 5980: 'Black Christmas (1974)', 5984: \"Story of O, The (Histoire d'O) (1975)\", 5986: 'Fat City (1972)', 5988: 'Quicksilver (1986)', 5989: 'Catch Me If You Can (2002)', 5990: 'Pinocchio (2002)', 5991: 'Chicago (2002)', 5992: 'Hours, The (2002)', 5993: 'Max (2002)', 5994: 'Nicholas Nickleby (2002)', 5995: 'Pianist, The (2002)', 5999: 'Heavy Metal 2000 (2000)', 6001: 'King of Comedy, The (1983)', 6002: 'Love Liza (2002)', 6003: 'Confessions of a Dangerous Mind (2002)', 6005: 'Blue Collar Comedy Tour: The Movie (2003)', 6006: 'Just Married (2003)', 6009: 'City of Lost Souls, The (HyÃ´ryuu-gai) (2000)', 6012: 'Guy Thing, A (2003)', 6013: 'Kangaroo Jack (2003)', 6014: 'National Security (2003)', 6016: 'City of God (Cidade de Deus) (2002)', 6020: 'Alice Adams (1935)', 6021: 'American Friend, The (Amerikanische Freund, Der) (1977)', 6022: 'American Me (1992)', 6023: 'Band of Outsiders (Bande Ã\\xa0 part) (1964)', 6025: 'CB4 - The Movie (1993)', 6027: 'Dogfight (1991)', 6030: 'Girls! Girls! Girls! (1962)', 6031: 'Imitation of Life (1959)', 6033: 'Mystery Date (1991)', 6035: 'PÃ©pÃ© le Moko (1937)', 6036: 'Secret Admirer (1985)', 6039: 'Woman in Red, The (1984)', 6040: 'Darkness Falls (2003)', 6041: 'Amen. (2002)', 6042: \"Blind Spot: Hitler's Secretary (Im toten Winkel - Hitlers SekretÃ¤rin) (2002)\", 6044: 'Blind Date (1984)', 6049: 'Ethan Frome (1993)', 6051: 'Harder They Come, The (1973)', 6055: 'Sugar Hill (1994)', 6057: 'Biker Boyz (2003)', 6058: 'Final Destination 2 (2003)', 6059: 'Recruit, The (2003)', 6060: 'Guru, The (2002)', 6062: 'Lost in La Mancha (2002)', 6063: 'May (2002)', 6064: 'Harder They Fall, The (1956)', 6067: 'Ordinary Decent Criminal (2000)', 6070: 'Tokyo Decadence (TopÃ¢zu) (1992)', 6078: 'Firefox (1982)', 6086: 'I, the Jury (1982)', 6090: 'Kiss Me Goodbye (1982)', 6093: 'Last Unicorn, The (1982)', 6095: 'Dragon Lord (a.k.a. Dragon Strike) (Long Xiao Ye) (1982)', 6100: \"Midsummer Night's Sex Comedy, A (1982)\", 6101: 'Missing (1982)', 6104: 'Monty Python Live at the Hollywood Bowl (1982)', 6107: 'Night of the Shooting Stars (Notte di San Lorenzo, La) (1982)', 6111: 'Paradise (1982)', 6116: 'Pirate Movie, The (1982)', 6119: 'Santa Claus Is a Stinker (Le PÃ¨re NoÃ«l est une ordure) (1982)', 6122: 'Richard Pryor Live on the Sunset Strip (1982)', 6123: 'Sunless (Sans Soleil) (1983)', 6124: 'Savannah Smiles (1982)', 6125: \"Secret Policeman's Other Ball, The (1982)\", 6140: 'Tenebre (1982)', 6141: 'They Call Me Bruce? (a.k.a. A Fistful of Chopsticks) (1982)', 6143: 'Trail of the Pink Panther (1982)', 6145: 'Venom (1982)', 6148: 'White Dog (1982)', 6153: 'Zapped! (1982)', 6155: 'How to Lose a Guy in 10 Days (2003)', 6156: 'Shanghai Knights (2003)', 6157: 'Daredevil (2003)', 6158: 'Jungle Book 2, The (2003)', 6159: 'All the Real Girls (2003)', 6162: 'Gerry (2002)', 6163: 'He Loves Me... He Loves Me Not (Ã\\x80 la folie... pas du tout) (2002)', 6166: 'Dennis the Menace (1993)', 6169: 'Black Stallion Returns, The (1983)', 6170: 'Black Stallion, The (1979)', 6178: 'Patch of Blue, A (1965)', 6181: 'Red Badge of Courage, The (1951)', 6182: 'Thrill of It All, The (1963)', 6183: 'Pillow Talk (1959)', 6184: 'Man Who Fell to Earth, The (1976)', 6185: 'Dark Blue (2003)', 6186: 'Gods and Generals (2003)', 6187: 'Life of David Gale, The (2003)', 6188: 'Old School (2003)', 6192: 'Open Hearts (Elsker dig for evigt) (2002)', 6193: 'Poolhall Junkies (2002)', 6195: 'Stone Reader (2002)', 6196: 'Cradle 2 the Grave (2003)', 6197: 'Spider (2002)', 6201: 'Lady Jane (1986)', 6202: 'Late Marriage (Hatuna Meuheret) (2001)', 6203: 'Life Stinks (1991)', 6204: 'Meteor Man, The (1993)', 6210: 'Volcano High (Whasango) (2001)', 6212: 'Bringing Down the House (2003)', 6213: 'Tears of the Sun (2003)', 6214: 'Irreversible (IrrÃ©versible) (2002)', 6215: 'Laurel Canyon (2002)', 6216: 'Nowhere in Africa (Nirgendwo in Afrika) (2001)', 6217: 'Safety of Objects, The (2001)', 6218: 'Bend It Like Beckham (2002)', 6219: 'Hunted, The (2003)', 6220: 'Willard (2003)', 6222: 'Prozac Nation (2001)', 6223: 'Spun (2001)', 6225: 'King of Kings (1961)', 6228: 'Talk of the Town, The (1942)', 6232: 'Born Free (1966)', 6234: 'Equus (1977)', 6235: 'Europa Europa (Hitlerjunge Salomon) (1990)', 6237: 'Glenn Miller Story, The (1953)', 6238: 'Green Card (1990)', 6239: 'Journey to the Center of the Earth (1959)', 6241: 'Pauline at the Beach (Pauline Ã\\xa0 la Plage) (1983)', 6242: 'Ringu (Ring) (1998)', 6244: 'Salaam Bombay! (1988)', 6245: 'Sweet Charity (1969)', 6246: 'Talent for the Game (1991)', 6249: 'Boat Trip (2003)', 6250: 'Dreamcatcher (2003)', 6251: \"Piglet's Big Movie (2003)\", 6252: 'View from the Top (2003)', 6254: 'Awful Truth, The (1937)', 6263: 'Basic (2003)', 6264: 'Core, The (2003)', 6265: 'Head of State (2003)', 6266: 'What a Girl Wants (2003)', 6267: 'Assassination Tango (2002)', 6268: 'Raising Victor Vargas (2002)', 6269: 'Stevie (2002)', 6270: \"Akira Kurosawa's Dreams (Dreams) (1990)\", 6271: 'Day for Night (La Nuit AmÃ©ricaine) (1973)', 6273: 'In a Lonely Place (1950)', 6279: 'Good Thief, The (2002)', 6280: 'Man Apart, A (2003)', 6281: 'Phone Booth (2002)', 6283: 'Cowboy Bebop: The Movie (Cowboy Bebop: Tengoku no Tobira) (2001)', 6285: 'Levity (2003)', 6286: 'Man Without a Past, The (Mies vailla menneisyyttÃ¤) (2002)', 6287: 'Anger Management (2003)', 6288: 'Better Luck Tomorrow (2002)', 6289: 'Ghosts of the Abyss (2003)', 6290: 'House of 1000 Corpses (2003)', 6291: 'Lilya 4-Ever (Lilja 4-ever) (2002)', 6294: 'Bulletproof Monk (2003)', 6295: 'Chasing Papi (a.k.a. Papi Chulo) (2003)', 6296: 'Mighty Wind, A (2003)', 6297: 'Holes (2003)', 6298: \"Malibu's Most Wanted (2003)\", 6299: 'Winged Migration (Peuple migrateur, Le) (2001)', 6300: 'Flickering Lights (Blinkende lygter) (2000)', 6301: 'Straw Dogs (1971)', 6302: 'Beginning of the End (1957)', 6303: 'Andromeda Strain, The (1971)', 6305: 'Fahrenheit 451 (1966)', 6306: 'I Am Trying to Break Your Heart (2002)', 6308: 'Legal Eagles (1986)', 6310: 'Memories of Me (1988)', 6313: 'Sibling Rivalry (1990)', 6314: 'Undercover Blues (1993)', 6315: 'Wildcats (1986)', 6316: 'Wiz, The (1978)', 6319: 'My Father the Hero (Mon pÃ¨re, ce hÃ©ros.) (1991)', 6320: 'Scenes from a Mall (1991)', 6322: 'Confidence (2003)', 6323: 'Identity (2003)', 6324: 'It Runs in the Family (2003)', 6327: 'Decade Under the Influence, A (2003)', 6329: 'Manic (2001)', 6330: 'People I Know (2002)', 6331: 'Spellbound (2002)', 6332: 'Lizzie McGuire Movie, The (2003)', 6333: 'X2: X-Men United (2003)', 6334: 'Blue Car (2002)', 6335: 'Dancer Upstairs, The (2002)', 6336: 'Marooned in Iraq (Gomgashtei dar Aragh) (2002)', 6337: 'Owning Mahowny (2003)', 6338: 'Daddy Day Care (2003)', 6339: \"Man on the Train (Homme du train, L') (2002)\", 6341: 'Shape of Things, The (2003)', 6342: 'Trip, The (2002)', 6344: '101 Reykjavik (101 ReykjavÃ\\xadk) (2000)', 6345: 'Chorus Line, A (1985)', 6347: 'Beat Street (1984)', 6348: \"Breakin' 2: Electric Boogaloo (1984)\", 6349: \"Breakin' (1984)\", 6350: 'Laputa: Castle in the Sky (TenkÃ» no shiro Rapyuta) (1986)', 6357: 'High Society (1956)', 6358: 'Kiss Me Kate (1953)', 6365: 'Matrix Reloaded, The (2003)', 6367: 'Down with Love (2003)', 6368: 'Cinemania (2002)', 6370: \"Spanish Apartment, The (L'auberge espagnole) (2002)\", 6371: 'PokÃ©mon Heroes (2003)', 6373: 'Bruce Almighty (2003)', 6374: 'In-Laws, The (2003)', 6375: 'Gigantic (A Tale of Two Johns) (2002)', 6376: 'Respiro (2002)', 6377: 'Finding Nemo (2003)', 6378: 'Italian Job, The (2003)', 6379: 'Wrong Turn (2003)', 6380: 'Capturing the Friedmans (2003)', 6382: 'Together (Han ni Zai Yiki) (2002)', 6383: '2 Fast 2 Furious (Fast and the Furious 2, The) (2003)', 6385: 'Whale Rider (2002)', 6386: 'Nevada Smith (1966)', 6387: 'Once a Thief (Zong heng si hai) (1991)', 6390: 'Silk Stockings (1957)', 6395: 'Crazies, The (a.k.a. Code Name: Trixie) (1973)', 6400: 'Murder on a Sunday Morning (Un coupable idÃ©al) (2001)', 6402: 'Siam Sunset (1999)', 6405: 'Treasure Island (1950)', 6407: \"Walk, Don't Run (1966)\", 6408: 'Animals are Beautiful People (1974)', 6410: 'Car Wash (1976)', 6412: 'Destry Rides Again (1939)', 6415: 'Intervista (1987)', 6417: 'Live Wire (1992)', 6422: 'Shenandoah (1965)', 6424: 'Oscar (1991)', 6425: '6th Man, The (Sixth Man, The) (1997)', 6427: 'Railway Children, The (1970)', 6428: 'Two Mules for Sister Sara (1970)', 6429: \"Winchester '73 (1950)\", 6433: 'Man with the Movie Camera, The (Chelovek s kino-apparatom) (1929)', 6434: 'Objective, Burma! (1945)', 6436: \"This Boy's Life (1993)\", 6440: 'Barton Fink (1991)', 6442: 'Belle Ã©poque (1992)', 6448: 'Flight of the Phoenix, The (1965)', 6449: 'From the Terrace (1960)', 6452: 'Long, Hot Summer, The (1958)', 6453: 'Man of Aran (1934)', 6454: 'Music Box (1989)', 6460: 'Trial, The (ProcÃ¨s, Le) (1962)', 6461: 'Unforgiven, The (1960)', 6464: 'Good Burger (1997)', 6465: 'Jubilee (1977)', 6466: 'Mississippi Masala (1991)', 6476: 'Shattered (1991)', 6477: 'Song of Bernadette, The (1943)', 6480: 'Thoroughly Modern Millie (1967)', 6482: 'Dumb and Dumberer: When Harry Met Lloyd (2003)', 6483: 'From Justin to Kelly (2003)', 6484: 'Hollywood Homicide (2003)', 6493: 'Alex and Emma (2003)', 6502: '28 Days Later (2002)', 6503: \"Charlie's Angels: Full Throttle (2003)\", 6506: 'Fulltime Killer (Chuen jik sat sau) (2001)', 6509: 'Ali: Fear Eats the Soul (Angst essen Seele auf) (1974)', 6510: 'Bodies, Rest & Motion (1993)', 6514: 'Ring of Terror (1962)', 6515: 'You Only Live Once (1937)', 6516: 'Anastasia (1956)', 6517: 'Babe, The (1992)', 6523: 'Mr. Baseball (1992)', 6527: 'Scaramouche (1952)', 6528: 'Start the Revolution Without Me (1970)', 6530: 'Tenant, The (Locataire, Le) (1976)', 6533: \"What's Up, Doc? (1972)\", 6534: 'Hulk (2003)', 6535: 'Legally Blonde 2: Red, White & Blonde (2003)', 6536: 'Sinbad: Legend of the Seven Seas (2003)', 6537: 'Terminator 3: Rise of the Machines (2003)', 6538: 'Swimming Pool (2003)', 6539: 'Pirates of the Caribbean: The Curse of the Black Pearl (2003)', 6541: 'League of Extraordinary Gentlemen, The (a.k.a. LXG) (2003)', 6542: 'Cuckoo, The (Kukushka) (2002)', 6545: 'I Capture the Castle (2003)', 6547: 'Northfork (2003)', 6548: 'Bad Boys II (2003)', 6549: 'How to Deal (2003)', 6550: 'Johnny English (2003)', 6551: 'Anarchist Cookbook, The (2002)', 6552: 'Dirty Pretty Things (2002)', 6553: \"Embalmer, The (Imbalsamatore, L') (2002)\", 6554: 'Garage Days (2002)', 6557: 'Born to Be Wild (1995)', 6558: 'Curly Sue (1991)', 6559: 'Little Giants (1994)', 6560: 'Loose Cannons (1990)', 6561: 'Mouse That Roared, The (1959)', 6563: 'Masked & Anonymous (2003)', 6564: 'Lara Croft Tomb Raider: The Cradle of Life (2003)', 6565: 'Seabiscuit (2003)', 6566: 'Spy Kids 3-D: Game Over (2003)', 6567: 'Buffalo Soldiers (2001)', 6568: 'Camp (2003)', 6571: 'Mondays in the Sun (Lunes al sol, Los) (2002)', 6572: 'Scorched (2003)', 6573: 'Avanti! (1972)', 6574: 'Eve of Destruction (1991)', 6577: 'Kickboxer 2: The Road Back (1991)', 6578: 'Kiss Me, Stupid (1964)', 6579: 'One, Two, Three (1961)', 6581: 'Private Life of Sherlock Holmes, The (1970)', 6582: 'Remo Williams: The Adventure Begins (1985)', 6583: 'Blood of Heroes, The (Salute of the Jugger, The) (1989)', 6584: \"What's Up, Tiger Lily? (1966)\", 6586: 'American Wedding (American Pie 3) (2003)', 6587: 'Gigli (2003)', 6588: 'And Now... Ladies and Gentlemen... (2002)', 6591: 'Magdalene Sisters, The (2002)', 6592: 'Secret Lives of Dentists, The (2002)', 6593: 'Freaky Friday (2003)', 6595: 'S.W.A.T. (2003)', 6596: 'Divorce, Le (2003)', 6597: 'Princess Blade, The (Shura Yukihime) (2001)', 6598: 'Step Into Liquid (2002)', 6603: 'Double Life, A (1947)', 6604: 'Hawks and Sparrows (Uccellacci e Uccellini) (1966)', 6609: 'Gospel According to St. Matthew, The (Vangelo secondo Matteo, Il) (1964)', 6611: 'Umberto D. (1952)', 6612: \"Brother's Keeper (1992)\", 6614: 'I Love You to Death (1990)', 6615: 'Freddy vs. Jason (2003)', 6616: 'Grind (2003)', 6617: 'Open Range (2003)', 6618: 'Shaolin Soccer (Siu lam juk kau) (2001)', 6619: 'Uptown Girls (2003)', 6620: 'American Splendor (2003)', 6624: 'Agent Cody Banks (2003)', 6625: 'Camp Nowhere (1994)', 6628: 'Hot Dog... The Movie (1984)', 6629: 'House of Wax (1953)', 6631: \"Man's Best Friend (1993)\", 6636: 'Sure Thing, The (1985)', 6638: 'Valley Girl (1983)', 6639: 'Wait Until Dark (1967)', 6643: 'Tokyo Story (TÃ´kyÃ´ monogatari) (1953)', 6644: 'Green Ray, The (Rayon vert, Le) (1986)', 6645: 'THX 1138 (1971)', 6650: 'Kind Hearts and Coronets (1949)', 6654: 'Atragon (Kaitei Gunkan) (1963)', 6656: 'Attack of the Puppet People (1958)', 6658: '10 (1979)', 6659: 'Tremors (1990)', 6660: 'Red Shoes, The (1948)', 6662: 'Pink Panther, The (1963)', 6663: 'Pink Panther Strikes Again, The (1976)', 6664: 'Commando (1985)', 6665: 'Dracula (1979)', 6666: 'Discreet Charm of the Bourgeoisie, The (Charme discret de la bourgeoisie, Le) (1972)', 6667: 'Waco: The Rules of Engagement (1997)', 6668: 'Road Home, The (Wo de fu qin mu qin) (1999)', 6669: 'Ikiru (1952)', 6670: 'Comic Book Villains (2002)', 6671: 'Angel at My Table, An (1990)', 6678: \"Handmaid's Tale, The (1990)\", 6679: 'Revolution OS (2001)', 6684: 'Death in Venice (Morte a Venezia) (1971)', 6686: 'Medallion, The (2003)', 6687: \"My Boss's Daughter (2003)\", 6688: 'Autumn Spring (BabÃ\\xad lÃ©to) (2001)', 6689: 'Battle of Shaker Heights, The (2003)', 6691: 'Dust (2001)', 6692: 'Stoked: The Rise and Fall of Gator (2002)', 6695: 'Jeepers Creepers 2 (2003)', 6696: 'Bollywood/Hollywood (2002)', 6699: 'Once Upon a Time in the Midlands (2002)', 6702: 'Dickie Roberts: Former Child Star (2003)', 6705: 'Party Monster (2003)', 6706: 'Taking Sides (2001)', 6707: 'Cabin Fever (2002)', 6708: 'Matchstick Men (2003)', 6709: 'Once Upon a Time in Mexico (2003)', 6710: 'Dummy (2002)', 6711: 'Lost in Translation (2003)', 6713: 'Millennium Actress (Sennen joyÃ») (2001)', 6715: 'Children of the Night (1991)', 6718: 'Gotcha! (1985)', 6720: 'Kuffs (1992)', 6721: 'Once Upon a Time in China (Wong Fei Hung) (1991)', 6722: 'Once Upon a Time in China II (Wong Fei-hung Ji Yi: Naam yi dong ji keung) (1992)', 6723: 'Once Upon a Time in China III (Wong Fei-hung tsi sam: Siwong tsangba) (1993)', 6724: 'Paper Moon (1973)', 6731: 'Day of the Dead (1985)', 6732: 'Hello, Dolly! (1969)', 6734: 'Memoirs of an Invisible Man (1992)', 6744: 'Once Bitten (1985)', 6746: 'Squirm (1976)', 6748: 'Brood, The (1979)', 6750: 'Anything Else (2003)', 6751: 'Cold Creek Manor (2003)', 6752: 'Fighting Temptations, The (2003)', 6753: 'Secondhand Lions (2003)', 6754: 'Underworld (2003)', 6755: 'Bubba Ho-tep (2002)', 6760: 'In This World (2002)', 6763: 'Duplex (2003)', 6764: 'Rundown, The (2003)', 6765: 'Under the Tuscan Sun (2003)', 6768: 'Luther (2003)', 6769: 'Mambo Italiano (2003)', 6770: 'My Life Without Me (2003)', 6772: 'To Be and to Have (Ã\\x8atre et avoir) (2002)', 6773: 'Triplets of Belleville, The (Les triplettes de Belleville) (2003)', 6774: 'Videodrome (1983)', 6775: 'Life and Debt (2001)', 6776: 'Lagaan: Once Upon a Time in India (2001)', 6777: 'Judgment at Nuremberg (1961)', 6780: 'Brief History of Time, A (1991)', 6782: 'Leningrad Cowboys Go America (1989)', 6783: 'Rules of the Game, The (La rÃ¨gle du jeu) (1939)', 6785: 'Seven Brides for Seven Brothers (1954)', 6786: 'Kiss of the Spider Woman (1985)', 6787: \"All the President's Men (1976)\", 6788: 'Angie (1994)', 6789: \"Apartment, The (Appartement, L') (1996)\", 6790: 'Avalon (2001)', 6791: \"Babette's Feast (Babettes gÃ¦stebud) (1987)\", 6793: 'Beethoven (1992)', 6794: \"Beethoven's 2nd (1993)\", 6796: 'Boyz N the Hood (1991)', 6797: 'Bugsy (1991)', 6798: 'Bugsy Malone (1976)', 6800: 'Cobra (1986)', 6803: 'Phenomena (a.k.a. Creepers) (1985)', 6804: 'Crimewave (1985)', 6807: \"Monty Python's The Meaning of Life (1983)\", 6808: 'Where Eagles Dare (1968)', 6809: 'Tightrope (1984)', 6810: 'Sleeping with the Enemy (1991)', 6811: 'PCU (1994)', 6812: 'Rookie, The (1990)', 6814: 'City Heat (1984)', 6816: \"Three O'Clock High (1987)\", 6817: 'White Hunter, Black Heart (1990)', 6818: 'Come and See (Idi i smotri) (1985)', 6820: 'Ginger Snaps (2000)', 6821: 'More American Graffiti (1979)', 6827: \"It's Pat (1994)\", 6832: 'Regarding Henry (1991)', 6835: 'Alien Contamination (1980)', 6836: 'Amazing Transparent Man, The (1960)', 6837: 'Love Affair (1939)', 6849: 'Scrooge (1970)', 6850: 'Leap of Faith (1992)', 6851: 'Gas, Food, Lodging (1992)', 6852: 'In Cold Blood (1967)', 6853: 'Campus Man (1987)', 6856: 'Yankee Doodle Dandy (1942)', 6857: 'Ninja Scroll (JÃ»bei ninpÃ»chÃ´) (1995)', 6858: 'Knife in the Water (NÃ³z w wodzie) (1962)', 6860: 'Mobsters (1991)', 6862: 'Out of Time (2003)', 6863: 'School of Rock (2003)', 6867: 'Station Agent, The (2003)', 6868: 'Wonderland (2003)', 6869: 'Bus 174 (Ã\\x94nibus 174) (2002)', 6870: 'Mystic River (2003)', 6872: 'House of the Dead, The (2003)', 6873: 'Intolerable Cruelty (2003)', 6874: 'Kill Bill: Vol. 1 (2003)', 6879: 'Runaway Jury (2003)', 6880: 'Texas Chainsaw Massacre, The (2003)', 6881: 'Pieces of April (2003)', 6882: 'Returner (Ritaanaa) (2002)', 6883: 'Sylvia (2003)', 6884: 'Veronica Guerin (2003)', 6885: 'In the Cut (2003)', 6886: 'Beyond Borders (2003)', 6887: 'Radio (2003)', 6888: 'Scary Movie 3 (2003)', 6889: 'Brother Bear (2003)', 6890: 'Elephant (2003)', 6893: 'Italian Job, The (1969)', 6898: 'Sweet Sixteen (2002)', 6899: 'Alien from L.A. (1988)', 6902: 'Interstate 60 (2002)', 6909: 'Eye, The (Gin gwai) (Jian gui) (2002)', 6911: 'Jolson Story, The (1946)', 6912: \"You'll Never Get Rich (1941)\", 6918: 'Unvanquished, The (Aparajito) (1957)', 6920: 'Cercle Rouge, Le (Red Circle, The) (1970)', 6927: 'Human Stain, The (2003)', 6932: 'Shattered Glass (2003)', 6934: 'Matrix Revolutions, The (2003)', 6935: 'Revolution Will Not Be Televised, The (a.k.a. Chavez: Inside the Coup) (2003)', 6936: 'Elf (2003)', 6938: 'Billabong Odyssey (2003)', 6939: 'Gloomy Sunday (Ein Lied von Liebe und Tod) (1999)', 6942: 'Love Actually (2003)', 6944: 'Father of the Bride (1991)', 6945: \"My Architect: A Son's Journey (2003)\", 6946: 'Looney Tunes: Back in Action (2003)', 6947: 'Master and Commander: The Far Side of the World (2003)', 6948: 'Tupac: Resurrection (2003)', 6949: 'Big Empty, The (2003)', 6950: 'Missing, The (2003)', 6951: 'Cat in the Hat, The (2003)', 6952: 'Gothika (2003)', 6953: '21 Grams (2003)', 6954: 'Barbarian Invasions, The (Les invasions barbares) (2003)', 6957: 'Bad Santa (2003)', 6958: 'Haunted Mansion, The (2003)', 6959: 'Timeline (2003)', 6961: 'Damage (Fatale) (1992)', 6962: 'OT: Our Town (2002)', 6963: \"Devil's Playground (2002)\", 6965: 'Journeys with George (2002)', 6966: 'Darkman (1990)', 6967: 'Dead of Night (1945)', 6969: 'Dernier Combat, Le (Last Battle, The) (1983)', 6970: 'Desk Set (1957)', 6971: 'Europa (Zentropa) (1991)', 6973: 'Final Analysis (1992)', 6974: 'Freshman, The (1990)', 6975: 'Funny Games (1997)', 6978: 'Slacker (1991)', 6979: 'WarGames (1983)', 6981: 'Ordet (Word, The) (1955)', 6982: 'Forbidden Games (Jeux interdits) (1952)', 6983: 'Jane Eyre (1944)', 6984: 'Tale of Two Cities, A (1935)', 6985: \"Passion of Joan of Arc, The (Passion de Jeanne d'Arc, La) (1928)\", 6986: 'Ben-Hur: A Tale of the Christ (1925)', 6987: 'Cabinet of Dr. Caligari, The (Cabinet des Dr. Caligari., Das) (1920)', 6989: 'Gorky Park (1983)', 6990: 'The Great Train Robbery (1978)', 6992: 'Guarding Tess (1994)', 6993: 'Hannah and Her Sisters (1986)', 6994: 'Hard Way, The (1991)', 6996: 'Highlander II: The Quickening (1991)', 6997: 'Hoffa (1992)', 6998: 'House of Cards (1993)', 6999: 'Housesitter (1992)', 7000: 'Hudson Hawk (1991)', 7001: 'Invasion of the Body Snatchers (1978)', 7004: 'Kindergarten Cop (1990)', 7005: 'King Ralph (1991)', 7007: 'Last Boy Scout, The (1991)', 7008: 'Last Tango in Paris (Ultimo tango a Parigi) (1972)', 7009: \"Lorenzo's Oil (1992)\", 7010: \"Lover, The (Amant, L') (1992)\", 7012: 'Mr. Destiny (1990)', 7013: 'Night of the Hunter, The (1955)', 7015: 'Only the Lonely (1991)', 7016: 'Over the Top (1987)', 7017: 'Passenger 57 (1992)', 7018: 'Presumed Innocent (1990)', 7019: 'Project X (1987)', 7020: 'Proof (1991)', 7022: 'Battle Royale (Batoru rowaiaru) (2000)', 7023: 'Wedding Banquet, The (Xi yan) (1993)', 7024: 'Salo, or The 120 Days of Sodom (SalÃ² o le 120 giornate di Sodoma) (1976)', 7025: 'Midnight Clear, A (1992)', 7026: 'Summer School (1987)', 7027: 'Silverado (1985)', 7028: 'Quick Change (1990)', 7030: 'Radio Flyer (1992)', 7031: 'Real McCoy, The (1993)', 7032: 'Revenge (1990)', 7033: 'Secret of My Succe$s, The (a.k.a. The Secret of My Success) (1987)', 7034: 'Show Me Love (Fucking Ã\\x85mÃ¥l) (1998)', 7036: 'Teen Wolf (1985)', 7037: 'High Heels (Tacones lejanos) (1991)', 7038: 'Things You Can Tell Just by Looking at Her (2000)', 7040: 'To Live and Die in L.A. (1985)', 7041: 'Trapped in Paradise (1994)', 7044: 'Wild at Heart (1990)', 7045: 'Witches, The (1990)', 7046: 'Witches of Eastwick, The (1987)', 7047: 'Year of the Dragon (1985)', 7048: 'Nothing to Lose (1997)', 7049: 'Flying Down to Rio (1933)', 7050: 'Follow the Fleet (1936)', 7051: \"What's New, Pussycat (1965)\", 7052: 'Mary of Scotland (1936)', 7053: 'Roberta (1935)', 7054: 'Little Women (1949)', 7055: 'Swing Time (1936)', 7056: 'Public Enemy, The (1931)', 7057: \"Midsummer Night's Dream, A (1935)\", 7058: 'Life with Father (1947)', 7059: 'National Velvet (1944)', 7060: 'Jesus Christ Superstar (1973)', 7061: 'Dark Victory (1939)', 7062: 'Birdman of Alcatraz (1962)', 7063: 'Aguirre: The Wrath of God (Aguirre, der Zorn Gottes) (1972)', 7064: 'Beauty and the Beast (La belle et la bÃªte) (1946)', 7065: 'Birth of a Nation, The (1915)', 7067: 'Juliet of the Spirits (Giulietta degli spiriti) (1965)', 7069: 'Macbeth (a.k.a. Tragedy of Macbeth, The) (1971)', 7070: 'Red River (1948)', 7071: 'Woman Under the Influence, A (1974)', 7072: 'Stagecoach (1939)', 7073: 'Shot in the Dark, A (1964)', 7074: 'Navigator, The (1924)', 7075: 'Court Jester, The (1956)', 7076: 'Bullitt (1968)', 7078: 'Jezebel (1938)', 7079: 'Hunchback of Notre Dame, The (1939)', 7080: '42nd Street (1933)', 7082: 'That Touch of Mink (1962)', 7083: 'Sweet Dreams (1985)', 7084: 'Play It Again, Sam (1972)', 7085: 'Send Me No Flowers (1964)', 7086: 'Pygmalion (1938)', 7087: 'Passage to India, A (1984)', 7088: 'Black Orpheus (Orfeu Negro) (1959)', 7089: 'Amarcord (1973)', 7090: 'Hero (Ying xiong) (2002)', 7091: 'Horse Feathers (1932)', 7092: 'Anna Karenina (1935)', 7093: 'Front Page, The (1974)', 7096: 'Rivers and Tides (2001)', 7099: 'NausicaÃ¤ of the Valley of the Wind (Kaze no tani no Naushika) (1984)', 7101: 'Doc Hollywood (1991)', 7102: 'Dragnet (1987)', 7103: 'Madhouse (1990)', 7104: '1941 (1979)', 7107: 'Foul Play (1978)', 7108: 'Crime Story (Zhong an zu) (1993)', 7109: 'Beyond the Clouds (Al di lÃ\\xa0 delle nuvole) (1996)', 7114: 'Collector, The (1965)', 7115: 'Deep Red (Profondo rosso) (1975)', 7116: 'Diabolique (Les diaboliques) (1955)', 7117: 'Leprechaun (1993)', 7118: 'Wings of Honneamise (Ã\\x94ritsu uchÃ»gun Oneamisu no tsubasa) (1987)', 7121: \"Adam's Rib (1949)\", 7122: 'King of Hearts (1966)', 7123: 'Naked Lunch (1991)', 7124: 'Grass (1999)', 7125: 'Spring Forward (1999)', 7127: 'Run (1991)', 7131: 'Summer Place, A (1959)', 7132: 'Night at the Opera, A (1935)', 7134: 'Element of Crime, The (Forbrydelsens Element) (1984)', 7137: 'Cooler, The (2003)', 7139: 'In America (2002)', 7141: 'My Flesh and Blood (2003)', 7142: 'Honey (2003)', 7143: 'Last Samurai, The (2003)', 7147: 'Big Fish (2003)', 7149: \"Something's Gotta Give (2003)\", 7150: 'Stuck on You (2003)', 7151: 'Girl with a Pearl Earring (2003)', 7153: 'Lord of the Rings: The Return of the King, The (2003)', 7154: 'Mona Lisa Smile (2003)', 7155: 'Calendar Girls (2003)', 7156: 'Fog of War: Eleven Lessons from the Life of Robert S. McNamara, The (2003)', 7158: 'House of Sand and Fog (2003)', 7160: 'Monster (2003)', 7161: 'Cheaper by the Dozen (2003)', 7162: 'Cold Mountain (2003)', 7163: 'Paycheck (2003)', 7164: 'Peter Pan (2003)', 7165: 'Company, The (2003)', 7167: 'Japanese Story (2003)', 7169: 'Chasing Liberty (2004)', 7171: 'Aileen: Life and Death of a Serial Killer (2003)', 7173: 'Along Came Polly (2004)', 7175: 'Torque (2004)', 7176: 'Crimson Gold (Talaye sorgh) (2003)', 7177: 'Osama (2003)', 7178: 'Great Gatsby, The (1974)', 7179: 'Wuthering Heights (1992)', 7181: 'Ship of Fools (1965)', 7184: 'This Property is Condemned (1966)', 7190: 'Jane Eyre (1970)', 7191: 'Blame It on the Bellboy (1992)', 7192: 'Only the Strong (1993)', 7193: 'Adventures of Ford Fairlane, The (1990)', 7202: 'Beyond Re-Animator (2003)', 7205: 'Wind and the Lion, The (1975)', 7206: 'Mon Oncle (My Uncle) (1958)', 7208: 'Dr. Jekyll and Mr. Hyde (1941)', 7209: \"M. Hulotâ\\x80\\x99s Holiday (Mr. Hulot's Holiday) (Vacances de Monsieur Hulot, Les) (1953)\", 7211: 'People Will Talk (1951)', 7212: 'I Was a Male War Bride (1949)', 7215: 'To Have and Have Not (1944)', 7216: 'High Sierra (1941)', 7217: 'Dark Passage (1947)', 7218: 'Ox-Bow Incident, The (1943)', 7219: 'They Drive by Night (1940)', 7222: 'Reefer Madness (a.k.a. Tell Your Children) (1938)', 7223: 'D.O.A. (1950)', 7225: 'Pumping Iron (1977)', 7228: 'Cool World (1992)', 7234: 'Strada, La (1954)', 7235: 'Ichi the Killer (Koroshiya 1) (2001)', 7236: 'Boy and His Dog, A (1975)', 7238: 'Ashes and Diamonds (PopiÃ³l i diament) (1958)', 7243: \"Intolerance: Love's Struggle Throughout the Ages (1916)\", 7245: 'Tormented (1960)', 7247: 'Chitty Chitty Bang Bang (1968)', 7248: 'Suriyothai (a.k.a. Legend of Suriyothai, The) (2001)', 7251: 'Where the Day Takes You (1992)', 7254: 'The Butterfly Effect (2004)', 7255: 'Win a Date with Tad Hamilton! (2004)', 7256: 'Touching the Void (2003)', 7257: 'Big Bounce, The (2004)', 7258: 'Perfect Score, The (2004)', 7259: 'You Got Served (2004)', 7260: 'Latter Days (2003)', 7261: 'Barbershop 2: Back in Business (2004)', 7262: 'Catch That Kid (2004)', 7263: 'Miracle (2004)', 7264: 'An Amazing Couple (2002)', 7265: 'Dreamers, The (2003)', 7266: 'Lost Skeleton of Cadavra, The (2002)', 7282: 'Hip Hop Witch, Da (2000)', 7285: 'Thirteen (2003)', 7292: 'Best Defense (1984)', 7293: '50 First Dates (2004)', 7294: 'Welcome to Mooseport (2004)', 7297: 'Kitchen Stories (Salmer fra kjÃ¸kkenet) (2003)', 7299: 'Monsieur Ibrahim (Monsieur Ibrahim et les fleurs du Coran) (2003)', 7301: \"Diary of a Country Priest (Journal d'un curÃ© de campagne) (1951)\", 7302: 'Thief of Bagdad, The (1924)', 7303: 'The Diary of Anne Frank (1959)', 7304: 'Allegro non troppo (1977)', 7305: 'Black Widow (1987)', 7306: \"Herod's Law (Ley de Herodes, La) (2000)\", 7307: 'Flesh & Blood (1985)', 7308: \"King Solomon's Mines (1985)\", 7310: 'Raw Deal (1986)', 7311: 'Goodbye, Mr. Chips (1939)', 7312: 'Follow Me, Boys! (1966)', 7315: 'Against the Ropes (2004)', 7316: 'Confessions of a Teenage Drama Queen (2004)', 7317: 'EuroTrip (2004)', 7318: 'Passion of the Christ, The (2004)', 7319: 'Club Dread (2004)', 7320: 'Dirty Dancing: Havana Nights (2004)', 7321: 'Twisted (2004)', 7323: 'Good bye, Lenin! (2003)', 7324: 'Hidalgo (2004)', 7325: 'Starsky & Hutch (2004)', 7326: 'Reckoning, The (2004)', 7327: 'Persona (1966)', 7328: 'Passion of Anna, The (Passion, En) (1969)', 7333: 'Corbeau, Le (Raven, The) (1943)', 7335: 'Pickup on South Street (1953)', 7336: 'Damned, The (La Caduta degli dei) (1969)', 7340: 'Just One of the Guys (1985)', 7344: 'Wrong Arm of the Law, The (1963)', 7345: 'Agent Cody Banks 2: Destination London (2004)', 7346: 'Girl Next Door, The (2004)', 7347: 'Secret Window (2004)', 7348: 'Spartan (2004)', 7349: 'Broken Wings (Knafayim Shvurot) (2002)', 7352: 'Wilbur Wants to Kill Himself (2002)', 7354: 'Mad Dog and Glory (1993)', 7357: 'Peyton Place (1957)', 7360: 'Dawn of the Dead (2004)', 7361: 'Eternal Sunshine of the Spotless Mind (2004)', 7362: 'Taking Lives (2004)', 7364: 'Intermission (2003)', 7366: 'Jersey Girl (2004)', 7367: 'Ladykillers, The (2004)', 7368: 'Never Die Alone (2004)', 7369: 'Scooby-Doo 2: Monsters Unleashed (2004)', 7371: 'Dogville (2003)', 7372: 'Ned Kelly (2003)', 7373: 'Hellboy (2004)', 7375: 'Prince & Me, The (2004)', 7376: 'Walking Tall (2004)', 7377: 'United States of Leland, The (2003)', 7379: 'The Alamo (2004)', 7380: 'Ella Enchanted (2004)', 7381: 'Whole Ten Yards, The (2004)', 7382: \"I'm Not Scared (Io non ho paura) (2003)\", 7386: 'Ten Commandments, The (1956)', 7387: 'Dawn of the Dead (1978)', 7390: 'Prey for Rock & Roll (2003)', 7394: 'Those Magnificent Men in Their Flying Machines (1965)', 7395: 'Cheaper by the Dozen (1950)', 7396: 'Scenes From a Marriage (Scener ur ett Ã¤ktenskap) (1973)', 7411: 'Munchies (1987)', 7414: 'Going in Style (1979)', 7419: 'After Hours (1985)', 7438: 'Kill Bill: Vol. 2 (2004)', 7439: 'Punisher, The (2004)', 7440: 'Paper Clips (2004)', 7443: 'This So-Called Disaster (2003)', 7444: '13 Going on 30 (2004)', 7445: 'Man on Fire (2004)', 7448: 'Envy (2004)', 7449: 'Godsend (2004)', 7450: 'Laws of Attraction (2004)', 7451: 'Mean Girls (2004)', 7454: 'Van Helsing (2004)', 7455: 'Mudge Boy, The (2003)', 7457: \"Breakin' All the Rules (2004)\", 7458: 'Troy (2004)', 7459: 'Carandiru (2003)', 7460: 'Coffee and Cigarettes (2003)', 7477: 'Eye See You (D-Tox) (2002)', 7479: 'Watch on the Rhine (1943)', 7481: 'Enemy Mine (1985)', 7482: 'Enter the Dragon (1973)', 7486: 'Happy Together (a.k.a. Buenos Aires Affair) (Chun gwong cha sit) (1997)', 7487: 'Henry & June (1990)', 7492: 'Martin (1977)', 7493: 'Three Faces of Eve, The (1957)', 7541: '100 Girls (2000)', 7560: 'Fail-Safe (1964)', 7561: 'Paperhouse (1988)', 7562: 'Dobermann (1997)', 7564: 'Kwaidan (Kaidan) (1964)', 7566: '28 Up (1985)', 7569: 'You Only Live Twice (1967)', 7570: 'Octopussy (1983)', 7572: 'Wit (2001)', 7573: 'Never Say Never Again (1983)', 7579: 'Pride and Prejudice (1940)', 7581: 'Fountainhead, The (1949)', 7584: 'Woman of the Year (1942)', 7587: 'SamouraÃ¯, Le (Godson, The) (1967)', 7614: 'Oklahoma! (1955)', 7615: 'Desert Hearts (1985)', 7616: 'Body Double (1984)', 7618: 'Chaplin (1992)', 7619: 'Miracle Worker, The (1962)', 7620: 'Monster in a Box (1992)', 7624: 'School Ties (1992)', 7636: 'Raising Cain (1992)', 7646: 'Rose Red (2002)', 7647: 'Noises Off... (1992)', 7649: 'Babylon 5: In the Beginning (1998)', 7650: 'Witchfinder General (Conquerer Worm, The) (1968)', 7657: 'Versus (2000)', 7669: 'Pride and Prejudice (1995)', 7698: 'China Syndrome, The (1979)', 7700: 'Wages of Fear, The (Salaire de la peur, Le) (1953)', 7701: \"Look Who's Talking Too (1990)\", 7702: \"Bells of St. Mary's, The (1945)\", 7704: 'Delta Force, The (1986)', 7705: 'Pat and Mike (1952)', 7706: 'Animal Crackers (1930)', 7707: 'He Said, She Said (1991)', 7708: 'Bedazzled (1967)', 7713: 'Cat People (1942)', 7714: 'Camelot (1967)', 7716: 'Lonely Guy, The (1984)', 7720: 'Four Musketeers, The (1974)', 7727: 'Protocol (1984)', 7728: 'Postman Always Rings Twice, The (1946)', 7730: 'Matinee (1993)', 7742: 'Baxter (1989)', 7743: 'Explorers (1985)', 7745: \"Scent of Green Papaya, The (MÃ¹i du du xhan - L'odeur de la papaye verte) (1993)\", 7748: 'Pierrot le fou (1965)', 7749: 'Weekend (a.k.a. Le Week-end) (Week End) (1967)', 7753: 'Tuesdays with Morrie (1999)', 7756: 'Alexander Nevsky (Aleksandr Nevskiy) (1938)', 7757: 'Jason and the Argonauts (1963)', 7762: 'Tinker, Tailor, Soldier, Spy (1979)', 7766: 'Throne of Blood (Kumonosu jÃ´) (1957)', 7767: 'Best of Youth, The (La meglio gioventÃ¹) (2003)', 7772: 'Undercurrent (1946)', 7773: \"Bang, Bang, You're Dead (2002)\", 7781: 'Twister (1990)', 7782: 'Sniper (1993)', 7786: 'Genghis Blues (1999)', 7789: '11\\'09\"01 - September 11 (2002)', 7792: 'Parallax View, The (1974)', 7802: 'Warriors, The (1979)', 7810: 'Babylon 5: A Call to Arms (1999)', 7811: 'Babylon 5: The River of Souls (1998)', 7812: 'Babylon 5: Thirdspace (1998)', 7815: 'True Stories (1986)', 7820: 'Virgin Spring, The (JungfrukÃ¤llan) (1960)', 7822: 'Mogambo (1953)', 7826: 'Secret Life of Walter Mitty, The (1947)', 7831: 'Another Thin Man (1939)', 7832: 'Thin Man Goes Home, The (1945)', 7833: 'Shadow of the Thin Man (1941)', 7834: 'After the Thin Man (1936)', 7835: 'Song of the Thin Man (1947)', 7839: 'Love Crazy (1941)', 7840: 'Gunga Din (1939)', 7841: 'Children of Dune (2003)', 7842: 'Dune (2000)', 7843: 'Lammbock (2001)', 7844: 'Legend, The (Legend of Fong Sai-Yuk, The) (Fong Sai Yuk) (1993)', 7845: 'Tremors II: Aftershocks (1996)', 7846: 'Tremors 3: Back to Perfection (2001)', 7879: 'Notorious C.H.O. (2002)', 7882: 'The Plague of the Zombies (1966)', 7883: 'I Walked with a Zombie (1943)', 7884: 'Highway 61 (1991)', 7888: 'How to Succeed in Business Without Really Trying (1967)', 7889: 'Pat Garrett and Billy the Kid (1973)', 7891: \"Last Man on Earth, The (Ultimo uomo della Terra, L') (1964)\", 7894: 'Duck, You Sucker (1971)', 7895: 'Bring Me the Head of Alfredo Garcia (1974)', 7896: 'Ride the High Country (1962)', 7899: 'Master of the Flying Guillotine (Du bi quan wang da po xue di zi) (1975)', 7900: 'Frankenstein Must Be Destroyed (1969)', 7916: 'Gidget (1959)', 7920: 'Desperate Living (1977)', 7924: 'Stray Dog (Nora inu) (1949)', 7925: 'Hidden Fortress, The (Kakushi-toride no san-akunin) (1958)', 7926: 'High and Low (Tengoku to jigoku) (1963)', 7930: 'People Under the Stairs, The (1991)', 7932: 'Dark Days (2000)', 7934: 'Zelig (1983)', 7936: 'Shame (Skammen) (1968)', 7937: 'Silence, The (Tystnaden) (1963)', 7938: 'Winter Light (NattvardsgÃ¤sterna) (1963)', 7939: 'Through a Glass Darkly (SÃ¥som i en spegel) (1961)', 7940: 'The Magician (1958)', 7943: 'Killers, The (1946)', 7944: 'Night of the Iguana, The (1964)', 7951: 'Nightbreed (1990)', 7976: 'Ken Park (2002)', 7979: 'Monterey Pop (1968)', 7980: 'Bridge Too Far, A (1977)', 7981: 'Infernal Affairs (Mou gaan dou) (2002)', 7982: 'Tale of Two Sisters, A (Janghwa, Hongryeon) (2003)', 7983: 'Broadway Danny Rose (1984)', 7984: 'From Beyond (1986)', 7986: 'Robot Jox (1990)', 7987: 'Dolls (1987)', 7988: 'Space Truckers (1996)', 7991: 'Death Race 2000 (1975)', 7993: 'Bucket Of Blood, A (1959)', 8008: 'Brigadoon (1954)', 8010: 'Power of One, The (1992)', 8011: 'Weather Underground, The (2002)', 8012: 'Kikujiro (KikujirÃ´ no natsu) (1999)', 8014: 'Spring, Summer, Fall, Winter... and Spring (Bom yeoreum gaeul gyeoul geurigo bom) (2003)', 8015: 'Phantom Tollbooth, The (1970)', 8016: 'Getaway, The (1972)', 8019: 'Dark Water (Honogurai mizu no soko kara) (2002)', 8024: 'Thing Called Love, The (1993)', 8025: 'The Thief (1997)', 8033: 'How to Steal a Million (1966)', 8035: 'Stendhal Syndrome, The (Sindrome di Stendhal, La) (1996)', 8042: 'Mean Streets (1973)', 8043: 'Jack the Bear (1993)', 8044: 'I Am a Fugitive from a Chain Gang (1932)', 8045: 'Hamburger Hill (1987)', 8057: 'Sweet Bird of Youth (1962)', 8092: 'Frankenstein Unbound (1990)', 8093: 'Shiri (Swiri) (1999)', 8094: 'Bad Day at Black Rock (1955)', 8117: 'In China They Eat Dogs (I Kina spiser de hunde) (1999)', 8118: 'Delta Force 2 (Delta Force 2: The Colombian Connection) (1990)', 8119: 'Crossroads (1986)', 8121: 'Seducing Doctor Lewis (Grande sÃ©duction, La) (2003)', 8125: 'Sunrise: A Song of Two Humans (1927)', 8126: 'Shock Corridor (1963)', 8128: 'Au revoir les enfants (1987)', 8131: 'Pursuit of Happiness (2001)', 8132: 'Gladiator (1992)', 8136: 'Indestructible Man (1956)', 8137: 'Wasp Woman, The (1959)', 8138: 'Attack of the Giant Leeches (1959)', 8142: 'Dead or Alive: Hanzaisha (1999)', 8143: 'Lola MontÃ¨s (1955)', 8147: 'Charly (1968)', 8153: 'Lust for Life (1956)', 8154: 'Dolce Vita, La (1960)', 8157: 'Jin Roh: The Wolf Brigade (Jin-RÃ´) (1998)', 8158: 'Rush (1991)', 8167: 'Captain Blood (1935)', 8169: '*batteries not included (1987)', 8183: 'Educating Rita (1983)', 8188: 'Sansho the Bailiff (SanshÃ´ dayÃ») (1954)', 8189: 'Zazie dans le mÃ©tro (1960)', 8190: 'Americanization of Emily, The (1964)', 8191: 'Anne of the Thousand Days (1969)', 8195: \"Avventura, L' (Adventure, The) (1960)\", 8196: 'Beyond the Valley of the Dolls (1970)', 8197: 'Hiroshima Mon Amour (1959)', 8199: 'Ugetsu (Ugetsu monogatari) (1953)', 8207: 'Day of the Jackal, The (1973)', 8225: 'Night of the Living Dead (1990)', 8228: 'Maltese Falcon, The (a.k.a. Dangerous Female) (1931)', 8232: 'I Love You Again (1940)', 8235: 'Safety Last! (1923)', 8236: 'While the City Sleeps (1956)', 8238: 'Little Murders (1971)', 8239: 'Viridiana (1961)', 8241: 'Masterminds (1997)', 8253: 'Lupin III: The Castle Of Cagliostro (Rupan sansei: Kariosutoro no shiro) (1979)', 8254: 'Arizona Dream (1993)', 8261: '3 Women (Three Women) (1977)', 8264: 'Grey Gardens (1975)', 8266: 'Purple Rain (1984)', 8268: 'Point of No Return (1993)', 8270: \"Hairdresser's Husband, The (Le mari de la coiffeuse) (1990)\", 8275: 'College (1927)', 8290: 'Mitchell (1975)', 8293: 'Used People (1992)', 8302: 'Front Page, The (1931)', 8327: 'Dolls (2002)', 8331: 'Man Who Came to Dinner, The (1942)', 8335: 'Make Way for Tomorrow (1937)', 8336: 'Major and the Minor, The (1942)', 8337: 'Caine Mutiny, The (1954)', 8338: 'Black Narcissus (1947)', 8340: 'Escape from Alcatraz (1979)', 8341: 'Oliver Twist (1948)', 8360: 'Shrek 2 (2004)', 8361: 'Day After Tomorrow, The (2004)', 8362: 'Raising Helen (2004)', 8363: 'Soul Plane (2004)', 8364: \"Baadasssss! (How to Get the Man's Foot Outta Your Ass) (2003)\", 8366: 'Saved! (2004)', 8368: 'Harry Potter and the Prisoner of Azkaban (2004)', 8369: 'Mindhunters (2004)', 8370: 'Blind Swordsman: Zatoichi, The (ZatÃ´ichi) (2003)', 8371: 'Chronicles of Riddick, The (2004)', 8372: 'Garfield: The Movie (2004)', 8373: 'Stepford Wives, The (2004)', 8375: 'Hunting of the President, The (2004)', 8376: 'Napoleon Dynamite (2004)', 8378: 'Doctor, The (1991)', 8379: 'Dresser, The (1983)', 8380: 'Father Hood (1993)', 8382: 'Hello Again (1987)', 8383: 'Hope Springs (2003)', 8385: 'Lover Come Back (1961)', 8387: 'Police Academy: Mission to Moscow (1994)', 8391: 'Big Wednesday (1978)', 8402: 'Book of Love (1990)', 8405: 'Hour of the Wolf (Vargtimmen) (1968)', 8410: 'Suddenly (1954)', 8424: 'Divorcee, The (1930)', 8425: 'Meet the Applegates (1991)', 8426: 'Robot Carnival (Roboto kÃ¢nibauru) (1987)', 8427: 'Americathon (1979)', 8446: 'Sands of Iwo Jima (1949)', 8447: 'This Island Earth (1955)', 8450: 'Anthony Adverse (1936)', 8451: 'Blackboard Jungle (1955)', 8454: 'Luna Papa (1999)', 8456: 'Investigation of a Citizen Above Suspicion (Indagine su un cittadino al di sopra di ogni sospetto) (1970)', 8458: 'To Each His Own (1946)', 8459: 'Heiress, The (1949)', 8461: 'Dragon Seed (1944)', 8462: 'Executive Suite (1954)', 8463: 'Johnny Belinda (1948)', 8464: 'Super Size Me (2004)', 8465: 'Johnny Eager (1942)', 8477: 'JetÃ©e, La (1962)', 8481: 'Northwest Passage (1940)', 8482: 'Picture of Dorian Gray, The (1945)', 8484: 'Human Condition I, The (Ningen no joken I) (1959)', 8487: \"Please Don't Eat the Daisies (1960)\", 8491: 'White Heat (1949)', 8492: 'Christmas Carol, A (Scrooge) (1951)', 8493: 'Memphis Belle (1990)', 8494: 'Cincinnati Kid, The (1965)', 8495: 'Animal Factory (2000)', 8500: 'Godzilla vs. Mechagodzilla (Gojira tai Mekagojira) (1974)', 8501: 'Hitcher, The (1986)', 8502: 'Show Boat (1951)', 8506: 'Fear X (2003)', 8507: 'Freaks (1932)', 8511: 'Immigrant, The (1917)', 8512: 'Silent Movie (1976)', 8518: 'Anna Christie (1930)', 8521: 'Dr. Jekyll and Mr. Hyde (1931)', 8526: 'Around the World in 80 Days (2004)', 8528: 'Dodgeball: A True Underdog Story (2004)', 8529: 'Terminal, The (2004)', 8530: 'Dear Frankie (2004)', 8531: 'White Chicks (2004)', 8532: 'Door in the Floor, The (2004)', 8533: 'Notebook, The (2004)', 8534: 'Two Brothers (Deux frÃ¨res) (2004)', 8535: 'De-Lovely (2004)', 8542: 'Day at the Races, A (1937)', 8571: 'Bob & Carol & Ted & Alice (1969)', 8574: 'Claymation Christmas Celebration, A (1987)', 8575: \"Happenstance (Battement d'ailes du papillon, Le) (2001)\", 8577: 'Comandante (2003)', 8578: 'Undead (2003)', 8580: 'Into the Woods (1991)', 8581: 'Pirates of Silicon Valley (1999)', 8582: 'Manufacturing Consent: Noam Chomsky and the Media (1992)', 8587: 'Mayor of the Sunset Strip (2003)', 8588: 'Killing Me Softly (2002)', 8591: 'Philadelphia Experiment, The (1984)', 8593: 'Juice (1992)', 8596: 'Revenge of the Pink Panther (1978)', 8600: 'Angels with Dirty Faces (1938)', 8601: 'Zero de conduite (Zero for Conduct) (ZÃ©ro de conduite: Jeunes diables au collÃ¨ge) (1933)', 8604: 'Taxi (1998)', 8605: 'Taxi 3 (2003)', 8607: 'Tokyo Godfathers (2003)', 8609: 'Our Hospitality (1923)', 8610: 'All of Me (1984)', 8611: \"Farmer's Daughter, The (1947)\", 8614: 'Overboard (1987)', 8617: 'Butterfield 8 (1960)', 8620: 'Exterminating Angel, The (Ã\\x81ngel exterminador, El) (1962)', 8622: 'Fahrenheit 9/11 (2004)', 8623: 'Roxanne (1987)', 8626: \"Dr. Terror's House of Horrors (1965)\", 8632: 'Secret Society (2002)', 8633: 'Last Starfighter, The (1984)', 8636: 'Spider-Man 2 (2004)', 8638: 'Before Sunset (2004)', 8640: 'King Arthur (2004)', 8641: 'Anchorman: The Legend of Ron Burgundy (2004)', 8643: 'Cinderella Story, A (2004)', 8644: 'I, Robot (2004)', 8645: 'Maria Full of Grace (Maria, Llena eres de gracia) (2004)', 8650: \"Long Day's Journey Into Night (1962)\", 8656: 'Short Film About Killing, A (KrÃ³tki film o zabijaniu) (1988)', 8665: 'Bourne Supremacy, The (2004)', 8666: 'Catwoman (2004)', 8667: 'A Home at the End of the World (2004)', 8670: 'Testament of Dr. Mabuse, The (Das Testament des Dr. Mabuse) (1933)', 8677: 'Flash Gordon Conquers the Universe (1940)', 8684: \"Man Escaped, A (Un  condamnÃ© Ã\\xa0 mort s'est Ã©chappÃ© ou Le vent souffle oÃ¹ il veut) (1956)\", 8685: 'Miracle of Marcelino, The (Marcelino pan y vino) (1955)', 8690: 'Slaughterhouse-Five (1972)', 8695: 'Bachelor and the Bobby-Soxer, The (1947)', 8711: 'Mr. Blandings Builds His Dream House (1948)', 8712: 'My Favorite Wife (1940)', 8713: 'New Adventures of Pippi Longstocking, The (1988)', 8714: 'Night and Day (1946)', 8718: 'Snake Pit, The (1948)', 8720: 'Super, The (1991)', 8724: 'Leopard, The (Gattopardo, Il) (1963)', 8727: 'Day of the Locust, The (1975)', 8730: 'To End All Wars (2001)', 8738: 'Woman Is a Woman, A (femme est une femme, Une) (1961)', 8743: 'Biggles (1986)', 8748: 'Yesterday, Today and Tomorrow (Ieri, oggi, domani) (1963)', 8753: 'Unprecedented: The 2000 Presidential Election (2002)', 8754: 'Prime of Miss Jean Brodie, The (1969)', 8755: 'My Voyage to Italy (Il mio viaggio in Italia) (1999)', 8765: 'This Gun for Hire (1942)', 8771: 'Sherlock Holmes: Terror by Night (1946)', 8772: 'Spy Who Came in from the Cold, The (1965)', 8773: 'Sherlock Holmes and the Secret Weapon (1942)', 8774: 'Sherlock Holmes: The Woman in Green (1945)', 8778: 'Sherlock Holmes: Dressed to Kill (1946)', 8781: 'Manchurian Candidate, The (2004)', 8782: 'Thunderbirds (2004)', 8783: 'Village, The (2004)', 8784: 'Garden State (2004)', 8795: 'Musa the Warrior (Musa) (2001)', 8796: 'Funny Thing Happened on the Way to the Forum, A (1966)', 8798: 'Collateral (2004)', 8799: 'Little Black Book (2004)', 8800: 'Code 46 (2003)', 8804: 'Story of Women (Affaire de femmes, Une) (1988)', 8807: 'Harold and Kumar Go to White Castle (2004)', 8808: 'Princess Diaries 2: Royal Engagement, The (2004)', 8809: 'Danny Deckchair (2003)', 8810: 'AVP: Alien vs. Predator (2004)', 8813: \"We Don't Live Here Anymore (2004)\", 8814: 'Without a Paddle (2004)', 8815: 'Exorcist: The Beginning (2004)', 8827: 'Bill Cosby, Himself (1983)', 8830: 'Anacondas: The Hunt for the Blood Orchid (2004)', 8831: 'Suspect Zero (2004)', 8832: 'Warriors of Heaven and Earth (Tian di ying xiong) (2003)', 8833: 'Vanity Fair (2004)', 8835: 'Paparazzi (2004)', 8836: 'Wicker Park (2004)', 8838: \"Alice Doesn't Live Here Anymore (1974)\", 8840: \"Who's That Knocking at My Door? (1967)\", 8844: 'Camera Buff (Amator) (1979)', 8848: 'Vitelloni, I (a.k.a. The Young and the Passionate) (1953)', 8860: 'Cellular (2004)', 8861: 'Resident Evil: Apocalypse (2004)', 8864: 'Mr. 3000 (2004)', 8865: 'Sky Captain and the World of Tomorrow (2004)', 8866: 'Wimbledon (2004)', 8869: 'First Daughter (2004)', 8870: 'Forgotten, The (2004)', 8873: 'Motorcycle Diaries, The (Diarios de motocicleta) (2004)', 8874: 'Shaun of the Dead (2004)', 8875: 'Come Back, Little Sheba (1952)', 8879: 'Murder on the Orient Express (1974)', 8880: 'Mask (1985)', 8894: 'Orca: The Killer Whale (1977)', 8905: '1492: Conquest of Paradise (1992)', 8906: 'Cannibal Holocaust (1980)', 8907: 'Shark Tale (2004)', 8908: 'Ladder 49 (2004)', 8910: 'I Heart Huckabees (2004)', 8911: 'Raise Your Voice (2004)', 8912: 'Taxi (2004)', 8914: 'Primer (2004)', 8915: 'Stage Beauty (2004)', 8916: 'Shall We Dance? (2004)', 8917: 'Team America: World Police (2004)', 8918: 'Eulogy (2004)', 8919: 'P.S. (2004)', 8920: 'Country Girl, The (1954)', 8921: 'Rose Tattoo, The (1955)', 8928: 'Fearless Vampire Killers, The (1967)', 8933: \"Decline of the American Empire, The (DÃ©clin de l'empire amÃ©ricain, Le) (1986)\", 8934: \"Bebe's Kids (1992)\", 8937: 'Friday Night Lights (2004)', 8938: 'Tarnation (2003)', 8939: 'Final Cut, The (2004)', 8943: 'Being Julia (2004)', 8946: 'Surviving Christmas (2004)', 8947: 'Grudge, The (2004)', 8948: 'Alfie (2004)', 8949: 'Sideways (2004)', 8950: 'The Machinist (2004)', 8951: 'Vera Drake (2004)', 8952: 'Falling Angels (2003)', 8954: 'Lightning in a Bottle (2004)', 8955: 'Undertow (2004)', 8957: 'Saw (2004)', 8958: 'Ray (2004)', 8959: 'Birth (2004)', 8961: 'Incredibles, The (2004)', 8964: 'Callas Forever (2002)', 8965: 'Polar Express, The (2004)', 8966: 'Kinsey (2004)', 8967: \"Seed of Chucky (Child's Play 5) (2004)\", 8968: 'After the Sunset (2004)', 8969: 'Bridget Jones: The Edge of Reason (2004)', 8970: 'Finding Neverland (2004)', 8972: 'National Treasure (2004)', 8973: 'Bad Education (La mala educaciÃ³n) (2004)', 8974: 'SpongeBob SquarePants Movie, The (2004)', 8977: 'Alexander (2004)', 8978: 'Christmas with the Kranks (2004)', 8979: 'Guerrilla: The Taking of Patty Hearst (2004)', 8981: 'Closer (2004)', 8982: 'I Am David (2003)', 8983: 'House of Flying Daggers (Shi mian mai fu) (2004)', 8984: \"Ocean's Twelve (2004)\", 8985: 'Blade: Trinity (2004)', 8987: \"Bush's Brain (2004)\", 8989: 'Damn Yankees! (1958)', 8998: \"That's Entertainment (1974)\", 9004: 'D.A.R.Y.L. (1985)', 9005: 'Fire in the Sky (1993)', 9008: 'Invisible Man Returns, The (1940)', 9010: \"Love Me If You Dare (Jeux d'enfants) (2003)\", 9018: 'Control Room (2004)', 25746: 'Hunchback of Notre Dame, The (1923)', 25750: 'Sherlock Jr. (1924)', 25752: 'Freshman, The (1925)', 25753: 'Greed (1924)', 25757: 'Jazz Singer, The (1927)', 25769: 'Steamboat Bill, Jr. (1928)', 25771: 'Andalusian Dog, An (Chien andalou, Un) (1929)', 25773: 'Little Caesar (1931)', 25782: 'Boudu Saved From Drowning (Boudu sauvÃ© des eaux) (1932)', 25788: 'Scarface (1932)', 25795: 'Dinner at Eight (1933)', 25797: 'Gold Diggers of 1933 (1933)', 25805: \"Atalante, L' (1934)\", 25825: 'Fury (1936)', 25826: 'Libeled Lady (1936)', 25827: 'Mr. Deeds Goes to Town (1936)', 25833: 'Camille (1936)', 25834: 'Captains Courageous (1937)', 25841: 'Stage Door (1937)', 25850: 'Holiday (1938)', 25855: 'Roaring Twenties, The (1939)', 25856: 'Wuthering Heights (1939)', 25865: 'Letter, The (1940)', 25870: 'Here Comes Mr. Jordan (1941)', 25886: 'Random Harvest (1942)', 25887: 'Tales of Manhattan (1942)', 25898: 'Day of Wrath (Vredens dag) (1943)', 25905: \"Miracle of Morgan's Creek, The (1944)\", 25906: 'Mr. Skeffington (1944)', 25923: 'Great Expectations (1946)', 25927: 'Stranger, The (1946)', 25937: 'Easter Parade (1948)', 25940: 'Lady from Shanghai, The (1947)', 25946: 'Three Musketeers, The (1948)', 25947: 'Unfaithfully Yours (1948)', 25952: 'Letter to Three Wives, A (1949)', 25959: 'Annie Get Your Gun (1950)', 25962: \"King Solomon's Mines (1950)\", 25963: 'Young and the Damned, The (Olvidados, Los) (1950)', 25996: 'Star Is Born, A (1954)', 25999: 'The Wild One (1953)', 26002: 'Confidential Report (1955)', 26003: 'Night and Fog (Nuit et brouillard) (1955)', 26038: \"Teacher's Pet (1958)\", 26048: 'Human Condition II, The (Ningen no joken II) (1959)', 26052: 'Pickpocket (1959)', 26059: 'When a Woman Ascends the Stairs (Onna ga kaidan wo agaru toki) (1960)', 26073: 'Human Condition III, The (Ningen no joken III) (1961)', 26078: 'Advise and Consent (1962)', 26082: 'Harakiri (Seppuku) (1962)', 26084: 'Music Man, The (1962)', 26085: 'Mutiny on the Bounty (1962)', 26095: 'Carabineers, The (Carabiniers, Les) (1963)', 26116: 'Hush... Hush, Sweet Charlotte (1964)', 26122: 'Onibaba (1964)', 26124: 'Robinson Crusoe on Mars (1964)', 26131: 'Battle of Algiers, The (La battaglia di Algeri) (1966)', 26133: 'Charlie Brown Christmas, A (1965)', 26142: 'Major Dundee (1965)', 26147: 'Thousand Clowns, A (1965)', 26150: 'Andrei Rublev (Andrey Rublyov) (1969)', 26151: 'Au Hasard Balthazar (1966)', 26152: 'Batman (1966)', 26158: 'Closely Watched Trains (Ostre sledovanÃ© vlaky) (1966)', 26159: 'Tokyo Drifter (TÃ´kyÃ´ nagaremono) (1966)', 26169: 'Branded to Kill (Koroshi no rakuin) (1967)', 26171: 'Play Time (a.k.a. Playtime) (1967)', 26172: 'Point Blank (1967)', 26176: 'Titicut Follies (1967)', 26183: 'Asterix and Cleopatra (AstÃ©rix et ClÃ©opÃ¢tre) (1968)', 26184: 'Diamond Arm, The (Brilliantovaya ruka) (1968)', 26195: 'Sympathy for the Devil (1968)', 26198: 'Yours, Mine and Ours (1968)', 26225: \"Claire's Knee (Genou de Claire, Le) (1970)\", 26231: 'Performance (1970)', 26236: 'White Sun of the Desert, The (Beloe solntse pustyni) (1970)', 26237: 'Zabriskie Point (1970)', 26242: 'Duel (1971)', 26249: 'They Call Me Trinity (1971)', 26258: 'Topo, El (1970)', 26265: 'Dr. Phibes Rises Again (1972)', 26283: 'Charley Varrick (1973)', 26285: 'Dark Star (1974)', 26303: 'Sisters (1973)', 26308: 'Turkish Delight (Turks fruit) (1973)', 26313: 'California Split (1974)', 26317: 'Emmanuelle (1974)', 26322: 'Gone in 60 Seconds (1974)', 26326: 'Holy Mountain, The (MontaÃ±a sagrada, La) (1973)', 26340: \"Twelve Tasks of Asterix, The (Les douze travaux d'AstÃ©rix) (1976)\", 26344: 'French Connection II (1975)', 26347: 'Irony of Fate, or Enjoy Your Bath! (Ironiya sudby, ili S legkim parom!) (1975)', 26350: 'Passenger, The (Professione: reporter) (1975)', 26357: 'Trilogy of Terror (1975)', 26359: '1900 (Novecento) (1976)', 26365: 'Futureworld (1976)', 26366: 'Harlan County U.S.A. (1976)', 26375: 'Silver Streak (1976)', 26386: 'High Anxiety (1977)', 26391: 'New York, New York (1977)', 26394: 'Turning Point, The (1977)', 26399: 'Five Deadly Venoms (1978)', 26401: 'Last Hurrah for Chivalry (Hao xia) (1979)', 26409: 'Clonus Horror, The (1979)', 26413: \"Snake in the Eagle's Shadow (Se ying diu sau) (1978)\", 26422: 'Hair (1979)', 26429: 'Love at First Bite (1979)', 26444: 'Hitch Hikers Guide to the Galaxy, The (1981)', 26453: \"Smiley's People (1982)\", 26464: 'Blue Thunder (1983)', 26467: 'Day After, The (1983)', 26471: 'Eddie Murphy Delirious (1983)', 26472: 'Norte, El (1984)', 26492: 'Twilight Zone: The Movie (1983)', 26498: 'Boy Meets Girl (1984)', 26504: 'Cloak & Dagger (1984)', 26510: 'Ewok Adventure, The (a.k.a. Caravan of Courage: An Ewok Adventure) (1984)', 26523: 'Silent Night, Deadly Night (1984)', 26524: 'Times of Harvey Milk, The (1984)', 26527: 'What Have I Done to Deserve This? (Â¿QuÃ© he hecho yo para merecer esto!!) (1984)', 26528: 'Anne of Green Gables (1985)', 26539: 'Death of a Salesman (1985)', 26542: 'Ewoks: The Battle for Endor (1985)', 26547: 'Police Story (Ging chaat goo si) (1985)', 26554: 'Quiet Earth, The (1985)', 26555: 'Spies Like Us (1985)', 26562: 'White Nights (1985)', 26564: \"'Round Midnight (1986)\", 26567: 'Club Paradise (1986)', 26578: 'Sacrifice, The (Offret - Sacraficatio) (1986)', 26585: 'Better Tomorrow, A (Ying hung boon sik) (1986)', 26587: 'Decalogue, The (Dekalog) (1989)', 26590: 'G.I. Joe: The Movie (1987)', 26593: 'Hell Comes to Frogtown (1988)', 26599: 'Law of Desire (Ley del deseo, La) (1987)', 26603: 'Prince of Darkness (1987)', 26606: 'Chinese Ghost Story, A (Sinnui yauwan) (1987)', 26612: 'Better Tomorrow II, A (Ying hung boon sik II) (1987)', 26614: 'Bourne Identity, The (1988)', 26622: 'Dominick and Eugene (1988)', 26629: 'Killer Klowns from Outer Space (1988)', 26630: 'Moonwalker (1988)', 26631: 'Alice (Neco z Alenky) (1988)', 26645: 'Life Is a Long Quiet River (La vie est un long fleuve tranquille) (1988)', 26649: 'Lonesome Dove (1989)', 26662: \"Kiki's Delivery Service (Majo no takkyÃ»bin) (1989)\", 26676: 'Almost an Angel (1990)', 26680: 'Cry-Baby (1990)', 26681: 'Bullet in the Head (1990)', 26686: 'Ghost Dad (1990)', 26693: 'It (1990)', 26694: 'Ju Dou (1990)', 26695: 'Krays, The (1990)', 26696: 'Lionheart (1990)', 26700: 'Nuns on the Run (1990)', 26701: 'Patlabor: The Movie (KidÃ´ keisatsu patorebÃ¢: The Movie) (1989)', 26704: 'State of Grace (1990)', 26712: '35 Up (1991)', 26713: 'Days of Being Wild (A Fei jingjyuhn) (1990)', 26717: 'Begotten (1990)', 26726: 'Dutch (1991)', 26729: 'Hearts of Darkness: A Filmmakers Apocalypse (1991)', 26732: 'Johnny Stecchino (1991)', 26736: 'Riki-Oh: The Story of Ricky (Lik Wong) (1991)', 26741: 'Mannequin 2: On the Move (1991)', 26743: 'Only Yesterday (Omohide poro poro) (1991)', 26745: \"Other People's Money (1991)\", 26750: 'Quigley Down Under (1990)', 26761: 'Prime Suspect 2 (1992)', 26764: 'Captain America (1990)', 26765: 'City Hunter (Sing si lip yan) (1993)', 26776: 'Porco Rosso (Crimson Pig) (Kurenai no buta) (1992)', 26777: 'Stolen Children (Ladro di bambini, Il) (1992)', 26778: 'Ladybugs (1992)', 26782: 'Mambo Kings, The (1992)', 26791: 'Shining Through (1992)', 26792: 'Sidekicks (1992)', 26796: 'Heart in Winter, A (Un coeur en hiver) (1992)', 26797: 'Visions of Light: The Art of Cinematography (1992)', 26810: 'Bad Boy Bubby (1993)', 26812: 'Barbarians at the Gate (1993)', 26819: 'Fortress (1992)', 26828: 'Mr. Nanny (1993)', 26838: 'Snapper, The (1993)', 26840: 'Sonatine (Sonachine) (1993)', 26849: 'Stand, The (1994)', 26854: 'Darkman II: Return of Durant, The (1995)', 26861: 'Freaked (1993)', 26865: 'Fist of Legend (Jing wu ying xiong) (1994)', 26870: 'Major League II (1994)', 26871: 'My Father the Hero (1994)', 26875: 'Pure Formality, A (Pura formalitÃ\\xa0, Una) (1994)', 26887: 'Langoliers, The (1995)', 26900: 'Last Wedding, The (KivenpyÃ¶rittÃ¤jÃ¤n kylÃ¤) (1995)', 26901: 'Last of the Dogmen (1995)', 26903: 'Whisper of the Heart (Mimi wo sumaseba) (1995)', 26913: 'Street Fighter II: The Animated Movie (SutorÃ®to FaitÃ¢ II gekijÃ´-ban) (1994)', 26928: \"Summer's Tale, A (Conte d'Ã©tÃ©) (1996)\", 26940: 'Late Shift, The (1996)', 26947: 'Pusher (1996)', 26958: 'Emma (1996)', 26965: 'Boxer, The (1997)', 26974: 'Gummo (1997)', 26985: 'Nirvana (1997)', 26999: \"Lion King II: Simba's Pride, The (1998)\", 27002: 'From the Earth to the Moon (1998)', 27003: 'Beowulf (1999)', 27006: 'RKO 281 (1999)', 27008: 'From Dusk Till Dawn 2: Texas Blood Money (1999) ', 27020: 'Gia (1998)', 27022: 'Thursday (1998)', 27032: 'Who Am I? (Wo shi shei) (1998)', 27036: 'Merlin (1998)', 27074: 'Brave New World (1998)', 27075: 'Addams Family Reunion (1998)', 27105: 'Purgatory (1999)', 27124: 'Bleeder (1999)', 27134: 'Dark Portals: The Chronicles of Vidocq  (Vidocq) (2001)', 27140: 'Candyman 3: Day of the Dead (1999)', 27155: 'Batman/Superman Movie, The (1998)', 27156: 'Neon Genesis Evangelion: The End of Evangelion (Shin seiki Evangelion GekijÃ´-ban: Air/Magokoro wo, kimi ni) (1997)', 27176: 'Style Wars (1983)', 27178: 'In July (Im Juli) (2000)', 27186: 'Kirikou and the Sorceress (Kirikou et la sorciÃ¨re) (1998)', 27193: 'Taxi 2 (2000)', 27246: 'If These Walls Could Talk 2 (2000)', 27251: '10th Kingdom, The (2000)', 27255: 'Wind Will Carry Us, The (Bad ma ra khahad bord) (1999)', 27266: '2046 (2004)', 27306: 'Bartleby (2001)', 27311: 'Batman Beyond: Return of the Joker (2000)', 27317: 'Audition (Ã\\x94dishon) (1999)', 27320: 'Nine Lives of Tomas Katz, The (2000)', 27328: 'Monday (2000)', 27329: 'Paradise Lost 2: Revelations (2000)', 27368: 'Asterix & Obelix: Mission Cleopatra (AstÃ©rix & ObÃ©lix: Mission ClÃ©opÃ¢tre) (2002)', 27369: 'Daria: Is It Fall Yet? (2000)', 27370: 'Late Night Shopping (2001)', 27373: '61* (2001)', 27397: 'Joint Security Area (Gongdong gyeongbi guyeok JSA) (2000)', 27408: \"Ripley's Game (2002)\", 27416: 'Jalla! Jalla! (2000)', 27420: 'Teknolust (2002)', 27426: 'Accidental Spy, The (Dak miu mai shing) (2001)', 27434: 'Darkness (2002)', 27441: 'Blood: The Last Vampire (2000)', 27450: 'Blueberry (2004)', 27473: 'American Psycho II: All American Girl (2002)', 27478: 'Ali G Indahouse (2002)', 27480: 'Dead or Alive 2: TÃ´bÃ´sha (2000)', 27482: 'Cube 2: Hypercube (2002)', 27491: 'Pulse (Kairo) (2001)', 27513: 'Dog Days (Hundstage) (2001)', 27523: 'My Sassy Girl (Yeopgijeogin geunyeo) (2001)', 27537: 'Nothing (2003)', 27539: 'Undertaking Betty (Plots with a View) (2002)', 27549: 'Dead or Alive: Final (2002)', 27555: 'Fubar (2002)', 27563: 'Happiness of the Katakuris, The (Katakuri-ke no kÃ´fuku) (2001)', 27584: 'Dead End (2003)', 27592: 'Sympathy for Mr. Vengeance (Boksuneun naui geot) (2002)', 27595: 'Jesus Christ Vampire Hunter (2001)', 27604: 'Suicide Club (Jisatsu saakuru) (2001)', 27611: 'Battlestar Galactica (2003)', 27618: 'Sound of Thunder, A (2005)', 27619: 'Lion King 1Â½, The (2004)', 27627: 'Oasis (2002)', 27644: 'Remember Me (Ricordati di me) (2003)', 27660: 'Animatrix, The (2003)', 27664: 'Brown Bunny, The (2003)', 27667: 'Ju-on: The Curse (2000)', 27674: '11:14 (2003)', 27683: 'Tremors 4: The Legend Begins (2004)', 27685: 'Bring It On Again (2004)', 27689: \"Crimson Rivers 2: Angels of the Apocalypse (RiviÃ¨res pourpres II - Les anges de l'apocalypse, Les) (2004)\", 27692: 'And Starring Pancho Villa as Himself (2003)', 27695: 'Nicotina (2003)', 27704: 'Battle Royale 2: Requiem (Batoru rowaiaru II: Chinkonka) (2003)', 27705: 'In Hell (2003)', 27706: \"Lemony Snicket's A Series of Unfortunate Events (2004)\", 27708: 'Helen of Troy (2003)', 27716: 'Green Butchers, The (GrÃ¸nne slagtere, De) (2003)', 27721: 'Very Long Engagement, A (Un long dimanche de fianÃ§ailles) (2004)', 27722: 'Last Life in the Universe (Ruang rak noi nid mahasan) (2003)', 27728: 'Ghost in the Shell 2: Innocence (a.k.a. Innocence) (Inosensu) (2004)', 27731: 'Cat Returns, The (Neko no ongaeshi) (2002)', 27741: 'Twilight Samurai, The (Tasogare Seibei) (2002)', 27744: 'Facing Windows (Finestra di fronte, La) (2003)', 27746: 'Ginger Snaps: Unleashed (2004)', 27751: \"'Salem's Lot (2004)\", 27762: 'Comic Book: The Movie (2004)', 27768: 'Intimate Strangers (Confidences trop intimes) (2004)', 27769: 'Down to the Bone (2004)', 27772: 'Ju-on: The Grudge (2002)', 27773: 'Old Boy (2003)', 27776: 'Red Lights (Feux rouges) (2004)', 27778: 'Ginger Snaps Back: The Beginning (2004)', 27784: 'One Missed Call (Chakushin ari) (2003)', 27788: 'Jacket, The (2005)', 27790: 'Millions (2004)', 27793: 'Starship Troopers 2: Hero of the Federation (2004)', 27801: 'Ong-Bak: The Thai Warrior (Ong Bak) (2003)', 27802: 'Infernal Affairs 2 (Mou gaan dou II) (2003)', 27803: 'Sea Inside, The (Mar adentro) (2004)', 27808: 'Spanglish (2004)', 27815: 'Chorus, The (Choristes, Les) (2004)', 27816: 'Saints and Soldiers (2003)', 27820: 'Story of the Weeping Camel, The (Geschichte vom weinenden Kamel, Die) (2003)', 27821: 'Interpreter, The (2005)', 27822: 'Open Water (2003)', 27826: 'Touch of Pink (2004)', 27829: 'Slasher (2004)', 27830: 'Bobby Jones, Stroke of Genius (2004)', 27831: 'Layer Cake (2004)', 27834: 'Return, The (Vozvrashcheniye) (2003)', 27837: 'Flight of the Phoenix (2004)', 27838: 'Mean Creek (2004)', 27839: 'Ring Two, The (2005)', 27846: 'Corporation, The (2003)', 27850: 'Yes Men, The (2003)', 27865: 'Azumi (2003)', 27866: \"In My Father's Den (2004)\", 27869: 'Tae Guk Gi: The Brotherhood of War (Taegukgi hwinalrimyeo) (2004)', 27873: 'Metallica: Some Kind of Monster (2004)', 27878: 'Born into Brothels (2004)', 27879: 'DiG! (2004)', 27882: 'Riding Giants (2004)', 27899: 'What the #$*! Do We Know!? (a.k.a. What the Bleep Do We Know!?) (2004)', 27904: 'Scanner Darkly, A (2006)', 27905: 'Casshern (2004)', 27912: \"Outfoxed: Rupert Murdoch's War on Journalism (2004)\", 30707: 'Million Dollar Baby (2004)', 30745: 'Gozu (GokudÃ´ kyÃ´fu dai-gekijÃ´: Gozu) (2003)', 30749: 'Hotel Rwanda (2004)', 30793: 'Charlie and the Chocolate Factory (2005)', 30803: '3-Iron (Bin-jip) (2004)', 30810: 'Life Aquatic with Steve Zissou, The (2004)', 30812: 'Aviator, The (2004)', 30816: 'Phantom of the Opera, The (2004)', 30818: 'Beyond the Sea (2004)', 30820: 'Woodsman, The (2004)', 30822: 'In Good Company (2004)', 30825: 'Meet the Fockers (2004)', 30846: 'Assassination of Richard Nixon, The (2004)', 30848: 'Love Song for Bobby Long, A (2004)', 30850: 'Merchant of Venice, The (2004)', 30883: 'Fat Albert (2004)', 30890: 'Keys to the House, The (Chiavi di casa, Le) (2004)', 30892: 'In the Realms of the Unreal (2004)', 30894: 'White Noise (2005)', 30898: 'Upside of Anger, The (2005)', 30994: 'Little Miss Marker (1980)', 31000: 'Sweet Liberty (1986)', 31030: 'I Remember Mama (1948)', 31038: 'Smooth Talk (1985)', 31049: 'Out Cold (1989)', 31083: 'Man Trouble (1992)', 31086: 'Battles Without Honor & Humanity (Jingi naki tatakai) (1973)', 31101: 'Stander (2003)', 31114: 'Imaginary Heroes (2004)', 31116: 'Sergeant York (1941)', 31123: 'Ruby & Quentin (Tais-toi!) (2003)', 31150: 'Wizards (1977)', 31162: 'Life and Death of Peter Sellers, The (2004)', 31184: 'Appleseed (AppurushÃ®do) (2004)', 31193: 'Many Adventures of Winnie the Pooh, The (1977)', 31221: 'Elektra (2005)', 31223: 'Racing Stripes (2005)', 31225: 'Coach Carter (2005)', 31260: 'Boys Town (1938)', 31297: 'Gold Diggers of 1935 (1935)', 31309: 'Rocco and His Brothers (Rocco e i suoi fratelli) (1960)', 31364: 'Memories of Murder (Salinui chueok) (2003)', 31367: 'Chase, The (1994)', 31410: 'Downfall (Untergang, Der) (2004)', 31420: 'Assault on Precinct 13 (2005)', 31422: 'Are We There Yet? (2005)', 31424: 'Alone in the Dark (2005)', 31427: 'Hide and Seek (2005)', 31431: 'Boogeyman (2005)', 31433: 'Wedding Date, The (2005)', 31435: \"Rory O'Shea Was Here (Inside I'm Dancing) (2004)\", 31437: 'Nobody Knows (Dare mo shiranai) (2004)', 31445: 'Employee of the Month (2004)', 31522: 'Marriage of Maria Braun, The (Ehe der Maria Braun, Die) (1979)', 31545: 'Trou, Le (Hole, The) (Night Watch, The) (1960)', 31553: 'Double Dragon (1994)', 31590: 'Hands Off the Loot (Touchez pas au grisbi) (1954)', 31610: 'Purple Butterfly (Zi hudie) (2003)', 31617: 'El Cid (1961)', 31658: \"Howl's Moving Castle (Hauru no ugoku shiro) (2004)\", 31660: 'Steamboy (SuchÃ®mubÃ´i) (2004)', 31664: 'Gorgeous (Boh lee chun) (1999)', 31685: 'Hitch (2005)', 31692: 'Uncle Nino (2003)', 31694: 'Bride & Prejudice (2004)', 31696: 'Constantine (2005)', 31698: 'Son of the Mask (2005)', 31700: 'Because of Winn-Dixie (2005)', 31702: 'Turtles Can Fly (Lakposhtha hÃ¢m parvaz mikonand) (2004)', 31737: 'Bunny Lake Is Missing (1965)', 31804: 'Night Watch (Nochnoy dozor) (2004)', 31851: 'Sons of the Desert (1933)', 31867: 'Man of the House (2005)', 31878: 'Kung Fu Hustle (Gong fu) (2004)', 31903: 'Zelary (2003)', 31909: 'Dr. Giggles (1992)', 31921: 'Seven-Per-Cent Solution, The (1976)', 31923: 'Three Musketeers, The (1973)', 31925: 'Royal Flash (1975)', 31952: 'Control (Kontroll) (2003)', 31973: 'Germany Year Zero (Germania anno zero) (Deutschland im Jahre Null) (1948)', 32009: \"Tyler Perry's Diary of a Mad Black Woman (2005)\", 32011: 'Cursed (2005)', 32017: 'Pacifier, The (2005)', 32019: 'Be Cool (2005)', 32022: 'Gunner Palace (2004)', 32029: 'Hostage (2005)', 32031: 'Robots (2005)', 32058: 'Class Action (1991)', 32060: 'Cat and the Canary, The (1927)', 32116: 'Oh, God! You Devil (1984)', 32139: 'Agony and the Ecstasy, The (1965)', 32160: 'Twentieth Century (1934)', 32179: \"Elevator to the Gallows (a.k.a. Frantic) (Ascenseur pour l'Ã©chafaud) (1958)\", 32213: 'Cube Zero (2004)', 32234: 'Julia (1977)', 32243: 'Stealing Rembrandt (Rembrandt) (2003)', 32289: 'Ice Princess (2005)', 32291: 'Melinda and Melinda (2004)', 32294: 'Milk and Honey (2003)', 32296: 'Miss Congeniality 2: Armed and Fabulous (2005)', 32298: 'Guess Who (2005)', 32300: 'D.E.B.S. (2004)', 32302: 'League of Ordinary Gentlemen, A (2004)', 32314: 'Incident at Loch Ness (2004)', 32371: 'Call Northside 777 (1948)', 32387: 'Sword of Doom, The (Dai-bosatsu tÃ´ge) (1966)', 32392: '800 Bullets (800 Balas) (2002)', 32440: 'If Looks Could Kill (1991)', 32442: 'Greedy (1994)', 32456: 'Pom Poko (a.k.a. Raccoon War, The) (Heisei tanuki gassen pompoko) (1994)', 32460: \"Knockin' on Heaven's Door (1997)\", 32469: \"We're No Angels (1955)\", 32511: 'Touch of Zen, A (Xia nu) (1971)', 32515: 'Walker (1987)', 32554: 'Memories (MemorÃ®zu) (1995)', 32582: 'Wild Parrots of Telegraph Hill, The (2003)', 32584: 'Ballad of Jack and Rose, The (2005)', 32587: 'Sin City (2005)', 32589: 'Beauty Shop (2005)', 32596: 'Sahara (2005)', 32598: 'Fever Pitch (2005)', 32600: 'Eros (2004)', 32620: 'Not on the Lips (Pas sur la bouche) (2003)', 32632: 'Electra Glide in Blue (1973)', 32649: 'Special Day, A (Giornata particolare, Una) (1977)', 32657: \"Man Who Planted Trees, The (Homme qui plantait des arbres, L') (1987)\", 32659: 'Tanguy (2001)', 32666: \"National Lampoon's Lady Killers (National Lampoon's Gold Diggers) (2003)\", 32728: 'Little Girl Who Lives Down the Lane, The (1976)', 32743: 'Ringu 0: BÃ¢sudei (2000)', 32770: 'Brothers (BrÃ¸dre) (2004)', 32799: 'Maidens in Uniform (MÃ¤dchen in Uniform) (1931)', 32862: 'With Six You Get Eggroll (1968)', 32875: 'Holiday (Jour de fÃªte) (1949)', 32892: \"Ivan's Childhood (a.k.a. My Name is Ivan) (Ivanovo detstvo) (1962)\", 32898: 'Trip to the Moon, A (Voyage dans la lune, Le) (1902)', 32906: 'Ascent, The (Voskhozhdeniye) (1977)', 32914: 'Carrie (2002)', 32917: \"Boccaccio '70 (1962)\", 33004: \"Hitchhiker's Guide to the Galaxy, The (2005)\", 33085: 'Amityville Horror, The (2005)', 33090: 'Mutant Aliens (2001)', 33124: 'Before the Fall (NaPolA - Elite fÃ¼r den FÃ¼hrer) (2004)', 33126: 'Frisco Kid, The (1979)', 33132: 'State Property 2 (2005)', 33138: 'Palindromes (2004)', 33145: 'Lot Like Love, A (2005)', 33148: \"King's Ransom (2005)\", 33154: 'Enron: The Smartest Guys in the Room (2005)', 33158: 'xXx: State of the Union (2005)', 33162: 'Kingdom of Heaven (2005)', 33164: 'House of Wax (2005)', 33166: 'Crash (2004)', 33171: 'Mysterious Skin (2004)', 33188: 'Mischief (1985)', 33201: 'Between Your Legs (Entre las piernas) (1999)', 33237: 'San Francisco (1936)', 33294: 'Vampire Hunter D (1985)', 33310: 'Common Thread, A (a.k.a. Sequins) (Brodeuses) (2004)', 33312: 'Cocoanuts, The (1929)', 33421: 'Dear Wendy (2005)', 33435: 'Los Angeles Plays Itself (2003)', 33437: 'Unleashed (Danny the Dog) (2005)', 33493: 'Star Wars: Episode III - Revenge of the Sith (2005)', 33495: 'Kicking & Screaming (2005)', 33499: 'Monster-in-Law (2005)', 33558: 'Snow Walker, The (2003)', 33564: \"Divorce - Italian Style (Divorzio all'italiana) (1961)\", 33615: 'Madagascar (2005)', 33629: 'Airborne (1993)', 33639: 'Mad Hot Ballroom (2005)', 33644: 'Dominion: Prequel to the Exorcist (2005)', 33646: 'Longest Yard, The (2005)', 33649: 'Saving Face (2004)', 33660: 'Cinderella Man (2005)', 33669: 'Sisterhood of the Traveling Pants, The (2005)', 33672: 'Lords of Dogtown (2005)', 33677: 'Rock School (2005)', 33679: 'Mr. & Mrs. Smith (2005)', 33681: 'Adventures of Sharkboy and Lavagirl 3-D, The (2005)', 33683: 'High Tension (Haute tension) (Switchblade Romance) (2003)', 33725: \"It's All Gone Pete Tong (2004)\", 33779: 'Eddie Izzard: Dress to Kill (1999)', 33781: 'Quo Vadis (1951)', 33794: 'Batman Begins (2005)', 33801: 'Godzilla: Final Wars (Gojira: Fainaru uÃ´zu) (2004)', 33815: 'Perfect Man, The (2005)', 33826: 'Saint Ralph (2004)', 33830: 'Herbie: Fully Loaded (2005)', 33834: 'Land of the Dead (2005)', 33836: 'Bewitched (2005)', 33838: 'Rize (2005)', 33880: 'Me and You and Everyone We Know (2005)', 33893: 'Perfect Crime, The (Crimen Ferpecto) (Ferpect Crime) (2004)', 33896: '3 Extremes (Three... Extremes) (Saam gaang yi) (2004)', 33903: 'Edukators, The (Die Fetten Jahre sind vorbei) (2004)', 33966: 'Cop and Â½ (1993)', 34018: 'At the Circus (1939)', 34048: 'War of the Worlds (2005)', 34072: \"March of the Penguins (Marche de l'empereur, La) (2005)\", 34129: 'Rebound (2005)', 34143: 'Dark Water (2005)', 34148: \"Beat That My Heart Skipped, The (battre mon coeur s'est arrÃªtÃ©, De) (2005)\", 34150: 'Fantastic Four (2005)', 34153: 'Murderball (2005)', 34162: 'Wedding Crashers (2005)', 34164: 'Happy Endings (2005)', 34271: 'Hustle & Flow (2005)', 34292: 'Hardware (1990)', 34312: 'Calcium Kid, The (2004)', 34319: 'Island, The (2005)', 34321: 'Bad News Bears (2005)', 34323: \"Devil's Rejects, The (2005)\", 34326: 'Last Days (2005)', 34330: 'November (2004)', 34332: 'Sky High (2005)', 34334: 'Stealth (2005)', 34336: 'Must Love Dogs (2005)', 34338: 'Aristocrats, The (2005)', 34359: 'Georgy Girl (1966)', 34397: 'Order, The (2001)', 34405: 'Serenity (2005)', 34437: 'Broken Flowers (2005)', 34450: 'Miracles - Mr. Canton and Lady Rose (1989)', 34482: 'Browning Version, The (1951)', 34520: 'Dukes of Hazzard, The (2005)', 34523: 'The Chumscrubber (2005)', 34528: 'Junebug (2005)', 34530: 'Deuce Bigalow: European Gigolo (2005)', 34532: 'Skeleton Key, The (2005)', 34534: 'Four Brothers (2005)', 34536: 'The Great Raid (2005)', 34540: 'Pretty Persuasion (2005)', 34542: 'Grizzly Man (2005)', 34800: 'Private Resort (1985)', 34811: 'Pusher II: With Blood on My Hands (2004)', 35015: 'Duma (2005)', 35347: 'Animal Farm (1954)', 35807: 'Teahouse of the August Moon, The (1956)', 35836: '40-Year-Old Virgin, The (2005)', 35957: 'Red Eye (2005)', 36276: 'Hidden (a.k.a. Cache) (CachÃ©) (2005)', 36289: 'Asterix & Obelix vs. Caesar (AstÃ©rix et ObÃ©lix contre CÃ©sar) (1999)', 36363: 'Kin-Dza-Dza! (1986)', 36397: 'Valiant (2005)', 36401: 'Brothers Grimm, The (2005)', 36477: 'Baxter, The (2005)', 36509: 'Cave, The (2005)', 36517: 'Constant Gardener, The (2005)', 36519: 'Transporter 2 (2005)', 36525: 'Just Like Heaven (2005)', 36527: 'Proof (2005)', 36529: 'Lord of War (2005)', 36533: 'Cry_Wolf (a.k.a. Cry Wolf) (2005)', 36535: 'Everything Is Illuminated (2005)', 36537: 'Thumbsucker (2005)', 36708: 'Family Guy Presents Stewie Griffin: The Untold Story (2005)', 36850: 'Police Story 2 (Ging chaat goo si juk jaap) (1988)', 36931: 'New Police Story (Xin jing cha gu shi) (2004)', 37211: 'Go West (1940)', 37240: 'Why We Fight (2005)', 37380: 'Doom (2005)', 37382: 'Domino (2005)', 37384: 'Waiting... (2005)', 37386: 'Aeon Flux (2005)', 37444: 'Frankenstein 90 (1984)', 37475: 'Unfinished Life, An (2005)', 37477: 'Man, The (2005)', 37495: 'Survive Style 5+ (2004)', 37545: 'Woyzeck (1979)', 37720: 'Exorcism of Emily Rose, The (2005)', 37727: 'Flightplan (2005)', 37729: 'Corpse Bride (2005)', 37731: 'Green Street Hooligans (a.k.a. Hooligans) (2005)', 37733: 'History of Violence, A (2005)', 37736: 'Oliver Twist (2005)', 37739: 'Greatest Game Ever Played, The (2005)', 37741: 'Capote (2005)', 37830: 'Final Fantasy VII: Advent Children (2004)', 37844: 'Roll Bounce (2005)', 37853: 'Into the Blue (2005)', 37857: 'MirrorMask (2005)', 38038: 'Wallace & Gromit in The Curse of the Were-Rabbit (2005)', 38061: 'Kiss Kiss Bang Bang (2005)', 38095: 'Bittersweet Life, A (Dalkomhan insaeng) (2005)', 38159: 'Short Film About Love, A (KrÃ³tki film o milosci) (1988)', 38164: 'All This, and Heaven Too (1940)', 38198: \"Darwin's Nightmare (2004)\", 38294: 'Beowulf & Grendel (2005)', 38304: 'No Direction Home: Bob Dylan (2005)', 38388: 'Goal! The Dream Begins (Goal!) (2005)', 38583: 'Wraith, The (1986)', 38798: 'In Her Shoes (2005)', 38886: 'Squid and the Whale, The (2005)', 38992: 'Two for the Money (2005)', 39183: 'Brokeback Mountain (2005)', 39231: 'Elizabethtown (2005)', 39234: 'North Country (2005)', 39292: 'Good Night, and Good Luck. (2005)', 39307: 'Dreamer: Inspired by a True Story (2005)', 39381: 'Proposition, The (2005)', 39400: 'Fog, The (2005)', 39414: 'Shopgirl (2005)', 39427: 'Stay (2005)', 39435: 'Legend of Zorro, The (2005)', 39444: 'Weather Man, The (2005)', 39446: 'Saw II (2005)', 39449: 'Prime (2005)', 39516: \"Don't Move (Non ti muovere) (2004)\", 39715: 'American Pie Presents: Band Camp (American Pie 4: Band Camp) (2005)', 39801: 'Great Yokai War, The (YÃ´kai daisensÃ´) (2005)', 39869: 'Manderlay (2005)', 40148: 'Revolver (2005)', 40278: 'Jarhead (2005)', 40339: 'Chicken Little (2005)', 40412: \"Dead Man's Shoes (2004)\", 40414: 'Joyeux NoÃ«l (Merry Christmas) (2005)', 40478: 'Night of the Lepus (1972)', 40491: 'Match Factory Girl, The (Tulitikkutehtaan tyttÃ¶) (1990)', 40578: 'Sword of the Beast (Kedamono no ken) (1965)', 40581: 'Just Friends (2005)', 40583: 'Syriana (2005)', 40597: 'One-Way Ticket to Mombasa (Menolippu Mombasaan) (2002)', 40614: 'Derailed (2005)', 40617: 'Creep (2004)', 40629: 'Pride & Prejudice (2005)', 40697: 'Babylon 5', 40723: 'Wolf Creek (2005)', 40732: 'Descent, The (2005)', 40815: 'Harry Potter and the Goblet of Fire (2005)', 40819: 'Walk the Line (2005)', 40826: 'Rent (2005)', 40851: 'Zathura (2005)', 40870: 'C.R.A.Z.Y. (2005)', 40946: 'Sarah Silverman: Jesus Is Magic (2005)', 40955: 'Breakfast on Pluto (2005)', 40959: 'Ice Harvest, The (2005)', 40962: 'Yours, Mine and Ours (2005)', 40966: 'Libertine, The (2004)', 41014: \"Bird with the Crystal Plumage, The (Uccello dalle piume di cristallo, L') (1970)\", 41285: 'Match Point (2005)', 41527: 'Paradise Now (2005)', 41566: 'Chronicles of Narnia: The Lion, the Witch and the Wardrobe, The (2005)', 41569: 'King Kong (2005)', 41571: 'Memoirs of a Geisha (2005)', 41573: 'Family Stone, The (2005)', 41617: 'Havoc (2005)', 41627: 'Samurai Rebellion (JÃ´i-uchi: HairyÃ´ tsuma shimatsu) (1967)', 41712: 'Room for Romeo Brass, A (1999)', 41716: 'Matador, The (2005)', 41724: 'Wal-Mart: The High Cost of Low Price (2005)', 41769: 'Mozart and the Whale (2005)', 41828: \"Don't Look Now: We're Being Shot At (La grande vadrouille) (1966)\", 41863: 'Three Burials of Melquiades Estrada, The (2006)', 41997: 'Munich (2005)', 42002: 'Producers, The (2005)', 42004: 'Transamerica (2005)', 42007: 'Rumor Has It... (2005)', 42009: 'Cheaper by the Dozen 2 (2005)', 42011: 'Fun with Dick and Jane (2005)', 42013: 'Ringer, The (2005)', 42015: 'Casanova (2005)', 42018: 'Mrs. Henderson Presents (2005)', 42176: 'Ear, The (Ucho) (1970)', 42191: 'Luxo Jr. (1986)', 42285: 'Dentist, The (1996)', 42418: 'New World, The (2005)', 42422: 'Voices of a Distant Star (Hoshi no koe) (2003)', 42556: '7 Faces of Dr. Lao (1964)', 42559: 'Samurai Assassin (Samurai) (1965)', 42602: 'Boys of Baraka, The (2005)', 42632: 'Lady Vengeance (Sympathy for Lady Vengeance) (Chinjeolhan geumjassi) (2005)', 42638: 'Grand Theft Parsons (2003)', 42718: 'District 13 (Banlieue 13) (2004)', 42723: 'Hostel (2005)', 42725: \"Grandma's Boy (2006)\", 42728: 'Tristan & Isolde (2006)', 42730: 'Glory Road (2006)', 42732: 'Last Holiday (2006)', 42734: 'Hoodwinked! (2005)', 42738: 'Underworld: Evolution (2006)', 42740: 'Looking for Comedy in the Muslim World (2005)', 42761: 'Casper Meets Wendy (1998)', 42943: 'Revolution (1985)', 42946: \"Project A ('A' gai waak) (1983)\", 43289: 'Bird People in China, The (ChÃ»goku no chÃ´jin) (1998)', 43333: 'Water (2005)', 43376: 'Sophie Scholl: The Final Days (Sophie Scholl - Die letzten Tage) (2005)', 43396: \"World's Fastest Indian, The (2005)\", 43419: 'Bandidas (2006)', 43460: 'Tristram Shandy: A Cock and Bull Story (2005)', 43549: 'Helter Skelter (2004)', 43556: 'Annapolis (2006)', 43558: \"Big Momma's House 2 (2006)\", 43560: 'Nanny McPhee (2005)', 43677: 'Tuskegee Airmen, The (1995)', 43679: 'Final Destination 3 (2006)', 43684: 'Something New (2006)', 43708: \"Block Party (a.k.a. Dave Chappelle's Block Party) (2005)\", 43744: 'Imagine Me & You (2005)', 43836: 'Pink Panther, The (2006)', 43869: 'Curious George (2006)', 43871: 'Firewall (2006)', 43904: 'When a Stranger Calls (2006)', 43908: 'London (2005)', 43912: 'Freedomland (2006)', 43914: 'Winter Passing (2005)', 43917: 'Eight Below (2006)', 43919: 'Date Movie (2006)', 43921: 'Running Scared (2006)', 43928: 'Ultraviolet (2006)', 43930: 'Just My Luck (2006)', 43932: 'Pulse (2006)', 43936: '16 Blocks (2006)', 44004: 'Failure to Launch (2006)', 44020: 'Ultimate Avengers (2006)', 44022: 'Ice Age 2: The Meltdown (2006)', 44189: 'Ask the Dust (2006)', 44191: 'V for Vendetta (2006)', 44193: \"She's the Man (2006)\", 44195: 'Thank You for Smoking (2006)', 44197: 'Find Me Guilty (2006)', 44199: 'Inside Man (2006)', 44204: 'Tsotsi (2005)', 44225: 'Aquamarine (2006)', 44238: 'Leprechaun 2 (1994)', 44241: 'Leprechaun 3 (1995)', 44243: 'Leprechaun 4: In Space (1997)', 44301: 'Lights in the Dusk (Laitakaupungin valot) (2006)', 44397: 'Hills Have Eyes, The (2006)', 44399: 'Shaggy Dog, The (2006)', 44511: 'Unknown White Male (2005)', 44555: 'Lives of Others, The (Das leben der Anderen) (2006)', 44597: 'Youth of the Beast (Yaju no seishun) (1963)', 44613: 'Take the Lead (2006)', 44633: 'Devil and Daniel Johnston, The (2005)', 44657: 'Mouchette (1967)', 44665: 'Lucky Number Slevin (2006)', 44694: 'Volver (2006)', 44709: 'Akeelah and the Bee (2006)', 44719: 'Brainstorm (2001)', 44731: 'Stay Alive (2006)', 44759: 'Basic Instinct 2 (2006)', 44761: 'Brick (2005)', 44773: 'Dead Hate the Living!, The (2000)', 44777: 'Evil Aliens (2005)', 44788: 'This Film Is Not Yet Rated (2006)', 44828: 'Slither (2006)', 44840: 'Benchwarmers, The (2006)', 44849: 'Renaissance (2006)', 44851: 'Go for Zucker! (Alles auf Zucker!) (2004)', 44864: 'Friends with Money (2006)', 44889: 'Reefer Madness: The Movie Musical (2005)', 44929: 'Candy (2006)', 44931: 'Secrets of a Soul (Geheimnisse einer Seele) (1926)', 44937: \"Child, The (L'enfant) (2005)\", 44943: '9/11 (2002)', 44972: 'Scary Movie 4 (2006)', 44974: 'Hard Candy (2005)', 45028: 'Prairie Home Companion, A (2006)', 45062: 'Sentinel, The (2006)', 45074: 'Wild, The (2006)', 45081: 'Silent Hill (2006)', 45106: 'American Dreamz (2006)', 45175: 'Kinky Boots (2005)', 45183: 'Protector, The (a.k.a. Warrior King) (Tom yum goong) (2005)', 45186: 'Mission: Impossible III (2006)', 45208: 'RV (2006)', 45210: 'United 93 (2006)', 45221: 'Stick It (2006)', 45361: 'American Haunting, An (2005)', 45382: 'Down in the Valley (2005)', 45431: 'Over the Hedge (2006)', 45440: 'Art School Confidential (2006)', 45442: 'Poseidon (2006)', 45447: 'Da Vinci Code, The (2006)', 45499: 'X-Men: The Last Stand (2006)', 45501: 'Break-Up, The (2006)', 45503: 'Peaceful Warrior (2006)', 45517: 'Cars (2006)', 45635: 'Notorious Bettie Page, The (2005)', 45648: 'Game 6 (2005)', 45658: 'On a Clear Day (2005)', 45662: 'Omen, The (2006)', 45666: 'Nacho Libre (2006)', 45668: 'Lake House, The (2006)', 45672: 'Click (2006)', 45720: 'Devil Wears Prada, The (2006)', 45722: \"Pirates of the Caribbean: Dead Man's Chest (2006)\", 45726: 'You, Me and Dupree (2006)', 45728: 'Clerks II (2006)', 45730: 'Lady in the Water (2006)', 45732: 'My Super Ex-Girlfriend (2006)', 45880: 'Marie Antoinette (2006)', 45928: 'Who Killed the Electric Car? (2006)', 45950: 'Inconvenient Truth, An (2006)', 45969: 'Career Opportunities (1991)', 46062: 'High School Musical (2006)', 46105: 'I Am a Sex Addict (2005)', 46231: 'Stoned (2005)', 46322: \"Jet Li's Fearless (Huo Yuan Jia) (2006)\", 46335: 'Fast and the Furious: Tokyo Drift, The (Fast and the Furious 3, The) (2006)', 46337: 'Garfield: A Tail of Two Kitties (2006)', 46347: \"Metal: A Headbanger's Journey (2005)\", 46367: 'Public Eye, The (1992)', 46530: 'Superman Returns (2006)', 46559: 'Road to Guantanamo, The (2006)', 46572: 'Edmond (2005)', 46574: 'OH in Ohio, The (2006)', 46578: 'Little Miss Sunshine (2006)', 46664: 'Fallen Idol, The (1948)', 46723: 'Babel (2006)', 46772: 'Strangers with Candy (2005)', 46850: 'Wordplay (2006)', 46855: \"Army of Shadows (L'armÃ©e des ombres) (1969)\", 46862: \"Orchestra Rehearsal (Prova d'orchestra) (1978)\", 46865: 'Little Man (2006)', 46948: 'Monster House (2006)', 46965: 'Snakes on a Plane (2006)', 46967: 'Scoop (2006)', 46970: 'Talladega Nights: The Ballad of Ricky Bobby (2006)', 46972: 'Night at the Museum (2006)', 46974: 'World Trade Center (2006)', 46976: 'Stranger than Fiction (2006)', 47044: 'Miami Vice (2006)', 47099: 'Pursuit of Happyness, The (2006)', 47122: 'John Tucker Must Die (2006)', 47124: 'Ant Bully, The (2006)', 47200: 'Crank (2006)', 47202: 'Secret Life of Words, The (2005)', 47254: 'Chaos (2005)', 47261: 'Night Listener, The (2006)', 47382: 'Step Up (2006)', 47384: 'Zoom (2006)', 47404: 'Mind Game (2004)', 47423: 'Half Nelson (2006)', 47446: 'Moustache, La (2005)', 47465: 'Tideland (2005)', 47491: \"Adam's Apples (Adams Ã¦bler) (2005)\", 47516: 'Material Girls (2006)', 47518: 'Accepted (2006)', 47538: 'Crime Busters (1977)', 47566: 'Born to Kill (1947)', 47610: 'Illusionist, The (2006)', 47629: 'The Queen (2006)', 47640: 'Beerfest (2006)', 47644: 'Invincible (2006)', 47646: 'Idlewild (2006)', 47721: 'Red Balloon, The (Ballon rouge, Le) (1956)', 47725: 'Angel-A (2005)', 47736: 'Chump at Oxford, A (1940)', 47774: 'Icicle Thief, The (Ladri di saponette) (1989)', 47793: 'Puffy Chair, The (2006)', 47810: 'Wicker Man, The (2006)', 47894: 'Wind That Shakes the Barley, The (2006)', 47937: 'Severance (2006)', 47950: 'Hollywoodland (2006)', 47952: 'Covenant, The (2006)', 47970: 'Last Kiss, The (2006)', 47978: 'SherryBaby (2006)', 47997: 'Idiocracy (2006)', 47999: 'Jesus Camp (2006)', 48001: 'Bow, The (Hwal) (2005)', 48032: 'Tiger and the Snow, The (La tigre e la neve) (2005)', 48043: 'Fountain, The (2006)', 48045: 'Fear City: A Family-Style Comedy (La citÃ© de la peur) (1994)', 48082: 'Science of Sleep, The (La science des rÃªves) (2006)', 48142: 'Black Dahlia, The (2006)', 48150: 'Woods, The (2006)', 48161: 'Gridiron Gang (2006)', 48214: 'Land of Plenty (Angst and Alienation in America) (2004)', 48262: 'Bridge, The (2006)', 48304: 'Apocalypto (2006)', 48319: 'Flyboys (2006)', 48322: 'Jackass Number Two (2006)', 48326: \"All the King's Men (2006)\", 48342: 'Conversations with Other Women (2005)', 48385: 'Borat: Cultural Learnings of America for Make Benefit Glorious Nation of Kazakhstan (2006)', 48394: \"Pan's Labyrinth (Laberinto del fauno, El) (2006)\", 48412: 'Guardian, The (2006)', 48414: 'Open Season (2006)', 48416: 'School for Scoundrels (2006)', 48516: 'Departed, The (2006)', 48518: 'Texas Chainsaw Massacre: The Beginning, The (2006)', 48520: 'Employee of the Month (2006)', 48560: 'Running With Scissors (2006)', 48593: 'Man of the Year (2006)', 48596: 'Marine, The (2006)', 48598: 'Infamous (2006)', 48638: \"Fellini's Casanova (Il Casanova di Federico Fellini) (1976)\", 48649: 'Chapayev (1934)', 48678: 'Feast (2005)', 48696: 'Little Children (2006)', 48698: 'Deliver Us from Evil (2006)', 48738: 'Last King of Scotland, The (2006)', 48741: 'U.S. vs. John Lennon, The (2006)', 48744: 'Shortbus (2006)', 48774: 'Children of Men (2006)', 48780: 'Prestige, The (2006)', 48783: 'Flags of Our Fathers (2006)', 48872: '13 Tzameti (2005)', 48877: 'Saw III (2006)', 48879: 'Catch a Fire (2006)', 48883: 'Death of a President (2006)', 48982: 'Flushed Away (2006)', 48997: 'Perfume: The Story of a Murderer (2006)', 49013: 'Santa Clause 3: The Escape Clause, The (2006)', 49110: 'Mom and Dad Save the World (1992)', 49130: 'Good Year, A (2006)', 49132: 'Shut Up & Sing (2006)', 49220: 'For Your Consideration (2006)', 49263: 'Fuck (2005)', 49265: 'Shooting Dogs (a.k.a. Beyond the Gates) (2005)', 49272: 'Casino Royale (2006)', 49274: 'Happy Feet (2006)', 49276: \"Let's Go to Prison (2006)\", 49278: 'DÃ©jÃ\\xa0 Vu (Deja Vu) (2006)', 49280: 'Bobby (2006)', 49284: '10 Items or Less (2006)', 49286: 'Holiday, The (2006)', 49314: 'Harsh Times (2006)', 49347: 'Fast Food Nation (2006)', 49389: 'The Great Train Robbery (1903)', 49396: 'Tenacious D in The Pick of Destiny (2006)', 49524: 'Nativity Story, The (2006)', 49530: 'Blood Diamond (2006)', 49647: \"Charlotte's Web (2006)\", 49649: 'Eragon (2006)', 49651: 'Rocky Balboa (2006)', 49666: 'Fur: An Imaginary Portrait of Diane Arbus (2006)', 49688: 'Dam Busters, The (1955)', 49735: 'Another Gay Movie (2006)', 49772: 'Painted Veil, The (2006)', 49793: 'We Are Marshall (2006)', 49822: 'Good Shepherd, The (2006)', 49824: 'Dreamgirls (2006)', 49910: 'Freedom Writers (2007)', 49917: 'When the Levees Broke: A Requiem in Four Acts (2006)', 49932: 'Inland Empire (2006)', 49957: 'History Boys, The (2006)', 49961: 'Notes on a Scandal (2006)', 50003: 'DOA: Dead or Alive (2006)', 50005: 'Curse of the Golden Flower (Man cheng jin dai huang jin jia) (2006)', 50064: 'Good German, The (2006)', 50068: 'Letters from Iwo Jima (2006)', 50147: 'Black Christmas (2006)', 50158: 'Stomp the Yard (2007)', 50160: 'Miss Potter (2006)', 50189: 'American Pie Presents The Naked Mile (American Pie 5: The Naked Mile) (2006)', 50274: 'Venus (2006)', 50354: 'The Return of Don Camillo (1953)', 50356: 'The Little World of Don Camillo (1952)', 50440: 'Primeval (2007)', 50442: 'Alpha Dog (2007)', 50445: 'Hitcher, The (2007)', 50514: 'After the Wedding (Efter brylluppet) (2006)', 50601: 'Bridge to Terabithia (2007)', 50610: 'Beer League (2006)', 50613: 'Dead Meat (2004)', 50658: '49 Up (2005)', 50685: 'Waitress (2007)', 50740: 'Seven Up! (1964)', 50792: 'Catch and Release (2006)', 50794: \"Smokin' Aces (2006)\", 50796: 'Blood and Chocolate (2007)', 50798: 'Epic Movie (2007)', 50800: 'Messengers, The (2007)', 50802: 'Because I Said So (2007)', 50804: 'Hannibal Rising (2007)', 50806: 'Norbit (2007)', 50842: 'Boss of It All, The (DirektÃ¸ren for det hele) (2006)', 50851: 'Cocaine Cowboys (2006)', 50872: 'Ratatouille (2007)', 50912: \"Paris, I Love You (Paris, je t'aime) (2006)\", 50923: 'Astronaut Farmer, The (2007)', 50942: 'Wake Up, Ron Burgundy (2004)', 50954: \"It's a Boy Girl Thing (2006)\", 50999: 'Ugly Duckling and Me!, The (2006)', 51024: 'The Odyssey (1997)', 51037: 'Unknown (2006)', 51077: 'Ghost Rider (2007)', 51080: 'Breach (2007)', 51082: \"Tyler Perry's Daddy's Little Girls (2007)\", 51084: 'Music and Lyrics (2007)', 51086: 'Number 23, The (2007)', 51088: 'Reno 911!: Miami (2007)', 51091: 'Black Snake Moan (2006)', 51167: 'My Father and My Son (Babam ve oglum) (2005)', 51174: 'Factory Girl (2006)', 51255: 'Hot Fuzz (2007)', 51314: 'Golden Door (Nuovomondo) (2006)', 51357: 'Citizen X (1995)', 51412: 'Next (2007)', 51471: 'Amazing Grace (2006)', 51498: '2001 Maniacs (2005)', 51540: 'Zodiac (2007)', 51545: \"Pusher III: I'm the Angel of Death (2005)\", 51562: 'Babylon 5: The Gathering (1993)', 51573: 'Meshes of the Afternoon (1943)', 51575: 'Wild Hogs (2007)', 51662: '300 (2007)', 51666: 'Abandoned, The (2006)', 51694: 'Starter for 10 (2006)', 51698: 'Last Mimzy, The (2007)', 51705: 'Priceless (Hors de prix) (2006)', 51709: 'Host, The (Gwoemul) (2006)', 51834: 'Becoming Jane (2007)', 51884: 'Namesake, The (2006)', 51903: 'I Think I Love My Wife (2007)', 51925: 'Premonition (2007)', 51927: 'Dead Silence (2007)', 51931: 'Reign Over Me (2007)', 51933: 'Pride (2007)', 51935: 'Shooter (2007)', 51937: 'Hills Have Eyes II, The (2007)', 51939: 'TMNT (Teenage Mutant Ninja Turtles) (2007)', 52042: 'Black Book (Zwartboek) (2006)', 52241: 'Lookout, The (2007)', 52245: 'Blades of Glory (2007)', 52279: 'Are We Done Yet? (2007)', 52281: 'Grindhouse (2007)', 52283: 'Reaping, The (2007)', 52287: 'Meet the Robinsons (2007)', 52299: 'American Hardcore (2006)', 52319: 'Inglorious Bastards (Quel maledetto treno blindato) (1978)', 52328: 'Sunshine (2007)', 52375: 'Hoax, The (2007)', 52435: 'How the Grinch Stole Christmas! (1966)', 52458: 'Disturbia (2007)', 52462: 'Aqua Teen Hunger Force Colon Movie Film for Theaters (2007)', 52579: 'Vie en Rose, La (MÃ´me, La) (2007)', 52604: 'Fracture (2007)', 52644: 'Vacancy (2007)', 52668: 'In the Land of Women (2007)', 52694: \"Mr. Bean's Holiday (2007)\", 52712: 'Invisible, The (2007)', 52715: 'Kickin It Old Skool (2007)', 52722: 'Spider-Man 3 (2007)', 52724: 'Lucky You (2007)', 52730: \"It's a Very Merry Muppet Christmas Movie (2002)\", 52767: '21 Up (1977)', 52784: 'Sharkwater (2006)', 52831: 'Maniac Cop (1988)', 52867: 'Ex, The (2007)', 52885: 'Paprika (Papurika) (2006)', 52950: 'Day Watch (Dnevnoy dozor) (2006)', 52952: 'This Is England (2006)', 52967: 'Away from Her (2006)', 52973: 'Knocked Up (2007)', 52975: 'Hairspray (2007)', 53000: '28 Weeks Later (2007)', 53022: 'Wheels on Meals (Kuai can che) (1984)', 53024: 'Jonestown: The Life and Death of Peoples Temple (2006)', 53121: 'Shrek the Third (2007)', 53123: 'Once (2006)', 53125: \"Pirates of the Caribbean: At World's End (2007)\", 53127: 'Bug (2007)', 53129: 'Mr. Brooks (2007)', 53138: \"Librarian: Return to King Solomon's Mines, The (2006)\", 53140: 'Librarian: Quest for the Spear, The (2004)', 53143: 'Fay Grim (2006)', 53161: \"I'm a Cyborg, But That's OK (Saibogujiman kwenchana) (2006)\", 53280: 'Breed, The (2006)', 53318: 'Cashback (2006)', 53322: \"Ocean's Thirteen (2007)\", 53326: 'Them (Ils) (2006)', 53355: 'Sun Alley (Sonnenallee) (1999)', 53435: 'Hostel: Part II (2007)', 53447: 'Paranoid Park (2007)', 53450: 'Legend of Sleepy Hollow, The (1980)', 53453: 'Starcrash (a.k.a. Star Crash) (1978)', 53460: \"Surf's Up (2007)\", 53464: 'Fantastic Four: Rise of the Silver Surfer (2007)', 53466: 'Nancy Drew (2007)', 53468: 'Fido (2006)', 53519: 'Death Proof (2007)', 53550: 'Rescue Dawn (2006)', 53574: 'TV Set, The (2006)', 53578: 'Valet, The (La doublure) (2006)', 53808: 'Bring It On: All or Nothing (2006)', 53883: 'Power of Nightmares, The: The Rise of the Politics of Fear (2004)', 53894: 'Sicko (2007)', 53921: 'Mighty Heart, A (2007)', 53953: '1408 (2007)', 53956: 'Death at a Funeral (2007)', 53972: 'Live Free or Die Hard (2007)', 53974: 'License to Wed (2007)', 53993: 'Evan Almighty (2007)', 53996: 'Transformers (2007)', 54001: 'Harry Potter and the Order of the Phoenix (2007)', 54004: 'I Now Pronounce You Chuck and Larry (2007)', 54116: 'First Snow (2006)', 54121: 'Broken Arrow (1950)', 54185: 'Manufactured Landscapes (2006)', 54190: 'Across the Universe (2007)', 54256: 'Hot Rod (2007)', 54259: 'Stardust (2007)', 54272: 'Simpsons Movie, The (2007)', 54274: 'I Know Who Killed Me (2007)', 54276: 'No Reservations (2007)', 54281: 'Charlie Bartlett (2007)', 54286: 'Bourne Ultimatum, The (2007)', 54354: 'China Blue (2005)', 54372: 'Tell No One (Ne le dis Ã\\xa0 personne) (2006)', 54503: 'Superbad (2007)', 54617: 'Brice Man, The (Brice de Nice) (2005)', 54648: 'Rush Hour 3 (2007)', 54686: 'Last Legion, The (2007)', 54732: 'Balls of Fury (2007)', 54734: 'Sydney White (2007)', 54736: 'Kingdom, The (2007)', 54745: 'Rocket Science (2007)', 54768: 'Daddy Day Camp (2007)', 54771: 'Invasion, The (2007)', 54780: 'Nanny Diaries, The (2007)', 54785: 'Halloween (2007)', 54787: 'Death Sentence (2007)', 54796: '2 Days in Paris (2007)', 54881: 'King of Kong, The (2007)', 54908: 'Taxi 4 (2007)', 54910: 'Behind the Mask: The Rise of Leslie Vernon (2006)', 54934: 'Brothers Solomon, The (2007)', 54962: 'Nines, The (2007)', 54995: 'Planet Terror (2007)', 54997: '3:10 to Yuma (2007)', 54999: \"Shoot 'Em Up (2007)\", 55020: 'Ten, The (2007)', 55036: 'Gotti (1996)', 55052: 'Atonement (2007)', 55061: 'Electroma (2006)', 55067: 'Requiem (2006)', 55069: '4 Months, 3 Weeks and 2 Days (4 luni, 3 saptamÃ¢ni si 2 zile) (2007)', 55071: 'No End in Sight (2007)', 55080: 'Brave One, The (2007)', 55094: 'In the Valley of Elah (2007)', 55110: 'December Boys (2007)', 55112: 'Shanghai Kiss (2007)', 55116: 'Hunting Party, The (2007)', 55118: 'Eastern Promises (2007)', 55156: 'Unreasonable Man, An (2006)', 55167: 'Tekkonkinkreet (Tekkon kinkurÃ®to) (2006)', 55190: 'Love and Other Disasters (2006)', 55205: 'Interview (2007)', 55207: 'Cashback (2004)', 55232: 'Resident Evil: Extinction (2007)', 55241: 'Mr. Woodcock (2007)', 55245: 'Good Luck Chuck (2007)', 55247: 'Into the Wild (2007)', 55250: 'Game Plan, The (2007)', 55253: 'Lust, Caution (Se, jie) (2007)', 55259: 'Seeker: The Dark Is Rising, The (2007)', 55261: 'Heartbreak Kid, The (2007)', 55267: 'Dan in Real Life (2007)', 55269: 'Darjeeling Limited, The (2007)', 55272: 'We Own the Night (2007)', 55274: 'Elizabeth: The Golden Age (2007)', 55276: 'Michael Clayton (2007)', 55278: 'Sleuth (2007)', 55280: 'Lars and the Real Girl (2007)', 55282: '30 Days of Night (2007)', 55290: 'Gone Baby Gone (2007)', 55292: 'Comebacks, The (2007)', 55294: 'Weirdsville (2007)', 55363: 'Assassination of Jesse James by the Coward Robert Ford, The (2007)', 55391: '10th & Wolf (2006)', 55442: 'Persepolis (2007)', 55444: 'Control (2007)', 55451: 'The Jane Austen Book Club (2007)', 55492: 'Last Winter, The (2006)', 55553: 'Black Sheep (2006)', 55555: 'Edge of Heaven, The (Auf der anderen Seite) (2007)', 55577: 'Saw IV (2007)', 55620: 'For the Bible Tells Me So (2007)', 55687: 'My Kid Could Paint That (2007)', 55721: 'Elite Squad (Tropa de Elite) (2007)', 55729: 'King of California (2007)', 55765: 'American Gangster (2007)', 55768: 'Bee Movie (2007)', 55805: \"Before the Devil Knows You're Dead (2007)\", 55814: 'Diving Bell and the Butterfly, The (Scaphandre et le papillon, Le) (2007)', 55820: 'No Country for Old Men (2007)', 55830: 'Be Kind Rewind (2008)', 55844: 'Itty Bitty Titty Committee (2007)', 55854: 'Fugitive, The (1947)', 55872: 'August Rush (2007)', 55908: 'Man from Earth, The (2007)', 55946: 'Lions For Lambs (2007)', 55995: 'Beowulf (2007)', 56003: 'Southland Tales (2006)', 56012: 'Evening with Kevin Smith 2: Evening Harder, An (2006)', 56022: 'Harrison Bergeron (1995)', 56060: 'I Served the King of England (Obsluhoval jsem anglickÃ©ho krÃ¡le) (2006)', 56145: 'Mist, The (2007)', 56152: 'Enchanted (2007)', 56156: 'Hitman (2007)', 56169: 'Awake (2007)', 56171: 'Golden Compass, The (2007)', 56174: 'I Am Legend (2007)', 56176: 'Alvin and the Chipmunks (2007)', 56251: \"Futurama: Bender's Big Score (2007)\", 56274: 'Margot at the Wedding (2007)', 56286: \"I'm Not There (2007)\", 56333: 'Savages, The (2007)', 56336: 'Wrong Turn 2: Dead End (2007)', 56339: 'Orphanage, The (Orfanato, El) (2007)', 56367: 'Juno (2007)', 56379: 'Maxed Out: Hard Times, Easy Credit and the Era of Predatory Lenders (2006)', 56389: 'My Blueberry Nights (2007)', 56563: 'Helvetica (2007)', 56587: 'Bucket List, The (2007)', 56607: 'Kite Runner, The (2007)', 56620: 'Deaths of Ian Stone, The (2007)', 56715: 'Wristcutters: A Love Story (2006)', 56757: 'Sweeney Todd: The Demon Barber of Fleet Street (2007)', 56775: 'National Treasure: Book of Secrets (2007)', 56782: 'There Will Be Blood (2007)', 56788: \"Charlie Wilson's War (2007)\", 56801: 'AVPR: Aliens vs. Predator - Requiem (2007)', 56805: 'Walk Hard: The Dewey Cox Story (2007)', 56837: 'As You Like It (2006)', 56869: 'Drained (O cheiro do Ralo) (2006)', 56908: 'Dedication (2007)', 56915: 'Water Horse: Legend of the Deep, The (2007)', 56921: 'Battlestar Galactica: Razor (2007)', 56941: 'P.S. I Love You (2007)', 56949: '27 Dresses (2008)', 57147: \"Cassandra's Dream (2007)\", 57183: 'Like Stars on Earth (Taare Zameen Par) (2007)', 57243: \"Band's Visit, The (Bikur Ha-Tizmoret) (2007)\", 57274: '[REC] (2007)', 57326: 'In the Name of the King: A Dungeon Siege Tale (2008)', 57368: 'Cloverfield (2008)', 57421: 'Hatchet (2006)', 57499: 'Heaven and Earth (Ten to Chi to) (1990)', 57502: 'Cat Soup (Nekojiru-so) (2001)', 57504: 'Girl Who Leapt Through Time, The (Toki o kakeru shÃ´jo) (2006)', 57522: 'First Sunday (2008)', 57526: 'Untraceable (2008)', 57528: 'Rambo (Rambo 4) (2008)', 57532: 'Meet the Spartans (2008)', 57536: 'Strange Wilderness (2008)', 57637: 'Signal, The (2007)', 57640: 'Hellboy II: The Golden Army (2008)', 57669: 'In Bruges (2008)', 57772: 'World on a Wire (Welt am Draht) (1973)', 57843: 'Rise of the Footsoldier (2007)', 57910: 'Teeth (2007)', 57951: \"Fool's Gold (2008)\", 58025: 'Jumper (2008)', 58047: 'Definitely, Maybe (2008)', 58078: 'Air I Breathe, The (2007)', 58103: 'Vantage Point (2008)', 58105: 'Spiderwick Chronicles, The (2008)', 58107: 'Step Up 2 the Streets (2008)', 58154: 'Other Boleyn Girl, The (2008)', 58156: 'Semi-Pro (2008)', 58162: 'Run Fatboy Run (2007)', 58191: 'Taxi to the Dark Side (2007)', 58287: 'Descent (2007)', 58291: 'College Road Trip (2008)', 58293: '10,000 BC (2008)', 58295: 'Bank Job, The (2008)', 58297: 'Doomsday (2008)', 58299: 'Horton Hears a Who! (2008)', 58301: 'Funny Games U.S. (2007)', 58303: 'Counterfeiters, The (Die FÃ¤lscher) (2007)', 58306: 'Mongol (2007)', 58309: 'War Dance (2007)', 58315: 'Love Guru, The (2008)', 58332: 'Diary of the Dead (2007)', 58347: 'Penelope (2006)', 58351: 'City of Men (Cidade dos Homens) (2007)', 58376: 'Zeitgeist: The Movie (2007)', 58404: 'Justice League: The New Frontier (2008) ', 58425: 'Heima (2007)', 58492: 'Snow Angels (2007)', 58554: 'Class, The (Klass) (2007)', 58559: 'Dark Knight, The (2008)', 58627: 'Never Back Down (2008)', 58655: 'Drillbit Taylor (2008)', 58783: 'Youth Without Youth (2007)', 58803: '21 (2008)', 58806: 'Smart People (2008)', 58826: 'Shepherd: Border Patrol, The (2008)', 58839: 'Leatherheads (2008)', 58842: 'Assembly (Ji jie hao) (2007) ', 58870: 'Zebraman (2004)', 58876: 'Stop-Loss (2008)', 58879: 'Shine a Light (2008)', 58964: \"Inside (Ã\\x80 l'intÃ©rieur) (2007)\", 58972: \"Nim's Island (2008)\", 58975: 'Ruins, The (2008)', 58998: 'Forgetting Sarah Marshall (2008)', 59014: 'Superhero Movie (2008)', 59016: 'Street Kings (2008)', 59018: 'Visitor, The (2007)', 59022: 'Harold & Kumar Escape from Guantanamo Bay (2008)', 59026: '99 francs (2007)', 59037: 'Speed Racer (2008)', 59103: 'Forbidden Kingdom, The (2008)', 59118: 'Happy-Go-Lucky (2008)', 59126: 'Religulous (2008)', 59129: 'Outpost (2008)', 59131: 'Are You Scared? (2006)', 59141: 'Son of Rambow (2007)', 59143: 'Super High Me (2007)', 59220: 'Outsourced (2006)', 59258: 'Baby Mama (2008)', 59295: 'Expelled: No Intelligence Allowed (2008)', 59306: 'Prom Night (2008)', 59315: 'Iron Man (2008)', 59333: 'Made of Honor (2008)', 59336: 'Redbelt (2008)', 59369: 'Taken (2008)', 59387: 'Fall, The (2006)', 59421: 'What Happens in Vegas... (2008)', 59429: 'American Pie Presents Beta House (American Pie 6: Beta House) (2007)', 59440: 'Bella (2006)', 59501: 'Chronicles of Narnia: Prince Caspian, The (2008)', 59549: 'Shelter (2007)', 59604: 'Girl Next Door, The (2007)', 59615: 'Indiana Jones and the Kingdom of the Crystal Skull (2008)', 59667: \"Nina's Heavenly Delights (2006)\", 59725: 'Sex and the City (2008)', 59727: 'Strangers, The (2008)', 59731: 'Bigger, Stronger, Faster* (2008)', 59738: 'All the Boys Love Mandy Lane (2006)', 59784: 'Kung Fu Panda (2008)', 59810: 'Recount (2008)', 59814: 'Ex Drummer (2007)', 59900: \"You Don't Mess with the Zohan (2008)\", 59915: 'Stuck (2007)', 59947: 'Protector, The (1985)', 59985: 'Chaos Theory (2007)', 59995: 'Boy A (2007)', 60030: 'Spiral (2007)', 60037: 'Happening, The (2008)', 60040: 'Incredible Hulk, The (2008)', 60046: 'Children of Huang Shi, The (2008)', 60069: 'WALLÂ·E (2008)', 60072: 'Wanted (2008)', 60074: 'Hancock (2008)', 60126: 'Get Smart (2008)', 60128: 'Young People Fucking (a.k.a. YPF) (2007)', 60141: \"St. Trinian's (2007)\", 60161: 'Futurama: The Beast with a Billion Backs (2008)', 60289: 'Kit Kittredge: An American Girl (2008)', 60291: 'Gonzo: The Life and Work of Dr. Hunter S. Thompson (2008)', 60293: 'Wackness, The (2008)', 60303: 'Strange Circus (KimyÃ´ na sÃ¢kasu) (2005)', 60333: 'Encounters at the End of the World (2008)', 60363: 'Zombie Strippers! (2008)', 60365: 'Frosty the Snowman (1969)', 60389: 'Battle for Haditha (2007)', 60397: 'Mamma Mia! (2008)', 60408: \"Welcome to the Sticks (Bienvenue chez les Ch'tis) (2008)\", 60471: 'Rogue (2007)', 60487: \"It's the Great Pumpkin, Charlie Brown (1966)\", 60514: 'Journey to the Center of the Earth (2008)', 60516: 'Meet Dave (2008)', 60522: 'Machine Girl, The (Kataude mashin gÃ¢ru) (2008)', 60538: 'Shrooms (2007)', 60647: 'Transsiberian (2008)', 60674: 'Stargate: Continuum (2008)', 60684: 'Watchmen (2009)', 60735: 'Shotgun Stories (2007)', 60737: 'Watching the Detectives (2007)', 60753: 'Felon (2008)', 60756: 'Step Brothers (2008)', 60760: 'X-Files: I Want to Believe, The (2008)', 60766: 'Man on Wire (2008)', 60803: 'Little Drummer Boy, The (1968)', 60818: \"Hogfather (Terry Pratchett's Hogfather) (2006)\", 60832: 'Pathology (2008)', 60857: 'Tracey Fragments, The (2007)', 60885: 'Zone, The (La Zona) (2007)', 60894: 'Edge of Love, The (2008)', 60904: 'Heart of a Dog (Sobachye serdtse) (1988)', 60937: 'Mummy: Tomb of the Dragon Emperor, The (2008)', 60941: 'Midnight Meat Train, The (2008)', 60943: 'Frozen River (2008)', 60950: 'Vicky Cristina Barcelona (2008)', 60979: 'Batman: Gotham Knight (2008)', 61011: 'Walker, The (2007)', 61024: 'Pineapple Express (2008)', 61026: 'Red Cliff (Chi bi) (2008)', 61071: 'Sisterhood of the Traveling Pants 2, The (2008)', 61073: 'Hell Ride (2008)', 61123: 'High School Musical 2 (2007)', 61132: 'Tropic Thunder (2008)', 61160: 'Star Wars: The Clone Wars (2008)', 61167: 'Henry Poole is Here (2008)', 61210: 'Mutant Chronicles (2008)', 61236: 'Waltz with Bashir (Vals im Bashir) (2008)', 61240: 'Let the Right One In (LÃ¥t den rÃ¤tte komma in) (2008)', 61246: 'Hamlet 2 (2008)', 61248: 'Death Race (2008)', 61250: 'House Bunny, The (2008)', 61255: 'Rocker, The (2008)', 61257: 'I.O.U.S.A. (a.k.a. IOUSA) (2008)', 61262: 'Mirrors (2008)', 61289: 'Sukiyaki Western Django (2008)', 61319: 'Somers Town (2008)', 61323: 'Burn After Reading (2008)', 61348: 'Disaster Movie (2008)', 61350: 'Babylon A.D. (2008)', 61352: 'Traitor (2008)', 61394: 'Onion Movie, The (2008)', 61401: 'Spirit, The (2008)', 61406: 'John Adams (2008)', 61465: 'Bangkok Dangerous (2008)', 61628: 'Sunflower (Xiang ri kui) (2005)', 61692: 'Altered (2006)', 61697: 'Righteous Kill (2008)', 61705: 'Lakeview Terrace (2008)', 61729: 'Ghost Town (2008)', 61818: 'Crow, The: Wicked Prayer (2005)', 61986: 'Appaloosa (2008)', 62008: 'Dead Fury (2008)', 62081: 'Eagle Eye (2008)', 62113: 'How to Lose Friends & Alienate People (2008)', 62155: \"Nick and Norah's Infinite Playlist (2008)\", 62208: 'Sound of the Mountain (Thunder of the Mountain, The) (Yama no oto) (1954)', 62250: 'Gomorrah (Gomorra) (2008)', 62293: 'Duchess, The (2008)', 62299: 'Alone in the Dark II (2008)', 62336: 'FLCL (2000)', 62344: 'Rachel Getting Married (2008)', 62374: 'Body of Lies (2008)', 62376: 'City of Ember (2008)', 62383: '20,000 Leagues Under the Sea (1916)', 62394: 'Max Payne (2008)', 62434: 'Zack and Miri Make a Porno (2008)', 62437: 'W. (2008)', 62439: \"My Best Friend's Girl (2008)\", 62511: 'Synecdoche, New York (2008)', 62553: 'Secret Life of Bees, The (2008)', 62586: 'American Carol, An (2008)', 62644: 'Wave, The (Welle, Die) (2008)', 62662: 'Tokyo-Ga (1985)', 62718: 'Angus, Thongs and Perfect Snogging (2008)', 62792: 'Pride and Glory (2008)', 62799: 'Express, The (2008)', 62834: 'Babylon 5: The Legend of the Rangers: To Live and Die in Starlight (2002)', 62836: 'Babylon 5: The Lost Tales - Voices in the Dark (2007)', 62849: 'RocknRolla (2008)', 62956: \"Futurama: Bender's Game (2008)\", 62970: 'Tin Man (2007)', 62999: 'Madagascar: Escape 2 Africa (2008)', 63033: 'Blindness (2008)', 63062: 'Changeling (2008)', 63072: 'Road, The (2009)', 63082: 'Slumdog Millionaire (2008)', 63113: 'Quantum of Solace (2008)', 63131: 'Role Models (2008)', 63179: 'Tokyo! (2008)', 63222: 'JCVD (2008)', 63239: 'Cinderella (1997)', 63276: 'Crows Zero (KurÃ´zu zero) (2007)', 63312: 'Krabat (2008)', 63393: 'Camp Rock (2008)', 63433: 'Farscape: The Peacekeeper Wars (2004)', 63436: 'Saw V (2008)', 63479: 'Sex Drive (2008)', 63515: 'The Island (2006)', 63540: 'Beverly Hills Chihuahua (2008)', 63768: 'Tattooed Life (Irezumi ichidai) (1965)', 63808: 'Class, The (Entre les murs) (2008)', 63826: 'Splinter (2008)', 63853: 'Australia (2008)', 63859: 'Bolt (2008)', 63876: 'Milk (2008)', 63992: 'Twilight (2008)', 64010: 'Children, The (2008)', 64030: 'Transporter 3 (2008)', 64032: 'Four Christmases (2008)', 64034: 'Boy in the Striped Pajamas, The (Boy in the Striped Pyjamas, The) (2008)', 64114: 'Fireproof (2008)', 64116: 'Igor (2008)', 64167: 'Dinotopia (2002)', 64197: 'Hunger (2008)', 64231: 'Punisher: War Zone (2008)', 64249: 'Shrek the Halls (2007)', 64278: \"Pervert's Guide to Cinema, The (2006)\", 64285: \"Wallace and Gromit in 'A Matter of Loaf and Death' (2008)\", 64497: 'Day the Earth Stood Still, The (2008)', 64499: 'Che: Part One (2008)', 64501: 'Che: Part Two (2008)', 64575: 'Doubt (2008)', 64614: 'Gran Torino (2008)', 64620: 'Frost/Nixon (2008)', 64622: 'Reader, The (2008)', 64695: 'Sword of the Stranger (Sutorejia: MukÃ´ hadan) (2007)', 64716: 'Seven Pounds (2008)', 64839: 'Wrestler, The (2008)', 64957: 'Curious Case of Benjamin Button, The (2008)', 64969: 'Yes Man (2008)', 64983: 'Valkyrie (2008)', 64993: '5 Centimeters per Second (ByÃ´soku 5 senchimÃªtoru) (2007)', 64997: 'War of the Worlds (2005)', 65037: 'Ben X (2007)', 65088: 'Bedtime Stories (2008)', 65126: 'Choke (2008)', 65130: 'Revolutionary Road (2008)', 65133: 'Blackadder Back & Forth (1999)', 65135: \"Blackadder's Christmas Carol (1988)\", 65188: 'Dear Zachary: A Letter to a Son About His Father (2008)', 65193: 'Wild Child (2008)', 65216: 'Defiance (2008)', 65225: 'Zeitgeist: Addendum (2008)', 65230: 'Marley & Me (2008)', 65261: 'Ponyo (Gake no ue no Ponyo) (2008)', 65350: 'General Died at Dawn, The (1936)', 65359: 'Earthsea (Legend of Earthsea) (2004)', 65514: 'Ip Man (2008)', 65577: 'Tale of Despereaux, The (2008)', 65585: 'Bride Wars (2009)', 65588: 'Gamers, The: Dorkness Rising (2008)', 65596: \"Mesrine: Killer Instinct (L'instinct de mort) (2008)\", 65601: 'My Bloody Valentine 3-D (2009)', 65631: 'Battle in Seattle (2007)', 65642: 'Timecrimes (CronocrÃ\\xadmenes, Los) (2007)', 65651: 'Fire and Ice (2008)', 65682: 'Underworld: Rise of the Lycans (2009)', 65685: 'Inkheart (2008)', 65738: 'Revenge of the Nerds III: The Next Generation (1992)', 65740: 'Revenge of the Nerds IV: Nerds in Love (1994)', 65802: 'Paul Blart: Mall Cop (2009)', 65810: 'Notorious (2009)', 65882: 'Uninvited, The (2009)', 65982: 'Outlander (2008)', 66090: 'Eden Lake (2008)', 66097: 'Coraline (2009)', 66171: 'Push (2009)', 66198: 'International, The (2009)', 66203: \"He's Just Not That Into You (2009)\", 66240: 'Dead Like Me: Life After Death (2009)', 66297: 'Futurama: Into the Wild Green Yonder (2009)', 66310: 'FrontiÃ¨re(s) (2007)', 66320: '11th Hour, The (2007)', 66335: 'Afro Samurai: Resurrection (2009)', 66371: 'Departures (Okuribito) (2008)', 66427: 'My Name Is Bruce (2007)', 66509: 'Funny People (2009)', 66511: 'Berlin Calling (2008)', 66544: 'Nuremberg (2000)', 66665: 'Away We Go (2009)', 66744: 'Divo, Il (2008)', 66783: 'Friday the 13th (2009)', 66785: 'Good, the Bad, the Weird, The (Joheunnom nabbeunnom isanghannom) (2008)', 66798: 'Pink Panther 2, The (2009)', 66915: 'Rock-A-Doodle (1991)', 66934: \"Dr. Horrible's Sing-Along Blog (2008)\", 66943: 'Cottage, The (2008)', 67087: 'I Love You, Man (2009)', 67168: 'Dance of the Dead (2008)', 67186: 'Haunting in Connecticut, The (2009)', 67193: 'Duplicity (2009)', 67197: 'Knowing (2009)', 67255: 'Girl with the Dragon Tattoo, The (MÃ¤n som hatar kvinnor) (2009)', 67267: 'Sunshine Cleaning (2008)', 67295: 'Kung Fu Panda: Secrets of the Furious Five (2008)', 67361: 'Echelon Conspiracy (2009)', 67408: 'Monsters vs. Aliens (2009)', 67508: 'Baader Meinhof Komplex, Der (2008)', 67534: 'Big Stan (2007)', 67618: 'Strictly Sexual (2008)', 67665: 'Anvil! The Story of Anvil (2008)', 67695: 'Observe and Report (2009)', 67734: 'Adventureland (2009)', 67788: 'Confessions of a Shopaholic (2009)', 67799: 'The Butterfly Effect 3: Revelations (2009)', 67888: 'Man on the Flying Trapeze (1935)', 67923: 'Fast & Furious (Fast and the Furious 4, The) (2009)', 67997: 'In the Loop (2009)', 68073: 'Pirate Radio (2009)', 68135: '17 Again (2009)', 68157: 'Inglourious Basterds (2009)', 68159: 'State of Play (2009)', 68194: 'Damned United, The (2009)', 68205: 'Crank: High Voltage (2009)', 68237: 'Moon (2009)', 68269: 'Young Victoria, The (2009)', 68319: 'X-Men Origins: Wolverine (2009)', 68347: 'Sin Nombre (2009)', 68358: 'Star Trek (2009)', 68444: 'Great Buck Howard, The (2008)', 68480: \"Flatfoot on the Nile (Piedone d'Egitto) (1980)\", 68486: 'Red Cliff Part II (Chi Bi Xia: Jue Zhan Tian Xia) (2009)', 68522: 'Earth (2007)', 68536: 'Stanley Kubrick: A Life in Pictures (2001)', 68552: 'Crossing Over (2009)', 68554: 'Angels & Demons (2009)', 68597: 'Scorpio (1973)', 68600: 'Balls Out: Gary the Tennis Coach (2009)', 68650: 'Powder Blue (2009)', 68659: 'Fanboys (2009)', 68791: 'Terminator Salvation (2009)', 68793: 'Night at the Museum: Battle of the Smithsonian (2009)', 68835: 'Were the World Mine (2008)', 68848: 'Brothers Bloom, The (2008)', 68872: 'Paisan (PaisÃ\\xa0) (1946)', 68886: 'I Do: How to Get Married and Stay Single (PrÃªte-moi ta main) (2006)', 68932: 'Soloist, The (2009)', 68945: 'Neon Genesis Evangelion: Death & Rebirth (Shin seiki Evangelion GekijÃ´-ban: Shito shinsei) (1997)', 68952: 'Drag Me to Hell (2009)', 68954: 'Up (2009)', 68959: 'Fullmetal Alchemist the Movie: Conqueror of Shamballa (GekijÃ´-ban hagane no renkinjutsushi: Shanbara wo yuku mono) (2005)', 69069: 'Fired Up (2009)', 69118: 'In the Electric Mist (2009)', 69122: 'Hangover, The (2009)', 69131: 'Killshot (2008)', 69134: 'Antichrist (2009)', 69140: 'Sweeney Todd (2006)', 69211: 'Boy Eats Girl (2005)', 69224: 'Marius and Jeanette (Marius et Jeannette) (1997)', 69227: 'Ernest Rides Again (1993)', 69251: 'Special (2006)', 69275: 'Dead Snow (DÃ¸d snÃ¸) (2009)', 69278: 'Land of the Lost (2009)', 69304: 'Imagine That (2009)', 69306: 'Taking of Pelham 1 2 3, The (2009)', 69394: 'Stoning of Soraya M., The (2008)', 69406: 'Proposal, The (2009)', 69436: 'Year One (2009)', 69453: 'Land That Time Forgot, The (1975)', 69469: \"Garfield's Pet Force (2009)\", 69481: 'Hurt Locker, The (2008)', 69495: 'Breakfast with Scot (2007)', 69516: 'Limits of Control, The (2009)', 69524: 'Raiders of the Lost Ark: The Adaptation (1989)', 69526: 'Transformers: Revenge of the Fallen (2009)', 69529: 'Home (2009)', 69604: 'Whatever Works (2009)', 69606: 'Ghosts of Girlfriends Past (2009)', 69640: 'Public Enemies (2009)', 69644: 'Ice Age: Dawn of the Dinosaurs (2009)', 69654: 'Prison Break: The Final Break (2009)', 69685: 'Daria: Is It College Yet? (2002)', 69712: \"My Sister's Keeper (2009)\", 69720: 'Hood of Horror (2006)', 69746: 'Watchmen: Tales of the Black Freighter (2009)', 69757: '(500) Days of Summer (2009)', 69784: 'BrÃ¼no (Bruno) (2009)', 69805: 'Librarian, The: The Curse of the Judas Chalice (2008)', 69844: 'Harry Potter and the Half-Blood Prince (2009)', 69849: 'Roots (1977)', 69860: 'Eichmann (2007)', 69904: 'Open Water 2: Adrift (2006)', 69951: 'Imaginarium of Doctor Parnassus, The (2009)', 69953: '9to5: Days in Porn (a.k.a. 9 to 5: Days in Porn) (2008)', 69988: 'Humpday (2009)', 70015: 'Polytechnique (2009)', 70159: 'Orphan (2009)', 70183: 'Ugly Truth, The (2009)', 70206: 'Collector, The (2009)', 70208: 'Perfect Getaway, A (2009)', 70286: 'District 9 (2009)', 70293: 'Julie & Julia (2009)', 70301: 'Obsessed (2009)', 70305: 'Race to Witch Mountain (2009)', 70334: 'Hannah Montana: The Movie (2009)', 70336: 'G.I. Joe: The Rise of Cobra (2009)', 70361: '12 Rounds (2009)', 70451: 'Max Manus (2008)', 70492: 'Winds of the Wasteland (1936)', 70521: 'Lost in Austen (2008)', 70533: 'Evangelion: 1.0 You Are (Not) Alone (Evangerion shin gekijÃ´ban: Jo) (2007)', 70545: 'Deal, The (2008)', 70565: 'Goods: Live Hard, Sell Hard, The (2009)', 70599: \"Time Traveler's Wife, The (2009)\", 70637: \"I Can't Think Straight (2007)\", 70641: 'Miss March (2009)', 70663: 'I Love You, Beth Cooper (2009)', 70687: 'Paper Heart (2009)', 70697: 'G-Force (2009)', 70703: 'Christopher Columbus: The Discovery (1992)', 70708: 'Tetro (2009)', 70728: 'Bronson (2009)', 70862: 'It Might Get Loud (2008)', 70932: 'My Life in Ruins (2009)', 70946: 'Troll 2 (1990)', 70984: 'Taking Woodstock (2009)', 70990: 'If These Walls Could Talk (1996)', 70994: 'Halloween II (2009)', 71033: 'Secret in Their Eyes, The (El secreto de sus ojos) (2009)', 71057: '9 (2009)', 71106: 'Frequently Asked Questions About Time Travel (2009)', 71108: 'White Ribbon, The (Das weiÃ\\x9fe Band) (2009)', 71129: 'Green Lantern: First Flight (2009)', 71131: 'Most Hated Family in America, The (2007)', 71135: 'Pandorum (2009)', 71147: 'Death of a Cyclist (Muerte de un ciclista) (1955)', 71156: 'Men Who Stare at Goats, The (2009)', 71160: 'Hunt For Gollum, The (2009)', 71205: \"Jennifer's Body (2009)\", 71211: 'Informant!, The (2009)', 71248: 'Extract (2009)', 71252: 'Final Destination, The (Final Destination 4) (Final Destination in 3-D, The) (2009)', 71254: 'Gamer (2009)', 71264: 'Cloudy with a Chance of Meatballs (2009)', 71268: \"Tyler Perry's I Can Do Bad All by Myself (2009)\", 71282: 'Food, Inc. (2008)', 71302: 'Attack of the 50 Foot Woman (1958)', 71304: 'Thirst (Bakjwi) (2009)', 71327: 'Bright Star (2009)', 71341: 'Blood Creek (a.k.a. Town Creek) (2009)', 71379: 'Paranormal Activity (2009)', 71429: \"World's Greatest Dad (2009)\", 71438: 'Still Walking (Aruitemo aruitemo) (2008)', 71453: 'Blood of the Beasts (Sang des bÃªtes, Le) (1949)', 71462: 'Cove, The (2009)', 71464: 'Serious Man, A (2009)', 71466: 'City Island (2009)', 71468: 'Ink (2009)', 71484: 'Metropia (2009)', 71494: 'Haunted World of El Superbeasto, The (2009)', 71500: \"Trick 'r Treat (2007)\", 71518: 'Whip It (2009)', 71520: 'Invention of Lying, The (2009)', 71530: 'Surrogates (2009)', 71535: 'Zombieland (2009)', 71550: 'Assassination of a High School President (2008)', 71579: 'Education, An (2009)', 71619: 'Coco Before Chanel (Coco avant Chanel) (2009)', 71640: 'Burma VJ: Reporting from a Closed Country (Burma VJ: Reporter i et lukket land) (2008)', 71668: 'Couples Retreat (2009)', 71732: 'I Sell the Dead (2008)', 71745: 'Where the Wild Things Are (2009)', 71810: 'Legionnaire (1998)', 71823: 'New York, I Love You (2009)', 71838: 'Law Abiding Citizen (2009)', 71867: 'Misfortunates, The (De helaasheid der dingen) (2009)', 71899: 'Mary and Max (2009)', 71902: 'Spread (2009)', 71910: 'Tournament, The (2009)', 71970: 'Princess and the Pirate, The (1944)', 71999: 'Aelita: The Queen of Mars (Aelita) (1924)', 72011: 'Up in the Air (2009)', 72104: 'Balance (1989)', 72129: 'Saw VI (2009)', 72142: 'Love Exposure (Ai No Mukidashi) (2008)', 72165: \"Cirque du Freak: The Vampire's Assistant (2009)\", 72167: 'Boondock Saints II: All Saints Day, The (2009)', 72171: 'Black Dynamite (2009)', 72178: 'Welcome to Dongmakgol (2005)', 72224: 'Gentlemen Broncos (2009)', 72226: 'Fantastic Mr. Fox (2009)', 72294: 'Christmas Carol, A (2009)', 72308: 'Battlestar Galactica: The Plan (2009)', 72330: 'Private Lives of Pippa Lee, The (2009)', 72356: 'Partly Cloudy (2009)', 72378: '2012 (2009)', 72395: 'Precious (2009)', 72405: 'Bad Lieutenant: Port of Call New Orleans (2009)', 72407: 'Twilight Saga: New Moon, The (2009)', 72424: 'Derailed (2002)', 72479: 'Messenger, The (2009)', 72489: 'Ninja Assassin (2009)', 72554: 'Cell 211 (Celda 211) (2009)', 72591: 'Patriot, The (1998)', 72601: 'Teenage Mutant Ninja Turtles: Turtles Forever (2009)', 72603: 'Merry Madagascar (2009)', 72605: 'Brothers (2009)', 72624: 'Garage (2007)', 72641: 'Blind Side, The  (2009)', 72692: \"Mickey's Once Upon a Christmas (1999)\", 72694: 'Shrink (2009)', 72696: 'Old Dogs (2009)', 72701: 'Planet 51 (2009)', 72714: 'Earthlings (2006)', 72720: 'Single Man, A (2009)', 72731: 'Lovely Bones, The (2009)', 72733: 'Invictus (2009)', 72737: 'Princess and the Frog, The (2009)', 72874: 'Peacekeeper, The (1997)', 72919: 'Did You Hear About the Morgans? (2009)', 72921: 'Snow White (1916)', 72982: 'Alice (2009)', 72998: 'Avatar (2009)', 73015: \"It's Complicated (2009)\", 73017: 'Sherlock Holmes (2009)', 73023: 'Crazy Heart (2009)', 73042: 'Alvin and the Chipmunks: The Squeakquel (2009)', 73106: 'American Pie Presents: The Book of Love (American Pie 7: The Book of Love) (2009)', 73160: 'Sorority Babes in the Slimeball Bowl-O-Rama (1988)', 73211: 'Pontypool (2008)', 73266: 'Youth in Revolt (2009)', 73268: 'Daybreakers (2010)', 73290: \"Hachiko: A Dog's Story (a.k.a. Hachi: A Dog's Tale) (2009)\", 73319: 'Leap Year (2010)', 73321: 'Book of Eli, The (2010)', 73323: \"Girl Who Kicked the Hornet's Nest, The (Luftslottet som sprÃ¤ngdes) (2009)\", 73344: 'Prophet, A (Un ProphÃ¨te) (2009)', 73386: 'Staten Island (2009)', 73431: 'Maiden Heist, The (2009)', 73488: 'Blood: The Last Vampire (2009)', 73499: 'MacGyver: Lost Treasure of Atlantis (1994)', 73501: 'Pekka ja PÃ¤tkÃ¤ Suezilla (1958)', 73515: 'Bart Got a Room (2008)', 73569: \"Project A 2 ('A' gai wak juk jap) (1987)\", 73676: 'Robin-B-Hood (Bo bui gai wak) (2006)', 73681: 'Concert, Le (2009)', 73741: 'Ninja (2009)', 73804: 'Asterix at the Olympic Games (AstÃ©rix aux jeux olympiques) (2008)', 73808: 'Chaser, The (Chugyeogja) (2008)', 73822: 'Meantime (1984)', 73854: 'Rudolph, the Red-Nosed Reindeer (1964)', 73858: 'Dennis the Menace Christmas, A (2007)', 73876: 'Undisputed II: Last Man Standing (2006)', 73881: '3 Idiots (2009)', 73929: 'Legion (2010)', 74075: 'Stan Helsing (2009)', 74089: 'Peter Pan (1960)', 74095: 'Wicked City (YÃ´jÃ» toshi) (1987)', 74154: 'When in Rome (2010)', 74226: 'Dream of Light (a.k.a. Quince Tree Sun, The) (Sol del membrillo, El) (1992)', 74228: 'Triangle (2009)', 74275: 'I Love You Phillip Morris (2009)', 74282: 'Anne of Green Gables: The Sequel (a.k.a. Anne of Avonlea) (1987)', 74324: 'Temple Grandin (2010)', 74342: 'Captain Newman, M.D. (1963)', 74370: 'House of the Devil, The (2009)', 74450: \"Valentine's Day (2010)\", 74452: 'Wolfman, The (2010)', 74458: 'Shutter Island (2010)', 74508: 'Persuasion (2007)', 74510: 'Girl Who Played with Fire, The (Flickan som lekte med elden) (2009)', 74530: 'Percy Jackson & the Olympians: The Lightning Thief (2010)', 74532: 'Cop Out (2010)', 74545: 'Ghost Writer, The (2010)', 74553: 'Secret of Kells, The (2009)', 74580: 'Spy Next Door, The (2010)', 74624: 'Agora (2009)', 74647: 'Motherhood (2009)', 74668: 'District 13: Ultimatum (Banlieue 13 - Ultimatum) (2009)', 74677: 'Yes Men Fix the World, The (2009)', 74683: 'Mike Bassett: England Manager (2001)', 74685: 'Crazies, The (2010)', 74688: 'Dear John (2010)', 74696: 'Last Train Home (2009)', 74698: 'Tooth Fairy (2010)', 74727: 'Gentlemen of Fortune (Dzhentlmeny udachi) (1972)', 74750: '[REC]Â² (2009)', 74754: 'Room, The (2003)', 74789: 'Alice in Wonderland (2010)', 74791: 'Town Called Panic, A (Panique au village) (2009)', 74795: 'Green Zone (2010)', 74851: 'From Paris with Love (2010)', 74868: 'Dorian Gray (2009)', 74916: 'Greenberg (2010)', 74946: \"She's Out of My League (2010)\", 74948: 'Harry Brown (2009)', 75341: 'Remember Me (2010)', 75389: 'Burrowers, The (2008)', 75395: 'Frozen (2010)', 75416: 'Generation X (1996)', 75446: 'Little Ashes (2008)', 75803: 'Our Family Wedding (2010)', 75805: 'Bounty Hunter, The (2010)', 75813: 'Leaves of Grass (2009)', 75816: 'Women in Trouble (2009)', 75947: 'Mondo Cane (1962)', 75985: 'Repo Men (2010)', 76030: 'Case 39 (2009)', 76054: 'Oceans (OcÃ©ans) (2009)', 76060: \"Slammin' Salmon, The (2009)\", 76077: 'Hot Tub Time Machine (2010)', 76091: 'Mother (Madeo) (2009)', 76093: 'How to Train Your Dragon (2010)', 76143: 'Bone Man, The (Der Knochenmann) (2009)', 76173: 'Micmacs (Micmacs Ã\\xa0 tire-larigot) (2009)', 76175: 'Clash of the Titans (2010)', 76251: 'Kick-Ass (2010)', 76293: 'Date Night (2010)', 76301: \"Emperor's New Groove 2: Kronk's New Groove, The (2005)\", 76738: 'Steam of Life (Miesten vuoro) (2010)', 76743: 'Mortadelo & Filemon: The Big Adventure (La gran aventura de Mortadelo y FilemÃ³n) (2003)', 76751: 'American Drug War: The Last White Hope (2007)', 76763: 'Runaways, The (2010)', 77177: 'Wild China (2008)', 77191: 'Death at a Funeral (2010)', 77201: 'Valhalla Rising (2009)', 77206: 'Diary of a Wimpy Kid (2010)', 77233: 'Union: The Business Behind Getting High, The (2007)', 77266: 'Disgrace (2008)', 77364: 'Losers, The (2010)', 77414: 'Last Song, The (2010)', 77421: 'Cyrus (2010)', 77427: 'Human Centipede, The (First Sequence) (2009)', 77455: 'Exit Through the Gift Shop (2010)', 77561: 'Iron Man 2 (2010)', 77667: 'MacGruber (2010)', 77688: 'Three Men and a Cradle (3 hommes et un couffin) (1985)', 77709: 'Sky Crawlers, The (Sukai kurora) (2008)', 77795: 'Cargo (2009)', 77798: 'Nightmare on Elm Street, A (2010)', 77800: 'Four Lions (2010)', 77841: \"St Trinian's 2: The Legend of Fritton's Gold (2009)\", 77846: '12 Angry Men (1997)', 77866: 'Robin Hood (2010)', 77881: 'Lovers & Leavers (Kuutamolla) (2002)', 77893: 'Merantau (2009)', 77931: 'Stingray Sam (2009)', 78034: 'Cemetery Junction (2010)', 78039: 'Blue Valentine (2010)', 78041: 'Killers (2010)', 78088: 'Buried (2010)', 78103: 'Shake Hands with the Devil (2007)', 78105: 'Prince of Persia: The Sands of Time (2010)', 78116: 'Please Give (2010)', 78142: 'BaarÃ¬a (2009)', 78160: 'Ricky Gervais Live: Animals (2003)', 78174: 'Sex and the City 2 (2010)', 78209: 'Get Him to the Greek (2010)', 78218: 'Unthinkable (2010)', 78264: 'Back-up Plan, The (2010)', 78266: 'Splice (2009)', 78316: 'Letters to Juliet (2010)', 78349: 'Exam (2009)', 78467: 'Jonah Hex (2010)', 78469: 'A-Team, The (2010)', 78499: 'Toy Story 3 (2010)', 78544: 'Ricky Gervais Live 3: Fame (2007)', 78574: \"Winter's Bone (2010)\", 78620: 'Scalphunters, The (1968)', 78626: 'Barking Dogs Never Bite (Flandersui gae) (2000)', 78637: 'Shrek Forever After (a.k.a. Shrek: The Final Chapter) (2010)', 78703: 'TiMER (2009)', 78746: 'Best Worst Movie (2009)', 78772: 'Twilight Saga: Eclipse, The (2010)', 78836: 'Enter the Void (2009)', 78893: 'Last Airbender, The (2010)', 78959: 'Endgame (2009)', 79006: \"Empire of Dreams: The Story of the 'Star Wars' Trilogy (2004)\", 79008: 'South Park: Imaginationland (2008)', 79057: 'Predators (2010)', 79073: \"When You're Strange (2009)\", 79091: 'Despicable Me (2010)', 79132: 'Inception (2010)', 79134: 'Grown Ups (2010)', 79139: \"Sorcerer's Apprentice, The (2010)\", 79185: 'Knight and Day (2010)', 79224: 'Karate Kid, The (2010)', 79242: 'Kids Are All Right, The (2010)', 79251: 'Serbian Film, A (Srpski film) (2010)', 79259: 'Cherrybomb (2009)', 79274: 'Batman: Under the Red Hood (2010)', 79293: 'Salt (2010)', 79299: \"No. 1 Ladies' Detective Agency, The (2008)\", 79333: 'Watch Out for the Automobile (Beregis avtomobilya) (1966)', 79357: 'Mr. Nobody (2009)', 79428: 'Dinner for Schmucks (2010)', 79501: 'Deadly Outlaw: Rekka (a.k.a. Violent Fire) (Jitsuroku AndÃ´ Noboru kyÃ´dÃ´-den: Rekka) (2002)', 79536: 'Hellsinki (RÃ¶Ã¶peri) (2009)', 79553: 'Ip Man 2 (2010)', 79572: 'Ramona and Beezus (2010)', 79590: 'Rebound, The (2009)', 79592: 'Other Guys, The (2010)', 79677: 'Two Escobars, The (2010)', 79684: 'Paper Man (2009)', 79695: 'Expendables, The (2010)', 79702: 'Scott Pilgrim vs. the World (2010)', 79798: \"I Killed My Mother (J'ai tuÃ© ma mÃ¨re) (2009)\", 79868: 'Heartless (2009)', 79879: 'Piranha (Piranha 3D) (2010)', 79895: 'Extraordinary Adventures of AdÃ¨le Blanc-Sec, The (2010)', 79897: 'Get Low (2009)', 79946: 'Joneses, The (2009)', 80083: 'Dragon Ball Z: Dead Zone (Doragon bÃ´ru Z 1: Ora no Gohan wo kaese) (1989)', 80094: 'Last Exorcism, The (2010)', 80124: 'Sisters (Syostry) (2001)', 80126: 'American, The (2010)', 80139: 'Jackass 2.5 (2007)', 80162: 'Horde, The (La Horde) (2009)', 80166: 'Switch, The (2010)', 80219: 'Machete (2010)', 80241: 'Going the Distance (2010)', 80363: 'Resident Evil: Afterlife (2010)', 80454: 'Princess (Prinsessa) (2010)', 80463: 'Social Network, The (2010)', 80478: 'Man Vanishes, A (Ningen Johatsu) (1967)', 80489: 'Town, The (2010)', 80549: 'Easy A (2010)', 80551: 'Eat Pray Love (2010)', 80553: 'Howl (2010)', 80572: \"I'm Still Here (2010)\", 80584: 'Patrik Age 1.5 (Patrik 1,5) (2008)', 80586: 'Flipped (2010)', 80590: 'Wall Street: Money Never Sleeps (2010)', 80615: \"Legend of the Guardians: The Owls of Ga'Hoole (2010)\", 80693: \"It's Kind of a Funny Story (2010)\", 80727: 'Middle Men (2009)', 80748: 'Alice in Wonderland (1933)', 80831: 'Let Me In (2010)', 80834: 'Sintel (2010)', 80839: 'Secretariat (2010)', 80846: 'Devil (2010)', 80858: 'You Again (2010)', 80860: 'Life as We Know It (2010)', 80862: 'Catfish (2010)', 80864: 'You Will Meet a Tall Dark Stranger (2010)', 80880: 'Stone (2010)', 80906: 'Inside Job (2010)', 80917: 'Monsters (2010)', 80969: 'Never Let Me Go (2010)', 81018: \"Illusionist, The (L'illusionniste) (2010)\", 81087: 'Luck by Chance (2009)', 81132: 'Rubber (2010)', 81156: 'Jackass 3D (2010)', 81158: 'Restrepo (2010)', 81191: \"Waiting for 'Superman' (2010)\", 81229: 'Red (2010)', 81257: 'In a Better World (HÃ¦vnen) (2010)', 81383: \"Heartbreaker (L'Arnacoeur) (2010)\", 81417: 'Paranormal Activity 2 (2010)', 81456: 'Heartbeats (Les amours imaginaires) (2010)', 81512: 'Hereafter (2010)', 81520: 'Undisputed III: Redemption (2010)', 81535: 'Saw VII 3D - The Final Chapter (2010)', 81537: 'Due Date (2010)', 81562: '127 Hours (2010)', 81564: 'Megamind (2010)', 81591: 'Black Swan (2010)', 81681: 'I Shot Jesse James (1949)', 81782: 'Unstoppable (2010)', 81784: 'Morning Glory (2010)', 81786: 'Certified Copy (Copie conforme) (2010)', 81788: 'Next Three Days, The (2010)', 81791: 'Somewhere (2010)', 81819: 'Biutiful (2010)', 81831: 'First Beautiful Thing, The (La prima cosa bella) (2010)', 81834: 'Harry Potter and the Deathly Hallows: Part 1 (2010)', 81845: \"King's Speech, The (2010)\", 81847: 'Tangled (2010)', 81910: 'Art of the Steal, The (2009)', 81932: 'Fighter, The (2010)', 81949: 'Romantics, The (2010)', 82041: 'Loved Ones, The (2009)', 82053: 'Casino Jack (2010)', 82088: 'Vincent Wants to Sea (Vincent will meer) (2010)', 82093: 'London Boulevard (2010)', 82095: 'Skyline (2010)', 82152: 'Beastly (2011)', 82167: 'Love and Other Drugs (2010)', 82169: 'Chronicles of Narnia: The Voyage of the Dawn Treader, The (2010)', 82202: 'Tourist, The (2010)', 82242: 'Rare Exports: A Christmas Tale (Rare Exports) (2010)', 82366: 'Hatchet II (2010)', 82378: 'All Good Things (2010)', 82459: 'True Grit (2010)', 82461: 'Tron: Legacy (2010)', 82499: 'How Do You Know (2010)', 82527: \"Barney's Version (2010)\", 82534: 'Company Men, The (2010)', 82641: 'One-Armed Swordsman, The (Dubei dao) (1967)', 82667: 'I Saw the Devil (Akmareul boatda) (2010)', 82684: 'Trash Humpers (2009)', 82744: 'Faster (2010)', 82765: 'Little Big Soldier (Da bing xiao jiang) (2010)', 82767: 'Rabbit Hole (2010)', 82848: 'One Week (1920)', 82852: 'Little Fockers (2010)', 82854: \"Gulliver's Travels (2010)\", 82857: 'Sweetgrass (2009)', 83086: 'Burlesque (2010)', 83132: 'Secret World of Arrietty, The (Kari-gurashi no Arietti) (2010)', 83134: 'Tucker & Dale vs Evil (2010)', 83177: 'Yogi Bear (2010)', 83270: 'Made in Dagenham (2010)', 83349: 'Green Hornet, The (2011)', 83369: 'Way Back, The (2010)', 83374: \"Warrior's Way, The (2010)\", 83480: 'Season of the Witch (2011)', 83601: 'Amer (2009)', 83613: 'Cowboys & Aliens (2011)', 83796: 'Anything for Her (Pour elle) (2008)', 83803: 'Day & Night (2010)', 83827: 'Marwencol (2010)', 83910: 'Dilemma, The (2011)', 83969: 'Down Argentine Way (1940)', 83976: 'Trip, The (2010)', 84152: 'Limitless (2011)', 84156: 'Happy People: A Year in the Taiga (2010)', 84187: 'Evangelion: 2.0 You Can (Not) Advance (Evangerion shin gekijÃ´ban: Ha) (2009)', 84189: 'I Spit on Your Grave (2010)', 84240: 'Even the Rain (TambiÃ©n la lluvia) (2010)', 84246: 'It Happened on Fifth Avenue (1947)', 84273: 'Zeitgeist: Moving Forward (2011)', 84374: 'No Strings Attached (2011)', 84392: 'Lincoln Lawyer, The (2011)', 84414: 'All-Star Superman (2011)', 84512: 'Girls About Town (1931)', 84523: 'Kill! (Kiru) (1968)', 84553: 'Pekka ja PÃ¤tkÃ¤ salapoliiseina (1957)', 84601: 'Unknown (2011)', 84615: 'Cedar Rapids (2011)', 84637: 'Gnomeo & Juliet (2011)', 84696: 'Burke and Hare (2010)', 84716: 'Castaway on the Moon (Kimssi pyoryugi) (2009)', 84772: 'Paul (2011)', 84799: 'Asphyx, The (1973)', 84844: 'Brother 2 (Brat 2) (2000)', 84847: 'Emma (2009)', 84942: 'Drive Angry (2011)', 84944: 'Rango (2011)', 84950: 'Take Me Home Tonight (2011)', 84952: 'Confessions (Kokuhaku) (2010)', 84954: 'Adjustment Bureau, The (2011)', 85020: 'Mechanic, The (2011)', 85022: 'Hall Pass (2011)', 85025: 'Eagle, The (2011)', 85056: 'I Am Number Four (2011)', 85131: 'Battle: Los Angeles (2011)', 85179: 'Summer Wars (SamÃ¢ wÃ´zu) (2009)', 85213: 'Sunset Limited, The (2011)', 85259: 'Winnie the Pooh and the Honey Tree (1966)', 85261: 'Mars Needs Moms (2011)', 85295: 'Scooby-Doo! Curse of the Lake Monster (2010)', 85316: 'Winnie the Pooh and Tigger Too (1974)', 85334: 'Hard Ticket to Hawaii (1987)', 85342: 'Elite Squad: The Enemy Within (Tropa de Elite 2 - O Inimigo Agora Ã\\x89 Outro) (2010)', 85354: \"Mesrine: Public Enemy #1 (L'ennemi public nÂ°1) (2008)\", 85367: 'Just Go with It (2011)', 85394: 'Cave of Forgotten Dreams (2010)', 85397: 'Red Riding Hood (2011)', 85399: 'Big Mommas: Like Father, Like Son (2011)', 85401: 'Super (2010)', 85412: 'Troll Hunter, The (Trolljegeren) (2010)', 85414: 'Source Code (2011)', 85438: 'Jane Eyre (2011)', 85510: 'Sucker Punch (2011)', 85565: 'Chalet Girl (2011)', 85736: 'BURN-E (2008)', 85774: 'Senna (2010)', 85780: \"Family Guy Presents: It's a Trap (2010)\", 85788: 'Insidious (2010)', 85796: 'Hobo with a Shotgun (2011)', 85881: 'Win Win (2011)', 85885: 'Room in Rome (HabitaciÃ³n en Roma) (2010)', 86000: 'Boy (2010)', 86014: 'Diary of a Wimpy Kid: Rodrick Rules (2011)', 86028: \"Henry's Crime (2010)\", 86059: 'Hop (2011)', 86066: 'Playing the Victim (Izobrazhaya zhertvu) (2006)', 86068: 'Films to Keep You Awake: The Christmas Tale (PelÃ\\xadculas para no dormir: Cuento de navidad) (2005)', 86142: '13 Assassins (JÃ»san-nin no shikaku) (2010)', 86190: 'Hanna (2011)', 86237: 'Connections (1978)', 86279: 'Into Eternity (2010)', 86286: \"Daffy Duck's Quackbusters (1988)\", 86290: 'American: The Bill Hicks Story (2009)', 86293: 'Arthur (2011)', 86295: 'Scream 4 (2011)', 86298: 'Rio (2011)', 86320: 'Melancholia (2011)', 86332: 'Thor (2011)', 86345: 'Louis C.K.: Hilarious (2010)', 86347: 'Louis C.K.: Chewed Up (2008)', 86355: 'Atlas Shrugged: Part 1 (2011)', 86377: 'Louis C.K.: Shameless (2007)', 86487: 'Mildred Pierce (2011)', 86504: 'Voices from the List (2004)', 86548: 'Water for Elephants (2011)', 86593: 'African Cats (2011)', 86628: 'Kill the Irishman (2011)', 86644: 'Fast Five (Fast and the Furious 5, The) (2011)', 86668: 'Louis Theroux: Law & Disorder (2008)', 86721: 'Idiots and Angels (2008)', 86781: 'Incendies (2010)', 86815: 'Soul Surfer (2011)', 86817: 'Something Borrowed (2011)', 86833: 'Bridesmaids (2011)', 86835: 'Priest (2011)', 86864: 'Mothra (Mosura) (1961)', 86880: 'Pirates of the Caribbean: On Stranger Tides (2011)', 86882: 'Midnight in Paris (2011)', 86892: 'The Man from Nowhere (2010)', 86898: 'Tree of Life, The (2011)', 86911: 'Hangover Part II, The (2011)', 86922: 'Nothing to Declare (Rien Ã\\xa0 dÃ©clarer) (2010)', 86960: 'Across the Hall (2009)', 87028: 'Roommate, The (2011)', 87192: 'Attack the Block (2011)', 87194: 'The Way (2010)', 87197: 'Let the Bullets Fly (2010)', 87222: 'Kung Fu Panda 2 (2011)', 87232: 'X-Men: First Class (2011)', 87234: 'Submarine (2010)', 87287: 'American Grindhouse (2010)', 87298: 'Everything Must Go (2010)', 87304: 'Beginners (2010)', 87306: 'Super 8 (2011)', 87413: 'Bernie (1996)', 87430: 'Green Lantern (2011)', 87444: 'Elektra Luxx (2010)', 87483: \"Mr. Popper's Penguins (2011)\", 87485: 'Bad Teacher (2011)', 87520: 'Transformers: Dark of the Moon (2011)', 87522: 'Larry Crowne (2011)', 87529: 'Your Highness (2011)', 87660: 'Too Big to Fail (2011)', 87785: 'Takers (2010)', 87834: 'My Life as McDull (Mak dau goo si) (2001)', 87867: 'Zookeeper (2011)', 87869: 'Horrible Bosses (2011)', 87876: 'Cars 2 (2011)', 87960: 'Between the Folds (2008)', 88069: 'Delhi Belly (2011)', 88094: 'Upside Down: The Creation Records Story (2010)', 88108: 'Monte Carlo (2011)', 88125: 'Harry Potter and the Deathly Hallows: Part 2 (2011)', 88129: 'Drive (2011)', 88140: 'Captain America: The First Avenger (2011)', 88163: 'Crazy, Stupid, Love. (2011)', 88179: 'One Day (2011)', 88235: 'Guard, The (2011)', 88267: 'Winnie the Pooh (2011)', 88272: 'Woman, The (2011)', 88327: 'New One-Armed Swordsman, The (Xin du bi dao) (1971)', 88345: \"Mike's New Car (2002)\", 88356: 'Smurfs, The (2011)', 88405: 'Friends with Benefits (2011)', 88448: 'Paper Birds (PÃ¡jaros de papel) (2010)', 88515: 'Blitz (2011)', 88593: 'Yellow Sea, The (a.k.a. The Murderer) (Hwanghae) (2010)', 88672: 'Our Idiot Brother (2011)', 88697: 'SUBWAYStories: Tales from the Underground (1997)', 88699: 'Death Race 2 (2010)', 88744: 'Rise of the Planet of the Apes (2011)', 88746: 'Terri (2011)', 88785: 'Change-Up, The (2011)', 88810: 'Help, The (2011)', 88812: '30 Minutes or Less (2011)', 88911: 'My Afternoons with Margueritte (La tÃªte en friche) (2010)', 88932: 'Final Destination 5 (2011)', 88954: 'Very Harold & Kumar 3D Christmas, A (2011)', 89028: \"Don't Be Afraid of the Dark (2010)\", 89030: 'Fright Night (2011)', 89039: 'Another Earth (2011)', 89047: 'Hesher (2010)', 89072: 'Stake Land (2010)', 89085: 'Debt, The (2011)', 89087: 'Colombiana (2011)', 89090: 'Bill Cunningham New York (2011)', 89118: 'Skin I Live In, The (La piel que habito) (2011)', 89190: 'Conan the Barbarian (2011)', 89208: 'Walled In (2009)', 89281: 'Birdemic: Shock and Terror (2010)', 89305: 'Inbetweeners Movie, The (2011)', 89343: 'Red State (2011)', 89386: 'Pearl Jam Twenty (2011)', 89388: \"I Don't Know How She Does It (2011)\", 89427: 'Shark Night 3D (2011)', 89470: 'Contagion (2011)', 89492: 'Moneyball (2011)', 89580: 'Neds (2010)', 89582: 'Cold Fish (Tsumetai nettaigyo) (2010)', 89586: 'Phineas and Ferb the Movie: Across the 2nd Dimension (2011)', 89678: 'Northanger Abbey (2007)', 89745: 'Avengers, The (2012)', 89753: 'Tinker Tailor Soldier Spy (2011)', 89759: 'Separation, A (Jodaeiye Nader az Simin) (2011)', 89761: 'Dangerous Method, A (2011)', 89774: 'Warrior (2011)', 89804: 'Ides of March, The (2011)', 89837: 'Kill List (2011)', 89840: 'Killer Elite (2011)', 89862: 'Bellflower (2011)', 89864: '50/50 (2011)', 89898: 'Generation P (2011)', 89904: 'The Artist (2011)', 89939: 'Gigi (1949)', 89945: 'BlinkyTM (2011)', 90057: 'Take Shelter (2011)', 90243: 'Three Outlaw Samurai (Sanbiki no samurai) (1964)', 90245: 'Antonio GaudÃ\\xad (1985)', 90249: 'Real Steel (2011)', 90343: 'Footloose (2011)', 90345: 'Thing, The (2011)', 90353: 'Beautiful Boy (2010)', 90357: 'Tyrannosaur (2011)', 90374: 'Martha Marcy May Marlene (2011)', 90376: 'We Need to Talk About Kevin (2011)', 90384: 'Behind Enemy Lines II: Axis of Evil (2006)', 90403: 'Three Musketeers, The (2011)', 90405: 'In Time (2011)', 90428: 'Margaret (2011)', 90430: 'Carnage (2011)', 90439: 'Margin Call (2011)', 90469: 'Paranormal Activity 3 (2011)', 90471: 'Puncture (2011)', 90522: 'Johnny English Reborn (2011)', 90524: 'Abduction (2011)', 90528: 'This Must Be the Place (2011)', 90531: 'Shame (2011)', 90576: \"What's Your Number? (2011)\", 90600: 'Headhunters (Hodejegerne) (2011)', 90603: 'Batman: Year One (2011)', 90630: 'Miss Representation (2011)', 90647: 'Puss in Boots (2011)', 90717: 'Tower Heist (2011)', 90719: 'J. Edgar (2011)', 90738: 'Double, The (2011)', 90746: 'Adventures of Tintin, The (2011)', 90769: 'Starsuckers (2009)', 90809: 'Tomboy (2011)', 90863: 'George Harrison: Living in the Material World (2011)', 90866: 'Hugo (2011)', 90888: 'Immortals (2011)', 90890: 'Jack and Jill (2011)', 90943: 'Into the Abyss (2011)', 90945: 'Sign of Four, The (1987)', 91077: 'Descendants, The (2011)', 91079: 'Like Crazy (2011)', 91094: 'Muppets, The (2011)', 91104: 'Twilight Saga: Breaking Dawn - Part 1, The (2011)', 91126: 'War Horse (2011)', 91128: 'Rum Diary, The (2011)', 91233: 'Lifted (2006)', 91261: 'Hipsters (Stilyagi) (2008)', 91266: 'Another Cinderella Story (2008)', 91273: 'Bunraku (2010)', 91323: 'Sitter, The (2011)', 91325: 'Extremely Loud and Incredibly Close (2011)', 91337: 'Play the Game (2009)', 91353: 'Asterix in America (a.k.a Asterix Conquers America) (AstÃ©rix et les Indiens) (1994)', 91355: 'Asterix and the Vikings (AstÃ©rix et les Vikings) (2006)', 91386: 'Happy Feet Two (2011)', 91414: 'Arthur Christmas (2011)', 91470: 'Violet & Daisy (2011)', 91483: 'Bullet to the Head (2012)', 91485: 'Expendables 2, The (2012)', 91488: 'Snowman, The (1982)', 91500: 'The Hunger Games (2012)', 91529: 'Dark Knight Rises, The (2012)', 91535: 'Bourne Legacy, The (2012)', 91542: 'Sherlock Holmes: A Game of Shadows (2011)', 91571: 'Coriolanus (2011)', 91622: 'Young Adult (2011)', 91628: \"New Year's Eve (2011)\", 91630: 'Mission: Impossible - Ghost Protocol (2011)', 91653: 'We Bought a Zoo (2011)', 91658: 'Girl with the Dragon Tattoo, The (2011)', 91660: 'Darkest Hour, The (2011)', 91666: 'Last Holiday (1950)', 91671: 'Alvin and the Chipmunks: Chipwrecked (2011)', 91688: 'Salvation Boulevard (2011)', 91690: 'Friends with Kids (2011)', 91784: 'Girl Walks Into a Bar (2011)', 91842: 'Contraband (2012)', 91860: 'Way South, The (De weg naar het zuiden) (1981)', 91869: \"Being Elmo: A Puppeteer's Journey (2011)\", 91873: 'Joyful Noise (2012)', 91890: 'Iron Lady, The (2011)', 91935: 'Albatross (2011)', 91947: 'Revenant, The (2009)', 91974: 'Underworld: Awakening (2012)', 91976: 'Grey, The (2012)', 91978: 'Man on a Ledge (2012)', 91981: 'Sacrifice (Zhao shi gu er) (2010)', 92008: 'Haywire (2011)', 92046: 'Contact High (2009)', 92048: 'Whistleblower, The (2010)', 92094: 'Einstein and Eddington (2008)', 92192: 'Apollo 18 (2011)', 92198: 'Seeking Justice (2011)', 92234: 'Red Tails (2012)', 92243: 'Flowers of War, The (Jin lÃ\\xadng shÃ\\xad san chai) (2011)', 92259: 'Intouchables (2011)', 92264: 'One for the Money (2012)', 92309: 'Innkeepers, The (2011)', 92348: 'Puss in Boots (Nagagutsu o haita neko) (1969)', 92391: 'Grave Encounters (2011)', 92420: 'Chronicle (2012)', 92422: 'Woman in Black, The (2012)', 92427: 'Woman in Love (Rubbeldiekatz) (2011)', 92439: 'Art of Getting By, The (2011)', 92475: 'All Watched Over by Machines of Loving Grace (2011)', 92494: 'Dylan Moran: Monster (2004)', 92507: 'Safe House (2012)', 92509: 'Vow, The (2012)', 92535: 'Louis C.K.: Live at the Beacon Theater (2011)', 92637: 'Pitfall (Otoshiana) (1962)', 92643: 'Monsieur Lazhar (2011)', 92665: 'For a Good Time, Call... (2012)', 92674: 'Janie Jones (2010)', 92681: 'Journey 2: The Mysterious Island (2012)', 92694: 'Perfect Sense (2011)', 92730: 'Rollo and the Woods Sprite (RÃ¶lli ja metsÃ¤nhenki) (2001)', 92760: 'Atomic Brain, The (1963)', 92938: 'Ghost Rider: Spirit of Vengeance (2012)', 92954: 'Prayers for Bobby (2009)', 93006: 'Very Potter Musical, A (2009)', 93008: 'Very Potter Sequel, A (2010)', 93022: 'Miss Nobody (2010)', 93040: 'Civil War, The (1990)', 93114: 'Ro.Go.Pa.G. (1963)', 93134: 'Women on the 6th Floor, The (Les Femmes du 6Ã¨me Ã\\x89tage) (2010)', 93139: 'Mega Shark vs. Crocosaurus (2010)', 93193: 'Red Hill (2010)', 93208: \"Mickey's The Prince and the Pauper (1990)\", 93242: 'Gone (2012)', 93270: 'Project X (2012)', 93272: \"Dr. Seuss' The Lorax (2012)\", 93287: 'Big Year, The (2011)', 93297: 'Act of Valor (2012)', 93320: 'Trailer Park Boys (1999)', 93326: 'This Means War (2012)', 93363: 'John Carter (2012)', 93443: 'Goon (2011)', 93502: 'Ledge, The (2011)', 93510: '21 Jump Street (2012)', 93512: 'Jeff, Who Lives at Home (2012)', 93563: 'Lockout (2012)', 93598: 'Snowtown (Snowtown Murders, The) (2011)', 93610: 'Space Battleship Yamato (2010)', 93721: 'Jiro Dreams of Sushi (2011)', 93723: 'Damsels in Distress (2011)', 93740: 'Salmon Fishing in the Yemen (2011)', 93766: 'Wrath of the Titans (2012)', 93790: 'Detachment (2011)', 93805: 'Iron Sky (2012)', 93819: 'Absentia (2011)', 93831: 'American Reunion (American Pie 4) (2012)', 93838: 'The Raid: Redemption (2011)', 93840: 'Cabin in the Woods, The (2012)', 93855: 'God Bless America (2011)', 93980: 'Three Stooges, The (2012)', 93982: 'Raven, The (2012)', 93988: 'North & South (2004)', 94011: 'Big Bang, The (2011)', 94015: 'Mirror Mirror (2012)', 94018: 'Battleship (2012)', 94070: 'Best Exotic Marigold Hotel, The (2011)', 94122: \"Comic-Con Episode IV: A Fan's Hope (2011)\", 94130: 'Bully (2011)', 94150: 'Hysteria (2011)', 94160: \"Dante's Inferno: An Animated Epic (2010)\", 94262: 'Atomic Submarine, The (1959)', 94266: 'Five-Year Engagement, The (2012)', 94323: 'Think Like a Man (2012)', 94325: 'Lucky One, The (2012)', 94405: 'Safe (2012)', 94478: 'Dark Shadows (2012)', 94494: '96 Minutes (2011) ', 94503: 'Decoy Bride, The (2011)', 94661: 'Rocket Singh: Salesman of the Year (2009)', 94677: 'Dictator, The (2012)', 94735: 'Walking with Monsters (2005)', 94777: 'Men in Black III (M.III.B.) (M.I.B.Â³) (2012)', 94780: 'Snow White and the Huntsman (2012)', 94799: 'Sound of My Voice (2011)', 94810: 'Eva (2011)', 94833: 'Pirates! Band of Misfits, The (2012)', 94864: 'Prometheus (2012)', 94867: 'Pact, The (2012)', 94896: 'Bernie (2011)', 94919: 'Inhale (2010)', 94931: 'Take This Waltz (2011)', 94953: 'Wanderlust (2012)', 94959: 'Moonrise Kingdom (2012)', 94985: 'Get the Gringo (2012)', 95004: 'Superman/Doomsday (2007) ', 95067: 'Thousand Words, A (2012)', 95088: 'Safety Not Guaranteed (2012)', 95105: \"Madagascar 3: Europe's Most Wanted (2012)\", 95135: \"Your Sister's Sister (2011)\", 95145: 'Dragon Ball: The Curse Of The Blood Rubies (Doragon bÃ´ru: Shenron no densetsu) (1986)', 95147: \"Dragon Ball: Sleeping Princess in Devil's Castle (Doragon bÃ´ru: MajinjÃ´ no nemuri hime) (1987)\", 95149: 'Superman/Batman: Public Enemies (2009)', 95163: 'Dragon Ball: Mystical Adventure (Doragon bÃ´ru: Makafushigi dai bÃ´ken) (1988)', 95165: \"Dragon Ball Z the Movie: The World's Strongest (a.k.a. Dragon Ball Z: The Strongest Guy in The World) (Doragon bÃ´ru Z: Kono yo de ichiban tsuyoi yatsu) (1990)\", 95167: 'Brave (2012)', 95170: 'Beauty and the Beast: The Enchanted Christmas (1997)', 95175: 'Front of the Class (2008)', 95182: 'Dragon Ball Z the Movie: The Tree of Might (Doragon bÃ´ru Z 3: ChikyÃ» marugoto chÃ´ kessen) (1990)', 95193: 'Pocahontas II: Journey to a New World (1998) ', 95199: \"What to Expect When You're Expecting (2012)\", 95201: 'To Rome with Love (2012)', 95207: 'Abraham Lincoln: Vampire Hunter (2012)', 95218: 'First Position (2011)', 95307: 'Rock of Ages (2012)', 95309: 'Seeking a Friend for the End of the World (2012)', 95311: 'Presto (2008)', 95313: 'Jack-Jack Attack (2005)', 95377: 'One Man Band (2005)', 95441: 'Ted (2012)', 95449: 'Magic Mike (2012)', 95473: 'Dragon Ball Z: The Return of Cooler (Doragon bÃ´ru Z 6: Gekitotsu! Hyakuoku pawÃ¢ no senshi) (1992)', 95475: \"Dragon Ball Z: Cooler's Revenge (Doragon bÃ´ru Z 5: Tobikkiri no saikyÃ´ tai saikyÃ´) (1991)\", 95497: 'Dragon Ball Z: Super Android 13! (Doragon bÃ´ru Z 7: Kyokugen batoru!! San dai sÃ»pÃ¢ saiyajin) (1992)', 95499: 'Dragon Ball Z: Broly - The Legendary Super Saiyan (Doragon bÃ´ru Z 8: Moetsukiro!! Nessen retsusen-chÃ´ gekisen) (1993)', 95508: 'Cleanskin (2012)', 95510: 'Amazing Spider-Man, The (2012)', 95519: 'Dragon Ball Z: Bojack Unbound (Doragon bÃ´ru Z 9: Ginga girigiri!! Butchigiri no sugoi yatsu) (1993)', 95543: 'Ice Age 4: Continental Drift (2012)', 95558: 'Beasts of the Southern Wild (2012)', 95583: 'Savages (2012)', 95624: 'Firm, The (2009)', 95633: 'Spirit Camp (2009)', 95654: \"Geri's Game (1997)\", 95690: 'Some Guy Who Kills People (2011)', 95717: 'Treasure Island (2012)', 95720: 'Watch, The (2012)', 95738: 'Adventures of Mary-Kate and Ashley, The: The Case of the Christmas Caper (1995)', 95744: '2 Days in New York (2012)', 95761: 'Killer Joe (2011)', 95771: 'Dragon Ball Z: Broly Second Coming (Doragon bÃ´ru Z 10: Kiken na futari! SÃ»pÃ¢ senshi wa nemurenai) (1994)', 95780: 'Dragon Ball Z: Bio-Broly (Doragon bÃ´ru Z 11: SÃ»pÃ¢ senshi gekiha! Katsu no wa ore da) (1994)', 95796: 'Anaconda: The Offspring (2008)', 95839: 'Christmas Carol, A (1999)', 95843: 'Goodbye Charlie (1964)', 95858: 'For the Birds (2000)', 95873: 'Ruby Sparks (2012)', 95875: 'Total Recall (2012)', 95939: \"Angels' Share, The (2012)\", 95949: 'Immature, The (Immaturi) (2011)', 95965: 'Dragon Ball Z: Bardock - The Father of Goku (Doragon bÃ´ru Z: Tatta hitori no saishuu kessen - Furiiza ni itonda Z senshi Kakarotto no chichi) (1990)', 96004: 'Dragon Ball Z: The History of Trunks (Doragon bÃ´ru Z: ZetsubÃ´ e no hankÃ´!! Nokosareta chÃ´ senshi - Gohan to Torankusu) (1993)', 96007: \"Dragon Ball GT: A Hero's Legacy (Doragon bÃ´ru GT: GokÃ» gaiden! YÃ»ki no akashi wa sÃ»-shin-chÃ») (1997)\", 96020: 'Sidewalls (Medianeras) (2011)', 96079: 'Skyfall (2012)', 96084: 'Hands Over the City (Le mani sulla cittÃ\\xa0) (1963)', 96110: 'Campaign, The (2012)', 96114: 'Brake (2012)', 96121: 'Hope Springs (2012)', 96150: 'Queen of Versailles, The (2012)', 96281: 'ParaNorman (2012)', 96283: 'Diary of a Wimpy Kid: Dog Days (2012)', 96373: 'Broken (2012)', 96411: '6 Days to Air: The Making of South Park (2011)', 96417: 'Premium Rush (2012)', 96430: 'Odd Life of Timothy Green, The (2012)', 96432: 'Lawless (2012)', 96448: 'Piranha 3DD (a.k.a. Piranha DD) (2012)', 96471: 'Prime Suspect 3 (1993)', 96488: 'Searching for Sugar Man (2012)', 96518: 'Prime Suspect 6: The Last Witness (2003)', 96520: 'Prime Suspect: The Lost Child (1995)', 96530: 'Conception (2011)', 96563: 'Paradise Lost 3: Purgatory (2011)', 96567: 'Words, The (2012)', 96588: 'Pitch Perfect (2012)', 96606: 'Samsara (2011)', 96608: 'Runaway Brain (1995) ', 96610: 'Looper (2012)', 96616: \"That's My Boy (2012)\", 96655: 'Robot & Frank (2012)', 96691: 'Resident Evil: Retribution (2012)', 96726: 'Lola Versus (2012)', 96728: 'Master, The (2012)', 96737: 'Dredd (2012)', 96811: 'End of Watch (2012)', 96815: 'V/H/S (2012)', 96821: 'Perks of Being a Wallflower, The (2012)', 96829: 'Hunt, The (Jagten) (2012)', 96832: 'Holy Motors (2012)', 96861: 'Taken 2 (2012)', 96917: 'House at the End of the Street (2012)', 96935: 'My Left Eye Sees Ghosts (Ngo joh aan gin diy gwai) (2002)', 96945: \"Love Lasts Three Years (L'amour dure trois ans) (2011)\", 96964: 'Tall Man, The (2012)', 96975: 'LOL (2012)', 97024: \"Rust and Bone (De rouille et d'os) (2012)\", 97168: 'Marley (2012)', 97172: 'Frankenweenie (2012)', 97188: 'Sinister (2012)', 97194: 'Thing: Terror Takes Shape, The (1998)', 97225: 'Hotel Transylvania (2012)', 97230: 'Side by Side (2012)', 97285: \"Take Aim at the Police Van (Sono gosÃ´sha wo nerae: 'JÃ»sangÃ´ taihisen' yori) (1960)\", 97304: 'Argo (2012)', 97306: 'Seven Psychopaths (2012)', 97328: 'Liberal Arts (2012)', 97470: 'Catch .44 (2011)', 97643: '[REC]Â³ 3 GÃ©nesis (2012)', 97665: 'Asterix & Obelix: God Save Britannia (AstÃ©rix et ObÃ©lix: Au service de Sa MajestÃ©) (2012)', 97701: 'Paranormal Activity 4 (2012)', 97742: 'Alex Cross (2012)', 97752: 'Cloud Atlas (2012)', 97757: \"'Hellboy': The Seeds of Creation (2004)\", 97785: 'Silent Hill: Revelation 3D (2012)', 97836: 'Here Comes the Boom (2012)', 97858: 'Mental (2012)', 97860: 'Killing Them Softly (2012)', 97866: 'Imposter, The (2012)', 97870: 'Sessions, The (Surrogate, The) (2012)', 97904: 'Smashed (2012)', 97913: 'Wreck-It Ralph (2012)', 97921: 'Silver Linings Playbook (2012)', 97923: 'Flight (2012)', 97936: 'Anna Karenina (2012)', 97938: 'Life of Pi (2012)', 97950: 'Man with the Iron Fists, The (2012)', 97988: 'Bay, The (2012)', 98061: 'Himizu (2011)', 98083: 'Jackass 3.5 (2011)', 98122: 'Indie Game: The Movie (2012)', 98124: 'Batman: The Dark Knight Returns, Part 1 (2012)', 98154: 'Lincoln (2012)', 98160: 'Nature Calls (2012)', 98175: 'Vamps (2012)', 98203: 'Twilight Saga: Breaking Dawn - Part 2, The (2012)', 98230: '10 Years (2011)', 98239: 'Red Dawn (2012)', 98243: 'Rise of the Guardians (2012)', 98279: 'Fantastic Fear of Everything, A (2012)', 98296: 'Deadfall (2012)', 98361: 'Byzantium (2012)', 98491: 'Paperman (2012)', 98499: 'Fearless Hyena, The (Xiao quan guai zhao) (1979)', 98503: 'Half a Loaf of Kung Fu (Dian zhi gong fu gan chian chan) (1980)', 98585: 'Hitchcock (2012)', 98604: 'From Up on Poppy Hill (Kokuriko-zaka kara) (2011)', 98607: 'Redline (2009)', 98623: 'Winners and Sinners (Qi mou miao ji: Wu fu xing) (1983)', 98633: 'My Lucky Stars (Fuk sing go jiu) (1985)', 98697: \"Money Money Money (L'aventure, c'est l'aventure) (1972)\", 98799: \"Liar's Autobiography: The Untrue Story of Monty Python's Graham Chapman, A (2012)\", 98809: 'Hobbit: An Unexpected Journey, The (2012)', 98836: 'Hyde Park on Hudson (2012)', 98908: 'How to Make Love to a Woman (2010)', 98961: 'Zero Dark Thirty (2012)', 99005: 'Fire with Fire (2012)', 99007: 'Warm Bodies (2013)', 99030: 'Wrong (2012)', 99087: 'Playing for Keeps (2012)', 99106: 'Guilt Trip, The (2012)', 99112: 'Jack Reacher (2012)', 99114: 'Django Unchained (2012)', 99117: 'This Is 40 (2012)', 99122: 'I Bought a Vampire Motorcycle (1990)', 99130: 'Ice Cream Man (1995)', 99145: 'Impossible, The (Imposible, Lo) (2012)', 99149: 'MisÃ©rables, Les (2012)', 99191: 'Campfire Tales (1997)', 99415: 'Parental Guidance (2012)', 99437: 'John Dies at the End (2012)', 99532: 'MisÃ©rables, Les (2000)', 99574: 'Promised Land (2012)', 99636: 'English Vinglish (2012)', 99638: 'Fish Story (Fisshu sutÃ´rÃ®) (2009)', 99721: 'Texas Chainsaw 3D (2013)', 99728: 'Gangster Squad (2013)', 99750: 'Iceman, The (2012)', 99764: \"It's Such a Beautiful Day (2012)\", 99813: 'Batman: The Dark Knight Returns, Part 2 (2013)', 99846: 'Everything or Nothing: The Untold Story of 007 (2012)', 99853: 'Codependent Lesbian Space Alien Seeks Same (2011)', 99910: 'Last Stand, The (2013)', 99917: 'Upstream Color (2013)', 99992: 'Shadow Dancer (2012)', 100044: 'Human Planet (2011)', 100068: 'Comme un chef (2012)', 100083: 'Movie 43 (2013)', 100106: \"Pervert's Guide to Ideology, The (2012)\", 100159: 'Sightseers (2012)', 100163: 'Hansel & Gretel: Witch Hunters (2013)', 100194: 'Jim Jefferies: Fully Functional (EPIX) (2012)', 100226: 'Why Stop Now (2012)', 100277: 'Tabu (2012)', 100302: 'Upside Down (2012)', 100304: 'Liability, The (2012)', 100306: 'Angst  (1983)', 100326: 'Stand Up Guys (2012)', 100383: 'Side Effects (2013)', 100390: 'Identity Thief (2013)', 100397: 'ABCs of Death, The (2012)', 100487: 'Beautiful Creatures (2013)', 100498: 'Good Day to Die Hard, A (2013)', 100507: '21 and Over (2013)', 100527: 'Safe Haven (2013)', 100553: 'Frozen Planet (2011)', 100556: 'Act of Killing, The (2012)', 100579: 'Universal Soldier: Day of Reckoning (2012)', 100611: 'Escape from Planet Earth (2013)', 100714: 'Before Midnight (2013)', 100737: 'Snitch (2013)', 100810: 'Dark Skies (2013)', 100843: 'Oh Boy (A Coffee in Berlin) (2012)', 100882: 'Journey to the West: Conquering the Demons (Daai wa sai you chi Chui mo chun kei) (2013)', 100906: 'Maniac Cop 2 (1990)', 101025: 'Jack the Giant Slayer (2013)', 101070: 'Wadjda (2012)', 101072: 'Unintentional Kidnapping of Mrs. Elfriede Ott, The (Die Unabsichtliche EntfÃ¼hrung der Frau Elfriede Ott) (2010)', 101074: 'Legend of Sleepy Hollow, The (1949)', 101076: 'G.I. Joe: Retaliation (2013)', 101088: 'Stoker (2013)', 101112: 'Oz the Great and Powerful (2013)', 101142: 'Croods, The (2013)', 101283: 'Incredible Burt Wonderstone, The (2013)', 101360: 'Call, The (2013)', 101362: 'Olympus Has Fallen (2013)', 101415: 'First Time, The (2012)', 101423: 'Mezzo Forte (1998)', 101525: 'Place Beyond the Pines, The (2012)', 101529: 'Brass Teapot, The (2012)', 101531: 'Phil Spector (2013)', 101577: 'Host, The (2013)', 101612: 'Admission (2013)', 101739: 'Evil Dead (2013)', 101741: 'Trance (2013)', 101765: 'Perfect Plan, A (Plan parfait, Un) (2012)', 101864: 'Oblivion (2013)', 101884: 'Dark Tide (2012)', 101895: '42 (2013)', 101962: 'Wolf Children (Okami kodomo no ame to yuki) (2012)', 101973: 'Disconnect (2012)', 102007: 'Invincible Iron Man, The (2007)', 102025: 'Yongary: Monster from the Deep (1967)', 102033: 'Pain & Gain (2013)', 102058: 'Hulk Vs. (2009)', 102066: 'Resolution (2012)', 102070: 'Grabbers (2012)', 102084: 'Justice League: Doom (2012) ', 102088: 'Grandmaster, The (Yi dai zong shi) (2013)', 102123: 'This Is the End (2013)', 102125: 'Iron Man 3 (2013)', 102165: 'English Teacher, The (2013)', 102194: 'Mud (2012)', 102217: 'Bill Hicks: Revelations (1993)', 102278: 'Pawn (2013)', 102338: 'Shaolin Temple (Shao Lin si) (1976)', 102378: 'Syrup (2013)', 102407: 'Great Gatsby, The (2013)', 102445: 'Star Trek Into Darkness (2013)', 102481: 'Internship, The (2013)', 102590: 'Darkon (2006)', 102602: 'Mimino (1977)', 102666: 'Ivan Vasilievich: Back to the Future (Ivan Vasilievich menyaet professiyu) (1973)', 102684: 'Only God Forgives (2013)', 102686: 'Hangover Part III, The (2013)', 102716: 'Fast & Furious 6 (Fast and the Furious 6, The) (2013)', 102720: 'Epic (2013)', 102735: 'Captain America (1979)', 102742: 'Tie Xi Qu: West of the Tracks (Tiexi qu) (2003)', 102747: 'Rink, The (1916)', 102749: 'Captain America II: Death Too Soon (1979)', 102760: 'Down Terrace (2009)', 102800: 'Frances Ha (2012)', 102802: 'Lords of Salem, The (2012)', 102819: 'Behind the Candelabra (2013)', 102823: 'As I Was Moving Ahead Occasionally I Saw Brief Glimpses of Beauty (2000)', 102852: 'With Great Power: The Stan Lee Story (2012)', 102880: 'After Earth (2013)', 102903: 'Now You See Me (2013)', 102984: 'Inhuman Resources (Redd Inc.) (2012)', 102993: 'Way, Way Back, The (2013)', 103027: 'Much Ado About Nothing (2012)', 103042: 'Man of Steel (2013)', 103048: 'Kings of Summer, The (2013)', 103075: 'Purge, The (2013)', 103085: 'Rapture-Palooza (2013)', 103107: '20 Feet from Stardom (Twenty Feet from Stardom) (2013)', 103137: 'Bling Ring, The (2013)', 103141: 'Monsters University (2013)', 103171: 'Schlussmacher (2013)', 103210: 'Fullmetal Alchemist: The Sacred Star of Milos (2011)', 103219: 'Maniac (2012)', 103221: 'Not Suitable for Children (2012)', 103228: 'Pacific Rim (2013)', 103233: 'LEGO Batman: The Movie - DC Heroes Unite (2013)', 103235: 'Best Offer, The (Migliore offerta, La) (2013)', 103245: \"Adam and Eve (National Lampoon's Adam & Eve) (2005)\", 103249: 'World War Z (2013)', 103253: 'Elysium (2013)', 103335: 'Despicable Me 2 (2013)', 103339: 'White House Down (2013)', 103341: \"World's End, The (2013)\", 103366: 'Redemption (Hummingbird) (2013)', 103372: 'Heat, The (2013)', 103384: 'Lone Ranger, The (2013)', 103449: 'Passion (2012)', 103483: 'V/H/S/2 (2013)', 103502: 'Knot, The (2012)', 103539: 'The Spectacular Now (2013)', 103543: 'Lifeguard, The (2013)', 103596: 'Sharknado (2013)', 103602: \"Craig Ferguson: I'm Here To Help (2013)\", 103606: 'Stuck in Love (2012)', 103609: 'Class Act (1992)', 103624: 'Fruitvale Station (2013)', 103655: 'R.I.P.D. (2013)', 103685: 'Field in England, A (2013)', 103688: 'Conjuring, The (2013)', 103755: 'Turbo (2013)', 103772: 'Wolverine, The (2013)', 103801: 'Drinking Buddies (2013)', 103810: 'Red 2 (2013)', 103819: 'Coffee Town (2013)', 103865: 'Revenge for Jolly! (2012)', 103883: '2 Guns (2013)', 103980: 'Blue Jasmine (2013)', 103984: 'Great Beauty, The (Grande Bellezza, La) (2013)', 104017: '3 dev adam (Three Giant Men) (1973) ', 104069: 'Louis C.K.: Oh My God (2013)', 104074: 'Percy Jackson: Sea of Monsters (2013)', 104076: 'Smurfs 2, The (2013)', 104078: 'Alan Partridge: Alpha Papa (2013)', 104129: 'Man of Tai Chi (2013)', 104141: 'Batman: Mystery of the Batwoman (2003)', 104211: \"We're the Millers (2013)\", 104218: 'Grown Ups 2 (2013)', 104241: 'Kick-Ass 2 (2013)', 104243: 'Riddick (2013)', 104245: 'Planes (2013)', 104272: 'Blackfish (2013)', 104283: 'Wind Rises, The (Kaze tachinu) (2013)', 104303: 'Jobs (2013)', 104337: \"Lee Daniels' The Butler (2013)\", 104339: 'In a World... (2013)', 104374: 'About Time (2013)', 104419: 'Justice League: Crisis on Two Earths (2010)', 104457: \"You're Next (2011)\", 104644: 'Maria Bamford: The Special Special Special! (2012)', 104760: 'Getaway (2013)', 104780: 'Mystery of the Third Planet, The (Tayna tretey planety) (1981)', 104837: 'Rage of Honor (1987)', 104841: 'Gravity (2013)', 104863: 'What If (2013)', 104875: 'History of Future Folk, The (2012)', 104879: 'Prisoners (2013)', 104906: 'Austenland (2013)', 104908: 'Insidious: Chapter 2 (2013)', 104913: 'Rush (2013)', 104925: 'Family, The (2013)', 104944: 'Short Term 12 (2013)', 105020: 'Collision Course (1989)', 105037: 'To Do List, The (2013)', 105121: 'Inescapable (2012)', 105197: 'Nebraska (2013)', 105211: 'Enough Said (2013)', 105213: 'Don Jon (2013)', 105246: \"Mood Indigo (L'Ã©cume des jours) (2013)\", 105250: 'Century of the Self, The (2002)', 105254: 'Crystal Fairy & the Magical Cactus and 2012 (2013)', 105325: 'Bad Milo (Bad Milo!) (2013)', 105351: 'Runner Runner (2013)', 105355: \"Blue Is the Warmest Color (La vie d'AdÃ¨le) (2013)\", 105468: 'Cloudy with a Chance of Meatballs 2 (2013)', 105504: 'Captain Phillips (2013)', 105540: 'All Dogs Christmas Carol, An (1998)', 105585: 'Machete Kills (Machete 2) (2013)', 105593: 'Filth (2013)', 105653: 'Escape Plan (2013)', 105720: 'Thief of Paris, The (Le voleur) (1967)', 105731: 'Carrie (2013)', 105746: 'UnHung Hero (2013)', 105755: 'Counselor, The (2013)', 105801: 'Escape From Tomorrow (2013)', 105835: 'Double, The (2013)', 105844: '12 Years a Slave (2013)', 105954: 'All Is Lost (2013)', 106002: \"Ender's Game (2013)\", 106062: 'Jackass Presents: Bad Grandpa (2013)', 106072: 'Thor: The Dark World (2013)', 106100: 'Dallas Buyers Club (2013)', 106144: 'Selfish Giant, The (2013)', 106330: 'Last Vegas (2013)', 106438: 'Philomena (2013)', 106441: 'Book Thief, The (2013)', 106487: 'The Hunger Games: Catching Fire (2013)', 106489: 'Hobbit: The Desolation of Smaug, The (2013)', 106491: '47 Ronin (2013)', 106540: 'Delivery Man (2013)', 106542: 'Charlie Countryman (2013)', 106594: 'Red Flag (2012)', 106642: 'Day of the Doctor, The (2013)', 106648: 'Guilty of Romance (Koi no tsumi) (2011) ', 106696: 'Frozen (2013)', 106766: 'Inside Llewyn Davis (2013)', 106782: 'Wolf of Wall Street, The (2013)', 106785: 'Homefront (2013)', 106839: 'Mandela: Long Walk to Freedom (2013)', 106873: 'Evangelion: 3.0 You Can (Not) Redo (2012)', 106883: 'All is Bright (2013)', 106889: \"Tim's Vermeer (2013)\", 106916: 'American Hustle (2013)', 106918: 'Secret Life of Walter Mitty, The (2013)', 106920: 'Her (2013)', 106927: 'RoboGeisha (Robo-geisha) (2009)', 107013: 'Christmas Carol, A (1977)', 107069: 'Lone Survivor (2013)', 107141: 'Saving Mr. Banks (2013)', 107159: 'Zatoichi and the Chest of Gold (ZatÃ´ichi senryÃ´-kubi) (ZatÃ´ichi 6) (1964)', 107314: 'Oldboy (2013)', 107338: 'Dampfnudelblues (2013)', 107348: 'Anchorman 2: The Legend Continues (2013)', 107406: 'Snowpiercer (2013)', 107408: 'Only Old Men Are Going to Battle (V boy idut odni stariki) (1973)', 107410: 'Guest from the Future (Gostya iz buduschego) (1985)', 107412: 'Kidnapping, Caucasian Style (Kavkazskaya plennitsa) (1967)', 107436: 'Haunter (2013)', 107447: 'Wrong Cops (2013)', 107449: 'Muppet Christmas: Letters to Santa, A (2008)', 107462: 'Ninja: Shadow of a Tear (2013)', 107565: 'Fuck You, Goethe (Fack Ju GÃ¶hte) (2013)', 107630: 'High School (2010)', 107702: 'Grudge Match (2013)', 107723: 'Highlander: The Search for Vengeance (2007)', 107771: 'Only Lovers Left Alive (2013)', 107780: 'Cats (1998)', 107846: 'MacGyver: Trail to Doomsday (1994)', 107945: 'Bad Karma (2012)', 107951: 'Hunting Elephants (2013)', 107953: 'Dragon Ball Z: Battle of Gods (2013)', 107962: 'Freezer (2014)', 107997: 'We Are What We Are (2013)', 107999: 'Dragon ball Z 04: Lord Slug (1991)', 108078: 'Chinese Puzzle (Casse-tÃªte chinois) (2013)', 108090: 'Dragon Ball: The Path to Power (Doragon bÃ´ru: SaikyÃ´ e no michi) (1996)', 108156: 'Ride Along (2014)', 108188: 'Jack Ryan: Shadow Recruit (2014)', 108190: 'Divergent (2014)', 108192: \"Hotel Chevalier (Part 1 of 'The Darjeeling Limited') (2007)\", 108540: 'Ernest & CÃ©lestine (Ernest et CÃ©lestine) (2012)', 108601: 'Drift (2013)', 108689: 'I, Frankenstein (2014)', 108715: 'Better Living Through Chemistry (2014)', 108727: 'Nymphomaniac: Volume I (2013)', 108729: 'Enemy (2013)', 108795: 'Wonder Woman (2009)', 108928: 'Monuments Men, The (2014)', 108932: 'The Lego Movie (2014)', 108945: 'RoboCop (2014)', 108949: 'Art of the Steal, The (2013)', 108981: 'Nymphomaniac: Volume II (2013)', 109042: 'Knights of Badassdom (2013)', 109161: 'Venus in Fur (La VÃ©nus Ã\\xa0 la fourrure) (2013)', 109183: 'Date and Switch (2014)', 109187: 'Zero Theorem, The (2013)', 109191: \"Winter's Tale (2014)\", 109241: \"On the Other Side of the Tracks (De l'autre cÃ´tÃ© du pÃ©riph) (2012)\", 109282: 'GLOW: The Story of the Gorgeous Ladies of Wrestling (2012)', 109295: 'Cold Comes the Night (2013)', 109313: 'Chouchou (2003)', 109317: 'Someone Marry Barry (2014)', 109372: 'About Last Night (2014)', 109374: 'Grand Budapest Hotel, The (2014)', 109383: 'Oversimplification of Her Beauty, An (2012)', 109416: 'Bring It On: Fight to the Finish (2009)', 109483: 'That Awkward Moment (2014)', 109487: 'Interstellar (2014)', 109569: '3 Days to Kill (2014)', 109576: 'Welcome to the Jungle (2013)', 109578: 'Non-Stop (2014)', 109596: 'Wrinkles (Arrugas) (2011)', 109633: 'Garden of Words, The (Koto no ha no niwa) (2013)', 109673: '300: Rise of an Empire (2014)', 109687: 'Particle Fever (2013)', 109723: 'Bag Man, The (2014)', 109846: 'Mr. Peabody & Sherman (2014)', 109848: 'Under the Skin (2013)', 109850: 'Need for Speed (2014)', 109853: 'Barefoot (2014)', 109864: 'Veronica Mars (2014)', 109895: 'Bad Words (2013)', 109897: 'Son of God (2014)', 109941: 'Puss in Boots: The Three Diablos (2012)', 109968: \"Why Don't You Play In Hell? (Jigoku de naze warui) (2013)\", 109971: 'Ocho apellidos vascos (2014)', 110102: 'Captain America: The Winter Soldier (2014)', 110127: 'Noah (2014)', 110130: 'Nut Job, The (2014)', 110281: 'King of Comedy (Hei kek ji wong) (1999)', 110286: '13 Sins (2014)', 110297: 'Muppets Most Wanted (2014)', 110330: 'Me and you (io e te) (2012)', 110350: 'Free to Play (2014)', 110387: 'Unknown Known, The (2013)', 110501: 'The Raid 2: Berandal (2014)', 110541: 'Brain Smasher... A Love Story (Bouncer and the Lady, The) (1993)', 110553: 'The Amazing Spider-Man 2 (2014)', 110586: 'Calvary (2014)', 110591: 'Oculus (2013)', 110603: \"God's Not Dead (2014)\", 110611: 'Cold in July (2014)', 110655: 'Rio 2 (2014)', 110669: 'Honest Liar, An (2014)', 110718: 'Fading Gigolo (2013)', 110730: 'Transcendence (2014)', 110746: 'Hatchet III (2013)', 110771: 'Other Woman, The (2014)', 110773: 'Haunted House 2, A (2014)', 110781: 'Mulan II (2004)', 110826: 'Brick Mansions (2014)', 110882: 'Locke (2013)', 111113: 'Neighbors (2014)', 111146: 'Alpha and Omega 3: The Great Wolf Games (2014)', 111320: \"Mom's Night Out (2014)\", 111360: 'Lucy (2014)', 111362: 'X-Men: Days of Future Past (2014)', 111364: 'Godzilla (2014)', 111375: 'Walk of Shame (2014)', 111384: 'Blue Ruin (2013)', 111443: 'Chef (2014)', 111551: 'Afflicted (2013)', 111617: 'Blended (2014)', 111622: 'Begin Again (2013)', 111659: 'Maleficent (2014)', 111663: 'Zombeavers (2014)', 111680: 'At Middleton (2013)', 111732: 'Dance of Reality, The (Danza de la realidad, La) (2013)', 111743: 'A Million Ways to Die in the West (2014)', 111759: 'Edge of Tomorrow (2014)', 111781: 'Mission: Impossible - Rogue Nation (2015)', 111785: 'Midnight Chronicles (2009)', 111795: 'Million Dollar Arm (2014)', 111800: 'G.B.F. (2013)', 111817: 'Jimi: All Is by My Side (2013)', 111844: 'Bad Asses (Bad Ass 2) (2014)', 111913: 'Lilting (2014)', 111921: 'The Fault in Our Stars (2014)', 112006: 'Tangled Ever After (2012)', 112070: 'Maps to the Stars (2014)', 112138: '22 Jump Street (2014)', 112171: 'Equalizer, The (2014)', 112175: 'How to Train Your Dragon 2 (2014)', 112183: 'Birdman: Or (The Unexpected Virtue of Ignorance) (2014)', 112290: 'Boyhood (2014)', 112303: 'Think Like a Man Too (2014)', 112316: 'Jersey Boys (2014)', 112326: 'Nick Fury: Agent of S.H.I.E.L.D. (1998)', 112334: \"Internet's Own Boy: The Story of Aaron Swartz, The (2014)\", 112370: 'Transformers: Age of Extinction (2014)', 112421: 'Frank (2014)', 112450: 'They Came Together (2014)', 112454: 'Honey (Miele) (2013)', 112460: 'Planes: Fire & Rescue (2014)', 112497: 'Tammy (2014)', 112512: 'Colourful (Karafuru) (2010)', 112515: 'Babadook, The (2014)', 112552: 'Whiplash (2014)', 112556: 'Gone Girl (2014)', 112580: 'Angriest Man in Brooklyn, The (2014)', 112623: 'Dawn of the Planet of the Apes (2014)', 112727: 'Deliver Us from Evil (2014)', 112749: 'And So It Goes (2014)', 112788: 'Sex Tape (2014)', 112804: 'I Origins (2014)', 112818: 'Purge: Anarchy, The (2014)', 112852: 'Guardians of the Galaxy (2014)', 112868: 'Signal, The (2014)', 112897: 'The Expendables 3 (2014)', 112911: 'Hercules (2014)', 112940: 'A Most Wanted Man (2014)', 113159: 'Life After Beth (2014)', 113186: 'Felony (2013)', 113207: 'Get on Up (2014)', 113225: 'Magic in the Moonlight (2014)', 113252: 'Housebound (2014)', 113275: 'The Hundred-Foot Journey (2014)', 113278: 'Batman: Assault on Arkham (2014)', 113280: 'White Frog (2012)', 113313: 'Den, The (2013)', 113345: 'Jupiter Ascending (2015)', 113348: 'Teenage Mutant Ninja Turtles (2014)', 113350: \"I'll Follow You Down (2013)\", 113374: 'Old Lady and the Pigeons, The (La vieille dame et les pigeons) (1997)', 113378: 'Giver, The (2014)', 113394: 'Pretty One, The (2013)', 113416: 'Revenge of the Green Dragons (2014)', 113453: \"Let's Be Cops (2014)\", 113532: 'Inbetweeners 2, The (2014)', 113565: 'Sacrament, The (2013)', 113573: 'Sin City: A Dame to Kill For (2014)', 113604: 'If I Stay (2014)', 113705: 'Two Days, One Night (Deux jours, une nuit) (2014)', 113741: 'Coherence (2013)', 113780: 'As Above, So Below (2014)', 113829: 'One I Love, The (2014)', 113849: 'Headshot (2011)', 113862: 'Guest, The (2014)', 114028: 'Pride (2014)', 114044: 'Honeymoon (2014)', 114060: 'The Drop (2014)', 114066: '20,000 Days on Earth (2014)', 114074: 'The Skeleton Twins (2014)', 114126: 'Beautiful Losers (2008)', 114180: 'Maze Runner, The (2014)', 114184: 'Camp X-Ray (2014)', 114246: 'Walk Among the Tombstones, A (2014)', 114265: 'Laggies (2014)', 114335: 'La cravate (1957)', 114396: 'Cesar Chavez (2014)', 114494: 'Who Am I (Kein System Ist Sicher) (2014)', 114554: 'Tale of Princess Kaguya, The (Kaguyahime no monogatari) (2013)', 114601: 'This Is Where I Leave You (2014)', 114627: \"Angel's Egg (Tenshi no tamago) (1985)\", 114662: 'American Sniper (2014)', 114670: 'Tusk (2014)', 114678: 'Hector and the Search for Happiness (2014)', 114707: 'Horns (2014)', 114713: 'Annabelle (2014)', 114762: 'Two Night Stand (2014)', 114795: 'Dracula Untold (2014)', 114818: 'Stretch (2014)', 114847: 'AutÃ³mata (Automata) (2014)', 114925: 'Captive, The (2014)', 114935: 'Predestination (2014)', 115065: 'Justin and the Knights of Valour (2013)', 115111: 'Ward 13 (2003)', 115122: 'What We Do in the Shadows (2014)', 115149: 'John Wick (2014)', 115151: 'Plastic (2014)', 115170: 'Judge, The (2014)', 115203: 'Culture High, The (2014)', 115210: 'Fury (2014)', 115216: 'Salvation, The (2014)', 115231: 'St. Vincent (2014)', 115502: 'Rewrite, The (2014)', 115569: 'Nightcrawler (2014)', 115617: 'Big Hero 6 (2014)', 115664: 'The Book of Life (2014)', 115667: 'Love, Rosie (2014)', 115680: 'Time Lapse (2014)', 115713: 'Ex Machina (2015)', 115727: 'Crippled Avengers (Can que) (Return of the 5 Deadly Venoms) (1981)', 115819: 'Mr Hublot (2013)', 115828: 'Copenhagen (2014)', 115877: 'Simpsons: The Longest Daycare, The (2012)', 115969: 'Generation War (2013)', 116044: 'Christmas in Connecticut (1992)', 116138: 'Leviathan (2014)', 116169: 'Reign of Assassins (2010)', 116207: 'Zulu (2013)', 116411: 'Tangerines (2013)', 116413: 'Life Partners (2014)', 116419: 'Drive Hard (2014)', 116505: 'New Kids Nitro (2011)', 116529: 'Stalingrad (2013)', 116668: 'Dead Snow 2: Red vs. Dead (2014) ', 116718: 'Volga - Volga (1938)', 116724: 'You Are the Apple of My Eye (2011)', 116738: 'DeadHeads (2011)', 116797: 'The Imitation Game (2014)', 116799: 'Inherent Vice (2014)', 116817: 'Rudderless (2014)', 116823: 'The Hunger Games: Mockingjay - Part 1 (2014)', 116849: 'Sex Ed (2014)', 116887: 'Exodus: Gods and Kings (2014)', 116897: 'Wild Tales (2014)', 116941: 'Jetsons: The Movie (1990)', 116963: 'Ski School (1991)', 116977: 'Dumb and Dumber To (2014)', 116985: 'The Longest Week (2014)', 117107: 'Miss Meadows (2014)', 117109: 'Too Many Cooks (2014)', 117133: 'Painted Skin (2008)', 117176: 'The Theory of Everything (2014)', 117192: 'Doctor Who: The Time of the Doctor (2013)', 117364: 'Virunga (2014)', 117368: 'The Madagascar Penguins in a Christmas Caper (2005)', 117444: 'Song of the Sea (2014)', 117466: 'In the Heart of the Sea (2015)', 117511: 'Hello Ladies: The Movie (2014)', 117529: 'Jurassic World (2015)', 117531: 'Watermark (2014)', 117533: 'Citizenfour (2014)', 117545: 'Asterix: The Land of the Gods (AstÃ©rix: Le domaine des dieux) (2014)', 117572: 'Hit by Lightning (2014)', 117590: 'Horrible Bosses 2 (2014)', 117630: 'Double Trouble (1992)', 117646: 'Dragonheart 2: A New Beginning (2000)', 117849: 'La Belle Verte (1996)', 117851: 'Penguins of Madagascar (2014)', 117867: \"'71 (2014)\", 117877: \"The Rabbi's Cat (Le chat du rabbin) (2011)\", 117881: 'Still Alice (2014)', 117887: 'Paddington (2014)', 117895: 'Maze Runner: Scorch Trials (2015)', 117922: 'Ice Age: A Mammoth Christmas (2011)', 118082: 'The Voices (2014)', 118166: 'Courier (1987)', 118198: 'The Green Prince (2014)', 118248: 'Dying of the Light (2014)', 118270: 'Hellbenders (2012)', 118290: 'Omega Doom (1996)', 118326: 'By the Gun (2014)', 118354: 'Kill the Messenger (2014)', 118512: 'Bring It On: In It To Win It (2007)', 118530: 'Fans (1999)', 118572: 'The Mule (2014)', 118696: 'The Hobbit: The Battle of the Five Armies (2014)', 118700: 'Selma (2014)', 118702: 'Unbroken (2014)', 118706: 'Black Sea (2015)', 118784: 'Good Copy Bad Copy (2007)', 118814: 'Playing It Cool (2014)', 118834: \"National Lampoon's Bag Boy (2007)\", 118862: 'Closer to the Moon (2013)', 118880: 'Girl Walks Home Alone at Night, A (2014)', 118888: \"Dave Chappelle: For What it's Worth (2004)\", 118894: 'Scooby-Doo! Abracadabra-Doo (2010)', 118896: 'Mommy (2014)', 118900: 'Wild (2014)', 118924: 'Top Five (2014)', 118930: \"Bill Burr: I'm Sorry You Feel That Way (2014)\", 118985: 'Big Eyes (2014)', 118997: 'Into the Woods (2014)', 119068: 'Men, Women & Children (2014)', 119141: 'The Interview (2014)', 119145: 'Kingsman: The Secret Service (2015)', 119153: 'Bill Burr: You People Are All the Same (2012)', 119155: 'Night at the Museum: Secret of the Tomb (2014)', 119167: 'Paradox (2010)', 119218: 'The Punisher: Dirty Laundry (2012)', 119655: 'Seventh Son (2014)', 119714: 'Corner Gas: The Movie (2014)', 119828: 'A Man Called Blade (1977)', 119964: \"A Merry Friggin' Christmas (2014)\", 120130: \"Into the Forest of Fireflies' Light (2011)\", 120138: 'PK (2014)', 120466: 'Chappie (2015)', 120478: 'The Salt of the Earth (2014)', 120625: 'The Fool (2014)', 120635: 'Taken 3 (2015)', 120637: 'Blackhat (2015)', 120761: 'By the Law (1926)', 120783: 'Son of a Gun (2014)', 120799: 'Terminator Genisys (2015)', 120807: 'John Mulaney: New In Town (2012)', 120813: 'Patton Oswalt: My Weakness Is Strong (2009)', 120827: 'The Hound of the Baskervilles (1988)', 120919: 'Man on High Heels (2014)', 121007: 'Space Buddies (2009)', 121035: 'Houdini (2014)', 121097: \"To Grandmother's House We Go (1992)\", 121099: \"101 Dalmatians II: Patch's London Adventure (2003)\", 121129: 'The Hungover Games (2014)', 121169: 'The Duke of Burgundy (2014)', 121171: 'Red Army (2014)', 121231: 'It Follows (2014)', 121253: 'The Town that Dreaded Sundown (2014)', 121338: 'Carry on Cabby (1963)', 121342: 'Carry on Cruising (1962)', 121372: 'Bill Burr: Let It Go (2010)', 121374: 'Bill Burr: Why Do I Do This? (2008)', 121469: 'Killer Movie (2008)', 121715: \"Sebastian Maniscalco: What's Wrong with People? (2012)\", 121781: 'Stuart Little 3: Call of the Wild (2005)', 122092: 'Guy X (2005)', 122246: 'Tooth Fairy 2 (2012)', 122260: 'The Diary of Anne Frank (2009)', 122433: 'The Deadly Bees (1967)', 122490: 'Wicked Blood (2014)', 122627: 'Oblivion 2: Backlash (1996)', 122882: 'Mad Max: Fury Road (2015)', 122884: 'Insidious: Chapter 3 (2015)', 122886: 'Star Wars: Episode VII - The Force Awakens (2015)', 122888: 'Ben-hur (2016)', 122890: 'Warcraft (2016)', 122892: 'Avengers: Age of Ultron (2015)', 122896: 'Pirates of the Caribbean: Dead Men Tell No Tales (2017)', 122898: 'Justice League (2017)', 122900: 'Ant-Man (2015)', 122902: 'Fantastic Four (2015)', 122904: 'Deadpool (2016)', 122906: 'Black Panther (2017)', 122912: 'Avengers: Infinity War - Part I (2018)', 122916: 'Thor: Ragnarok (2017)', 122918: 'Guardians of the Galaxy 2 (2017)', 122920: 'Captain America: Civil War (2016)', 122922: 'Doctor Strange (2016)', 122924: 'X-Men: Apocalypse (2016)', 122926: 'Untitled Spider-Man Reboot (2017)', 122932: 'Elsa & Fred (2014)', 123200: 'Jim Jefferies: I Swear to God (2009)', 123310: 'Tornado! (1996)', 123545: 'The Blue Lagoon (1949)', 123553: 'In the Name of the King III (2014)', 123947: 'Cake (2014)', 124273: 'Kevin Smith: Too Fat For 40 (2010)', 124404: 'Snowflake, the White Gorilla (2011)', 124484: 'Kenny & Company (1976)', 124851: 'Delirium (2014)', 124853: 'Why Man Creates (1968)', 124859: 'The Gambler (2014)', 125221: 'The Beast of Hollow Mountain (1956)', 125914: 'Mortdecai (2015)', 125916: 'Fifty Shades of Grey (2015)', 125970: 'Halloweentown (1998)', 125974: 'Halloweentown High (2004)', 126088: 'A Flintstones Christmas Carol (1994)', 126090: 'Hedgehog in the Fog (1975)', 126142: 'The Cave of the Golden Rose (1991)', 126420: 'American Heist (2015)', 126426: 'Solyaris (1968)', 126430: 'The Pacific (2010)', 126482: 'Strange Magic (2015)', 126548: 'The DUFF (2015)', 126577: \"Daddy, I'm A Zombie (2012)\", 126921: 'The Fox and the Hound 2 (2006)', 127052: \"Operation 'Y' & Other Shurik's Adventures (1965)\", 127096: 'Project Almanac (2015)', 127098: 'Louis C.K.: Live at The Comedy Store (2015)', 127108: 'Brooklyn (2015)', 127114: 'The End of the Tour (2015)', 127116: 'Experimenter (2015)', 127130: 'Mistress America (2015)', 127132: 'Zipper (2015)', 127134: 'A Walk in the Woods (2015)', 127136: 'True Story (2015)', 127146: 'Kurt Cobain: Montage of Heck (2015)', 127152: 'Going Clear: Scientology and the Prison of Belief (2015)', 127164: 'What Happened, Miss Simone? (2015)', 127172: 'A Story of Children and Film (2013)', 127180: 'Story of Film: An Odyssey, The (2011)', 127184: 'Eden (2014)', 127194: 'The D Train (2015)', 127198: 'Dope (2015)', 127202: 'Me and Earl and the Dying Girl (2015)', 127204: 'The Overnight (2015)', 127212: 'The Stanford Prison Experiment (2015)', 127298: 'A Pigeon Sat on a Branch Reflecting on Existence (2014)', 127319: 'The Loft (2014)', 127323: 'Vice (2015)', 127390: 'Family Guy Presents: Blue Harvest (2007)', 128087: 'Trinity and Sartana Are Coming (1972)', 128089: \"Kevin Hart: I'm a Grown Little Man (2009)\", 128097: 'Jim Norton: American Degenerate (2013)', 128099: 'Jim Jefferies: BARE (2014)', 128197: 'Hard Promises (1991)', 128360: 'The Hateful Eight (2015)', 128366: 'Patton Oswalt: Tragedy Plus Comedy Equals Time (2014)', 128488: 'Wild Card (2015)', 128512: 'Paper Towns (2015)', 128520: 'The Wedding Ringer (2015)', 128542: 'Wyrmwood (2015)', 128592: 'The Boy Next Door (2015)', 128594: 'Boy Meets Girl (2015)', 128620: 'Victoria (2015)', 128695: 'The Dark Valley (2014)', 128736: \"I'm Here (2010)\", 128832: 'The Last Five Years (2014)', 128838: 'Crimson Peak (2015)', 128842: \"Dragonheart 3: The Sorcerer's Curse (2015)\", 128852: 'Chris Rock: Bigger & Blacker (1999)', 128900: 'The Natural Love (1996)', 128902: 'The Forgotten Space (2010)', 128908: 'Cloudburst (2011)', 128914: 'Tom Segura: Completely Normal (2014)', 128944: 'Honey, We Shrunk Ourselves (1997)', 128968: 'Stitch! The Movie (2003)', 128975: 'Hot Tub Time Machine 2 (2015)', 128991: 'Johnny Express (2014)', 129011: 'Eddie Izzard: Glorious (1997)', 129229: 'Northmen - A Viking Saga (2014)', 129250: 'Superfast! (2015)', 129313: 'Reality (2014)', 129333: 'Julia (2014)', 129354: 'Focus (2015)', 129397: 'Marvel One-Shot: Item 47 (2012)', 129428: 'The Second Best Exotic Marigold Hotel (2015)', 129514: \"George Carlin: It's Bad for Ya! (2008)\", 129657: 'Tracers (2015)', 129659: 'McFarland, USA (2015)', 129737: 'Unfinished Business (2015)', 129779: 'Ghost in the Shell Arise - Border 1: Ghost Pain (2013)', 129937: 'Run All Night (2015)', 130050: 'Digging Up the Marrow (2014)', 130052: 'Clown (2014)', 130073: 'Cinderella (2015)', 130083: 'Kidnapping Mr. Heineken (2015)', 130087: 'The Cobbler (2015)', 130444: 'Ruby Red (2013)', 130450: 'Pan (2015)', 130452: \"While We're Young (2014)\", 130482: 'Too Late for Tears (1949)', 130490: 'Insurgent (2015)', 130498: 'La vÃ©ritÃ© si je mens ! (1997)', 130518: 'The Amazing Screw-On Head (2006)', 130520: 'Home (2015)', 130576: 'Midnight Special (2015)', 130578: 'Gunman, The (2015)', 130634: 'Furious 7 (2015)', 130686: 'The Final Girls (2015)', 130840: 'Spring (2015)', 130842: 'Power/Rangers (2015)', 130970: 'George Carlin: Life Is Worth Losing (2005)', 130976: 'Legend No. 17 (2013)', 130978: 'Love and Pigeons (1985)', 131013: 'Get Hard (2015)', 131023: 'That Sugar Film (2014)', 131098: 'Saving Santa (2013)', 131104: 'The Brain (1969)', 131130: 'Tom and Jerry: A Nutcracker Tale (2007)', 131237: 'What Men Talk About (2010)', 131439: 'Kill Me Three Times (2014)', 131480: 'Poker Night (2014)', 131578: 'Reckless Kelly (1994)', 131610: 'Willy/Milly (1986)', 131656: 'Shaun the Sheep Movie (2015)', 131714: 'Last Knights (2015)', 131724: 'The Jinx: The Life and Deaths of Robert Durst (2015)', 131739: 'Batman vs. Robin (2015)', 131749: 'Libre et assoupi (2014)', 131796: 'Woman in Gold (2015)', 131826: 'Iliza Shlesinger: Freezing Hot (2015)', 131920: 'The Road Within (2014)', 131934: 'The Malibu Bikini Shop (1986)', 132046: 'Tomorrowland (2015)', 132084: 'Let It Be Me (1995)', 132153: 'Buzzard (2015)', 132157: 'Paul Blart: Mall Cop 2 (2015)', 132333: 'Seve (2014)', 132335: 'Breathe (2014)', 132362: 'Patlabor 2: The Movie (1993)', 132422: 'Da Sweet Blood of Jesus (2014)', 132424: 'The Longest Ride (2015)', 132454: 'Girltrash: All Night Long (2014)', 132462: 'Sword of Vengeance (2014)', 132488: 'Lovesick (2014)', 132496: 'Danny Collins (2015)', 132584: 'The Even Stevens Movie (2003)', 132618: 'Kite (2014)', 132660: 'Man Up (2015)', 132796: 'San Andreas (2015)', 132800: 'Welcome to Me (2014)', 132888: 'Comedy Central Roast of James Franco (2013)', 133115: 'We Could Be King (2014)', 133195: 'Hitman: Agent 47 (2015)', 133217: 'B/W (2015)', 133281: 'Ricki and the Flash (2015)', 133365: 'Partisan (2015)', 133377: 'Infini (2015)', 133419: 'Pitch Perfect 2 (2015)', 133545: 'Just Before I Go (2014)', 133645: 'Carol (2015)', 133712: 'Office Romance (1977)', 133716: 'Bootleggers (1961)', 133771: 'The Lobster (2015)', 133780: 'GÃ¼eros (2014)', 133782: 'Maggie (2015)', 133798: 'Hot Pursuit (2015)', 133802: 'Slow West (2015)', 133832: 'The Green Inferno (2014)', 133867: 'Barely Lethal (2015)', 133879: \"Carry On Don't Lose Your Head (1966)\", 134004: 'What Love Is (2007)', 134019: 'The Monkey King (1964)', 134021: '5 to 7 (2014)', 134041: 'Afonya (1975)', 134095: 'My Love (2006)', 134109: 'Radio Day (2008)', 134130: 'The Martian (2015)', 134158: 'Return to Sender (2015)', 134170: 'Kung Fury (2015)', 134184: 'Elections Day (2007)', 134214: 'Youth (2015)', 134246: 'Survivor (2015)', 134248: 'Hot Girls Wanted (2015)', 134252: 'That Munchhausen (1979)', 134326: 'The Taming of the Scoundrel (1980)', 134334: 'Phir Hera Pheri (2006)', 134368: 'Spy (2015)', 134393: 'Trainwreck (2015)', 134515: 'BMX Bandits (1983)', 134524: 'Turtle Power: The Definitive History of the Teenage Mutant Ninja Turtles (2014)', 134528: 'Aloha (2015)', 134775: 'Dragon Blade (2015)', 134783: 'Entourage (2015)', 134796: 'Bitter Lake (2015)', 134808: 'No Way Jose (2015)', 134847: 'Ghost Graduation (2012)', 134849: 'Duck Amuck (1953)', 134853: 'Inside Out (2015)', 134859: 'The Wolfpack (2015)', 134861: 'Trevor Noah: African American (2013)', 134881: 'Love & Mercy (2014)', 135133: 'The Hunger Games: Mockingjay - Part 2 (2015)', 135137: 'Pixels (2015)', 135143: 'Fantastic Beasts and Where to Find Them (2016)', 135198: 'The Hairdresser (2010)', 135216: 'The Star Wars Holiday Special (1978)', 135288: 'Mr. Holmes (2015)', 135436: 'The Secret Life of Pets (2016)', 135456: 'Ghost in the Shell: Stand Alone Complex - The Laughing Man (2005)', 135518: 'Self/less (2015)', 135532: 'The Last Witch Hunter (2015)', 135534: 'Krampus (2015)', 135536: 'Suicide Squad (2016)', 135567: 'Independence Day: Resurgence (2016)', 135569: 'Star Trek Beyond (2016)', 135777: 'Golmaal (2006)', 135787: \"Bruce Lee: A Warrior's Journey (2000)\", 135803: 'Five Element Ninjas (1982)', 135815: 'The Magnificent Ruffians (1979)', 135861: 'Ted 2 (2015)', 135885: 'Absolutely Anything (2015)', 135887: 'Minions (2015)', 135937: 'The Silence of the Hams (1994)', 136012: 'Bloodsport III (1996)', 136016: 'The Good Dinosaur (2015)', 136018: 'Black Mass (2015)', 136020: 'Spectre (2015)', 136024: 'The Professional: Golgo 13 (1983)', 136297: 'Mortal Kombat: The Journey Begins (1995)', 136305: 'Sharknado 3: Oh Hell No! (2015)', 136341: 'Scooby-Doo! and the Samurai Sword (2009)', 136353: 'Scooby-Doo! and the Loch Ness Monster (2004)', 136355: 'Big Top Scooby-Doo! (2012)', 136359: 'Scooby-Doo Goes Hollywood (1979)', 136443: 'Gabriel Iglesias: Hot and Fluffy (2007)', 136445: 'George Carlin: Back in Town (1996)', 136447: 'George Carlin: You Are All Diseased (1999)', 136449: 'Ghost in the Shell 2.0 (2008)', 136469: 'Larry David: Curb Your Enthusiasm (1999)', 136471: 'Kevin Hart: Laugh at My Pain (2011)', 136503: 'Tom and Jerry: Shiver Me Whiskers (2006)', 136511: 'Jeff Dunham: All Over the Map (2014)', 136540: 'The FP (2012)', 136556: 'Kung Fu Panda: Secrets of the Masters (2011)', 136562: 'Steve Jobs (2015)', 136564: 'Macbeth (2015)', 136598: 'Vacation (2015)', 136602: 'Creep (2014)', 136654: 'The Face of an Angel (2015)', 136664: 'Wild Horses (2015)', 136666: 'Search Party (2014)', 136778: 'The Squeeze (2015)', 136786: 'Careful What You Wish For (2015)', 136800: 'Robot Overlords (2014)', 136816: 'Bad Asses on the Bayou (2015)', 136834: 'The Eye: Infinity (2005)', 136838: 'Kiss me Kismet (2006)', 136840: 'Da geht noch was! (2013)', 136850: 'Villain (1971)', 136859: 'The Lovers (2015)', 136864: 'Batman v Superman: Dawn of Justice (2016)', 136912: 'God Loves Caviar (2012)', 136958: 'Mortuary (1983)', 137218: 'April Morning (1988)', 137337: 'Amy (2015)', 137345: 'That Demon Within (2014)', 137517: 'Carnival Magic (1981)', 137595: 'Magic Mike XXL (2015)', 137857: 'The Jungle Book (2016)', 137859: 'Dragon Ball Z Gaiden: The Plot to Destroy the Saiyans (1993)', 137863: 'Dragon Ball Z: Resurrection of F (2015)', 138036: 'The Man from U.N.C.L.E. (2015)', 138186: 'Sorrow (2015)', 138204: '7 Days in Hell (2015)', 138208: 'The Walk (2015)', 138210: '13 Hours (2016)', 138396: 'There Will Come a Day (2013)', 138546: 'The Opposite Sex (2014)', 138610: 'The Gallows (2015)', 138632: 'Tokyo Tribe (2014)', 138702: 'Feast (2014)', 138798: 'Joe Dirt 2: Beautiful Loser (2015)', 138835: 'Return to Treasure Island (1988)', 138966: 'Nasu: Summer in Andalusia (2003)', 139052: 'Dark Places (2015)', 139130: 'Afro Samurai (2007)', 139157: 'Massu Engira Maasilamani (2015)', 139385: 'The Revenant (2015)', 139415: 'Irrational Man (2015)', 139511: 'Exte: Hair Extensions (2007)', 139640: 'Ooops! Noah is Gone... (2015)', 139642: 'Southpaw (2015)', 139644: 'Sicario (2015)', 139655: 'Goodnight Mommy (Ich seh ich seh) (2014)', 139717: '10 Cent Pistol (2015)', 139747: 'Before We Go (2014)', 139855: 'Anomalisa (2015)', 139857: 'Colonia (2016)', 139859: 'Ghost in the Shell Arise - Border 2: Ghost Whispers (2013)', 139915: 'How to Make Love Like an Englishman (2014)', 139994: 'Fracchia contro Dracula (1985)', 140016: 'Always Watching: A Marble Hornets Story (2015)', 140038: 'Madly in Love (1981)', 140110: 'The Intern (2015)', 140133: 'Hollywood Chainsaw Hookers (1988)', 140162: 'Love (2015)', 140174: 'Room (2015)', 140237: 'The Runner (2015)', 140247: 'The Gift (2015)', 140265: \"George Carlin: Jammin' in New York (1992)\", 140267: 'The Witch (2015)', 140289: 'Men & Chicken (2015)', 140301: 'The Escort (2015)', 140359: 'Doctor Who: The Waters of Mars (2009)', 140481: 'Family Guy Presents: Something, Something, Something, Dark Side (2009)', 140523: 'Visit, The (2015)', 140525: 'Secret in Their Eyes (2015)', 140541: 'The Electric Hotel (1908)', 140561: 'Jeff Ross Roasts Criminals: Live at Brazos County Jail (2015)', 140627: 'Battle For Sevastopol (2015)', 140711: 'American Ultra (2015)', 140715: 'Straight Outta Compton (2015)', 140725: 'Cop Car (2015)', 140737: 'The Lost Room (2006)', 140816: 'Tangerine (2015)', 140850: 'Every Secret Thing (2014)', 140852: '964 Pinocchio (1991)', 140928: 'Joy (2015)', 140956: 'Ready Player One', 141004: 'Victor Frankenstein (2015)', 141131: 'Guardians (2016)', 141400: 'Invincible Shaolin (1978)', 141408: 'Scouts Guide to the Zombie Apocalypse (2015)', 141422: 'Suffragette (2015)', 141513: 'Fort Tilden (2014)', 141544: 'Turbo Kid (2015)', 141646: 'The Unauthorized Saved by the Bell Story (2014)', 141668: 'War Room (2015)', 141688: 'Legend (2015)', 141718: 'Deathgasm (2015)', 141749: 'The Danish Girl (2015)', 141799: 'Cooties (2015)', 141810: 'Autumn Marathon (1979)', 141816: '12 Chairs (1976)', 141818: 'Ordinary Miracle (1978)', 141820: 'Old Men: Robbers (1971)', 141830: 'Unbelievable Adventures of Italians in Russia (1974)', 141836: \"It Can't Be! (1975)\", 141844: '12 Chairs (1971)', 141846: 'Steve Jobs: The Man in the Machine (2015)', 141866: 'Green Room (2015)', 141890: 'Beasts of No Nation (2015)', 141928: 'Bloodsucking Bastards (2015)', 141994: 'Saving Christmas (2014)', 142020: 'Oscar (1967)', 142056: 'Iron Man & Hulk: Heroes United (2013)', 142074: 'Knock Knock (2015)', 142115: 'The Blue Planet (2001)', 142196: 'Cornered! (2009)', 142222: 'Demolition (2016)', 142366: 'Cigarette Burns (2005)', 142372: 'Our Brand Is Crisis (2015)', 142420: 'High Rise (2015)', 142422: 'The Night Before (2015)', 142424: 'Into the Forest (2015)', 142444: 'The Editor (2015)', 142448: 'Everest (2015)', 142456: 'The Brand New Testament (2015)', 142488: 'Spotlight (2015)', 142507: 'Pawn Sacrifice (2015)', 142509: 'Hardcore Henry (2015)', 142536: 'Burnt (2015)', 142550: 'Ryuzo and the Seven Henchmen (2015)', 142558: 'If I Were a Rich Man (2002)', 142598: 'Last Shift (2014)', 142602: 'F*ck You, Goethe 2 (2015)', 142831: 'Garam Masala (2005)', 142961: 'Life Eternal (2015)', 142997: 'Hotel Transylvania 2 (2015)', 143001: 'Anti-Social (2015)', 143031: 'Jump In! (2007)', 143245: 'The Little Prince (2015)', 143255: 'Narcopolis (2014)', 143257: 'Ashby (2015)', 143355: 'Wonder Woman (2017)', 143365: 'The Circle (2016)', 143367: 'Silence (2016)', 143385: 'Bridge of Spies (2015)', 143410: 'Hyena Road', 143458: 'The Great Hypnotist (2014)', 143472: 'Into the Grizzly Maze (2015)', 143511: 'Human (2015)', 143525: \"Chasuke's Journey (2015)\", 143559: 'L.A. Slasher (2015)', 143859: 'Hail, Caesar! (2016)', 143896: 'How To Change The World (2015)', 143969: 'Er ist wieder da (2015)', 144210: 'Just Eat It: A Food Waste Story (2014)', 144222: 'Bros Before Hos (2013)', 144262: 'Slow Learners (2015)', 144352: 'Unforgiven (2013)', 144478: 'Sex, Drugs & Taxation (2013)', 144522: 'Sky High (2003)', 144606: 'Confessions of a Dangerous Mind (2002)', 144620: 'Goosebumps (2015)', 144714: 'The Perfect Guy (2015)', 144716: 'Rock the Kasbah (2015)', 144734: 'Freaks of Nature (2015)', 144976: 'Bone Tomahawk (2015)', 145080: 'Extraordinary Tales (2015)', 145150: 'The Dressmaker (2015)', 145283: 'Nowitzki: The Perfect Shot (2014)', 145418: 'Trumbo (2015)', 145491: 'Our Lips Are Sealed (2000)', 145724: 'Idaho Transfer (1973)', 145745: 'Witch Hunt (1999)', 145839: 'Concussion (2015)', 145935: 'Peanuts Movie, The (2015)', 145951: 'Bloodsport: The Dark Kumite (1999)', 145994: 'Formula of Love (1984)', 146024: 'A Man from Boulevard des Capucines (1987)', 146028: 'The Adventures of Sherlock Holmes and Dr. Watson: The Hound of the Baskervilles (1981)', 146210: 'Blue Mountain State: The Rise of Thadland (2015)', 146244: 'Dil To Pagal Hai (1997)', 146309: 'The Boy and the Beast (2015)', 146656: 'Creed (2015)', 146662: 'Dragons: Gift of the Night Fury (2011)', 146682: 'Twinsters (2015)', 146684: 'Cosmic Scrat-tastrophe (2015)', 146688: 'Solace (2015)', 146730: 'Lost in the Sun (2015)', 146986: \"Le MaÃ®tre d'Ã©cole (1981)\", 147002: 'Eros (2004)', 147142: 'Those Happy Days (2006)', 147196: 'The Girls (1961)', 147250: 'The Adventures of Sherlock Holmes and Doctor Watson', 147282: 'What Men Still Talk About (2011)', 147286: 'The Adventures of Sherlock Holmes and Doctor Watson: The Treasures of Agra (1983)', 147300: 'Adventures Of Sherlock Holmes And Dr. Watson: The Twentieth Century Approaches (1986)', 147326: 'The Adventures of Sherlock Holmes and Doctor Watson: King of Blackmailers (1980)', 147328: 'The Adventures of Sherlock Holmes and Dr. Watson: Bloody Signature (1979)', 147330: 'Sherlock Holmes and Dr. Watson: Acquaintance (1979)', 147372: 'Doctor Who: Last Christmas (2014)', 147374: 'Doctor Who: The Doctor, the Widow and the Wardrobe (2011)', 147376: 'Doctor Who: A Christmas Carol (2010)', 147378: 'Doctor Who: Planet of the Dead (2009)', 147380: 'Doctor Who: The Next Doctor (2008)', 147382: 'Doctor Who: Voyage Of The Damned (2007)', 147384: 'Doctor Who: The Runaway Bride (2007)', 147410: 'A Perfect Day (2015)', 147657: 'Masked Avengers (1981)', 147662: 'Return of the One-Armed Swordsman (1969)', 147936: \"The Lord's Lantern in Budapest (1999)\", 148166: 'Hitchcock/Truffaut (2015)', 148172: 'The 5th Wave (2016)', 148238: 'A Very Murray Christmas (2015)', 148424: 'Chi-Raq (2015)', 148482: 'Truth (2015)', 148592: 'Just Jim (2015)', 148626: 'Big Short, The (2015)', 148632: 'Applesauce (2015)', 148652: 'The Ridiculous 6 (2015)', 148667: 'John Mulaney: The Comeback Kid (2015)', 148671: 'Saw (2003)', 148675: 'North Pole: Open For Christmas (2015)', 148709: 'Mojave (2015)', 148775: 'Wizards of Waverly Place: The Movie (2009)', 148881: 'World of Tomorrow (2015)', 148888: 'Zoolander 2 (2016)', 148956: 'How to Be Single (2016)', 148978: 'Blue Exorcist: The Movie (2012)', 148982: 'Devil Dog: The Hound of Hell (1978)', 149011: 'He Never Died (2015)', 149144: 'Parasyte: Part 1 (2014)', 149146: 'Parasyte: Part 2 (2015)', 149330: 'A Cosmic Christmas (1977)', 149334: 'Nocturnal Animals', 149350: 'Lumberjack Man (2015)', 149352: \"Daddy's Home (2015)\", 149354: 'Sisters (2015)', 149380: \"'Tis the Season for Love (2015)\", 149406: 'Kung Fu Panda 3 (2016)', 149508: 'Spellbound (2011)', 149566: 'Unicorn City (2012)', 149590: 'Standoff (2016)', 149612: 'Swelter (2014)', 149830: 'Pride and Prejudice and Zombies (2016)', 149902: 'Garm Wars: The Last Druid (2014)', 150254: \"The Devil's Candy (2015)\", 150401: 'Close Range (2015)', 150548: 'Sherlock: The Abominable Bride (2016)', 150554: 'The Love Bug (1997)', 150596: 'Doctor Who: The Husbands of River Song (2015)', 150604: 'Moonwalkers (2015)', 150696: 'Tomorrow (2015)', 150993: 'Anacleto: Agente secreto (2015)', 151311: 'Wiener-Dog (2016)', 151315: 'Ride Along 2 (2016)', 151317: \"Maggie's Plan (2015)\", 151455: 'Eddie the Eagle (2016)', 151479: 'The Flash 2 - Revenge of the Trickster (1991)', 151501: 'Exposed (2016)', 151557: 'Stonewall (2015)', 151559: 'Frankenstein (2015)', 151653: 'Welcome to Happiness (2015)', 151687: 'Risen (2016)', 151695: 'The Survivalist (2015)', 151739: 'Dirty Grandpa (2016)', 151745: 'Reptilicus (1961)', 151759: 'Requiem for the American Dream (2015)', 151763: 'Death Note Rewrite: Genshisuru Kami (2007)', 151769: 'Three from Prostokvashino (1978)', 151777: 'The Finest Hours (2016)', 151781: 'Ghost in the Shell: Solid State Society (2006)', 152037: 'Grease Live (2016)', 152063: 'Gods of Egypt (2016)', 152065: 'Embrace of the Serpent (2016)', 152071: 'Race (2016)', 152077: '10 Cloverfield Lane (2016)', 152079: 'London Has Fallen (2016)', 152081: 'Zootopia (2016)', 152083: 'Whiskey Tango Foxtrot (2016)', 152085: 'Desierto (2016)', 152091: 'The Brothers Grimsby (2016)', 152105: \"Dad's Army (1971)\", 152173: \"Michael Jackson's Thriller (1983)\", 152270: 'The Wait (2015)', 152284: 'War and Peace (2016)', 152372: 'Southbound (2016)', 152591: 'Ip Man 3 (2015)', 152658: \"Santa's Little Helper (2015)\", 152711: 'Who Killed Chea Vichea? (2010)', 152970: 'Hunt for the Wilderpeople (2016)', 153070: 'Rabbits (2002)', 153236: 'Genius Party (2007)', 153386: 'Long Live Ghosts! (1977)', 153408: 'Tears for Sale (2008)', 154065: \"Dad's Army (2016)\", 154358: 'The Barkley Marathons: The Race That Eats Its Young (2015)', 154975: 'Merci Patron ! (2016)', 155064: 'The Neon Demon (2016)', 155168: 'Fraktus (2012)', 155288: 'Eye in the Sky (2016)', 155358: 'Camino (2016)', 155509: 'Mr. Right (2016)', 155589: 'Noin 7 veljestÃ¤ (1968)', 155659: 'Florence Foster Jenkins (2016)', 155743: 'My Big Fat Greek Wedding 2 (2016)', 155774: 'Neon Bull (2015)', 155812: 'Get a Job (2016)', 155820: 'Keanu (2016)', 155892: 'Me Him Her (2015)', 156025: 'Ice Age: The Great Egg-Scapade (2016)', 156371: 'Everybody Wants Some (2016)', 156387: 'Sing Street (2016)', 156553: 'Zoom (2015)', 156605: 'Paterson', 156607: \"The Huntsman Winter's War (2016)\", 156609: 'Neighbors 2: Sorority Rising (2016)', 156675: 'Project X (1968)', 156706: 'The Trust (2016)', 156726: 'Hush (2016)', 156781: 'Jimmy Carr: Telling Jokes (2009)', 156783: 'Jimmy Carr: Making People Laugh (2010)', 157108: 'Texas - Doc Snyder hÃ¤lt die Welt in Atem (1993)', 157110: '00 Schneider - Jagd auf Nihil Baxter (1994)', 157122: 'The Man Who Knew Infinity (2016)', 157130: 'Despite the Falling Snow (2016)', 157172: 'Wizards of the Lost Kingdom II (1989)', 157200: 'Money Monster (2016)', 157270: 'Barbershop: The Next Cut (2016)', 157296: 'Finding Dory (2016)', 157312: 'The Boss (2016)', 157340: 'The Angry Birds Movie (2016)', 157369: 'Bakuman (2015)', 157407: 'I Am Wrath (2016)', 157432: 'Precious Cargo (2016)', 157699: 'Snowden (2016)', 157775: 'Tenchi MuyÃ´! In Love (1996)', 157865: 'Ratchet & Clank (2016)', 158022: 'Kicking Off (2016)', 158027: 'SORI: Voice from the Heart (2016)', 158035: 'Gintama: The Final Chapter - Be Forever Yorozuya (2013)', 158238: 'The Nice Guys (2016)', 158254: 'Kindergarten Cop 2 (2016)', 158388: 'Buck Rogers in the 25th Century (1979)', 158398: 'World of Glory (1991)', 158402: 'The Crew (2016)', 158528: 'The Shallows (2016)', 158721: 'Gen-X Cops (1999)', 158783: 'The Handmaiden (2016)', 158813: 'Alice Through the Looking Glass (2016)', 158830: 'The BFG (2016)', 158842: 'My Scientology Movie (2016)', 158872: 'Sausage Party (2016)', 158874: 'Karate Bullfighter (1975)', 158882: 'All Yours (2016)', 158956: 'Kill Command (2016)', 158966: 'Captain Fantastic (2016)', 158972: 'Toni Erdmann (2016)', 159061: 'The Wailing (2016)', 159069: 'Comedy of the Strict Regime (1993)', 159077: 'The Meddler (2016)', 159093: 'Now You See Me 2 (2016)', 159161: 'Ali Wong: Baby Cobra (2016)', 159193: 'CafÃ© Society (2016)', 159403: 'Neo Tokyo (1987)', 159415: 'Swiss Army Man (2016)', 159441: 'The Do-Over (2016)', 159510: 'Death Smiles on a Murderer (1973)', 159690: 'Teenage Mutant Ninja Turtles: Out of the Shadows (2016)', 159717: 'The Fundamentals of Caring (2016)', 159755: 'Popstar: Never Stop Never Stopping (2016)', 159779: \"A Midsummer Night's Dream (2016)\", 159811: 'The Bremen Town Musicians (1969)', 159817: 'Planet Earth (2006)', 159849: 'Bo Burnham: Make Happy (2016)', 159858: 'The Conjuring 2 (2016)', 159976: 'PelÃ©: Birth of a Legend (2016)', 160080: 'Ghostbusters (2016)', 160271: 'Central Intelligence (2016)', 160289: 'O.J.: Made in America (2016)', 160341: 'Bloodmoon (1997)', 160400: 'Genius (2016)', 160422: 'The Wooden Horse (1950)', 160438: 'Jason Bourne (2016)', 160440: \"The Maid's Room (2014)\", 160527: 'Sympathy for the Underdog (1971)', 160563: 'The Legend of Tarzan (2016)', 160565: 'The Purge: Election Year (2016)', 160567: 'Mike & Dave Need Wedding Dates (2016)', 160569: 'Ice Age: Collision Course (2016)', 160571: 'Lights Out (2016)', 160573: \"Pete's Dragon (2016)\", 160644: 'Indignation (2016)', 160646: 'Goat (2016)', 160684: 'Marauders (2016)', 160718: 'Piper (2016)', 160730: 'The Adderall Diaries (2015)', 160836: 'Hazard (2005)', 160848: 'The Red Turtle (2016)', 160872: 'Satanic (2016)', 160954: 'Nerve (2016)', 160978: 'Hellevator (2004)', 160980: 'Sully (2016)', 161008: 'The Forbidden Dance (1990)', 161024: 'Jim Jefferies: Freedumb (2016)', 161032: 'The Grandmother (1970)', 161044: 'Webmaster (1998)', 161127: 'The Infiltrator (2016)', 161131: 'War Dogs (2016)', 161290: 'Vigilante Diaries (2016)', 161354: 'Batman: The Killing Joke (2016)', 161580: 'Bad Moms (2016)', 161582: 'Hell or High Water (2016)', 161594: 'Kingsglaive: Final Fantasy XV (2016)', 161634: \"Don't Breathe (2016)\", 161830: 'Body (2015)', 161918: 'Sharknado 4: The 4th Awakens (2016)', 161922: 'The Edge of Seventeen (2016)', 161966: 'Elle (2016)', 162082: 'Train to Busan (2016)', 162344: 'Tom Segura: Mostly Stories (2016)', 162350: 'The Magnificent Seven (2016)', 162414: 'Moonlight', 162478: 'Masterminds (2016)', 162578: 'Kubo and the Two Strings (2016)', 162590: \"Bridget Jones's Baby (2016)\", 162598: 'Deepwater Horizon (2016)', 162600: \"Miss Peregrine's Home for Peculiar Children (2016)\", 162602: 'The Girl on the Train (2016)', 162606: 'The Accountant (2016)', 162828: 'Imperium (2016)', 162968: 'Kizumonogatari Part 1: Tekketsu (2016)', 162982: 'Steins;Gate the Movie: The Burden of DÃ©jÃ\\xa0 vu (2013)', 163056: 'Shin Godzilla (2016)', 163072: 'Winnie Pooh (1969)', 163112: 'Winnie the Pooh Goes Visiting (1971)', 163134: 'Your Name. (2016)', 163386: 'Winnie the Pooh and the Day of Concern (1972)', 163527: 'Comedy Central Roast of David Hasselhoff (2010)', 163639: 'DC Super Hero Girls: Hero of the Year (2016)', 163645: 'Hacksaw Ridge (2016)', 163653: 'David Cross: Making America Great Again (2016)', 163809: 'Over the Garden Wall (2013)', 163925: 'Wings, Legs and Tails (1986)', 163937: 'Blair Witch (2016)', 163981: '31 (2016)', 163985: 'ARQ (2016)', 164179: 'Arrival (2016)', 164200: 'Storks (2016)', 164226: 'Maximum Ride (2016)', 164280: 'Endless Poetry (2016)', 164367: 'The Girl with All the Gifts (2016)', 164375: 'All Roads Lead to Rome (2016)', 164540: 'Amanda Knox (2016)', 164647: 'Dirty 30 (2016)', 164655: 'Gimme Danger (2016)', 164707: 'Go Figure (2005)', 164753: 'Anything for Love (2016)', 164881: 'Night Guards (2016)', 164909: 'La La Land (2016)', 164917: '13th (2016)', 165075: 'London Town (2016)', 165101: 'Inferno (2016)', 165103: 'Keeping Up with the Joneses (2016)', 165139: 'Wild Oats (2016)', 165343: \"The Rocky Horror Picture Show: Let's Do the Time Warp Again (2016)\", 165347: 'Jack Reacher: Never Go Back (2016)', 165483: 'Joe Rogan: Triggered (2016)', 165489: 'Ethel & Ernest (2016)', 165529: 'Flowers for Algernon (2000)', 165549: 'Manchester by the Sea (2016)', 165551: 'Lion (2016)', 165635: 'The Thinning (2016)', 165639: 'While You Were Fighting: A Thor Mockumentary (2016)', 165645: 'Bad Santa 2 (2016)', 165671: 'Ice Guardians (2016)', 165843: 'Risk (2016)', 165947: 'The True Memoirs of an International Assassin (2016)', 165959: 'Alesha Popovich and Tugarin the Dragon (2004)', 165969: 'HyperNormalisation (2016)', 166015: 'The African Doctor (2016)', 166024: 'Whiplash (2013)', 166183: 'Junior and Karlson (1968)', 166203: 'Sapphire Blue (2014)', 166291: 'A Silent Voice (2016)', 166461: 'Moana (2016)', 166492: 'Office Christmas Party (2016)', 166526: 'The Space Between Us (2016)', 166528: 'Rogue One: A Star Wars Story (2016)', 166534: 'Split (2017)', 166558: 'Underworld: Blood Wars (2016)', 166568: 'Miss Sloane (2016)', 166635: 'Passengers (2016)', 166643: 'Hidden Figures (2016)', 166705: 'Fences (2016)', 166946: 'The Founder (2016)', 167018: 'Why Him? (2016)', 167036: 'Sing (2016)', 167064: 'I Am Not Your Negro (2017)', 167296: 'Iron Man (1931)', 167370: \"Assassin's Creed (2016)\", 167380: \"A Dog's Purpose (2017)\", 167538: 'Microwave Massacre (1983)', 167570: 'The OA', 167634: 'Fist Fight (2017)', 167706: 'Shakespeare Behind Bars (2005)', 167732: 'A Street Cat Named Bob (2016)', 167746: 'The Lego Batman Movie (2017)', 167772: 'The Spirit of Christmas (1995)', 167790: 'The Good Boy (2016)', 167854: 'Dana Carvey: Straight White Male, 60 (2016)', 168026: 'Marvel One-Shot: Agent Carter (2013)', 168090: 'Kizumonogatari II: Passionate Blood (2016)', 168144: 'Joe Rogan: Live (2006)', 168174: 'Jim Gaffigan: Cinco (2017)', 168218: 'Kizumonogatari III: Cold Blood (2017)', 168248: 'John Wick: Chapter Two (2017)', 168250: 'Get Out (2017)', 168252: 'Logan (2017)', 168254: 'Kong: Skull Island (2017)', 168266: 'T2: Trainspotting (2017)', 168326: 'The Big Sick (2017)', 168350: '100 Streets (2016)', 168358: 'Saturn 3 (1980)', 168366: 'Beauty and the Beast (2017)', 168418: 'The Boss Baby (2017)', 168456: 'Mercury Plains (2016)', 168492: 'Call Me by Your Name (2017)', 168608: 'Mudbound (2017)', 168612: 'Ghost in the Shell (2017)', 168632: 'Bill Burr: Walk Your Way Out (2017)', 168712: 'Fifty Shades Darker (2017)', 168846: 'Neal Brennan: 3 Mics (2017)', 169034: 'Lemonade (2016)', 169180: 'American Fable (2017)', 169670: 'The Void (2016)', 169904: 'Guyver: Dark Hero (1994)', 169912: 'Denis Leary: No Cure for Cancer (1993)', 169958: \"Buster's Mal Heart (2017)\", 169982: 'Power Rangers (2017)', 169984: 'Alien: Covenant (2017)', 169992: 'Free Fire (2017)', 170289: 'Species III (2004)', 170297: 'Ultimate Avengers 2 (2006)', 170355: 'Mulholland Dr. (1999)', 170357: 'Dave Chappelle: The Age of Spin (2017)', 170399: 'CHiPS (2017)', 170401: 'Table 19 (2017)', 170411: 'Dave Chappelle: Deep in the Heart of Texas (2017)', 170551: 'The Quiet Family (1998)', 170597: 'A Plasticine Crow (1981)', 170697: 'Gifted (2017)', 170705: 'Band of Brothers (2001)', 170777: 'There Once Was a Dog (1982)', 170813: 'Baywatch (2017)', 170817: 'Snatched (2017)', 170827: 'The Mummy (2017)', 170837: 'Life-Size (2000)', 170875: 'The Fate of the Furious (2017)', 170897: 'Sandy Wexler (2017)', 170907: 'Betting on Zero (2016)', 170937: 'Win It All (2017)', 170939: 'Captain Underpants: The First Epic Movie (2017)', 170945: 'It Comes at Night (2017)', 170957: 'Cars 3 (2017)', 170993: \"Mini's First Time (2006)\", 171011: 'Planet Earth II (2016)', 171023: 'The Hero (2017)', 171251: 'Nobody Speak: Hulk Hogan, Gawker and Trials of a Free Press (2017)', 171495: 'Cosmos', 171631: 'Maria Bamford: Old Baby', 171695: 'Robin Williams: Live on Broadway (2002)', 171701: 'The Death of Louis XIV (2016)', 171749: 'Death Note: Desu nÃ´to (2006â\\x80\\x932007)', 171751: 'Munna bhai M.B.B.S. (2003)', 171759: 'The Beguiled (2017)', 171763: 'Baby Driver (2017)', 171765: 'Okja (2017)', 171811: 'Embassy (2013)', 171867: 'Rough Night (2017)', 171891: 'Generation Iron 2', 171917: 'MystÃ¨re Ã\\xa0 la Tour Eiffel (2015)', 172013: 'Stefan Zweig: Farewell to Europe (2016)', 172215: 'Saved by the Bell: Hawaiian Style (1992)', 172229: 'Plain Clothes (1988)', 172233: 'The Prime Gig (2000)', 172253: 'The Night Before (1988)', 172321: \"Late Night with Conan O'Brien: The Best of Triumph the Insult Comic Dog (2004)\", 172461: 'Get Me Roger Stone (2017)', 172497: 'T2 3-D: Battle Across Time (1996)', 172547: 'Despicable Me 3 (2017)', 172577: \"Last Year's Snow Was Falling (1983)\", 172583: 'Investigation Held by Kolobki (1986)', 172585: 'Karlson Returns (1970)', 172587: 'Vacations in Prostokvashino (1980)', 172589: 'Winter in Prostokvashino (1984)', 172591: 'The Godfather Trilogy: 1972-1990 (1992)', 172637: 'Priklyucheniya Kapitana Vrungelya (1979)', 172705: 'Tickling Giants (2017)', 172793: 'Vovka in the Kingdom of Far Far Away (1965)', 172825: 'Adventures of Mowgli: The Kidnapping (1968)', 172875: 'A Detective Story (2003)', 172881: 'Final Flight of the Osiris (2003)', 172887: \"Kid's Story (2003)\", 172909: 'Cheburashka (1971)', 173145: 'War for the Planet of the Apes (2017)', 173197: 'The Square (2017)', 173205: 'The Meyerowitz Stories (2017)', 173209: 'War Machine (2017)', 173235: 'Tokyo Idols (2017)', 173253: 'Vir Das: Abroad Understanding (2017)', 173255: \"Norm Macdonald: Hitler's Dog, Gossip & Trickery (2017)\", 173291: 'Valerian and the City of a Thousand Planets (2017)', 173307: 'The Gracefield Incident (2015)', 173317: 'Shadow World (2016)', 173351: 'Wow! A Talking Fish! (1983)', 173355: 'Travels of an Ant (1983)', 173535: 'The Adventures of Sherlock Holmes and Doctor Watson: The Hunt for the Tiger (1980)', 173619: 'Fugitives (1986)', 173751: 'Tiger Raid (2016)', 173873: \"Gulliver's Travels (1996)\", 173925: 'Seven Sisters (2017)', 173941: 'Atomic Blonde (2017)', 173963: 'Empties (2007)', 174045: 'Goon: Last of the Enforcers (2017)', 174053: 'Black Mirror: White Christmas (2014)', 174055: 'Dunkirk (2017)', 174141: 'Belladonna of Sadness (1973)', 174403: 'The Putin Interviews (2017)', 174479: 'Unedited Footage of a Bear (2014)', 174551: 'Obsession (1965)', 174681: 'Oh, Hello: On Broadway (2017)', 174727: 'Good Time (2017)', 174737: 'Don Camillo in Moscow (1965)', 174815: 'The House (2017)', 174909: 'Logan Lucky (2017)', 175197: 'The Dark Tower (2017)', 175199: 'Annabelle: Creation (2017)', 175293: 'Gena the Crocodile (1969)', 175303: 'It (2017)', 175387: 'On the Trail of the Bremen Town Musicians (1973)', 175397: 'In the blue sea, in the white foam. (1984)', 175401: 'Wolf and Calf (1984)', 175431: 'Bobik Visiting Barbos (1977)', 175435: 'The Magic Ring (1982)', 175475: 'The Emoji Movie (2017)', 175485: 'Death Note (2017)', 175569: 'Wind River (2017)', 175577: 'Rory Scovel Tries Stand-Up for the First Time (2017)', 175585: 'Shot Caller (2017)', 175661: \"The Hitman's Bodyguard (2017)\", 175693: 'Rick and Morty: State of Georgia Vs. Denver Fenton Allen (2016)', 175705: 'Themroc (1973)', 175707: 'A German Life (2016)', 175743: 'Self-criticism of a Bourgeois Dog (2017)', 175781: 'Der Herr Karl (1961)', 176051: 'LEGO DC Super Hero Girls: Brain Drain (2017)', 176101: 'Kingsman: The Golden Circle (2017)', 176329: 'Ari Shaffir: Double Negative (2017)', 176371: 'Blade Runner 2049 (2017)', 176389: 'The Nut Job 2: Nutty by Nature (2017)', 176413: 'Bliss (2012)', 176415: 'Alles Inklusive (2014)', 176419: 'Mother! (2017)', 176423: 'Icarus (2017)', 176579: 'Cage Dive (2017)', 176601: 'Black Mirror', 176621: \"Boniface's Holiday (1965)\", 176751: 'American Made (2017)', 176805: 'Little Boxes (2017)', 176935: 'Geostorm (2017)', 177185: 'Maz Jobrani: Immigrant (2017)', 177285: 'Sword Art Online The Movie: Ordinal Scale (2017)', 177593: 'Three Billboards Outside Ebbing, Missouri (2017)', 177615: 'Lady Bird (2017)', 177763: 'Murder on the Orient Express (2017)', 177765: 'Coco (2017)', 177939: 'The Night Is Short, Walk on Girl (2017)', 178061: 'I, Tonya (2017)', 178111: 'Fireworks, Should We See It from the Side or the Bottom? (2017)', 178129: 'Adventures in Plymptoons! (2011)', 178323: 'Gaga: Five Foot Two (2017)', 178613: \"Dave Chappelle: Killin' Them Softly (2000)\", 178615: 'Front Cover (2016)', 178827: 'Paddington 2 (2017)', 179053: '2048: Nowhere to Run (2017)', 179073: 'Male Hunt (1964)', 179119: 'The Death of Stalin (2017)', 179133: 'Loving Vincent (2017)', 179135: 'Blue Planet II (2017)', 179211: 'Christina P: Mother Inferior (2017)', 179401: 'Jumanji: Welcome to the Jungle (2017)', 179427: 'Dane Cook: Troublemaker (2014)', 179491: 'Mayhem (2017)', 179511: 'Emerald Green (2016)', 179709: 'Wonder Wheel (2017)', 179749: 'Creep 2 (2017)', 179813: 'LBJ (2017)', 179815: 'Roman J. Israel, Esq. (2017)', 179817: 'Darkest Hour (2017)', 179819: 'Star Wars: The Last Jedi (2017)', 179953: 'A Bad Moms Christmas (2017)', 180031: 'The Shape of Water (2017)', 180045: \"Molly's Game (2017)\", 180095: 'Wonder (2017)', 180231: \"Daddy's Home 2 (2017)\", 180263: 'The Shining (1997)', 180265: 'Jim & Andy: The Great Beyond (2017)', 180297: 'The Disaster Artist (2017)', 180497: 'The Post (2017)', 180777: 'Die Frauen von RavensbrÃ¼ck (2005)', 180985: 'The Greatest Showman (2017)', 180987: 'Ferdinand (2017)', 181065: 'Jack Whitehall: At Large (2017)', 181139: 'Lynne Koplitz: Hormonal Beast (2017)', 181315: 'Phantom Thread (2017)', 181413: 'Too Funny to Fail: The Life and Death of The Dana Carvey Show (2017)', 181659: 'Craig Ferguson: Tickle Fight (2017)', 181719: 'Serving in Silence: The Margarethe Cammermeyer Story (1995)', 182293: 'Hare-um Scare-um (1939)', 182297: 'Porky in Wackyland (1938)', 182299: \"Porky's Hare Hunt (1938)\", 182639: 'The Second Renaissance Part II (2003)', 182715: 'Annihilation (2018)', 182727: 'A Christmas Story Live! (2017)', 182731: 'Pixel Perfect (2004)', 182749: 'Judd Apatow: The Return (2017)', 182793: 'The Purple Sea (2009)', 182823: 'Bright (2017)', 183011: 'The Commuter (2018)', 183197: 'Dave Chappelle: Equanimity (2017)', 183199: 'Quest (2017)', 183227: 'Dave Chappelle: The Bird Revelation (2017)', 183295: 'Insidious: The Last Key (2018)', 183301: 'The Tale of the Bunny Picnic (1986)', 183317: 'Patti Rocks (1988)', 183611: 'Game Night (2018)', 183635: 'Maze Runner: The Death Cure (2018)', 183897: 'Isle of Dogs (2018)', 183911: 'The Clapper (2018)', 183959: 'Tom Segura: Disgraceful (2018)', 184015: 'When We First Met (2018)', 184053: 'Battle Planet (2008)', 184245: 'De platte jungle (1978)', 184253: 'The Cloverfield Paradox (2018)', 184257: 'Making a Murderer (2015)', 184349: 'Elsa & Fred (2005)', 184471: 'Tomb Raider (2018)', 184641: 'Fullmetal Alchemist 2018 (2017)', 184721: 'First Reformed (2017)', 184791: 'Fred Armisen: Standup for Drummers (2018)', 184931: 'Death Wish (2018)', 184987: 'A Wrinkle in Time (2018)', 184997: 'Love, Simon (2018)', 185029: 'A Quiet Place (2018)', 185031: 'Alpha (2018)', 185033: 'I Kill Giants (2018)', 185135: 'Sherlock - A Study in Pink (2010)', 185435: 'Game Over, Man! (2018)', 185473: 'Blockers (2018)', 185585: 'Pacific Rim: Uprising (2018)', 186587: 'Rampage (2018)', 187031: 'Jurassic World: Fallen Kingdom (2018)', 187541: 'Incredibles 2 (2018)', 187593: 'Deadpool 2 (2018)', 187595: 'Solo: A Star Wars Story (2018)', 187717: \"Won't You Be My Neighbor? (2018)\", 188189: 'Sorry to Bother You (2018)', 188301: 'Ant-Man and the Wasp (2018)', 188675: 'Dogman (2018)', 188751: 'Mamma Mia: Here We Go Again! (2018)', 188797: 'Tag (2018)', 188833: 'The Man Who Killed Don Quixote (2018)', 189043: 'Boundaries (2018)', 189111: 'Spiral (2018)', 189333: 'Mission: Impossible - Fallout (2018)', 189381: 'SuperFly (2018)', 189547: 'Iron Soldier (2010)', 189713: 'BlacKkKlansman (2018)', 190183: 'The Darkest Minds (2018)', 190207: 'Tilt (2011)', 190209: 'Jeff Ross Roasts the Border (2017)', 190213: 'John From (2015)', 190215: 'Liquid Truth (2017)', 190219: 'Bunny (1998)', 190221: 'Hommage Ã\\xa0 Zgougou (et salut Ã\\xa0 Sabine Mamou) (2002)', 191005: 'Gintama (2017)', 193565: 'Gintama: The Movie (2010)', 193567: 'anohana: The Flower We Saw That Day - The Movie (2013)', 193571: 'Silver Spoon (2014)', 193573: 'Love Live! The School Idol Movie (2015)', 193579: 'Jon Stewart Has Left the Building (2015)', 193581: 'Black Butler: Book of the Atlantic (2017)', 193583: 'No Game No Life: Zero (2017)', 193585: 'Flint (2017)', 193587: 'Bungo Stray Dogs: Dead Apple (2018)', 193609: 'Andrew Dice Clay: Dice Rules (1991)'}\n"
     ]
    }
   ],
   "source": [
    "# Lookup a movie's name with it's Movielens ID as key\n",
    "movieID_to_name = {}\n",
    "with open(moviesPath, newline='', encoding='ISO-8859-1') as csvfile:\n",
    "        movie_reader = csv.reader(csvfile)\n",
    "        next(movie_reader)\n",
    "        for row in movie_reader:\n",
    "            movieID = int(row[0])\n",
    "            movie_name = row[1]\n",
    "            movieID_to_name[movieID] = movie_name\n",
    "# Return both the dataset and lookup dict in tuple\n",
    "print(movieID_to_name)"
   ]
  },
  {
   "cell_type": "code",
   "execution_count": 11,
   "metadata": {
    "ExecuteTime": {
     "end_time": "2022-08-13T19:26:12.299207Z",
     "start_time": "2022-08-13T19:26:12.294658Z"
    }
   },
   "outputs": [],
   "source": [
    "# Utility function of getting a movie name for movieId\n",
    "def getMovieName(movieID):\n",
    "  if int(movieID) in movieID_to_name:\n",
    "    return movieID_to_name[int(movieID)]\n",
    "  else:\n",
    "      return \"\""
   ]
  },
  {
   "cell_type": "code",
   "execution_count": 12,
   "metadata": {
    "ExecuteTime": {
     "end_time": "2022-08-13T19:26:12.309619Z",
     "start_time": "2022-08-13T19:26:12.302599Z"
    },
    "scrolled": true
   },
   "outputs": [
    {
     "name": "stdout",
     "output_type": "stream",
     "text": [
      "Forrest Gump (1994)\n",
      "Shawshank Redemption, The (1994)\n",
      "Pulp Fiction (1994)\n",
      "Silence of the Lambs, The (1991)\n",
      "Matrix, The (1999)\n",
      "Star Wars: Episode IV - A New Hope (1977)\n",
      "Jurassic Park (1993)\n",
      "Braveheart (1995)\n",
      "Terminator 2: Judgment Day (1991)\n",
      "Schindler's List (1993)\n",
      "Fight Club (1999)\n"
     ]
    }
   ],
   "source": [
    "# Getting Top 10 most popular movies\n",
    "recommendations_pop = []\n",
    "position = 0\n",
    "\n",
    "for k, v in rankings.items():\n",
    "    recommendations_pop.append(getMovieName(k))\n",
    "    position += 1\n",
    "    if (position > 10): break\n",
    "\n",
    "for rec in recommendations_pop: \n",
    "    print(rec)        "
   ]
  },
  {
   "cell_type": "markdown",
   "metadata": {},
   "source": [
    "### Normal Predictor as Baseline Model and Framework"
   ]
  },
  {
   "cell_type": "code",
   "execution_count": 13,
   "metadata": {
    "ExecuteTime": {
     "end_time": "2022-08-13T19:26:13.170362Z",
     "start_time": "2022-08-13T19:26:12.313927Z"
    }
   },
   "outputs": [],
   "source": [
    "# brining in surprise library \n",
    "\n",
    "from surprise import Dataset, Reader, accuracy\n",
    "from surprise.model_selection import train_test_split\n",
    "from surprise.model_selection import LeaveOneOut\n",
    "from surprise import KNNBaseline\n",
    "\n",
    "# setting up surprise dataset\n",
    "reader = Reader(line_format='user item rating timestamp', sep=',', skip_lines=1)\n",
    "data = Dataset.load_from_file(ratingsPath, reader=reader)"
   ]
  },
  {
   "cell_type": "code",
   "execution_count": 14,
   "metadata": {
    "ExecuteTime": {
     "end_time": "2022-08-13T19:26:49.623059Z",
     "start_time": "2022-08-13T19:26:13.172903Z"
    }
   },
   "outputs": [
    {
     "name": "stdout",
     "output_type": "stream",
     "text": [
      "Estimating biases using als...\n",
      "Computing the cosine similarity matrix...\n",
      "Done computing similarity matrix.\n"
     ]
    }
   ],
   "source": [
    "# Define evaluation data\n",
    "        \n",
    "#Build a full training set for evaluating overall properties\n",
    "fullTrainSet = data.build_full_trainset()\n",
    "fullAntiTestSet = fullTrainSet.build_anti_testset()\n",
    "        \n",
    "#Build cosine similarity matrix for calculating diversity\n",
    "sim_options = {'name': 'cosine', 'user_based': False}\n",
    "simAlgo = KNNBaseline(sim_options=sim_options)\n",
    "simAlgo.fit(fullTrainSet)\n",
    "        \n",
    "#Build a 75/25 train/test split for measuring accuracy\n",
    "trainSet, testSet = train_test_split(data, test_size=.25, random_state=13)\n",
    "  \n",
    "#Build a \"leave one out\" train/test split for evaluating top-N recommenders\n",
    "#And build an anti-test-set for building predictions\n",
    "LOOCV = LeaveOneOut(n_splits=1, random_state=13)\n",
    "for train, test in LOOCV.split(data):\n",
    "    LOOCVTrain = train\n",
    "    LOOCVTest = test\n",
    "            \n",
    "LOOCVAntiTestSet = LOOCVTrain.build_anti_testset()\n"
   ]
  },
  {
   "cell_type": "code",
   "execution_count": 15,
   "metadata": {
    "ExecuteTime": {
     "end_time": "2022-08-13T19:26:49.627924Z",
     "start_time": "2022-08-13T19:26:49.624765Z"
    }
   },
   "outputs": [
    {
     "name": "stdout",
     "output_type": "stream",
     "text": [
      "610\n",
      "9724\n"
     ]
    }
   ],
   "source": [
    "print(fullTrainSet.n_users)\n",
    "print(fullTrainSet.n_items)"
   ]
  },
  {
   "cell_type": "code",
   "execution_count": 16,
   "metadata": {
    "ExecuteTime": {
     "end_time": "2022-08-13T19:26:49.684550Z",
     "start_time": "2022-08-13T19:26:49.630561Z"
    }
   },
   "outputs": [],
   "source": [
    "# Evaluation algorithm function\n",
    "\n",
    "from RecommenderMetrics import RecommenderMetrics\n",
    "\n",
    "def evaluate(algo, algo_name):\n",
    "    \n",
    "    metrics = {}\n",
    "    \n",
    "    # Getting accuracy measures\n",
    "    algo.fit(trainSet)    \n",
    "    predictions = algo.test(testSet)\n",
    "    \n",
    "    print(\"\\nEvaluating accuracy of model...\")\n",
    "    metrics['RMSE'] = accuracy.rmse(predictions)\n",
    "    metrics['MAE'] = accuracy.mae(predictions)\n",
    "    \n",
    "    \n",
    "    # Evaluate top-10 with Leave One Out testing\n",
    "    print(\"Evaluating top-N with leave-one-out...\")\n",
    "    algo.fit(LOOCVTrain)\n",
    "    leftOutPredictions = algo.test(LOOCVTest)        \n",
    "    \n",
    "    # Build predictions for all ratings not in the training set\n",
    "    allPredictions = algo.test(LOOCVAntiTestSet)\n",
    "    \n",
    "    # Compute top 10 recs for each user\n",
    "    topNPredicted = RecommenderMetrics.GetTopN(allPredictions, n=10)\n",
    "    \n",
    "    print(\"Computing hit-rate and rank metrics...\")\n",
    "    \n",
    "    # See how often we recommended a movie the user actually rated\n",
    "    metrics['HR'] = RecommenderMetrics.HitRate(topNPredicted, leftOutPredictions)   \n",
    "    \n",
    "    # Break down hit rate by rating value\n",
    "    RecommenderMetrics.RatingHitRate(topNPredicted, leftOutPredictions)\n",
    "    \n",
    "    # See how often we recommended a movie the user actually liked\n",
    "    metrics['cHR'] = RecommenderMetrics.CumulativeHitRate(topNPredicted, leftOutPredictions, ratingCutoff = 4.0)\n",
    "    \n",
    "    # Compute ARHR\n",
    "    metrics['ARHR'] = RecommenderMetrics.AverageReciprocalHitRank(topNPredicted, leftOutPredictions)\n",
    "        \n",
    "    #Evaluate properties of recommendations on full training set\n",
    "    print(\"Computing recommendations with full data set...\")\n",
    "    \n",
    "    algo.fit(fullTrainSet)\n",
    "    allPredictions = algo.test(fullAntiTestSet)\n",
    "    topNPredicted = RecommenderMetrics.GetTopN(allPredictions, n=10)\n",
    "    \n",
    "    print(\"Analyzing coverage, diversity, and novelty...\")\n",
    "    # Print user coverage with a minimum predicted rating of 4.0:\n",
    "    metrics[\"Coverage\"] = RecommenderMetrics.UserCoverage(topNPredicted, fullTrainSet.n_users, \n",
    "                                                          ratingThreshold=4.0)\n",
    "    # Measure diversity of recommendations:\n",
    "    metrics[\"Diversity\"] = RecommenderMetrics.Diversity(topNPredicted, simAlgo)\n",
    "            \n",
    "    # Measure novelty (average popularity rank of recommendations):\n",
    "    metrics[\"Novelty\"] = RecommenderMetrics.Novelty(topNPredicted, rankings)\n",
    "        \n",
    "    print(\"Analysis complete.\")\n",
    "    \n",
    "    return metrics"
   ]
  },
  {
   "cell_type": "code",
   "execution_count": 17,
   "metadata": {
    "ExecuteTime": {
     "end_time": "2022-08-13T19:29:05.482908Z",
     "start_time": "2022-08-13T19:26:49.686509Z"
    },
    "scrolled": true
   },
   "outputs": [
    {
     "name": "stdout",
     "output_type": "stream",
     "text": [
      "\n",
      "Evaluating accuracy of model...\n",
      "RMSE: 1.4208\n",
      "MAE:  1.1345\n",
      "Evaluating top-N with leave-one-out...\n",
      "Computing hit-rate and rank metrics...\n",
      "3.0 0.007575757575757576\n",
      "4.0 0.005813953488372093\n",
      "Computing recommendations with full data set...\n",
      "Analyzing coverage, diversity, and novelty...\n",
      "Computing the cosine similarity matrix...\n",
      "Done computing similarity matrix.\n",
      "Analysis complete.\n"
     ]
    },
    {
     "data": {
      "text/plain": [
       "{'RMSE': 1.4207552289358376,\n",
       " 'MAE': 1.134506398708196,\n",
       " 'HR': 0.003278688524590164,\n",
       " 'cHR': 0.00303951367781155,\n",
       " 'ARHR': 0.0005327868852459017,\n",
       " 'Coverage': 1.0,\n",
       " 'Diversity': 0.0511051190083599,\n",
       " 'Novelty': 855.2627868852459}"
      ]
     },
     "execution_count": 17,
     "metadata": {},
     "output_type": "execute_result"
    }
   ],
   "source": [
    "import os\n",
    "import joblib\n",
    "from surprise import NormalPredictor\n",
    "\n",
    "if 'Random.pkl' in os.listdir('Algorithms'):\n",
    "    with open('Algorithms/Random.pkl', 'rb') as f: \n",
    "        Random = joblib.load(f) \n",
    "    \n",
    "else:\n",
    "    Random = NormalPredictor()\n",
    "    \n",
    "    with open('Algorithms/Random.pkl', 'wb') as f:\n",
    "        joblib.dump(Random, f)\n",
    "        \n",
    "evaluate(Random, 'Random_algo')"
   ]
  },
  {
   "cell_type": "code",
   "execution_count": 18,
   "metadata": {
    "ExecuteTime": {
     "end_time": "2022-08-13T19:29:05.492317Z",
     "start_time": "2022-08-13T19:29:05.484706Z"
    }
   },
   "outputs": [],
   "source": [
    "def GetAntiTestSetForUser(testSubject):\n",
    "        trainset = fullTrainSet\n",
    "        fill = trainset.global_mean\n",
    "        anti_testset = []\n",
    "        u = trainset.to_inner_uid(str(testSubject))\n",
    "        user_items = set([j for (j, _) in trainset.ur[u]])\n",
    "        anti_testset += [(trainset.to_raw_uid(u), trainset.to_raw_iid(i), fill) for\n",
    "                                 i in trainset.all_items() if\n",
    "                                 i not in user_items]\n",
    "        return anti_testset\n",
    "\n",
    "\n",
    "\n",
    "def SampleTopNRecs(algo, testSubject=85, k=10):\n",
    "        \n",
    "        algo.fit(fullTrainSet)\n",
    "            \n",
    "        print(\"Computing recommendations...\")\n",
    "        testSet = GetAntiTestSetForUser(testSubject)\n",
    "        \n",
    "        predictions = algo.test(testSet)\n",
    "            \n",
    "        recommendations = []\n",
    "            \n",
    "        print (\"\\nWe recommend:\")\n",
    "        for userID, movieID, actualRating, estimatedRating, _ in predictions:\n",
    "            intMovieID = int(movieID)\n",
    "            recommendations.append((intMovieID, estimatedRating))\n",
    "            \n",
    "        recommendations.sort(key=lambda x: x[1], reverse=True)\n",
    "            \n",
    "        for ratings in recommendations[:10]:\n",
    "            print(getMovieName(ratings[0]), ratings[1])"
   ]
  },
  {
   "cell_type": "code",
   "execution_count": 114,
   "metadata": {
    "ExecuteTime": {
     "end_time": "2022-08-15T16:48:34.182051Z",
     "start_time": "2022-08-15T16:48:34.175251Z"
    }
   },
   "outputs": [
    {
     "data": {
      "text/plain": [
       "{'Braveheart (1995)': 3.5,\n",
       " 'Shawshank Redemption, The (1994)': 5.0,\n",
       " 'Forrest Gump (1994)': 5.0,\n",
       " \"Schindler's List (1993)\": 4.5,\n",
       " 'Terminator 2: Judgment Day (1991)': 3.5,\n",
       " 'Die Hard (1988)': 4.5,\n",
       " 'Raiders of the Lost Ark (Indiana Jones and the Raiders of the Lost Ark) (1981)': 4.5,\n",
       " 'Terminator, The (1984)': 4.0,\n",
       " 'Indiana Jones and the Last Crusade (1989)': 3.0,\n",
       " 'Armageddon (1998)': 2.0,\n",
       " 'Saving Private Ryan (1998)': 4.0,\n",
       " \"Bug's Life, A (1998)\": 4.0,\n",
       " 'Matrix, The (1999)': 5.0,\n",
       " 'Cast Away (2000)': 4.5,\n",
       " 'Lord of the Rings: The Fellowship of the Ring, The (2001)': 5.0,\n",
       " 'Lord of the Rings: The Two Towers, The (2002)': 4.0,\n",
       " 'Lord of the Rings: The Return of the King, The (2003)': 5.0,\n",
       " 'Incredibles, The (2004)': 4.0,\n",
       " 'Toy Story 3 (2010)': 4.0,\n",
       " 'Samsara (2011)': 4.0,\n",
       " 'Hobbit: An Unexpected Journey, The (2012)': 3.5}"
      ]
     },
     "execution_count": 114,
     "metadata": {},
     "output_type": "execute_result"
    }
   ],
   "source": [
    "# Let's find a subject matter that we can relate (meaning that it has similar movie preferences to my own)\n",
    "\n",
    "subject_439 = ratings_df.loc[ratings_df['userId']==439]\n",
    "\n",
    "movie_ids = subject_439['movieId']\n",
    "movie_list = []\n",
    "for movie in movie_ids: \n",
    "    movie_name = getMovieName(movie)\n",
    "    movie_list.append(movie_name)\n",
    "\n",
    "rating_list = []\n",
    "for rating in subject_439.rating: \n",
    "    rating_list.append(rating)\n",
    "\n",
    "movie_rating_subject_439 = {movie_list[i]: rating_list[i] for i in range(len(movie_list))}\n",
    "movie_rating_subject_439"
   ]
  },
  {
   "cell_type": "code",
   "execution_count": 87,
   "metadata": {
    "ExecuteTime": {
     "end_time": "2022-08-15T06:53:50.707317Z",
     "start_time": "2022-08-15T06:53:50.555464Z"
    },
    "scrolled": false
   },
   "outputs": [
    {
     "name": "stdout",
     "output_type": "stream",
     "text": [
      "Computing recommendations...\n",
      "\n",
      "We recommend:\n",
      "She's the One (1996) 5\n",
      "Citizen Kane (1941) 5\n",
      "Full Metal Jacket (1987) 5\n",
      "Duck Soup (1933) 5\n",
      "Game, The (1997) 5\n",
      "Lord of the Rings, The (1978) 5\n",
      "Charlotte's Web (1973) 5\n",
      "Psycho (1998) 5\n",
      "Crocodile Dundee (1986) 5\n",
      "Office Space (1999) 5\n"
     ]
    }
   ],
   "source": [
    "SampleTopNRecs(Random, testSubject=439, k=10)"
   ]
  },
  {
   "cell_type": "markdown",
   "metadata": {},
   "source": [
    "### Content-based Filtering\n",
    "Based on item attributes: \n",
    "- genre\n",
    "- year of release\n",
    "- IMDB: ranking, director, actor, etc. \n",
    "\n",
    "Types: \n",
    "- cosine similarity\n",
    "- time similarity (release year) \n",
    "- KNN \n",
    "- Mise en scene (based on attributes of movie trailer: color, mood, etc)"
   ]
  },
  {
   "cell_type": "code",
   "execution_count": 21,
   "metadata": {
    "ExecuteTime": {
     "end_time": "2022-08-13T19:29:05.710156Z",
     "start_time": "2022-08-13T19:29:05.703028Z"
    }
   },
   "outputs": [
    {
     "data": {
      "text/html": [
       "<div>\n",
       "<style scoped>\n",
       "    .dataframe tbody tr th:only-of-type {\n",
       "        vertical-align: middle;\n",
       "    }\n",
       "\n",
       "    .dataframe tbody tr th {\n",
       "        vertical-align: top;\n",
       "    }\n",
       "\n",
       "    .dataframe thead th {\n",
       "        text-align: right;\n",
       "    }\n",
       "</style>\n",
       "<table border=\"1\" class=\"dataframe\">\n",
       "  <thead>\n",
       "    <tr style=\"text-align: right;\">\n",
       "      <th></th>\n",
       "      <th>movieId</th>\n",
       "      <th>title</th>\n",
       "      <th>genres</th>\n",
       "    </tr>\n",
       "  </thead>\n",
       "  <tbody>\n",
       "    <tr>\n",
       "      <th>0</th>\n",
       "      <td>1</td>\n",
       "      <td>Toy Story (1995)</td>\n",
       "      <td>Adventure|Animation|Children|Comedy|Fantasy</td>\n",
       "    </tr>\n",
       "    <tr>\n",
       "      <th>1</th>\n",
       "      <td>2</td>\n",
       "      <td>Jumanji (1995)</td>\n",
       "      <td>Adventure|Children|Fantasy</td>\n",
       "    </tr>\n",
       "    <tr>\n",
       "      <th>2</th>\n",
       "      <td>3</td>\n",
       "      <td>Grumpier Old Men (1995)</td>\n",
       "      <td>Comedy|Romance</td>\n",
       "    </tr>\n",
       "    <tr>\n",
       "      <th>3</th>\n",
       "      <td>4</td>\n",
       "      <td>Waiting to Exhale (1995)</td>\n",
       "      <td>Comedy|Drama|Romance</td>\n",
       "    </tr>\n",
       "    <tr>\n",
       "      <th>4</th>\n",
       "      <td>5</td>\n",
       "      <td>Father of the Bride Part II (1995)</td>\n",
       "      <td>Comedy</td>\n",
       "    </tr>\n",
       "  </tbody>\n",
       "</table>\n",
       "</div>"
      ],
      "text/plain": [
       "   movieId                               title  \\\n",
       "0        1                    Toy Story (1995)   \n",
       "1        2                      Jumanji (1995)   \n",
       "2        3             Grumpier Old Men (1995)   \n",
       "3        4            Waiting to Exhale (1995)   \n",
       "4        5  Father of the Bride Part II (1995)   \n",
       "\n",
       "                                        genres  \n",
       "0  Adventure|Animation|Children|Comedy|Fantasy  \n",
       "1                   Adventure|Children|Fantasy  \n",
       "2                               Comedy|Romance  \n",
       "3                         Comedy|Drama|Romance  \n",
       "4                                       Comedy  "
      ]
     },
     "execution_count": 21,
     "metadata": {},
     "output_type": "execute_result"
    }
   ],
   "source": [
    "movies.head()"
   ]
  },
  {
   "cell_type": "code",
   "execution_count": 22,
   "metadata": {
    "ExecuteTime": {
     "end_time": "2022-08-13T19:29:05.724521Z",
     "start_time": "2022-08-13T19:29:05.711812Z"
    },
    "scrolled": true
   },
   "outputs": [
    {
     "data": {
      "text/plain": [
       "[{'Adventure': 1, 'Animation': 1, 'Children': 1, 'Comedy': 1, 'Fantasy': 1},\n",
       " {'Adventure': 1, 'Children': 1, 'Fantasy': 1},\n",
       " {'Comedy': 1, 'Romance': 1},\n",
       " {'Comedy': 1, 'Drama': 1, 'Romance': 1},\n",
       " {'Comedy': 1}]"
      ]
     },
     "execution_count": 22,
     "metadata": {},
     "output_type": "execute_result"
    }
   ],
   "source": [
    "genre_rows = movies['genres'].map(lambda x: {c:1 for c in x.split('|')}).tolist()\n",
    "genre_rows[:5]"
   ]
  },
  {
   "cell_type": "code",
   "execution_count": 23,
   "metadata": {
    "ExecuteTime": {
     "end_time": "2022-08-13T19:29:05.802151Z",
     "start_time": "2022-08-13T19:29:05.736943Z"
    },
    "scrolled": true
   },
   "outputs": [
    {
     "data": {
      "text/html": [
       "<div>\n",
       "<style scoped>\n",
       "    .dataframe tbody tr th:only-of-type {\n",
       "        vertical-align: middle;\n",
       "    }\n",
       "\n",
       "    .dataframe tbody tr th {\n",
       "        vertical-align: top;\n",
       "    }\n",
       "\n",
       "    .dataframe thead th {\n",
       "        text-align: right;\n",
       "    }\n",
       "</style>\n",
       "<table border=\"1\" class=\"dataframe\">\n",
       "  <thead>\n",
       "    <tr style=\"text-align: right;\">\n",
       "      <th></th>\n",
       "      <th>movieId</th>\n",
       "      <th>title</th>\n",
       "      <th>genres</th>\n",
       "      <th>Adventure</th>\n",
       "      <th>Animation</th>\n",
       "      <th>Children</th>\n",
       "      <th>Comedy</th>\n",
       "      <th>Fantasy</th>\n",
       "      <th>Romance</th>\n",
       "      <th>Drama</th>\n",
       "      <th>...</th>\n",
       "      <th>Horror</th>\n",
       "      <th>Mystery</th>\n",
       "      <th>Sci-Fi</th>\n",
       "      <th>War</th>\n",
       "      <th>Musical</th>\n",
       "      <th>Documentary</th>\n",
       "      <th>IMAX</th>\n",
       "      <th>Western</th>\n",
       "      <th>Film-Noir</th>\n",
       "      <th>(no genres listed)</th>\n",
       "    </tr>\n",
       "  </thead>\n",
       "  <tbody>\n",
       "    <tr>\n",
       "      <th>0</th>\n",
       "      <td>1</td>\n",
       "      <td>Toy Story (1995)</td>\n",
       "      <td>Adventure|Animation|Children|Comedy|Fantasy</td>\n",
       "      <td>1</td>\n",
       "      <td>1</td>\n",
       "      <td>1</td>\n",
       "      <td>1</td>\n",
       "      <td>1</td>\n",
       "      <td>0</td>\n",
       "      <td>0</td>\n",
       "      <td>...</td>\n",
       "      <td>0</td>\n",
       "      <td>0</td>\n",
       "      <td>0</td>\n",
       "      <td>0</td>\n",
       "      <td>0</td>\n",
       "      <td>0</td>\n",
       "      <td>0</td>\n",
       "      <td>0</td>\n",
       "      <td>0</td>\n",
       "      <td>0</td>\n",
       "    </tr>\n",
       "    <tr>\n",
       "      <th>1</th>\n",
       "      <td>2</td>\n",
       "      <td>Jumanji (1995)</td>\n",
       "      <td>Adventure|Children|Fantasy</td>\n",
       "      <td>1</td>\n",
       "      <td>0</td>\n",
       "      <td>1</td>\n",
       "      <td>0</td>\n",
       "      <td>1</td>\n",
       "      <td>0</td>\n",
       "      <td>0</td>\n",
       "      <td>...</td>\n",
       "      <td>0</td>\n",
       "      <td>0</td>\n",
       "      <td>0</td>\n",
       "      <td>0</td>\n",
       "      <td>0</td>\n",
       "      <td>0</td>\n",
       "      <td>0</td>\n",
       "      <td>0</td>\n",
       "      <td>0</td>\n",
       "      <td>0</td>\n",
       "    </tr>\n",
       "    <tr>\n",
       "      <th>2</th>\n",
       "      <td>3</td>\n",
       "      <td>Grumpier Old Men (1995)</td>\n",
       "      <td>Comedy|Romance</td>\n",
       "      <td>0</td>\n",
       "      <td>0</td>\n",
       "      <td>0</td>\n",
       "      <td>1</td>\n",
       "      <td>0</td>\n",
       "      <td>1</td>\n",
       "      <td>0</td>\n",
       "      <td>...</td>\n",
       "      <td>0</td>\n",
       "      <td>0</td>\n",
       "      <td>0</td>\n",
       "      <td>0</td>\n",
       "      <td>0</td>\n",
       "      <td>0</td>\n",
       "      <td>0</td>\n",
       "      <td>0</td>\n",
       "      <td>0</td>\n",
       "      <td>0</td>\n",
       "    </tr>\n",
       "    <tr>\n",
       "      <th>3</th>\n",
       "      <td>4</td>\n",
       "      <td>Waiting to Exhale (1995)</td>\n",
       "      <td>Comedy|Drama|Romance</td>\n",
       "      <td>0</td>\n",
       "      <td>0</td>\n",
       "      <td>0</td>\n",
       "      <td>1</td>\n",
       "      <td>0</td>\n",
       "      <td>1</td>\n",
       "      <td>1</td>\n",
       "      <td>...</td>\n",
       "      <td>0</td>\n",
       "      <td>0</td>\n",
       "      <td>0</td>\n",
       "      <td>0</td>\n",
       "      <td>0</td>\n",
       "      <td>0</td>\n",
       "      <td>0</td>\n",
       "      <td>0</td>\n",
       "      <td>0</td>\n",
       "      <td>0</td>\n",
       "    </tr>\n",
       "    <tr>\n",
       "      <th>4</th>\n",
       "      <td>5</td>\n",
       "      <td>Father of the Bride Part II (1995)</td>\n",
       "      <td>Comedy</td>\n",
       "      <td>0</td>\n",
       "      <td>0</td>\n",
       "      <td>0</td>\n",
       "      <td>1</td>\n",
       "      <td>0</td>\n",
       "      <td>0</td>\n",
       "      <td>0</td>\n",
       "      <td>...</td>\n",
       "      <td>0</td>\n",
       "      <td>0</td>\n",
       "      <td>0</td>\n",
       "      <td>0</td>\n",
       "      <td>0</td>\n",
       "      <td>0</td>\n",
       "      <td>0</td>\n",
       "      <td>0</td>\n",
       "      <td>0</td>\n",
       "      <td>0</td>\n",
       "    </tr>\n",
       "    <tr>\n",
       "      <th>...</th>\n",
       "      <td>...</td>\n",
       "      <td>...</td>\n",
       "      <td>...</td>\n",
       "      <td>...</td>\n",
       "      <td>...</td>\n",
       "      <td>...</td>\n",
       "      <td>...</td>\n",
       "      <td>...</td>\n",
       "      <td>...</td>\n",
       "      <td>...</td>\n",
       "      <td>...</td>\n",
       "      <td>...</td>\n",
       "      <td>...</td>\n",
       "      <td>...</td>\n",
       "      <td>...</td>\n",
       "      <td>...</td>\n",
       "      <td>...</td>\n",
       "      <td>...</td>\n",
       "      <td>...</td>\n",
       "      <td>...</td>\n",
       "      <td>...</td>\n",
       "    </tr>\n",
       "    <tr>\n",
       "      <th>9737</th>\n",
       "      <td>193581</td>\n",
       "      <td>Black Butler: Book of the Atlantic (2017)</td>\n",
       "      <td>Action|Animation|Comedy|Fantasy</td>\n",
       "      <td>0</td>\n",
       "      <td>1</td>\n",
       "      <td>0</td>\n",
       "      <td>1</td>\n",
       "      <td>1</td>\n",
       "      <td>0</td>\n",
       "      <td>0</td>\n",
       "      <td>...</td>\n",
       "      <td>0</td>\n",
       "      <td>0</td>\n",
       "      <td>0</td>\n",
       "      <td>0</td>\n",
       "      <td>0</td>\n",
       "      <td>0</td>\n",
       "      <td>0</td>\n",
       "      <td>0</td>\n",
       "      <td>0</td>\n",
       "      <td>0</td>\n",
       "    </tr>\n",
       "    <tr>\n",
       "      <th>9738</th>\n",
       "      <td>193583</td>\n",
       "      <td>No Game No Life: Zero (2017)</td>\n",
       "      <td>Animation|Comedy|Fantasy</td>\n",
       "      <td>0</td>\n",
       "      <td>1</td>\n",
       "      <td>0</td>\n",
       "      <td>1</td>\n",
       "      <td>1</td>\n",
       "      <td>0</td>\n",
       "      <td>0</td>\n",
       "      <td>...</td>\n",
       "      <td>0</td>\n",
       "      <td>0</td>\n",
       "      <td>0</td>\n",
       "      <td>0</td>\n",
       "      <td>0</td>\n",
       "      <td>0</td>\n",
       "      <td>0</td>\n",
       "      <td>0</td>\n",
       "      <td>0</td>\n",
       "      <td>0</td>\n",
       "    </tr>\n",
       "    <tr>\n",
       "      <th>9739</th>\n",
       "      <td>193585</td>\n",
       "      <td>Flint (2017)</td>\n",
       "      <td>Drama</td>\n",
       "      <td>0</td>\n",
       "      <td>0</td>\n",
       "      <td>0</td>\n",
       "      <td>0</td>\n",
       "      <td>0</td>\n",
       "      <td>0</td>\n",
       "      <td>1</td>\n",
       "      <td>...</td>\n",
       "      <td>0</td>\n",
       "      <td>0</td>\n",
       "      <td>0</td>\n",
       "      <td>0</td>\n",
       "      <td>0</td>\n",
       "      <td>0</td>\n",
       "      <td>0</td>\n",
       "      <td>0</td>\n",
       "      <td>0</td>\n",
       "      <td>0</td>\n",
       "    </tr>\n",
       "    <tr>\n",
       "      <th>9740</th>\n",
       "      <td>193587</td>\n",
       "      <td>Bungo Stray Dogs: Dead Apple (2018)</td>\n",
       "      <td>Action|Animation</td>\n",
       "      <td>0</td>\n",
       "      <td>1</td>\n",
       "      <td>0</td>\n",
       "      <td>0</td>\n",
       "      <td>0</td>\n",
       "      <td>0</td>\n",
       "      <td>0</td>\n",
       "      <td>...</td>\n",
       "      <td>0</td>\n",
       "      <td>0</td>\n",
       "      <td>0</td>\n",
       "      <td>0</td>\n",
       "      <td>0</td>\n",
       "      <td>0</td>\n",
       "      <td>0</td>\n",
       "      <td>0</td>\n",
       "      <td>0</td>\n",
       "      <td>0</td>\n",
       "    </tr>\n",
       "    <tr>\n",
       "      <th>9741</th>\n",
       "      <td>193609</td>\n",
       "      <td>Andrew Dice Clay: Dice Rules (1991)</td>\n",
       "      <td>Comedy</td>\n",
       "      <td>0</td>\n",
       "      <td>0</td>\n",
       "      <td>0</td>\n",
       "      <td>1</td>\n",
       "      <td>0</td>\n",
       "      <td>0</td>\n",
       "      <td>0</td>\n",
       "      <td>...</td>\n",
       "      <td>0</td>\n",
       "      <td>0</td>\n",
       "      <td>0</td>\n",
       "      <td>0</td>\n",
       "      <td>0</td>\n",
       "      <td>0</td>\n",
       "      <td>0</td>\n",
       "      <td>0</td>\n",
       "      <td>0</td>\n",
       "      <td>0</td>\n",
       "    </tr>\n",
       "  </tbody>\n",
       "</table>\n",
       "<p>9742 rows × 23 columns</p>\n",
       "</div>"
      ],
      "text/plain": [
       "      movieId                                      title  \\\n",
       "0           1                           Toy Story (1995)   \n",
       "1           2                             Jumanji (1995)   \n",
       "2           3                    Grumpier Old Men (1995)   \n",
       "3           4                   Waiting to Exhale (1995)   \n",
       "4           5         Father of the Bride Part II (1995)   \n",
       "...       ...                                        ...   \n",
       "9737   193581  Black Butler: Book of the Atlantic (2017)   \n",
       "9738   193583               No Game No Life: Zero (2017)   \n",
       "9739   193585                               Flint (2017)   \n",
       "9740   193587        Bungo Stray Dogs: Dead Apple (2018)   \n",
       "9741   193609        Andrew Dice Clay: Dice Rules (1991)   \n",
       "\n",
       "                                           genres  Adventure  Animation  \\\n",
       "0     Adventure|Animation|Children|Comedy|Fantasy          1          1   \n",
       "1                      Adventure|Children|Fantasy          1          0   \n",
       "2                                  Comedy|Romance          0          0   \n",
       "3                            Comedy|Drama|Romance          0          0   \n",
       "4                                          Comedy          0          0   \n",
       "...                                           ...        ...        ...   \n",
       "9737              Action|Animation|Comedy|Fantasy          0          1   \n",
       "9738                     Animation|Comedy|Fantasy          0          1   \n",
       "9739                                        Drama          0          0   \n",
       "9740                             Action|Animation          0          1   \n",
       "9741                                       Comedy          0          0   \n",
       "\n",
       "      Children  Comedy  Fantasy  Romance  Drama  ...  Horror  Mystery  Sci-Fi  \\\n",
       "0            1       1        1        0      0  ...       0        0       0   \n",
       "1            1       0        1        0      0  ...       0        0       0   \n",
       "2            0       1        0        1      0  ...       0        0       0   \n",
       "3            0       1        0        1      1  ...       0        0       0   \n",
       "4            0       1        0        0      0  ...       0        0       0   \n",
       "...        ...     ...      ...      ...    ...  ...     ...      ...     ...   \n",
       "9737         0       1        1        0      0  ...       0        0       0   \n",
       "9738         0       1        1        0      0  ...       0        0       0   \n",
       "9739         0       0        0        0      1  ...       0        0       0   \n",
       "9740         0       0        0        0      0  ...       0        0       0   \n",
       "9741         0       1        0        0      0  ...       0        0       0   \n",
       "\n",
       "      War  Musical  Documentary  IMAX  Western  Film-Noir  (no genres listed)  \n",
       "0       0        0            0     0        0          0                   0  \n",
       "1       0        0            0     0        0          0                   0  \n",
       "2       0        0            0     0        0          0                   0  \n",
       "3       0        0            0     0        0          0                   0  \n",
       "4       0        0            0     0        0          0                   0  \n",
       "...   ...      ...          ...   ...      ...        ...                 ...  \n",
       "9737    0        0            0     0        0          0                   0  \n",
       "9738    0        0            0     0        0          0                   0  \n",
       "9739    0        0            0     0        0          0                   0  \n",
       "9740    0        0            0     0        0          0                   0  \n",
       "9741    0        0            0     0        0          0                   0  \n",
       "\n",
       "[9742 rows x 23 columns]"
      ]
     },
     "execution_count": 23,
     "metadata": {},
     "output_type": "execute_result"
    }
   ],
   "source": [
    "genre_df = pd.DataFrame(genre_rows).fillna(0).astype(int)\n",
    "movies_processed = pd.concat(\n",
    "    [movies.reset_index(drop=True), \n",
    "     genre_df.reset_index(drop=True)], \n",
    "    axis=1\n",
    ")\n",
    "movies_processed"
   ]
  },
  {
   "cell_type": "code",
   "execution_count": 24,
   "metadata": {
    "ExecuteTime": {
     "end_time": "2022-08-13T19:29:05.812956Z",
     "start_time": "2022-08-13T19:29:05.808607Z"
    },
    "scrolled": true
   },
   "outputs": [
    {
     "data": {
      "text/plain": [
       "Index(['movieId', 'title', 'genres', 'Adventure', 'Animation', 'Children',\n",
       "       'Comedy', 'Fantasy', 'Romance', 'Drama', 'Action', 'Crime', 'Thriller',\n",
       "       'Horror', 'Mystery', 'Sci-Fi', 'War', 'Musical', 'Documentary', 'IMAX',\n",
       "       'Western', 'Film-Noir', '(no genres listed)'],\n",
       "      dtype='object')"
      ]
     },
     "execution_count": 24,
     "metadata": {},
     "output_type": "execute_result"
    }
   ],
   "source": [
    "movies_processed.columns"
   ]
  },
  {
   "cell_type": "code",
   "execution_count": 25,
   "metadata": {
    "ExecuteTime": {
     "end_time": "2022-08-13T19:29:05.843688Z",
     "start_time": "2022-08-13T19:29:05.814993Z"
    }
   },
   "outputs": [
    {
     "data": {
      "text/html": [
       "<div>\n",
       "<style scoped>\n",
       "    .dataframe tbody tr th:only-of-type {\n",
       "        vertical-align: middle;\n",
       "    }\n",
       "\n",
       "    .dataframe tbody tr th {\n",
       "        vertical-align: top;\n",
       "    }\n",
       "\n",
       "    .dataframe thead th {\n",
       "        text-align: right;\n",
       "    }\n",
       "</style>\n",
       "<table border=\"1\" class=\"dataframe\">\n",
       "  <thead>\n",
       "    <tr style=\"text-align: right;\">\n",
       "      <th></th>\n",
       "      <th>movieId</th>\n",
       "      <th>title</th>\n",
       "      <th>genres</th>\n",
       "      <th>Adventure</th>\n",
       "      <th>Animation</th>\n",
       "      <th>Children</th>\n",
       "      <th>Comedy</th>\n",
       "      <th>Fantasy</th>\n",
       "      <th>Romance</th>\n",
       "      <th>Drama</th>\n",
       "      <th>...</th>\n",
       "      <th>Horror</th>\n",
       "      <th>Mystery</th>\n",
       "      <th>Sci-Fi</th>\n",
       "      <th>War</th>\n",
       "      <th>Musical</th>\n",
       "      <th>Documentary</th>\n",
       "      <th>IMAX</th>\n",
       "      <th>Western</th>\n",
       "      <th>Film-Noir</th>\n",
       "      <th>(no genres listed)</th>\n",
       "    </tr>\n",
       "  </thead>\n",
       "  <tbody>\n",
       "    <tr>\n",
       "      <th>8517</th>\n",
       "      <td>114335</td>\n",
       "      <td>La cravate (1957)</td>\n",
       "      <td>(no genres listed)</td>\n",
       "      <td>0</td>\n",
       "      <td>0</td>\n",
       "      <td>0</td>\n",
       "      <td>0</td>\n",
       "      <td>0</td>\n",
       "      <td>0</td>\n",
       "      <td>0</td>\n",
       "      <td>...</td>\n",
       "      <td>0</td>\n",
       "      <td>0</td>\n",
       "      <td>0</td>\n",
       "      <td>0</td>\n",
       "      <td>0</td>\n",
       "      <td>0</td>\n",
       "      <td>0</td>\n",
       "      <td>0</td>\n",
       "      <td>0</td>\n",
       "      <td>1</td>\n",
       "    </tr>\n",
       "    <tr>\n",
       "      <th>8684</th>\n",
       "      <td>122888</td>\n",
       "      <td>Ben-hur (2016)</td>\n",
       "      <td>(no genres listed)</td>\n",
       "      <td>0</td>\n",
       "      <td>0</td>\n",
       "      <td>0</td>\n",
       "      <td>0</td>\n",
       "      <td>0</td>\n",
       "      <td>0</td>\n",
       "      <td>0</td>\n",
       "      <td>...</td>\n",
       "      <td>0</td>\n",
       "      <td>0</td>\n",
       "      <td>0</td>\n",
       "      <td>0</td>\n",
       "      <td>0</td>\n",
       "      <td>0</td>\n",
       "      <td>0</td>\n",
       "      <td>0</td>\n",
       "      <td>0</td>\n",
       "      <td>1</td>\n",
       "    </tr>\n",
       "    <tr>\n",
       "      <th>8687</th>\n",
       "      <td>122896</td>\n",
       "      <td>Pirates of the Caribbean: Dead Men Tell No Tal...</td>\n",
       "      <td>(no genres listed)</td>\n",
       "      <td>0</td>\n",
       "      <td>0</td>\n",
       "      <td>0</td>\n",
       "      <td>0</td>\n",
       "      <td>0</td>\n",
       "      <td>0</td>\n",
       "      <td>0</td>\n",
       "      <td>...</td>\n",
       "      <td>0</td>\n",
       "      <td>0</td>\n",
       "      <td>0</td>\n",
       "      <td>0</td>\n",
       "      <td>0</td>\n",
       "      <td>0</td>\n",
       "      <td>0</td>\n",
       "      <td>0</td>\n",
       "      <td>0</td>\n",
       "      <td>1</td>\n",
       "    </tr>\n",
       "    <tr>\n",
       "      <th>8782</th>\n",
       "      <td>129250</td>\n",
       "      <td>Superfast! (2015)</td>\n",
       "      <td>(no genres listed)</td>\n",
       "      <td>0</td>\n",
       "      <td>0</td>\n",
       "      <td>0</td>\n",
       "      <td>0</td>\n",
       "      <td>0</td>\n",
       "      <td>0</td>\n",
       "      <td>0</td>\n",
       "      <td>...</td>\n",
       "      <td>0</td>\n",
       "      <td>0</td>\n",
       "      <td>0</td>\n",
       "      <td>0</td>\n",
       "      <td>0</td>\n",
       "      <td>0</td>\n",
       "      <td>0</td>\n",
       "      <td>0</td>\n",
       "      <td>0</td>\n",
       "      <td>1</td>\n",
       "    </tr>\n",
       "    <tr>\n",
       "      <th>8836</th>\n",
       "      <td>132084</td>\n",
       "      <td>Let It Be Me (1995)</td>\n",
       "      <td>(no genres listed)</td>\n",
       "      <td>0</td>\n",
       "      <td>0</td>\n",
       "      <td>0</td>\n",
       "      <td>0</td>\n",
       "      <td>0</td>\n",
       "      <td>0</td>\n",
       "      <td>0</td>\n",
       "      <td>...</td>\n",
       "      <td>0</td>\n",
       "      <td>0</td>\n",
       "      <td>0</td>\n",
       "      <td>0</td>\n",
       "      <td>0</td>\n",
       "      <td>0</td>\n",
       "      <td>0</td>\n",
       "      <td>0</td>\n",
       "      <td>0</td>\n",
       "      <td>1</td>\n",
       "    </tr>\n",
       "    <tr>\n",
       "      <th>8902</th>\n",
       "      <td>134861</td>\n",
       "      <td>Trevor Noah: African American (2013)</td>\n",
       "      <td>(no genres listed)</td>\n",
       "      <td>0</td>\n",
       "      <td>0</td>\n",
       "      <td>0</td>\n",
       "      <td>0</td>\n",
       "      <td>0</td>\n",
       "      <td>0</td>\n",
       "      <td>0</td>\n",
       "      <td>...</td>\n",
       "      <td>0</td>\n",
       "      <td>0</td>\n",
       "      <td>0</td>\n",
       "      <td>0</td>\n",
       "      <td>0</td>\n",
       "      <td>0</td>\n",
       "      <td>0</td>\n",
       "      <td>0</td>\n",
       "      <td>0</td>\n",
       "      <td>1</td>\n",
       "    </tr>\n",
       "    <tr>\n",
       "      <th>9033</th>\n",
       "      <td>141131</td>\n",
       "      <td>Guardians (2016)</td>\n",
       "      <td>(no genres listed)</td>\n",
       "      <td>0</td>\n",
       "      <td>0</td>\n",
       "      <td>0</td>\n",
       "      <td>0</td>\n",
       "      <td>0</td>\n",
       "      <td>0</td>\n",
       "      <td>0</td>\n",
       "      <td>...</td>\n",
       "      <td>0</td>\n",
       "      <td>0</td>\n",
       "      <td>0</td>\n",
       "      <td>0</td>\n",
       "      <td>0</td>\n",
       "      <td>0</td>\n",
       "      <td>0</td>\n",
       "      <td>0</td>\n",
       "      <td>0</td>\n",
       "      <td>1</td>\n",
       "    </tr>\n",
       "    <tr>\n",
       "      <th>9053</th>\n",
       "      <td>141866</td>\n",
       "      <td>Green Room (2015)</td>\n",
       "      <td>(no genres listed)</td>\n",
       "      <td>0</td>\n",
       "      <td>0</td>\n",
       "      <td>0</td>\n",
       "      <td>0</td>\n",
       "      <td>0</td>\n",
       "      <td>0</td>\n",
       "      <td>0</td>\n",
       "      <td>...</td>\n",
       "      <td>0</td>\n",
       "      <td>0</td>\n",
       "      <td>0</td>\n",
       "      <td>0</td>\n",
       "      <td>0</td>\n",
       "      <td>0</td>\n",
       "      <td>0</td>\n",
       "      <td>0</td>\n",
       "      <td>0</td>\n",
       "      <td>1</td>\n",
       "    </tr>\n",
       "    <tr>\n",
       "      <th>9070</th>\n",
       "      <td>142456</td>\n",
       "      <td>The Brand New Testament (2015)</td>\n",
       "      <td>(no genres listed)</td>\n",
       "      <td>0</td>\n",
       "      <td>0</td>\n",
       "      <td>0</td>\n",
       "      <td>0</td>\n",
       "      <td>0</td>\n",
       "      <td>0</td>\n",
       "      <td>0</td>\n",
       "      <td>...</td>\n",
       "      <td>0</td>\n",
       "      <td>0</td>\n",
       "      <td>0</td>\n",
       "      <td>0</td>\n",
       "      <td>0</td>\n",
       "      <td>0</td>\n",
       "      <td>0</td>\n",
       "      <td>0</td>\n",
       "      <td>0</td>\n",
       "      <td>1</td>\n",
       "    </tr>\n",
       "    <tr>\n",
       "      <th>9091</th>\n",
       "      <td>143410</td>\n",
       "      <td>Hyena Road</td>\n",
       "      <td>(no genres listed)</td>\n",
       "      <td>0</td>\n",
       "      <td>0</td>\n",
       "      <td>0</td>\n",
       "      <td>0</td>\n",
       "      <td>0</td>\n",
       "      <td>0</td>\n",
       "      <td>0</td>\n",
       "      <td>...</td>\n",
       "      <td>0</td>\n",
       "      <td>0</td>\n",
       "      <td>0</td>\n",
       "      <td>0</td>\n",
       "      <td>0</td>\n",
       "      <td>0</td>\n",
       "      <td>0</td>\n",
       "      <td>0</td>\n",
       "      <td>0</td>\n",
       "      <td>1</td>\n",
       "    </tr>\n",
       "    <tr>\n",
       "      <th>9138</th>\n",
       "      <td>147250</td>\n",
       "      <td>The Adventures of Sherlock Holmes and Doctor W...</td>\n",
       "      <td>(no genres listed)</td>\n",
       "      <td>0</td>\n",
       "      <td>0</td>\n",
       "      <td>0</td>\n",
       "      <td>0</td>\n",
       "      <td>0</td>\n",
       "      <td>0</td>\n",
       "      <td>0</td>\n",
       "      <td>...</td>\n",
       "      <td>0</td>\n",
       "      <td>0</td>\n",
       "      <td>0</td>\n",
       "      <td>0</td>\n",
       "      <td>0</td>\n",
       "      <td>0</td>\n",
       "      <td>0</td>\n",
       "      <td>0</td>\n",
       "      <td>0</td>\n",
       "      <td>1</td>\n",
       "    </tr>\n",
       "    <tr>\n",
       "      <th>9178</th>\n",
       "      <td>149330</td>\n",
       "      <td>A Cosmic Christmas (1977)</td>\n",
       "      <td>(no genres listed)</td>\n",
       "      <td>0</td>\n",
       "      <td>0</td>\n",
       "      <td>0</td>\n",
       "      <td>0</td>\n",
       "      <td>0</td>\n",
       "      <td>0</td>\n",
       "      <td>0</td>\n",
       "      <td>...</td>\n",
       "      <td>0</td>\n",
       "      <td>0</td>\n",
       "      <td>0</td>\n",
       "      <td>0</td>\n",
       "      <td>0</td>\n",
       "      <td>0</td>\n",
       "      <td>0</td>\n",
       "      <td>0</td>\n",
       "      <td>0</td>\n",
       "      <td>1</td>\n",
       "    </tr>\n",
       "    <tr>\n",
       "      <th>9217</th>\n",
       "      <td>152037</td>\n",
       "      <td>Grease Live (2016)</td>\n",
       "      <td>(no genres listed)</td>\n",
       "      <td>0</td>\n",
       "      <td>0</td>\n",
       "      <td>0</td>\n",
       "      <td>0</td>\n",
       "      <td>0</td>\n",
       "      <td>0</td>\n",
       "      <td>0</td>\n",
       "      <td>...</td>\n",
       "      <td>0</td>\n",
       "      <td>0</td>\n",
       "      <td>0</td>\n",
       "      <td>0</td>\n",
       "      <td>0</td>\n",
       "      <td>0</td>\n",
       "      <td>0</td>\n",
       "      <td>0</td>\n",
       "      <td>0</td>\n",
       "      <td>1</td>\n",
       "    </tr>\n",
       "    <tr>\n",
       "      <th>9248</th>\n",
       "      <td>155589</td>\n",
       "      <td>Noin 7 veljestä (1968)</td>\n",
       "      <td>(no genres listed)</td>\n",
       "      <td>0</td>\n",
       "      <td>0</td>\n",
       "      <td>0</td>\n",
       "      <td>0</td>\n",
       "      <td>0</td>\n",
       "      <td>0</td>\n",
       "      <td>0</td>\n",
       "      <td>...</td>\n",
       "      <td>0</td>\n",
       "      <td>0</td>\n",
       "      <td>0</td>\n",
       "      <td>0</td>\n",
       "      <td>0</td>\n",
       "      <td>0</td>\n",
       "      <td>0</td>\n",
       "      <td>0</td>\n",
       "      <td>0</td>\n",
       "      <td>1</td>\n",
       "    </tr>\n",
       "    <tr>\n",
       "      <th>9259</th>\n",
       "      <td>156605</td>\n",
       "      <td>Paterson</td>\n",
       "      <td>(no genres listed)</td>\n",
       "      <td>0</td>\n",
       "      <td>0</td>\n",
       "      <td>0</td>\n",
       "      <td>0</td>\n",
       "      <td>0</td>\n",
       "      <td>0</td>\n",
       "      <td>0</td>\n",
       "      <td>...</td>\n",
       "      <td>0</td>\n",
       "      <td>0</td>\n",
       "      <td>0</td>\n",
       "      <td>0</td>\n",
       "      <td>0</td>\n",
       "      <td>0</td>\n",
       "      <td>0</td>\n",
       "      <td>0</td>\n",
       "      <td>0</td>\n",
       "      <td>1</td>\n",
       "    </tr>\n",
       "    <tr>\n",
       "      <th>9307</th>\n",
       "      <td>159161</td>\n",
       "      <td>Ali Wong: Baby Cobra (2016)</td>\n",
       "      <td>(no genres listed)</td>\n",
       "      <td>0</td>\n",
       "      <td>0</td>\n",
       "      <td>0</td>\n",
       "      <td>0</td>\n",
       "      <td>0</td>\n",
       "      <td>0</td>\n",
       "      <td>0</td>\n",
       "      <td>...</td>\n",
       "      <td>0</td>\n",
       "      <td>0</td>\n",
       "      <td>0</td>\n",
       "      <td>0</td>\n",
       "      <td>0</td>\n",
       "      <td>0</td>\n",
       "      <td>0</td>\n",
       "      <td>0</td>\n",
       "      <td>0</td>\n",
       "      <td>1</td>\n",
       "    </tr>\n",
       "    <tr>\n",
       "      <th>9316</th>\n",
       "      <td>159779</td>\n",
       "      <td>A Midsummer Night's Dream (2016)</td>\n",
       "      <td>(no genres listed)</td>\n",
       "      <td>0</td>\n",
       "      <td>0</td>\n",
       "      <td>0</td>\n",
       "      <td>0</td>\n",
       "      <td>0</td>\n",
       "      <td>0</td>\n",
       "      <td>0</td>\n",
       "      <td>...</td>\n",
       "      <td>0</td>\n",
       "      <td>0</td>\n",
       "      <td>0</td>\n",
       "      <td>0</td>\n",
       "      <td>0</td>\n",
       "      <td>0</td>\n",
       "      <td>0</td>\n",
       "      <td>0</td>\n",
       "      <td>0</td>\n",
       "      <td>1</td>\n",
       "    </tr>\n",
       "    <tr>\n",
       "      <th>9348</th>\n",
       "      <td>161008</td>\n",
       "      <td>The Forbidden Dance (1990)</td>\n",
       "      <td>(no genres listed)</td>\n",
       "      <td>0</td>\n",
       "      <td>0</td>\n",
       "      <td>0</td>\n",
       "      <td>0</td>\n",
       "      <td>0</td>\n",
       "      <td>0</td>\n",
       "      <td>0</td>\n",
       "      <td>...</td>\n",
       "      <td>0</td>\n",
       "      <td>0</td>\n",
       "      <td>0</td>\n",
       "      <td>0</td>\n",
       "      <td>0</td>\n",
       "      <td>0</td>\n",
       "      <td>0</td>\n",
       "      <td>0</td>\n",
       "      <td>0</td>\n",
       "      <td>1</td>\n",
       "    </tr>\n",
       "    <tr>\n",
       "      <th>9413</th>\n",
       "      <td>165489</td>\n",
       "      <td>Ethel &amp; Ernest (2016)</td>\n",
       "      <td>(no genres listed)</td>\n",
       "      <td>0</td>\n",
       "      <td>0</td>\n",
       "      <td>0</td>\n",
       "      <td>0</td>\n",
       "      <td>0</td>\n",
       "      <td>0</td>\n",
       "      <td>0</td>\n",
       "      <td>...</td>\n",
       "      <td>0</td>\n",
       "      <td>0</td>\n",
       "      <td>0</td>\n",
       "      <td>0</td>\n",
       "      <td>0</td>\n",
       "      <td>0</td>\n",
       "      <td>0</td>\n",
       "      <td>0</td>\n",
       "      <td>0</td>\n",
       "      <td>1</td>\n",
       "    </tr>\n",
       "    <tr>\n",
       "      <th>9426</th>\n",
       "      <td>166024</td>\n",
       "      <td>Whiplash (2013)</td>\n",
       "      <td>(no genres listed)</td>\n",
       "      <td>0</td>\n",
       "      <td>0</td>\n",
       "      <td>0</td>\n",
       "      <td>0</td>\n",
       "      <td>0</td>\n",
       "      <td>0</td>\n",
       "      <td>0</td>\n",
       "      <td>...</td>\n",
       "      <td>0</td>\n",
       "      <td>0</td>\n",
       "      <td>0</td>\n",
       "      <td>0</td>\n",
       "      <td>0</td>\n",
       "      <td>0</td>\n",
       "      <td>0</td>\n",
       "      <td>0</td>\n",
       "      <td>0</td>\n",
       "      <td>1</td>\n",
       "    </tr>\n",
       "    <tr>\n",
       "      <th>9448</th>\n",
       "      <td>167570</td>\n",
       "      <td>The OA</td>\n",
       "      <td>(no genres listed)</td>\n",
       "      <td>0</td>\n",
       "      <td>0</td>\n",
       "      <td>0</td>\n",
       "      <td>0</td>\n",
       "      <td>0</td>\n",
       "      <td>0</td>\n",
       "      <td>0</td>\n",
       "      <td>...</td>\n",
       "      <td>0</td>\n",
       "      <td>0</td>\n",
       "      <td>0</td>\n",
       "      <td>0</td>\n",
       "      <td>0</td>\n",
       "      <td>0</td>\n",
       "      <td>0</td>\n",
       "      <td>0</td>\n",
       "      <td>0</td>\n",
       "      <td>1</td>\n",
       "    </tr>\n",
       "    <tr>\n",
       "      <th>9478</th>\n",
       "      <td>169034</td>\n",
       "      <td>Lemonade (2016)</td>\n",
       "      <td>(no genres listed)</td>\n",
       "      <td>0</td>\n",
       "      <td>0</td>\n",
       "      <td>0</td>\n",
       "      <td>0</td>\n",
       "      <td>0</td>\n",
       "      <td>0</td>\n",
       "      <td>0</td>\n",
       "      <td>...</td>\n",
       "      <td>0</td>\n",
       "      <td>0</td>\n",
       "      <td>0</td>\n",
       "      <td>0</td>\n",
       "      <td>0</td>\n",
       "      <td>0</td>\n",
       "      <td>0</td>\n",
       "      <td>0</td>\n",
       "      <td>0</td>\n",
       "      <td>1</td>\n",
       "    </tr>\n",
       "    <tr>\n",
       "      <th>9514</th>\n",
       "      <td>171495</td>\n",
       "      <td>Cosmos</td>\n",
       "      <td>(no genres listed)</td>\n",
       "      <td>0</td>\n",
       "      <td>0</td>\n",
       "      <td>0</td>\n",
       "      <td>0</td>\n",
       "      <td>0</td>\n",
       "      <td>0</td>\n",
       "      <td>0</td>\n",
       "      <td>...</td>\n",
       "      <td>0</td>\n",
       "      <td>0</td>\n",
       "      <td>0</td>\n",
       "      <td>0</td>\n",
       "      <td>0</td>\n",
       "      <td>0</td>\n",
       "      <td>0</td>\n",
       "      <td>0</td>\n",
       "      <td>0</td>\n",
       "      <td>1</td>\n",
       "    </tr>\n",
       "    <tr>\n",
       "      <th>9515</th>\n",
       "      <td>171631</td>\n",
       "      <td>Maria Bamford: Old Baby</td>\n",
       "      <td>(no genres listed)</td>\n",
       "      <td>0</td>\n",
       "      <td>0</td>\n",
       "      <td>0</td>\n",
       "      <td>0</td>\n",
       "      <td>0</td>\n",
       "      <td>0</td>\n",
       "      <td>0</td>\n",
       "      <td>...</td>\n",
       "      <td>0</td>\n",
       "      <td>0</td>\n",
       "      <td>0</td>\n",
       "      <td>0</td>\n",
       "      <td>0</td>\n",
       "      <td>0</td>\n",
       "      <td>0</td>\n",
       "      <td>0</td>\n",
       "      <td>0</td>\n",
       "      <td>1</td>\n",
       "    </tr>\n",
       "    <tr>\n",
       "      <th>9518</th>\n",
       "      <td>171749</td>\n",
       "      <td>Death Note: Desu nôto (2006–2007)</td>\n",
       "      <td>(no genres listed)</td>\n",
       "      <td>0</td>\n",
       "      <td>0</td>\n",
       "      <td>0</td>\n",
       "      <td>0</td>\n",
       "      <td>0</td>\n",
       "      <td>0</td>\n",
       "      <td>0</td>\n",
       "      <td>...</td>\n",
       "      <td>0</td>\n",
       "      <td>0</td>\n",
       "      <td>0</td>\n",
       "      <td>0</td>\n",
       "      <td>0</td>\n",
       "      <td>0</td>\n",
       "      <td>0</td>\n",
       "      <td>0</td>\n",
       "      <td>0</td>\n",
       "      <td>1</td>\n",
       "    </tr>\n",
       "    <tr>\n",
       "      <th>9525</th>\n",
       "      <td>171891</td>\n",
       "      <td>Generation Iron 2</td>\n",
       "      <td>(no genres listed)</td>\n",
       "      <td>0</td>\n",
       "      <td>0</td>\n",
       "      <td>0</td>\n",
       "      <td>0</td>\n",
       "      <td>0</td>\n",
       "      <td>0</td>\n",
       "      <td>0</td>\n",
       "      <td>...</td>\n",
       "      <td>0</td>\n",
       "      <td>0</td>\n",
       "      <td>0</td>\n",
       "      <td>0</td>\n",
       "      <td>0</td>\n",
       "      <td>0</td>\n",
       "      <td>0</td>\n",
       "      <td>0</td>\n",
       "      <td>0</td>\n",
       "      <td>1</td>\n",
       "    </tr>\n",
       "    <tr>\n",
       "      <th>9534</th>\n",
       "      <td>172497</td>\n",
       "      <td>T2 3-D: Battle Across Time (1996)</td>\n",
       "      <td>(no genres listed)</td>\n",
       "      <td>0</td>\n",
       "      <td>0</td>\n",
       "      <td>0</td>\n",
       "      <td>0</td>\n",
       "      <td>0</td>\n",
       "      <td>0</td>\n",
       "      <td>0</td>\n",
       "      <td>...</td>\n",
       "      <td>0</td>\n",
       "      <td>0</td>\n",
       "      <td>0</td>\n",
       "      <td>0</td>\n",
       "      <td>0</td>\n",
       "      <td>0</td>\n",
       "      <td>0</td>\n",
       "      <td>0</td>\n",
       "      <td>0</td>\n",
       "      <td>1</td>\n",
       "    </tr>\n",
       "    <tr>\n",
       "      <th>9541</th>\n",
       "      <td>172591</td>\n",
       "      <td>The Godfather Trilogy: 1972-1990 (1992)</td>\n",
       "      <td>(no genres listed)</td>\n",
       "      <td>0</td>\n",
       "      <td>0</td>\n",
       "      <td>0</td>\n",
       "      <td>0</td>\n",
       "      <td>0</td>\n",
       "      <td>0</td>\n",
       "      <td>0</td>\n",
       "      <td>...</td>\n",
       "      <td>0</td>\n",
       "      <td>0</td>\n",
       "      <td>0</td>\n",
       "      <td>0</td>\n",
       "      <td>0</td>\n",
       "      <td>0</td>\n",
       "      <td>0</td>\n",
       "      <td>0</td>\n",
       "      <td>0</td>\n",
       "      <td>1</td>\n",
       "    </tr>\n",
       "    <tr>\n",
       "      <th>9562</th>\n",
       "      <td>173535</td>\n",
       "      <td>The Adventures of Sherlock Holmes and Doctor W...</td>\n",
       "      <td>(no genres listed)</td>\n",
       "      <td>0</td>\n",
       "      <td>0</td>\n",
       "      <td>0</td>\n",
       "      <td>0</td>\n",
       "      <td>0</td>\n",
       "      <td>0</td>\n",
       "      <td>0</td>\n",
       "      <td>...</td>\n",
       "      <td>0</td>\n",
       "      <td>0</td>\n",
       "      <td>0</td>\n",
       "      <td>0</td>\n",
       "      <td>0</td>\n",
       "      <td>0</td>\n",
       "      <td>0</td>\n",
       "      <td>0</td>\n",
       "      <td>0</td>\n",
       "      <td>1</td>\n",
       "    </tr>\n",
       "    <tr>\n",
       "      <th>9573</th>\n",
       "      <td>174403</td>\n",
       "      <td>The Putin Interviews (2017)</td>\n",
       "      <td>(no genres listed)</td>\n",
       "      <td>0</td>\n",
       "      <td>0</td>\n",
       "      <td>0</td>\n",
       "      <td>0</td>\n",
       "      <td>0</td>\n",
       "      <td>0</td>\n",
       "      <td>0</td>\n",
       "      <td>...</td>\n",
       "      <td>0</td>\n",
       "      <td>0</td>\n",
       "      <td>0</td>\n",
       "      <td>0</td>\n",
       "      <td>0</td>\n",
       "      <td>0</td>\n",
       "      <td>0</td>\n",
       "      <td>0</td>\n",
       "      <td>0</td>\n",
       "      <td>1</td>\n",
       "    </tr>\n",
       "    <tr>\n",
       "      <th>9611</th>\n",
       "      <td>176601</td>\n",
       "      <td>Black Mirror</td>\n",
       "      <td>(no genres listed)</td>\n",
       "      <td>0</td>\n",
       "      <td>0</td>\n",
       "      <td>0</td>\n",
       "      <td>0</td>\n",
       "      <td>0</td>\n",
       "      <td>0</td>\n",
       "      <td>0</td>\n",
       "      <td>...</td>\n",
       "      <td>0</td>\n",
       "      <td>0</td>\n",
       "      <td>0</td>\n",
       "      <td>0</td>\n",
       "      <td>0</td>\n",
       "      <td>0</td>\n",
       "      <td>0</td>\n",
       "      <td>0</td>\n",
       "      <td>0</td>\n",
       "      <td>1</td>\n",
       "    </tr>\n",
       "    <tr>\n",
       "      <th>9661</th>\n",
       "      <td>181413</td>\n",
       "      <td>Too Funny to Fail: The Life and Death of The D...</td>\n",
       "      <td>(no genres listed)</td>\n",
       "      <td>0</td>\n",
       "      <td>0</td>\n",
       "      <td>0</td>\n",
       "      <td>0</td>\n",
       "      <td>0</td>\n",
       "      <td>0</td>\n",
       "      <td>0</td>\n",
       "      <td>...</td>\n",
       "      <td>0</td>\n",
       "      <td>0</td>\n",
       "      <td>0</td>\n",
       "      <td>0</td>\n",
       "      <td>0</td>\n",
       "      <td>0</td>\n",
       "      <td>0</td>\n",
       "      <td>0</td>\n",
       "      <td>0</td>\n",
       "      <td>1</td>\n",
       "    </tr>\n",
       "    <tr>\n",
       "      <th>9663</th>\n",
       "      <td>181719</td>\n",
       "      <td>Serving in Silence: The Margarethe Cammermeyer...</td>\n",
       "      <td>(no genres listed)</td>\n",
       "      <td>0</td>\n",
       "      <td>0</td>\n",
       "      <td>0</td>\n",
       "      <td>0</td>\n",
       "      <td>0</td>\n",
       "      <td>0</td>\n",
       "      <td>0</td>\n",
       "      <td>...</td>\n",
       "      <td>0</td>\n",
       "      <td>0</td>\n",
       "      <td>0</td>\n",
       "      <td>0</td>\n",
       "      <td>0</td>\n",
       "      <td>0</td>\n",
       "      <td>0</td>\n",
       "      <td>0</td>\n",
       "      <td>0</td>\n",
       "      <td>1</td>\n",
       "    </tr>\n",
       "    <tr>\n",
       "      <th>9669</th>\n",
       "      <td>182727</td>\n",
       "      <td>A Christmas Story Live! (2017)</td>\n",
       "      <td>(no genres listed)</td>\n",
       "      <td>0</td>\n",
       "      <td>0</td>\n",
       "      <td>0</td>\n",
       "      <td>0</td>\n",
       "      <td>0</td>\n",
       "      <td>0</td>\n",
       "      <td>0</td>\n",
       "      <td>...</td>\n",
       "      <td>0</td>\n",
       "      <td>0</td>\n",
       "      <td>0</td>\n",
       "      <td>0</td>\n",
       "      <td>0</td>\n",
       "      <td>0</td>\n",
       "      <td>0</td>\n",
       "      <td>0</td>\n",
       "      <td>0</td>\n",
       "      <td>1</td>\n",
       "    </tr>\n",
       "  </tbody>\n",
       "</table>\n",
       "<p>34 rows × 23 columns</p>\n",
       "</div>"
      ],
      "text/plain": [
       "      movieId                                              title  \\\n",
       "8517   114335                                  La cravate (1957)   \n",
       "8684   122888                                     Ben-hur (2016)   \n",
       "8687   122896  Pirates of the Caribbean: Dead Men Tell No Tal...   \n",
       "8782   129250                                  Superfast! (2015)   \n",
       "8836   132084                                Let It Be Me (1995)   \n",
       "8902   134861               Trevor Noah: African American (2013)   \n",
       "9033   141131                                   Guardians (2016)   \n",
       "9053   141866                                  Green Room (2015)   \n",
       "9070   142456                     The Brand New Testament (2015)   \n",
       "9091   143410                                         Hyena Road   \n",
       "9138   147250  The Adventures of Sherlock Holmes and Doctor W...   \n",
       "9178   149330                          A Cosmic Christmas (1977)   \n",
       "9217   152037                                 Grease Live (2016)   \n",
       "9248   155589                             Noin 7 veljestä (1968)   \n",
       "9259   156605                                           Paterson   \n",
       "9307   159161                        Ali Wong: Baby Cobra (2016)   \n",
       "9316   159779                   A Midsummer Night's Dream (2016)   \n",
       "9348   161008                         The Forbidden Dance (1990)   \n",
       "9413   165489                              Ethel & Ernest (2016)   \n",
       "9426   166024                                    Whiplash (2013)   \n",
       "9448   167570                                             The OA   \n",
       "9478   169034                                    Lemonade (2016)   \n",
       "9514   171495                                             Cosmos   \n",
       "9515   171631                            Maria Bamford: Old Baby   \n",
       "9518   171749                  Death Note: Desu nôto (2006–2007)   \n",
       "9525   171891                                  Generation Iron 2   \n",
       "9534   172497                  T2 3-D: Battle Across Time (1996)   \n",
       "9541   172591            The Godfather Trilogy: 1972-1990 (1992)   \n",
       "9562   173535  The Adventures of Sherlock Holmes and Doctor W...   \n",
       "9573   174403                        The Putin Interviews (2017)   \n",
       "9611   176601                                       Black Mirror   \n",
       "9661   181413  Too Funny to Fail: The Life and Death of The D...   \n",
       "9663   181719  Serving in Silence: The Margarethe Cammermeyer...   \n",
       "9669   182727                     A Christmas Story Live! (2017)   \n",
       "\n",
       "                  genres  Adventure  Animation  Children  Comedy  Fantasy  \\\n",
       "8517  (no genres listed)          0          0         0       0        0   \n",
       "8684  (no genres listed)          0          0         0       0        0   \n",
       "8687  (no genres listed)          0          0         0       0        0   \n",
       "8782  (no genres listed)          0          0         0       0        0   \n",
       "8836  (no genres listed)          0          0         0       0        0   \n",
       "8902  (no genres listed)          0          0         0       0        0   \n",
       "9033  (no genres listed)          0          0         0       0        0   \n",
       "9053  (no genres listed)          0          0         0       0        0   \n",
       "9070  (no genres listed)          0          0         0       0        0   \n",
       "9091  (no genres listed)          0          0         0       0        0   \n",
       "9138  (no genres listed)          0          0         0       0        0   \n",
       "9178  (no genres listed)          0          0         0       0        0   \n",
       "9217  (no genres listed)          0          0         0       0        0   \n",
       "9248  (no genres listed)          0          0         0       0        0   \n",
       "9259  (no genres listed)          0          0         0       0        0   \n",
       "9307  (no genres listed)          0          0         0       0        0   \n",
       "9316  (no genres listed)          0          0         0       0        0   \n",
       "9348  (no genres listed)          0          0         0       0        0   \n",
       "9413  (no genres listed)          0          0         0       0        0   \n",
       "9426  (no genres listed)          0          0         0       0        0   \n",
       "9448  (no genres listed)          0          0         0       0        0   \n",
       "9478  (no genres listed)          0          0         0       0        0   \n",
       "9514  (no genres listed)          0          0         0       0        0   \n",
       "9515  (no genres listed)          0          0         0       0        0   \n",
       "9518  (no genres listed)          0          0         0       0        0   \n",
       "9525  (no genres listed)          0          0         0       0        0   \n",
       "9534  (no genres listed)          0          0         0       0        0   \n",
       "9541  (no genres listed)          0          0         0       0        0   \n",
       "9562  (no genres listed)          0          0         0       0        0   \n",
       "9573  (no genres listed)          0          0         0       0        0   \n",
       "9611  (no genres listed)          0          0         0       0        0   \n",
       "9661  (no genres listed)          0          0         0       0        0   \n",
       "9663  (no genres listed)          0          0         0       0        0   \n",
       "9669  (no genres listed)          0          0         0       0        0   \n",
       "\n",
       "      Romance  Drama  ...  Horror  Mystery  Sci-Fi  War  Musical  Documentary  \\\n",
       "8517        0      0  ...       0        0       0    0        0            0   \n",
       "8684        0      0  ...       0        0       0    0        0            0   \n",
       "8687        0      0  ...       0        0       0    0        0            0   \n",
       "8782        0      0  ...       0        0       0    0        0            0   \n",
       "8836        0      0  ...       0        0       0    0        0            0   \n",
       "8902        0      0  ...       0        0       0    0        0            0   \n",
       "9033        0      0  ...       0        0       0    0        0            0   \n",
       "9053        0      0  ...       0        0       0    0        0            0   \n",
       "9070        0      0  ...       0        0       0    0        0            0   \n",
       "9091        0      0  ...       0        0       0    0        0            0   \n",
       "9138        0      0  ...       0        0       0    0        0            0   \n",
       "9178        0      0  ...       0        0       0    0        0            0   \n",
       "9217        0      0  ...       0        0       0    0        0            0   \n",
       "9248        0      0  ...       0        0       0    0        0            0   \n",
       "9259        0      0  ...       0        0       0    0        0            0   \n",
       "9307        0      0  ...       0        0       0    0        0            0   \n",
       "9316        0      0  ...       0        0       0    0        0            0   \n",
       "9348        0      0  ...       0        0       0    0        0            0   \n",
       "9413        0      0  ...       0        0       0    0        0            0   \n",
       "9426        0      0  ...       0        0       0    0        0            0   \n",
       "9448        0      0  ...       0        0       0    0        0            0   \n",
       "9478        0      0  ...       0        0       0    0        0            0   \n",
       "9514        0      0  ...       0        0       0    0        0            0   \n",
       "9515        0      0  ...       0        0       0    0        0            0   \n",
       "9518        0      0  ...       0        0       0    0        0            0   \n",
       "9525        0      0  ...       0        0       0    0        0            0   \n",
       "9534        0      0  ...       0        0       0    0        0            0   \n",
       "9541        0      0  ...       0        0       0    0        0            0   \n",
       "9562        0      0  ...       0        0       0    0        0            0   \n",
       "9573        0      0  ...       0        0       0    0        0            0   \n",
       "9611        0      0  ...       0        0       0    0        0            0   \n",
       "9661        0      0  ...       0        0       0    0        0            0   \n",
       "9663        0      0  ...       0        0       0    0        0            0   \n",
       "9669        0      0  ...       0        0       0    0        0            0   \n",
       "\n",
       "      IMAX  Western  Film-Noir  (no genres listed)  \n",
       "8517     0        0          0                   1  \n",
       "8684     0        0          0                   1  \n",
       "8687     0        0          0                   1  \n",
       "8782     0        0          0                   1  \n",
       "8836     0        0          0                   1  \n",
       "8902     0        0          0                   1  \n",
       "9033     0        0          0                   1  \n",
       "9053     0        0          0                   1  \n",
       "9070     0        0          0                   1  \n",
       "9091     0        0          0                   1  \n",
       "9138     0        0          0                   1  \n",
       "9178     0        0          0                   1  \n",
       "9217     0        0          0                   1  \n",
       "9248     0        0          0                   1  \n",
       "9259     0        0          0                   1  \n",
       "9307     0        0          0                   1  \n",
       "9316     0        0          0                   1  \n",
       "9348     0        0          0                   1  \n",
       "9413     0        0          0                   1  \n",
       "9426     0        0          0                   1  \n",
       "9448     0        0          0                   1  \n",
       "9478     0        0          0                   1  \n",
       "9514     0        0          0                   1  \n",
       "9515     0        0          0                   1  \n",
       "9518     0        0          0                   1  \n",
       "9525     0        0          0                   1  \n",
       "9534     0        0          0                   1  \n",
       "9541     0        0          0                   1  \n",
       "9562     0        0          0                   1  \n",
       "9573     0        0          0                   1  \n",
       "9611     0        0          0                   1  \n",
       "9661     0        0          0                   1  \n",
       "9663     0        0          0                   1  \n",
       "9669     0        0          0                   1  \n",
       "\n",
       "[34 rows x 23 columns]"
      ]
     },
     "execution_count": 25,
     "metadata": {},
     "output_type": "execute_result"
    }
   ],
   "source": [
    "movies_processed.loc[movies_processed['(no genres listed)']==1]"
   ]
  },
  {
   "cell_type": "markdown",
   "metadata": {},
   "source": [
    "There are 34 movies without genre listed. "
   ]
  },
  {
   "cell_type": "code",
   "execution_count": 26,
   "metadata": {
    "ExecuteTime": {
     "end_time": "2022-08-13T19:29:07.262635Z",
     "start_time": "2022-08-13T19:29:05.845393Z"
    },
    "scrolled": false
   },
   "outputs": [
    {
     "data": {
      "text/plain": [
       "array([[1.        , 0.77459667, 0.31622777, ..., 0.        , 0.31622777,\n",
       "        0.4472136 ],\n",
       "       [0.77459667, 1.        , 0.        , ..., 0.        , 0.        ,\n",
       "        0.        ],\n",
       "       [0.31622777, 0.        , 1.        , ..., 0.        , 0.        ,\n",
       "        0.70710678],\n",
       "       ...,\n",
       "       [0.        , 0.        , 0.        , ..., 1.        , 0.        ,\n",
       "        0.        ],\n",
       "       [0.31622777, 0.        , 0.        , ..., 0.        , 1.        ,\n",
       "        0.        ],\n",
       "       [0.4472136 , 0.        , 0.70710678, ..., 0.        , 0.        ,\n",
       "        1.        ]])"
      ]
     },
     "execution_count": 26,
     "metadata": {},
     "output_type": "execute_result"
    }
   ],
   "source": [
    "# create similarity matrix based on genre\n",
    "\n",
    "from sklearn.metrics.pairwise import cosine_similarity\n",
    "\n",
    "sim_genre = movies_processed.drop(columns = ['title', 'genres', '(no genres listed)']).\\\n",
    "                                            set_index('movieId')\n",
    "sim_genre = cosine_similarity(sim_genre)\n",
    "sim_genre"
   ]
  },
  {
   "cell_type": "code",
   "execution_count": 27,
   "metadata": {
    "ExecuteTime": {
     "end_time": "2022-08-13T19:29:07.267671Z",
     "start_time": "2022-08-13T19:29:07.264338Z"
    },
    "scrolled": true
   },
   "outputs": [
    {
     "data": {
      "text/plain": [
       "9742"
      ]
     },
     "execution_count": 27,
     "metadata": {},
     "output_type": "execute_result"
    }
   ],
   "source": [
    "# checking the length of the sim_genre array\n",
    "len(sim_genre)"
   ]
  },
  {
   "cell_type": "code",
   "execution_count": 28,
   "metadata": {
    "ExecuteTime": {
     "end_time": "2022-08-13T19:29:07.275558Z",
     "start_time": "2022-08-13T19:29:07.269371Z"
    }
   },
   "outputs": [],
   "source": [
    "# building a custom content-based algorithm to measure performance based on genre similarity matrix\n",
    "from surprise import AlgoBase\n",
    "from surprise import PredictionImpossible\n",
    "\n",
    "import numpy as np\n",
    "import heapq\n",
    "import math\n",
    "\n",
    "class ContentKNNAlgorithm(AlgoBase):\n",
    "\n",
    "    def __init__(self, k=40, sim_options={}):\n",
    "        AlgoBase.__init__(self)\n",
    "        self.k = k\n",
    "\n",
    "    def fit(self, trainset):\n",
    "        AlgoBase.fit(self, trainset)\n",
    "\n",
    "            \n",
    "    # Compute genre distance for every movie combination as a 2x2 matrix\n",
    "        self.similarities = sim_genre\n",
    "    \n",
    "  \n",
    "    \n",
    "    def estimate(self, u, i):\n",
    "\n",
    "        if not (self.trainset.knows_user(u) and self.trainset.knows_item(i)):\n",
    "            raise PredictionImpossible('User and/or item is unkown.')\n",
    "        \n",
    "        # Build up similarity scores between this item and everything the user rated\n",
    "        neighbors = []\n",
    "        for rating in self.trainset.ur[u]:\n",
    "            genreSimilarity = self.similarities[i,rating[0]]\n",
    "            neighbors.append( (genreSimilarity, rating[1]) )\n",
    "        \n",
    "        # Extract the top-K most-similar ratings\n",
    "        k_neighbors = heapq.nlargest(self.k, neighbors, key=lambda t: t[0])\n",
    "        \n",
    "        # Compute average sim score of K neighbors weighted by user ratings\n",
    "        simTotal = weightedSum = 0\n",
    "        for (simScore, rating) in k_neighbors:\n",
    "            if (simScore > 0):\n",
    "                simTotal += simScore\n",
    "                weightedSum += simScore * rating\n",
    "            \n",
    "        if (simTotal == 0):\n",
    "            raise PredictionImpossible('No neighbors')\n",
    "\n",
    "        predictedRating = weightedSum / simTotal\n",
    "\n",
    "        return predictedRating"
   ]
  },
  {
   "cell_type": "code",
   "execution_count": 29,
   "metadata": {
    "ExecuteTime": {
     "end_time": "2022-08-13T20:38:25.605455Z",
     "start_time": "2022-08-13T19:29:07.277132Z"
    }
   },
   "outputs": [
    {
     "name": "stdout",
     "output_type": "stream",
     "text": [
      "\n",
      "Evaluating accuracy of model...\n",
      "RMSE: 0.9709\n",
      "MAE:  0.7534\n",
      "Evaluating top-N with leave-one-out...\n",
      "Computing hit-rate and rank metrics...\n",
      "3.0 0.007575757575757576\n",
      "5.0 0.008695652173913044\n",
      "Computing recommendations with full data set...\n",
      "Analyzing coverage, diversity, and novelty...\n",
      "Computing the cosine similarity matrix...\n",
      "Done computing similarity matrix.\n",
      "Analysis complete.\n"
     ]
    },
    {
     "data": {
      "text/plain": [
       "{'RMSE': 0.9709406947859511,\n",
       " 'MAE': 0.7533717181317096,\n",
       " 'HR': 0.003278688524590164,\n",
       " 'cHR': 0.00303951367781155,\n",
       " 'ARHR': 0.0008743169398907104,\n",
       " 'Coverage': 0.8245901639344262,\n",
       " 'Diversity': 0.4541663589104965,\n",
       " 'Novelty': 3149.3891273247496}"
      ]
     },
     "execution_count": 29,
     "metadata": {},
     "output_type": "execute_result"
    }
   ],
   "source": [
    "content_KNN = ContentKNNAlgorithm()\n",
    "evaluate(content_KNN, 'Content KNN')"
   ]
  },
  {
   "cell_type": "code",
   "execution_count": 115,
   "metadata": {
    "ExecuteTime": {
     "end_time": "2022-08-15T16:51:52.630021Z",
     "start_time": "2022-08-15T16:51:51.646304Z"
    },
    "scrolled": false
   },
   "outputs": [
    {
     "name": "stdout",
     "output_type": "stream",
     "text": [
      "Computing recommendations...\n",
      "\n",
      "We recommend:\n",
      "Harriet the Spy (1996) 4.5\n",
      "Godzilla 2000 (Gojira ni-sen mireniamu) (1999) 4.5\n",
      "My Own Private Idaho (1991) 4.5\n",
      "Polish Wedding (1998) 4.5\n",
      "Kill! (Kiru) (1968) 4.5\n",
      "Flintstones, The (1994) 4.4461664071234575\n",
      "Quicksilver (1986) 4.4461664071234575\n",
      "Fearless (1993) 4.4461664071234575\n",
      "Young Guns II (1990) 4.4461664071234575\n",
      "King of New York (1990) 4.4461664071234575\n"
     ]
    }
   ],
   "source": [
    "SampleTopNRecs(content_KNN, testSubject=439, k=10)"
   ]
  },
  {
   "cell_type": "markdown",
   "metadata": {},
   "source": [
    "### Collaborative Filtering"
   ]
  },
  {
   "cell_type": "markdown",
   "metadata": {},
   "source": [
    "#### Memory based \n",
    "When user-item similarity matrixes are stored in memory. "
   ]
  },
  {
   "cell_type": "code",
   "execution_count": 31,
   "metadata": {
    "ExecuteTime": {
     "end_time": "2022-08-13T20:38:28.029620Z",
     "start_time": "2022-08-13T20:38:28.027072Z"
    }
   },
   "outputs": [],
   "source": [
    "# import libraries\n",
    "\n",
    "from surprise.prediction_algorithms import KNNWithMeans, KNNBasic\n",
    "from surprise.model_selection import GridSearchCV\n"
   ]
  },
  {
   "cell_type": "code",
   "execution_count": 32,
   "metadata": {
    "ExecuteTime": {
     "end_time": "2022-08-13T20:38:28.042014Z",
     "start_time": "2022-08-13T20:38:28.032947Z"
    }
   },
   "outputs": [
    {
     "name": "stdout",
     "output_type": "stream",
     "text": [
      "0.9037514133976239\n",
      "{'sim_options': {'name': 'msd', 'min_support': 3, 'user_based': True}}\n"
     ]
    }
   ],
   "source": [
    "if 'cf_gs.pkl' in os.listdir('Algorithms'):\n",
    "    with open('Algorithms/cf_gs.pkl', 'rb') as f: \n",
    "        cf_gs = joblib.load(f) \n",
    "    \n",
    "else:\n",
    "    sim_options = {\n",
    "    \"name\": [\"msd\", \"cosine\", \"pearson\", \"pearson_baseline\"],\n",
    "    \"min_support\": [3, 4, 5],\n",
    "    \"user_based\": [False, True],\n",
    "    }\n",
    "\n",
    "    param_grid = {\"sim_options\": sim_options}\n",
    "\n",
    "    cf_gs = GridSearchCV(KNNWithMeans, param_grid, measures=[\"rmse\", \"mae\"], cv=3)\n",
    "    cf_gs.fit(data)\n",
    "    \n",
    "    with open('Algorithms/cf_gs.pkl', 'wb') as f:\n",
    "        joblib.dump(cf_gs, f)\n",
    "\n",
    "print(cf_gs.best_score[\"rmse\"])\n",
    "print(cf_gs.best_params[\"rmse\"])"
   ]
  },
  {
   "cell_type": "code",
   "execution_count": 33,
   "metadata": {
    "ExecuteTime": {
     "end_time": "2022-08-13T20:38:28.063628Z",
     "start_time": "2022-08-13T20:38:28.043566Z"
    }
   },
   "outputs": [
    {
     "data": {
      "text/html": [
       "<div>\n",
       "<style scoped>\n",
       "    .dataframe tbody tr th:only-of-type {\n",
       "        vertical-align: middle;\n",
       "    }\n",
       "\n",
       "    .dataframe tbody tr th {\n",
       "        vertical-align: top;\n",
       "    }\n",
       "\n",
       "    .dataframe thead th {\n",
       "        text-align: right;\n",
       "    }\n",
       "</style>\n",
       "<table border=\"1\" class=\"dataframe\">\n",
       "  <thead>\n",
       "    <tr style=\"text-align: right;\">\n",
       "      <th></th>\n",
       "      <th>split0_test_rmse</th>\n",
       "      <th>split1_test_rmse</th>\n",
       "      <th>split2_test_rmse</th>\n",
       "      <th>mean_test_rmse</th>\n",
       "      <th>std_test_rmse</th>\n",
       "      <th>rank_test_rmse</th>\n",
       "      <th>split0_test_mae</th>\n",
       "      <th>split1_test_mae</th>\n",
       "      <th>split2_test_mae</th>\n",
       "      <th>mean_test_mae</th>\n",
       "      <th>std_test_mae</th>\n",
       "      <th>rank_test_mae</th>\n",
       "      <th>mean_fit_time</th>\n",
       "      <th>std_fit_time</th>\n",
       "      <th>mean_test_time</th>\n",
       "      <th>std_test_time</th>\n",
       "      <th>params</th>\n",
       "      <th>param_sim_options</th>\n",
       "    </tr>\n",
       "  </thead>\n",
       "  <tbody>\n",
       "    <tr>\n",
       "      <th>1</th>\n",
       "      <td>0.901978</td>\n",
       "      <td>0.908228</td>\n",
       "      <td>0.901048</td>\n",
       "      <td>0.903751</td>\n",
       "      <td>0.003188</td>\n",
       "      <td>1</td>\n",
       "      <td>0.687180</td>\n",
       "      <td>0.693989</td>\n",
       "      <td>0.687625</td>\n",
       "      <td>0.689598</td>\n",
       "      <td>0.003110</td>\n",
       "      <td>2</td>\n",
       "      <td>0.083710</td>\n",
       "      <td>0.00392</td>\n",
       "      <td>1.803835</td>\n",
       "      <td>0.121996</td>\n",
       "      <td>{'sim_options': {'name': 'msd', 'min_support': 3, 'user_based': True}}</td>\n",
       "      <td>{'name': 'msd', 'min_support': 3, 'user_based': True}</td>\n",
       "    </tr>\n",
       "    <tr>\n",
       "      <th>18</th>\n",
       "      <td>0.905582</td>\n",
       "      <td>0.905299</td>\n",
       "      <td>0.901804</td>\n",
       "      <td>0.904228</td>\n",
       "      <td>0.001718</td>\n",
       "      <td>2</td>\n",
       "      <td>0.685849</td>\n",
       "      <td>0.687159</td>\n",
       "      <td>0.685454</td>\n",
       "      <td>0.686154</td>\n",
       "      <td>0.000729</td>\n",
       "      <td>1</td>\n",
       "      <td>5.155764</td>\n",
       "      <td>0.05251</td>\n",
       "      <td>8.203052</td>\n",
       "      <td>0.567901</td>\n",
       "      <td>{'sim_options': {'name': 'pearson_baseline', 'min_support': 3, 'user_based': False}}</td>\n",
       "      <td>{'name': 'pearson_baseline', 'min_support': 3, 'user_based': False}</td>\n",
       "    </tr>\n",
       "  </tbody>\n",
       "</table>\n",
       "</div>"
      ],
      "text/plain": [
       "    split0_test_rmse  split1_test_rmse  split2_test_rmse  mean_test_rmse  \\\n",
       "1           0.901978          0.908228          0.901048        0.903751   \n",
       "18          0.905582          0.905299          0.901804        0.904228   \n",
       "\n",
       "    std_test_rmse  rank_test_rmse  split0_test_mae  split1_test_mae  \\\n",
       "1        0.003188               1         0.687180         0.693989   \n",
       "18       0.001718               2         0.685849         0.687159   \n",
       "\n",
       "    split2_test_mae  mean_test_mae  std_test_mae  rank_test_mae  \\\n",
       "1          0.687625       0.689598      0.003110              2   \n",
       "18         0.685454       0.686154      0.000729              1   \n",
       "\n",
       "    mean_fit_time  std_fit_time  mean_test_time  std_test_time  \\\n",
       "1        0.083710       0.00392        1.803835       0.121996   \n",
       "18       5.155764       0.05251        8.203052       0.567901   \n",
       "\n",
       "                                                                                  params  \\\n",
       "1                 {'sim_options': {'name': 'msd', 'min_support': 3, 'user_based': True}}   \n",
       "18  {'sim_options': {'name': 'pearson_baseline', 'min_support': 3, 'user_based': False}}   \n",
       "\n",
       "                                                      param_sim_options  \n",
       "1                 {'name': 'msd', 'min_support': 3, 'user_based': True}  \n",
       "18  {'name': 'pearson_baseline', 'min_support': 3, 'user_based': False}  "
      ]
     },
     "execution_count": 33,
     "metadata": {},
     "output_type": "execute_result"
    }
   ],
   "source": [
    "# Display top two algorithms with the lowest RMSE\n",
    "pd. set_option('display.max_colwidth', None)\n",
    "pd.DataFrame(cf_gs.cv_results).sort_values('rank_test_rmse').head(2)"
   ]
  },
  {
   "cell_type": "markdown",
   "metadata": {},
   "source": [
    "***\n",
    "Two top performing algorithms with the lowest RMSE with the following 'sim_options': \n",
    "- {'name': 'msd', 'min_support': 3, 'user_based': True}\n",
    "- {'name': 'pearson_baseline', 'min_support': 3, 'user_based': False}\n",
    "\n",
    "We will measure additional metrics on these two algorithms. \n",
    "***"
   ]
  },
  {
   "cell_type": "markdown",
   "metadata": {},
   "source": [
    "##### Item-based"
   ]
  },
  {
   "cell_type": "code",
   "execution_count": 34,
   "metadata": {
    "ExecuteTime": {
     "end_time": "2022-08-13T20:56:36.877634Z",
     "start_time": "2022-08-13T20:38:28.065591Z"
    }
   },
   "outputs": [
    {
     "name": "stdout",
     "output_type": "stream",
     "text": [
      "Estimating biases using als...\n",
      "Computing the pearson_baseline similarity matrix...\n",
      "Done computing similarity matrix.\n",
      "\n",
      "Evaluating accuracy of model...\n",
      "RMSE: 0.8966\n",
      "MAE:  0.6800\n",
      "Evaluating top-N with leave-one-out...\n",
      "Estimating biases using als...\n",
      "Computing the pearson_baseline similarity matrix...\n",
      "Done computing similarity matrix.\n",
      "Computing hit-rate and rank metrics...\n",
      "5.0 0.02608695652173913\n",
      "Computing recommendations with full data set...\n",
      "Estimating biases using als...\n",
      "Computing the pearson_baseline similarity matrix...\n",
      "Done computing similarity matrix.\n",
      "Analyzing coverage, diversity, and novelty...\n",
      "Computing the cosine similarity matrix...\n",
      "Done computing similarity matrix.\n",
      "Analysis complete.\n"
     ]
    },
    {
     "data": {
      "text/plain": [
       "{'RMSE': 0.8966398383199587,\n",
       " 'MAE': 0.6800383987377562,\n",
       " 'HR': 0.004918032786885246,\n",
       " 'cHR': 0.00911854103343465,\n",
       " 'ARHR': 0.0038251366120218575,\n",
       " 'Coverage': 1.0,\n",
       " 'Diversity': 0.8049600703877964,\n",
       " 'Novelty': 4957.141475409836}"
      ]
     },
     "execution_count": 34,
     "metadata": {},
     "output_type": "execute_result"
    }
   ],
   "source": [
    "# Looking into performance of KNNWithMeans and pearson_baseline similarity.\n",
    "\n",
    "sim_options = {'name': 'pearson_baseline', \n",
    "              'user_based': False, \n",
    "              'min_support': 3}\n",
    "\n",
    "cf_1 = KNNWithMeans(sim_options=sim_options)\n",
    "\n",
    "evaluate(cf_1, 'CF KNNWithMeans Pearson_baseline')"
   ]
  },
  {
   "cell_type": "code",
   "execution_count": 116,
   "metadata": {
    "ExecuteTime": {
     "end_time": "2022-08-15T16:52:49.642786Z",
     "start_time": "2022-08-15T16:52:40.270390Z"
    }
   },
   "outputs": [
    {
     "name": "stdout",
     "output_type": "stream",
     "text": [
      "Estimating biases using als...\n",
      "Computing the pearson_baseline similarity matrix...\n",
      "Done computing similarity matrix.\n",
      "Computing recommendations...\n",
      "\n",
      "We recommend:\n",
      "The Jinx: The Life and Deaths of Robert Durst (2015) 5\n",
      "Galaxy of Terror (Quest) (1981) 5\n",
      "Alien Contamination (1980) 5\n",
      "I'm the One That I Want (2000) 5\n",
      "Three Billboards Outside Ebbing, Missouri (2017) 5\n",
      "Chorus Line, A (1985) 5\n",
      "Hunt, The (Jagten) (2012) 5\n",
      "The Man from Nowhere (2010) 5\n",
      "Lesson Faust (1994) 5\n",
      "Assignment, The (1997) 5\n"
     ]
    }
   ],
   "source": [
    "SampleTopNRecs(cf_1, testSubject=439, k=10)"
   ]
  },
  {
   "cell_type": "code",
   "execution_count": 36,
   "metadata": {
    "ExecuteTime": {
     "end_time": "2022-08-13T21:15:37.401420Z",
     "start_time": "2022-08-13T20:56:46.186242Z"
    },
    "scrolled": true
   },
   "outputs": [
    {
     "name": "stdout",
     "output_type": "stream",
     "text": [
      "Estimating biases using als...\n",
      "Computing the pearson_baseline similarity matrix...\n",
      "Done computing similarity matrix.\n",
      "\n",
      "Evaluating accuracy of model...\n",
      "RMSE: 0.8643\n",
      "MAE:  0.6569\n",
      "Evaluating top-N with leave-one-out...\n",
      "Estimating biases using als...\n",
      "Computing the pearson_baseline similarity matrix...\n",
      "Done computing similarity matrix.\n",
      "Computing hit-rate and rank metrics...\n",
      "4.0 0.005813953488372093\n",
      "5.0 0.043478260869565216\n",
      "Computing recommendations with full data set...\n",
      "Estimating biases using als...\n",
      "Computing the pearson_baseline similarity matrix...\n",
      "Done computing similarity matrix.\n",
      "Analyzing coverage, diversity, and novelty...\n",
      "Computing the cosine similarity matrix...\n",
      "Done computing similarity matrix.\n",
      "Analysis complete.\n"
     ]
    },
    {
     "data": {
      "text/plain": [
       "{'RMSE': 0.8643251405266618,\n",
       " 'MAE': 0.6569278136758996,\n",
       " 'HR': 0.009836065573770493,\n",
       " 'cHR': 0.0182370820668693,\n",
       " 'ARHR': 0.004403460837887067,\n",
       " 'Coverage': 0.9918032786885246,\n",
       " 'Diversity': 0.5933052442060209,\n",
       " 'Novelty': 3204.7195204322866}"
      ]
     },
     "execution_count": 36,
     "metadata": {},
     "output_type": "execute_result"
    }
   ],
   "source": [
    "# ALS KNN Baseline with pearson_baseline \n",
    "bsl_options = {'method': 'als',\n",
    "               'n_epochs': 5,\n",
    "               'reg_u': 12,\n",
    "               'reg_i': 5}\n",
    "\n",
    "sim_options = {'name': 'pearson_baseline', \n",
    "              'user_based': False, \n",
    "              'min_support': 3}\n",
    "\n",
    "cf_2 = KNNBaseline(bsl_options=bsl_options, sim_options=sim_options)\n",
    "evaluate(cf_2, 'CF_2 KNNBaseline')"
   ]
  },
  {
   "cell_type": "code",
   "execution_count": 117,
   "metadata": {
    "ExecuteTime": {
     "end_time": "2022-08-15T16:53:46.704206Z",
     "start_time": "2022-08-15T16:53:38.217400Z"
    }
   },
   "outputs": [
    {
     "name": "stdout",
     "output_type": "stream",
     "text": [
      "Estimating biases using als...\n",
      "Computing the pearson_baseline similarity matrix...\n",
      "Done computing similarity matrix.\n",
      "Computing recommendations...\n",
      "\n",
      "We recommend:\n",
      "Howl's Moving Castle (Hauru no ugoku shiro) (2004) 4.89886421485328\n",
      "Discreet Charm of the Bourgeoisie, The (Charme discret de la bourgeoisie, Le) (1972) 4.831724959638593\n",
      "Hunt, The (Jagten) (2012) 4.750433649073654\n",
      "Stunt Man, The (1980) 4.745010757540975\n",
      "Three Colors: Red (Trois couleurs: Rouge) (1994) 4.743010047401364\n",
      "Call Me by Your Name (2017) 4.73869984060031\n",
      "Local Hero (1983) 4.735969543299886\n",
      "Anne of Green Gables (1985) 4.734475193878651\n",
      "Best Exotic Marigold Hotel, The (2011) 4.729633067319535\n",
      "Trial, The (ProcÃ¨s, Le) (1962) 4.729508999502569\n"
     ]
    }
   ],
   "source": [
    "SampleTopNRecs(cf_2, testSubject=439, k=10)"
   ]
  },
  {
   "cell_type": "markdown",
   "metadata": {},
   "source": [
    "##### User-based"
   ]
  },
  {
   "cell_type": "code",
   "execution_count": 38,
   "metadata": {
    "ExecuteTime": {
     "end_time": "2022-08-13T22:34:56.899446Z",
     "start_time": "2022-08-13T21:15:46.713114Z"
    }
   },
   "outputs": [
    {
     "name": "stdout",
     "output_type": "stream",
     "text": [
      "Computing the msd similarity matrix...\n",
      "Done computing similarity matrix.\n",
      "\n",
      "Evaluating accuracy of model...\n",
      "RMSE: 0.8987\n",
      "MAE:  0.6861\n",
      "Evaluating top-N with leave-one-out...\n",
      "Computing the msd similarity matrix...\n",
      "Done computing similarity matrix.\n",
      "Computing hit-rate and rank metrics...\n",
      "5.0 0.017391304347826087\n",
      "Computing recommendations with full data set...\n",
      "Computing the msd similarity matrix...\n",
      "Done computing similarity matrix.\n",
      "Analyzing coverage, diversity, and novelty...\n",
      "Computing the cosine similarity matrix...\n",
      "Done computing similarity matrix.\n",
      "Analysis complete.\n"
     ]
    },
    {
     "data": {
      "text/plain": [
       "{'RMSE': 0.8987436259072746,\n",
       " 'MAE': 0.6860878299041661,\n",
       " 'HR': 0.003278688524590164,\n",
       " 'cHR': 0.0060790273556231,\n",
       " 'ARHR': 0.0006147540983606558,\n",
       " 'Coverage': 0.9983606557377049,\n",
       " 'Diversity': 0.783347559859022,\n",
       " 'Novelty': 5771.718796250617}"
      ]
     },
     "execution_count": 38,
     "metadata": {},
     "output_type": "execute_result"
    }
   ],
   "source": [
    "# Looking into performance of KNNWithMeans and msd similarity.\n",
    "\n",
    "sim_options = {'name': 'msd', \n",
    "              'user_based': True, \n",
    "              'min_support': 3}\n",
    "\n",
    "cf_3 = KNNWithMeans(sim_options=sim_options)\n",
    "\n",
    "evaluate(cf_3, 'CF KNNWithMeans MSD')"
   ]
  },
  {
   "cell_type": "code",
   "execution_count": 118,
   "metadata": {
    "ExecuteTime": {
     "end_time": "2022-08-15T17:04:25.734772Z",
     "start_time": "2022-08-15T17:04:25.365726Z"
    }
   },
   "outputs": [
    {
     "name": "stdout",
     "output_type": "stream",
     "text": [
      "Computing the msd similarity matrix...\n",
      "Done computing similarity matrix.\n",
      "Computing recommendations...\n",
      "\n",
      "We recommend:\n",
      "Beautiful Thing (1996) 5\n",
      "I'm the One That I Want (2000) 5\n",
      "Under the Sand (2000) 5\n",
      "The Hundred-Foot Journey (2014) 5\n",
      "General, The (1926) 5\n",
      "Flickering Lights (Blinkende lygter) (2000) 5\n",
      "Hunger (2008) 5\n",
      "Three Billboards Outside Ebbing, Missouri (2017) 5\n",
      "Candleshoe (1977) 5\n",
      "Oxygen (1999) 5\n"
     ]
    }
   ],
   "source": [
    "SampleTopNRecs(cf_3, testSubject=439, k=10)"
   ]
  },
  {
   "cell_type": "code",
   "execution_count": 40,
   "metadata": {
    "ExecuteTime": {
     "end_time": "2022-08-13T22:47:06.099789Z",
     "start_time": "2022-08-13T22:34:58.166315Z"
    }
   },
   "outputs": [
    {
     "name": "stdout",
     "output_type": "stream",
     "text": [
      "Using SGD\n",
      "Estimating biases using sgd...\n",
      "Computing the cosine similarity matrix...\n",
      "Done computing similarity matrix.\n",
      "\n",
      "Evaluating accuracy of model...\n",
      "RMSE: 0.8812\n",
      "MAE:  0.6737\n",
      "Evaluating top-N with leave-one-out...\n",
      "Estimating biases using sgd...\n",
      "Computing the cosine similarity matrix...\n",
      "Done computing similarity matrix.\n",
      "Computing hit-rate and rank metrics...\n",
      "5.0 0.02608695652173913\n",
      "Computing recommendations with full data set...\n",
      "Estimating biases using sgd...\n",
      "Computing the cosine similarity matrix...\n",
      "Done computing similarity matrix.\n",
      "Analyzing coverage, diversity, and novelty...\n",
      "Computing the cosine similarity matrix...\n",
      "Done computing similarity matrix.\n",
      "Analysis complete.\n"
     ]
    },
    {
     "data": {
      "text/plain": [
       "{'RMSE': 0.8812027553304566,\n",
       " 'MAE': 0.6736965104629048,\n",
       " 'HR': 0.004918032786885246,\n",
       " 'cHR': 0.00911854103343465,\n",
       " 'ARHR': 0.004098360655737705,\n",
       " 'Coverage': 1.0,\n",
       " 'Diversity': 0.7870170461068473,\n",
       " 'Novelty': 6044.315919172006}"
      ]
     },
     "execution_count": 40,
     "metadata": {},
     "output_type": "execute_result"
    }
   ],
   "source": [
    "# Trying SGD\n",
    "\n",
    "print('Using SGD')\n",
    "bsl_options = {'method': 'sgd',\n",
    "               'learning_rate': 0.005,\n",
    "               'n_epochs': 20\n",
    "               }\n",
    "\n",
    "sim_options = {'name': 'cosine',\n",
    "               'user_based': True  \n",
    "               }\n",
    "\n",
    "cf_4 = KNNBaseline(bsl_options=bsl_options, sim_options = sim_options)\n",
    "evaluate(cf_4, 'CF_3 KNNBaseline')"
   ]
  },
  {
   "cell_type": "code",
   "execution_count": 119,
   "metadata": {
    "ExecuteTime": {
     "end_time": "2022-08-15T17:07:35.270640Z",
     "start_time": "2022-08-15T17:07:34.546765Z"
    },
    "scrolled": true
   },
   "outputs": [
    {
     "name": "stdout",
     "output_type": "stream",
     "text": [
      "Estimating biases using sgd...\n",
      "Computing the cosine similarity matrix...\n",
      "Done computing similarity matrix.\n",
      "Computing recommendations...\n",
      "\n",
      "We recommend:\n",
      "The Jinx: The Life and Deaths of Robert Durst (2015) 5\n",
      "Galaxy of Terror (Quest) (1981) 5\n",
      "Looker (1981) 5\n",
      "Android (1982) 5\n",
      "Alien Contamination (1980) 5\n",
      "Master of the Flying Guillotine (Du bi quan wang da po xue di zi) (1975) 5\n",
      "I'm the One That I Want (2000) 5\n",
      "Stanley Kubrick: A Life in Pictures (2001) 5\n",
      "Visitor, The (2007) 5\n",
      "Frozen River (2008) 5\n"
     ]
    }
   ],
   "source": [
    "SampleTopNRecs(cf_4, testSubject=439, k=10)"
   ]
  },
  {
   "cell_type": "markdown",
   "metadata": {},
   "source": [
    "### SVD"
   ]
  },
  {
   "cell_type": "code",
   "execution_count": 42,
   "metadata": {
    "ExecuteTime": {
     "end_time": "2022-08-13T22:47:06.774529Z",
     "start_time": "2022-08-13T22:47:06.772472Z"
    }
   },
   "outputs": [],
   "source": [
    "# importing relevant libraries\n",
    "from surprise.prediction_algorithms import SVD, SVDpp\n"
   ]
  },
  {
   "cell_type": "code",
   "execution_count": 43,
   "metadata": {
    "ExecuteTime": {
     "end_time": "2022-08-13T22:47:06.782791Z",
     "start_time": "2022-08-13T22:47:06.775992Z"
    }
   },
   "outputs": [
    {
     "name": "stdout",
     "output_type": "stream",
     "text": [
      "{'rmse': 0.8637117963111177, 'mae': 0.6625288018679476}\n",
      "{'rmse': {'n_factors': 100, 'lr_all': 0.01, 'n_epochs': 30, 'reg_all': 0.1}, 'mae': {'n_factors': 100, 'lr_all': 0.01, 'n_epochs': 30, 'reg_all': 0.1}}\n"
     ]
    }
   ],
   "source": [
    "## Perform a gridsearch with SVD\n",
    "\n",
    "if 'svd_gs.pkl' in os.listdir('Algorithms'):\n",
    "    with open('Algorithms/svd_gs.pkl', 'rb') as f: \n",
    "        svd_gs = joblib.load(f) \n",
    "    \n",
    "else:\n",
    "    params = {'n_factors': [20, 50, 100], \n",
    "             'lr_all': [0.005, 0.01], \n",
    "             'n_epochs': [20, 30], \n",
    "             'reg_all': [0.02, 0.05, 0.1]}\n",
    "    \n",
    "    svd_gs = GridSearchCV(SVD,param_grid=params,n_jobs=-1, cv=3)\n",
    "    svd_gs.fit(data)\n",
    "    \n",
    "    \n",
    "    with open('Algorithms/svd_gs.pkl', 'wb') as f:\n",
    "        joblib.dump(svd_gs, f)\n",
    "\n",
    "print(svd_gs.best_score)\n",
    "print(svd_gs.best_params)\n"
   ]
  },
  {
   "cell_type": "code",
   "execution_count": 44,
   "metadata": {
    "ExecuteTime": {
     "end_time": "2022-08-13T22:48:47.266539Z",
     "start_time": "2022-08-13T22:47:06.784373Z"
    },
    "scrolled": true
   },
   "outputs": [
    {
     "name": "stdout",
     "output_type": "stream",
     "text": [
      "\n",
      "Evaluating accuracy of model...\n",
      "RMSE: 0.8639\n",
      "MAE:  0.6615\n",
      "Evaluating top-N with leave-one-out...\n",
      "Computing hit-rate and rank metrics...\n",
      "3.5 0.018518518518518517\n",
      "5.0 0.043478260869565216\n",
      "Computing recommendations with full data set...\n",
      "Analyzing coverage, diversity, and novelty...\n",
      "Computing the cosine similarity matrix...\n",
      "Done computing similarity matrix.\n",
      "Analysis complete.\n"
     ]
    },
    {
     "data": {
      "text/plain": [
       "{'RMSE': 0.8639390503789307,\n",
       " 'MAE': 0.6614615539241103,\n",
       " 'HR': 0.009836065573770493,\n",
       " 'cHR': 0.015197568389057751,\n",
       " 'ARHR': 0.002670439760603695,\n",
       " 'Coverage': 0.9377049180327869,\n",
       " 'Diversity': 0.44332409414256335,\n",
       " 'Novelty': 2605.262497727686}"
      ]
     },
     "execution_count": 44,
     "metadata": {},
     "output_type": "execute_result"
    }
   ],
   "source": [
    "svd_2 = SVD(n_factors = 100, lr_all = 0.01, n_epochs = 30, reg_all = 0.1)\n",
    "\n",
    "evaluate(svd_2, 'SVD_2')"
   ]
  },
  {
   "cell_type": "code",
   "execution_count": 120,
   "metadata": {
    "ExecuteTime": {
     "end_time": "2022-08-15T17:56:46.346283Z",
     "start_time": "2022-08-15T17:56:39.116057Z"
    },
    "scrolled": true
   },
   "outputs": [
    {
     "name": "stdout",
     "output_type": "stream",
     "text": [
      "Computing recommendations...\n",
      "\n",
      "We recommend:\n",
      "Guess Who's Coming to Dinner (1967) 4.657774820926931\n",
      "Godfather, The (1972) 4.651168392731958\n",
      "Three Billboards Outside Ebbing, Missouri (2017) 4.648508853596789\n",
      "Neon Genesis Evangelion: The End of Evangelion (Shin seiki Evangelion GekijÃ´-ban: Air/Magokoro wo, kimi ni) (1997) 4.6217924864998805\n",
      "Streetcar Named Desire, A (1951) 4.600690137400254\n",
      "Gallipoli (1981) 4.585529704092382\n",
      "All That Heaven Allows (1955) 4.580076434584391\n",
      "Dr. Strangelove or: How I Learned to Stop Worrying and Love the Bomb (1964) 4.572278481276484\n",
      "Captain Fantastic (2016) 4.571739327746215\n",
      "Yojimbo (1961) 4.569895029018036\n"
     ]
    }
   ],
   "source": [
    "SampleTopNRecs(svd_2, testSubject=439, k=10)"
   ]
  },
  {
   "cell_type": "code",
   "execution_count": 50,
   "metadata": {
    "ExecuteTime": {
     "end_time": "2022-08-14T21:04:17.090246Z",
     "start_time": "2022-08-14T21:02:38.530902Z"
    },
    "scrolled": true
   },
   "outputs": [
    {
     "name": "stdout",
     "output_type": "stream",
     "text": [
      "\n",
      "Evaluating accuracy of model...\n",
      "RMSE: 0.8807\n",
      "MAE:  0.6752\n",
      "Evaluating top-N with leave-one-out...\n",
      "Computing hit-rate and rank metrics...\n",
      "2.0 0.029411764705882353\n",
      "2.5 0.045454545454545456\n",
      "3.0 0.015151515151515152\n",
      "3.5 0.018518518518518517\n",
      "4.0 0.011627906976744186\n",
      "4.5 0.047619047619047616\n",
      "5.0 0.08695652173913043\n",
      "Computing recommendations with full data set...\n",
      "Analyzing coverage, diversity, and novelty...\n",
      "Computing the cosine similarity matrix...\n",
      "Done computing similarity matrix.\n",
      "Analysis complete.\n"
     ]
    },
    {
     "data": {
      "text/plain": [
       "{'RMSE': 0.8806750857000041,\n",
       " 'MAE': 0.6751593982768432,\n",
       " 'HR': 0.03114754098360656,\n",
       " 'cHR': 0.0425531914893617,\n",
       " 'ARHR': 0.011357012750455373,\n",
       " 'Coverage': 0.9245901639344263,\n",
       " 'Diversity': 0.031900319933304444,\n",
       " 'Novelty': 505.7342618384401}"
      ]
     },
     "execution_count": 50,
     "metadata": {},
     "output_type": "execute_result"
    }
   ],
   "source": [
    "if 'svd_3.pkl' in os.listdir('Algorithms'):\n",
    "    with open('Algorithms/svd_3.pkl', 'rb') as f: \n",
    "        svd_3 = joblib.load(f) \n",
    "\n",
    "else:\n",
    "    svd_3 = SVD()\n",
    "    with open('Algorithms/svd_3.pkl', 'wb') as f:\n",
    "        joblib.dump(svd_3, f)\n",
    "\n",
    "evaluate(svd_3, 'SVD_3')"
   ]
  },
  {
   "cell_type": "code",
   "execution_count": 121,
   "metadata": {
    "ExecuteTime": {
     "end_time": "2022-08-15T18:08:12.038373Z",
     "start_time": "2022-08-15T18:08:04.889978Z"
    }
   },
   "outputs": [
    {
     "name": "stdout",
     "output_type": "stream",
     "text": [
      "Computing recommendations...\n",
      "\n",
      "We recommend:\n",
      "Guess Who's Coming to Dinner (1967) 4.745014407216442\n",
      "Three Billboards Outside Ebbing, Missouri (2017) 4.720015191777461\n",
      "Paths of Glory (1957) 4.6446103691319545\n",
      "Streetcar Named Desire, A (1951) 4.61991819185824\n",
      "Godfather, The (1972) 4.612015465383254\n",
      "Secrets & Lies (1996) 4.606239144936886\n",
      "Adam's Rib (1949) 4.584542526932856\n",
      "Trial, The (ProcÃ¨s, Le) (1962) 4.582209866985488\n",
      "Neon Genesis Evangelion: The End of Evangelion (Shin seiki Evangelion GekijÃ´-ban: Air/Magokoro wo, kimi ni) (1997) 4.577752288908924\n",
      "Five Easy Pieces (1970) 4.56212527326592\n"
     ]
    }
   ],
   "source": [
    "SampleTopNRecs(svd_2, testSubject=439, k=10)"
   ]
  },
  {
   "cell_type": "markdown",
   "metadata": {},
   "source": [
    "#### SVD++"
   ]
  },
  {
   "cell_type": "code",
   "execution_count": 46,
   "metadata": {
    "ExecuteTime": {
     "end_time": "2022-08-13T22:48:53.992865Z",
     "start_time": "2022-08-13T22:48:53.990285Z"
    }
   },
   "outputs": [],
   "source": [
    "from surprise.model_selection import RandomizedSearchCV"
   ]
  },
  {
   "cell_type": "code",
   "execution_count": 47,
   "metadata": {
    "ExecuteTime": {
     "end_time": "2022-08-14T19:39:23.677445Z",
     "start_time": "2022-08-13T22:48:53.994235Z"
    }
   },
   "outputs": [
    {
     "name": "stdout",
     "output_type": "stream",
     "text": [
      "{'rmse': 0.9527117079363174, 'mae': 0.7249903295369508}\n",
      "{'rmse': {'n_factors': 50, 'lr_all': 0.01, 'n_epochs': 30, 'reg_all': 0.1, 'init_mean': 0, 'init_std_dev': 0.7}, 'mae': {'n_factors': 50, 'lr_all': 0.01, 'n_epochs': 30, 'reg_all': 0.1, 'init_mean': 0, 'init_std_dev': 0.7}}\n"
     ]
    }
   ],
   "source": [
    "## Perform a Randomsearch with SVD++\n",
    "\n",
    "if 'svdpp_rs.pkl' in os.listdir('Algorithms'):\n",
    "    with open('Algorithms/svdpp_rs.pkl', 'rb') as f: \n",
    "        svdpp_rs = joblib.load(f) \n",
    "\n",
    "else:\n",
    "    params = {'n_factors': [20, 50, 100], \n",
    "              'lr_all': [0.005, 0.01, 0.1], \n",
    "              'n_epochs': [20, 30, 50], \n",
    "              'reg_all': [0.02, 0.05, 0.1], \n",
    "              'init_mean': [0, 1, 2, 3], \n",
    "              'init_std_dev': [0.1, 0.5, 0.7]}\n",
    "\n",
    "    svdpp_rs = RandomizedSearchCV(SVDpp, param_distributions = params, n_jobs=-1, cv=3, random_state = 13)\n",
    "    svdpp_rs.fit(data)\n",
    "\n",
    "    with open('Algorithms/svdpp_rs.pkl', 'wb') as f:\n",
    "        joblib.dump(svdpp_rs, f)\n",
    "        \n",
    "print(svdpp_rs.best_score)\n",
    "print(svdpp_rs.best_params)"
   ]
  },
  {
   "cell_type": "code",
   "execution_count": 48,
   "metadata": {
    "ExecuteTime": {
     "end_time": "2022-08-14T19:41:02.635455Z",
     "start_time": "2022-08-14T19:39:23.680249Z"
    }
   },
   "outputs": [
    {
     "name": "stdout",
     "output_type": "stream",
     "text": [
      "\n",
      "Evaluating accuracy of model...\n",
      "RMSE: 0.9341\n",
      "MAE:  0.7106\n",
      "Evaluating top-N with leave-one-out...\n",
      "Computing hit-rate and rank metrics...\n",
      "4.0 0.005813953488372093\n",
      "Computing recommendations with full data set...\n",
      "Analyzing coverage, diversity, and novelty...\n",
      "Computing the cosine similarity matrix...\n",
      "Done computing similarity matrix.\n",
      "Analysis complete.\n"
     ]
    },
    {
     "data": {
      "text/plain": [
       "{'RMSE': 0.9341099643158288,\n",
       " 'MAE': 0.7106229455600782,\n",
       " 'HR': 0.001639344262295082,\n",
       " 'cHR': 0.00303951367781155,\n",
       " 'ARHR': 0.0003278688524590164,\n",
       " 'Coverage': 0.9983606557377049,\n",
       " 'Diversity': 0.5341586677110977,\n",
       " 'Novelty': 3319.000494315373}"
      ]
     },
     "execution_count": 48,
     "metadata": {},
     "output_type": "execute_result"
    }
   ],
   "source": [
    "params = svdpp_rs.best_params['rmse']\n",
    "svdpp = SVD(n_factors=params['n_factors'], lr_all=params['lr_all'], n_epochs=params['n_epochs'], \\\n",
    "            reg_all=params['reg_all'], init_mean = params['init_mean'], init_std_dev = params['init_std_dev'])\n",
    "\n",
    "evaluate(svdpp, 'SVD++')"
   ]
  },
  {
   "cell_type": "code",
   "execution_count": 122,
   "metadata": {
    "ExecuteTime": {
     "end_time": "2022-08-15T18:13:47.828105Z",
     "start_time": "2022-08-15T18:13:43.438877Z"
    }
   },
   "outputs": [
    {
     "name": "stdout",
     "output_type": "stream",
     "text": [
      "Computing recommendations...\n",
      "\n",
      "We recommend:\n",
      "Blown Away (1994) 5\n",
      "Adventures of Robin Hood, The (1938) 5\n",
      "Winnie the Pooh and the Blustery Day (1968) 5\n",
      "Sword in the Stone, The (1963) 5\n",
      "Bedknobs and Broomsticks (1971) 5\n",
      "Fantasia (1940) 5\n",
      "Kiss the Girls (1997) 5\n",
      "Welcome to Woop-Woop (1997) 5\n",
      "All Quiet on the Western Front (1930) 5\n",
      "Jungle Book, The (1967) 5\n"
     ]
    }
   ],
   "source": [
    "SampleTopNRecs(svdpp, testSubject=439, k=10)"
   ]
  },
  {
   "cell_type": "code",
   "execution_count": 54,
   "metadata": {
    "ExecuteTime": {
     "end_time": "2022-08-15T05:01:25.534152Z",
     "start_time": "2022-08-15T04:09:48.872018Z"
    }
   },
   "outputs": [
    {
     "name": "stdout",
     "output_type": "stream",
     "text": [
      "\n",
      "Evaluating accuracy of model...\n",
      "RMSE: 0.8682\n",
      "MAE:  0.6641\n",
      "Evaluating top-N with leave-one-out...\n",
      "Computing hit-rate and rank metrics...\n",
      "2.0 0.029411764705882353\n",
      "2.5 0.045454545454545456\n",
      "3.0 0.015151515151515152\n",
      "3.5 0.018518518518518517\n",
      "4.0 0.005813953488372093\n",
      "4.5 0.07142857142857142\n",
      "5.0 0.08695652173913043\n",
      "Computing recommendations with full data set...\n",
      "Analyzing coverage, diversity, and novelty...\n",
      "Computing the cosine similarity matrix...\n",
      "Done computing similarity matrix.\n",
      "Analysis complete.\n"
     ]
    },
    {
     "data": {
      "text/plain": [
       "{'RMSE': 0.8681853914083167,\n",
       " 'MAE': 0.6640591715627461,\n",
       " 'HR': 0.03114754098360656,\n",
       " 'cHR': 0.0425531914893617,\n",
       " 'ARHR': 0.013036690085870413,\n",
       " 'Coverage': 0.9147540983606557,\n",
       " 'Diversity': 0.07063896593707153,\n",
       " 'Novelty': 875.9580485952923}"
      ]
     },
     "execution_count": 54,
     "metadata": {},
     "output_type": "execute_result"
    }
   ],
   "source": [
    "if 'svdpp_2.pkl' in os.listdir('Algorithms'):\n",
    "    with open('Algorithms/svdpp_2.pkl', 'rb') as f: \n",
    "        svdpp_2 = joblib.load(f) \n",
    "\n",
    "else:\n",
    "    svdpp_2 = SVDpp()\n",
    "    with open('Algorithms/svdpp_2.pkl', 'wb') as f:\n",
    "        joblib.dump(svdpp_2, f)\n",
    "\n",
    "evaluate(svdpp_2, 'SVDpp_2')"
   ]
  },
  {
   "cell_type": "code",
   "execution_count": 89,
   "metadata": {
    "ExecuteTime": {
     "end_time": "2022-08-15T15:11:47.580696Z",
     "start_time": "2022-08-15T07:05:05.702812Z"
    }
   },
   "outputs": [
    {
     "name": "stdout",
     "output_type": "stream",
     "text": [
      "Computing recommendations...\n",
      "\n",
      "We recommend:\n",
      "Streetcar Named Desire, A (1951) 4.548908044586783\n",
      "12 Angry Men (1957) 4.5399802872258395\n",
      "Ran (1985) 4.515392734559682\n",
      "Three Billboards Outside Ebbing, Missouri (2017) 4.514355757991221\n",
      "Grand Day Out with Wallace and Gromit, A (1989) 4.50861699618624\n",
      "Departed, The (2006) 4.501026716157305\n",
      "High Noon (1952) 4.4935906701537105\n",
      "Seventh Seal, The (Sjunde inseglet, Det) (1957) 4.475112667114752\n",
      "Secrets & Lies (1996) 4.46415371255078\n",
      "Dr. Strangelove or: How I Learned to Stop Worrying and Love the Bomb (1964) 4.4632009805588275\n"
     ]
    }
   ],
   "source": [
    "SampleTopNRecs(svdpp_2, testSubject=439, k=10)"
   ]
  },
  {
   "cell_type": "markdown",
   "metadata": {},
   "source": [
    "## Conclusion "
   ]
  },
  {
   "cell_type": "code",
   "execution_count": null,
   "metadata": {},
   "outputs": [],
   "source": []
  }
 ],
 "metadata": {
  "hide_input": false,
  "kernelspec": {
   "display_name": "Python (learn-env)",
   "language": "python",
   "name": "learn-env"
  },
  "language_info": {
   "codemirror_mode": {
    "name": "ipython",
    "version": 3
   },
   "file_extension": ".py",
   "mimetype": "text/x-python",
   "name": "python",
   "nbconvert_exporter": "python",
   "pygments_lexer": "ipython3",
   "version": "3.8.5"
  },
  "toc": {
   "base_numbering": 1,
   "nav_menu": {},
   "number_sections": true,
   "sideBar": true,
   "skip_h1_title": true,
   "title_cell": "Table of Contents",
   "title_sidebar": "Contents",
   "toc_cell": false,
   "toc_position": {},
   "toc_section_display": true,
   "toc_window_display": true
  },
  "varInspector": {
   "cols": {
    "lenName": 16,
    "lenType": 16,
    "lenVar": 40
   },
   "kernels_config": {
    "python": {
     "delete_cmd_postfix": "",
     "delete_cmd_prefix": "del ",
     "library": "var_list.py",
     "varRefreshCmd": "print(var_dic_list())"
    },
    "r": {
     "delete_cmd_postfix": ") ",
     "delete_cmd_prefix": "rm(",
     "library": "var_list.r",
     "varRefreshCmd": "cat(var_dic_list()) "
    }
   },
   "types_to_exclude": [
    "module",
    "function",
    "builtin_function_or_method",
    "instance",
    "_Feature"
   ],
   "window_display": false
  }
 },
 "nbformat": 4,
 "nbformat_minor": 4
}
